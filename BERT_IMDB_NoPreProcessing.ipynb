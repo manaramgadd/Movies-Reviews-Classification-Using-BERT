{
  "cells": [
    {
      "cell_type": "markdown",
      "metadata": {
        "id": "-PlG9tCIodFd"
      },
      "source": [
        "#Imports"
      ]
    },
    {
      "cell_type": "code",
      "execution_count": 2,
      "metadata": {
        "colab": {
          "base_uri": "https://localhost:8080/"
        },
        "id": "FXDBVHUzWA7Y",
        "outputId": "85394aa2-5a0d-450b-8f3c-ff0172f02b86"
      },
      "outputs": [
        {
          "output_type": "stream",
          "name": "stderr",
          "text": [
            "[nltk_data] Downloading package punkt to /root/nltk_data...\n",
            "[nltk_data]   Unzipping tokenizers/punkt.zip.\n",
            "[nltk_data] Downloading package wordnet to /root/nltk_data...\n",
            "[nltk_data] Downloading package omw-1.4 to /root/nltk_data...\n",
            "[nltk_data] Downloading package stopwords to /root/nltk_data...\n",
            "[nltk_data]   Unzipping corpora/stopwords.zip.\n"
          ]
        },
        {
          "output_type": "stream",
          "name": "stdout",
          "text": [
            "Looking in indexes: https://pypi.org/simple, https://us-python.pkg.dev/colab-wheels/public/simple/\n",
            "Collecting transformers\n",
            "  Downloading transformers-4.26.0-py3-none-any.whl (6.3 MB)\n",
            "\u001b[2K     \u001b[90m━━━━━━━━━━━━━━━━━━━━━━━━━━━━━━━━━━━━━━━━\u001b[0m \u001b[32m6.3/6.3 MB\u001b[0m \u001b[31m10.3 MB/s\u001b[0m eta \u001b[36m0:00:00\u001b[0m\n",
            "\u001b[?25hRequirement already satisfied: numpy>=1.17 in /usr/local/lib/python3.8/dist-packages (from transformers) (1.21.6)\n",
            "Requirement already satisfied: requests in /usr/local/lib/python3.8/dist-packages (from transformers) (2.25.1)\n",
            "Requirement already satisfied: tqdm>=4.27 in /usr/local/lib/python3.8/dist-packages (from transformers) (4.64.1)\n",
            "Collecting huggingface-hub<1.0,>=0.11.0\n",
            "  Downloading huggingface_hub-0.12.0-py3-none-any.whl (190 kB)\n",
            "\u001b[2K     \u001b[90m━━━━━━━━━━━━━━━━━━━━━━━━━━━━━━━━━━━━━━━\u001b[0m \u001b[32m190.3/190.3 KB\u001b[0m \u001b[31m5.2 MB/s\u001b[0m eta \u001b[36m0:00:00\u001b[0m\n",
            "\u001b[?25hRequirement already satisfied: pyyaml>=5.1 in /usr/local/lib/python3.8/dist-packages (from transformers) (6.0)\n",
            "Requirement already satisfied: filelock in /usr/local/lib/python3.8/dist-packages (from transformers) (3.9.0)\n",
            "Collecting tokenizers!=0.11.3,<0.14,>=0.11.1\n",
            "  Downloading tokenizers-0.13.2-cp38-cp38-manylinux_2_17_x86_64.manylinux2014_x86_64.whl (7.6 MB)\n",
            "\u001b[2K     \u001b[90m━━━━━━━━━━━━━━━━━━━━━━━━━━━━━━━━━━━━━━━━\u001b[0m \u001b[32m7.6/7.6 MB\u001b[0m \u001b[31m8.3 MB/s\u001b[0m eta \u001b[36m0:00:00\u001b[0m\n",
            "\u001b[?25hRequirement already satisfied: packaging>=20.0 in /usr/local/lib/python3.8/dist-packages (from transformers) (21.3)\n",
            "Requirement already satisfied: regex!=2019.12.17 in /usr/local/lib/python3.8/dist-packages (from transformers) (2022.6.2)\n",
            "Requirement already satisfied: typing-extensions>=3.7.4.3 in /usr/local/lib/python3.8/dist-packages (from huggingface-hub<1.0,>=0.11.0->transformers) (4.4.0)\n",
            "Requirement already satisfied: pyparsing!=3.0.5,>=2.0.2 in /usr/local/lib/python3.8/dist-packages (from packaging>=20.0->transformers) (3.0.9)\n",
            "Requirement already satisfied: idna<3,>=2.5 in /usr/local/lib/python3.8/dist-packages (from requests->transformers) (2.10)\n",
            "Requirement already satisfied: urllib3<1.27,>=1.21.1 in /usr/local/lib/python3.8/dist-packages (from requests->transformers) (1.24.3)\n",
            "Requirement already satisfied: certifi>=2017.4.17 in /usr/local/lib/python3.8/dist-packages (from requests->transformers) (2022.12.7)\n",
            "Requirement already satisfied: chardet<5,>=3.0.2 in /usr/local/lib/python3.8/dist-packages (from requests->transformers) (4.0.0)\n",
            "Installing collected packages: tokenizers, huggingface-hub, transformers\n",
            "Successfully installed huggingface-hub-0.12.0 tokenizers-0.13.2 transformers-4.26.0\n"
          ]
        }
      ],
      "source": [
        "import torch\n",
        "import torch.nn as nn\n",
        "# plot the accuracy heatmap\n",
        "import seaborn as sns\n",
        "import matplotlib.pyplot as plt\n",
        "import torch.nn.functional as F\n",
        "# add pd to the path\n",
        "import sys\n",
        "# import pandas\n",
        "import pandas as pd\n",
        "import numpy as np\n",
        "from sklearn.preprocessing import StandardScaler\n",
        "from sklearn.model_selection import train_test_split\n",
        "import pandas as pd\n",
        "import numpy as np\n",
        "from sklearn.model_selection import StratifiedKFold\n",
        "from sklearn.model_selection import GridSearchCV\n",
        "from sklearn.model_selection import train_test_split\n",
        "from sklearn.model_selection import cross_val_score\n",
        "from sklearn.metrics import  ConfusionMatrixDisplay,confusion_matrix\n",
        "import sklearn.metrics as metrics\n",
        "\n",
        "import matplotlib.pyplot as plt\n",
        "from google.colab import files\n",
        "import io\n",
        "import nltk\n",
        "nltk.download('punkt')\n",
        "nltk.download('wordnet')\n",
        "nltk.download('omw-1.4')\n",
        "nltk.download('stopwords')\n",
        "from nltk.tokenize import word_tokenize\n",
        "from nltk.tokenize import wordpunct_tokenize\n",
        "import re\n",
        "from pandas import Series,DataFrame\n",
        "from nltk.stem import WordNetLemmatizer\n",
        "from nltk.corpus import stopwords\n",
        "!pip install transformers\n",
        "from transformers import BertTokenizer\n",
        "from transformers import BertModel\n",
        "from torch.optim import Adam\n",
        "from tqdm import tqdm\n"
      ]
    },
    {
      "cell_type": "code",
      "execution_count": null,
      "metadata": {
        "colab": {
          "base_uri": "https://localhost:8080/"
        },
        "id": "YukMW4tAaQRj",
        "outputId": "3b139680-f66c-47e1-ad91-7b6d9c7e6d13"
      },
      "outputs": [
        {
          "output_type": "stream",
          "name": "stdout",
          "text": [
            "GPU 0: Tesla T4 (UUID: GPU-1f2bdea0-c9a3-0844-a509-497294be2301)\n"
          ]
        }
      ],
      "source": [
        "!nvidia-smi -L\n",
        " "
      ]
    },
    {
      "cell_type": "code",
      "execution_count": null,
      "metadata": {
        "colab": {
          "base_uri": "https://localhost:8080/"
        },
        "id": "cZAN0OgQcA97",
        "outputId": "f6271b55-51c9-4ed9-9359-5ee41508aa8d"
      },
      "outputs": [
        {
          "output_type": "stream",
          "name": "stdout",
          "text": [
            "GPU 0: Tesla T4 (UUID: GPU-1f2bdea0-c9a3-0844-a509-497294be2301)\n"
          ]
        }
      ],
      "source": [
        "!nvidia-smi -L\n"
      ]
    },
    {
      "cell_type": "code",
      "execution_count": null,
      "metadata": {
        "colab": {
          "base_uri": "https://localhost:8080/"
        },
        "id": "30u7B6OAXQEN",
        "outputId": "1bae3ff7-90a7-4eea-c2b6-c66272fb2b75"
      },
      "outputs": [
        {
          "output_type": "stream",
          "name": "stdout",
          "text": [
            "Wed Jan 25 16:58:26 2023       \n",
            "+-----------------------------------------------------------------------------+\n",
            "| NVIDIA-SMI 510.47.03    Driver Version: 510.47.03    CUDA Version: 11.6     |\n",
            "|-------------------------------+----------------------+----------------------+\n",
            "| GPU  Name        Persistence-M| Bus-Id        Disp.A | Volatile Uncorr. ECC |\n",
            "| Fan  Temp  Perf  Pwr:Usage/Cap|         Memory-Usage | GPU-Util  Compute M. |\n",
            "|                               |                      |               MIG M. |\n",
            "|===============================+======================+======================|\n",
            "|   0  Tesla T4            Off  | 00000000:00:04.0 Off |                    0 |\n",
            "| N/A   44C    P0    24W /  70W |      0MiB / 15360MiB |      0%      Default |\n",
            "|                               |                      |                  N/A |\n",
            "+-------------------------------+----------------------+----------------------+\n",
            "                                                                               \n",
            "+-----------------------------------------------------------------------------+\n",
            "| Processes:                                                                  |\n",
            "|  GPU   GI   CI        PID   Type   Process name                  GPU Memory |\n",
            "|        ID   ID                                                   Usage      |\n",
            "|=============================================================================|\n",
            "|  No running processes found                                                 |\n",
            "+-----------------------------------------------------------------------------+\n"
          ]
        }
      ],
      "source": [
        " !nvidia-smi"
      ]
    },
    {
      "cell_type": "code",
      "execution_count": null,
      "metadata": {
        "colab": {
          "base_uri": "https://localhost:8080/"
        },
        "id": "kador0oQYKVA",
        "outputId": "71453073-2817-4eb2-f3f2-b848bf59089a"
      },
      "outputs": [
        {
          "output_type": "stream",
          "name": "stdout",
          "text": [
            "Failed to initialize NVML: Driver/library version mismatch\n"
          ]
        }
      ],
      "source": [
        "!sudo nvidia-smi -pm 1 \n"
      ]
    },
    {
      "cell_type": "code",
      "execution_count": null,
      "metadata": {
        "id": "8Nm3D6BiY2ok"
      },
      "outputs": [],
      "source": [
        "# !pip install numba\n",
        "\n",
        "# from numba import cuda \n",
        "# device = cuda.get_current_device()\n",
        "# device.reset()"
      ]
    },
    {
      "cell_type": "markdown",
      "metadata": {
        "id": "HTVnwGMwojT0"
      },
      "source": [
        "#Data Loading"
      ]
    },
    {
      "cell_type": "code",
      "execution_count": null,
      "metadata": {
        "colab": {
          "base_uri": "https://localhost:8080/"
        },
        "id": "Le7VOzPLSM8Q",
        "outputId": "c7869abf-4ec5-46d8-f85e-28e3b19a5694"
      },
      "outputs": [
        {
          "output_type": "stream",
          "name": "stdout",
          "text": [
            "Mounted at /content/drive\n"
          ]
        }
      ],
      "source": [
        "# mount drive from google drive to colab using https://drive.google.com/file/d/1zbCL7aktBqAgndgkvinI27XntHxfoGHn/view?usp=share_link\n",
        "from google.colab import drive\n",
        "drive.mount('/content/drive')\n",
        "# read data from google drive\n",
        "import pandas as pd\n",
        "read_data = pd.read_csv('/content/drive/My Drive/IMDB Dataset.csv')\n"
      ]
    },
    {
      "cell_type": "code",
      "execution_count": null,
      "metadata": {
        "colab": {
          "base_uri": "https://localhost:8080/",
          "height": 227
        },
        "id": "rj4rhkszTfPg",
        "outputId": "0c62fe2f-fb1f-467a-9645-8a4fa0f9c427"
      },
      "outputs": [
        {
          "output_type": "stream",
          "name": "stdout",
          "text": [
            "positive    25000\n",
            "negative    25000\n",
            "Name: sentiment, dtype: int64\n"
          ]
        },
        {
          "output_type": "execute_result",
          "data": {
            "text/plain": [
              "                                                   review sentiment\n",
              "count                                               50000     50000\n",
              "unique                                              49582         2\n",
              "top     Loved today's show!!! It was a variety and not...  positive\n",
              "freq                                                    5     25000"
            ],
            "text/html": [
              "\n",
              "  <div id=\"df-223111a1-7a14-4dc5-9247-f876cb1e3aad\">\n",
              "    <div class=\"colab-df-container\">\n",
              "      <div>\n",
              "<style scoped>\n",
              "    .dataframe tbody tr th:only-of-type {\n",
              "        vertical-align: middle;\n",
              "    }\n",
              "\n",
              "    .dataframe tbody tr th {\n",
              "        vertical-align: top;\n",
              "    }\n",
              "\n",
              "    .dataframe thead th {\n",
              "        text-align: right;\n",
              "    }\n",
              "</style>\n",
              "<table border=\"1\" class=\"dataframe\">\n",
              "  <thead>\n",
              "    <tr style=\"text-align: right;\">\n",
              "      <th></th>\n",
              "      <th>review</th>\n",
              "      <th>sentiment</th>\n",
              "    </tr>\n",
              "  </thead>\n",
              "  <tbody>\n",
              "    <tr>\n",
              "      <th>count</th>\n",
              "      <td>50000</td>\n",
              "      <td>50000</td>\n",
              "    </tr>\n",
              "    <tr>\n",
              "      <th>unique</th>\n",
              "      <td>49582</td>\n",
              "      <td>2</td>\n",
              "    </tr>\n",
              "    <tr>\n",
              "      <th>top</th>\n",
              "      <td>Loved today's show!!! It was a variety and not...</td>\n",
              "      <td>positive</td>\n",
              "    </tr>\n",
              "    <tr>\n",
              "      <th>freq</th>\n",
              "      <td>5</td>\n",
              "      <td>25000</td>\n",
              "    </tr>\n",
              "  </tbody>\n",
              "</table>\n",
              "</div>\n",
              "      <button class=\"colab-df-convert\" onclick=\"convertToInteractive('df-223111a1-7a14-4dc5-9247-f876cb1e3aad')\"\n",
              "              title=\"Convert this dataframe to an interactive table.\"\n",
              "              style=\"display:none;\">\n",
              "        \n",
              "  <svg xmlns=\"http://www.w3.org/2000/svg\" height=\"24px\"viewBox=\"0 0 24 24\"\n",
              "       width=\"24px\">\n",
              "    <path d=\"M0 0h24v24H0V0z\" fill=\"none\"/>\n",
              "    <path d=\"M18.56 5.44l.94 2.06.94-2.06 2.06-.94-2.06-.94-.94-2.06-.94 2.06-2.06.94zm-11 1L8.5 8.5l.94-2.06 2.06-.94-2.06-.94L8.5 2.5l-.94 2.06-2.06.94zm10 10l.94 2.06.94-2.06 2.06-.94-2.06-.94-.94-2.06-.94 2.06-2.06.94z\"/><path d=\"M17.41 7.96l-1.37-1.37c-.4-.4-.92-.59-1.43-.59-.52 0-1.04.2-1.43.59L10.3 9.45l-7.72 7.72c-.78.78-.78 2.05 0 2.83L4 21.41c.39.39.9.59 1.41.59.51 0 1.02-.2 1.41-.59l7.78-7.78 2.81-2.81c.8-.78.8-2.07 0-2.86zM5.41 20L4 18.59l7.72-7.72 1.47 1.35L5.41 20z\"/>\n",
              "  </svg>\n",
              "      </button>\n",
              "      \n",
              "  <style>\n",
              "    .colab-df-container {\n",
              "      display:flex;\n",
              "      flex-wrap:wrap;\n",
              "      gap: 12px;\n",
              "    }\n",
              "\n",
              "    .colab-df-convert {\n",
              "      background-color: #E8F0FE;\n",
              "      border: none;\n",
              "      border-radius: 50%;\n",
              "      cursor: pointer;\n",
              "      display: none;\n",
              "      fill: #1967D2;\n",
              "      height: 32px;\n",
              "      padding: 0 0 0 0;\n",
              "      width: 32px;\n",
              "    }\n",
              "\n",
              "    .colab-df-convert:hover {\n",
              "      background-color: #E2EBFA;\n",
              "      box-shadow: 0px 1px 2px rgba(60, 64, 67, 0.3), 0px 1px 3px 1px rgba(60, 64, 67, 0.15);\n",
              "      fill: #174EA6;\n",
              "    }\n",
              "\n",
              "    [theme=dark] .colab-df-convert {\n",
              "      background-color: #3B4455;\n",
              "      fill: #D2E3FC;\n",
              "    }\n",
              "\n",
              "    [theme=dark] .colab-df-convert:hover {\n",
              "      background-color: #434B5C;\n",
              "      box-shadow: 0px 1px 3px 1px rgba(0, 0, 0, 0.15);\n",
              "      filter: drop-shadow(0px 1px 2px rgba(0, 0, 0, 0.3));\n",
              "      fill: #FFFFFF;\n",
              "    }\n",
              "  </style>\n",
              "\n",
              "      <script>\n",
              "        const buttonEl =\n",
              "          document.querySelector('#df-223111a1-7a14-4dc5-9247-f876cb1e3aad button.colab-df-convert');\n",
              "        buttonEl.style.display =\n",
              "          google.colab.kernel.accessAllowed ? 'block' : 'none';\n",
              "\n",
              "        async function convertToInteractive(key) {\n",
              "          const element = document.querySelector('#df-223111a1-7a14-4dc5-9247-f876cb1e3aad');\n",
              "          const dataTable =\n",
              "            await google.colab.kernel.invokeFunction('convertToInteractive',\n",
              "                                                     [key], {});\n",
              "          if (!dataTable) return;\n",
              "\n",
              "          const docLinkHtml = 'Like what you see? Visit the ' +\n",
              "            '<a target=\"_blank\" href=https://colab.research.google.com/notebooks/data_table.ipynb>data table notebook</a>'\n",
              "            + ' to learn more about interactive tables.';\n",
              "          element.innerHTML = '';\n",
              "          dataTable['output_type'] = 'display_data';\n",
              "          await google.colab.output.renderOutput(dataTable, element);\n",
              "          const docLink = document.createElement('div');\n",
              "          docLink.innerHTML = docLinkHtml;\n",
              "          element.appendChild(docLink);\n",
              "        }\n",
              "      </script>\n",
              "    </div>\n",
              "  </div>\n",
              "  "
            ]
          },
          "metadata": {},
          "execution_count": 15
        }
      ],
      "source": [
        "read_data['sentiment'].value_counts()\n",
        "# print the number of instances of each class\n",
        "print(read_data['sentiment'].value_counts())\n",
        "read_data.describe()"
      ]
    },
    {
      "cell_type": "code",
      "execution_count": null,
      "metadata": {
        "id": "y1mf1NhCiXzK"
      },
      "outputs": [],
      "source": [
        "read_data.dropna(axis = 0, how = 'any', inplace = True)\n",
        "read_data.to_csv('IMDB Dataset_parsed.csv', index = False)"
      ]
    },
    {
      "cell_type": "code",
      "execution_count": null,
      "metadata": {
        "colab": {
          "base_uri": "https://localhost:8080/",
          "height": 330
        },
        "id": "mCFOLIAPtEpq",
        "outputId": "214bc9a2-a135-4771-d551-d82627084ce0"
      },
      "outputs": [
        {
          "output_type": "execute_result",
          "data": {
            "text/plain": [
              "<matplotlib.axes._subplots.AxesSubplot at 0x7f25e3e76040>"
            ]
          },
          "metadata": {},
          "execution_count": 17
        },
        {
          "output_type": "display_data",
          "data": {
            "text/plain": [
              "<Figure size 432x288 with 1 Axes>"
            ],
            "image/png": "[encoded data removed]"
          },
          "metadata": {
            "needs_background": "light"
          }
        }
      ],
      "source": [
        "read_data.groupby(['sentiment']).size().plot.bar()"
      ]
    },
    {
      "cell_type": "markdown",
      "metadata": {
        "id": "j8Yc8jTDopwF"
      },
      "source": [
        "#Balancing dataset"
      ]
    },
    {
      "cell_type": "code",
      "execution_count": null,
      "metadata": {
        "colab": {
          "base_uri": "https://localhost:8080/",
          "height": 227
        },
        "id": "8zXZPUuGTsq1",
        "outputId": "13bd5146-388b-480e-e3a0-12229dc35fde"
      },
      "outputs": [
        {
          "output_type": "stream",
          "name": "stdout",
          "text": [
            "positive    25000\n",
            "negative    25000\n",
            "Name: sentiment, dtype: int64\n"
          ]
        },
        {
          "output_type": "execute_result",
          "data": {
            "text/plain": [
              "                                                   review sentiment\n",
              "count                                               50000     50000\n",
              "unique                                              49582         2\n",
              "top     Loved today's show!!! It was a variety and not...  positive\n",
              "freq                                                    5     25000"
            ],
            "text/html": [
              "\n",
              "  <div id=\"df-586df41d-3849-4163-9e21-6c046ac45808\">\n",
              "    <div class=\"colab-df-container\">\n",
              "      <div>\n",
              "<style scoped>\n",
              "    .dataframe tbody tr th:only-of-type {\n",
              "        vertical-align: middle;\n",
              "    }\n",
              "\n",
              "    .dataframe tbody tr th {\n",
              "        vertical-align: top;\n",
              "    }\n",
              "\n",
              "    .dataframe thead th {\n",
              "        text-align: right;\n",
              "    }\n",
              "</style>\n",
              "<table border=\"1\" class=\"dataframe\">\n",
              "  <thead>\n",
              "    <tr style=\"text-align: right;\">\n",
              "      <th></th>\n",
              "      <th>review</th>\n",
              "      <th>sentiment</th>\n",
              "    </tr>\n",
              "  </thead>\n",
              "  <tbody>\n",
              "    <tr>\n",
              "      <th>count</th>\n",
              "      <td>50000</td>\n",
              "      <td>50000</td>\n",
              "    </tr>\n",
              "    <tr>\n",
              "      <th>unique</th>\n",
              "      <td>49582</td>\n",
              "      <td>2</td>\n",
              "    </tr>\n",
              "    <tr>\n",
              "      <th>top</th>\n",
              "      <td>Loved today's show!!! It was a variety and not...</td>\n",
              "      <td>positive</td>\n",
              "    </tr>\n",
              "    <tr>\n",
              "      <th>freq</th>\n",
              "      <td>5</td>\n",
              "      <td>25000</td>\n",
              "    </tr>\n",
              "  </tbody>\n",
              "</table>\n",
              "</div>\n",
              "      <button class=\"colab-df-convert\" onclick=\"convertToInteractive('df-586df41d-3849-4163-9e21-6c046ac45808')\"\n",
              "              title=\"Convert this dataframe to an interactive table.\"\n",
              "              style=\"display:none;\">\n",
              "        \n",
              "  <svg xmlns=\"http://www.w3.org/2000/svg\" height=\"24px\"viewBox=\"0 0 24 24\"\n",
              "       width=\"24px\">\n",
              "    <path d=\"M0 0h24v24H0V0z\" fill=\"none\"/>\n",
              "    <path d=\"M18.56 5.44l.94 2.06.94-2.06 2.06-.94-2.06-.94-.94-2.06-.94 2.06-2.06.94zm-11 1L8.5 8.5l.94-2.06 2.06-.94-2.06-.94L8.5 2.5l-.94 2.06-2.06.94zm10 10l.94 2.06.94-2.06 2.06-.94-2.06-.94-.94-2.06-.94 2.06-2.06.94z\"/><path d=\"M17.41 7.96l-1.37-1.37c-.4-.4-.92-.59-1.43-.59-.52 0-1.04.2-1.43.59L10.3 9.45l-7.72 7.72c-.78.78-.78 2.05 0 2.83L4 21.41c.39.39.9.59 1.41.59.51 0 1.02-.2 1.41-.59l7.78-7.78 2.81-2.81c.8-.78.8-2.07 0-2.86zM5.41 20L4 18.59l7.72-7.72 1.47 1.35L5.41 20z\"/>\n",
              "  </svg>\n",
              "      </button>\n",
              "      \n",
              "  <style>\n",
              "    .colab-df-container {\n",
              "      display:flex;\n",
              "      flex-wrap:wrap;\n",
              "      gap: 12px;\n",
              "    }\n",
              "\n",
              "    .colab-df-convert {\n",
              "      background-color: #E8F0FE;\n",
              "      border: none;\n",
              "      border-radius: 50%;\n",
              "      cursor: pointer;\n",
              "      display: none;\n",
              "      fill: #1967D2;\n",
              "      height: 32px;\n",
              "      padding: 0 0 0 0;\n",
              "      width: 32px;\n",
              "    }\n",
              "\n",
              "    .colab-df-convert:hover {\n",
              "      background-color: #E2EBFA;\n",
              "      box-shadow: 0px 1px 2px rgba(60, 64, 67, 0.3), 0px 1px 3px 1px rgba(60, 64, 67, 0.15);\n",
              "      fill: #174EA6;\n",
              "    }\n",
              "\n",
              "    [theme=dark] .colab-df-convert {\n",
              "      background-color: #3B4455;\n",
              "      fill: #D2E3FC;\n",
              "    }\n",
              "\n",
              "    [theme=dark] .colab-df-convert:hover {\n",
              "      background-color: #434B5C;\n",
              "      box-shadow: 0px 1px 3px 1px rgba(0, 0, 0, 0.15);\n",
              "      filter: drop-shadow(0px 1px 2px rgba(0, 0, 0, 0.3));\n",
              "      fill: #FFFFFF;\n",
              "    }\n",
              "  </style>\n",
              "\n",
              "      <script>\n",
              "        const buttonEl =\n",
              "          document.querySelector('#df-586df41d-3849-4163-9e21-6c046ac45808 button.colab-df-convert');\n",
              "        buttonEl.style.display =\n",
              "          google.colab.kernel.accessAllowed ? 'block' : 'none';\n",
              "\n",
              "        async function convertToInteractive(key) {\n",
              "          const element = document.querySelector('#df-586df41d-3849-4163-9e21-6c046ac45808');\n",
              "          const dataTable =\n",
              "            await google.colab.kernel.invokeFunction('convertToInteractive',\n",
              "                                                     [key], {});\n",
              "          if (!dataTable) return;\n",
              "\n",
              "          const docLinkHtml = 'Like what you see? Visit the ' +\n",
              "            '<a target=\"_blank\" href=https://colab.research.google.com/notebooks/data_table.ipynb>data table notebook</a>'\n",
              "            + ' to learn more about interactive tables.';\n",
              "          element.innerHTML = '';\n",
              "          dataTable['output_type'] = 'display_data';\n",
              "          await google.colab.output.renderOutput(dataTable, element);\n",
              "          const docLink = document.createElement('div');\n",
              "          docLink.innerHTML = docLinkHtml;\n",
              "          element.appendChild(docLink);\n",
              "        }\n",
              "      </script>\n",
              "    </div>\n",
              "  </div>\n",
              "  "
            ]
          },
          "metadata": {},
          "execution_count": 18
        }
      ],
      "source": [
        "# get the indices of the majority class positive\n",
        "indices = read_data[read_data['sentiment'] == 'positive'].index\n",
        "\n",
        "# get the size of the minority class negative\n",
        "sizen = len(read_data[read_data['sentiment'] == 'negative'])\n",
        "sizep = len(read_data[read_data['sentiment'] == 'positive'])\n",
        "\n",
        "# randomly sample the indices of the majority class positive\n",
        "indices = np.random.choice(indices, sizen-sizep, replace=False)\n",
        "\n",
        "# delete from the majority class g\n",
        "read_data = read_data.drop(indices)\n",
        "print(read_data['sentiment'].value_counts())\n",
        "read_data.describe()"
      ]
    },
    {
      "cell_type": "markdown",
      "metadata": {
        "id": "6MAobYzMovFN"
      },
      "source": [
        "#Splitting the data"
      ]
    },
    {
      "cell_type": "code",
      "execution_count": null,
      "metadata": {
        "id": "36MPNloUAdo6"
      },
      "outputs": [],
      "source": [
        "train_list = [] \n",
        "test_list = []\n",
        "val_list = []\n",
        "grouped_df = read_data.groupby('sentiment')\n",
        "\n",
        "# ITERATE THROUGH EACH SUBSET DF\n",
        "for i, g in grouped_df:\n",
        "    # STRATIFY THE g (CLASS) DATA FRAME\n",
        "    train, test, val = np.split(g, [int(.7 * len(g)), int(.9 * len(g))])\n",
        "\n",
        "    train_list.append(train); test_list.append(test); val_list.append(val)\n",
        "\n",
        "train_data = pd.concat(train_list)\n",
        "test_data = pd.concat(test_list)\n",
        "validation_data = pd.concat(val_list)"
      ]
    },
    {
      "cell_type": "code",
      "execution_count": null,
      "metadata": {
        "colab": {
          "base_uri": "https://localhost:8080/"
        },
        "id": "Z7Cl2Fj0-pUX",
        "outputId": "f9ce44ed-0157-4da0-b75e-23bf65fba6f3"
      },
      "outputs": [
        {
          "output_type": "stream",
          "name": "stdout",
          "text": [
            "negative    17500\n",
            "positive    17500\n",
            "Name: sentiment, dtype: int64\n"
          ]
        }
      ],
      "source": [
        "print(train_data['sentiment'].value_counts())\n"
      ]
    },
    {
      "cell_type": "code",
      "execution_count": null,
      "metadata": {
        "colab": {
          "base_uri": "https://localhost:8080/"
        },
        "id": "dDrHliBz-xNe",
        "outputId": "b8368467-5594-49eb-956d-60a613c4dfe1"
      },
      "outputs": [
        {
          "output_type": "stream",
          "name": "stdout",
          "text": [
            "negative    5000\n",
            "positive    5000\n",
            "Name: sentiment, dtype: int64\n"
          ]
        }
      ],
      "source": [
        "print(test_data['sentiment'].value_counts())\n"
      ]
    },
    {
      "cell_type": "code",
      "execution_count": null,
      "metadata": {
        "colab": {
          "base_uri": "https://localhost:8080/"
        },
        "id": "gruwLEPS-5u-",
        "outputId": "39f7e31b-72b6-4edf-c326-c5a087b7cfbc"
      },
      "outputs": [
        {
          "output_type": "stream",
          "name": "stdout",
          "text": [
            "negative    2500\n",
            "positive    2500\n",
            "Name: sentiment, dtype: int64\n"
          ]
        }
      ],
      "source": [
        "print(validation_data['sentiment'].value_counts())\n"
      ]
    },
    {
      "cell_type": "markdown",
      "metadata": {
        "id": "uiSU-AciwHSc"
      },
      "source": [
        "#BERT\n"
      ]
    },
    {
      "cell_type": "markdown",
      "source": [
        "## Dataset"
      ],
      "metadata": {
        "id": "yz758WONAntv"
      }
    },
    {
      "cell_type": "code",
      "execution_count": null,
      "metadata": {
        "colab": {
          "base_uri": "https://localhost:8080/",
          "height": 113,
          "referenced_widgets": [
            "0f38ab4f52044f9986f2aac020187e96",
            "6ef5606f1b3347b9917fd906099bb46d",
            "6f5055a8ee234ffba4b302a3e811c263",
            "08ee47f5b8bf49a9a556aa308f6e889d",
            "b477724318514c9bb35726e83da8c40e",
            "90691e25813e4faaa31d5c358c7777de",
            "decce320e6e04f92a92b87918b33634d",
            "f16e8b87e6a24a0f84ad089a227951f4",
            "1b6899aa88eb4f1fad093892f907253e",
            "160620393a5a4b86a3e55aa5403b0c64",
            "c5a0227f18bc418cbc6a2deb99c053f9",
            "e2f5915581c14c0a95b056f4e22c6a69",
            "d5be573e21524cf9b4aa2bc1860aa941",
            "4e906ac2789a46a2a93c986f63612d53",
            "3643300b6bc344308ec54ed8c41467b1",
            "ba406b8c07a0417fa406edd3f7e33bb9",
            "87cac146cfe649c59c9309681bdc133e",
            "4b5be432207d4a748e98b0f2713f0781",
            "590f3e6756894181b4e891d0ea02afa6",
            "14628f82648f4c90b060a9752ed96033",
            "c1e9519bf5b347dea091ff78d5a1424e",
            "c62a22a0695c4d738d80143b1646452d",
            "996680f7f1aa46adbe66f603650b2848",
            "01e9e0953ec34840846039746a7a1297",
            "684461cbf4994e16b28cfb5c43bac395",
            "26eac3618e774a87828f15d041c1d5b5",
            "a1a623ad23d44fa68fc8fb23fe5ca141",
            "4f2c8373f2544cc28128f6ef06c1406b",
            "8efd52b09fce48678c9069b6b4c6bf79",
            "1a90ed658a024c42bb0c4f95db562c7f",
            "6bb10e340e9b44a3a42768c9dcee8621",
            "9a820d0d67bc4f089292e23f45550ce7",
            "9f2903ddebc942c2b8b6b643112306dc"
          ]
        },
        "id": "8BdW69SCsuzv",
        "outputId": "1e26030a-b13d-4a37-d1c4-3e16943d2a5e"
      },
      "outputs": [
        {
          "output_type": "display_data",
          "data": {
            "text/plain": [
              "Downloading (…)solve/main/vocab.txt:   0%|          | 0.00/213k [00:00<?, ?B/s]"
            ],
            "application/vnd.jupyter.widget-view+json": {
              "version_major": 2,
              "version_minor": 0,
              "model_id": "0f38ab4f52044f9986f2aac020187e96"
            }
          },
          "metadata": {}
        },
        {
          "output_type": "display_data",
          "data": {
            "text/plain": [
              "Downloading (…)okenizer_config.json:   0%|          | 0.00/29.0 [00:00<?, ?B/s]"
            ],
            "application/vnd.jupyter.widget-view+json": {
              "version_major": 2,
              "version_minor": 0,
              "model_id": "e2f5915581c14c0a95b056f4e22c6a69"
            }
          },
          "metadata": {}
        },
        {
          "output_type": "display_data",
          "data": {
            "text/plain": [
              "Downloading (…)lve/main/config.json:   0%|          | 0.00/570 [00:00<?, ?B/s]"
            ],
            "application/vnd.jupyter.widget-view+json": {
              "version_major": 2,
              "version_minor": 0,
              "model_id": "996680f7f1aa46adbe66f603650b2848"
            }
          },
          "metadata": {}
        }
      ],
      "source": [
        "tokenizer = BertTokenizer.from_pretrained('bert-base-cased')\n",
        "labels = {'positive':0,\n",
        "          'negative':1,\n",
        "          }\n",
        "\n",
        "class Dataset(torch.utils.data.Dataset):\n",
        "\n",
        "    def __init__(self, df):\n",
        "\n",
        "        self.labels = [labels[label] for label in df['sentiment']]\n",
        "        self.texts = [tokenizer(text, \n",
        "                               padding='max_length', max_length = 512, truncation=True,\n",
        "                                return_tensors=\"pt\") for text in df['review']]\n",
        "\n",
        "    def classes(self):\n",
        "        return self.labels\n",
        "\n",
        "    def __len__(self):\n",
        "        return len(self.labels)\n",
        "\n",
        "    def get_batch_labels(self, idx):\n",
        "        # Fetch a batch of labels\n",
        "        return np.array(self.labels[idx])\n",
        "\n",
        "    def get_batch_texts(self, idx):\n",
        "        # Fetch a batch of inputs\n",
        "        return self.texts[idx]\n",
        "\n",
        "    def __getitem__(self, idx):\n",
        "\n",
        "        batch_texts = self.get_batch_texts(idx)\n",
        "        batch_y = self.get_batch_labels(idx)\n",
        "\n",
        "        return batch_texts, batch_y"
      ]
    },
    {
      "cell_type": "markdown",
      "source": [
        "## Model"
      ],
      "metadata": {
        "id": "IpgRe27cAtgM"
      }
    },
    {
      "cell_type": "code",
      "execution_count": null,
      "metadata": {
        "id": "d82EnUWUvonW"
      },
      "outputs": [],
      "source": [
        "from torch.nn.modules import linear\n",
        "from torch import nn\n",
        "from transformers import BertModel\n",
        "\n",
        "class BertClassifier(nn.Module):\n",
        "\n",
        "    def __init__(self, dropout=0.5):\n",
        "\n",
        "        super(BertClassifier, self).__init__()\n",
        "\n",
        "        self.bert = BertModel.from_pretrained('bert-base-cased')\n",
        "        self.dropout_1 = nn.Dropout(dropout)\n",
        "        self.linear_1 = nn.Linear(768,512)\n",
        "        self.dropout_2 = nn.Dropout(dropout)\n",
        "        self.linear_2 = nn.Linear(512, 256)\n",
        "        self.dropout_3 = nn.Dropout(dropout)\n",
        "        self.linear_3 = nn.Linear(256, 128)\n",
        "        self.dropout_4 = nn.Dropout(dropout)\n",
        "        self.linear_4= nn.Linear(128, 64)\n",
        "        self.dropout_5 = nn.Dropout(dropout)\n",
        "        self.linear_5= nn.Linear(64, 2)\n",
        "        self.relu = nn.ReLU()\n",
        "\n",
        "    def forward(self, input_id, mask):\n",
        "\n",
        "        _, pooled_output = self.bert(input_ids= input_id, attention_mask=mask,return_dict=False)\n",
        "        dropout_output = self.dropout_1(pooled_output)\n",
        "        linear_output_1 = self.linear_1(dropout_output)\n",
        "        dropout_output_1 = self.dropout_2(linear_output_1)\n",
        "        linear_output_2 = self.linear_2(dropout_output_1)\n",
        "        dropout_output_2 = self.dropout_3(linear_output_2)\n",
        "        linear_output_3 = self.linear_3(dropout_output_2)\n",
        "        dropout_output_3 = self.dropout_4(linear_output_3)\n",
        "        linear_output_4 = self.linear_4(dropout_output_3)\n",
        "        dropout_output_4 = self.dropout_5(linear_output_4)\n",
        "        linear_output_5 = self.linear_5(dropout_output_4)\n",
        "        final_layer = self.relu(linear_output_5)\n",
        "\n",
        "        return final_layer"
      ]
    },
    {
      "cell_type": "code",
      "execution_count": null,
      "metadata": {
        "id": "Yqj97bRhBGju"
      },
      "outputs": [],
      "source": [
        "import shutil, sys   \n",
        "def save_ckp(state, is_best, checkpoint_path, best_model_path):\n",
        "    \"\"\"\n",
        "    state: checkpoint we want to save\n",
        "    is_best: is this the best checkpoint; min validation loss\n",
        "    checkpoint_path: path to save checkpoint\n",
        "    best_model_path: path to save best model\n",
        "    \"\"\"\n",
        "    f_path = checkpoint_path\n",
        "    # save checkpoint data to the path given, checkpoint_path\n",
        "    torch.save(state, f_path)\n",
        "    # if it is a best model, min validation loss\n",
        "    if is_best:\n",
        "        best_fpath = best_model_path\n",
        "        # copy that checkpoint file to best path given, best_model_path\n",
        "        shutil.copyfile(f_path, best_fpath)"
      ]
    },
    {
      "cell_type": "markdown",
      "metadata": {
        "id": "SL6iwr4_yGrr"
      },
      "source": [
        "# Loss as a metric"
      ]
    },
    {
      "cell_type": "code",
      "execution_count": null,
      "metadata": {
        "colab": {
          "base_uri": "https://localhost:8080/",
          "height": 121,
          "referenced_widgets": [
            "e3a8a6e0dac746bc91b036fc72217f67",
            "5195f43b2e254005b77646fff2cec079",
            "3c3adf97df7f4ed19703459acda6904d",
            "560724cc77924a04b62b63618a149155",
            "a837b22c50ed43358951c423c84a9044",
            "b5f3edf70ab043e58acf9640922e9c46",
            "de48fce25d5144f6843c753fc7746ab7",
            "dc2560911d4d485095be653aaa2f6c27",
            "ef3c0266ab80476daba23e0f0889af36",
            "a35a5eb9316f4b0cb98d1e853b294094",
            "5eaf63ecfdde466fa175b02b7dc55ccd"
          ]
        },
        "id": "Ra6R6Erm0qP2",
        "outputId": "072b5998-5bc9-4e55-a486-f3ae3dd52138"
      },
      "outputs": [
        {
          "data": {
            "application/vnd.jupyter.widget-view+json": {
              "model_id": "e3a8a6e0dac746bc91b036fc72217f67",
              "version_major": 2,
              "version_minor": 0
            },
            "text/plain": [
              "Downloading:   0%|          | 0.00/436M [00:00<?, ?B/s]"
            ]
          },
          "metadata": {},
          "output_type": "display_data"
        },
        {
          "name": "stderr",
          "output_type": "stream",
          "text": [
            "Some weights of the model checkpoint at bert-base-cased were not used when initializing BertModel: ['cls.predictions.transform.dense.weight', 'cls.seq_relationship.bias', 'cls.seq_relationship.weight', 'cls.predictions.transform.LayerNorm.bias', 'cls.predictions.bias', 'cls.predictions.transform.LayerNorm.weight', 'cls.predictions.decoder.weight', 'cls.predictions.transform.dense.bias']\n",
            "- This IS expected if you are initializing BertModel from the checkpoint of a model trained on another task or with another architecture (e.g. initializing a BertForSequenceClassification model from a BertForPreTraining model).\n",
            "- This IS NOT expected if you are initializing BertModel from the checkpoint of a model that you expect to be exactly identical (initializing a BertForSequenceClassification model from a BertForSequenceClassification model).\n"
          ]
        }
      ],
      "source": [
        "epochs = [1,2,3,4,5]\n",
        "test_acc =[]\n",
        "val_acc=[]\n",
        "\n",
        "from torch.optim import Adam\n",
        "from tqdm import tqdm\n",
        "\n",
        "def train(model, train_data, val_data, learning_rate, epochs,checkpoint_path , best_model_path , valid_loss_min_input):\n",
        "    test_acc.clear()\n",
        "    val_acc.clear()\n",
        "    valid_loss_min = valid_loss_min_input \n",
        "    train, val = Dataset(train_data), Dataset(val_data)\n",
        "\n",
        "    train_dataloader = torch.utils.data.DataLoader(train, batch_size=4, shuffle=True)\n",
        "    val_dataloader = torch.utils.data.DataLoader(val, batch_size=4)\n",
        "\n",
        "    use_cuda = torch.cuda.is_available()\n",
        "    device = torch.device(\"cuda\" if use_cuda else \"cpu\")\n",
        "\n",
        "    criterion = nn.CrossEntropyLoss()\n",
        "    optimizer = Adam(model.parameters(), lr= learning_rate)\n",
        "\n",
        "    if use_cuda:\n",
        "\n",
        "            model = model.cuda()\n",
        "            criterion = criterion.cuda()\n",
        "\n",
        "    for epoch_num in epochs:\n",
        "            total_acc_train = 0\n",
        "            total_loss_train = 0\n",
        "\n",
        "            for train_input, train_label in tqdm(train_dataloader):\n",
        "\n",
        "                train_label = train_label.to(device)\n",
        "                mask = train_input['attention_mask'].to(device)\n",
        "                input_id = train_input['input_ids'].squeeze(1).to(device)\n",
        "\n",
        "                output = model(input_id, mask)\n",
        "                # train_label_squeeze = train_label\n",
        "                # train_label = train_label.unsqueeze(1)\n",
        "                # train_label = train_label.float()\n",
        "                batch_loss = criterion(output, train_label)\n",
        "                total_loss_train += batch_loss.item()\n",
        "                \n",
        "                acc = (output.argmax(dim=1) == train_label).sum().item()\n",
        "                total_acc_train += acc\n",
        "                model.zero_grad()\n",
        "                batch_loss.backward()\n",
        "                optimizer.step()\n",
        "            \n",
        "            total_acc_val = 0\n",
        "            total_loss_val = 0\n",
        "\n",
        "            with torch.no_grad():\n",
        "\n",
        "                for val_input, val_label in val_dataloader:\n",
        "\n",
        "                    val_label = val_label.to(device)\n",
        "                    mask = val_input['attention_mask'].to(device)\n",
        "                    input_id = val_input['input_ids'].squeeze(1).to(device)\n",
        "\n",
        "                    output = model(input_id, mask)\n",
        "                    batch_loss = criterion(output, val_label)\n",
        "                    total_loss_val += batch_loss.item()\n",
        "                    \n",
        "                    acc = (output.argmax(dim=1) == val_label).sum().item()\n",
        "                    total_acc_val += acc\n",
        "            \n",
        "            print(\n",
        "                f'Epochs: {epoch_num } | Train Loss: {total_loss_train / len(train_data): .3f} \\\n",
        "                | Train Accuracy: {total_acc_train / len(train_data): .3f} \\\n",
        "                | Val Loss: {total_loss_val / len(val_data): .3f} \\\n",
        "                | Val Accuracy: {total_acc_val / len(val_data): .3f}')\n",
        "            test_acc.append(total_acc_train / len(train_data))\n",
        "            val_acc.append(total_acc_val / len(val_data))\n",
        "          \n",
        "            valid_loss = total_loss_val/len(val_data)\n",
        "            checkpoint = {\n",
        "                'epoch': epoch_num ,\n",
        "                'valid_loss_min': valid_loss,\n",
        "                'state_dict': model.state_dict(),\n",
        "                'optimizer': optimizer.state_dict(),\n",
        "                'learning_rate': learning_rate\n",
        "                }\n",
        "            save_ckp(checkpoint, False, checkpoint_path, best_model_path)\n",
        "\n",
        "            if valid_loss <= valid_loss_min:\n",
        "              print('Validation loss decreased ({:.6f} --> {:.6f}).  Saving model ...'.format(valid_loss_min,valid_loss))\n",
        "              # save checkpoint as best model\n",
        "              save_ckp(checkpoint, True, checkpoint_path, best_model_path)\n",
        "              valid_loss_min = valid_loss\n",
        "                  \n",
        "# EPOCHS = 5\n",
        "model = BertClassifier()\n",
        "LR = 1e-6\n",
        "checkpoint_path = '/content/drive/MyDrive/bert/checkpoints/check.pt'\n",
        "best_model = '/content/drive/MyDrive/bert/bestmodel/model.pt'"
      ]
    },
    {
      "cell_type": "code",
      "execution_count": null,
      "metadata": {
        "colab": {
          "base_uri": "https://localhost:8080/"
        },
        "id": "Q-azte2GBoE9",
        "outputId": "b6a9f98e-6f72-4371-90d9-458b00ea7d03"
      },
      "outputs": [
        {
          "name": "stderr",
          "output_type": "stream",
          "text": [
            "100%|██████████| 8750/8750 [59:40<00:00,  2.44it/s]\n"
          ]
        },
        {
          "name": "stdout",
          "output_type": "stream",
          "text": [
            "Epochs: 1 | Train Loss:  0.150                 | Train Accuracy:  0.673                 | Val Loss:  0.093                 | Val Accuracy:  0.900\n",
            "Validation loss decreased (inf --> 0.093402).  Saving model ...\n"
          ]
        },
        {
          "name": "stderr",
          "output_type": "stream",
          "text": [
            "100%|██████████| 8750/8750 [1:00:33<00:00,  2.41it/s]\n"
          ]
        },
        {
          "name": "stdout",
          "output_type": "stream",
          "text": [
            "Epochs: 2 | Train Loss:  0.068                 | Train Accuracy:  0.919                 | Val Loss:  0.061                 | Val Accuracy:  0.919\n",
            "Validation loss decreased (0.093402 --> 0.060927).  Saving model ...\n"
          ]
        },
        {
          "name": "stderr",
          "output_type": "stream",
          "text": [
            "100%|██████████| 8750/8750 [1:00:32<00:00,  2.41it/s]\n"
          ]
        },
        {
          "name": "stdout",
          "output_type": "stream",
          "text": [
            "Epochs: 3 | Train Loss:  0.046                 | Train Accuracy:  0.945                 | Val Loss:  0.056                 | Val Accuracy:  0.921\n",
            "Validation loss decreased (0.060927 --> 0.055805).  Saving model ...\n"
          ]
        },
        {
          "name": "stderr",
          "output_type": "stream",
          "text": [
            " 47%|████▋     | 4131/8750 [28:35<32:14,  2.39it/s]"
          ]
        }
      ],
      "source": [
        "EPOCHS =[1,2,3,4,5]\n",
        "train(model, train_data, validation_data, LR, EPOCHS,checkpoint_path, best_model,np.Inf)"
      ]
    },
    {
      "cell_type": "code",
      "execution_count": null,
      "metadata": {
        "id": "-rLdJDps9T13"
      },
      "outputs": [],
      "source": [
        "# loss\n",
        "def load_ckp(checkpoint_fpath, model, optimizer):\n",
        "    \"\"\"\n",
        "    checkpoint_path: path to save checkpoint\n",
        "    model: model that we want to load checkpoint parameters into       \n",
        "    optimizer: optimizer we defined in previous training\n",
        "    \"\"\"\n",
        "    # load check point\n",
        "    checkpoint = torch.load(checkpoint_fpath)\n",
        "    # initialize state_dict from checkpoint to model\n",
        "    model.load_state_dict(checkpoint['state_dict'])\n",
        "    # initialize optimizer from checkpoint to optimizer\n",
        "    optimizer.load_state_dict(checkpoint['optimizer'])\n",
        "    # initialize valid_loss_min from checkpoint to valid_loss_min\n",
        "    valid_loss_min = checkpoint['valid_loss_min']\n",
        "    lr =  checkpoint['learning_rate']\n",
        "    # return model, optimizer, epoch value, min validation loss , lr\n",
        "    return model, optimizer, checkpoint['epoch'], valid_loss_min , lr"
      ]
    },
    {
      "cell_type": "code",
      "execution_count": null,
      "metadata": {
        "colab": {
          "base_uri": "https://localhost:8080/"
        },
        "id": "KUm-TSmI9Fuj",
        "outputId": "445dbb1f-098e-4087-ce84-c466e75bd3aa"
      },
      "outputs": [
        {
          "name": "stderr",
          "output_type": "stream",
          "text": [
            "Some weights of the model checkpoint at bert-base-cased were not used when initializing BertModel: ['cls.seq_relationship.bias', 'cls.predictions.transform.LayerNorm.bias', 'cls.predictions.transform.dense.bias', 'cls.predictions.transform.dense.weight', 'cls.predictions.bias', 'cls.predictions.decoder.weight', 'cls.predictions.transform.LayerNorm.weight', 'cls.seq_relationship.weight']\n",
            "- This IS expected if you are initializing BertModel from the checkpoint of a model trained on another task or with another architecture (e.g. initializing a BertForSequenceClassification model from a BertForPreTraining model).\n",
            "- This IS NOT expected if you are initializing BertModel from the checkpoint of a model that you expect to be exactly identical (initializing a BertForSequenceClassification model from a BertForSequenceClassification model).\n"
          ]
        }
      ],
      "source": [
        "# reload ckp and start training from the last epoch\n",
        "model = BertClassifier()\n",
        "optimizer = Adam(model.parameters(), lr= LR)\n",
        "model, optimizer, start_epoch, valid_loss_min, lr = load_ckp(checkpoint_path, model, optimizer)\n",
        "EPOCHS = range(start_epoch+1, 7)\n"
      ]
    },
    {
      "cell_type": "code",
      "execution_count": null,
      "metadata": {
        "colab": {
          "base_uri": "https://localhost:8080/"
        },
        "id": "uzX7jZAiDQ7t",
        "outputId": "2e15d643-533e-488c-d8e2-32c723a7e377"
      },
      "outputs": [
        {
          "name": "stdout",
          "output_type": "stream",
          "text": [
            "range(4, 7)\n"
          ]
        }
      ],
      "source": [
        "print(EPOCHS)"
      ]
    },
    {
      "cell_type": "code",
      "execution_count": null,
      "metadata": {
        "colab": {
          "base_uri": "https://localhost:8080/"
        },
        "id": "5rEcMjd-E7u9",
        "outputId": "be403a6f-b697-4946-e352-567aeb4383ea"
      },
      "outputs": [
        {
          "name": "stderr",
          "output_type": "stream",
          "text": [
            "100%|██████████| 8750/8750 [57:36<00:00,  2.53it/s]\n"
          ]
        },
        {
          "name": "stdout",
          "output_type": "stream",
          "text": [
            "Epochs: 4 | Train Loss:  0.033                 | Train Accuracy:  0.964                 | Val Loss:  0.060                 | Val Accuracy:  0.922\n"
          ]
        },
        {
          "name": "stderr",
          "output_type": "stream",
          "text": [
            "100%|██████████| 8750/8750 [57:34<00:00,  2.53it/s]\n"
          ]
        },
        {
          "name": "stdout",
          "output_type": "stream",
          "text": [
            "Epochs: 5 | Train Loss:  0.022                 | Train Accuracy:  0.980                 | Val Loss:  0.066                 | Val Accuracy:  0.924\n"
          ]
        },
        {
          "name": "stderr",
          "output_type": "stream",
          "text": [
            " 29%|██▉       | 2536/8750 [16:41<40:26,  2.56it/s]"
          ]
        }
      ],
      "source": [
        "train(model, train_data, validation_data, LR, EPOCHS,checkpoint_path, best_model, valid_loss_min)"
      ]
    },
    {
      "cell_type": "code",
      "execution_count": null,
      "metadata": {
        "id": "aUFOyX75SjXT"
      },
      "outputs": [],
      "source": []
    },
    {
      "cell_type": "markdown",
      "metadata": {
        "id": "hBqrApy5pmXw"
      },
      "source": []
    },
    {
      "cell_type": "code",
      "execution_count": null,
      "metadata": {
        "colab": {
          "base_uri": "https://localhost:8080/"
        },
        "id": "3GzLxEgUk442",
        "outputId": "ec3ace3a-57fb-4299-8409-913af41b55cc"
      },
      "outputs": [
        {
          "name": "stderr",
          "output_type": "stream",
          "text": [
            "Some weights of the model checkpoint at bert-base-cased were not used when initializing BertModel: ['cls.predictions.bias', 'cls.predictions.transform.LayerNorm.weight', 'cls.predictions.transform.LayerNorm.bias', 'cls.seq_relationship.bias', 'cls.seq_relationship.weight', 'cls.predictions.transform.dense.bias', 'cls.predictions.transform.dense.weight', 'cls.predictions.decoder.weight']\n",
            "- This IS expected if you are initializing BertModel from the checkpoint of a model trained on another task or with another architecture (e.g. initializing a BertForSequenceClassification model from a BertForPreTraining model).\n",
            "- This IS NOT expected if you are initializing BertModel from the checkpoint of a model that you expect to be exactly identical (initializing a BertForSequenceClassification model from a BertForSequenceClassification model).\n"
          ]
        },
        {
          "name": "stdout",
          "output_type": "stream",
          "text": [
            "range(6, 7)\n"
          ]
        }
      ],
      "source": [
        "# reload ckp and start training from the last epoch\n",
        "model = BertClassifier()\n",
        "optimizer = Adam(model.parameters(), lr= LR)\n",
        "model, optimizer, start_epoch, valid_loss_min, lr = load_ckp(checkpoint_path, model, optimizer)\n",
        "EPOCHS = range(start_epoch+1, 7)\n",
        "print(EPOCHS)"
      ]
    },
    {
      "cell_type": "code",
      "execution_count": null,
      "metadata": {
        "colab": {
          "base_uri": "https://localhost:8080/"
        },
        "id": "XBoneLdgRZ0o",
        "outputId": "1879387f-9db9-4780-81c9-4e741b554ed5"
      },
      "outputs": [
        {
          "name": "stderr",
          "output_type": "stream",
          "text": [
            "100%|██████████| 8750/8750 [55:11<00:00,  2.64it/s]\n"
          ]
        },
        {
          "name": "stdout",
          "output_type": "stream",
          "text": [
            "Epochs: 6 | Train Loss:  0.014                 | Train Accuracy:  0.989                 | Val Loss:  0.079                 | Val Accuracy:  0.922\n"
          ]
        }
      ],
      "source": [
        "train(model, train_data, validation_data, LR, EPOCHS,checkpoint_path, best_model, valid_loss_min)"
      ]
    },
    {
      "cell_type": "code",
      "execution_count": null,
      "metadata": {
        "colab": {
          "base_uri": "https://localhost:8080/"
        },
        "id": "-U3aKWWujA5Q",
        "outputId": "5be83f3b-ee4f-4fa6-fdd2-01eb9a90b33a"
      },
      "outputs": [
        {
          "name": "stderr",
          "output_type": "stream",
          "text": [
            "Some weights of the model checkpoint at bert-base-cased were not used when initializing BertModel: ['cls.predictions.bias', 'cls.predictions.transform.LayerNorm.weight', 'cls.predictions.transform.LayerNorm.bias', 'cls.seq_relationship.bias', 'cls.seq_relationship.weight', 'cls.predictions.transform.dense.bias', 'cls.predictions.transform.dense.weight', 'cls.predictions.decoder.weight']\n",
            "- This IS expected if you are initializing BertModel from the checkpoint of a model trained on another task or with another architecture (e.g. initializing a BertForSequenceClassification model from a BertForPreTraining model).\n",
            "- This IS NOT expected if you are initializing BertModel from the checkpoint of a model that you expect to be exactly identical (initializing a BertForSequenceClassification model from a BertForSequenceClassification model).\n"
          ]
        },
        {
          "name": "stdout",
          "output_type": "stream",
          "text": [
            "[7]\n"
          ]
        }
      ],
      "source": [
        "# reload ckp and start training from the last epoch\n",
        "model = BertClassifier()\n",
        "optimizer = Adam(model.parameters(), lr= LR)\n",
        "model, optimizer, start_epoch, valid_loss_min, lr = load_ckp(checkpoint_path, model, optimizer)\n",
        "EPOCHS = [start_epoch+1]\n",
        "print(EPOCHS)"
      ]
    },
    {
      "cell_type": "code",
      "execution_count": null,
      "metadata": {
        "colab": {
          "base_uri": "https://localhost:8080/"
        },
        "id": "Dex3gqFwjfER",
        "outputId": "d7c6ca5c-622c-41d9-bd18-b0347c5f0375"
      },
      "outputs": [
        {
          "name": "stderr",
          "output_type": "stream",
          "text": [
            "100%|██████████| 8750/8750 [55:07<00:00,  2.65it/s]\n"
          ]
        },
        {
          "name": "stdout",
          "output_type": "stream",
          "text": [
            "Epochs: 7 | Train Loss:  0.010                 | Train Accuracy:  0.993                 | Val Loss:  0.088                 | Val Accuracy:  0.921\n"
          ]
        }
      ],
      "source": [
        "train(model, train_data, validation_data, LR, EPOCHS,checkpoint_path, best_model, valid_loss_min)"
      ]
    },
    {
      "cell_type": "code",
      "execution_count": null,
      "metadata": {
        "id": "MGHtO2ROx7bG"
      },
      "outputs": [],
      "source": [
        "def load_model(bestmodel_fpath, model, optimizer):\n",
        "    \"\"\"\n",
        "    bestmodel_fpath: path to save best model\n",
        "    model: model that we want to load best model parameters into\n",
        "    optimizer: optimizer we defined in previous training\n",
        "    \"\"\"\n",
        "    # load best model\n",
        "    best_model = torch.load(bestmodel_fpath)\n",
        "    # initialize state_dict from best model to model\n",
        "    model.load_state_dict(best_model['state_dict'])\n",
        "    # initialize optimizer from best model to optimizer\n",
        "    optimizer.load_state_dict(best_model['optimizer'])\n",
        "    # initialize valid_loss_min from best model to valid_loss_min\n",
        "    valid_loss_min = best_model['valid_loss_min']\n",
        "    lr =  best_model['learning_rate']\n",
        "    # return model, optimizer, epoch value, min validation loss , lr\n",
        "    return model, optimizer, best_model['epoch'], valid_loss_min , lr\n"
      ]
    },
    {
      "cell_type": "code",
      "execution_count": null,
      "metadata": {
        "colab": {
          "base_uri": "https://localhost:8080/"
        },
        "id": "VE7VobVyVKAc",
        "outputId": "c8bc2e3a-3684-4731-cb72-c2e86715b78d"
      },
      "outputs": [
        {
          "name": "stderr",
          "output_type": "stream",
          "text": [
            "Some weights of the model checkpoint at bert-base-cased were not used when initializing BertModel: ['cls.predictions.transform.dense.weight', 'cls.seq_relationship.bias', 'cls.seq_relationship.weight', 'cls.predictions.transform.LayerNorm.bias', 'cls.predictions.bias', 'cls.predictions.transform.LayerNorm.weight', 'cls.predictions.decoder.weight', 'cls.predictions.transform.dense.bias']\n",
            "- This IS expected if you are initializing BertModel from the checkpoint of a model trained on another task or with another architecture (e.g. initializing a BertForSequenceClassification model from a BertForPreTraining model).\n",
            "- This IS NOT expected if you are initializing BertModel from the checkpoint of a model that you expect to be exactly identical (initializing a BertForSequenceClassification model from a BertForSequenceClassification model).\n"
          ]
        }
      ],
      "source": [
        "model_lr5 = BertClassifier()\n",
        "LR_lr5 = 1e-5\n",
        "checkpoint_path_lr5 = '/content/drive/MyDrive/bert/checkpoints_lr1.e5/check.pt'\n",
        "best_model_lr5 = '/content/drive/MyDrive/bert/bestmodel_lr1.e5/model.pt'"
      ]
    },
    {
      "cell_type": "code",
      "execution_count": null,
      "metadata": {
        "colab": {
          "base_uri": "https://localhost:8080/"
        },
        "id": "xJMYbHtYVLHM",
        "outputId": "001767f4-c65e-4ae8-90db-7590f1b3a0da"
      },
      "outputs": [
        {
          "name": "stderr",
          "output_type": "stream",
          "text": [
            "100%|██████████| 8750/8750 [57:05<00:00,  2.55it/s]\n"
          ]
        },
        {
          "name": "stdout",
          "output_type": "stream",
          "text": [
            "Epochs: 1 | Train Loss:  0.117                 | Train Accuracy:  0.720                 | Val Loss:  0.061                 | Val Accuracy:  0.898\n",
            "Validation loss decreased (inf --> 0.061070).  Saving model ...\n"
          ]
        },
        {
          "name": "stderr",
          "output_type": "stream",
          "text": [
            "100%|██████████| 8750/8750 [57:46<00:00,  2.52it/s]\n"
          ]
        },
        {
          "name": "stdout",
          "output_type": "stream",
          "text": [
            "Epochs: 2 | Train Loss:  0.046                 | Train Accuracy:  0.934                 | Val Loss:  0.048                 | Val Accuracy:  0.930\n",
            "Validation loss decreased (0.061070 --> 0.047834).  Saving model ...\n"
          ]
        },
        {
          "name": "stderr",
          "output_type": "stream",
          "text": [
            "100%|██████████| 8750/8750 [57:50<00:00,  2.52it/s]\n"
          ]
        },
        {
          "name": "stdout",
          "output_type": "stream",
          "text": [
            "Epochs: 3 | Train Loss:  0.023                 | Train Accuracy:  0.971                 | Val Loss:  0.054                 | Val Accuracy:  0.923\n"
          ]
        },
        {
          "name": "stderr",
          "output_type": "stream",
          "text": [
            "100%|██████████| 8750/8750 [57:47<00:00,  2.52it/s]\n"
          ]
        },
        {
          "name": "stdout",
          "output_type": "stream",
          "text": [
            "Epochs: 4 | Train Loss:  0.013                 | Train Accuracy:  0.985                 | Val Loss:  0.065                 | Val Accuracy:  0.928\n"
          ]
        },
        {
          "name": "stderr",
          "output_type": "stream",
          "text": [
            "100%|██████████| 8750/8750 [57:45<00:00,  2.52it/s]\n"
          ]
        },
        {
          "name": "stdout",
          "output_type": "stream",
          "text": [
            "Epochs: 5 | Train Loss:  0.009                 | Train Accuracy:  0.991                 | Val Loss:  0.089                 | Val Accuracy:  0.926\n"
          ]
        }
      ],
      "source": [
        "EPOCHS_lr5 =[1,2,3,4,5]\n",
        "train(model_lr5, train_data, validation_data, LR_lr5, EPOCHS_lr5,checkpoint_path_lr5, best_model_lr5,np.Inf)"
      ]
    },
    {
      "cell_type": "code",
      "execution_count": null,
      "metadata": {
        "colab": {
          "base_uri": "https://localhost:8080/"
        },
        "id": "40AjpywoXlp1",
        "outputId": "7ed4475b-05ef-4073-c36a-68da6bf1279a"
      },
      "outputs": [
        {
          "name": "stderr",
          "output_type": "stream",
          "text": [
            "Some weights of the model checkpoint at bert-base-cased were not used when initializing BertModel: ['cls.predictions.transform.dense.weight', 'cls.seq_relationship.bias', 'cls.seq_relationship.weight', 'cls.predictions.transform.LayerNorm.bias', 'cls.predictions.bias', 'cls.predictions.transform.LayerNorm.weight', 'cls.predictions.decoder.weight', 'cls.predictions.transform.dense.bias']\n",
            "- This IS expected if you are initializing BertModel from the checkpoint of a model trained on another task or with another architecture (e.g. initializing a BertForSequenceClassification model from a BertForPreTraining model).\n",
            "- This IS NOT expected if you are initializing BertModel from the checkpoint of a model that you expect to be exactly identical (initializing a BertForSequenceClassification model from a BertForSequenceClassification model).\n"
          ]
        },
        {
          "name": "stdout",
          "output_type": "stream",
          "text": [
            "range(6, 8)\n"
          ]
        }
      ],
      "source": [
        "# reload ckp and start training from the last epoch\n",
        "model_lr5 = BertClassifier()\n",
        "optimizer_lr5 = Adam(model.parameters(), lr= LR_lr5)\n",
        "model_lr5, optimizer_lr5, start_epoch, valid_loss_min_lr5, LR_lr5 = load_ckp(checkpoint_path_lr5, model_lr5, optimizer_lr5)\n",
        "EPOCHS_lr5 = range(start_epoch+1,8)\n",
        "print(EPOCHS_lr5)"
      ]
    },
    {
      "cell_type": "code",
      "execution_count": null,
      "metadata": {
        "colab": {
          "base_uri": "https://localhost:8080/"
        },
        "id": "-X9NDEn5j8pT",
        "outputId": "acc155df-6939-43b2-c18c-9e1593120ff8"
      },
      "outputs": [
        {
          "name": "stderr",
          "output_type": "stream",
          "text": [
            " 36%|███▌      | 3158/8750 [20:47<36:42,  2.54it/s]"
          ]
        }
      ],
      "source": [
        "train(model_lr5, train_data, validation_data, LR_lr5, EPOCHS_lr5,checkpoint_path_lr5, best_model_lr5, valid_loss_min_lr5)"
      ]
    },
    {
      "cell_type": "code",
      "execution_count": null,
      "metadata": {
        "id": "-XmFlQ7bYRkx"
      },
      "outputs": [],
      "source": [
        "train(model_lr5, train_data, validation_data, LR_lr5, EPOCHS_lr5,checkpoint_path_lr5, best_model_lr5, valid_loss_min_lr5)"
      ]
    },
    {
      "cell_type": "markdown",
      "metadata": {
        "id": "qWQmyyLFx_FL"
      },
      "source": [
        "# Accuracy as a metric"
      ]
    },
    {
      "cell_type": "code",
      "execution_count": null,
      "metadata": {
        "id": "CyV9U-mHVsE4"
      },
      "outputs": [],
      "source": [
        "  def load_model_accuracy(bestmodel_fpath, model, optimizer):\n",
        "      \"\"\"\n",
        "      bestmodel_fpath: path to save best model\n",
        "      model: model that we want to load best model parameters into\n",
        "      optimizer: optimizer we defined in previous training\n",
        "      \"\"\"\n",
        "      # load best model\n",
        "      best_model = torch.load(bestmodel_fpath)\n",
        "      # initialize state_dict from best model to model\n",
        "      model.load_state_dict(best_model['state_dict'])\n",
        "      # initialize optimizer from best model to optimizer\n",
        "      optimizer.load_state_dict(best_model['optimizer'])\n",
        "      # initialize valid_loss_min from best model to valid_loss_min\n",
        "      valid_loss_min = best_model['valid_loss_min']\n",
        "      valid_accuracy_max=best_model['valid_accuracy_max']\n",
        "      lr =  best_model['learning_rate']\n",
        "      # return model, optimizer, epoch value, min validation loss , lr\n",
        "      return model, optimizer, best_model['epoch'], valid_accuracy_max , lr"
      ]
    },
    {
      "cell_type": "code",
      "execution_count": null,
      "metadata": {
        "id": "qeh2us4RVEry"
      },
      "outputs": [],
      "source": [
        "# accuracy\n",
        "def load_ckp_accuracy(checkpoint_fpath, model, optimizer):\n",
        "    \"\"\"\n",
        "    checkpoint_path: path to save checkpoint\n",
        "    model: model that we want to load checkpoint parameters into       \n",
        "    optimizer: optimizer we defined in previous training\n",
        "    \"\"\"\n",
        "    # load check point\n",
        "    checkpoint = torch.load(checkpoint_fpath)\n",
        "    # initialize state_dict from checkpoint to model\n",
        "    model.load_state_dict(checkpoint['state_dict'])\n",
        "    # initialize optimizer from checkpoint to optimizer\n",
        "    optimizer.load_state_dict(checkpoint['optimizer'])\n",
        "    # initialize valid_loss_min from checkpoint to valid_loss_min\n",
        "    valid_loss_min = checkpoint['valid_loss_min']\n",
        "    valid_accuracy_max=checkpoint['valid_accuracy_max']\n",
        "    lr =  checkpoint['learning_rate']\n",
        "    # return model, optimizer, epoch value, min validation loss , lr\n",
        "    return model, optimizer, checkpoint['epoch'], valid_accuracy_max , lr"
      ]
    },
    {
      "cell_type": "code",
      "execution_count": null,
      "metadata": {
        "colab": {
          "base_uri": "https://localhost:8080/",
          "height": 152,
          "referenced_widgets": [
            "c5320650a23c4be4975ebb6594dd8806",
            "22e7ba5940f34c35a58560c621e47fc7",
            "7edee086ea864aa1acc05021daf83d7b",
            "1e05127860e54ddda333972e2259412b",
            "74c3c4f258c54a7eb082d3bb98d05aaf",
            "e25c0edc2eea4e3e8363dc9d10e4ce18",
            "88c307e6f4fe402182f19eb52a60828b",
            "f441911bf9164ea99438fa142ddc53d3",
            "9105facbe6804365985ce27e61042a60",
            "305a0aa9d27a41fe84de801cbe7ad763",
            "b6217b66eedd4a3cac88eb9c911dcc6b"
          ]
        },
        "id": "Zb8MmZ8rVWYC",
        "outputId": "c622532b-edb9-429c-eb29-d05e0238c33b"
      },
      "outputs": [
        {
          "output_type": "display_data",
          "data": {
            "text/plain": [
              "Downloading:   0%|          | 0.00/436M [00:00<?, ?B/s]"
            ],
            "application/vnd.jupyter.widget-view+json": {
              "version_major": 2,
              "version_minor": 0,
              "model_id": "c5320650a23c4be4975ebb6594dd8806"
            }
          },
          "metadata": {}
        },
        {
          "output_type": "stream",
          "name": "stderr",
          "text": [
            "Some weights of the model checkpoint at bert-base-cased were not used when initializing BertModel: ['cls.predictions.decoder.weight', 'cls.predictions.transform.LayerNorm.weight', 'cls.seq_relationship.bias', 'cls.predictions.bias', 'cls.predictions.transform.LayerNorm.bias', 'cls.seq_relationship.weight', 'cls.predictions.transform.dense.bias', 'cls.predictions.transform.dense.weight']\n",
            "- This IS expected if you are initializing BertModel from the checkpoint of a model trained on another task or with another architecture (e.g. initializing a BertForSequenceClassification model from a BertForPreTraining model).\n",
            "- This IS NOT expected if you are initializing BertModel from the checkpoint of a model that you expect to be exactly identical (initializing a BertForSequenceClassification model from a BertForSequenceClassification model).\n"
          ]
        }
      ],
      "source": [
        "epochs = [1,2,3,4,5,6,7,8,9,10]\n",
        "test_acc =[]\n",
        "val_acc=[]\n",
        "\n",
        "from torch.optim import Adam\n",
        "from tqdm import tqdm\n",
        "\n",
        "def train_accuracy(model, train_data, val_data, learning_rate, epochs,checkpoint_path , best_model_path , valid_accuracy_max_input):\n",
        "    test_acc.clear()\n",
        "    val_acc.clear()\n",
        "    valid_accuracy_max=valid_accuracy_max_input\n",
        "    # valid_loss_min = valid_loss_min_input \n",
        "    train, val = Dataset(train_data), Dataset(val_data)\n",
        "\n",
        "    train_dataloader = torch.utils.data.DataLoader(train, batch_size=4, shuffle=True)\n",
        "    val_dataloader = torch.utils.data.DataLoader(val, batch_size=4)\n",
        "\n",
        "    use_cuda = torch.cuda.is_available()\n",
        "    device = torch.device(\"cuda\" if use_cuda else \"cpu\")\n",
        "\n",
        "    criterion = nn.CrossEntropyLoss()\n",
        "    optimizer = Adam(model.parameters(), lr= learning_rate)\n",
        "\n",
        "    if use_cuda:\n",
        "\n",
        "            model = model.cuda()\n",
        "            criterion = criterion.cuda()\n",
        "\n",
        "    for epoch_num in epochs:\n",
        "            total_acc_train = 0\n",
        "            total_loss_train = 0\n",
        "\n",
        "            for train_input, train_label in tqdm(train_dataloader):\n",
        "\n",
        "                train_label = train_label.to(device)\n",
        "                mask = train_input['attention_mask'].to(device)\n",
        "                input_id = train_input['input_ids'].squeeze(1).to(device)\n",
        "\n",
        "                output = model(input_id, mask)\n",
        "                # train_label_squeeze = train_label\n",
        "                # train_label = train_label.unsqueeze(1)\n",
        "                # train_label = train_label.float()\n",
        "                batch_loss = criterion(output, train_label)\n",
        "                total_loss_train += batch_loss.item()\n",
        "                \n",
        "                acc = (output.argmax(dim=1) == train_label).sum().item()\n",
        "                total_acc_train += acc\n",
        "                model.zero_grad()\n",
        "                batch_loss.backward()\n",
        "                optimizer.step()\n",
        "            \n",
        "            total_acc_val = 0\n",
        "            total_loss_val = 0\n",
        "\n",
        "            with torch.no_grad():\n",
        "\n",
        "                for val_input, val_label in val_dataloader:\n",
        "\n",
        "                    val_label = val_label.to(device)\n",
        "                    mask = val_input['attention_mask'].to(device)\n",
        "                    input_id = val_input['input_ids'].squeeze(1).to(device)\n",
        "\n",
        "                    output = model(input_id, mask)\n",
        "                    batch_loss = criterion(output, val_label)\n",
        "                    total_loss_val += batch_loss.item()\n",
        "                    \n",
        "                    acc = (output.argmax(dim=1) == val_label).sum().item()\n",
        "                    total_acc_val += acc\n",
        "            \n",
        "            print(\n",
        "                f'Epochs: {epoch_num } | Train Loss: {total_loss_train / len(train_data): .3f} \\\n",
        "                | Train Accuracy: {total_acc_train / len(train_data): .3f} \\\n",
        "                | Val Loss: {total_loss_val / len(val_data): .3f} \\\n",
        "                | Val Accuracy: {total_acc_val / len(val_data): .3f}')\n",
        "            test_acc.append(total_acc_train / len(train_data))\n",
        "            val_acc.append(total_acc_val / len(val_data))\n",
        "          \n",
        "            valid_loss = total_loss_val/len(val_data)\n",
        "            valid_accuracy=total_acc_val / len(val_data)\n",
        "            checkpoint = {\n",
        "                'epoch': epoch_num ,\n",
        "                'valid_loss_min': valid_loss,\n",
        "                'valid_accuracy_max':total_acc_val / len(val_data),\n",
        "                'state_dict': model.state_dict(),\n",
        "                'optimizer': optimizer.state_dict(),\n",
        "                'learning_rate': learning_rate\n",
        "                }\n",
        "            save_ckp(checkpoint, False, checkpoint_path, best_model_path)\n",
        "\n",
        "            if valid_accuracy >= valid_accuracy_max:\n",
        "              print('Validation Accuracy increased ({:.6f} --> {:.6f}).  Saving model ...'.format(valid_accuracy_max,valid_accuracy))\n",
        "              # save checkpoint as best model\n",
        "              save_ckp(checkpoint, True, checkpoint_path, best_model_path)\n",
        "              # valid_loss_min = valid_loss\n",
        "              valid_accuracy_max=valid_accuracy\n",
        "                  \n",
        "# EPOCHS = 5\n",
        "model = BertClassifier()\n",
        "LR = 5e-6\n",
        "checkpoint_path = '/content/drive/MyDrive/bert/checkpointsacc/check.pt'\n",
        "best_model = '/content/drive/MyDrive/bert/bestmodelacc/model.pt'"
      ]
    },
    {
      "cell_type": "markdown",
      "source": [
        "# Training"
      ],
      "metadata": {
        "id": "KXGIEBugA8Te"
      }
    },
    {
      "cell_type": "markdown",
      "source": [
        "## 5e-4"
      ],
      "metadata": {
        "id": "udHnofz7sU-m"
      }
    },
    {
      "cell_type": "code",
      "source": [
        "LR = 5e-4\n",
        "epochs = [1,2,3,4,5,6,7,8,9,10]\n",
        "test_acc =[]\n",
        "val_acc=[]\n",
        "train_acc=[]\n",
        "checkpoint_path = '/content/drive/MyDrive/bert/checkpointsacc/check.pt'\n",
        "best_model = '/content/drive/MyDrive/bert/bestmodelacc/model.pt'\n"
      ],
      "metadata": {
        "id": "0yXKRR1HsaNl"
      },
      "execution_count": null,
      "outputs": []
    },
    {
      "cell_type": "code",
      "execution_count": null,
      "metadata": {
        "colab": {
          "base_uri": "https://localhost:8080/"
        },
        "outputId": "25514bc5-b469-4b9a-b57f-36b9036af8e4",
        "id": "CNId4Ba3sjCM"
      },
      "outputs": [
        {
          "metadata": {
            "tags": null
          },
          "name": "stderr",
          "output_type": "stream",
          "text": [
            "Some weights of the model checkpoint at bert-base-cased were not used when initializing BertModel: ['cls.predictions.bias', 'cls.predictions.transform.LayerNorm.bias', 'cls.predictions.transform.LayerNorm.weight', 'cls.predictions.transform.dense.bias', 'cls.predictions.decoder.weight', 'cls.predictions.transform.dense.weight', 'cls.seq_relationship.bias', 'cls.seq_relationship.weight']\n",
            "- This IS expected if you are initializing BertModel from the checkpoint of a model trained on another task or with another architecture (e.g. initializing a BertForSequenceClassification model from a BertForPreTraining model).\n",
            "- This IS NOT expected if you are initializing BertModel from the checkpoint of a model that you expect to be exactly identical (initializing a BertForSequenceClassification model from a BertForSequenceClassification model).\n",
            "100%|██████████| 8750/8750 [54:48<00:00,  2.66it/s]\n"
          ]
        },
        {
          "metadata": {
            "tags": null
          },
          "name": "stdout",
          "output_type": "stream",
          "text": [
            "Epochs: 1 | Train Loss:  0.174                 | Train Accuracy:  0.500                 | Val Loss:  0.173                 | Val Accuracy:  0.500\n",
            "Validation Accuracy increased (-inf --> 0.500000).  Saving model ...\n"
          ]
        },
        {
          "metadata": {
            "tags": null
          },
          "name": "stderr",
          "output_type": "stream",
          "text": [
            "100%|██████████| 8750/8750 [54:19<00:00,  2.68it/s]\n"
          ]
        },
        {
          "metadata": {
            "tags": null
          },
          "name": "stdout",
          "output_type": "stream",
          "text": [
            "Epochs: 2 | Train Loss:  0.173                 | Train Accuracy:  0.500                 | Val Loss:  0.173                 | Val Accuracy:  0.500\n",
            "Validation Accuracy increased (0.500000 --> 0.500000).  Saving model ...\n"
          ]
        },
        {
          "metadata": {
            "tags": null
          },
          "name": "stderr",
          "output_type": "stream",
          "text": [
            "100%|██████████| 8750/8750 [54:17<00:00,  2.69it/s]\n"
          ]
        },
        {
          "metadata": {
            "tags": null
          },
          "name": "stdout",
          "output_type": "stream",
          "text": [
            "Epochs: 3 | Train Loss:  0.173                 | Train Accuracy:  0.500                 | Val Loss:  0.173                 | Val Accuracy:  0.500\n",
            "Validation Accuracy increased (0.500000 --> 0.500000).  Saving model ...\n"
          ]
        },
        {
          "metadata": {
            "tags": null
          },
          "name": "stderr",
          "output_type": "stream",
          "text": [
            "100%|██████████| 8750/8750 [54:17<00:00,  2.69it/s]\n"
          ]
        },
        {
          "metadata": {
            "tags": null
          },
          "name": "stdout",
          "output_type": "stream",
          "text": [
            "Epochs: 4 | Train Loss:  0.173                 | Train Accuracy:  0.500                 | Val Loss:  0.173                 | Val Accuracy:  0.500\n",
            "Validation Accuracy increased (0.500000 --> 0.500000).  Saving model ...\n"
          ]
        },
        {
          "metadata": {
            "tags": null
          },
          "name": "stderr",
          "output_type": "stream",
          "text": [
            "100%|██████████| 8750/8750 [54:17<00:00,  2.69it/s]\n"
          ]
        },
        {
          "metadata": {
            "tags": null
          },
          "name": "stdout",
          "output_type": "stream",
          "text": [
            "Epochs: 5 | Train Loss:  0.173                 | Train Accuracy:  0.500                 | Val Loss:  0.173                 | Val Accuracy:  0.500\n",
            "Validation Accuracy increased (0.500000 --> 0.500000).  Saving model ...\n"
          ]
        },
        {
          "output_type": "stream",
          "name": "stderr",
          "text": [
            "100%|██████████| 8750/8750 [54:18<00:00,  2.69it/s]\n"
          ]
        },
        {
          "output_type": "stream",
          "name": "stdout",
          "text": [
            "Epochs: 6 | Train Loss:  0.173                 | Train Accuracy:  0.500                 | Val Loss:  0.173                 | Val Accuracy:  0.500\n",
            "Validation Accuracy increased (0.500000 --> 0.500000).  Saving model ...\n"
          ]
        },
        {
          "output_type": "stream",
          "name": "stderr",
          "text": [
            " 31%|███       | 2705/8750 [16:47<37:26,  2.69it/s]"
          ]
        }
      ],
      "source": [
        "model = BertClassifier()\n",
        "LR = 5e-4\n",
        "optimizer = Adam(model.parameters(), lr= LR)\n",
        "train_accuracy(model, train_data, validation_data, LR, epochs,checkpoint_path, best_model, -np.inf)\n"
      ]
    },
    {
      "cell_type": "code",
      "execution_count": null,
      "metadata": {
        "colab": {
          "base_uri": "https://localhost:8080/"
        },
        "outputId": "73f3db93-e04f-4a54-8d08-ff5c633dde8b",
        "id": "qbKrGf6rs6Nn"
      },
      "outputs": [
        {
          "output_type": "stream",
          "name": "stderr",
          "text": [
            "100%|██████████| 8750/8750 [54:21<00:00,  2.68it/s]\n"
          ]
        },
        {
          "output_type": "stream",
          "name": "stdout",
          "text": [
            "Epochs: 7 | Train Loss:  0.174                 | Train Accuracy:  0.500                 | Val Loss:  0.173                 | Val Accuracy:  0.500\n",
            "Validation Accuracy increased (0.500000 --> 0.500200).  Saving model ...\n"
          ]
        },
        {
          "output_type": "stream",
          "name": "stderr",
          "text": [
            "100%|██████████| 8750/8750 [54:14<00:00,  2.69it/s]\n"
          ]
        },
        {
          "output_type": "stream",
          "name": "stdout",
          "text": [
            "Epochs: 8 | Train Loss:  0.173                 | Train Accuracy:  0.500                 | Val Loss:  0.173                 | Val Accuracy:  0.500\n"
          ]
        },
        {
          "output_type": "stream",
          "name": "stderr",
          "text": [
            "100%|██████████| 8750/8750 [54:16<00:00,  2.69it/s]\n"
          ]
        },
        {
          "output_type": "stream",
          "name": "stdout",
          "text": [
            "Epochs: 9 | Train Loss:  0.173                 | Train Accuracy:  0.500                 | Val Loss:  0.173                 | Val Accuracy:  0.500\n"
          ]
        },
        {
          "output_type": "stream",
          "name": "stderr",
          "text": [
            "100%|██████████| 8750/8750 [54:18<00:00,  2.69it/s]\n"
          ]
        },
        {
          "output_type": "stream",
          "name": "stdout",
          "text": [
            "Epochs: 10 | Train Loss:  0.173                 | Train Accuracy:  0.500                 | Val Loss:  0.173                 | Val Accuracy:  0.500\n"
          ]
        }
      ],
      "source": [
        "#epoch 3\n",
        "train_accuracy(model, train_data, validation_data, LR, EPOCHS,checkpoint_path, best_model, valid_accuracy_max)\n"
      ]
    },
    {
      "cell_type": "code",
      "source": [
        "train_acc=[0.500,0.500,0.500,0.500,0.500,0.500,0.500,0.500,0.500,0.500]\n",
        "val_acc=[0.500,0.500,0.50,0.500,0.500,0.500,0.500,0.500,0.500,0.500]"
      ],
      "metadata": {
        "id": "7VOy70i4uqjN"
      },
      "execution_count": null,
      "outputs": []
    },
    {
      "cell_type": "code",
      "source": [
        "plt.plot(range(1,11), val_acc, label='Validation Accuracy')\n",
        "plt.plot(range(1,11), train_acc, label='Training Accuracy')\n",
        "plt.legend()\n",
        "plt.xlabel('Epochs')\n",
        "plt.ylabel('Validation Accuracy and Training Accuracy')\n",
        "plt.title('Accuracy vs Epochs')\n",
        "plt.show()"
      ],
      "metadata": {
        "colab": {
          "base_uri": "https://localhost:8080/",
          "height": 295
        },
        "id": "qn0zmZ_3tZL-",
        "outputId": "0e89f3c8-fdc3-433a-a8bc-84768a6cf7ba"
      },
      "execution_count": null,
      "outputs": [
        {
          "output_type": "display_data",
          "data": {
            "text/plain": [
              "<Figure size 432x288 with 1 Axes>"
            ],
            "image/png": "[encoded data removed]"
          },
          "metadata": {
            "needs_background": "light"
          }
        }
      ]
    },
    {
      "cell_type": "markdown",
      "source": [
        "## 5e-6"
      ],
      "metadata": {
        "id": "NJq8sH0ZA-au"
      }
    },
    {
      "cell_type": "code",
      "source": [
        "LR = 5e-6\n",
        "epochs = [1,2,3,4,5,6,7,8,9,10]\n",
        "test_acc =[]\n",
        "val_acc=[]\n",
        "train_acc=[]\n",
        "\n",
        "checkpoint_path = '/content/drive/MyDrive/bert/checkpointsacclr5e-6/check.pt'\n",
        "best_model = '/content/drive/MyDrive/bert/bestmodelacclr5e-6/model.pt'"
      ],
      "metadata": {
        "id": "j-SGDx6LWzfz"
      },
      "execution_count": null,
      "outputs": []
    },
    {
      "cell_type": "code",
      "execution_count": null,
      "metadata": {
        "colab": {
          "base_uri": "https://localhost:8080/"
        },
        "id": "ZjXOakx91qbw",
        "outputId": "260b822a-dc4f-4efa-e2f4-123cd796a3b2"
      },
      "outputs": [
        {
          "name": "stderr",
          "output_type": "stream",
          "text": [
            "Some weights of the model checkpoint at bert-base-cased were not used when initializing BertModel: ['cls.predictions.decoder.weight', 'cls.predictions.transform.dense.bias', 'cls.predictions.transform.LayerNorm.bias', 'cls.seq_relationship.bias', 'cls.seq_relationship.weight', 'cls.predictions.transform.LayerNorm.weight', 'cls.predictions.transform.dense.weight', 'cls.predictions.bias']\n",
            "- This IS expected if you are initializing BertModel from the checkpoint of a model trained on another task or with another architecture (e.g. initializing a BertForSequenceClassification model from a BertForPreTraining model).\n",
            "- This IS NOT expected if you are initializing BertModel from the checkpoint of a model that you expect to be exactly identical (initializing a BertForSequenceClassification model from a BertForSequenceClassification model).\n",
            "100%|██████████| 8750/8750 [58:08<00:00,  2.51it/s]\n"
          ]
        },
        {
          "name": "stdout",
          "output_type": "stream",
          "text": [
            "Epochs: 1 | Train Loss:  0.080                 | Train Accuracy:  0.854                 | Val Loss:  0.051                 | Val Accuracy:  0.926\n",
            "Validation Accuracy increased (-inf --> 0.926000).  Saving model ...\n"
          ]
        },
        {
          "name": "stderr",
          "output_type": "stream",
          "text": [
            "100%|██████████| 8750/8750 [58:04<00:00,  2.51it/s]\n"
          ]
        },
        {
          "name": "stdout",
          "output_type": "stream",
          "text": [
            "Epochs: 2 | Train Loss:  0.035                 | Train Accuracy:  0.955                 | Val Loss:  0.052                 | Val Accuracy:  0.923\n"
          ]
        },
        {
          "name": "stderr",
          "output_type": "stream",
          "text": [
            " 39%|███▉      | 3427/8750 [22:39<35:34,  2.49it/s]"
          ]
        }
      ],
      "source": [
        "model = BertClassifier()\n",
        "LR = 5e-6\n",
        "optimizer = Adam(model.parameters(), lr= LR)\n",
        "train_accuracy(model, train_data, validation_data, LR, epochs,checkpoint_path, best_model, -np.inf)"
      ]
    },
    {
      "cell_type": "code",
      "execution_count": null,
      "metadata": {
        "colab": {
          "base_uri": "https://localhost:8080/"
        },
        "id": "hxVTz4xaTgAE",
        "outputId": "b4b251e0-63cf-42cf-faa1-91ba6cee3a2f"
      },
      "outputs": [
        {
          "name": "stderr",
          "output_type": "stream",
          "text": [
            "Some weights of the model checkpoint at bert-base-cased were not used when initializing BertModel: ['cls.predictions.transform.dense.weight', 'cls.predictions.transform.LayerNorm.weight', 'cls.seq_relationship.weight', 'cls.seq_relationship.bias', 'cls.predictions.decoder.weight', 'cls.predictions.bias', 'cls.predictions.transform.dense.bias', 'cls.predictions.transform.LayerNorm.bias']\n",
            "- This IS expected if you are initializing BertModel from the checkpoint of a model trained on another task or with another architecture (e.g. initializing a BertForSequenceClassification model from a BertForPreTraining model).\n",
            "- This IS NOT expected if you are initializing BertModel from the checkpoint of a model that you expect to be exactly identical (initializing a BertForSequenceClassification model from a BertForSequenceClassification model).\n",
            "Some weights of the model checkpoint at bert-base-cased were not used when initializing BertModel: ['cls.predictions.transform.dense.weight', 'cls.predictions.transform.LayerNorm.weight', 'cls.seq_relationship.weight', 'cls.seq_relationship.bias', 'cls.predictions.decoder.weight', 'cls.predictions.bias', 'cls.predictions.transform.dense.bias', 'cls.predictions.transform.LayerNorm.bias']\n",
            "- This IS expected if you are initializing BertModel from the checkpoint of a model trained on another task or with another architecture (e.g. initializing a BertForSequenceClassification model from a BertForPreTraining model).\n",
            "- This IS NOT expected if you are initializing BertModel from the checkpoint of a model that you expect to be exactly identical (initializing a BertForSequenceClassification model from a BertForSequenceClassification model).\n"
          ]
        },
        {
          "name": "stdout",
          "output_type": "stream",
          "text": [
            "range(3, 11)\n"
          ]
        }
      ],
      "source": [
        "# reload ckp and start training from the last epoch\n",
        "model = BertClassifier()\n",
        "optimizer = Adam(model.parameters(), lr= LR)\n",
        "_,_, _, valid_accuracy_max,_ = load_model_accuracy(best_model, model, optimizer)\n",
        "model = BertClassifier()\n",
        "optimizer = Adam(model.parameters(), lr= LR)\n",
        "model, optimizer, start_epoch,_, LR = load_ckp_accuracy(checkpoint_path, model, optimizer)\n",
        "EPOCHS = range(start_epoch+1,11)\n",
        "print(EPOCHS)"
      ]
    },
    {
      "cell_type": "code",
      "execution_count": null,
      "metadata": {
        "colab": {
          "base_uri": "https://localhost:8080/"
        },
        "id": "br_js2jVTzUD",
        "outputId": "6d9939d1-3ab2-44a4-c8de-1d25f7316081"
      },
      "outputs": [
        {
          "name": "stderr",
          "output_type": "stream",
          "text": [
            "100%|██████████| 8750/8750 [55:30<00:00,  2.63it/s]\n"
          ]
        },
        {
          "name": "stdout",
          "output_type": "stream",
          "text": [
            "Epochs: 3 | Train Loss:  0.015                 | Train Accuracy:  0.984                 | Val Loss:  0.064                 | Val Accuracy:  0.928\n",
            "Validation Accuracy increased (0.926000 --> 0.928000).  Saving model ...\n"
          ]
        },
        {
          "name": "stderr",
          "output_type": "stream",
          "text": [
            "100%|██████████| 8750/8750 [55:23<00:00,  2.63it/s]\n"
          ]
        },
        {
          "name": "stdout",
          "output_type": "stream",
          "text": [
            "Epochs: 4 | Train Loss:  0.008                 | Train Accuracy:  0.992                 | Val Loss:  0.082                 | Val Accuracy:  0.928\n"
          ]
        },
        {
          "name": "stderr",
          "output_type": "stream",
          "text": [
            " 11%|█▏        | 1003/8750 [06:21<49:03,  2.63it/s]"
          ]
        }
      ],
      "source": [
        "#epoch 3\n",
        "train_accuracy(model, train_data, validation_data, LR, EPOCHS,checkpoint_path, best_model, valid_accuracy_max)"
      ]
    },
    {
      "cell_type": "code",
      "execution_count": null,
      "metadata": {
        "colab": {
          "base_uri": "https://localhost:8080/"
        },
        "id": "SQg0NDQXNKkp",
        "outputId": "8c11eae1-adec-4494-cf1b-580c6b9d7ae2"
      },
      "outputs": [
        {
          "name": "stderr",
          "output_type": "stream",
          "text": [
            "Some weights of the model checkpoint at bert-base-cased were not used when initializing BertModel: ['cls.predictions.decoder.weight', 'cls.predictions.bias', 'cls.predictions.transform.dense.weight', 'cls.predictions.transform.LayerNorm.bias', 'cls.seq_relationship.bias', 'cls.seq_relationship.weight', 'cls.predictions.transform.dense.bias', 'cls.predictions.transform.LayerNorm.weight']\n",
            "- This IS expected if you are initializing BertModel from the checkpoint of a model trained on another task or with another architecture (e.g. initializing a BertForSequenceClassification model from a BertForPreTraining model).\n",
            "- This IS NOT expected if you are initializing BertModel from the checkpoint of a model that you expect to be exactly identical (initializing a BertForSequenceClassification model from a BertForSequenceClassification model).\n",
            "Some weights of the model checkpoint at bert-base-cased were not used when initializing BertModel: ['cls.predictions.decoder.weight', 'cls.predictions.bias', 'cls.predictions.transform.dense.weight', 'cls.predictions.transform.LayerNorm.bias', 'cls.seq_relationship.bias', 'cls.seq_relationship.weight', 'cls.predictions.transform.dense.bias', 'cls.predictions.transform.LayerNorm.weight']\n",
            "- This IS expected if you are initializing BertModel from the checkpoint of a model trained on another task or with another architecture (e.g. initializing a BertForSequenceClassification model from a BertForPreTraining model).\n",
            "- This IS NOT expected if you are initializing BertModel from the checkpoint of a model that you expect to be exactly identical (initializing a BertForSequenceClassification model from a BertForSequenceClassification model).\n"
          ]
        },
        {
          "name": "stdout",
          "output_type": "stream",
          "text": [
            "range(5, 11)\n"
          ]
        }
      ],
      "source": [
        "# reload ckp and start training from the last epoch\n",
        "model = BertClassifier()\n",
        "optimizer = Adam(model.parameters(), lr= LR)\n",
        "_,_, _, valid_accuracy_max,_ = load_model_accuracy(best_model, model, optimizer)\n",
        "model = BertClassifier()\n",
        "optimizer = Adam(model.parameters(), lr= LR)\n",
        "model, optimizer, start_epoch,_, LR = load_ckp_accuracy(checkpoint_path, model, optimizer)\n",
        "EPOCHS = range(start_epoch+1,11)\n",
        "print(EPOCHS)"
      ]
    },
    {
      "cell_type": "code",
      "execution_count": null,
      "metadata": {
        "colab": {
          "background_save": true,
          "base_uri": "https://localhost:8080/"
        },
        "id": "rjh0ry9QNR7P",
        "outputId": "77fe47f5-8e26-4219-8772-a994f82ef952"
      },
      "outputs": [
        {
          "name": "stderr",
          "output_type": "stream",
          "text": [
            "100%|██████████| 8750/8750 [59:47<00:00,  2.44it/s]\n"
          ]
        },
        {
          "name": "stdout",
          "output_type": "stream",
          "text": [
            "Epochs: 5 | Train Loss:  0.006                 | Train Accuracy:  0.995                 | Val Loss:  0.093                 | Val Accuracy:  0.931\n",
            "Validation Accuracy increased (0.928000 --> 0.930800).  Saving model ...\n"
          ]
        },
        {
          "name": "stderr",
          "output_type": "stream",
          "text": [
            "100%|██████████| 8750/8750 [59:46<00:00,  2.44it/s]\n"
          ]
        },
        {
          "name": "stdout",
          "output_type": "stream",
          "text": [
            "Epochs: 6 | Train Loss:  0.005                 | Train Accuracy:  0.996                 | Val Loss:  0.101                 | Val Accuracy:  0.933\n",
            "Validation Accuracy increased (0.930800 --> 0.932600).  Saving model ...\n"
          ]
        },
        {
          "name": "stderr",
          "output_type": "stream",
          "text": [
            " 85%|████████▌ | 7452/8750 [50:51<08:51,  2.44it/s]"
          ]
        }
      ],
      "source": [
        "train_accuracy(model, train_data, validation_data, LR, EPOCHS,checkpoint_path, best_model, valid_accuracy_max)"
      ]
    },
    {
      "cell_type": "code",
      "execution_count": null,
      "metadata": {
        "id": "-uBm-LOcU_Cw",
        "colab": {
          "base_uri": "https://localhost:8080/"
        },
        "outputId": "a9c60deb-efc8-4c5a-b744-81bec134a6a7"
      },
      "outputs": [
        {
          "output_type": "stream",
          "name": "stderr",
          "text": [
            "Some weights of the model checkpoint at bert-base-cased were not used when initializing BertModel: ['cls.predictions.transform.LayerNorm.weight', 'cls.seq_relationship.bias', 'cls.seq_relationship.weight', 'cls.predictions.transform.dense.weight', 'cls.predictions.transform.LayerNorm.bias', 'cls.predictions.bias', 'cls.predictions.decoder.weight', 'cls.predictions.transform.dense.bias']\n",
            "- This IS expected if you are initializing BertModel from the checkpoint of a model trained on another task or with another architecture (e.g. initializing a BertForSequenceClassification model from a BertForPreTraining model).\n",
            "- This IS NOT expected if you are initializing BertModel from the checkpoint of a model that you expect to be exactly identical (initializing a BertForSequenceClassification model from a BertForSequenceClassification model).\n",
            "Some weights of the model checkpoint at bert-base-cased were not used when initializing BertModel: ['cls.predictions.transform.LayerNorm.weight', 'cls.seq_relationship.bias', 'cls.seq_relationship.weight', 'cls.predictions.transform.dense.weight', 'cls.predictions.transform.LayerNorm.bias', 'cls.predictions.bias', 'cls.predictions.decoder.weight', 'cls.predictions.transform.dense.bias']\n",
            "- This IS expected if you are initializing BertModel from the checkpoint of a model trained on another task or with another architecture (e.g. initializing a BertForSequenceClassification model from a BertForPreTraining model).\n",
            "- This IS NOT expected if you are initializing BertModel from the checkpoint of a model that you expect to be exactly identical (initializing a BertForSequenceClassification model from a BertForSequenceClassification model).\n"
          ]
        },
        {
          "output_type": "stream",
          "name": "stdout",
          "text": [
            "range(7, 11)\n"
          ]
        }
      ],
      "source": [
        "# reload ckp and start training from the last epoch\n",
        "model = BertClassifier()\n",
        "optimizer = Adam(model.parameters(), lr= LR)\n",
        "_,_, _, valid_accuracy_max,_ = load_model_accuracy(best_model, model, optimizer)\n",
        "model = BertClassifier()\n",
        "optimizer = Adam(model.parameters(), lr= LR)\n",
        "model, optimizer, start_epoch,_, LR = load_ckp_accuracy(checkpoint_path, model, optimizer)\n",
        "EPOCHS = range(start_epoch+1,11)\n",
        "print(EPOCHS)"
      ]
    },
    {
      "cell_type": "code",
      "execution_count": null,
      "metadata": {
        "id": "URaZkbHuVAyM",
        "colab": {
          "base_uri": "https://localhost:8080/"
        },
        "outputId": "9d5abb1c-637b-4330-99cc-ae49582905b9"
      },
      "outputs": [
        {
          "output_type": "stream",
          "name": "stderr",
          "text": [
            "100%|██████████| 8750/8750 [57:06<00:00,  2.55it/s]\n"
          ]
        },
        {
          "output_type": "stream",
          "name": "stdout",
          "text": [
            "Epochs: 7 | Train Loss:  0.004                 | Train Accuracy:  0.996                 | Val Loss:  0.105                 | Val Accuracy:  0.935\n",
            "Validation Accuracy increased (0.932600 --> 0.935200).  Saving model ...\n"
          ]
        },
        {
          "output_type": "stream",
          "name": "stderr",
          "text": [
            "100%|██████████| 8750/8750 [57:09<00:00,  2.55it/s]\n"
          ]
        },
        {
          "output_type": "stream",
          "name": "stdout",
          "text": [
            "Epochs: 8 | Train Loss:  0.004                 | Train Accuracy:  0.996                 | Val Loss:  0.096                 | Val Accuracy:  0.937\n",
            "Validation Accuracy increased (0.935200 --> 0.936600).  Saving model ...\n"
          ]
        },
        {
          "output_type": "stream",
          "name": "stderr",
          "text": [
            " 72%|███████▏  | 6280/8750 [40:59<16:04,  2.56it/s]"
          ]
        }
      ],
      "source": [
        "train_accuracy(model, train_data, validation_data, LR, EPOCHS,checkpoint_path, best_model, valid_accuracy_max)"
      ]
    },
    {
      "cell_type": "code",
      "source": [
        "# reload ckp and start training from the last epoch\n",
        "model = BertClassifier()\n",
        "optimizer = Adam(model.parameters(), lr= LR)\n",
        "_,_, _, valid_accuracy_max,_ = load_model_accuracy(best_model, model, optimizer)\n",
        "model = BertClassifier()\n",
        "optimizer = Adam(model.parameters(), lr= LR)\n",
        "model, optimizer, start_epoch,_, LR = load_ckp_accuracy(checkpoint_path, model, optimizer)\n",
        "EPOCHS = range(start_epoch+1,11)\n",
        "print(EPOCHS)"
      ],
      "metadata": {
        "id": "O5JZlnt_4MJo",
        "colab": {
          "base_uri": "https://localhost:8080/"
        },
        "outputId": "35ac25ec-1e18-4fe2-fd09-ea732cf93ba6"
      },
      "execution_count": null,
      "outputs": [
        {
          "output_type": "stream",
          "name": "stderr",
          "text": [
            "Some weights of the model checkpoint at bert-base-cased were not used when initializing BertModel: ['cls.predictions.bias', 'cls.seq_relationship.bias', 'cls.predictions.decoder.weight', 'cls.predictions.transform.LayerNorm.bias', 'cls.predictions.transform.dense.weight', 'cls.predictions.transform.dense.bias', 'cls.predictions.transform.LayerNorm.weight', 'cls.seq_relationship.weight']\n",
            "- This IS expected if you are initializing BertModel from the checkpoint of a model trained on another task or with another architecture (e.g. initializing a BertForSequenceClassification model from a BertForPreTraining model).\n",
            "- This IS NOT expected if you are initializing BertModel from the checkpoint of a model that you expect to be exactly identical (initializing a BertForSequenceClassification model from a BertForSequenceClassification model).\n",
            "Some weights of the model checkpoint at bert-base-cased were not used when initializing BertModel: ['cls.predictions.bias', 'cls.seq_relationship.bias', 'cls.predictions.decoder.weight', 'cls.predictions.transform.LayerNorm.bias', 'cls.predictions.transform.dense.weight', 'cls.predictions.transform.dense.bias', 'cls.predictions.transform.LayerNorm.weight', 'cls.seq_relationship.weight']\n",
            "- This IS expected if you are initializing BertModel from the checkpoint of a model trained on another task or with another architecture (e.g. initializing a BertForSequenceClassification model from a BertForPreTraining model).\n",
            "- This IS NOT expected if you are initializing BertModel from the checkpoint of a model that you expect to be exactly identical (initializing a BertForSequenceClassification model from a BertForSequenceClassification model).\n"
          ]
        },
        {
          "output_type": "stream",
          "name": "stdout",
          "text": [
            "range(9, 11)\n"
          ]
        }
      ]
    },
    {
      "cell_type": "code",
      "source": [
        "train_accuracy(model, train_data, validation_data, LR, EPOCHS,checkpoint_path, best_model, valid_accuracy_max)"
      ],
      "metadata": {
        "id": "qTXNZnbK4QKN",
        "colab": {
          "base_uri": "https://localhost:8080/"
        },
        "outputId": "773fab68-8760-439f-bced-f4705935adf2"
      },
      "execution_count": null,
      "outputs": [
        {
          "output_type": "stream",
          "name": "stderr",
          "text": [
            "100%|██████████| 8750/8750 [55:13<00:00,  2.64it/s]\n"
          ]
        },
        {
          "output_type": "stream",
          "name": "stdout",
          "text": [
            "Epochs: 9 | Train Loss:  0.004                 | Train Accuracy:  0.997                 | Val Loss:  0.113                 | Val Accuracy:  0.931\n"
          ]
        },
        {
          "output_type": "stream",
          "name": "stderr",
          "text": [
            "100%|██████████| 8750/8750 [55:18<00:00,  2.64it/s]\n"
          ]
        },
        {
          "output_type": "stream",
          "name": "stdout",
          "text": [
            "Epochs: 10 | Train Loss:  0.003                 | Train Accuracy:  0.997                 | Val Loss:  0.110                 | Val Accuracy:  0.934\n"
          ]
        }
      ]
    },
    {
      "cell_type": "code",
      "source": [
        "# reload ckp and start training from the last epoch\n",
        "model = BertClassifier()\n",
        "optimizer = Adam(model.parameters(), lr= LR)\n",
        "_,_, _, valid_accuracy_max,_ = load_model_accuracy(best_model, model, optimizer)\n",
        "model = BertClassifier()\n",
        "optimizer = Adam(model.parameters(), lr= LR)\n",
        "model, optimizer, start_epoch,_, LR = load_ckp_accuracy(checkpoint_path, model, optimizer)\n",
        "EPOCHS = range(start_epoch+1,16)\n",
        "print(EPOCHS)"
      ],
      "metadata": {
        "colab": {
          "base_uri": "https://localhost:8080/"
        },
        "id": "L66SR7_4UB4q",
        "outputId": "78f89768-9193-4b10-f56d-0ca627c18382"
      },
      "execution_count": null,
      "outputs": [
        {
          "output_type": "stream",
          "name": "stderr",
          "text": [
            "Some weights of the model checkpoint at bert-base-cased were not used when initializing BertModel: ['cls.predictions.bias', 'cls.seq_relationship.bias', 'cls.predictions.decoder.weight', 'cls.predictions.transform.LayerNorm.bias', 'cls.predictions.transform.dense.weight', 'cls.predictions.transform.dense.bias', 'cls.predictions.transform.LayerNorm.weight', 'cls.seq_relationship.weight']\n",
            "- This IS expected if you are initializing BertModel from the checkpoint of a model trained on another task or with another architecture (e.g. initializing a BertForSequenceClassification model from a BertForPreTraining model).\n",
            "- This IS NOT expected if you are initializing BertModel from the checkpoint of a model that you expect to be exactly identical (initializing a BertForSequenceClassification model from a BertForSequenceClassification model).\n",
            "Some weights of the model checkpoint at bert-base-cased were not used when initializing BertModel: ['cls.predictions.bias', 'cls.seq_relationship.bias', 'cls.predictions.decoder.weight', 'cls.predictions.transform.LayerNorm.bias', 'cls.predictions.transform.dense.weight', 'cls.predictions.transform.dense.bias', 'cls.predictions.transform.LayerNorm.weight', 'cls.seq_relationship.weight']\n",
            "- This IS expected if you are initializing BertModel from the checkpoint of a model trained on another task or with another architecture (e.g. initializing a BertForSequenceClassification model from a BertForPreTraining model).\n",
            "- This IS NOT expected if you are initializing BertModel from the checkpoint of a model that you expect to be exactly identical (initializing a BertForSequenceClassification model from a BertForSequenceClassification model).\n"
          ]
        },
        {
          "output_type": "stream",
          "name": "stdout",
          "text": [
            "range(11, 16)\n"
          ]
        }
      ]
    },
    {
      "cell_type": "code",
      "source": [
        "train_accuracy(model, train_data, validation_data, LR, EPOCHS,checkpoint_path, best_model, valid_accuracy_max)"
      ],
      "metadata": {
        "colab": {
          "base_uri": "https://localhost:8080/"
        },
        "id": "25bPrjuAUE-2",
        "outputId": "2c766334-feee-4405-94af-c824e0d2fa58"
      },
      "execution_count": null,
      "outputs": [
        {
          "output_type": "stream",
          "name": "stderr",
          "text": [
            "100%|██████████| 8750/8750 [54:59<00:00,  2.65it/s]\n"
          ]
        },
        {
          "output_type": "stream",
          "name": "stdout",
          "text": [
            "Epochs: 11 | Train Loss:  0.003                 | Train Accuracy:  0.997                 | Val Loss:  0.134                 | Val Accuracy:  0.931\n"
          ]
        },
        {
          "output_type": "stream",
          "name": "stderr",
          "text": [
            "100%|██████████| 8750/8750 [54:57<00:00,  2.65it/s]\n"
          ]
        },
        {
          "output_type": "stream",
          "name": "stdout",
          "text": [
            "Epochs: 12 | Train Loss:  0.002                 | Train Accuracy:  0.998                 | Val Loss:  0.107                 | Val Accuracy:  0.934\n"
          ]
        },
        {
          "output_type": "stream",
          "name": "stderr",
          "text": [
            "100%|██████████| 8750/8750 [54:52<00:00,  2.66it/s]\n"
          ]
        },
        {
          "output_type": "stream",
          "name": "stdout",
          "text": [
            "Epochs: 13 | Train Loss:  0.002                 | Train Accuracy:  0.998                 | Val Loss:  0.139                 | Val Accuracy:  0.931\n"
          ]
        },
        {
          "output_type": "stream",
          "name": "stderr",
          "text": [
            "100%|██████████| 8750/8750 [54:43<00:00,  2.67it/s]\n"
          ]
        },
        {
          "output_type": "stream",
          "name": "stdout",
          "text": [
            "Epochs: 14 | Train Loss:  0.002                 | Train Accuracy:  0.998                 | Val Loss:  0.150                 | Val Accuracy:  0.931\n"
          ]
        },
        {
          "output_type": "stream",
          "name": "stderr",
          "text": [
            " 10%|█         | 886/8750 [05:31<48:55,  2.68it/s]"
          ]
        }
      ]
    },
    {
      "cell_type": "code",
      "source": [
        "# reload ckp and start training from the last epoch\n",
        "model = BertClassifier()\n",
        "optimizer = Adam(model.parameters(), lr= LR)\n",
        "_,_, _, valid_accuracy_max,_ = load_model_accuracy(best_model, model, optimizer)\n",
        "model = BertClassifier()\n",
        "optimizer = Adam(model.parameters(), lr= LR)\n",
        "model, optimizer, start_epoch,_, LR = load_ckp_accuracy(checkpoint_path, model, optimizer)\n",
        "EPOCHS = range(start_epoch+1,16)\n",
        "print(EPOCHS)"
      ],
      "metadata": {
        "colab": {
          "base_uri": "https://localhost:8080/"
        },
        "id": "1OrrHQuFpr7k",
        "outputId": "565ac0f7-e543-4535-e400-a19d4e0a77d7"
      },
      "execution_count": null,
      "outputs": [
        {
          "output_type": "stream",
          "name": "stderr",
          "text": [
            "Some weights of the model checkpoint at bert-base-cased were not used when initializing BertModel: ['cls.predictions.decoder.weight', 'cls.predictions.transform.LayerNorm.weight', 'cls.seq_relationship.bias', 'cls.predictions.bias', 'cls.predictions.transform.LayerNorm.bias', 'cls.seq_relationship.weight', 'cls.predictions.transform.dense.bias', 'cls.predictions.transform.dense.weight']\n",
            "- This IS expected if you are initializing BertModel from the checkpoint of a model trained on another task or with another architecture (e.g. initializing a BertForSequenceClassification model from a BertForPreTraining model).\n",
            "- This IS NOT expected if you are initializing BertModel from the checkpoint of a model that you expect to be exactly identical (initializing a BertForSequenceClassification model from a BertForSequenceClassification model).\n",
            "Some weights of the model checkpoint at bert-base-cased were not used when initializing BertModel: ['cls.predictions.decoder.weight', 'cls.predictions.transform.LayerNorm.weight', 'cls.seq_relationship.bias', 'cls.predictions.bias', 'cls.predictions.transform.LayerNorm.bias', 'cls.seq_relationship.weight', 'cls.predictions.transform.dense.bias', 'cls.predictions.transform.dense.weight']\n",
            "- This IS expected if you are initializing BertModel from the checkpoint of a model trained on another task or with another architecture (e.g. initializing a BertForSequenceClassification model from a BertForPreTraining model).\n",
            "- This IS NOT expected if you are initializing BertModel from the checkpoint of a model that you expect to be exactly identical (initializing a BertForSequenceClassification model from a BertForSequenceClassification model).\n"
          ]
        },
        {
          "output_type": "stream",
          "name": "stdout",
          "text": [
            "range(15, 16)\n"
          ]
        }
      ]
    },
    {
      "cell_type": "code",
      "source": [
        "train_accuracy(model, train_data, validation_data, LR, EPOCHS,checkpoint_path, best_model, valid_accuracy_max)"
      ],
      "metadata": {
        "colab": {
          "base_uri": "https://localhost:8080/"
        },
        "id": "j1ZjxXASptvt",
        "outputId": "05ff1bf0-d81d-4f49-853f-38e1e54205c7"
      },
      "execution_count": null,
      "outputs": [
        {
          "output_type": "stream",
          "name": "stderr",
          "text": [
            "100%|██████████| 8750/8750 [58:37<00:00,  2.49it/s]\n"
          ]
        },
        {
          "output_type": "stream",
          "name": "stdout",
          "text": [
            "Epochs: 15 | Train Loss:  0.002                 | Train Accuracy:  0.998                 | Val Loss:  0.126                 | Val Accuracy:  0.931\n"
          ]
        }
      ]
    },
    {
      "cell_type": "code",
      "source": [
        "plt.plot(range(1,16), val_acc, label='Validation Accuracy')\n",
        "plt.plot(range(1,16), train_acc, label='Training Accuracy')\n",
        "plt.legend()\n",
        "plt.xlabel('Epochs')\n",
        "plt.ylabel('Validation Accuracy and Training Accuracy')\n",
        "plt.title('Accuracy vs Epochs')\n",
        "plt.show()"
      ],
      "metadata": {
        "colab": {
          "base_uri": "https://localhost:8080/",
          "height": 295
        },
        "id": "EMRH5NG7EeZG",
        "outputId": "294e5ff2-9e99-404c-bca5-b25f231db8f8"
      },
      "execution_count": null,
      "outputs": [
        {
          "output_type": "display_data",
          "data": {
            "text/plain": [
              "<Figure size 432x288 with 1 Axes>"
            ],
            "image/png": "[encoded data removed]"
          },
          "metadata": {
            "needs_background": "light"
          }
        }
      ]
    },
    {
      "cell_type": "markdown",
      "source": [
        "## 5e-5"
      ],
      "metadata": {
        "id": "a6dVlH90E6H2"
      }
    },
    {
      "cell_type": "code",
      "source": [
        "LR = 5e-5\n",
        "epochs = [1,2,3,4,5,6,7,8,9,10]\n",
        "test_acc =[]\n",
        "val_acc=[]\n",
        "train_acc=[]\n",
        "\n",
        "checkpoint_path = '/content/drive/MyDrive/bert/checkpointsacclr5e-5/check.pt'\n",
        "best_model = '/content/drive/MyDrive/bert/bestmodelacclr5e-5/model.pt'"
      ],
      "metadata": {
        "id": "h3Jkc4W-E7ln"
      },
      "execution_count": null,
      "outputs": []
    },
    {
      "cell_type": "code",
      "source": [
        "model = BertClassifier()\n",
        "optimizer = Adam(model.parameters(), lr= LR)\n",
        "train_accuracy(model, train_data, validation_data, LR, epochs,checkpoint_path, best_model, -np.inf)"
      ],
      "metadata": {
        "colab": {
          "base_uri": "https://localhost:8080/"
        },
        "outputId": "33d9a722-9040-40be-b9a7-f6f22aac5247",
        "id": "GqUuE7PJFWs9"
      },
      "execution_count": null,
      "outputs": [
        {
          "metadata": {
            "tags": null
          },
          "name": "stderr",
          "output_type": "stream",
          "text": [
            "Some weights of the model checkpoint at bert-base-cased were not used when initializing BertModel: ['cls.predictions.transform.dense.weight', 'cls.predictions.transform.dense.bias', 'cls.seq_relationship.weight', 'cls.seq_relationship.bias', 'cls.predictions.bias', 'cls.predictions.transform.LayerNorm.weight', 'cls.predictions.transform.LayerNorm.bias', 'cls.predictions.decoder.weight']\n",
            "- This IS expected if you are initializing BertModel from the checkpoint of a model trained on another task or with another architecture (e.g. initializing a BertForSequenceClassification model from a BertForPreTraining model).\n",
            "- This IS NOT expected if you are initializing BertModel from the checkpoint of a model that you expect to be exactly identical (initializing a BertForSequenceClassification model from a BertForSequenceClassification model).\n",
            "100%|██████████| 8750/8750 [54:22<00:00,  2.68it/s]\n"
          ]
        },
        {
          "metadata": {
            "tags": null
          },
          "name": "stdout",
          "output_type": "stream",
          "text": [
            "Epochs: 1 | Train Loss:  0.174                 | Train Accuracy:  0.500                 | Val Loss:  0.173                 | Val Accuracy:  0.500\n",
            "Validation Accuracy increased (-inf --> 0.499800).  Saving model ...\n"
          ]
        },
        {
          "metadata": {
            "tags": null
          },
          "name": "stderr",
          "output_type": "stream",
          "text": [
            "100%|██████████| 8750/8750 [54:01<00:00,  2.70it/s]\n"
          ]
        },
        {
          "metadata": {
            "tags": null
          },
          "name": "stdout",
          "output_type": "stream",
          "text": [
            "Epochs: 2 | Train Loss:  0.173                 | Train Accuracy:  0.500                 | Val Loss:  0.173                 | Val Accuracy:  0.500\n",
            "Validation Accuracy increased (0.499800 --> 0.500200).  Saving model ...\n"
          ]
        },
        {
          "output_type": "stream",
          "name": "stderr",
          "text": [
            "100%|██████████| 8750/8750 [53:02<00:00,  2.75it/s]\n"
          ]
        },
        {
          "output_type": "stream",
          "name": "stdout",
          "text": [
            "Epochs: 3 | Train Loss:  0.173                 | Train Accuracy:  0.500                 | Val Loss:  0.173                 | Val Accuracy:  0.499\n"
          ]
        },
        {
          "output_type": "stream",
          "name": "stderr",
          "text": [
            "100%|██████████| 8750/8750 [52:48<00:00,  2.76it/s]\n"
          ]
        }
      ]
    },
    {
      "cell_type": "code",
      "source": [
        "# reload ckp and start training from the last epoch\n",
        "model = BertClassifier()\n",
        "optimizer = Adam(model.parameters(), lr= LR)\n",
        "_,_, _, valid_accuracy_max,_ = load_model_accuracy(best_model, model, optimizer)\n",
        "model = BertClassifier()\n",
        "optimizer = Adam(model.parameters(), lr= LR)\n",
        "model, optimizer, start_epoch,_, LR = load_ckp_accuracy(checkpoint_path, model, optimizer)\n",
        "EPOCHS = range(start_epoch+1,10)\n",
        "print(EPOCHS)"
      ],
      "metadata": {
        "colab": {
          "base_uri": "https://localhost:8080/"
        },
        "outputId": "0bdebf4e-6003-4015-dbbf-94f5b7ddf32e",
        "id": "uNuHC4n6Fawu"
      },
      "execution_count": null,
      "outputs": [
        {
          "output_type": "stream",
          "name": "stdout",
          "text": [
            "Some weights of the model checkpoint at bert-base-cased were not used when initializing BertModel: ['cls.predictions.decoder.weight', 'cls.predictions.transform.LayerNorm.weight', 'cls.seq_relationship.bias', 'cls.predictions.bias', 'cls.predictions.transform.LayerNorm.bias', 'cls.seq_relationship.weight', 'cls.predictions.transform.dense.bias', 'cls.predictions.transform.dense.weight']\n",
            "- This IS expected if you are initializing BertModel from the checkpoint of a model trained on another task or with another architecture (e.g. initializing a BertForSequenceClassification model from a BertForPreTraining model).\n",
            "- This IS NOT expected if you are initializing BertModel from the checkpoint of a model that you expect to be exactly identical (initializing a BertForSequenceClassification model from a BertForSequenceClassification model).\n",
            "Some weights of the model checkpoint at bert-base-cased were not used when initializing BertModel: ['cls.predictions.decoder.weight', 'cls.predictions.transform.LayerNorm.weight', 'cls.seq_relationship.bias', 'cls.predictions.bias', 'cls.predictions.transform.LayerNorm.bias', 'cls.seq_relationship.weight', 'cls.predictions.transform.dense.bias', 'cls.predictions.transform.dense.weight']\n",
            "- This IS expected if you are initializing BertModel from the checkpoint of a model trained on another task or with another architecture (e.g. initializing a BertForSequenceClassification model from a BertForPreTraining model).\n",
            "- This IS NOT expected if you are initializing BertModel from the checkpoint of a model that you expect to be exactly identical (initializing a BertForSequenceClassification model from a BertForSequenceClassification model).\n",
            "range(4, 10)\n"
          ]
        }
      ]
    },
    {
      "cell_type": "code",
      "source": [
        "#epoch 4\n",
        "train_accuracy(model, train_data, validation_data, LR, EPOCHS,checkpoint_path, best_model, valid_accuracy_max)"
      ],
      "metadata": {
        "colab": {
          "base_uri": "https://localhost:8080/"
        },
        "id": "0l63J8AfIMSO",
        "outputId": "2e364bf0-c891-4dd7-b653-26f3f039a514"
      },
      "execution_count": null,
      "outputs": [
        {
          "output_type": "stream",
          "name": "stdout",
          "text": [
            "Some weights of the model checkpoint at bert-base-cased were not used when initializing BertModel: ['cls.predictions.transform.dense.weight', 'cls.predictions.transform.dense.bias', 'cls.seq_relationship.weight', 'cls.seq_relationship.bias', 'cls.predictions.bias', 'cls.predictions.transform.LayerNorm.weight', 'cls.predictions.transform.LayerNorm.bias', 'cls.predictions.decoder.weight']\n",
            "- This IS expected if you are initializing BertModel from the checkpoint of a model trained on another task or with another architecture (e.g. initializing a BertForSequenceClassification model from a BertForPreTraining model).\n",
            "- This IS NOT expected if you are initializing BertModel from the checkpoint of a model that you expect to be exactly identical (initializing a BertForSequenceClassification model from a BertForSequenceClassification model).\n",
            "100%|██████████| 8750/8750 [54:43<00:00,  2.66it/s]\n",
            "Epochs: 4 | Train Loss:  0.173                 | Train Accuracy:  0.500                 | Val Loss:  0.173                 | Val Accuracy:  0.500\n"
          ]
        }
      ]
    },
    {
      "cell_type": "code",
      "source": [
        "# reload ckp and start training from the last epoch\n",
        "model = BertClassifier()\n",
        "optimizer = Adam(model.parameters(), lr= LR)\n",
        "_,_, _, valid_accuracy_max,_ = load_model_accuracy(best_model, model, optimizer)\n",
        "model = BertClassifier()\n",
        "optimizer = Adam(model.parameters(), lr= LR)\n",
        "model, optimizer, start_epoch,_, LR = load_ckp_accuracy(checkpoint_path, model, optimizer)\n",
        "EPOCHS = range(start_epoch+1,11)\n",
        "print(EPOCHS)"
      ],
      "metadata": {
        "colab": {
          "base_uri": "https://localhost:8080/"
        },
        "id": "MfYRZMAUGOV7",
        "outputId": "00a931ad-9f66-477b-d94b-716113b0614b"
      },
      "execution_count": null,
      "outputs": [
        {
          "output_type": "stream",
          "name": "stdout",
          "text": [
            "Some weights of the model checkpoint at bert-base-cased were not used when initializing BertModel: ['cls.predictions.decoder.weight', 'cls.predictions.transform.LayerNorm.weight', 'cls.seq_relationship.bias', 'cls.predictions.bias', 'cls.predictions.transform.LayerNorm.bias', 'cls.seq_relationship.weight', 'cls.predictions.transform.dense.bias', 'cls.predictions.transform.dense.weight']\n",
            "- This IS expected if you are initializing BertModel from the checkpoint of a model trained on another task or with another architecture (e.g. initializing a BertForSequenceClassification model from a BertForPreTraining model).\n",
            "- This IS NOT expected if you are initializing BertModel from the checkpoint of a model that you expect to be exactly identical (initializing a BertForSequenceClassification model from a BertForSequenceClassification model).\n",
            "Some weights of the model checkpoint at bert-base-cased were not used when initializing BertModel: ['cls.predictions.decoder.weight', 'cls.predictions.transform.LayerNorm.weight', 'cls.seq_relationship.bias', 'cls.predictions.bias', 'cls.predictions.transform.LayerNorm.bias', 'cls.seq_relationship.weight', 'cls.predictions.transform.dense.bias', 'cls.predictions.transform.dense.weight']\n",
            "- This IS expected if you are initializing BertModel from the checkpoint of a model trained on another task or with another architecture (e.g. initializing a BertForSequenceClassification model from a BertForPreTraining model).\n",
            "- This IS NOT expected if you are initializing BertModel from the checkpoint of a model that you expect to be exactly identical (initializing a BertForSequenceClassification model from a BertForSequenceClassification model).\n",
            "range(5, 11)\n"
          ]
        }
      ]
    },
    {
      "cell_type": "code",
      "source": [
        "train_accuracy(model, train_data, validation_data, LR, EPOCHS,checkpoint_path, best_model, valid_accuracy_max)"
      ],
      "metadata": {
        "colab": {
          "base_uri": "https://localhost:8080/"
        },
        "id": "oMRTCYbbIqRG",
        "outputId": "94797688-7423-44e0-cd9c-85a56677bb10"
      },
      "execution_count": null,
      "outputs": [
        {
          "output_type": "stream",
          "name": "stdout",
          "text": [
            "100%|██████████| 8750/8750 [51:44<00:00,  2.82it/s]\n",
            "Epochs: 5 | Train Loss:  0.173                 | Train Accuracy:  0.500                 | Val Loss:  0.173                 | Val Accuracy:  0.500\n",
            " 44%|████▍     | 3887/8750 [23:00<28:51,  2.81it/s]\n"
          ]
        }
      ]
    },
    {
      "cell_type": "code",
      "source": [
        "# reload ckp and start training from the last epoch\n",
        "model = BertClassifier()\n",
        "optimizer = Adam(model.parameters(), lr= LR)\n",
        "_,_, _, valid_accuracy_max,_ = load_model_accuracy(best_model, model, optimizer)\n",
        "model = BertClassifier()\n",
        "optimizer = Adam(model.parameters(), lr= LR)\n",
        "model, optimizer, start_epoch,_, LR = load_ckp_accuracy(checkpoint_path, model, optimizer)\n",
        "EPOCHS = range(start_epoch+1,11)\n",
        "print(EPOCHS)"
      ],
      "metadata": {
        "colab": {
          "base_uri": "https://localhost:8080/"
        },
        "outputId": "3c3c3eb9-b347-4230-bf6f-5b1dd6c1d699",
        "id": "CHFvrtq9GiiO"
      },
      "execution_count": null,
      "outputs": [
        {
          "output_type": "stream",
          "name": "stderr",
          "text": [
            "Some weights of the model checkpoint at bert-base-cased were not used when initializing BertModel: ['cls.predictions.transform.dense.bias', 'cls.predictions.transform.LayerNorm.bias', 'cls.predictions.transform.dense.weight', 'cls.seq_relationship.weight', 'cls.predictions.transform.LayerNorm.weight', 'cls.seq_relationship.bias', 'cls.predictions.bias', 'cls.predictions.decoder.weight']\n",
            "- This IS expected if you are initializing BertModel from the checkpoint of a model trained on another task or with another architecture (e.g. initializing a BertForSequenceClassification model from a BertForPreTraining model).\n",
            "- This IS NOT expected if you are initializing BertModel from the checkpoint of a model that you expect to be exactly identical (initializing a BertForSequenceClassification model from a BertForSequenceClassification model).\n",
            "Some weights of the model checkpoint at bert-base-cased were not used when initializing BertModel: ['cls.predictions.transform.dense.bias', 'cls.predictions.transform.LayerNorm.bias', 'cls.predictions.transform.dense.weight', 'cls.seq_relationship.weight', 'cls.predictions.transform.LayerNorm.weight', 'cls.seq_relationship.bias', 'cls.predictions.bias', 'cls.predictions.decoder.weight']\n",
            "- This IS expected if you are initializing BertModel from the checkpoint of a model trained on another task or with another architecture (e.g. initializing a BertForSequenceClassification model from a BertForPreTraining model).\n",
            "- This IS NOT expected if you are initializing BertModel from the checkpoint of a model that you expect to be exactly identical (initializing a BertForSequenceClassification model from a BertForSequenceClassification model).\n"
          ]
        },
        {
          "output_type": "stream",
          "name": "stdout",
          "text": [
            "range(6, 11)\n"
          ]
        }
      ]
    },
    {
      "cell_type": "code",
      "source": [
        "train_accuracy(model, train_data, validation_data, LR, EPOCHS,checkpoint_path, best_model, valid_accuracy_max)"
      ],
      "metadata": {
        "colab": {
          "base_uri": "https://localhost:8080/"
        },
        "id": "IRZw6ncxJNBz",
        "outputId": "70b11d9f-6d4c-4b16-e9e1-2bdb1f6b186d"
      },
      "execution_count": null,
      "outputs": [
        {
          "output_type": "stream",
          "name": "stdout",
          "text": [
            "100%|██████████| 8750/8750 [53:07<00:00,  2.75it/s]\n",
            "Epochs: 6 | Train Loss:  0.173                 | Train Accuracy:  0.500                 | Val Loss:  0.173                 | Val Accuracy:  0.500\n",
            "Validation Accuracy increased (0.500200 --> 0.500200).  Saving model ...\n",
            "100%|██████████| 8750/8750 [53:06<00:00,  2.75it/s]\n",
            "Epochs: 7 | Train Loss:  0.173                 | Train Accuracy:  0.500                 | Val Loss:  0.173                 | Val Accuracy:  0.500\n",
            "Validation Accuracy increased (0.500200 --> 0.500200).  Saving model ...\n",
            "100%|██████████| 8750/8750 [53:03<00:00,  2.75it/s]\n",
            "Epochs: 8 | Train Loss:  0.173                 | Train Accuracy:  0.500                 | Val Loss:  0.173                 | Val Accuracy:  0.500\n",
            "100%|██████████| 8750/8750 [53:03<00:00,  2.75it/s]\n"
          ]
        }
      ]
    },
    {
      "cell_type": "code",
      "source": [
        "# reload ckp and start training from the last epoch\n",
        "model = BertClassifier()\n",
        "optimizer = Adam(model.parameters(), lr= LR)\n",
        "_,_, _, valid_accuracy_max,_ = load_model_accuracy(best_model, model, optimizer)\n",
        "model = BertClassifier()\n",
        "optimizer = Adam(model.parameters(), lr= LR)\n",
        "model, optimizer, start_epoch,_, LR = load_ckp_accuracy(checkpoint_path, model, optimizer)\n",
        "EPOCHS = range(start_epoch+1,11)\n",
        "print(EPOCHS)"
      ],
      "metadata": {
        "colab": {
          "base_uri": "https://localhost:8080/"
        },
        "id": "aN18BzDc1d6K",
        "outputId": "54078d18-1275-43a0-9e2b-0385eed1841a"
      },
      "execution_count": null,
      "outputs": [
        {
          "output_type": "stream",
          "name": "stderr",
          "text": [
            "Some weights of the model checkpoint at bert-base-cased were not used when initializing BertModel: ['cls.predictions.transform.LayerNorm.bias', 'cls.predictions.decoder.weight', 'cls.seq_relationship.bias', 'cls.predictions.bias', 'cls.predictions.transform.dense.bias', 'cls.predictions.transform.dense.weight', 'cls.predictions.transform.LayerNorm.weight', 'cls.seq_relationship.weight']\n",
            "- This IS expected if you are initializing BertModel from the checkpoint of a model trained on another task or with another architecture (e.g. initializing a BertForSequenceClassification model from a BertForPreTraining model).\n",
            "- This IS NOT expected if you are initializing BertModel from the checkpoint of a model that you expect to be exactly identical (initializing a BertForSequenceClassification model from a BertForSequenceClassification model).\n",
            "Some weights of the model checkpoint at bert-base-cased were not used when initializing BertModel: ['cls.predictions.transform.LayerNorm.bias', 'cls.predictions.decoder.weight', 'cls.seq_relationship.bias', 'cls.predictions.bias', 'cls.predictions.transform.dense.bias', 'cls.predictions.transform.dense.weight', 'cls.predictions.transform.LayerNorm.weight', 'cls.seq_relationship.weight']\n",
            "- This IS expected if you are initializing BertModel from the checkpoint of a model trained on another task or with another architecture (e.g. initializing a BertForSequenceClassification model from a BertForPreTraining model).\n",
            "- This IS NOT expected if you are initializing BertModel from the checkpoint of a model that you expect to be exactly identical (initializing a BertForSequenceClassification model from a BertForSequenceClassification model).\n"
          ]
        },
        {
          "output_type": "stream",
          "name": "stdout",
          "text": [
            "range(9, 11)\n"
          ]
        }
      ]
    },
    {
      "cell_type": "code",
      "source": [
        "train_accuracy(model, train_data, validation_data, LR, EPOCHS,checkpoint_path, best_model, valid_accuracy_max)"
      ],
      "metadata": {
        "colab": {
          "base_uri": "https://localhost:8080/"
        },
        "id": "RzEvq1Ub1zk-",
        "outputId": "004a78e8-966b-4546-d6ae-4a57b2a176e6"
      },
      "execution_count": null,
      "outputs": [
        {
          "output_type": "stream",
          "name": "stderr",
          "text": [
            "100%|██████████| 8750/8750 [54:46<00:00,  2.66it/s]\n"
          ]
        },
        {
          "output_type": "stream",
          "name": "stdout",
          "text": [
            "Epochs: 9 | Train Loss:  0.173                 | Train Accuracy:  0.500                 | Val Loss:  0.173                 | Val Accuracy:  0.500\n"
          ]
        },
        {
          "output_type": "stream",
          "name": "stderr",
          "text": [
            "100%|██████████| 8750/8750 [54:51<00:00,  2.66it/s]\n"
          ]
        },
        {
          "output_type": "stream",
          "name": "stdout",
          "text": [
            "Epochs: 10 | Train Loss:  0.173                 | Train Accuracy:  0.500                 | Val Loss:  0.173                 | Val Accuracy:  0.500\n"
          ]
        }
      ]
    },
    {
      "cell_type": "code",
      "source": [
        "train_acc=[0.500,0.500,0.500,0.500,0.500,0.500,0.500,0.500,0.500,0.500]\n",
        "val_acc=[0.499800,0.500200,0.499,0.500,0.500,0.500200,0.500200,0.500,0.500,0.500]"
      ],
      "metadata": {
        "id": "iWbjiEu-mlZB"
      },
      "execution_count": null,
      "outputs": []
    },
    {
      "cell_type": "code",
      "source": [
        "plt.plot(range(1,11), val_acc, label='Validation Accuracy')\n",
        "plt.plot(range(1,11), train_acc, label='Training Accuracy')\n",
        "plt.legend()\n",
        "plt.xlabel('Epochs')\n",
        "plt.ylabel('Validation Accuracy and Training Accuracy')\n",
        "plt.title('Accuracy vs Epochs')\n",
        "plt.show()"
      ],
      "metadata": {
        "colab": {
          "base_uri": "https://localhost:8080/",
          "height": 295
        },
        "id": "iu5rLOckJ-im",
        "outputId": "78493024-7a69-4e9f-f0c4-579e5120f6f5"
      },
      "execution_count": null,
      "outputs": [
        {
          "output_type": "display_data",
          "data": {
            "text/plain": [
              "<Figure size 432x288 with 1 Axes>"
            ],
            "image/png": "[encoded data removed]"
          },
          "metadata": {
            "needs_background": "light"
          }
        }
      ]
    },
    {
      "cell_type": "markdown",
      "source": [
        "## 1e-5"
      ],
      "metadata": {
        "id": "uqh_5qnzKtDh"
      }
    },
    {
      "cell_type": "code",
      "source": [
        "LR = 1e-5\n",
        "epochs = [1,2,3,4,5,6,7,8,9,10]\n",
        "test_acc =[]\n",
        "val_acc=[]\n",
        "train_acc=[]\n",
        "\n",
        "checkpoint_path = '/content/drive/MyDrive/bert/checkpointsacclr1e-5/check.pt'\n",
        "best_model = '/content/drive/MyDrive/bert/bestmodelacclr1e-5/model.pt'"
      ],
      "metadata": {
        "id": "6n6gRxs-TB_w"
      },
      "execution_count": null,
      "outputs": []
    },
    {
      "cell_type": "code",
      "source": [
        "model = BertClassifier()\n",
        "optimizer = Adam(model.parameters(), lr= LR)\n",
        "train_accuracy(model, train_data, validation_data, LR, epochs,checkpoint_path, best_model, -np.inf)"
      ],
      "metadata": {
        "colab": {
          "base_uri": "https://localhost:8080/"
        },
        "outputId": "dc9ae77b-1345-4646-bd14-03a1ab90925f",
        "id": "n2b7Z0xmKzY5"
      },
      "execution_count": null,
      "outputs": [
        {
          "metadata": {
            "tags": null
          },
          "name": "stderr",
          "output_type": "stream",
          "text": [
            "Some weights of the model checkpoint at bert-base-cased were not used when initializing BertModel: ['cls.predictions.transform.dense.weight', 'cls.seq_relationship.weight', 'cls.seq_relationship.bias', 'cls.predictions.transform.LayerNorm.bias', 'cls.predictions.bias', 'cls.predictions.decoder.weight', 'cls.predictions.transform.LayerNorm.weight', 'cls.predictions.transform.dense.bias']\n",
            "- This IS expected if you are initializing BertModel from the checkpoint of a model trained on another task or with another architecture (e.g. initializing a BertForSequenceClassification model from a BertForPreTraining model).\n",
            "- This IS NOT expected if you are initializing BertModel from the checkpoint of a model that you expect to be exactly identical (initializing a BertForSequenceClassification model from a BertForSequenceClassification model).\n",
            "100%|██████████| 8750/8750 [55:55<00:00,  2.61it/s]\n"
          ]
        },
        {
          "metadata": {
            "tags": null
          },
          "name": "stdout",
          "output_type": "stream",
          "text": [
            "Epochs: 1 | Train Loss:  0.112                 | Train Accuracy:  0.756                 | Val Loss:  0.056                 | Val Accuracy:  0.918\n",
            "Validation Accuracy increased (-inf --> 0.918400).  Saving model ...\n"
          ]
        },
        {
          "output_type": "stream",
          "name": "stderr",
          "text": [
            "100%|██████████| 8750/8750 [56:18<00:00,  2.59it/s]\n"
          ]
        },
        {
          "output_type": "stream",
          "name": "stdout",
          "text": [
            "Epochs: 2 | Train Loss:  0.046                 | Train Accuracy:  0.936                 | Val Loss:  0.049                 | Val Accuracy:  0.927\n",
            "Validation Accuracy increased (0.918400 --> 0.926600).  Saving model ...\n"
          ]
        },
        {
          "output_type": "stream",
          "name": "stderr",
          "text": [
            " 24%|██▍       | 2133/8750 [13:44<42:20,  2.60it/s]"
          ]
        }
      ]
    },
    {
      "cell_type": "code",
      "source": [
        "# reload ckp and start training from the last epoch\n",
        "model = BertClassifier()\n",
        "optimizer = Adam(model.parameters(), lr= LR)\n",
        "_,_, _, valid_accuracy_max,_ = load_model_accuracy(best_model, model, optimizer)\n",
        "model = BertClassifier()\n",
        "optimizer = Adam(model.parameters(), lr= LR)\n",
        "model, optimizer, start_epoch,_, LR = load_ckp_accuracy(checkpoint_path, model, optimizer)\n",
        "EPOCHS = range(start_epoch+1,10)\n",
        "print(EPOCHS)"
      ],
      "metadata": {
        "id": "CfPRsXLBMC5f",
        "colab": {
          "base_uri": "https://localhost:8080/"
        },
        "outputId": "15b0bc97-c5d4-41f6-bc31-a29d63a802d8"
      },
      "execution_count": null,
      "outputs": [
        {
          "output_type": "stream",
          "name": "stderr",
          "text": [
            "Some weights of the model checkpoint at bert-base-cased were not used when initializing BertModel: ['cls.predictions.transform.LayerNorm.bias', 'cls.predictions.decoder.weight', 'cls.predictions.transform.dense.weight', 'cls.predictions.bias', 'cls.seq_relationship.bias', 'cls.predictions.transform.dense.bias', 'cls.predictions.transform.LayerNorm.weight', 'cls.seq_relationship.weight']\n",
            "- This IS expected if you are initializing BertModel from the checkpoint of a model trained on another task or with another architecture (e.g. initializing a BertForSequenceClassification model from a BertForPreTraining model).\n",
            "- This IS NOT expected if you are initializing BertModel from the checkpoint of a model that you expect to be exactly identical (initializing a BertForSequenceClassification model from a BertForSequenceClassification model).\n"
          ]
        },
        {
          "output_type": "stream",
          "name": "stdout",
          "text": [
            "range(3, 10)\n"
          ]
        }
      ]
    },
    {
      "cell_type": "code",
      "source": [
        "train_accuracy(model, train_data, validation_data, LR, EPOCHS,checkpoint_path, best_model, valid_accuracy_max)"
      ],
      "metadata": {
        "id": "nei6knji6eqw",
        "colab": {
          "base_uri": "https://localhost:8080/"
        },
        "outputId": "8098315a-e8f9-408a-e1b5-fcf9787d2add"
      },
      "execution_count": null,
      "outputs": [
        {
          "metadata": {
            "tags": null
          },
          "name": "stderr",
          "output_type": "stream",
          "text": [
            "100%|██████████| 8750/8750 [58:27<00:00,  2.49it/s]\n"
          ]
        },
        {
          "metadata": {
            "tags": null
          },
          "name": "stdout",
          "output_type": "stream",
          "text": [
            "Epochs: 3 | Train Loss:  0.023                 | Train Accuracy:  0.971                 | Val Loss:  0.054                 | Val Accuracy:  0.928\n",
            "Validation Accuracy increased (0.926600 --> 0.927600).  Saving model ...\n"
          ]
        },
        {
          "output_type": "stream",
          "name": "stderr",
          "text": [
            "100%|██████████| 8750/8750 [58:27<00:00,  2.49it/s]\n"
          ]
        },
        {
          "output_type": "stream",
          "name": "stdout",
          "text": [
            "Epochs: 4 | Train Loss:  0.013                 | Train Accuracy:  0.986                 | Val Loss:  0.057                 | Val Accuracy:  0.929\n",
            "Validation Accuracy increased (0.927600 --> 0.929000).  Saving model ...\n"
          ]
        },
        {
          "output_type": "stream",
          "name": "stderr",
          "text": [
            "100%|██████████| 8750/8750 [58:35<00:00,  2.49it/s]\n"
          ]
        },
        {
          "output_type": "stream",
          "name": "stdout",
          "text": [
            "Epochs: 5 | Train Loss:  0.009                 | Train Accuracy:  0.991                 | Val Loss:  0.079                 | Val Accuracy:  0.927\n"
          ]
        },
        {
          "output_type": "stream",
          "name": "stderr",
          "text": [
            " 69%|██████▉   | 6035/8750 [40:29<18:09,  2.49it/s]"
          ]
        }
      ]
    },
    {
      "cell_type": "code",
      "source": [
        "# reload ckp and start training from the last epoch\n",
        "model = BertClassifier()\n",
        "optimizer = Adam(model.parameters(), lr= LR)\n",
        "_,_, _, valid_accuracy_max,_ = load_model_accuracy(best_model, model, optimizer)\n",
        "model = BertClassifier()\n",
        "optimizer = Adam(model.parameters(), lr= LR)\n",
        "model, optimizer, start_epoch,_, LR = load_ckp_accuracy(checkpoint_path, model, optimizer)\n",
        "EPOCHS = range(start_epoch+1,11)\n",
        "print(EPOCHS)"
      ],
      "metadata": {
        "colab": {
          "base_uri": "https://localhost:8080/"
        },
        "id": "cBYPf7v_qSqz",
        "outputId": "63611a2a-7106-4548-daa8-d4c774f844a9"
      },
      "execution_count": null,
      "outputs": [
        {
          "output_type": "stream",
          "name": "stderr",
          "text": [
            "Some weights of the model checkpoint at bert-base-cased were not used when initializing BertModel: ['cls.predictions.transform.LayerNorm.weight', 'cls.seq_relationship.weight', 'cls.predictions.transform.dense.weight', 'cls.predictions.transform.dense.bias', 'cls.seq_relationship.bias', 'cls.predictions.decoder.weight', 'cls.predictions.bias', 'cls.predictions.transform.LayerNorm.bias']\n",
            "- This IS expected if you are initializing BertModel from the checkpoint of a model trained on another task or with another architecture (e.g. initializing a BertForSequenceClassification model from a BertForPreTraining model).\n",
            "- This IS NOT expected if you are initializing BertModel from the checkpoint of a model that you expect to be exactly identical (initializing a BertForSequenceClassification model from a BertForSequenceClassification model).\n"
          ]
        },
        {
          "output_type": "stream",
          "name": "stdout",
          "text": [
            "range(6, 11)\n"
          ]
        }
      ]
    },
    {
      "cell_type": "code",
      "source": [
        "train_accuracy(model, train_data, validation_data, LR, EPOCHS,checkpoint_path, best_model, valid_accuracy_max)"
      ],
      "metadata": {
        "colab": {
          "base_uri": "https://localhost:8080/"
        },
        "id": "M7sNqO5NLh-7",
        "outputId": "afdaeaea-5565-4700-e2bd-3f22e1892731"
      },
      "execution_count": null,
      "outputs": [
        {
          "output_type": "stream",
          "name": "stdout",
          "text": [
            "100%|██████████| 8750/8750 [55:50<00:00,  2.61it/s]\n",
            "Epochs: 6 | Train Loss:  0.007                 | Train Accuracy:  0.993                 | Val Loss:  0.080                 | Val Accuracy:  0.929\n",
            "100%|██████████| 8750/8750 [55:49<00:00,  2.61it/s]\n",
            "Epochs: 7 | Train Loss:  0.007                 | Train Accuracy:  0.992                 | Val Loss:  0.081                 | Val Accuracy:  0.932\n",
            "Validation Accuracy increased (0.929000 --> 0.931600).  Saving model ...\n",
            " 27%|██▋       | 2387/8750 [15:13<40:37,  2.61it/s]\n"
          ]
        }
      ]
    },
    {
      "cell_type": "code",
      "source": [
        "# reload ckp and start training from the last epoch\n",
        "model = BertClassifier()\n",
        "optimizer = Adam(model.parameters(), lr= LR)\n",
        "_,_, _, valid_accuracy_max,_ = load_model_accuracy(best_model, model, optimizer)\n",
        "model = BertClassifier()\n",
        "optimizer = Adam(model.parameters(), lr= LR)\n",
        "model, optimizer, start_epoch,_, LR = load_ckp_accuracy(checkpoint_path, model, optimizer)\n",
        "EPOCHS = range(start_epoch+1,11)\n",
        "print(EPOCHS)"
      ],
      "metadata": {
        "colab": {
          "base_uri": "https://localhost:8080/"
        },
        "id": "dGjkDggrBKbG",
        "outputId": "a3a98916-d75c-4163-d87c-7b8a2a9faad0"
      },
      "execution_count": null,
      "outputs": [
        {
          "output_type": "stream",
          "name": "stderr",
          "text": [
            "Some weights of the model checkpoint at bert-base-cased were not used when initializing BertModel: ['cls.predictions.decoder.weight', 'cls.predictions.transform.LayerNorm.bias', 'cls.seq_relationship.bias', 'cls.predictions.transform.LayerNorm.weight', 'cls.predictions.transform.dense.weight', 'cls.seq_relationship.weight', 'cls.predictions.transform.dense.bias', 'cls.predictions.bias']\n",
            "- This IS expected if you are initializing BertModel from the checkpoint of a model trained on another task or with another architecture (e.g. initializing a BertForSequenceClassification model from a BertForPreTraining model).\n",
            "- This IS NOT expected if you are initializing BertModel from the checkpoint of a model that you expect to be exactly identical (initializing a BertForSequenceClassification model from a BertForSequenceClassification model).\n",
            "Some weights of the model checkpoint at bert-base-cased were not used when initializing BertModel: ['cls.predictions.decoder.weight', 'cls.predictions.transform.LayerNorm.bias', 'cls.seq_relationship.bias', 'cls.predictions.transform.LayerNorm.weight', 'cls.predictions.transform.dense.weight', 'cls.seq_relationship.weight', 'cls.predictions.transform.dense.bias', 'cls.predictions.bias']\n",
            "- This IS expected if you are initializing BertModel from the checkpoint of a model trained on another task or with another architecture (e.g. initializing a BertForSequenceClassification model from a BertForPreTraining model).\n",
            "- This IS NOT expected if you are initializing BertModel from the checkpoint of a model that you expect to be exactly identical (initializing a BertForSequenceClassification model from a BertForSequenceClassification model).\n"
          ]
        },
        {
          "output_type": "stream",
          "name": "stdout",
          "text": [
            "range(8, 11)\n"
          ]
        }
      ]
    },
    {
      "cell_type": "code",
      "source": [
        "train_accuracy(model, train_data, validation_data, LR, EPOCHS,checkpoint_path, best_model, valid_accuracy_max)"
      ],
      "metadata": {
        "colab": {
          "base_uri": "https://localhost:8080/"
        },
        "id": "9DnuzRs2BL6I",
        "outputId": "609ad384-ab8a-4fdb-c156-f49429642157"
      },
      "execution_count": null,
      "outputs": [
        {
          "metadata": {
            "tags": null
          },
          "name": "stderr",
          "output_type": "stream",
          "text": [
            "100%|██████████| 8750/8750 [59:56<00:00,  2.43it/s]\n"
          ]
        },
        {
          "metadata": {
            "tags": null
          },
          "name": "stdout",
          "output_type": "stream",
          "text": [
            "Epochs: 8 | Train Loss:  0.005                 | Train Accuracy:  0.995                 | Val Loss:  0.092                 | Val Accuracy:  0.924\n"
          ]
        },
        {
          "metadata": {
            "tags": null
          },
          "name": "stderr",
          "output_type": "stream",
          "text": [
            "100%|██████████| 8750/8750 [59:49<00:00,  2.44it/s]\n"
          ]
        },
        {
          "metadata": {
            "tags": null
          },
          "name": "stdout",
          "output_type": "stream",
          "text": [
            "Epochs: 9 | Train Loss:  0.005                 | Train Accuracy:  0.994                 | Val Loss:  0.085                 | Val Accuracy:  0.931\n"
          ]
        },
        {
          "output_type": "stream",
          "name": "stderr",
          "text": [
            "100%|██████████| 8750/8750 [59:51<00:00,  2.44it/s]\n"
          ]
        },
        {
          "output_type": "stream",
          "name": "stdout",
          "text": [
            "Epochs: 10 | Train Loss:  0.004                 | Train Accuracy:  0.996                 | Val Loss:  0.101                 | Val Accuracy:  0.931\n"
          ]
        }
      ]
    },
    {
      "cell_type": "code",
      "source": [
        "val_acc=[0.918400,0.926600,0.927600,0.929000,0.927,0.929,0.931600,0.924,0.931,0.931]\n",
        "train_acc=[0.756,0.936,0.971,0.986,0.991,0.993,0.992,0.995,0.994,0.996]"
      ],
      "metadata": {
        "id": "d5l_ke7cUUsR"
      },
      "execution_count": null,
      "outputs": []
    },
    {
      "cell_type": "code",
      "source": [
        "plt.plot(range(1,11), val_acc, label='Validation Accuracy')\n",
        "plt.plot(range(1,11), train_acc, label='Training Accuracy')\n",
        "plt.legend()\n",
        "plt.xlabel('Epochs')\n",
        "plt.ylabel('Validation Accuracy and Training Accuracy')\n",
        "plt.title('Accuracy vs Epochs')\n",
        "plt.show()"
      ],
      "metadata": {
        "colab": {
          "base_uri": "https://localhost:8080/",
          "height": 295
        },
        "id": "36agKU49Mmq1",
        "outputId": "f0d241f4-ed3e-4371-fede-43d04b2de252"
      },
      "execution_count": null,
      "outputs": [
        {
          "output_type": "display_data",
          "data": {
            "text/plain": [
              "<Figure size 432x288 with 1 Axes>"
            ],
            "image/png": "[encoded data removed]"
          },
          "metadata": {
            "needs_background": "light"
          }
        }
      ]
    },
    {
      "cell_type": "markdown",
      "source": [
        "##1e-4"
      ],
      "metadata": {
        "id": "ThHg9QBztQkE"
      }
    },
    {
      "cell_type": "code",
      "source": [
        "LR = 1e-4\n",
        "epochs = [1,2,3,4,5,6,7,8,9,10]\n",
        "test_acc =[]\n",
        "val_acc=[]\n",
        "train_acc=[]\n",
        "checkpoint_path = '/content/drive/MyDrive/bert/checkpointsacclr1e-5/check.pt'\n",
        "best_model = '/content/drive/MyDrive/bert/bestmodelacclr1e-5/model.pt'"
      ],
      "metadata": {
        "id": "3iBPAh13tmdY"
      },
      "execution_count": null,
      "outputs": []
    },
    {
      "cell_type": "code",
      "source": [
        "model = BertClassifier()\n",
        "optimizer = Adam(model.parameters(), lr= LR)\n",
        "train_accuracy(model, train_data, validation_data, LR, epochs,checkpoint_path, best_model, -np.inf)"
      ],
      "metadata": {
        "colab": {
          "base_uri": "https://localhost:8080/"
        },
        "outputId": "cdbc325e-8cd7-4c65-ee86-859663ef9bfd",
        "id": "vrMcXp0st1o0"
      },
      "execution_count": null,
      "outputs": [
        {
          "metadata": {
            "tags": null
          },
          "name": "stderr",
          "output_type": "stream",
          "text": [
            "Some weights of the model checkpoint at bert-base-cased were not used when initializing BertModel: ['cls.seq_relationship.bias', 'cls.predictions.transform.LayerNorm.bias', 'cls.predictions.decoder.weight', 'cls.predictions.transform.dense.bias', 'cls.predictions.bias', 'cls.seq_relationship.weight', 'cls.predictions.transform.dense.weight', 'cls.predictions.transform.LayerNorm.weight']\n",
            "- This IS expected if you are initializing BertModel from the checkpoint of a model trained on another task or with another architecture (e.g. initializing a BertForSequenceClassification model from a BertForPreTraining model).\n",
            "- This IS NOT expected if you are initializing BertModel from the checkpoint of a model that you expect to be exactly identical (initializing a BertForSequenceClassification model from a BertForSequenceClassification model).\n",
            "100%|██████████| 8750/8750 [52:51<00:00,  2.76it/s]\n"
          ]
        },
        {
          "metadata": {
            "tags": null
          },
          "name": "stdout",
          "output_type": "stream",
          "text": [
            "Epochs: 1 | Train Loss:  0.173                 | Train Accuracy:  0.500                 | Val Loss:  0.173                 | Val Accuracy:  0.500\n",
            "Validation Accuracy increased (-inf --> 0.500000).  Saving model ...\n"
          ]
        },
        {
          "output_type": "stream",
          "name": "stderr",
          "text": [
            "100%|██████████| 8750/8750 [52:48<00:00,  2.76it/s]\n"
          ]
        },
        {
          "output_type": "stream",
          "name": "stdout",
          "text": [
            "Epochs: 2 | Train Loss:  0.173                 | Train Accuracy:  0.500                 | Val Loss:  0.173                 | Val Accuracy:  0.500\n",
            "Validation Accuracy increased (0.500000 --> 0.500200).  Saving model ...\n"
          ]
        },
        {
          "output_type": "stream",
          "name": "stderr",
          "text": [
            "100%|██████████| 8750/8750 [52:38<00:00,  2.77it/s]\n"
          ]
        },
        {
          "output_type": "stream",
          "name": "stdout",
          "text": [
            "Epochs: 3 | Train Loss:  0.173                 | Train Accuracy:  0.500                 | Val Loss:  0.173                 | Val Accuracy:  0.500\n"
          ]
        },
        {
          "output_type": "stream",
          "name": "stderr",
          "text": [
            " 92%|█████████▏| 8066/8750 [48:32<04:06,  2.78it/s]"
          ]
        }
      ]
    },
    {
      "cell_type": "code",
      "source": [
        "\n",
        "# reload ckp and start training from the last epoch\n",
        "model = BertClassifier()\n",
        "optimizer = Adam(model.parameters(), lr= LR)\n",
        "_,_, _, valid_accuracy_max,_ = load_model_accuracy(best_model, model, optimizer)\n",
        "model = BertClassifier()\n",
        "optimizer = Adam(model.parameters(), lr= LR)\n",
        "model, optimizer, start_epoch,_, LR = load_ckp_accuracy(checkpoint_path, model, optimizer)\n",
        "EPOCHS = range(start_epoch+1,11)\n",
        "print(EPOCHS)\n"
      ],
      "metadata": {
        "id": "pGR1N0pMyMQP",
        "colab": {
          "base_uri": "https://localhost:8080/"
        },
        "outputId": "e5b4149d-4428-4dd8-b42a-2f96d548e9e3"
      },
      "execution_count": null,
      "outputs": [
        {
          "output_type": "stream",
          "name": "stderr",
          "text": [
            "Some weights of the model checkpoint at bert-base-cased were not used when initializing BertModel: ['cls.predictions.transform.LayerNorm.weight', 'cls.seq_relationship.bias', 'cls.predictions.transform.LayerNorm.bias', 'cls.predictions.transform.dense.weight', 'cls.predictions.transform.dense.bias', 'cls.predictions.decoder.weight', 'cls.predictions.bias', 'cls.seq_relationship.weight']\n",
            "- This IS expected if you are initializing BertModel from the checkpoint of a model trained on another task or with another architecture (e.g. initializing a BertForSequenceClassification model from a BertForPreTraining model).\n",
            "- This IS NOT expected if you are initializing BertModel from the checkpoint of a model that you expect to be exactly identical (initializing a BertForSequenceClassification model from a BertForSequenceClassification model).\n",
            "Some weights of the model checkpoint at bert-base-cased were not used when initializing BertModel: ['cls.predictions.transform.LayerNorm.weight', 'cls.seq_relationship.bias', 'cls.predictions.transform.LayerNorm.bias', 'cls.predictions.transform.dense.weight', 'cls.predictions.transform.dense.bias', 'cls.predictions.decoder.weight', 'cls.predictions.bias', 'cls.seq_relationship.weight']\n",
            "- This IS expected if you are initializing BertModel from the checkpoint of a model trained on another task or with another architecture (e.g. initializing a BertForSequenceClassification model from a BertForPreTraining model).\n",
            "- This IS NOT expected if you are initializing BertModel from the checkpoint of a model that you expect to be exactly identical (initializing a BertForSequenceClassification model from a BertForSequenceClassification model).\n"
          ]
        },
        {
          "output_type": "stream",
          "name": "stdout",
          "text": [
            "range(4, 11)\n"
          ]
        }
      ]
    },
    {
      "cell_type": "code",
      "source": [
        "train_accuracy(model, train_data, validation_data, LR, EPOCHS,checkpoint_path, best_model, valid_accuracy_max)\n"
      ],
      "metadata": {
        "id": "OxPJVLwVB7tA",
        "colab": {
          "base_uri": "https://localhost:8080/"
        },
        "outputId": "7dd87a6d-ad88-4711-dcae-f9b0a69abf3a"
      },
      "execution_count": null,
      "outputs": [
        {
          "metadata": {
            "tags": null
          },
          "name": "stderr",
          "output_type": "stream",
          "text": [
            "100%|██████████| 8750/8750 [52:09<00:00,  2.80it/s]\n"
          ]
        },
        {
          "metadata": {
            "tags": null
          },
          "name": "stdout",
          "output_type": "stream",
          "text": [
            "Epochs: 4 | Train Loss:  0.173                 | Train Accuracy:  0.500                 | Val Loss:  0.173                 | Val Accuracy:  0.500\n"
          ]
        },
        {
          "metadata": {
            "tags": null
          },
          "name": "stderr",
          "output_type": "stream",
          "text": [
            "100%|██████████| 8750/8750 [52:06<00:00,  2.80it/s]\n"
          ]
        },
        {
          "metadata": {
            "tags": null
          },
          "name": "stdout",
          "output_type": "stream",
          "text": [
            "Epochs: 5 | Train Loss:  0.173                 | Train Accuracy:  0.500                 | Val Loss:  0.173                 | Val Accuracy:  0.500\n"
          ]
        },
        {
          "output_type": "stream",
          "name": "stderr",
          "text": [
            "100%|██████████| 8750/8750 [52:05<00:00,  2.80it/s]\n"
          ]
        },
        {
          "output_type": "stream",
          "name": "stdout",
          "text": [
            "Epochs: 6 | Train Loss:  0.173                 | Train Accuracy:  0.500                 | Val Loss:  0.173                 | Val Accuracy:  0.500\n"
          ]
        },
        {
          "output_type": "stream",
          "name": "stderr",
          "text": [
            "100%|██████████| 8750/8750 [52:05<00:00,  2.80it/s]\n"
          ]
        },
        {
          "output_type": "stream",
          "name": "stdout",
          "text": [
            "Epochs: 7 | Train Loss:  0.173                 | Train Accuracy:  0.500                 | Val Loss:  0.173                 | Val Accuracy:  0.500\n"
          ]
        },
        {
          "output_type": "stream",
          "name": "stderr",
          "text": [
            "100%|██████████| 8750/8750 [52:06<00:00,  2.80it/s]\n"
          ]
        },
        {
          "output_type": "stream",
          "name": "stdout",
          "text": [
            "Epochs: 8 | Train Loss:  0.173                 | Train Accuracy:  0.500                 | Val Loss:  0.173                 | Val Accuracy:  0.500\n"
          ]
        },
        {
          "output_type": "stream",
          "name": "stderr",
          "text": [
            " 77%|███████▋  | 6758/8750 [40:13<11:51,  2.80it/s]"
          ]
        }
      ]
    },
    {
      "cell_type": "code",
      "source": [
        "\n",
        "# reload ckp and start training from the last epoch\n",
        "model = BertClassifier()\n",
        "optimizer = Adam(model.parameters(), lr= LR)\n",
        "_,_, _, valid_accuracy_max,_ = load_model_accuracy(best_model, model, optimizer)\n",
        "model = BertClassifier()\n",
        "optimizer = Adam(model.parameters(), lr= LR)\n",
        "model, optimizer, start_epoch,_, LR = load_ckp_accuracy(checkpoint_path, model, optimizer)\n",
        "EPOCHS = range(start_epoch+1,11)\n",
        "print(EPOCHS)\n"
      ],
      "metadata": {
        "colab": {
          "base_uri": "https://localhost:8080/"
        },
        "outputId": "7a41e7af-e6f4-4fce-974d-9a0eec65ff52",
        "id": "wLn_lBQjoEAE"
      },
      "execution_count": null,
      "outputs": [
        {
          "output_type": "stream",
          "name": "stderr",
          "text": [
            "Some weights of the model checkpoint at bert-base-cased were not used when initializing BertModel: ['cls.seq_relationship.bias', 'cls.predictions.transform.dense.bias', 'cls.predictions.transform.LayerNorm.weight', 'cls.seq_relationship.weight', 'cls.predictions.bias', 'cls.predictions.decoder.weight', 'cls.predictions.transform.LayerNorm.bias', 'cls.predictions.transform.dense.weight']\n",
            "- This IS expected if you are initializing BertModel from the checkpoint of a model trained on another task or with another architecture (e.g. initializing a BertForSequenceClassification model from a BertForPreTraining model).\n",
            "- This IS NOT expected if you are initializing BertModel from the checkpoint of a model that you expect to be exactly identical (initializing a BertForSequenceClassification model from a BertForSequenceClassification model).\n",
            "Some weights of the model checkpoint at bert-base-cased were not used when initializing BertModel: ['cls.seq_relationship.bias', 'cls.predictions.transform.dense.bias', 'cls.predictions.transform.LayerNorm.weight', 'cls.seq_relationship.weight', 'cls.predictions.bias', 'cls.predictions.decoder.weight', 'cls.predictions.transform.LayerNorm.bias', 'cls.predictions.transform.dense.weight']\n",
            "- This IS expected if you are initializing BertModel from the checkpoint of a model trained on another task or with another architecture (e.g. initializing a BertForSequenceClassification model from a BertForPreTraining model).\n",
            "- This IS NOT expected if you are initializing BertModel from the checkpoint of a model that you expect to be exactly identical (initializing a BertForSequenceClassification model from a BertForSequenceClassification model).\n"
          ]
        },
        {
          "output_type": "stream",
          "name": "stdout",
          "text": [
            "range(9, 11)\n"
          ]
        }
      ]
    },
    {
      "cell_type": "code",
      "source": [
        "train_accuracy(model, train_data, validation_data, LR, EPOCHS,checkpoint_path, best_model, valid_accuracy_max)\n"
      ],
      "metadata": {
        "colab": {
          "base_uri": "https://localhost:8080/"
        },
        "outputId": "c77ba1ac-93b6-4310-e7c7-5e04828f21d4",
        "id": "1rJptls5oOrM"
      },
      "execution_count": null,
      "outputs": [
        {
          "metadata": {
            "tags": null
          },
          "name": "stderr",
          "output_type": "stream",
          "text": [
            "100%|██████████| 8750/8750 [53:32<00:00,  2.72it/s]\n"
          ]
        },
        {
          "metadata": {
            "tags": null
          },
          "name": "stdout",
          "output_type": "stream",
          "text": [
            "Epochs: 9 | Train Loss:  0.173                 | Train Accuracy:  0.500                 | Val Loss:  0.173                 | Val Accuracy:  0.500\n"
          ]
        },
        {
          "output_type": "stream",
          "name": "stderr",
          "text": [
            "100%|██████████| 8750/8750 [53:27<00:00,  2.73it/s]\n"
          ]
        },
        {
          "output_type": "stream",
          "name": "stdout",
          "text": [
            "Epochs: 10 | Train Loss:  0.173                 | Train Accuracy:  0.500                 | Val Loss:  0.173                 | Val Accuracy:  0.500\n"
          ]
        }
      ]
    },
    {
      "cell_type": "markdown",
      "source": [],
      "metadata": {
        "id": "oh5i2R6PtQf9"
      }
    },
    {
      "cell_type": "code",
      "source": [
        "val_acc=[0.500000,0.500200,0.500000,0.500000,0.500000,0.500000,0.500000,0.500000,0.500000,0.500000]\n",
        "train_acc=[0.500,0.500,0.500,0.500,0.500,0.500,0.500,0.500,0.500,0.500]"
      ],
      "metadata": {
        "id": "8jyBc7aeuvNo"
      },
      "execution_count": null,
      "outputs": []
    },
    {
      "cell_type": "code",
      "source": [
        "plt.plot(range(1,11), val_acc, label='Validation Accuracy')\n",
        "plt.plot(range(1,11), train_acc, label='Training Accuracy')\n",
        "plt.legend()\n",
        "plt.xlabel('Epochs')\n",
        "plt.ylabel('Validation Accuracy and Training Accuracy')\n",
        "plt.title('Accuracy vs Epochs')\n",
        "plt.show()"
      ],
      "metadata": {
        "colab": {
          "base_uri": "https://localhost:8080/",
          "height": 295
        },
        "outputId": "4e3ee9e9-bcc6-4d75-8f66-0926a826d30c",
        "id": "D48TaE0QxNVt"
      },
      "execution_count": null,
      "outputs": [
        {
          "output_type": "display_data",
          "data": {
            "text/plain": [
              "<Figure size 432x288 with 1 Axes>"
            ],
            "image/png": "[encoded data removed]"
          },
          "metadata": {
            "needs_background": "light"
          }
        }
      ]
    },
    {
      "cell_type": "markdown",
      "source": [
        "##1e-6"
      ],
      "metadata": {
        "id": "VD54d1s9z5be"
      }
    },
    {
      "cell_type": "code",
      "source": [
        "LR=1e-6\n",
        "EPOCHS = [1,2,3,4,5,6,7,8,9,10]\n",
        "test_acc =[]\n",
        "val_acc=[]\n",
        "train_acc=[]\n",
        "checkpoint_path = '/content/drive/MyDrive/bert/checkpointsacclr1e-6/check.pt'\n",
        "best_model = '/content/drive/MyDrive/bert/bestmodelacclr1e-6/model.pt'"
      ],
      "metadata": {
        "id": "ZcV-3BOt8RYG"
      },
      "execution_count": null,
      "outputs": []
    },
    {
      "cell_type": "code",
      "source": [
        "model = BertClassifier()\n",
        "optimizer = Adam(model.parameters(), lr= LR)\n",
        "train_accuracy(model, train_data, validation_data, LR, EPOCHS,checkpoint_path, best_model, -np.inf)"
      ],
      "metadata": {
        "colab": {
          "base_uri": "https://localhost:8080/"
        },
        "id": "oiGXs-6nwliw",
        "outputId": "c4424db7-b7a0-4a43-c5cc-790fee9b6dce"
      },
      "execution_count": null,
      "outputs": [
        {
          "output_type": "stream",
          "name": "stdout",
          "text": [
            "100%|██████████| 8750/8750 [59:25<00:00,  2.45it/s]\n",
            "Epochs: 1 | Train Loss:  0.134                 | Train Accuracy:  0.671                 | Val Loss:  0.059                 | Val Accuracy:  0.912\n",
            "Validation Accuracy increased (-inf --> 0.9117203).  Saving model ...\n",
            "100%|██████████| 8750/8750 [56:12<00:00,  2.59it/s]\n",
            "Epochs: 2 | Train Loss:  0.054                 | Train Accuracy:  0.922                 | Val Loss:  0.053                 | Val Accuracy:  0.920\n",
            "Validation Accuracy increased (0.9117203 --> 0.920171).  Saving model ...\n",
            "100%|██████████| 8750/8750 [56:15<00:00,  2.59it/s]\n",
            "Epochs: 3 | Train Loss:  0.028                 | Train Accuracy:  0.964                 | Val Loss:  0.052                 | Val Accuracy:  0.928\n",
            "Validation Accuracy increased (0.920171 --> 0.928114).  Saving model ...\n",
            "100%|██████████| 8750/8750 [56:14<00:00,  2.59it/s]\n",
            "Epochs: 4 | Train Loss:  0.013                 | Train Accuracy:  0.985                 | Val Loss:  0.068                 | Val Accuracy:  0.925\n"
          ]
        }
      ]
    },
    {
      "cell_type": "code",
      "execution_count": null,
      "metadata": {
        "colab": {
          "base_uri": "https://localhost:8080/"
        },
        "outputId": "e4ec59ba-a6ab-4c2a-d388-bc96973f9b53",
        "id": "o-YdXjbv0Ci1"
      },
      "outputs": [
        {
          "name": "stderr",
          "output_type": "stream",
          "text": [
            "Some weights of the model checkpoint at bert-base-cased were not used when initializing BertModel: ['cls.seq_relationship.bias', 'cls.predictions.decoder.weight', 'cls.seq_relationship.weight', 'cls.predictions.transform.dense.weight', 'cls.predictions.transform.LayerNorm.bias', 'cls.predictions.transform.dense.bias', 'cls.predictions.transform.LayerNorm.weight', 'cls.predictions.bias']\n",
            "- This IS expected if you are initializing BertModel from the checkpoint of a model trained on another task or with another architecture (e.g. initializing a BertForSequenceClassification model from a BertForPreTraining model).\n",
            "- This IS NOT expected if you are initializing BertModel from the checkpoint of a model that you expect to be exactly identical (initializing a BertForSequenceClassification model from a BertForSequenceClassification model).\n"
          ]
        },
        {
          "name": "stdout",
          "output_type": "stream",
          "text": [
            "range(5, 10)\n"
          ]
        }
      ],
      "source": [
        "# reload ckp and start training from the last epoch\n",
        "model = BertClassifier()\n",
        "optimizer = Adam(model.parameters(), lr= LR)\n",
        "_,_, _, valid_accuracy_max,_ = load_model_accuracy(best_model, model, optimizer)\n",
        "model = BertClassifier()\n",
        "optimizer = Adam(model.parameters(), lr= LR)\n",
        "model, optimizer, start_epoch,_, LR = load_ckp_accuracy(checkpoint_path, model, optimizer)\n",
        "EPOCHS = range(start_epoch+1, 10)\n",
        "print(EPOCHS)"
      ]
    },
    {
      "cell_type": "code",
      "source": [
        "train_accuracy(model, train_data, validation_data, LR, EPOCHS,checkpoint_path, best_model, valid_accuracy_max)"
      ],
      "metadata": {
        "colab": {
          "base_uri": "https://localhost:8080/"
        },
        "id": "qoW428J-yy53",
        "outputId": "ecd97fab-044e-4599-f985-a75d22f15b98"
      },
      "execution_count": null,
      "outputs": [
        {
          "output_type": "stream",
          "name": "stdout",
          "text": [
            "100%|██████████| 8750/8750 [1:02:10<00:00,  2.35it/s]\n",
            "Epochs: 5 | Train Loss:  0.009                 | Train Accuracy:  0.990                 | Val Loss:  0.077                 | Val Accuracy:  0.927\n",
            "100%|██████████| 8750/8750 [1:02:10<00:00,  2.35it/s]\n",
            "Epochs: 6 | Train Loss:  0.007                 | Train Accuracy:  0.992                 | Val Loss:  0.092                 | Val Accuracy:  0.918\n",
            "100%|██████████| 8750/8750 [1:02:07<00:00,  2.35it/s]\n",
            "Epochs: 7 | Train Loss:  0.006                 | Train Accuracy:  0.993                 | Val Loss:  0.096                 | Val Accuracy:  0.917\n",
            "21%|██        | 1837/8750 [13:03<49:42,  2.32it/s]\n"
          ]
        }
      ]
    },
    {
      "cell_type": "code",
      "execution_count": null,
      "metadata": {
        "colab": {
          "base_uri": "https://localhost:8080/"
        },
        "id": "PHPJdOD6gIe-",
        "outputId": "0e7e0a81-148a-46ba-a01b-ee4fd9fb08ae"
      },
      "outputs": [
        {
          "name": "stderr",
          "output_type": "stream",
          "text": [
            "Some weights of the model checkpoint at bert-base-cased were not used when initializing BertModel: ['cls.predictions.transform.LayerNorm.weight', 'cls.predictions.bias', 'cls.predictions.decoder.weight', 'cls.predictions.transform.LayerNorm.bias', 'cls.seq_relationship.bias', 'cls.predictions.transform.dense.weight', 'cls.predictions.transform.dense.bias', 'cls.seq_relationship.weight']\n",
            "- This IS expected if you are initializing BertModel from the checkpoint of a model trained on another task or with another architecture (e.g. initializing a BertForSequenceClassification model from a BertForPreTraining model).\n",
            "- This IS NOT expected if you are initializing BertModel from the checkpoint of a model that you expect to be exactly identical (initializing a BertForSequenceClassification model from a BertForSequenceClassification model).\n"
          ]
        },
        {
          "name": "stdout",
          "output_type": "stream",
          "text": [
            "range(8, 10)\n"
          ]
        }
      ],
      "source": [
        "model = BertClassifier()\n",
        "optimizer = Adam(model.parameters(), lr= LR)\n",
        "_,_, _, valid_accuracy_max,_ = load_model_accuracy(best_model, model, optimizer)\n",
        "model = BertClassifier()\n",
        "optimizer = Adam(model.parameters(), lr= LR)\n",
        "model, optimizer, start_epoch,_, LR = load_ckp_accuracy(checkpoint_path, model, optimizer)\n",
        "EPOCHS = range(start_epoch+1, 10)\n",
        "print(EPOCHS)"
      ]
    },
    {
      "cell_type": "code",
      "source": [
        "train_accuracy(model, train_data, validation_data, LR, EPOCHS,checkpoint_path, best_model, valid_accuracy_max)"
      ],
      "metadata": {
        "colab": {
          "base_uri": "https://localhost:8080/"
        },
        "id": "zGqefPoT0NHE",
        "outputId": "61f5306a-04ae-42a6-fbfd-be97e217dca1"
      },
      "execution_count": null,
      "outputs": [
        {
          "output_type": "stream",
          "name": "stdout",
          "text": [
            "100%|██████████| 8750/8750 [57:02<00:00,  2.56it/s]\n",
            "Epochs: 8 | Train Loss:  0.003                 | Train Accuracy:  0.998                 | Val Loss:  0.085                 | Val Accuracy:  0.934\n",
            "Validation Accuracy increased (0.928114 --> 0.933610).  Saving model ...\n"
          ]
        }
      ]
    },
    {
      "cell_type": "code",
      "execution_count": null,
      "metadata": {
        "colab": {
          "base_uri": "https://localhost:8080/"
        },
        "id": "Mgj0aM5zzfrL",
        "outputId": "92006cbc-e872-4ab2-8144-a0d86d122d6e"
      },
      "outputs": [
        {
          "name": "stderr",
          "output_type": "stream",
          "text": [
            "Some weights of the model checkpoint at bert-base-cased were not used when initializing BertModel: ['cls.predictions.transform.LayerNorm.weight', 'cls.predictions.bias', 'cls.predictions.decoder.weight', 'cls.predictions.transform.LayerNorm.bias', 'cls.seq_relationship.bias', 'cls.predictions.transform.dense.weight', 'cls.predictions.transform.dense.bias', 'cls.seq_relationship.weight']\n",
            "- This IS expected if you are initializing BertModel from the checkpoint of a model trained on another task or with another architecture (e.g. initializing a BertForSequenceClassification model from a BertForPreTraining model).\n",
            "- This IS NOT expected if you are initializing BertModel from the checkpoint of a model that you expect to be exactly identical (initializing a BertForSequenceClassification model from a BertForSequenceClassification model).\n",
            "Some weights of the model checkpoint at bert-base-cased were not used when initializing BertModel: ['cls.predictions.transform.LayerNorm.weight', 'cls.predictions.bias', 'cls.predictions.decoder.weight', 'cls.predictions.transform.LayerNorm.bias', 'cls.seq_relationship.bias', 'cls.predictions.transform.dense.weight', 'cls.predictions.transform.dense.bias', 'cls.seq_relationship.weight']\n",
            "- This IS expected if you are initializing BertModel from the checkpoint of a model trained on another task or with another architecture (e.g. initializing a BertForSequenceClassification model from a BertForPreTraining model).\n",
            "- This IS NOT expected if you are initializing BertModel from the checkpoint of a model that you expect to be exactly identical (initializing a BertForSequenceClassification model from a BertForSequenceClassification model).\n"
          ]
        },
        {
          "name": "stdout",
          "output_type": "stream",
          "text": [
            "range(9, 10)\n"
          ]
        }
      ],
      "source": [
        "model = BertClassifier()\n",
        "optimizer = Adam(model.parameters(), lr= LR)\n",
        "_ ,_ , _ , valid_accuracy_max, _ = load_model_accuracy(best_model, model, optimizer)\n",
        "model = BertClassifier()\n",
        "optimizer = Adam(model.parameters(), lr= LR)\n",
        "model, optimizer, start_epoch, _ , LR = load_ckp_accuracy(checkpoint_path, model, optimizer)\n",
        "EPOCHS = range(start_epoch+1, 10)\n",
        "print(EPOCHS)"
      ]
    },
    {
      "cell_type": "code",
      "source": [
        "train_accuracy(model, train_data, validation_data, LR, EPOCHS,checkpoint_path, best_model, valid_accuracy_max)"
      ],
      "metadata": {
        "colab": {
          "base_uri": "https://localhost:8080/"
        },
        "id": "xfCB9Lrp095q",
        "outputId": "43507acb-17e6-4bf4-fa02-f90dd6f55b85"
      },
      "execution_count": null,
      "outputs": [
        {
          "output_type": "stream",
          "name": "stdout",
          "text": [
            "100%|██████████| 8750/8750 [56:52<00:00,  2.56it/s]\n",
            "Epochs: 9 | Train Loss:  0.002                 | Train Accuracy:  0.999                 | Val Loss:  0.121                 | Val Accuracy:  0.936\n",
            "Validation Accuracy increased (0.933610 --> 0.935600).  Saving model ...\n"
          ]
        }
      ]
    },
    {
      "cell_type": "code",
      "source": [
        "model = BertClassifier()\n",
        "optimizer = Adam(model.parameters(), lr= LR)\n",
        "_ ,_ , _ , valid_accuracy_max, _ = load_model_accuracy(best_model, model, optimizer)\n",
        "model = BertClassifier()\n",
        "optimizer = Adam(model.parameters(), lr= LR)\n",
        "model, optimizer, start_epoch, _ , LR = load_ckp_accuracy(checkpoint_path, model, optimizer)\n",
        "EPOCHS = range(start_epoch+1, 11)\n",
        "print(EPOCHS)"
      ],
      "metadata": {
        "colab": {
          "base_uri": "https://localhost:8080/"
        },
        "id": "3O_-bozr1KVg",
        "outputId": "d4d271f2-0822-4f7e-de5c-895520a12a4e"
      },
      "execution_count": null,
      "outputs": [
        {
          "output_type": "stream",
          "name": "stdout",
          "text": [
            "Some weights of the model checkpoint at bert-base-cased were not used when initializing BertModel: ['cls.predictions.transform.dense.weight', 'cls.predictions.decoder.weight', 'cls.predictions.transform.LayerNorm.bias', 'cls.seq_relationship.bias', 'cls.seq_relationship.weight', 'cls.predictions.transform.LayerNorm.weight', 'cls.predictions.bias', 'cls.predictions.transform.dense.bias']\n",
            "- This IS expected if you are initializing BertModel from the checkpoint of a model trained on another task or with another architecture (e.g. initializing a BertForSequenceClassification model from a BertForPreTraining model).\n",
            "- This IS NOT expected if you are initializing BertModel from the checkpoint of a model that you expect to be exactly identical (initializing a BertForSequenceClassification model from a BertForSequenceClassification model).\n",
            "Some weights of the model checkpoint at bert-base-cased were not used when initializing BertModel: ['cls.predictions.transform.dense.weight', 'cls.predictions.decoder.weight', 'cls.predictions.transform.LayerNorm.bias', 'cls.seq_relationship.bias', 'cls.seq_relationship.weight', 'cls.predictions.transform.LayerNorm.weight', 'cls.predictions.bias', 'cls.predictions.transform.dense.bias']\n",
            "- This IS expected if you are initializing BertModel from the checkpoint of a model trained on another task or with another architecture (e.g. initializing a BertForSequenceClassification model from a BertForPreTraining model).\n",
            "- This IS NOT expected if you are initializing BertModel from the checkpoint of a model that you expect to be exactly identical (initializing a BertForSequenceClassification model from a BertForSequenceClassification model).\n",
            "range(10, 11)\n"
          ]
        }
      ]
    },
    {
      "cell_type": "code",
      "source": [
        "train_accuracy(model, train_data, validation_data, LR, EPOCHS,checkpoint_path, best_model, valid_accuracy_max)"
      ],
      "metadata": {
        "colab": {
          "base_uri": "https://localhost:8080/"
        },
        "id": "UWZMS6pC1edF",
        "outputId": "1a7d8fc1-e064-4a3d-8941-2dc260df5879"
      },
      "execution_count": null,
      "outputs": [
        {
          "output_type": "stream",
          "name": "stdout",
          "text": [
            "100%|██████████| 8750/8750 [53:40<00:00,  2.72it/s]\n",
            "Epochs: 10 | Train Loss:  0.002                 | Train Accuracy:  0.999                 | Val Loss:  0.121                 | Val Accuracy:  0.935\n"
          ]
        }
      ]
    },
    {
      "cell_type": "code",
      "source": [
        "val_acc=[0.912,0.920,0.928,0.925,0.927,0.918,0.917,0.934,0.936,0.935]\n",
        "train_acc=[0.671,0.922,0.964,0.985,0.990,0.992,0.993,0.998,0.999,0.999]"
      ],
      "metadata": {
        "id": "9vrC1HFO2j7m"
      },
      "execution_count": null,
      "outputs": []
    },
    {
      "cell_type": "code",
      "source": [
        "plt.plot(range(1,11), val_acc, label='Validation Accuracy')\n",
        "plt.plot(range(1,11), train_acc, label='Training Accuracy')\n",
        "plt.legend()\n",
        "plt.xlabel('Epochs')\n",
        "plt.ylabel('Validation Accuracy and Training Accuracy')\n",
        "plt.title('Accuracy vs Epochs')\n",
        "plt.show()"
      ],
      "metadata": {
        "colab": {
          "base_uri": "https://localhost:8080/",
          "height": 295
        },
        "id": "qUu_OAH73RiG",
        "outputId": "610e7322-ebbd-4735-e034-a9edbef1650a"
      },
      "execution_count": null,
      "outputs": [
        {
          "output_type": "display_data",
          "data": {
            "text/plain": [
              "<Figure size 432x288 with 1 Axes>"
            ],
            "image/png": "[encoded data removed]"
          },
          "metadata": {
            "needs_background": "light"
          }
        }
      ]
    },
    {
      "cell_type": "markdown",
      "source": [
        "##1e-3"
      ],
      "metadata": {
        "id": "hVZg8gto320P"
      }
    },
    {
      "cell_type": "code",
      "source": [
        "LR = 1e-3\n",
        "EPOCHS = [1,2,3,4,5,6,7,8,9,10]\n",
        "test_acc =[]\n",
        "val_acc=[]\n",
        "train_acc=[]\n",
        "\n",
        "checkpoint_path = '/content/drive/MyDrive/bert/checkpointsacclr1e-3/check.pt'\n",
        "best_model = '/content/drive/MyDrive/bert/bestmodelacclr1e-3/model.pt'"
      ],
      "metadata": {
        "id": "xlX7-jnz8lUM"
      },
      "execution_count": null,
      "outputs": []
    },
    {
      "cell_type": "code",
      "source": [
        "model = BertClassifier()\n",
        "optimizer = Adam(model.parameters(), lr= LR)\n"
      ],
      "metadata": {
        "colab": {
          "base_uri": "https://localhost:8080/"
        },
        "id": "FVSctTXBvtZa",
        "outputId": "bf9c181f-3e01-4120-a9fc-28193ee288ef"
      },
      "execution_count": null,
      "outputs": [
        {
          "output_type": "stream",
          "name": "stderr",
          "text": [
            "Some weights of the model checkpoint at bert-base-cased were not used when initializing BertModel: ['cls.predictions.transform.dense.weight', 'cls.predictions.transform.dense.bias', 'cls.predictions.decoder.weight', 'cls.predictions.transform.LayerNorm.weight', 'cls.predictions.bias', 'cls.predictions.transform.LayerNorm.bias', 'cls.seq_relationship.bias', 'cls.seq_relationship.weight']\n",
            "- This IS expected if you are initializing BertModel from the checkpoint of a model trained on another task or with another architecture (e.g. initializing a BertForSequenceClassification model from a BertForPreTraining model).\n",
            "- This IS NOT expected if you are initializing BertModel from the checkpoint of a model that you expect to be exactly identical (initializing a BertForSequenceClassification model from a BertForSequenceClassification model).\n"
          ]
        }
      ]
    },
    {
      "cell_type": "code",
      "source": [
        "train_accuracy(model, train_data, validation_data, LR, range(1,10),checkpoint_path, best_model, valid_accuracy_max)"
      ],
      "metadata": {
        "colab": {
          "base_uri": "https://localhost:8080/"
        },
        "id": "i11kSPvkwh-b",
        "outputId": "ca6c7ac0-96e0-4daf-cba8-2a7c487dc5bb"
      },
      "execution_count": null,
      "outputs": [
        {
          "output_type": "stream",
          "name": "stderr",
          "text": [
            "100%|██████████| 8750/8750 [53:57<00:00,  2.70it/s]\n"
          ]
        },
        {
          "output_type": "stream",
          "name": "stdout",
          "text": [
            "Epochs: 1 | Train Loss:  0.174                 | Train Accuracy:  0.500                 | Val Loss:  0.173                 | Val Accuracy:  0.500\n",
            "Validation Accuracy increased (-inf --> 0.500000).  Saving model ...\n"
          ]
        },
        {
          "output_type": "stream",
          "name": "stderr",
          "text": [
            " 81%|████████  | 7103/8750 [43:43<10:06,  2.72it/s]"
          ]
        }
      ]
    },
    {
      "cell_type": "code",
      "source": [
        "model = BertClassifier()\n",
        "optimizer = Adam(model.parameters(), lr= LR)\n",
        "_ ,_ , _ , valid_accuracy_max, _ = load_model_accuracy(best_model, model, optimizer)\n",
        "model = BertClassifier()\n",
        "optimizer = Adam(model.parameters(), lr= LR)\n",
        "model, optimizer, start_epoch, _ , LR = load_ckp_accuracy(checkpoint_path, model, optimizer)\n",
        "EPOCHS = range(start_epoch+1, 11)"
      ],
      "metadata": {
        "colab": {
          "base_uri": "https://localhost:8080/"
        },
        "id": "pYjFjryNur-P",
        "outputId": "984a169f-cc46-49cc-a105-48bf209c9520"
      },
      "execution_count": null,
      "outputs": [
        {
          "output_type": "stream",
          "name": "stderr",
          "text": [
            "Some weights of the model checkpoint at bert-base-cased were not used when initializing BertModel: ['cls.predictions.transform.dense.bias', 'cls.predictions.decoder.weight', 'cls.seq_relationship.weight', 'cls.seq_relationship.bias', 'cls.predictions.bias', 'cls.predictions.transform.LayerNorm.bias', 'cls.predictions.transform.dense.weight', 'cls.predictions.transform.LayerNorm.weight']\n",
            "- This IS expected if you are initializing BertModel from the checkpoint of a model trained on another task or with another architecture (e.g. initializing a BertForSequenceClassification model from a BertForPreTraining model).\n",
            "- This IS NOT expected if you are initializing BertModel from the checkpoint of a model that you expect to be exactly identical (initializing a BertForSequenceClassification model from a BertForSequenceClassification model).\n",
            "Some weights of the model checkpoint at bert-base-cased were not used when initializing BertModel: ['cls.predictions.transform.dense.bias', 'cls.predictions.decoder.weight', 'cls.seq_relationship.weight', 'cls.seq_relationship.bias', 'cls.predictions.bias', 'cls.predictions.transform.LayerNorm.bias', 'cls.predictions.transform.dense.weight', 'cls.predictions.transform.LayerNorm.weight']\n",
            "- This IS expected if you are initializing BertModel from the checkpoint of a model trained on another task or with another architecture (e.g. initializing a BertForSequenceClassification model from a BertForPreTraining model).\n",
            "- This IS NOT expected if you are initializing BertModel from the checkpoint of a model that you expect to be exactly identical (initializing a BertForSequenceClassification model from a BertForSequenceClassification model).\n"
          ]
        }
      ]
    },
    {
      "cell_type": "code",
      "source": [
        "train_accuracy(model, train_data, validation_data, LR, EPOCHS,checkpoint_path, best_model, valid_accuracy_max)"
      ],
      "metadata": {
        "colab": {
          "base_uri": "https://localhost:8080/"
        },
        "id": "0oFxFj8Xu4OY",
        "outputId": "18b8ccf4-e4b6-4bad-8986-1adda3c6647a"
      },
      "execution_count": null,
      "outputs": [
        {
          "output_type": "stream",
          "name": "stderr",
          "text": [
            "100%|██████████| 8750/8750 [54:21<00:00,  2.68it/s]\n"
          ]
        },
        {
          "output_type": "stream",
          "name": "stdout",
          "text": [
            "Epochs: 2 | Train Loss:  0.173                 | Train Accuracy:  0.500                 | Val Loss:  0.173                 | Val Accuracy:  0.500\n",
            "Validation Accuracy increased (0.500000 --> 0.500000).  Saving model ...\n"
          ]
        },
        {
          "output_type": "stream",
          "name": "stderr",
          "text": [
            "100%|██████████| 8750/8750 [54:17<00:00,  2.69it/s]\n"
          ]
        },
        {
          "output_type": "stream",
          "name": "stdout",
          "text": [
            "Epochs: 3 | Train Loss:  0.173                 | Train Accuracy:  0.500                 | Val Loss:  0.173                 | Val Accuracy:  0.500\n",
            "Validation Accuracy increased (0.500000 --> 0.500000).  Saving model ...\n"
          ]
        },
        {
          "output_type": "stream",
          "name": "stderr",
          "text": [
            "100%|██████████| 8750/8750 [54:16<00:00,  2.69it/s]\n"
          ]
        },
        {
          "output_type": "stream",
          "name": "stdout",
          "text": [
            "Epochs: 4 | Train Loss:  0.173                 | Train Accuracy:  0.500                 | Val Loss:  0.173                 | Val Accuracy:  0.500\n",
            "Validation Accuracy increased (0.500000 --> 0.500000).  Saving model ...\n"
          ]
        }
      ]
    },
    {
      "cell_type": "code",
      "source": [
        "model = BertClassifier()\n",
        "optimizer = Adam(model.parameters(), lr= LR)\n",
        "_ ,_ , _ , valid_accuracy_max, _ = load_model_accuracy(best_model, model, optimizer)\n",
        "model = BertClassifier()\n",
        "optimizer = Adam(model.parameters(), lr= LR)\n",
        "model, optimizer, start_epoch, _ , LR = load_ckp_accuracy(checkpoint_path, model, optimizer)\n",
        "EPOCHS = range(start_epoch+1, 11)"
      ],
      "metadata": {
        "colab": {
          "base_uri": "https://localhost:8080/"
        },
        "outputId": "984a169f-cc46-49cc-a105-48bf209c9520",
        "id": "Up2OuoMB447i"
      },
      "execution_count": null,
      "outputs": [
        {
          "output_type": "stream",
          "name": "stderr",
          "text": [
            "Some weights of the model checkpoint at bert-base-cased were not used when initializing BertModel: ['cls.predictions.transform.dense.bias', 'cls.predictions.decoder.weight', 'cls.seq_relationship.weight', 'cls.seq_relationship.bias', 'cls.predictions.bias', 'cls.predictions.transform.LayerNorm.bias', 'cls.predictions.transform.dense.weight', 'cls.predictions.transform.LayerNorm.weight']\n",
            "- This IS expected if you are initializing BertModel from the checkpoint of a model trained on another task or with another architecture (e.g. initializing a BertForSequenceClassification model from a BertForPreTraining model).\n",
            "- This IS NOT expected if you are initializing BertModel from the checkpoint of a model that you expect to be exactly identical (initializing a BertForSequenceClassification model from a BertForSequenceClassification model).\n",
            "Some weights of the model checkpoint at bert-base-cased were not used when initializing BertModel: ['cls.predictions.transform.dense.bias', 'cls.predictions.decoder.weight', 'cls.seq_relationship.weight', 'cls.seq_relationship.bias', 'cls.predictions.bias', 'cls.predictions.transform.LayerNorm.bias', 'cls.predictions.transform.dense.weight', 'cls.predictions.transform.LayerNorm.weight']\n",
            "- This IS expected if you are initializing BertModel from the checkpoint of a model trained on another task or with another architecture (e.g. initializing a BertForSequenceClassification model from a BertForPreTraining model).\n",
            "- This IS NOT expected if you are initializing BertModel from the checkpoint of a model that you expect to be exactly identical (initializing a BertForSequenceClassification model from a BertForSequenceClassification model).\n"
          ]
        }
      ]
    },
    {
      "cell_type": "code",
      "source": [
        "train_accuracy(model, train_data, validation_data, LR, EPOCHS,checkpoint_path, best_model, valid_accuracy_max)"
      ],
      "metadata": {
        "colab": {
          "base_uri": "https://localhost:8080/"
        },
        "id": "pYl9s7p946f0",
        "outputId": "63e7c842-f5e3-4d38-a160-9b12e1fada84"
      },
      "execution_count": null,
      "outputs": [
        {
          "output_type": "stream",
          "name": "stdout",
          "text": [
            "100%|██████████| 8750/8750 [54:21<00:00,  2.68it/s]\n",
            "Epochs: 5 | Train Loss:  0.173                 | Train Accuracy:  0.500                 | Val Loss:  0.173                 | Val Accuracy:  0.500\n",
            "Validation Accuracy increased (0.500000 --> 0.500000).  Saving model ...\n",
            "100%|██████████| 8750/8750 [54:17<00:00,  2.69it/s]\n",
            "Epochs: 6 | Train Loss:  0.173                 | Train Accuracy:  0.500                 | Val Loss:  0.173                 | Val Accuracy:  0.500\n",
            "Validation Accuracy increased (0.500000 --> 0.500000).  Saving model ...\n",
            "100%|██████████| 8750/8750 [54:16<00:00,  2.69it/s]\n",
            "Epochs: 7 | Train Loss:  0.173                 | Train Accuracy:  0.500                 | Val Loss:  0.173                 | Val Accuracy:  0.500\n",
            "Validation Accuracy increased (0.500000 --> 0.500000).  Saving model ...\n",
            "100%|██████████| 8750/8750 [54:16<00:00,  2.69it/s]\n",
            "Epochs: 8 | Train Loss:  0.173                 | Train Accuracy:  0.500                 | Val Loss:  0.173                 | Val Accuracy:  0.500\n",
            "Validation Accuracy increased (0.500000 --> 0.500000).  Saving model ...\n"
          ]
        }
      ]
    },
    {
      "cell_type": "code",
      "source": [
        "model = BertClassifier()\n",
        "optimizer = Adam(model.parameters(), lr= LR)\n",
        "_ ,_ , _ , valid_accuracy_max, _ = load_model_accuracy(best_model, model, optimizer)\n",
        "model = BertClassifier()\n",
        "optimizer = Adam(model.parameters(), lr= LR)\n",
        "model, optimizer, start_epoch, _ , LR = load_ckp_accuracy(checkpoint_path, model, optimizer)\n",
        "EPOCHS = range(start_epoch+1, 11)"
      ],
      "metadata": {
        "colab": {
          "base_uri": "https://localhost:8080/"
        },
        "outputId": "984a169f-cc46-49cc-a105-48bf209c9520",
        "id": "WfYQkSEi5Xil"
      },
      "execution_count": null,
      "outputs": [
        {
          "output_type": "stream",
          "name": "stderr",
          "text": [
            "Some weights of the model checkpoint at bert-base-cased were not used when initializing BertModel: ['cls.predictions.transform.dense.bias', 'cls.predictions.decoder.weight', 'cls.seq_relationship.weight', 'cls.seq_relationship.bias', 'cls.predictions.bias', 'cls.predictions.transform.LayerNorm.bias', 'cls.predictions.transform.dense.weight', 'cls.predictions.transform.LayerNorm.weight']\n",
            "- This IS expected if you are initializing BertModel from the checkpoint of a model trained on another task or with another architecture (e.g. initializing a BertForSequenceClassification model from a BertForPreTraining model).\n",
            "- This IS NOT expected if you are initializing BertModel from the checkpoint of a model that you expect to be exactly identical (initializing a BertForSequenceClassification model from a BertForSequenceClassification model).\n",
            "Some weights of the model checkpoint at bert-base-cased were not used when initializing BertModel: ['cls.predictions.transform.dense.bias', 'cls.predictions.decoder.weight', 'cls.seq_relationship.weight', 'cls.seq_relationship.bias', 'cls.predictions.bias', 'cls.predictions.transform.LayerNorm.bias', 'cls.predictions.transform.dense.weight', 'cls.predictions.transform.LayerNorm.weight']\n",
            "- This IS expected if you are initializing BertModel from the checkpoint of a model trained on another task or with another architecture (e.g. initializing a BertForSequenceClassification model from a BertForPreTraining model).\n",
            "- This IS NOT expected if you are initializing BertModel from the checkpoint of a model that you expect to be exactly identical (initializing a BertForSequenceClassification model from a BertForSequenceClassification model).\n"
          ]
        }
      ]
    },
    {
      "cell_type": "code",
      "source": [
        "train_accuracy(model, train_data, validation_data, LR, EPOCHS,checkpoint_path, best_model, valid_accuracy_max)"
      ],
      "metadata": {
        "colab": {
          "base_uri": "https://localhost:8080/"
        },
        "id": "xSw7-Q4E5Y3K",
        "outputId": "43f5f792-eb6f-4c90-d711-1d1a1c201b53"
      },
      "execution_count": null,
      "outputs": [
        {
          "output_type": "stream",
          "name": "stdout",
          "text": [
            "100%|██████████| 8750/8750 [53:40<00:00,  2.72it/s]\n",
            "Epochs: 9 | Train Loss:  0.173                 | Train Accuracy:  0.500                 | Val Loss:  0.173                 | Val Accuracy:  0.500\n",
            "Validation Accuracy increased (0.500000 --> 0.500000).  Saving model ...\n"
          ]
        }
      ]
    },
    {
      "cell_type": "code",
      "source": [
        "model = BertClassifier()\n",
        "optimizer = Adam(model.parameters(), lr= LR)\n",
        "_ ,_ , _ , valid_accuracy_max, _ = load_model_accuracy(best_model, model, optimizer)\n",
        "model = BertClassifier()\n",
        "optimizer = Adam(model.parameters(), lr= LR)\n",
        "model, optimizer, start_epoch, _ , LR = load_ckp_accuracy(checkpoint_path, model, optimizer)\n",
        "EPOCHS = range(start_epoch+1, 11)"
      ],
      "metadata": {
        "id": "BqKEapxp5h7-"
      },
      "execution_count": null,
      "outputs": []
    },
    {
      "cell_type": "code",
      "source": [
        "train_accuracy(model, train_data, validation_data, LR, EPOCHS,checkpoint_path, best_model, valid_accuracy_max)"
      ],
      "metadata": {
        "id": "KfFKNyvAnQli",
        "colab": {
          "base_uri": "https://localhost:8080/"
        },
        "outputId": "02d27e71-ba92-40f1-892b-dbd2b81f43f3"
      },
      "execution_count": null,
      "outputs": [
        {
          "output_type": "stream",
          "name": "stderr",
          "text": [
            "100%|██████████| 8750/8750 [53:40<00:00,  2.72it/s]\n"
          ]
        },
        {
          "output_type": "stream",
          "name": "stdout",
          "text": [
            "Epochs: 10 | Train Loss:  0.173                 | Train Accuracy:  0.500                 | Val Loss:  0.173                 | Val Accuracy:  0.500\n",
            "Validation Accuracy increased (0.500000 --> 0.500000).  Saving model ...\n"
          ]
        }
      ]
    },
    {
      "cell_type": "code",
      "source": [
        "val_acc=[0.500000,0.500000,0.500000,0.500000,0.500000,0.500000,0.500000,0.500000,0.500000,0.500000]\n",
        "train_acc=[0.500,0.500,0.500,0.500,0.500,0.500,0.500,0.500,0.500,0.500]"
      ],
      "metadata": {
        "id": "OF9_717w50lD"
      },
      "execution_count": null,
      "outputs": []
    },
    {
      "cell_type": "code",
      "source": [
        "plt.plot(range(1,11), val_acc, label='Validation Accuracy')\n",
        "plt.plot(range(1,11), train_acc, label='Training Accuracy')\n",
        "plt.legend()\n",
        "plt.xlabel('Epochs')\n",
        "plt.ylabel('Validation Accuracy and Training Accuracy')\n",
        "plt.title('Accuracy vs Epochs')\n",
        "plt.show()"
      ],
      "metadata": {
        "colab": {
          "base_uri": "https://localhost:8080/",
          "height": 295
        },
        "id": "KRL3SfLU55Oh",
        "outputId": "5dbe67b0-bbbc-4933-a682-93b89d0bb457"
      },
      "execution_count": null,
      "outputs": [
        {
          "output_type": "display_data",
          "data": {
            "text/plain": [
              "<Figure size 432x288 with 1 Axes>"
            ],
            "image/png": "[encoded data removed]"
          },
          "metadata": {
            "needs_background": "light"
          }
        }
      ]
    },
    {
      "cell_type": "markdown",
      "source": [
        "# Best From all lr"
      ],
      "metadata": {
        "id": "FnhKnjDGSaIg"
      }
    },
    {
      "cell_type": "code",
      "source": [
        "# graph comparing between best validation accuracies of the different learning rates\n",
        "lr=[1e-6, 5e-6, 1e-5, 5e-5, 1e-4, 5e-4, 1e-3]\n",
        "# for 5e-6\n",
        "val_acc_5e6=[0.926,0.923,0.928,0.928,0.9308,0.9326,0.935200,0.936600,0.931,0.934,0.931,0.934,0.931,0.931,0.931]\n",
        "# for 1e-5\n",
        "val_acc_1e5=[0.918400,0.926600,0.927600,0.929000,0.927,0.929,0.931600,0.924,0.931,0.931]\n",
        "# for 5e-5\n",
        "val_acc_5e5=[0.499800,0.500200,0.499,0.500,0.500,0.500200,0.500200,0.500,0.500,0.500]\n",
        "# for 1e-4\n",
        "val_acc_1e4=[0.500000,0.500200,0.500000,0.500000,0.500000,0.500000,0.500000,0.500000,0.500000,0.500000]\n",
        "# for 1e-6\n",
        "val_acc_1e6=[0.912,0.920,0.928,0.925,0.927,0.918,0.917,0.934,0.936,0.935]\n",
        "# for 1e-3\n",
        "val_acc_1e3=[0.500000,0.500000,0.500000,0.500000,0.500000,0.500000,0.500000,0.500000,0.500000,0.500000]\n",
        "#get max validation accuracy for each learning rate\n",
        "max_val_acc=[max(val_acc_5e6),max(val_acc_1e5),max(val_acc_5e5),max(val_acc_1e4),max(val_acc_1e6),max(val_acc_1e3)]"
      ],
      "metadata": {
        "id": "mS38lkxvQSSr"
      },
      "execution_count": null,
      "outputs": []
    },
    {
      "cell_type": "code",
      "source": [
        "# plot max validation accuracy for each learning rate\n",
        "import matplotlib.pyplot as plt\n",
        "\n",
        "lr=['5e-6','1e-5','5e-5','1e-4','1e-6','1e-3']\n",
        "plt.plot(lr, max_val_acc, label='Validation Accuracy')\n",
        "plt.xlabel('Learning Rate')\n",
        "plt.ylabel('Validation Accuracy')\n",
        "plt.title('Validation Accuracy vs Learning Rate')\n",
        "plt.show()\n"
      ],
      "metadata": {
        "colab": {
          "base_uri": "https://localhost:8080/",
          "height": 295
        },
        "id": "NXsSb2JzQea1",
        "outputId": "e1e83711-ca5d-4b71-c7f9-542f8888c9e7"
      },
      "execution_count": null,
      "outputs": [
        {
          "output_type": "display_data",
          "data": {
            "text/plain": [
              "<Figure size 432x288 with 1 Axes>"
            ],
            "image/png": "[encoded data removed]"
          },
          "metadata": {
            "needs_background": "light"
          }
        }
      ]
    },
    {
      "cell_type": "markdown",
      "source": [
        "# Best Model"
      ],
      "metadata": {
        "id": "cohALA8mndNm"
      }
    },
    {
      "cell_type": "markdown",
      "source": [
        "# Bonus"
      ],
      "metadata": {
        "id": "Mma0d24qmOfm"
      }
    },
    {
      "cell_type": "markdown",
      "source": [
        "## 768,64,128,256,128,64,2"
      ],
      "metadata": {
        "id": "Q2TiOPF7mU2w"
      }
    },
    {
      "cell_type": "code",
      "execution_count": null,
      "metadata": {
        "id": "dNigJziytTVa"
      },
      "outputs": [],
      "source": [
        "from torch.nn.modules import linear\n",
        "from torch import nn\n",
        "from transformers import BertModel\n",
        "\n",
        "class BertClassifier(nn.Module):\n",
        "\n",
        "    def __init__(self, dropout=0.5):\n",
        "\n",
        "        super(BertClassifier, self).__init__()\n",
        "\n",
        "        self.bert = BertModel.from_pretrained('bert-base-cased')\n",
        "        self.dropout_1 = nn.Dropout(dropout)\n",
        "        self.linear_1 = nn.Linear(768,64)\n",
        "        self.dropout_2 = nn.Dropout(dropout)\n",
        "        self.linear_2 = nn.Linear(64, 128)\n",
        "        self.dropout_3 = nn.Dropout(dropout)\n",
        "        self.linear_3 = nn.Linear(128, 256)\n",
        "        self.dropout_4 = nn.Dropout(dropout)\n",
        "        self.linear_4= nn.Linear(256, 128)\n",
        "        self.dropout_5 = nn.Dropout(dropout)\n",
        "        self.linear_5= nn.Linear(128, 64)\n",
        "        self.dropout_6 = nn.Dropout(dropout)\n",
        "        self.linear_6= nn.Linear(64, 2)\n",
        "        self.relu = nn.ReLU()\n",
        "\n",
        "    def forward(self, input_id, mask):\n",
        "\n",
        "        _, pooled_output = self.bert(input_ids= input_id, attention_mask=mask,return_dict=False)\n",
        "        dropout_output = self.dropout_1(pooled_output)\n",
        "        linear_output_1 = self.linear_1(dropout_output)\n",
        "        dropout_output_1 = self.dropout_2(linear_output_1)\n",
        "        linear_output_2 = self.linear_2(dropout_output_1)\n",
        "        dropout_output_2 = self.dropout_3(linear_output_2)\n",
        "        linear_output_3 = self.linear_3(dropout_output_2)\n",
        "        dropout_output_3 = self.dropout_4(linear_output_3)\n",
        "        linear_output_4 = self.linear_4(dropout_output_3)\n",
        "        dropout_output_4 = self.dropout_5(linear_output_4)\n",
        "        linear_output_5 = self.linear_5(dropout_output_4)\n",
        "        dropout_output_5 = self.dropout_6(linear_output_5)\n",
        "        linear_output_6 = self.linear_6(dropout_output_5)\n",
        "        final_layer = self.relu(linear_output_6)\n",
        "        return final_layer"
      ]
    },
    {
      "cell_type": "markdown",
      "source": [
        "### 1e-6"
      ],
      "metadata": {
        "id": "851RqtDPmjAJ"
      }
    },
    {
      "cell_type": "code",
      "source": [
        "model = BertClassifier()\n",
        "LR = 1e-6\n",
        "optimizer = Adam(model.parameters(), lr= LR)\n",
        "checkpoint_path = '/content/drive/MyDrive/bert/checkpointsaccbonus/check.pt'\n",
        "best_model = '/content/drive/MyDrive/bert/bestmodelaccbonus/model.pt'"
      ],
      "metadata": {
        "colab": {
          "base_uri": "https://localhost:8080/"
        },
        "id": "MlTm_rC3tssE",
        "outputId": "14bf3800-a7d4-43f0-cd9d-de9bea9a07c3"
      },
      "execution_count": null,
      "outputs": [
        {
          "output_type": "stream",
          "name": "stderr",
          "text": [
            "Some weights of the model checkpoint at bert-base-cased were not used when initializing BertModel: ['cls.predictions.bias', 'cls.predictions.transform.LayerNorm.weight', 'cls.seq_relationship.weight', 'cls.predictions.transform.dense.weight', 'cls.predictions.transform.LayerNorm.bias', 'cls.predictions.transform.dense.bias', 'cls.seq_relationship.bias', 'cls.predictions.decoder.weight']\n",
            "- This IS expected if you are initializing BertModel from the checkpoint of a model trained on another task or with another architecture (e.g. initializing a BertForSequenceClassification model from a BertForPreTraining model).\n",
            "- This IS NOT expected if you are initializing BertModel from the checkpoint of a model that you expect to be exactly identical (initializing a BertForSequenceClassification model from a BertForSequenceClassification model).\n"
          ]
        }
      ]
    },
    {
      "cell_type": "code",
      "source": [
        "train_accuracy(model, train_data, validation_data, LR, epochs,checkpoint_path, best_model, -np.inf)"
      ],
      "metadata": {
        "colab": {
          "base_uri": "https://localhost:8080/"
        },
        "id": "f5YvbDKmuk36",
        "outputId": "94ba6d3e-f998-4405-9604-14cc72089acc"
      },
      "execution_count": null,
      "outputs": [
        {
          "metadata": {
            "tags": null
          },
          "name": "stderr",
          "output_type": "stream",
          "text": [
            "100%|██████████| 8750/8750 [57:51<00:00,  2.52it/s]\n"
          ]
        },
        {
          "metadata": {
            "tags": null
          },
          "name": "stdout",
          "output_type": "stream",
          "text": [
            "Epochs: 1 | Train Loss:  0.093                 | Train Accuracy:  0.892                 | Val Loss:  0.071                 | Val Accuracy:  0.918\n",
            "Validation Accuracy increased (-inf --> 0.917600).  Saving model ...\n"
          ]
        },
        {
          "output_type": "stream",
          "name": "stderr",
          "text": [
            "100%|██████████| 8750/8750 [57:46<00:00,  2.52it/s]\n"
          ]
        },
        {
          "output_type": "stream",
          "name": "stdout",
          "text": [
            "Epochs: 2 | Train Loss:  0.058                 | Train Accuracy:  0.934                 | Val Loss:  0.058                 | Val Accuracy:  0.926\n",
            "Validation Accuracy increased (0.917600 --> 0.926400).  Saving model ...\n"
          ]
        },
        {
          "output_type": "stream",
          "name": "stderr",
          "text": [
            " 20%|██        | 1764/8750 [11:35<45:42,  2.55it/s]"
          ]
        }
      ]
    },
    {
      "cell_type": "code",
      "source": [
        "# reload ckp and start training from the last epoch\n",
        "model = BertClassifier()\n",
        "optimizer = Adam(model.parameters(), lr= LR)\n",
        "_,_, _, valid_accuracy_max,_ = load_model_accuracy(best_model, model, optimizer)\n",
        "model = BertClassifier()\n",
        "optimizer = Adam(model.parameters(), lr= LR)\n",
        "model, optimizer, start_epoch,_, LR = load_ckp_accuracy(checkpoint_path, model, optimizer)\n",
        "EPOCHS = range(start_epoch+1,11)\n",
        "print(EPOCHS)"
      ],
      "metadata": {
        "colab": {
          "base_uri": "https://localhost:8080/"
        },
        "id": "RfSlilXElXx4",
        "outputId": "ddc0fc37-1c67-4bcb-d527-e6e3049e3eeb"
      },
      "execution_count": null,
      "outputs": [
        {
          "output_type": "stream",
          "name": "stderr",
          "text": [
            "Some weights of the model checkpoint at bert-base-cased were not used when initializing BertModel: ['cls.predictions.transform.LayerNorm.bias', 'cls.predictions.transform.dense.weight', 'cls.predictions.transform.dense.bias', 'cls.predictions.decoder.weight', 'cls.seq_relationship.bias', 'cls.predictions.transform.LayerNorm.weight', 'cls.seq_relationship.weight', 'cls.predictions.bias']\n",
            "- This IS expected if you are initializing BertModel from the checkpoint of a model trained on another task or with another architecture (e.g. initializing a BertForSequenceClassification model from a BertForPreTraining model).\n",
            "- This IS NOT expected if you are initializing BertModel from the checkpoint of a model that you expect to be exactly identical (initializing a BertForSequenceClassification model from a BertForSequenceClassification model).\n",
            "Some weights of the model checkpoint at bert-base-cased were not used when initializing BertModel: ['cls.predictions.transform.LayerNorm.bias', 'cls.predictions.transform.dense.weight', 'cls.predictions.transform.dense.bias', 'cls.predictions.decoder.weight', 'cls.seq_relationship.bias', 'cls.predictions.transform.LayerNorm.weight', 'cls.seq_relationship.weight', 'cls.predictions.bias']\n",
            "- This IS expected if you are initializing BertModel from the checkpoint of a model trained on another task or with another architecture (e.g. initializing a BertForSequenceClassification model from a BertForPreTraining model).\n",
            "- This IS NOT expected if you are initializing BertModel from the checkpoint of a model that you expect to be exactly identical (initializing a BertForSequenceClassification model from a BertForSequenceClassification model).\n"
          ]
        },
        {
          "output_type": "stream",
          "name": "stdout",
          "text": [
            "range(3, 11)\n"
          ]
        }
      ]
    },
    {
      "cell_type": "code",
      "source": [
        "train_accuracy(model, train_data, validation_data, LR, EPOCHS,checkpoint_path, best_model, valid_accuracy_max)"
      ],
      "metadata": {
        "colab": {
          "base_uri": "https://localhost:8080/"
        },
        "id": "4MHAZI64laG1",
        "outputId": "e52be338-cd75-4795-d436-eabed6e25ed8"
      },
      "execution_count": null,
      "outputs": [
        {
          "metadata": {
            "tags": null
          },
          "name": "stderr",
          "output_type": "stream",
          "text": [
            "100%|██████████| 8750/8750 [1:00:18<00:00,  2.42it/s]\n"
          ]
        },
        {
          "metadata": {
            "tags": null
          },
          "name": "stdout",
          "output_type": "stream",
          "text": [
            "Epochs: 3 | Train Loss:  0.043                 | Train Accuracy:  0.955                 | Val Loss:  0.059                 | Val Accuracy:  0.926\n"
          ]
        },
        {
          "metadata": {
            "tags": null
          },
          "name": "stderr",
          "output_type": "stream",
          "text": [
            "100%|██████████| 8750/8750 [1:00:17<00:00,  2.42it/s]\n"
          ]
        },
        {
          "metadata": {
            "tags": null
          },
          "name": "stdout",
          "output_type": "stream",
          "text": [
            "Epochs: 4 | Train Loss:  0.030                 | Train Accuracy:  0.970                 | Val Loss:  0.061                 | Val Accuracy:  0.930\n",
            "Validation Accuracy increased (0.926400 --> 0.929800).  Saving model ...\n"
          ]
        },
        {
          "output_type": "stream",
          "name": "stderr",
          "text": [
            " 38%|███▊      | 3345/8750 [23:02<37:05,  2.43it/s]"
          ]
        }
      ]
    },
    {
      "cell_type": "code",
      "source": [
        "# reload ckp and start training from the last epoch\n",
        "model = BertClassifier()\n",
        "optimizer = Adam(model.parameters(), lr= LR)\n",
        "_,_, _, valid_accuracy_max,_ = load_model_accuracy(best_model, model, optimizer)\n",
        "model = BertClassifier()\n",
        "optimizer = Adam(model.parameters(), lr= LR)\n",
        "model, optimizer, start_epoch,_, LR = load_ckp_accuracy(checkpoint_path, model, optimizer)\n",
        "EPOCHS = range(start_epoch+1,11)\n",
        "print(EPOCHS)"
      ],
      "metadata": {
        "id": "kmbxxNijKYLb",
        "colab": {
          "base_uri": "https://localhost:8080/"
        },
        "outputId": "5f58cb09-64c4-4eda-d685-c7841d86191d"
      },
      "execution_count": null,
      "outputs": [
        {
          "output_type": "stream",
          "name": "stderr",
          "text": [
            "Some weights of the model checkpoint at bert-base-cased were not used when initializing BertModel: ['cls.seq_relationship.bias', 'cls.seq_relationship.weight', 'cls.predictions.decoder.weight', 'cls.predictions.transform.LayerNorm.weight', 'cls.predictions.transform.dense.bias', 'cls.predictions.transform.dense.weight', 'cls.predictions.transform.LayerNorm.bias', 'cls.predictions.bias']\n",
            "- This IS expected if you are initializing BertModel from the checkpoint of a model trained on another task or with another architecture (e.g. initializing a BertForSequenceClassification model from a BertForPreTraining model).\n",
            "- This IS NOT expected if you are initializing BertModel from the checkpoint of a model that you expect to be exactly identical (initializing a BertForSequenceClassification model from a BertForSequenceClassification model).\n",
            "Some weights of the model checkpoint at bert-base-cased were not used when initializing BertModel: ['cls.seq_relationship.bias', 'cls.seq_relationship.weight', 'cls.predictions.decoder.weight', 'cls.predictions.transform.LayerNorm.weight', 'cls.predictions.transform.dense.bias', 'cls.predictions.transform.dense.weight', 'cls.predictions.transform.LayerNorm.bias', 'cls.predictions.bias']\n",
            "- This IS expected if you are initializing BertModel from the checkpoint of a model trained on another task or with another architecture (e.g. initializing a BertForSequenceClassification model from a BertForPreTraining model).\n",
            "- This IS NOT expected if you are initializing BertModel from the checkpoint of a model that you expect to be exactly identical (initializing a BertForSequenceClassification model from a BertForSequenceClassification model).\n"
          ]
        },
        {
          "output_type": "stream",
          "name": "stdout",
          "text": [
            "range(5, 11)\n"
          ]
        }
      ]
    },
    {
      "cell_type": "code",
      "source": [
        "train_accuracy(model, train_data, validation_data, LR, EPOCHS,checkpoint_path, best_model, valid_accuracy_max)"
      ],
      "metadata": {
        "colab": {
          "base_uri": "https://localhost:8080/"
        },
        "id": "o4KbRxZPMC0E",
        "outputId": "620eb948-a6f6-42b1-9342-e8b4713a2207"
      },
      "execution_count": null,
      "outputs": [
        {
          "metadata": {
            "tags": null
          },
          "name": "stderr",
          "output_type": "stream",
          "text": [
            "100%|██████████| 8750/8750 [58:06<00:00,  2.51it/s]\n"
          ]
        },
        {
          "metadata": {
            "tags": null
          },
          "name": "stdout",
          "output_type": "stream",
          "text": [
            "Epochs: 5 | Train Loss:  0.021                 | Train Accuracy:  0.982                 | Val Loss:  0.065                 | Val Accuracy:  0.928\n"
          ]
        },
        {
          "metadata": {
            "tags": null
          },
          "name": "stderr",
          "output_type": "stream",
          "text": [
            "100%|██████████| 8750/8750 [58:02<00:00,  2.51it/s]\n"
          ]
        },
        {
          "metadata": {
            "tags": null
          },
          "name": "stdout",
          "output_type": "stream",
          "text": [
            "Epochs: 6 | Train Loss:  0.014                 | Train Accuracy:  0.990                 | Val Loss:  0.101                 | Val Accuracy:  0.909\n"
          ]
        },
        {
          "metadata": {
            "tags": null
          },
          "name": "stderr",
          "output_type": "stream",
          "text": [
            "100%|██████████| 8750/8750 [58:00<00:00,  2.51it/s]\n"
          ]
        },
        {
          "metadata": {
            "tags": null
          },
          "name": "stdout",
          "output_type": "stream",
          "text": [
            "Epochs: 7 | Train Loss:  0.009                 | Train Accuracy:  0.994                 | Val Loss:  0.097                 | Val Accuracy:  0.928\n"
          ]
        },
        {
          "output_type": "stream",
          "name": "stderr",
          "text": [
            " 72%|███████▏  | 6327/8750 [41:56<15:56,  2.53it/s]"
          ]
        }
      ]
    },
    {
      "cell_type": "code",
      "source": [
        "# reload ckp and start training from the last epoch\n",
        "model = BertClassifier()\n",
        "optimizer = Adam(model.parameters(), lr= LR)\n",
        "_,_, _, valid_accuracy_max,_ = load_model_accuracy(best_model, model, optimizer)\n",
        "model = BertClassifier()\n",
        "optimizer = Adam(model.parameters(), lr= LR)\n",
        "model, optimizer, start_epoch,_, LR = load_ckp_accuracy(checkpoint_path, model, optimizer)\n",
        "EPOCHS = range(start_epoch+1,11)\n",
        "print(EPOCHS)"
      ],
      "metadata": {
        "colab": {
          "base_uri": "https://localhost:8080/"
        },
        "id": "Kr7yCBlOCgQl",
        "outputId": "49f205ef-0a65-4e25-f7aa-c5d8c7d26f92"
      },
      "execution_count": null,
      "outputs": [
        {
          "output_type": "stream",
          "name": "stderr",
          "text": [
            "Some weights of the model checkpoint at bert-base-cased were not used when initializing BertModel: ['cls.predictions.transform.LayerNorm.weight', 'cls.predictions.bias', 'cls.predictions.decoder.weight', 'cls.predictions.transform.dense.weight', 'cls.predictions.transform.LayerNorm.bias', 'cls.predictions.transform.dense.bias', 'cls.seq_relationship.weight', 'cls.seq_relationship.bias']\n",
            "- This IS expected if you are initializing BertModel from the checkpoint of a model trained on another task or with another architecture (e.g. initializing a BertForSequenceClassification model from a BertForPreTraining model).\n",
            "- This IS NOT expected if you are initializing BertModel from the checkpoint of a model that you expect to be exactly identical (initializing a BertForSequenceClassification model from a BertForSequenceClassification model).\n",
            "Some weights of the model checkpoint at bert-base-cased were not used when initializing BertModel: ['cls.predictions.transform.LayerNorm.weight', 'cls.predictions.bias', 'cls.predictions.decoder.weight', 'cls.predictions.transform.dense.weight', 'cls.predictions.transform.LayerNorm.bias', 'cls.predictions.transform.dense.bias', 'cls.seq_relationship.weight', 'cls.seq_relationship.bias']\n",
            "- This IS expected if you are initializing BertModel from the checkpoint of a model trained on another task or with another architecture (e.g. initializing a BertForSequenceClassification model from a BertForPreTraining model).\n",
            "- This IS NOT expected if you are initializing BertModel from the checkpoint of a model that you expect to be exactly identical (initializing a BertForSequenceClassification model from a BertForSequenceClassification model).\n"
          ]
        },
        {
          "output_type": "stream",
          "name": "stdout",
          "text": [
            "range(8, 11)\n"
          ]
        }
      ]
    },
    {
      "cell_type": "code",
      "source": [
        "train_accuracy(model, train_data, validation_data, LR, EPOCHS,checkpoint_path, best_model, valid_accuracy_max)"
      ],
      "metadata": {
        "colab": {
          "base_uri": "https://localhost:8080/"
        },
        "id": "-t0CifWGCjLX",
        "outputId": "67f00e36-7ef2-43fb-be45-111b9f97f00e"
      },
      "execution_count": null,
      "outputs": [
        {
          "output_type": "stream",
          "name": "stderr",
          "text": [
            "100%|██████████| 8750/8750 [58:10<00:00,  2.51it/s]\n"
          ]
        },
        {
          "output_type": "stream",
          "name": "stdout",
          "text": [
            "Epochs: 8 | Train Loss:  0.007                 | Train Accuracy:  0.996                 | Val Loss:  0.098                 | Val Accuracy:  0.929\n"
          ]
        },
        {
          "output_type": "stream",
          "name": "stderr",
          "text": [
            "100%|██████████| 8750/8750 [58:05<00:00,  2.51it/s]\n"
          ]
        },
        {
          "output_type": "stream",
          "name": "stdout",
          "text": [
            "Epochs: 9 | Train Loss:  0.005                 | Train Accuracy:  0.997                 | Val Loss:  0.118                 | Val Accuracy:  0.923\n"
          ]
        },
        {
          "output_type": "stream",
          "name": "stderr",
          "text": [
            " 30%|██▉       | 2623/8750 [17:24<40:29,  2.52it/s]"
          ]
        }
      ]
    },
    {
      "cell_type": "code",
      "source": [
        "# reload ckp and start training from the last epoch\n",
        "model = BertClassifier()\n",
        "optimizer = Adam(model.parameters(), lr= LR)\n",
        "_,_, _, valid_accuracy_max,_ = load_model_accuracy(best_model, model, optimizer)\n",
        "model = BertClassifier()\n",
        "optimizer = Adam(model.parameters(), lr= LR)\n",
        "model, optimizer, start_epoch,_, LR = load_ckp_accuracy(checkpoint_path, model, optimizer)\n",
        "EPOCHS = range(start_epoch+1,11)\n",
        "print(EPOCHS)"
      ],
      "metadata": {
        "id": "qrdN4JyfCjIV",
        "colab": {
          "base_uri": "https://localhost:8080/"
        },
        "outputId": "2d403ea4-c31a-4cd5-b480-17c58bbeedf7"
      },
      "execution_count": null,
      "outputs": [
        {
          "output_type": "stream",
          "name": "stderr",
          "text": [
            "Some weights of the model checkpoint at bert-base-cased were not used when initializing BertModel: ['cls.predictions.bias', 'cls.predictions.transform.LayerNorm.weight', 'cls.seq_relationship.weight', 'cls.predictions.transform.dense.weight', 'cls.predictions.transform.LayerNorm.bias', 'cls.predictions.transform.dense.bias', 'cls.seq_relationship.bias', 'cls.predictions.decoder.weight']\n",
            "- This IS expected if you are initializing BertModel from the checkpoint of a model trained on another task or with another architecture (e.g. initializing a BertForSequenceClassification model from a BertForPreTraining model).\n",
            "- This IS NOT expected if you are initializing BertModel from the checkpoint of a model that you expect to be exactly identical (initializing a BertForSequenceClassification model from a BertForSequenceClassification model).\n",
            "Some weights of the model checkpoint at bert-base-cased were not used when initializing BertModel: ['cls.predictions.bias', 'cls.predictions.transform.LayerNorm.weight', 'cls.seq_relationship.weight', 'cls.predictions.transform.dense.weight', 'cls.predictions.transform.LayerNorm.bias', 'cls.predictions.transform.dense.bias', 'cls.seq_relationship.bias', 'cls.predictions.decoder.weight']\n",
            "- This IS expected if you are initializing BertModel from the checkpoint of a model trained on another task or with another architecture (e.g. initializing a BertForSequenceClassification model from a BertForPreTraining model).\n",
            "- This IS NOT expected if you are initializing BertModel from the checkpoint of a model that you expect to be exactly identical (initializing a BertForSequenceClassification model from a BertForSequenceClassification model).\n"
          ]
        },
        {
          "output_type": "stream",
          "name": "stdout",
          "text": [
            "range(10, 11)\n"
          ]
        }
      ]
    },
    {
      "cell_type": "code",
      "source": [
        "train_accuracy(model, train_data, validation_data, LR, EPOCHS,checkpoint_path, best_model, valid_accuracy_max)"
      ],
      "metadata": {
        "colab": {
          "base_uri": "https://localhost:8080/"
        },
        "id": "Q-eJ3PlbBej0",
        "outputId": "93a988ca-a4d4-4105-8faf-93feacc0bb04"
      },
      "execution_count": null,
      "outputs": [
        {
          "output_type": "stream",
          "name": "stderr",
          "text": [
            "100%|██████████| 8750/8750 [57:10<00:00,  2.55it/s]\n"
          ]
        },
        {
          "output_type": "stream",
          "name": "stdout",
          "text": [
            "Epochs: 10 | Train Loss:  0.004                 | Train Accuracy:  0.997                 | Val Loss:  0.120                 | Val Accuracy:  0.926\n"
          ]
        }
      ]
    },
    {
      "cell_type": "code",
      "source": [
        "val_acc=[0.917600,0.926400,0.926,0.929800,0.928,0.909,0.928,0.929,0.923,0.9256]\n",
        "train_acc=[0.892,0.934,0.955,0.970,0.982,0.990,0.994,0.996,0.997,0.997]"
      ],
      "metadata": {
        "id": "Eu3vvVQ1Tis-"
      },
      "execution_count": null,
      "outputs": []
    },
    {
      "cell_type": "code",
      "source": [
        "plt.plot(range(1,11), val_acc, label='Validation Accuracy')\n",
        "plt.plot(range(1,11), train_acc, label='Training Accuracy')\n",
        "plt.legend()\n",
        "plt.xlabel('Epochs')\n",
        "plt.ylabel('Validation Accuracy and Training Accuracy')\n",
        "plt.title('Accuracy vs Epochs')\n",
        "plt.show()"
      ],
      "metadata": {
        "colab": {
          "base_uri": "https://localhost:8080/",
          "height": 295
        },
        "id": "-XR6k7vkYSmd",
        "outputId": "44956420-1999-4e2d-d52a-73513cbcfdf1"
      },
      "execution_count": null,
      "outputs": [
        {
          "output_type": "display_data",
          "data": {
            "text/plain": [
              "<Figure size 432x288 with 1 Axes>"
            ],
            "image/png": "[encoded data removed]"
          },
          "metadata": {
            "needs_background": "light"
          }
        }
      ]
    },
    {
      "cell_type": "markdown",
      "source": [
        "### 5e-6"
      ],
      "metadata": {
        "id": "5HgLO3PNm-Xe"
      }
    },
    {
      "cell_type": "code",
      "source": [
        "model = BertClassifier()\n",
        "LR = 5e-6\n",
        "optimizer = Adam(model.parameters(), lr= LR)\n",
        "checkpoint_path = '/content/drive/MyDrive/bert/checkpointsaccbonus/check.pt'\n",
        "best_model = '/content/drive/MyDrive/bert/bestmodelaccbonus/model.pt'"
      ],
      "metadata": {
        "colab": {
          "base_uri": "https://localhost:8080/"
        },
        "outputId": "7663e04d-12f9-4b0c-c8d6-121af9f1245e",
        "id": "44mhVSmxnNC9"
      },
      "execution_count": null,
      "outputs": [
        {
          "output_type": "stream",
          "name": "stderr",
          "text": [
            "Some weights of the model checkpoint at bert-base-cased were not used when initializing BertModel: ['cls.predictions.bias', 'cls.predictions.decoder.weight', 'cls.seq_relationship.bias', 'cls.seq_relationship.weight', 'cls.predictions.transform.LayerNorm.bias', 'cls.predictions.transform.dense.bias', 'cls.predictions.transform.LayerNorm.weight', 'cls.predictions.transform.dense.weight']\n",
            "- This IS expected if you are initializing BertModel from the checkpoint of a model trained on another task or with another architecture (e.g. initializing a BertForSequenceClassification model from a BertForPreTraining model).\n",
            "- This IS NOT expected if you are initializing BertModel from the checkpoint of a model that you expect to be exactly identical (initializing a BertForSequenceClassification model from a BertForSequenceClassification model).\n"
          ]
        }
      ]
    },
    {
      "cell_type": "code",
      "source": [
        "train_accuracy(model, train_data, validation_data, LR, epochs,checkpoint_path, best_model, -np.inf)"
      ],
      "metadata": {
        "colab": {
          "base_uri": "https://localhost:8080/"
        },
        "id": "Z-crqjxlyQAp",
        "outputId": "7cd53f77-2e1d-4a70-87ff-32c05d6c59d1"
      },
      "execution_count": null,
      "outputs": [
        {
          "output_type": "stream",
          "name": "stderr",
          "text": [
            "100%|██████████| 8750/8750 [57:46<00:00,  2.52it/s]\n"
          ]
        },
        {
          "output_type": "stream",
          "name": "stdout",
          "text": [
            "Epochs: 1 | Train Loss:  0.055                 | Train Accuracy:  0.926                 | Val Loss:  0.050                 | Val Accuracy:  0.929\n",
            "Validation Accuracy increased (-inf --> 0.928600).  Saving model ...\n"
          ]
        },
        {
          "output_type": "stream",
          "name": "stderr",
          "text": [
            "100%|██████████| 8750/8750 [57:44<00:00,  2.53it/s]\n"
          ]
        },
        {
          "output_type": "stream",
          "name": "stdout",
          "text": [
            "Epochs: 2 | Train Loss:  0.028                 | Train Accuracy:  0.967                 | Val Loss:  0.053                 | Val Accuracy:  0.934\n",
            "Validation Accuracy increased (0.928600 --> 0.934000).  Saving model ...\n"
          ]
        },
        {
          "output_type": "stream",
          "name": "stderr",
          "text": [
            " 93%|█████████▎| 8151/8750 [53:46<03:57,  2.52it/s]"
          ]
        }
      ]
    },
    {
      "cell_type": "code",
      "source": [
        "# reload ckp and start training from the last epoch\n",
        "model = BertClassifier()\n",
        "optimizer = Adam(model.parameters(), lr= LR)\n",
        "_,_, _, valid_accuracy_max,_ = load_model_accuracy(best_model, model, optimizer)\n",
        "model = BertClassifier()\n",
        "optimizer = Adam(model.parameters(), lr= LR)\n",
        "model, optimizer, start_epoch,_, LR = load_ckp_accuracy(checkpoint_path, model, optimizer)\n",
        "EPOCHS = range(start_epoch+1,11)\n",
        "print(EPOCHS)"
      ],
      "metadata": {
        "id": "pzZ5IJ91va1g",
        "colab": {
          "base_uri": "https://localhost:8080/"
        },
        "outputId": "7897d1bd-558c-4e57-896d-40f980f11c9a"
      },
      "execution_count": null,
      "outputs": [
        {
          "output_type": "stream",
          "name": "stderr",
          "text": [
            "Some weights of the model checkpoint at bert-base-cased were not used when initializing BertModel: ['cls.predictions.decoder.weight', 'cls.predictions.bias', 'cls.seq_relationship.bias', 'cls.predictions.transform.LayerNorm.bias', 'cls.predictions.transform.dense.bias', 'cls.predictions.transform.LayerNorm.weight', 'cls.seq_relationship.weight', 'cls.predictions.transform.dense.weight']\n",
            "- This IS expected if you are initializing BertModel from the checkpoint of a model trained on another task or with another architecture (e.g. initializing a BertForSequenceClassification model from a BertForPreTraining model).\n",
            "- This IS NOT expected if you are initializing BertModel from the checkpoint of a model that you expect to be exactly identical (initializing a BertForSequenceClassification model from a BertForSequenceClassification model).\n",
            "Some weights of the model checkpoint at bert-base-cased were not used when initializing BertModel: ['cls.predictions.decoder.weight', 'cls.predictions.bias', 'cls.seq_relationship.bias', 'cls.predictions.transform.LayerNorm.bias', 'cls.predictions.transform.dense.bias', 'cls.predictions.transform.LayerNorm.weight', 'cls.seq_relationship.weight', 'cls.predictions.transform.dense.weight']\n",
            "- This IS expected if you are initializing BertModel from the checkpoint of a model trained on another task or with another architecture (e.g. initializing a BertForSequenceClassification model from a BertForPreTraining model).\n",
            "- This IS NOT expected if you are initializing BertModel from the checkpoint of a model that you expect to be exactly identical (initializing a BertForSequenceClassification model from a BertForSequenceClassification model).\n"
          ]
        },
        {
          "output_type": "stream",
          "name": "stdout",
          "text": [
            "range(3, 11)\n"
          ]
        }
      ]
    },
    {
      "cell_type": "code",
      "source": [
        "train_accuracy(model, train_data, validation_data, LR, EPOCHS,checkpoint_path, best_model, valid_accuracy_max)"
      ],
      "metadata": {
        "id": "WWHDDWgjvcr_",
        "colab": {
          "base_uri": "https://localhost:8080/"
        },
        "outputId": "d38603ca-060a-4144-f2f0-5f5251a62677"
      },
      "execution_count": null,
      "outputs": [
        {
          "metadata": {
            "tags": null
          },
          "name": "stderr",
          "output_type": "stream",
          "text": [
            "100%|██████████| 8750/8750 [55:39<00:00,  2.62it/s]\n"
          ]
        },
        {
          "metadata": {
            "tags": null
          },
          "name": "stdout",
          "output_type": "stream",
          "text": [
            "Epochs: 3 | Train Loss:  0.012                 | Train Accuracy:  0.988                 | Val Loss:  0.075                 | Val Accuracy:  0.932\n"
          ]
        },
        {
          "metadata": {
            "tags": null
          },
          "name": "stderr",
          "output_type": "stream",
          "text": [
            "100%|██████████| 8750/8750 [55:32<00:00,  2.63it/s]\n"
          ]
        },
        {
          "metadata": {
            "tags": null
          },
          "name": "stdout",
          "output_type": "stream",
          "text": [
            "Epochs: 4 | Train Loss:  0.007                 | Train Accuracy:  0.993                 | Val Loss:  0.086                 | Val Accuracy:  0.934\n",
            "Validation Accuracy increased (0.934000 --> 0.934400).  Saving model ...\n"
          ]
        },
        {
          "output_type": "stream",
          "name": "stderr",
          "text": [
            "100%|██████████| 8750/8750 [55:27<00:00,  2.63it/s]\n"
          ]
        },
        {
          "output_type": "stream",
          "name": "stdout",
          "text": [
            "Epochs: 5 | Train Loss:  0.006                 | Train Accuracy:  0.995                 | Val Loss:  0.097                 | Val Accuracy:  0.923\n"
          ]
        },
        {
          "output_type": "stream",
          "name": "stderr",
          "text": [
            " 87%|████████▋ | 7606/8750 [48:07<07:11,  2.65it/s]"
          ]
        }
      ]
    },
    {
      "cell_type": "code",
      "source": [
        "# reload ckp and start training from the last epoch\n",
        "model = BertClassifier()\n",
        "optimizer = Adam(model.parameters(), lr= LR)\n",
        "_,_, _, valid_accuracy_max,_ = load_model_accuracy(best_model, model, optimizer)\n",
        "model = BertClassifier()\n",
        "optimizer = Adam(model.parameters(), lr= LR)\n",
        "model, optimizer, start_epoch,_, LR = load_ckp_accuracy(checkpoint_path, model, optimizer)\n",
        "EPOCHS = range(start_epoch+1,11)\n",
        "print(EPOCHS)"
      ],
      "metadata": {
        "colab": {
          "base_uri": "https://localhost:8080/"
        },
        "id": "4h_bSdCSPDSM",
        "outputId": "3717454f-b56a-44de-d7e8-be252687fbda"
      },
      "execution_count": null,
      "outputs": [
        {
          "output_type": "stream",
          "name": "stderr",
          "text": [
            "Some weights of the model checkpoint at bert-base-cased were not used when initializing BertModel: ['cls.predictions.transform.dense.weight', 'cls.predictions.bias', 'cls.predictions.transform.dense.bias', 'cls.predictions.decoder.weight', 'cls.seq_relationship.weight', 'cls.seq_relationship.bias', 'cls.predictions.transform.LayerNorm.bias', 'cls.predictions.transform.LayerNorm.weight']\n",
            "- This IS expected if you are initializing BertModel from the checkpoint of a model trained on another task or with another architecture (e.g. initializing a BertForSequenceClassification model from a BertForPreTraining model).\n",
            "- This IS NOT expected if you are initializing BertModel from the checkpoint of a model that you expect to be exactly identical (initializing a BertForSequenceClassification model from a BertForSequenceClassification model).\n",
            "Some weights of the model checkpoint at bert-base-cased were not used when initializing BertModel: ['cls.predictions.transform.dense.weight', 'cls.predictions.bias', 'cls.predictions.transform.dense.bias', 'cls.predictions.decoder.weight', 'cls.seq_relationship.weight', 'cls.seq_relationship.bias', 'cls.predictions.transform.LayerNorm.bias', 'cls.predictions.transform.LayerNorm.weight']\n",
            "- This IS expected if you are initializing BertModel from the checkpoint of a model trained on another task or with another architecture (e.g. initializing a BertForSequenceClassification model from a BertForPreTraining model).\n",
            "- This IS NOT expected if you are initializing BertModel from the checkpoint of a model that you expect to be exactly identical (initializing a BertForSequenceClassification model from a BertForSequenceClassification model).\n"
          ]
        },
        {
          "output_type": "stream",
          "name": "stdout",
          "text": [
            "range(6, 11)\n"
          ]
        }
      ]
    },
    {
      "cell_type": "code",
      "source": [
        "train_accuracy(model, train_data, validation_data, LR, EPOCHS,checkpoint_path, best_model, valid_accuracy_max)"
      ],
      "metadata": {
        "colab": {
          "base_uri": "https://localhost:8080/"
        },
        "id": "EL0Am1ITPEuT",
        "outputId": "c66c3a6f-5a21-402b-db20-8952a7480ce7"
      },
      "execution_count": null,
      "outputs": [
        {
          "output_type": "stream",
          "name": "stderr",
          "text": [
            "100%|██████████| 8750/8750 [57:33<00:00,  2.53it/s]\n"
          ]
        },
        {
          "output_type": "stream",
          "name": "stdout",
          "text": [
            "Epochs: 6 | Train Loss:  0.005                 | Train Accuracy:  0.996                 | Val Loss:  0.119                 | Val Accuracy:  0.932\n"
          ]
        },
        {
          "output_type": "stream",
          "name": "stderr",
          "text": [
            "100%|██████████| 8750/8750 [57:24<00:00,  2.54it/s]\n"
          ]
        },
        {
          "output_type": "stream",
          "name": "stdout",
          "text": [
            "Epochs: 7 | Train Loss:  0.004                 | Train Accuracy:  0.997                 | Val Loss:  0.113                 | Val Accuracy:  0.931\n"
          ]
        },
        {
          "output_type": "stream",
          "name": "stderr",
          "text": [
            " 33%|███▎      | 2916/8750 [19:07<38:22,  2.53it/s]"
          ]
        }
      ]
    },
    {
      "cell_type": "code",
      "source": [
        "# reload ckp and start training from the last epoch\n",
        "model = BertClassifier()\n",
        "optimizer = Adam(model.parameters(), lr= LR)\n",
        "_,_, _, valid_accuracy_max,_ = load_model_accuracy(best_model, model, optimizer)\n",
        "model = BertClassifier()\n",
        "optimizer = Adam(model.parameters(), lr= LR)\n",
        "model, optimizer, start_epoch,_, LR = load_ckp_accuracy(checkpoint_path, model, optimizer)\n",
        "EPOCHS = range(start_epoch+1,11)\n",
        "print(EPOCHS)"
      ],
      "metadata": {
        "colab": {
          "base_uri": "https://localhost:8080/"
        },
        "id": "pbA04-xETkej",
        "outputId": "e5a2eccb-ae40-4d34-bd38-233af6734e31"
      },
      "execution_count": null,
      "outputs": [
        {
          "output_type": "stream",
          "name": "stderr",
          "text": [
            "Some weights of the model checkpoint at bert-base-cased were not used when initializing BertModel: ['cls.predictions.bias', 'cls.predictions.decoder.weight', 'cls.seq_relationship.bias', 'cls.seq_relationship.weight', 'cls.predictions.transform.LayerNorm.bias', 'cls.predictions.transform.dense.bias', 'cls.predictions.transform.LayerNorm.weight', 'cls.predictions.transform.dense.weight']\n",
            "- This IS expected if you are initializing BertModel from the checkpoint of a model trained on another task or with another architecture (e.g. initializing a BertForSequenceClassification model from a BertForPreTraining model).\n",
            "- This IS NOT expected if you are initializing BertModel from the checkpoint of a model that you expect to be exactly identical (initializing a BertForSequenceClassification model from a BertForSequenceClassification model).\n",
            "Some weights of the model checkpoint at bert-base-cased were not used when initializing BertModel: ['cls.predictions.bias', 'cls.predictions.decoder.weight', 'cls.seq_relationship.bias', 'cls.seq_relationship.weight', 'cls.predictions.transform.LayerNorm.bias', 'cls.predictions.transform.dense.bias', 'cls.predictions.transform.LayerNorm.weight', 'cls.predictions.transform.dense.weight']\n",
            "- This IS expected if you are initializing BertModel from the checkpoint of a model trained on another task or with another architecture (e.g. initializing a BertForSequenceClassification model from a BertForPreTraining model).\n",
            "- This IS NOT expected if you are initializing BertModel from the checkpoint of a model that you expect to be exactly identical (initializing a BertForSequenceClassification model from a BertForSequenceClassification model).\n"
          ]
        },
        {
          "output_type": "stream",
          "name": "stdout",
          "text": [
            "range(8, 11)\n"
          ]
        }
      ]
    },
    {
      "cell_type": "code",
      "source": [
        "train_accuracy(model, train_data, validation_data, LR, EPOCHS,checkpoint_path, best_model, valid_accuracy_max)"
      ],
      "metadata": {
        "colab": {
          "base_uri": "https://localhost:8080/"
        },
        "id": "mCO_N95wTnd2",
        "outputId": "e5b66fe3-e7d5-44cd-9bb0-94674d6b28b9"
      },
      "execution_count": null,
      "outputs": [
        {
          "output_type": "stream",
          "name": "stderr",
          "text": [
            "100%|██████████| 8750/8750 [57:31<00:00,  2.54it/s]\n"
          ]
        },
        {
          "output_type": "stream",
          "name": "stdout",
          "text": [
            "Epochs: 8 | Train Loss:  0.004                 | Train Accuracy:  0.997                 | Val Loss:  0.136                 | Val Accuracy:  0.928\n"
          ]
        },
        {
          "output_type": "stream",
          "name": "stderr",
          "text": [
            "100%|██████████| 8750/8750 [57:33<00:00,  2.53it/s]\n"
          ]
        },
        {
          "output_type": "stream",
          "name": "stdout",
          "text": [
            "Epochs: 9 | Train Loss:  0.003                 | Train Accuracy:  0.997                 | Val Loss:  0.136                 | Val Accuracy:  0.929\n"
          ]
        },
        {
          "output_type": "stream",
          "name": "stderr",
          "text": [
            "100%|██████████| 8750/8750 [57:14<00:00,  2.55it/s]\n"
          ]
        },
        {
          "output_type": "stream",
          "name": "stdout",
          "text": [
            "Epochs: 10 | Train Loss:  0.002                 | Train Accuracy:  0.998                 | Val Loss:  0.168                 | Val Accuracy:  0.932\n"
          ]
        }
      ]
    },
    {
      "cell_type": "code",
      "source": [
        "val_acc=[0.928600,0.934000,0.932,0.934,0.923,0.932,0.931,0.928, 0.9292, 0.932]\n",
        "train_acc=[0.926,0.967,0.988,0.993,0.995,0.996,0.997,0.997,0.997,0.998]"
      ],
      "metadata": {
        "id": "iBnbhVE6_i2V"
      },
      "execution_count": null,
      "outputs": []
    },
    {
      "cell_type": "code",
      "source": [
        "plt.plot(range(1,11), val_acc, label='Validation Accuracy')\n",
        "plt.plot(range(1,11), train_acc, label='Training Accuracy')\n",
        "plt.legend()\n",
        "plt.xlabel('Epochs')\n",
        "plt.ylabel('Validation Accuracy and Training Accuracy')\n",
        "plt.title('Accuracy vs Epochs')\n",
        "plt.show()"
      ],
      "metadata": {
        "colab": {
          "base_uri": "https://localhost:8080/",
          "height": 295
        },
        "id": "BU5zhmYe_uAd",
        "outputId": "fce58439-59cb-4516-9e47-433d2fa15d29"
      },
      "execution_count": null,
      "outputs": [
        {
          "output_type": "display_data",
          "data": {
            "text/plain": [
              "<Figure size 432x288 with 1 Axes>"
            ],
            "image/png": "[encoded data removed]"
          },
          "metadata": {
            "needs_background": "light"
          }
        }
      ]
    },
    {
      "cell_type": "markdown",
      "source": [
        "### 1e-5"
      ],
      "metadata": {
        "id": "B6Og1xjRnjYZ"
      }
    },
    {
      "cell_type": "code",
      "source": [
        "model = BertClassifier()\n",
        "LR = 1e-5\n",
        "optimizer = Adam(model.parameters(), lr= LR)\n",
        "checkpoint_path = '/content/drive/MyDrive/bert/checkpointsaccbonus/check.pt'\n",
        "best_model = '/content/drive/MyDrive/bert/bestmodelaccbonus/model.pt'"
      ],
      "metadata": {
        "colab": {
          "base_uri": "https://localhost:8080/"
        },
        "outputId": "1256a157-4393-4a2b-96cc-692ae46e3e9e",
        "id": "TWGn9LuDnqkv"
      },
      "execution_count": null,
      "outputs": [
        {
          "output_type": "stream",
          "name": "stderr",
          "text": [
            "Some weights of the model checkpoint at bert-base-cased were not used when initializing BertModel: ['cls.predictions.bias', 'cls.predictions.transform.LayerNorm.bias', 'cls.predictions.transform.dense.weight', 'cls.predictions.transform.dense.bias', 'cls.seq_relationship.weight', 'cls.seq_relationship.bias', 'cls.predictions.decoder.weight', 'cls.predictions.transform.LayerNorm.weight']\n",
            "- This IS expected if you are initializing BertModel from the checkpoint of a model trained on another task or with another architecture (e.g. initializing a BertForSequenceClassification model from a BertForPreTraining model).\n",
            "- This IS NOT expected if you are initializing BertModel from the checkpoint of a model that you expect to be exactly identical (initializing a BertForSequenceClassification model from a BertForSequenceClassification model).\n"
          ]
        }
      ]
    },
    {
      "cell_type": "code",
      "source": [
        "train_accuracy(model, train_data, validation_data, LR, epochs,checkpoint_path, best_model, -np.inf)"
      ],
      "metadata": {
        "colab": {
          "base_uri": "https://localhost:8080/"
        },
        "outputId": "e9c1752f-64b7-4e35-ec6f-d134fab90cd2",
        "id": "uTdOVkPXnsLl"
      },
      "execution_count": null,
      "outputs": [
        {
          "metadata": {
            "tags": null
          },
          "name": "stderr",
          "output_type": "stream",
          "text": [
            "100%|██████████| 8750/8750 [56:30<00:00,  2.58it/s]\n"
          ]
        },
        {
          "metadata": {
            "tags": null
          },
          "name": "stdout",
          "output_type": "stream",
          "text": [
            "Epochs: 1 | Train Loss:  0.099                 | Train Accuracy:  0.802                 | Val Loss:  0.055                 | Val Accuracy:  0.918\n",
            "Validation Accuracy increased (-inf --> 0.918000).  Saving model ...\n"
          ]
        },
        {
          "metadata": {
            "tags": null
          },
          "name": "stderr",
          "output_type": "stream",
          "text": [
            "100%|██████████| 8750/8750 [56:42<00:00,  2.57it/s]\n"
          ]
        },
        {
          "metadata": {
            "tags": null
          },
          "name": "stdout",
          "output_type": "stream",
          "text": [
            "Epochs: 2 | Train Loss:  0.043                 | Train Accuracy:  0.944                 | Val Loss:  0.047                 | Val Accuracy:  0.933\n",
            "Validation Accuracy increased (0.918000 --> 0.932600).  Saving model ...\n"
          ]
        },
        {
          "metadata": {
            "tags": null
          },
          "name": "stderr",
          "output_type": "stream",
          "text": [
            "100%|██████████| 8750/8750 [56:41<00:00,  2.57it/s]\n"
          ]
        },
        {
          "metadata": {
            "tags": null
          },
          "name": "stdout",
          "output_type": "stream",
          "text": [
            "Epochs: 3 | Train Loss:  0.019                 | Train Accuracy:  0.978                 | Val Loss:  0.067                 | Val Accuracy:  0.927\n"
          ]
        },
        {
          "metadata": {
            "tags": null
          },
          "name": "stderr",
          "output_type": "stream",
          "text": [
            "100%|██████████| 8750/8750 [56:33<00:00,  2.58it/s]\n"
          ]
        },
        {
          "metadata": {
            "tags": null
          },
          "name": "stdout",
          "output_type": "stream",
          "text": [
            "Epochs: 4 | Train Loss:  0.010                 | Train Accuracy:  0.989                 | Val Loss:  0.081                 | Val Accuracy:  0.933\n",
            "Validation Accuracy increased (0.932600 --> 0.932800).  Saving model ...\n"
          ]
        },
        {
          "metadata": {
            "tags": null
          },
          "name": "stderr",
          "output_type": "stream",
          "text": [
            "100%|██████████| 8750/8750 [56:31<00:00,  2.58it/s]\n"
          ]
        },
        {
          "output_type": "stream",
          "name": "stdout",
          "text": [
            "Epochs: 5 | Train Loss:  0.007                 | Train Accuracy:  0.993                 | Val Loss:  0.081                 | Val Accuracy:  0.928\n"
          ]
        },
        {
          "output_type": "stream",
          "name": "stderr",
          "text": [
            "100%|██████████| 8750/8750 [56:24<00:00,  2.59it/s]\n"
          ]
        },
        {
          "output_type": "stream",
          "name": "stdout",
          "text": [
            "Epochs: 6 | Train Loss:  0.006                 | Train Accuracy:  0.994                 | Val Loss:  0.099                 | Val Accuracy:  0.933\n"
          ]
        },
        {
          "output_type": "stream",
          "name": "stderr",
          "text": [
            " 12%|█▏        | 1092/8750 [07:03<49:07,  2.60it/s]"
          ]
        }
      ]
    },
    {
      "cell_type": "code",
      "source": [
        "# reload ckp and start training from the last epoch\n",
        "model = BertClassifier()\n",
        "optimizer = Adam(model.parameters(), lr= LR)\n",
        "_,_, _, valid_accuracy_max,_ = load_model_accuracy(best_model, model, optimizer)\n",
        "model = BertClassifier()\n",
        "optimizer = Adam(model.parameters(), lr= LR)\n",
        "model, optimizer, start_epoch,_, LR = load_ckp_accuracy(checkpoint_path, model, optimizer)\n",
        "EPOCHS = range(start_epoch+1,11)\n",
        "print(EPOCHS)"
      ],
      "metadata": {
        "colab": {
          "base_uri": "https://localhost:8080/"
        },
        "id": "jw1Ij9OPL_5I",
        "outputId": "e567fc1c-af27-497c-f43a-250acda3043d"
      },
      "execution_count": null,
      "outputs": [
        {
          "output_type": "stream",
          "name": "stderr",
          "text": [
            "Some weights of the model checkpoint at bert-base-cased were not used when initializing BertModel: ['cls.predictions.transform.LayerNorm.bias', 'cls.predictions.bias', 'cls.seq_relationship.weight', 'cls.predictions.transform.dense.weight', 'cls.predictions.transform.dense.bias', 'cls.seq_relationship.bias', 'cls.predictions.decoder.weight', 'cls.predictions.transform.LayerNorm.weight']\n",
            "- This IS expected if you are initializing BertModel from the checkpoint of a model trained on another task or with another architecture (e.g. initializing a BertForSequenceClassification model from a BertForPreTraining model).\n",
            "- This IS NOT expected if you are initializing BertModel from the checkpoint of a model that you expect to be exactly identical (initializing a BertForSequenceClassification model from a BertForSequenceClassification model).\n",
            "Some weights of the model checkpoint at bert-base-cased were not used when initializing BertModel: ['cls.predictions.transform.LayerNorm.bias', 'cls.predictions.bias', 'cls.seq_relationship.weight', 'cls.predictions.transform.dense.weight', 'cls.predictions.transform.dense.bias', 'cls.seq_relationship.bias', 'cls.predictions.decoder.weight', 'cls.predictions.transform.LayerNorm.weight']\n",
            "- This IS expected if you are initializing BertModel from the checkpoint of a model trained on another task or with another architecture (e.g. initializing a BertForSequenceClassification model from a BertForPreTraining model).\n",
            "- This IS NOT expected if you are initializing BertModel from the checkpoint of a model that you expect to be exactly identical (initializing a BertForSequenceClassification model from a BertForSequenceClassification model).\n"
          ]
        },
        {
          "output_type": "stream",
          "name": "stdout",
          "text": [
            "range(7, 11)\n"
          ]
        }
      ]
    },
    {
      "cell_type": "code",
      "source": [
        "train_accuracy(model, train_data, validation_data, LR, EPOCHS,checkpoint_path, best_model, valid_accuracy_max)"
      ],
      "metadata": {
        "colab": {
          "base_uri": "https://localhost:8080/"
        },
        "id": "hTi6fZKZMB4G",
        "outputId": "2461e420-02f3-4529-9d28-ff202d7402f9"
      },
      "execution_count": null,
      "outputs": [
        {
          "output_type": "stream",
          "name": "stderr",
          "text": [
            "100%|██████████| 8750/8750 [54:59<00:00,  2.65it/s]\n"
          ]
        },
        {
          "output_type": "stream",
          "name": "stdout",
          "text": [
            "Epochs: 7 | Train Loss:  0.005                 | Train Accuracy:  0.994                 | Val Loss:  0.104                 | Val Accuracy:  0.931\n"
          ]
        },
        {
          "output_type": "stream",
          "name": "stderr",
          "text": [
            "100%|██████████| 8750/8750 [55:08<00:00,  2.64it/s]\n"
          ]
        },
        {
          "output_type": "stream",
          "name": "stdout",
          "text": [
            "Epochs: 8 | Train Loss:  0.005                 | Train Accuracy:  0.995                 | Val Loss:  0.112                 | Val Accuracy:  0.926\n"
          ]
        },
        {
          "output_type": "stream",
          "name": "stderr",
          "text": [
            "100%|██████████| 8750/8750 [54:59<00:00,  2.65it/s]\n"
          ]
        },
        {
          "output_type": "stream",
          "name": "stdout",
          "text": [
            "Epochs: 9 | Train Loss:  0.005                 | Train Accuracy:  0.995                 | Val Loss:  0.118                 | Val Accuracy:  0.925\n"
          ]
        },
        {
          "output_type": "stream",
          "name": "stderr",
          "text": [
            " 76%|███████▌  | 6636/8750 [41:48<13:16,  2.65it/s]"
          ]
        }
      ]
    },
    {
      "cell_type": "code",
      "source": [
        "# reload ckp and start training from the last epoch\n",
        "model = BertClassifier()\n",
        "optimizer = Adam(model.parameters(), lr= LR)\n",
        "_,_, _, valid_accuracy_max,_ = load_model_accuracy(best_model, model, optimizer)\n",
        "model = BertClassifier()\n",
        "optimizer = Adam(model.parameters(), lr= LR)\n",
        "model, optimizer, start_epoch,_, LR = load_ckp_accuracy(checkpoint_path, model, optimizer)\n",
        "EPOCHS = range(start_epoch+1,11)\n",
        "print(EPOCHS)"
      ],
      "metadata": {
        "colab": {
          "base_uri": "https://localhost:8080/"
        },
        "id": "i0630AptPAUE",
        "outputId": "bdfd3441-1928-493e-ca1e-ee2e8628ad9f"
      },
      "execution_count": null,
      "outputs": [
        {
          "output_type": "stream",
          "name": "stderr",
          "text": [
            "Some weights of the model checkpoint at bert-base-cased were not used when initializing BertModel: ['cls.predictions.bias', 'cls.predictions.transform.LayerNorm.bias', 'cls.predictions.transform.dense.weight', 'cls.predictions.transform.dense.bias', 'cls.seq_relationship.weight', 'cls.seq_relationship.bias', 'cls.predictions.decoder.weight', 'cls.predictions.transform.LayerNorm.weight']\n",
            "- This IS expected if you are initializing BertModel from the checkpoint of a model trained on another task or with another architecture (e.g. initializing a BertForSequenceClassification model from a BertForPreTraining model).\n",
            "- This IS NOT expected if you are initializing BertModel from the checkpoint of a model that you expect to be exactly identical (initializing a BertForSequenceClassification model from a BertForSequenceClassification model).\n",
            "Some weights of the model checkpoint at bert-base-cased were not used when initializing BertModel: ['cls.predictions.bias', 'cls.predictions.transform.LayerNorm.bias', 'cls.predictions.transform.dense.weight', 'cls.predictions.transform.dense.bias', 'cls.seq_relationship.weight', 'cls.seq_relationship.bias', 'cls.predictions.decoder.weight', 'cls.predictions.transform.LayerNorm.weight']\n",
            "- This IS expected if you are initializing BertModel from the checkpoint of a model trained on another task or with another architecture (e.g. initializing a BertForSequenceClassification model from a BertForPreTraining model).\n",
            "- This IS NOT expected if you are initializing BertModel from the checkpoint of a model that you expect to be exactly identical (initializing a BertForSequenceClassification model from a BertForSequenceClassification model).\n"
          ]
        },
        {
          "output_type": "stream",
          "name": "stdout",
          "text": [
            "range(10, 11)\n"
          ]
        }
      ]
    },
    {
      "cell_type": "code",
      "source": [
        "train_accuracy(model, train_data, validation_data, LR, EPOCHS,checkpoint_path, best_model, valid_accuracy_max)"
      ],
      "metadata": {
        "colab": {
          "base_uri": "https://localhost:8080/"
        },
        "id": "NR-wHD0GPFew",
        "outputId": "91eb0756-f61c-4369-f113-d7b567a5e1f5"
      },
      "execution_count": null,
      "outputs": [
        {
          "output_type": "stream",
          "name": "stderr",
          "text": [
            "100%|██████████| 8750/8750 [57:19<00:00,  2.54it/s]\n"
          ]
        },
        {
          "output_type": "stream",
          "name": "stdout",
          "text": [
            "Epochs: 10 | Train Loss:  0.005                 | Train Accuracy:  0.996                 | Val Loss:  0.113                 | Val Accuracy:  0.925\n"
          ]
        }
      ]
    },
    {
      "cell_type": "code",
      "source": [
        "val_acc=[0.918000,0.932600,0.927,0.932800,0.928,0.932600,0.931,0.926,0.925,0.925]\n",
        "train_acc=[0.802,0.944,0.978,0.989,0.993,0.994,0.994,0.995,0.995,0.996]"
      ],
      "metadata": {
        "id": "KtlkmVzB9jF3"
      },
      "execution_count": null,
      "outputs": []
    },
    {
      "cell_type": "code",
      "source": [
        "plt.plot(range(1,11), val_acc, label='Validation Accuracy')\n",
        "plt.plot(range(1,11), train_acc, label='Training Accuracy')\n",
        "plt.legend()\n",
        "plt.xlabel('Epochs')\n",
        "plt.ylabel('Validation Accuracy and Training Accuracy')\n",
        "plt.title('Accuracy vs Epochs')\n",
        "plt.show()"
      ],
      "metadata": {
        "colab": {
          "base_uri": "https://localhost:8080/",
          "height": 295
        },
        "id": "H2gPeFDf9iYR",
        "outputId": "a04a0c04-d157-46ab-c462-62a71a78384d"
      },
      "execution_count": null,
      "outputs": [
        {
          "output_type": "display_data",
          "data": {
            "text/plain": [
              "<Figure size 432x288 with 1 Axes>"
            ],
            "image/png": "[encoded data removed]"
          },
          "metadata": {
            "needs_background": "light"
          }
        }
      ]
    },
    {
      "cell_type": "markdown",
      "source": [
        "### Best from all lr"
      ],
      "metadata": {
        "id": "3BrxJ46zoAK6"
      }
    },
    {
      "cell_type": "code",
      "source": [
        "# for 5e-6\n",
        "val_acc_5e6=[0.928600,0.934000,0.932,0.934,0.923,0.932,0.931,0.928, 0.9292, 0.932]\n",
        "# for 1e-5\n",
        "val_acc_1e5=[0.918000,0.932600,0.927,0.932800,0.928,0.932600,0.931,0.926,0.925,0.925]\n",
        "# for 1e-6\n",
        "val_acc_1e6=[0.917600,0.926400,0.926,0.929800,0.928,0.909,0.928,0.929,0.923,0.9256]\n",
        "\n",
        "\n",
        "#get max validation accuracy for each learning rate\n",
        "max_val_acc=[max(val_acc_5e6),max(val_acc_1e5),max(val_acc_1e6)]"
      ],
      "metadata": {
        "id": "A-lcioOplf1B"
      },
      "execution_count": null,
      "outputs": []
    },
    {
      "cell_type": "code",
      "source": [
        "# plot max validation accuracy for each learning rate\n",
        "lr=['5e-6','1e-5','1e-6']\n",
        "plt.plot(lr, max_val_acc, label='Validation Accuracy')\n",
        "plt.xlabel('Learning Rate')\n",
        "plt.ylabel('Validation Accuracy')\n",
        "plt.title('Validation Accuracy vs Learning Rate')\n",
        "plt.show()"
      ],
      "metadata": {
        "colab": {
          "base_uri": "https://localhost:8080/",
          "height": 295
        },
        "id": "-Q5mvJXKlfGE",
        "outputId": "8207a759-7d6e-46a2-8e92-85eec51174e5"
      },
      "execution_count": null,
      "outputs": [
        {
          "output_type": "display_data",
          "data": {
            "text/plain": [
              "<Figure size 432x288 with 1 Axes>"
            ],
            "image/png": "[encoded data removed]"
          },
          "metadata": {
            "needs_background": "light"
          }
        }
      ]
    },
    {
      "cell_type": "markdown",
      "source": [
        "### Best Model"
      ],
      "metadata": {
        "id": "Te-bW9IW3j-T"
      }
    },
    {
      "cell_type": "code",
      "source": [
        "def conf_mat(test_labels,pred_labels):\n",
        "      conf_matrix = confusion_matrix(test_labels, pred_labels)\n",
        "      fig, ax = plt.subplots(figsize=(5, 5))\n",
        "      ax.matshow(conf_matrix, cmap=plt.cm.Blues, alpha=0.3)\n",
        "      for i in range(conf_matrix.shape[0]):\n",
        "          for j in range(conf_matrix.shape[1]):\n",
        "              ax.text(x=j, y=i,s=conf_matrix[i, j], va='center', ha='center', size='xx-large')\n",
        "\n",
        "      plt.xlabel('Predictions', fontsize=18)\n",
        "      plt.ylabel('Actuals', fontsize=18)\n",
        "      plt.title('Confusion Matrix', fontsize=18)\n",
        "      plt.show()"
      ],
      "metadata": {
        "id": "zsvgUEgLkBwz"
      },
      "execution_count": null,
      "outputs": []
    },
    {
      "cell_type": "code",
      "source": [
        "test_labels=[]\n",
        "pred_labels=[]\n",
        "\n",
        "def evaluate(model, test_data):\n",
        "\n",
        "    test = Dataset(test_data)\n",
        "\n",
        "    test_dataloader = torch.utils.data.DataLoader(test, batch_size=2)\n",
        "\n",
        "    use_cuda = torch.cuda.is_available()\n",
        "    device = torch.device(\"cuda\" if use_cuda else \"cpu\")\n",
        "\n",
        "    if use_cuda:\n",
        "\n",
        "        model = model.cuda()\n",
        "\n",
        "    total_acc_test = 0\n",
        "    with torch.no_grad():\n",
        "\n",
        "        for test_input, test_label in test_dataloader:\n",
        "\n",
        "              test_label = test_label.to(device)\n",
        "              mask = test_input['attention_mask'].to(device)\n",
        "              input_id = test_input['input_ids'].squeeze(1).to(device)\n",
        "\n",
        "              output = model(input_id, mask)\n",
        "\n",
        "              acc = (output.argmax(dim=1) == test_label).sum().item()\n",
        "              total_acc_test += acc\n",
        "\n",
        "              test_labels.append(test_label.cpu().numpy()[0])\n",
        "              test_labels.append(test_label.cpu().numpy()[1])\n",
        "              pred_labels.append(output.argmax(dim=1).cpu().numpy()[0])\n",
        "              pred_labels.append(output.argmax(dim=1).cpu().numpy()[1])\n",
        "\n",
        "    print(f'Test Accuracy: {total_acc_test / len(test_data): .3f}')\n",
        "\n"
      ],
      "metadata": {
        "id": "v5L-1_d7kJ62"
      },
      "execution_count": null,
      "outputs": []
    },
    {
      "cell_type": "code",
      "source": [
        "# reload ckp and start training from the last epoch\n",
        "model = BertClassifier()\n",
        "LR = 5e-6\n",
        "optimizer = Adam(model.parameters(), lr= LR)\n",
        "best_model = '/content/drive/MyDrive/bert/bestmodelaccbonus/model.pt'\n",
        "model, optimizer, best_epoch,valid_accuracy_max, LR= load_model_accuracy(best_model, model, optimizer)"
      ],
      "metadata": {
        "id": "NnvoVqBUjmQA",
        "colab": {
          "base_uri": "https://localhost:8080/"
        },
        "outputId": "37d51e26-d273-4093-f633-d4f01b759397"
      },
      "execution_count": null,
      "outputs": [
        {
          "output_type": "stream",
          "name": "stderr",
          "text": [
            "Some weights of the model checkpoint at bert-base-cased were not used when initializing BertModel: ['cls.predictions.transform.dense.weight', 'cls.seq_relationship.bias', 'cls.predictions.transform.LayerNorm.weight', 'cls.predictions.decoder.weight', 'cls.predictions.transform.LayerNorm.bias', 'cls.predictions.transform.dense.bias', 'cls.predictions.bias', 'cls.seq_relationship.weight']\n",
            "- This IS expected if you are initializing BertModel from the checkpoint of a model trained on another task or with another architecture (e.g. initializing a BertForSequenceClassification model from a BertForPreTraining model).\n",
            "- This IS NOT expected if you are initializing BertModel from the checkpoint of a model that you expect to be exactly identical (initializing a BertForSequenceClassification model from a BertForSequenceClassification model).\n"
          ]
        }
      ]
    },
    {
      "cell_type": "code",
      "source": [
        "LR"
      ],
      "metadata": {
        "id": "UDMbp8BKjsZS",
        "colab": {
          "base_uri": "https://localhost:8080/"
        },
        "outputId": "7ae6c0d5-2b46-4f1e-f950-d60d4fbad189"
      },
      "execution_count": null,
      "outputs": [
        {
          "output_type": "execute_result",
          "data": {
            "text/plain": [
              "5e-06"
            ]
          },
          "metadata": {},
          "execution_count": 43
        }
      ]
    },
    {
      "cell_type": "code",
      "source": [
        "best_epoch"
      ],
      "metadata": {
        "id": "xYHzDMmojuFt",
        "colab": {
          "base_uri": "https://localhost:8080/"
        },
        "outputId": "039a43c1-732a-495d-9887-19765ead3c86"
      },
      "execution_count": null,
      "outputs": [
        {
          "output_type": "execute_result",
          "data": {
            "text/plain": [
              "4"
            ]
          },
          "metadata": {},
          "execution_count": 44
        }
      ]
    },
    {
      "cell_type": "code",
      "source": [
        "valid_accuracy_max"
      ],
      "metadata": {
        "id": "XFvAEK6Kjyy_",
        "colab": {
          "base_uri": "https://localhost:8080/"
        },
        "outputId": "4a4bc6c3-f824-420d-a834-e45350f4202c"
      },
      "execution_count": null,
      "outputs": [
        {
          "output_type": "execute_result",
          "data": {
            "text/plain": [
              "0.9344"
            ]
          },
          "metadata": {},
          "execution_count": 45
        }
      ]
    },
    {
      "cell_type": "code",
      "source": [
        "evaluate(model, test_data)"
      ],
      "metadata": {
        "id": "ySj3orHKkU-y",
        "colab": {
          "base_uri": "https://localhost:8080/"
        },
        "outputId": "e67c0b2c-ce11-41eb-ffda-5433534010af"
      },
      "execution_count": null,
      "outputs": [
        {
          "output_type": "stream",
          "name": "stdout",
          "text": [
            "Test Accuracy:  0.934\n"
          ]
        }
      ]
    },
    {
      "cell_type": "code",
      "source": [
        "conf_mat(test_labels,pred_labels)"
      ],
      "metadata": {
        "id": "73eUeGn6kRfF",
        "colab": {
          "base_uri": "https://localhost:8080/",
          "height": 358
        },
        "outputId": "e843788b-53dd-4270-9bd4-7c96dd72e465"
      },
      "execution_count": null,
      "outputs": [
        {
          "output_type": "display_data",
          "data": {
            "text/plain": [
              "<Figure size 360x360 with 1 Axes>"
            ],
            "image/png": "[encoded data removed]"
          },
          "metadata": {
            "needs_background": "light"
          }
        }
      ]
    },
    {
      "cell_type": "code",
      "source": [
        "def evalscore(tp,tn,fp,fn):\n",
        "  precision=tp/(tp+fp)\n",
        "  recall=tp/(tp+fn)\n",
        "  specificity=tn/(tn+fp)\n",
        "  f1=(2*precision*recall)/(precision+recall)\n",
        "\n",
        "  print(f'F1-score:    {f1:.3f}')\n",
        "  print(f'Precision:   {precision:.3f}')\n",
        "  print(f'Recall:      {recall:.3f}')\n",
        "  print(f'Specificity: {specificity:.3f}')"
      ],
      "metadata": {
        "id": "b3kbKhPXwVww"
      },
      "execution_count": null,
      "outputs": []
    },
    {
      "cell_type": "code",
      "source": [
        "tp=4699\n",
        "tn=4637\n",
        "fp=363\n",
        "fn=301\n",
        "\n",
        "evalscore(tp,tn,fp,fn)"
      ],
      "metadata": {
        "colab": {
          "base_uri": "https://localhost:8080/"
        },
        "id": "i3lzftZjwWpf",
        "outputId": "ba12cf25-e1cc-457e-fd05-21a4d30e6989"
      },
      "execution_count": null,
      "outputs": [
        {
          "output_type": "stream",
          "name": "stdout",
          "text": [
            "F1-score:    0.934\n",
            "Precision:   0.928\n",
            "Recall:      0.940\n",
            "Specificity: 0.927\n"
          ]
        }
      ]
    },
    {
      "cell_type": "markdown",
      "source": [
        "##768,32,128,512,128,32,2"
      ],
      "metadata": {
        "id": "EtcNuFEiYRC-"
      }
    },
    {
      "cell_type": "code",
      "execution_count": null,
      "metadata": {
        "id": "RN6y-YH0YoXw"
      },
      "outputs": [],
      "source": [
        "from torch.nn.modules import linear\n",
        "from torch import nn\n",
        "from transformers import BertModel\n",
        "\n",
        "class BertClassifier(nn.Module):\n",
        "\n",
        "    def __init__(self, dropout=0.5):\n",
        "\n",
        "        super(BertClassifier, self).__init__()\n",
        "\n",
        "        self.bert = BertModel.from_pretrained('bert-base-cased')\n",
        "        self.dropout_1 = nn.Dropout(dropout)\n",
        "        self.linear_1 = nn.Linear(768,32)\n",
        "        self.dropout_2 = nn.Dropout(dropout)\n",
        "        self.linear_2 = nn.Linear(32, 128)\n",
        "        self.dropout_3 = nn.Dropout(dropout)\n",
        "        self.linear_3 = nn.Linear(128, 512)\n",
        "        self.dropout_4 = nn.Dropout(dropout)\n",
        "        self.linear_4= nn.Linear(512, 128)\n",
        "        self.dropout_5 = nn.Dropout(dropout)\n",
        "        self.linear_5= nn.Linear(128, 32)\n",
        "        self.dropout_6 = nn.Dropout(dropout)\n",
        "        self.linear_6= nn.Linear(32, 2)\n",
        "        self.relu = nn.ReLU()\n",
        "\n",
        "    def forward(self, input_id, mask):\n",
        "\n",
        "        _, pooled_output = self.bert(input_ids= input_id, attention_mask=mask,return_dict=False)\n",
        "        dropout_output = self.dropout_1(pooled_output)\n",
        "        linear_output_1 = self.linear_1(dropout_output)\n",
        "        dropout_output_1 = self.dropout_2(linear_output_1)\n",
        "        linear_output_2 = self.linear_2(dropout_output_1)\n",
        "        dropout_output_2 = self.dropout_3(linear_output_2)\n",
        "        linear_output_3 = self.linear_3(dropout_output_2)\n",
        "        dropout_output_3 = self.dropout_4(linear_output_3)\n",
        "        linear_output_4 = self.linear_4(dropout_output_3)\n",
        "        dropout_output_4 = self.dropout_5(linear_output_4)\n",
        "        linear_output_5 = self.linear_5(dropout_output_4)\n",
        "        dropout_output_5 = self.dropout_6(linear_output_5)\n",
        "        linear_output_6 = self.linear_6(dropout_output_5)\n",
        "        final_layer = self.relu(linear_output_6)\n",
        "\n",
        "        return final_layer"
      ]
    },
    {
      "cell_type": "markdown",
      "source": [
        "###1e-6"
      ],
      "metadata": {
        "id": "4F00Z3jGYedJ"
      }
    },
    {
      "cell_type": "code",
      "source": [
        "model = BertClassifier()\n",
        "LR = 1e-6\n",
        "checkpoint_path = '/content/drive/MyDrive/bonus/checkpoints/check.pt'\n",
        "best_model = '/content/drive/MyDrive/bonus/bestmodel/model.pt'"
      ],
      "metadata": {
        "id": "iGDpnpkYYg-J"
      },
      "execution_count": null,
      "outputs": []
    },
    {
      "cell_type": "code",
      "source": [
        "EPOCHS =[1,2,3,4,5,6,7,8,9,10]\n",
        "train_accuracy(model, train_data, validation_data, LR, EPOCHS,checkpoint_path, best_model,-np.Inf)"
      ],
      "metadata": {
        "colab": {
          "base_uri": "https://localhost:8080/"
        },
        "id": "-NofDK6llBHy",
        "outputId": "dce60c3f-8079-44aa-c4a8-2f222ef1152a"
      },
      "execution_count": null,
      "outputs": [
        {
          "metadata": {
            "tags": null
          },
          "name": "stderr",
          "output_type": "stream",
          "text": [
            "100%|██████████| 8750/8750 [53:01<00:00,  2.75it/s]\n"
          ]
        },
        {
          "metadata": {
            "tags": null
          },
          "name": "stdout",
          "output_type": "stream",
          "text": [
            "Epochs: 1 | Train Loss:  0.165                 | Train Accuracy:  0.558                 | Val Loss:  0.137                 | Val Accuracy:  0.737\n",
            "Validation Accuracy increased (-inf --> 0.737000).  Saving model ...\n"
          ]
        },
        {
          "output_type": "stream",
          "name": "stderr",
          "text": [
            "100%|██████████| 8750/8750 [53:42<00:00,  2.72it/s]\n"
          ]
        },
        {
          "output_type": "stream",
          "name": "stdout",
          "text": [
            "Epochs: 2 | Train Loss:  0.097                 | Train Accuracy:  0.860                 | Val Loss:  0.074                 | Val Accuracy:  0.901\n",
            "Validation Accuracy increased (0.737000 --> 0.900600).  Saving model ...\n"
          ]
        },
        {
          "output_type": "stream",
          "name": "stderr",
          "text": [
            "100%|██████████| 8750/8750 [53:51<00:00,  2.71it/s]\n"
          ]
        },
        {
          "output_type": "stream",
          "name": "stdout",
          "text": [
            "Epochs: 3 | Train Loss:  0.060                 | Train Accuracy:  0.929                 | Val Loss:  0.059                 | Val Accuracy:  0.917\n",
            "Validation Accuracy increased (0.900600 --> 0.916800).  Saving model ...\n"
          ]
        },
        {
          "output_type": "stream",
          "name": "stderr",
          "text": [
            "100%|██████████| 8750/8750 [53:51<00:00,  2.71it/s]\n"
          ]
        },
        {
          "output_type": "stream",
          "name": "stdout",
          "text": [
            "Epochs: 4 | Train Loss:  0.045                 | Train Accuracy:  0.952                 | Val Loss:  0.060                 | Val Accuracy:  0.923\n",
            "Validation Accuracy increased (0.916800 --> 0.923000).  Saving model ...\n"
          ]
        },
        {
          "output_type": "stream",
          "name": "stderr",
          "text": [
            "100%|██████████| 8750/8750 [53:51<00:00,  2.71it/s]\n"
          ]
        },
        {
          "output_type": "stream",
          "name": "stdout",
          "text": [
            "Epochs: 5 | Train Loss:  0.033                 | Train Accuracy:  0.971                 | Val Loss:  0.072                 | Val Accuracy:  0.925\n",
            "Validation Accuracy increased (0.923000 --> 0.924600).  Saving model ...\n"
          ]
        },
        {
          "output_type": "stream",
          "name": "stderr",
          "text": [
            "100%|██████████| 8750/8750 [53:48<00:00,  2.71it/s]\n"
          ]
        },
        {
          "output_type": "stream",
          "name": "stdout",
          "text": [
            "Epochs: 6 | Train Loss:  0.022                 | Train Accuracy:  0.983                 | Val Loss:  0.076                 | Val Accuracy:  0.920\n"
          ]
        },
        {
          "output_type": "stream",
          "name": "stderr",
          "text": [
            "  2%|▏         | 138/8750 [00:51<52:38,  2.73it/s]"
          ]
        }
      ]
    },
    {
      "cell_type": "code",
      "source": [
        "model = BertClassifier()\n",
        "optimizer = Adam(model.parameters(), lr= LR)\n",
        "_ ,_ , _ , valid_accuracy_max, _ = load_model_accuracy(best_model, model, optimizer)\n",
        "model = BertClassifier()\n",
        "optimizer = Adam(model.parameters(), lr= LR)\n",
        "model, optimizer, start_epoch, _ , LR = load_ckp_accuracy(checkpoint_path, model, optimizer)\n",
        "epochs = range(start_epoch+1, 11)\n",
        "print(epochs)"
      ],
      "metadata": {
        "colab": {
          "base_uri": "https://localhost:8080/"
        },
        "id": "uueR1yTO0_Kl",
        "outputId": "d7885de8-8230-47bc-b6c4-992903b04ca2"
      },
      "execution_count": null,
      "outputs": [
        {
          "output_type": "stream",
          "name": "stderr",
          "text": [
            "Some weights of the model checkpoint at bert-base-cased were not used when initializing BertModel: ['cls.predictions.transform.LayerNorm.weight', 'cls.seq_relationship.bias', 'cls.predictions.transform.LayerNorm.bias', 'cls.predictions.transform.dense.bias', 'cls.predictions.transform.dense.weight', 'cls.predictions.decoder.weight', 'cls.predictions.bias', 'cls.seq_relationship.weight']\n",
            "- This IS expected if you are initializing BertModel from the checkpoint of a model trained on another task or with another architecture (e.g. initializing a BertForSequenceClassification model from a BertForPreTraining model).\n",
            "- This IS NOT expected if you are initializing BertModel from the checkpoint of a model that you expect to be exactly identical (initializing a BertForSequenceClassification model from a BertForSequenceClassification model).\n",
            "Some weights of the model checkpoint at bert-base-cased were not used when initializing BertModel: ['cls.predictions.transform.LayerNorm.weight', 'cls.seq_relationship.bias', 'cls.predictions.transform.LayerNorm.bias', 'cls.predictions.transform.dense.bias', 'cls.predictions.transform.dense.weight', 'cls.predictions.decoder.weight', 'cls.predictions.bias', 'cls.seq_relationship.weight']\n",
            "- This IS expected if you are initializing BertModel from the checkpoint of a model trained on another task or with another architecture (e.g. initializing a BertForSequenceClassification model from a BertForPreTraining model).\n",
            "- This IS NOT expected if you are initializing BertModel from the checkpoint of a model that you expect to be exactly identical (initializing a BertForSequenceClassification model from a BertForSequenceClassification model).\n"
          ]
        },
        {
          "output_type": "stream",
          "name": "stdout",
          "text": [
            "range(7, 11)\n"
          ]
        }
      ]
    },
    {
      "cell_type": "code",
      "source": [
        "train_accuracy(model, train_data, validation_data, LR, epochs,checkpoint_path, best_model,valid_accuracy_max)"
      ],
      "metadata": {
        "id": "XE2IXlDt1Oes",
        "colab": {
          "base_uri": "https://localhost:8080/"
        },
        "outputId": "587e11f6-5e7e-46ec-b4f1-366b49ce5bb1"
      },
      "execution_count": null,
      "outputs": [
        {
          "output_type": "stream",
          "name": "stderr",
          "text": [
            "100%|██████████| 8750/8750 [55:54<00:00,  2.61it/s]\n"
          ]
        },
        {
          "output_type": "stream",
          "name": "stdout",
          "text": [
            "Epochs: 7 | Train Loss:  0.016                 | Train Accuracy:  0.990                 | Val Loss:  0.091                 | Val Accuracy:  0.924\n"
          ]
        },
        {
          "output_type": "stream",
          "name": "stderr",
          "text": [
            "100%|██████████| 8750/8750 [55:51<00:00,  2.61it/s]\n"
          ]
        },
        {
          "output_type": "stream",
          "name": "stdout",
          "text": [
            "Epochs: 8 | Train Loss:  0.013                 | Train Accuracy:  0.994                 | Val Loss:  0.108                 | Val Accuracy:  0.921\n"
          ]
        },
        {
          "output_type": "stream",
          "name": "stderr",
          "text": [
            "100%|██████████| 8750/8750 [55:50<00:00,  2.61it/s]\n"
          ]
        },
        {
          "output_type": "stream",
          "name": "stdout",
          "text": [
            "Epochs: 9 | Train Loss:  0.011                 | Train Accuracy:  0.994                 | Val Loss:  0.142                 | Val Accuracy:  0.907\n"
          ]
        },
        {
          "output_type": "stream",
          "name": "stderr",
          "text": [
            "100%|██████████| 8750/8750 [55:50<00:00,  2.61it/s]\n"
          ]
        },
        {
          "output_type": "stream",
          "name": "stdout",
          "text": [
            "Epochs: 10 | Train Loss:  0.010                 | Train Accuracy:  0.995                 | Val Loss:  0.118                 | Val Accuracy:  0.921\n"
          ]
        }
      ]
    },
    {
      "cell_type": "code",
      "source": [
        "val_acc=[0.737,0.901,0.917,0.923,0.925,0.920,0.924,0.921,0.907, 0.921]\n",
        "train_acc=[0.558,0.860,0.929,0.952,0.971,0.983,0.990,0.994,0.994,0.995]"
      ],
      "metadata": {
        "id": "tL11VC9w1ZKY"
      },
      "execution_count": null,
      "outputs": []
    },
    {
      "cell_type": "code",
      "source": [
        "plt.plot(range(1,11), val_acc, label='Validation Accuracy')\n",
        "plt.plot(range(1,11), train_acc, label='Training Accuracy')\n",
        "plt.legend()\n",
        "plt.xlabel('Epochs')\n",
        "plt.ylabel('Validation Accuracy and Training Accuracy')\n",
        "plt.title('Accuracy vs Epochs')\n",
        "plt.show()"
      ],
      "metadata": {
        "colab": {
          "base_uri": "https://localhost:8080/",
          "height": 295
        },
        "outputId": "f6a403d6-a4a1-4382-f206-2ea774418a1c",
        "id": "jh0TW__e1ZKZ"
      },
      "execution_count": null,
      "outputs": [
        {
          "output_type": "display_data",
          "data": {
            "text/plain": [
              "<Figure size 432x288 with 1 Axes>"
            ],
            "image/png": "[encoded data removed]"
          },
          "metadata": {
            "needs_background": "light"
          }
        }
      ]
    },
    {
      "cell_type": "markdown",
      "source": [
        "###1e-5"
      ],
      "metadata": {
        "id": "lyxHUdpxZD7V"
      }
    },
    {
      "cell_type": "code",
      "source": [],
      "metadata": {
        "id": "YJYeYh7aqqVc"
      },
      "execution_count": null,
      "outputs": []
    },
    {
      "cell_type": "code",
      "execution_count": null,
      "metadata": {
        "colab": {
          "base_uri": "https://localhost:8080/"
        },
        "outputId": "276d8fec-e44b-46ba-c1c1-ceebb950767f",
        "id": "S5ygYo7qEFIk"
      },
      "outputs": [
        {
          "output_type": "stream",
          "name": "stderr",
          "text": [
            "Some weights of the model checkpoint at bert-base-cased were not used when initializing BertModel: ['cls.predictions.transform.dense.bias', 'cls.seq_relationship.bias', 'cls.predictions.bias', 'cls.predictions.transform.LayerNorm.bias', 'cls.predictions.decoder.weight', 'cls.predictions.transform.LayerNorm.weight', 'cls.predictions.transform.dense.weight', 'cls.seq_relationship.weight']\n",
            "- This IS expected if you are initializing BertModel from the checkpoint of a model trained on another task or with another architecture (e.g. initializing a BertForSequenceClassification model from a BertForPreTraining model).\n",
            "- This IS NOT expected if you are initializing BertModel from the checkpoint of a model that you expect to be exactly identical (initializing a BertForSequenceClassification model from a BertForSequenceClassification model).\n"
          ]
        }
      ],
      "source": [
        "# EPOCHS = 5\n",
        "model = BertClassifier()\n",
        "LR = 1e-5\n",
        "checkpoint_path = '/content/drive/MyDrive/bert/checkpointsacc/check.pt'\n",
        "best_model = '/content/drive/MyDrive/bert/bestmodelacc/t.pt'"
      ]
    },
    {
      "cell_type": "code",
      "execution_count": null,
      "metadata": {
        "colab": {
          "base_uri": "https://localhost:8080/"
        },
        "outputId": "716325a1-9d6e-4e3c-f1c8-3ce6b99e9265",
        "id": "oZPJlIyJFGVU"
      },
      "outputs": [
        {
          "metadata": {
            "tags": null
          },
          "name": "stderr",
          "output_type": "stream",
          "text": [
            "Some weights of the model checkpoint at bert-base-cased were not used when initializing BertModel: ['cls.predictions.transform.dense.weight', 'cls.predictions.bias', 'cls.seq_relationship.weight', 'cls.predictions.transform.dense.bias', 'cls.seq_relationship.bias', 'cls.predictions.decoder.weight', 'cls.predictions.transform.LayerNorm.bias', 'cls.predictions.transform.LayerNorm.weight']\n",
            "- This IS expected if you are initializing BertModel from the checkpoint of a model trained on another task or with another architecture (e.g. initializing a BertForSequenceClassification model from a BertForPreTraining model).\n",
            "- This IS NOT expected if you are initializing BertModel from the checkpoint of a model that you expect to be exactly identical (initializing a BertForSequenceClassification model from a BertForSequenceClassification model).\n",
            "100%|██████████| 8750/8750 [56:51<00:00,  2.56it/s]\n"
          ]
        },
        {
          "metadata": {
            "tags": null
          },
          "name": "stdout",
          "output_type": "stream",
          "text": [
            "Epochs: 1 | Train Loss:  0.127                 | Train Accuracy:  0.721                 | Val Loss:  0.065                 | Val Accuracy:  0.907\n",
            "Validation Accuracy increased (-inf --> 0.907000).  Saving model ...\n"
          ]
        },
        {
          "output_type": "stream",
          "name": "stderr",
          "text": [
            "100%|██████████| 8750/8750 [57:29<00:00,  2.54it/s]\n"
          ]
        },
        {
          "output_type": "stream",
          "name": "stdout",
          "text": [
            "Epochs: 2 | Train Loss:  0.057                 | Train Accuracy:  0.923                 | Val Loss:  0.052                 | Val Accuracy:  0.926\n",
            "Validation Accuracy increased (0.907000 --> 0.926000).  Saving model ...\n"
          ]
        },
        {
          "output_type": "stream",
          "name": "stderr",
          "text": [
            " 63%|██████▎   | 5474/8750 [35:53<21:33,  2.53it/s]"
          ]
        }
      ],
      "source": [
        "model = BertClassifier()\n",
        "optimizer = Adam(model.parameters(), lr= LR)\n",
        "train_accuracy(model, train_data, validation_data, LR, epochs,checkpoint_path, best_model, -np.inf)"
      ]
    },
    {
      "cell_type": "code",
      "execution_count": null,
      "metadata": {
        "colab": {
          "base_uri": "https://localhost:8080/"
        },
        "outputId": "f9fb4ecf-1a18-4208-ed19-a0e7465208be",
        "id": "ppwy7eG1FVwx"
      },
      "outputs": [
        {
          "output_type": "stream",
          "name": "stderr",
          "text": [
            "Some weights of the model checkpoint at bert-base-cased were not used when initializing BertModel: ['cls.predictions.bias', 'cls.predictions.transform.LayerNorm.weight', 'cls.predictions.transform.LayerNorm.bias', 'cls.predictions.transform.dense.bias', 'cls.seq_relationship.bias', 'cls.predictions.transform.dense.weight', 'cls.seq_relationship.weight', 'cls.predictions.decoder.weight']\n",
            "- This IS expected if you are initializing BertModel from the checkpoint of a model trained on another task or with another architecture (e.g. initializing a BertForSequenceClassification model from a BertForPreTraining model).\n",
            "- This IS NOT expected if you are initializing BertModel from the checkpoint of a model that you expect to be exactly identical (initializing a BertForSequenceClassification model from a BertForSequenceClassification model).\n",
            "Some weights of the model checkpoint at bert-base-cased were not used when initializing BertModel: ['cls.predictions.bias', 'cls.predictions.transform.LayerNorm.weight', 'cls.predictions.transform.LayerNorm.bias', 'cls.predictions.transform.dense.bias', 'cls.seq_relationship.bias', 'cls.predictions.transform.dense.weight', 'cls.seq_relationship.weight', 'cls.predictions.decoder.weight']\n",
            "- This IS expected if you are initializing BertModel from the checkpoint of a model trained on another task or with another architecture (e.g. initializing a BertForSequenceClassification model from a BertForPreTraining model).\n",
            "- This IS NOT expected if you are initializing BertModel from the checkpoint of a model that you expect to be exactly identical (initializing a BertForSequenceClassification model from a BertForSequenceClassification model).\n"
          ]
        },
        {
          "output_type": "stream",
          "name": "stdout",
          "text": [
            "range(3, 11)\n"
          ]
        }
      ],
      "source": [
        "# reload ckp and start training from the last epoch\n",
        "model = BertClassifier()\n",
        "optimizer = Adam(model.parameters(), lr= LR)\n",
        "_,_, _, valid_accuracy_max,_ = load_model_accuracy(best_model, model, optimizer)\n",
        "model = BertClassifier()\n",
        "optimizer = Adam(model.parameters(), lr= LR)\n",
        "model, optimizer, start_epoch,_, LR = load_ckp_accuracy(checkpoint_path, model, optimizer)\n",
        "EPOCHS = range(start_epoch+1,11)\n",
        "print(EPOCHS)"
      ]
    },
    {
      "cell_type": "code",
      "execution_count": null,
      "metadata": {
        "colab": {
          "base_uri": "https://localhost:8080/"
        },
        "outputId": "351d3b86-9acd-4fe4-be90-c69b9f9fd36e",
        "id": "jRDHSz0TFaqQ"
      },
      "outputs": [
        {
          "output_type": "stream",
          "name": "stderr",
          "text": [
            "100%|██████████| 8750/8750 [56:54<00:00,  2.56it/s]\n"
          ]
        },
        {
          "output_type": "stream",
          "name": "stdout",
          "text": [
            "Epochs: 3 | Train Loss:  0.021                 | Train Accuracy:  0.978                 | Val Loss:  0.056                 | Val Accuracy:  0.936\n",
            "Validation Accuracy increased (0.933000 --> 0.936000).  Saving model ...\n"
          ]
        },
        {
          "output_type": "stream",
          "name": "stderr",
          "text": [
            " 57%|█████▋    | 4979/8750 [32:18<24:31,  2.56it/s]"
          ]
        }
      ],
      "source": [
        "#epoch 3\n",
        "train_accuracy(model, train_data, validation_data, LR, EPOCHS,checkpoint_path, best_model, valid_accuracy_max)\n"
      ]
    },
    {
      "cell_type": "code",
      "execution_count": null,
      "metadata": {
        "colab": {
          "base_uri": "https://localhost:8080/"
        },
        "outputId": "ee296c0a-5c9a-46a1-e892-465887dcf9ff",
        "id": "czDVyl56Fd9X"
      },
      "outputs": [
        {
          "output_type": "stream",
          "name": "stderr",
          "text": [
            "Some weights of the model checkpoint at bert-base-cased were not used when initializing BertModel: ['cls.predictions.transform.LayerNorm.bias', 'cls.predictions.transform.LayerNorm.weight', 'cls.predictions.bias', 'cls.predictions.decoder.weight', 'cls.seq_relationship.weight', 'cls.seq_relationship.bias', 'cls.predictions.transform.dense.bias', 'cls.predictions.transform.dense.weight']\n",
            "- This IS expected if you are initializing BertModel from the checkpoint of a model trained on another task or with another architecture (e.g. initializing a BertForSequenceClassification model from a BertForPreTraining model).\n",
            "- This IS NOT expected if you are initializing BertModel from the checkpoint of a model that you expect to be exactly identical (initializing a BertForSequenceClassification model from a BertForSequenceClassification model).\n",
            "Some weights of the model checkpoint at bert-base-cased were not used when initializing BertModel: ['cls.predictions.transform.LayerNorm.bias', 'cls.predictions.transform.LayerNorm.weight', 'cls.predictions.bias', 'cls.predictions.decoder.weight', 'cls.seq_relationship.weight', 'cls.seq_relationship.bias', 'cls.predictions.transform.dense.bias', 'cls.predictions.transform.dense.weight']\n",
            "- This IS expected if you are initializing BertModel from the checkpoint of a model trained on another task or with another architecture (e.g. initializing a BertForSequenceClassification model from a BertForPreTraining model).\n",
            "- This IS NOT expected if you are initializing BertModel from the checkpoint of a model that you expect to be exactly identical (initializing a BertForSequenceClassification model from a BertForSequenceClassification model).\n"
          ]
        },
        {
          "output_type": "stream",
          "name": "stdout",
          "text": [
            "range(4, 11)\n"
          ]
        }
      ],
      "source": [
        "# reload ckp and start training from the last epoch\n",
        "model = BertClassifier()\n",
        "optimizer = Adam(model.parameters(), lr= LR)\n",
        "_,_, _, valid_accuracy_max,_ = load_model_accuracy(best_model, model, optimizer)\n",
        "model = BertClassifier()\n",
        "optimizer = Adam(model.parameters(), lr= LR)\n",
        "model, optimizer, start_epoch,_, LR = load_ckp_accuracy(checkpoint_path, model, optimizer)\n",
        "EPOCHS = range(start_epoch+1,11)\n",
        "print(EPOCHS)"
      ]
    },
    {
      "cell_type": "code",
      "execution_count": null,
      "metadata": {
        "colab": {
          "base_uri": "https://localhost:8080/"
        },
        "outputId": "147e5513-2e5b-4967-94d1-3c7d288e9c5c",
        "id": "S75yXb8RFh5Y"
      },
      "outputs": [
        {
          "metadata": {
            "tags": null
          },
          "name": "stderr",
          "output_type": "stream",
          "text": [
            "100%|██████████| 8750/8750 [56:18<00:00,  2.59it/s]\n"
          ]
        },
        {
          "metadata": {
            "tags": null
          },
          "name": "stdout",
          "output_type": "stream",
          "text": [
            "Epochs: 4 | Train Loss:  0.011                 | Train Accuracy:  0.990                 | Val Loss:  0.090                 | Val Accuracy:  0.929\n"
          ]
        },
        {
          "output_type": "stream",
          "name": "stderr",
          "text": [
            "100%|██████████| 8750/8750 [55:29<00:00,  2.63it/s]\n"
          ]
        },
        {
          "output_type": "stream",
          "name": "stdout",
          "text": [
            "Epochs: 5 | Train Loss:  0.008                 | Train Accuracy:  0.991                 | Val Loss:  0.097                 | Val Accuracy:  0.929\n"
          ]
        },
        {
          "output_type": "stream",
          "name": "stderr",
          "text": [
            "100%|██████████| 8750/8750 [55:15<00:00,  2.64it/s]\n"
          ]
        },
        {
          "output_type": "stream",
          "name": "stdout",
          "text": [
            "Epochs: 6 | Train Loss:  0.006                 | Train Accuracy:  0.994                 | Val Loss:  0.127                 | Val Accuracy:  0.926\n"
          ]
        },
        {
          "output_type": "stream",
          "name": "stderr",
          "text": [
            "100%|██████████| 8750/8750 [55:07<00:00,  2.65it/s]\n"
          ]
        },
        {
          "output_type": "stream",
          "name": "stdout",
          "text": [
            "Epochs: 7 | Train Loss:  0.006                 | Train Accuracy:  0.994                 | Val Loss:  0.095                 | Val Accuracy:  0.927\n"
          ]
        },
        {
          "output_type": "stream",
          "name": "stderr",
          "text": [
            "100%|██████████| 8750/8750 [55:04<00:00,  2.65it/s]\n"
          ]
        },
        {
          "output_type": "stream",
          "name": "stdout",
          "text": [
            "Epochs: 8 | Train Loss:  0.005                 | Train Accuracy:  0.995                 | Val Loss:  0.123                 | Val Accuracy:  0.930\n"
          ]
        },
        {
          "output_type": "stream",
          "name": "stderr",
          "text": [
            " 65%|██████▍   | 5678/8750 [35:59<19:50,  2.58it/s]"
          ]
        }
      ],
      "source": [
        "train_accuracy(model, train_data, validation_data, LR, EPOCHS,checkpoint_path, best_model, valid_accuracy_max)"
      ]
    },
    {
      "cell_type": "code",
      "source": [
        "# reload ckp and start training from the last epoch\n",
        "model = BertClassifier()\n",
        "optimizer = Adam(model.parameters(), lr= LR)\n",
        "_,_, _, valid_accuracy_max,_ = load_model_accuracy(best_model, model, optimizer)\n",
        "model = BertClassifier()\n",
        "optimizer = Adam(model.parameters(), lr= LR)\n",
        "model, optimizer, start_epoch,_, LR = load_ckp_accuracy(checkpoint_path, model, optimizer)\n",
        "EPOCHS = range(start_epoch+1,11)\n",
        "print(EPOCHS)"
      ],
      "metadata": {
        "colab": {
          "base_uri": "https://localhost:8080/"
        },
        "outputId": "35ac25ec-1e18-4fe2-fd09-ea732cf93ba6",
        "id": "4k3XIrKHFsAT"
      },
      "execution_count": null,
      "outputs": [
        {
          "output_type": "stream",
          "name": "stderr",
          "text": [
            "Some weights of the model checkpoint at bert-base-cased were not used when initializing BertModel: ['cls.predictions.bias', 'cls.seq_relationship.bias', 'cls.predictions.decoder.weight', 'cls.predictions.transform.LayerNorm.bias', 'cls.predictions.transform.dense.weight', 'cls.predictions.transform.dense.bias', 'cls.predictions.transform.LayerNorm.weight', 'cls.seq_relationship.weight']\n",
            "- This IS expected if you are initializing BertModel from the checkpoint of a model trained on another task or with another architecture (e.g. initializing a BertForSequenceClassification model from a BertForPreTraining model).\n",
            "- This IS NOT expected if you are initializing BertModel from the checkpoint of a model that you expect to be exactly identical (initializing a BertForSequenceClassification model from a BertForSequenceClassification model).\n",
            "Some weights of the model checkpoint at bert-base-cased were not used when initializing BertModel: ['cls.predictions.bias', 'cls.seq_relationship.bias', 'cls.predictions.decoder.weight', 'cls.predictions.transform.LayerNorm.bias', 'cls.predictions.transform.dense.weight', 'cls.predictions.transform.dense.bias', 'cls.predictions.transform.LayerNorm.weight', 'cls.seq_relationship.weight']\n",
            "- This IS expected if you are initializing BertModel from the checkpoint of a model trained on another task or with another architecture (e.g. initializing a BertForSequenceClassification model from a BertForPreTraining model).\n",
            "- This IS NOT expected if you are initializing BertModel from the checkpoint of a model that you expect to be exactly identical (initializing a BertForSequenceClassification model from a BertForSequenceClassification model).\n"
          ]
        },
        {
          "output_type": "stream",
          "name": "stdout",
          "text": [
            "range(9, 11)\n"
          ]
        }
      ]
    },
    {
      "cell_type": "code",
      "source": [
        "train_accuracy(model, train_data, validation_data, LR, EPOCHS,checkpoint_path, best_model, valid_accuracy_max)"
      ],
      "metadata": {
        "colab": {
          "base_uri": "https://localhost:8080/"
        },
        "outputId": "773fab68-8760-439f-bced-f4705935adf2",
        "id": "v7znkV5bFxtw"
      },
      "execution_count": null,
      "outputs": [
        {
          "output_type": "stream",
          "name": "stderr",
          "text": [
            "100%|██████████| 8750/8750 [55:13<00:00,  2.64it/s]\n"
          ]
        },
        {
          "output_type": "stream",
          "name": "stdout",
          "text": [
            "Epochs: 9 | Train Loss:  0.004                 | Train Accuracy:  0.997                 | Val Loss:  0.113                 | Val Accuracy:  0.931\n"
          ]
        },
        {
          "output_type": "stream",
          "name": "stderr",
          "text": [
            "100%|██████████| 8750/8750 [55:18<00:00,  2.64it/s]\n"
          ]
        },
        {
          "output_type": "stream",
          "name": "stdout",
          "text": [
            "Epochs: 10 | Train Loss:  0.003                 | Train Accuracy:  0.997                 | Val Loss:  0.110                 | Val Accuracy:  0.934\n"
          ]
        }
      ]
    },
    {
      "cell_type": "code",
      "source": [
        "train_acc=[0.721,0.923 ,0.978,0.990,0.991,0.994,0.994 ,0.995,0.997,0.997]\n",
        "val_acc=[0.907, 0.926 , 0.936 ,0.929, 0.929, 0.926  ,0.927, 0.930, 0.931 , 0.934]"
      ],
      "metadata": {
        "id": "iRXHlyabF3Mm"
      },
      "execution_count": 4,
      "outputs": []
    },
    {
      "cell_type": "code",
      "source": [
        "plt.plot(range(1,11), val_acc, label='Validation Accuracy')\n",
        "plt.plot(range(1,11), train_acc, label='Training Accuracy')\n",
        "plt.legend()\n",
        "plt.xlabel('Epochs')\n",
        "plt.ylabel('Validation Accuracy and Training Accuracy')\n",
        "plt.title('Accuracy vs Epochs')\n",
        "plt.show()"
      ],
      "metadata": {
        "colab": {
          "base_uri": "https://localhost:8080/",
          "height": 295
        },
        "id": "6cBPA9sOIebp",
        "outputId": "29d6a3fd-afa7-425c-feea-f36f8f07ef65"
      },
      "execution_count": 5,
      "outputs": [
        {
          "output_type": "display_data",
          "data": {
            "text/plain": [
              "<Figure size 432x288 with 1 Axes>"
            ],
            "image/png": "[encoded data removed]"
          },
          "metadata": {
            "needs_background": "light"
          }
        }
      ]
    },
    {
      "cell_type": "markdown",
      "source": [
        "###5e-6"
      ],
      "metadata": {
        "id": "DSGhv2ZIfIOs"
      }
    },
    {
      "cell_type": "code",
      "execution_count": null,
      "metadata": {
        "colab": {
          "base_uri": "https://localhost:8080/"
        },
        "outputId": "14d8335d-4125-48a5-c626-2d6a37dd5527",
        "id": "AjmsYCAHfQBZ"
      },
      "outputs": [
        {
          "output_type": "stream",
          "name": "stderr",
          "text": [
            "Some weights of the model checkpoint at bert-base-cased were not used when initializing BertModel: ['cls.predictions.bias', 'cls.predictions.transform.dense.weight', 'cls.seq_relationship.bias', 'cls.predictions.decoder.weight', 'cls.predictions.transform.dense.bias', 'cls.seq_relationship.weight', 'cls.predictions.transform.LayerNorm.weight', 'cls.predictions.transform.LayerNorm.bias']\n",
            "- This IS expected if you are initializing BertModel from the checkpoint of a model trained on another task or with another architecture (e.g. initializing a BertForSequenceClassification model from a BertForPreTraining model).\n",
            "- This IS NOT expected if you are initializing BertModel from the checkpoint of a model that you expect to be exactly identical (initializing a BertForSequenceClassification model from a BertForSequenceClassification model).\n"
          ]
        }
      ],
      "source": [
        "# EPOCHS = 5\n",
        "model = BertClassifier()\n",
        "LR = 5e-6\n",
        "checkpoint_path = '/content/drive/MyDrive/bert/checkpointsacc/check.pt'\n",
        "best_model = '/content/drive/MyDrive/bert/bestmodelacc/t.pt'"
      ]
    },
    {
      "cell_type": "code",
      "execution_count": null,
      "metadata": {
        "colab": {
          "base_uri": "https://localhost:8080/"
        },
        "outputId": "e412943c-d52c-4b55-8758-afd6b34393a0",
        "id": "2jsIvcFmfbwx"
      },
      "outputs": [
        {
          "metadata": {
            "tags": null
          },
          "name": "stderr",
          "output_type": "stream",
          "text": [
            "Some weights of the model checkpoint at bert-base-cased were not used when initializing BertModel: ['cls.predictions.transform.LayerNorm.weight', 'cls.predictions.transform.dense.bias', 'cls.predictions.bias', 'cls.predictions.decoder.weight', 'cls.seq_relationship.weight', 'cls.seq_relationship.bias', 'cls.predictions.transform.LayerNorm.bias', 'cls.predictions.transform.dense.weight']\n",
            "- This IS expected if you are initializing BertModel from the checkpoint of a model trained on another task or with another architecture (e.g. initializing a BertForSequenceClassification model from a BertForPreTraining model).\n",
            "- This IS NOT expected if you are initializing BertModel from the checkpoint of a model that you expect to be exactly identical (initializing a BertForSequenceClassification model from a BertForSequenceClassification model).\n",
            "100%|██████████| 8750/8750 [55:02<00:00,  2.65it/s]\n"
          ]
        },
        {
          "metadata": {
            "tags": null
          },
          "name": "stdout",
          "output_type": "stream",
          "text": [
            "Epochs: 1 | Train Loss:  0.095                 | Train Accuracy:  0.829                 | Val Loss:  0.056                 | Val Accuracy:  0.922\n",
            "Validation Accuracy increased (-inf --> 0.921600).  Saving model ...\n"
          ]
        },
        {
          "metadata": {
            "tags": null
          },
          "name": "stderr",
          "output_type": "stream",
          "text": [
            "100%|██████████| 8750/8750 [55:12<00:00,  2.64it/s]\n"
          ]
        },
        {
          "metadata": {
            "tags": null
          },
          "name": "stdout",
          "output_type": "stream",
          "text": [
            "Epochs: 2 | Train Loss:  0.043                 | Train Accuracy:  0.948                 | Val Loss:  0.056                 | Val Accuracy:  0.919\n"
          ]
        },
        {
          "output_type": "stream",
          "name": "stderr",
          "text": [
            "100%|██████████| 8750/8750 [55:13<00:00,  2.64it/s]\n"
          ]
        },
        {
          "output_type": "stream",
          "name": "stdout",
          "text": [
            "Epochs: 3 | Train Loss:  0.021                 | Train Accuracy:  0.979                 | Val Loss:  0.070                 | Val Accuracy:  0.924\n",
            "Validation Accuracy increased (0.921600 --> 0.924400).  Saving model ...\n"
          ]
        },
        {
          "output_type": "stream",
          "name": "stderr",
          "text": [
            "100%|██████████| 8750/8750 [55:06<00:00,  2.65it/s]\n"
          ]
        },
        {
          "output_type": "stream",
          "name": "stdout",
          "text": [
            "Epochs: 4 | Train Loss:  0.010                 | Train Accuracy:  0.991                 | Val Loss:  0.085                 | Val Accuracy:  0.930\n",
            "Validation Accuracy increased (0.924400 --> 0.929600).  Saving model ...\n"
          ]
        },
        {
          "output_type": "stream",
          "name": "stderr",
          "text": [
            "100%|██████████| 8750/8750 [54:58<00:00,  2.65it/s]\n"
          ]
        },
        {
          "output_type": "stream",
          "name": "stdout",
          "text": [
            "Epochs: 5 | Train Loss:  0.007                 | Train Accuracy:  0.994                 | Val Loss:  0.106                 | Val Accuracy:  0.929\n"
          ]
        },
        {
          "output_type": "stream",
          "name": "stderr",
          "text": [
            "100%|██████████| 8750/8750 [54:42<00:00,  2.67it/s]\n"
          ]
        },
        {
          "output_type": "stream",
          "name": "stdout",
          "text": [
            "Epochs: 6 | Train Loss:  0.005                 | Train Accuracy:  0.995                 | Val Loss:  0.096                 | Val Accuracy:  0.930\n",
            "Validation Accuracy increased (0.929600 --> 0.930400).  Saving model ...\n"
          ]
        },
        {
          "output_type": "stream",
          "name": "stderr",
          "text": [
            " 17%|█▋        | 1500/8750 [09:21<45:04,  2.68it/s]"
          ]
        }
      ],
      "source": [
        "model = BertClassifier()\n",
        "optimizer = Adam(model.parameters(), lr= LR)\n",
        "train_accuracy(model, train_data, validation_data, LR, epochs,checkpoint_path, best_model, -np.inf)"
      ]
    },
    {
      "cell_type": "code",
      "execution_count": null,
      "metadata": {
        "colab": {
          "base_uri": "https://localhost:8080/"
        },
        "outputId": "1463fe16-5aca-43cc-9db6-49f30224962f",
        "id": "l7BBjMpOff5y"
      },
      "outputs": [
        {
          "output_type": "stream",
          "name": "stderr",
          "text": [
            "Some weights of the model checkpoint at bert-base-cased were not used when initializing BertModel: ['cls.predictions.bias', 'cls.predictions.transform.dense.weight', 'cls.seq_relationship.bias', 'cls.predictions.decoder.weight', 'cls.predictions.transform.dense.bias', 'cls.seq_relationship.weight', 'cls.predictions.transform.LayerNorm.weight', 'cls.predictions.transform.LayerNorm.bias']\n",
            "- This IS expected if you are initializing BertModel from the checkpoint of a model trained on another task or with another architecture (e.g. initializing a BertForSequenceClassification model from a BertForPreTraining model).\n",
            "- This IS NOT expected if you are initializing BertModel from the checkpoint of a model that you expect to be exactly identical (initializing a BertForSequenceClassification model from a BertForSequenceClassification model).\n",
            "Some weights of the model checkpoint at bert-base-cased were not used when initializing BertModel: ['cls.predictions.bias', 'cls.predictions.transform.dense.weight', 'cls.seq_relationship.bias', 'cls.predictions.decoder.weight', 'cls.predictions.transform.dense.bias', 'cls.seq_relationship.weight', 'cls.predictions.transform.LayerNorm.weight', 'cls.predictions.transform.LayerNorm.bias']\n",
            "- This IS expected if you are initializing BertModel from the checkpoint of a model trained on another task or with another architecture (e.g. initializing a BertForSequenceClassification model from a BertForPreTraining model).\n",
            "- This IS NOT expected if you are initializing BertModel from the checkpoint of a model that you expect to be exactly identical (initializing a BertForSequenceClassification model from a BertForSequenceClassification model).\n"
          ]
        },
        {
          "output_type": "stream",
          "name": "stdout",
          "text": [
            "range(7, 11)\n"
          ]
        }
      ],
      "source": [
        "# reload ckp and start training from the last epoch\n",
        "model = BertClassifier()\n",
        "optimizer = Adam(model.parameters(), lr= LR)\n",
        "_,_, _, valid_accuracy_max,_ = load_model_accuracy(best_model, model, optimizer)\n",
        "model = BertClassifier()\n",
        "optimizer = Adam(model.parameters(), lr= LR)\n",
        "model, optimizer, start_epoch,_, LR = load_ckp_accuracy(checkpoint_path, model, optimizer)\n",
        "EPOCHS = range(start_epoch+1,11)\n",
        "print(EPOCHS)"
      ]
    },
    {
      "cell_type": "code",
      "execution_count": null,
      "metadata": {
        "colab": {
          "base_uri": "https://localhost:8080/"
        },
        "outputId": "5cdc6711-14d5-4dc3-91a4-b55bee07ba60",
        "id": "x6URJpv6fjZo"
      },
      "outputs": [
        {
          "output_type": "stream",
          "name": "stderr",
          "text": [
            "100%|██████████| 8750/8750 [54:37<00:00,  2.67it/s]\n"
          ]
        },
        {
          "output_type": "stream",
          "name": "stdout",
          "text": [
            "Epochs: 7 | Train Loss:  0.004                 | Train Accuracy:  0.996                 | Val Loss:  0.115                 | Val Accuracy:  0.931\n",
            "Validation Accuracy increased (0.930400 --> 0.931200).  Saving model ...\n"
          ]
        },
        {
          "output_type": "stream",
          "name": "stderr",
          "text": [
            "100%|██████████| 8750/8750 [54:25<00:00,  2.68it/s]\n"
          ]
        },
        {
          "output_type": "stream",
          "name": "stdout",
          "text": [
            "Epochs: 8 | Train Loss:  0.004                 | Train Accuracy:  0.997                 | Val Loss:  0.129                 | Val Accuracy:  0.931\n"
          ]
        },
        {
          "output_type": "stream",
          "name": "stderr",
          "text": [
            "100%|██████████| 8750/8750 [54:16<00:00,  2.69it/s]\n"
          ]
        },
        {
          "output_type": "stream",
          "name": "stdout",
          "text": [
            "Epochs: 9 | Train Loss:  0.003                 | Train Accuracy:  0.997                 | Val Loss:  0.160                 | Val Accuracy:  0.928\n"
          ]
        },
        {
          "output_type": "stream",
          "name": "stderr",
          "text": [
            "100%|██████████| 8750/8750 [54:04<00:00,  2.70it/s]\n"
          ]
        },
        {
          "output_type": "stream",
          "name": "stdout",
          "text": [
            "Epochs: 10 | Train Loss:  0.003                 | Train Accuracy:  0.997                 | Val Loss:  0.141                 | Val Accuracy:  0.931\n"
          ]
        }
      ],
      "source": [
        "#epoch 3\n",
        "train_accuracy(model, train_data, validation_data, LR, EPOCHS,checkpoint_path, best_model, valid_accuracy_max)\n"
      ]
    },
    {
      "cell_type": "code",
      "source": [
        "val_acc=[0.922, 0.919 ,0.924,  0.930,0.929, 0.930,0.931,0.931,0.928,0.931]\n",
        "train_acc=[ 0.829,  0.948, 0.979 , 0.991, 0.994  ,0.995, 0.996,0.997, 0.997 , 0.997 ]"
      ],
      "metadata": {
        "id": "GdiuUcyKf9xE"
      },
      "execution_count": null,
      "outputs": []
    },
    {
      "cell_type": "code",
      "source": [
        "plt.plot(range(1,11), val_acc, label='Validation Accuracy')\n",
        "plt.plot(range(1,11), train_acc, label='Training Accuracy')\n",
        "plt.legend()\n",
        "plt.xlabel('Epochs')\n",
        "plt.ylabel('Validation Accuracy and Training Accuracy')\n",
        "plt.title('Accuracy vs Epochs')\n",
        "plt.show()"
      ],
      "metadata": {
        "colab": {
          "base_uri": "https://localhost:8080/",
          "height": 295
        },
        "id": "zoEQX0a1hJ-a",
        "outputId": "fecf3f1b-582d-4e93-ad00-30cd5a733086"
      },
      "execution_count": null,
      "outputs": [
        {
          "output_type": "display_data",
          "data": {
            "text/plain": [
              "<Figure size 432x288 with 1 Axes>"
            ],
            "image/png": "[encoded data removed]"
          },
          "metadata": {
            "needs_background": "light"
          }
        }
      ]
    },
    {
      "cell_type": "markdown",
      "source": [
        "###Best from all lr"
      ],
      "metadata": {
        "id": "2U7omkZxlzti"
      }
    },
    {
      "cell_type": "code",
      "source": [
        "# for 5e-6\n",
        "val_acc_5e6=[0.922, 0.919 ,0.924,  0.930,0.929, 0.930,0.931,0.931,0.928,0.931]\n",
        "# for 1e-5\n",
        "val_acc_1e5=[0.907, 0.926 , 0.936 ,0.929, 0.929, 0.926  ,0.927, 0.930, 0.931 , 0.934]\n",
        "# for 1e-6\n",
        "val_acc_1e6=[0.737,0.901,0.917,0.923,0.925,0.920,0.924,0.921,0.907, 0.921]\n",
        "\n",
        "\n",
        "#get max validation accuracy for each learning rate\n",
        "max_val_acc=[max(val_acc_5e6),max(val_acc_1e5),max(val_acc_1e6)]"
      ],
      "metadata": {
        "id": "RxiKFZ8J8mT3"
      },
      "execution_count": 1,
      "outputs": []
    },
    {
      "cell_type": "code",
      "source": [
        "# plot max validation accuracy for each learning rate\n",
        "lr=['5e-6','1e-5','1e-6']\n",
        "plt.plot(lr, max_val_acc, label='Validation Accuracy')\n",
        "plt.xlabel('Learning Rate')\n",
        "plt.ylabel('Validation Accuracy')\n",
        "plt.title('Validation Accuracy vs Learning Rate')\n",
        "plt.show()"
      ],
      "metadata": {
        "colab": {
          "base_uri": "https://localhost:8080/",
          "height": 295
        },
        "id": "IdRPhYzN8lud",
        "outputId": "a442d853-b440-45f0-eb0c-08fc2597317d"
      },
      "execution_count": 3,
      "outputs": [
        {
          "output_type": "display_data",
          "data": {
            "text/plain": [
              "<Figure size 432x288 with 1 Axes>"
            ],
            "image/png": "[encoded data removed]"
          },
          "metadata": {
            "needs_background": "light"
          }
        }
      ]
    },
    {
      "cell_type": "markdown",
      "source": [
        "###Best Model"
      ],
      "metadata": {
        "id": "cn38RJfAiaGw"
      }
    },
    {
      "cell_type": "code",
      "source": [
        "def conf_mat(test_labels,pred_labels):\n",
        "      conf_matrix = confusion_matrix(test_labels, pred_labels)\n",
        "      fig, ax = plt.subplots(figsize=(5, 5))\n",
        "      ax.matshow(conf_matrix, cmap=plt.cm.Blues, alpha=0.3)\n",
        "      for i in range(conf_matrix.shape[0]):\n",
        "          for j in range(conf_matrix.shape[1]):\n",
        "              ax.text(x=j, y=i,s=conf_matrix[i, j], va='center', ha='center', size='xx-large')\n",
        "\n",
        "      plt.xlabel('Predictions', fontsize=18)\n",
        "      plt.ylabel('Actuals', fontsize=18)\n",
        "      plt.title('Confusion Matrix', fontsize=18)\n",
        "      plt.show()"
      ],
      "metadata": {
        "id": "FbcCXR3Xie5M"
      },
      "execution_count": null,
      "outputs": []
    },
    {
      "cell_type": "code",
      "source": [
        "test_labels=[]\n",
        "pred_labels=[]\n",
        "\n",
        "def evaluate(model, test_data):\n",
        "\n",
        "    test = Dataset(test_data)\n",
        "\n",
        "    test_dataloader = torch.utils.data.DataLoader(test, batch_size=2)\n",
        "\n",
        "    use_cuda = torch.cuda.is_available()\n",
        "    device = torch.device(\"cuda\" if use_cuda else \"cpu\")\n",
        "\n",
        "    if use_cuda:\n",
        "\n",
        "        model = model.cuda()\n",
        "\n",
        "    total_acc_test = 0\n",
        "    with torch.no_grad():\n",
        "\n",
        "        for test_input, test_label in test_dataloader:\n",
        "\n",
        "              test_label = test_label.to(device)\n",
        "              mask = test_input['attention_mask'].to(device)\n",
        "              input_id = test_input['input_ids'].squeeze(1).to(device)\n",
        "\n",
        "              output = model(input_id, mask)\n",
        "\n",
        "              acc = (output.argmax(dim=1) == test_label).sum().item()\n",
        "              total_acc_test += acc\n",
        "\n",
        "              test_labels.append(test_label.cpu().numpy()[0])\n",
        "              test_labels.append(test_label.cpu().numpy()[1])\n",
        "              pred_labels.append(output.argmax(dim=1).cpu().numpy()[0])\n",
        "              pred_labels.append(output.argmax(dim=1).cpu().numpy()[1])\n",
        "\n",
        "    print(f'Test Accuracy: {total_acc_test / len(test_data): .3f}')"
      ],
      "metadata": {
        "id": "RgwvDk6qif6u"
      },
      "execution_count": null,
      "outputs": []
    },
    {
      "cell_type": "code",
      "source": [
        "# reload ckp and start training from the last epoch\n",
        "model = BertClassifier()\n",
        "LR = 1e-5\n",
        "optimizer = Adam(model.parameters(), lr= LR)\n",
        "best_model = '/content/drive/MyDrive/bert/bestmodelacc/t.pt'\n",
        "model, optimizer, best_epoch,valid_accuracy_max, LR= load_model_accuracy(best_model, model, optimizer)"
      ],
      "metadata": {
        "colab": {
          "base_uri": "https://localhost:8080/"
        },
        "id": "Tt3a11XvkoLw",
        "outputId": "09c59691-6634-4842-9815-cde0f45d045b"
      },
      "execution_count": null,
      "outputs": [
        {
          "output_type": "stream",
          "name": "stderr",
          "text": [
            "Some weights of the model checkpoint at bert-base-cased were not used when initializing BertModel: ['cls.predictions.bias', 'cls.predictions.transform.dense.weight', 'cls.seq_relationship.bias', 'cls.predictions.decoder.weight', 'cls.predictions.transform.dense.bias', 'cls.seq_relationship.weight', 'cls.predictions.transform.LayerNorm.weight', 'cls.predictions.transform.LayerNorm.bias']\n",
            "- This IS expected if you are initializing BertModel from the checkpoint of a model trained on another task or with another architecture (e.g. initializing a BertForSequenceClassification model from a BertForPreTraining model).\n",
            "- This IS NOT expected if you are initializing BertModel from the checkpoint of a model that you expect to be exactly identical (initializing a BertForSequenceClassification model from a BertForSequenceClassification model).\n"
          ]
        }
      ]
    },
    {
      "cell_type": "code",
      "source": [
        "LR"
      ],
      "metadata": {
        "colab": {
          "base_uri": "https://localhost:8080/"
        },
        "id": "uWi9Bw8_LVz9",
        "outputId": "2a9530f8-5c45-4344-fdb1-814386c7fa44"
      },
      "execution_count": null,
      "outputs": [
        {
          "output_type": "execute_result",
          "data": {
            "text/plain": [
              "1e-05"
            ]
          },
          "metadata": {},
          "execution_count": 30
        }
      ]
    },
    {
      "cell_type": "code",
      "source": [
        "best_epoch\n"
      ],
      "metadata": {
        "colab": {
          "base_uri": "https://localhost:8080/"
        },
        "id": "eyqk5ys8mRhQ",
        "outputId": "921056eb-3717-4c74-f43a-95bb8d3d60ef"
      },
      "execution_count": null,
      "outputs": [
        {
          "output_type": "execute_result",
          "data": {
            "text/plain": [
              "3"
            ]
          },
          "metadata": {},
          "execution_count": 2
        }
      ]
    },
    {
      "cell_type": "code",
      "source": [
        "valid_accuracy_max"
      ],
      "metadata": {
        "colab": {
          "base_uri": "https://localhost:8080/"
        },
        "id": "d0U0xJpTLm3k",
        "outputId": "5d74c757-6221-46cf-ca1b-883a244fdd30"
      },
      "execution_count": null,
      "outputs": [
        {
          "output_type": "execute_result",
          "data": {
            "text/plain": [
              "0.936"
            ]
          },
          "metadata": {},
          "execution_count": 32
        }
      ]
    },
    {
      "cell_type": "code",
      "source": [
        "evaluate(model, test_data)"
      ],
      "metadata": {
        "colab": {
          "base_uri": "https://localhost:8080/"
        },
        "id": "IxlFkFWmLpwA",
        "outputId": "64499f35-87a5-4e06-fc74-fbb41904c1db"
      },
      "execution_count": null,
      "outputs": [
        {
          "output_type": "stream",
          "name": "stdout",
          "text": [
            "Test Accuracy:  0.929\n"
          ]
        }
      ]
    },
    {
      "cell_type": "code",
      "source": [
        "conf_mat(test_labels,pred_labels)"
      ],
      "metadata": {
        "colab": {
          "base_uri": "https://localhost:8080/",
          "height": 358
        },
        "id": "yAbauzcuLtuC",
        "outputId": "ac013934-cd49-4aab-a2b5-c5652e2b0b85"
      },
      "execution_count": null,
      "outputs": [
        {
          "output_type": "display_data",
          "data": {
            "text/plain": [
              "<Figure size 360x360 with 1 Axes>"
            ],
            "image/png": "[encoded data removed]"
          },
          "metadata": {
            "needs_background": "light"
          }
        }
      ]
    },
    {
      "cell_type": "code",
      "source": [
        "def evalscore(tp,tn,fp,fn):\n",
        "  precision=tp/(tp+fp)\n",
        "  recall=tp/(tp+fn)\n",
        "  specificity=tn/(tn+fp)\n",
        "  f1=(2*precision*recall)/(precision+recall)\n",
        "\n",
        "  print(f'F1-score:    {f1:.3f}')\n",
        "  print(f'Precision:   {precision:.3f}')\n",
        "  print(f'Recall:      {recall:.3f}')\n",
        "  print(f'Specificity: {specificity:.3f}')"
      ],
      "metadata": {
        "id": "6SUpbCyCwySO"
      },
      "execution_count": null,
      "outputs": []
    },
    {
      "cell_type": "code",
      "source": [
        "tp=4662\n",
        "tn=4633\n",
        "fp=367\n",
        "fn=338\n",
        "\n",
        "evalscore(tp,tn,fp,fn)"
      ],
      "metadata": {
        "colab": {
          "base_uri": "https://localhost:8080/"
        },
        "outputId": "8211cee0-c933-4c86-a0c3-f7e8b5e850b9",
        "id": "kvi8SGHrwySP"
      },
      "execution_count": null,
      "outputs": [
        {
          "output_type": "stream",
          "name": "stdout",
          "text": [
            "F1-score:    0.930\n",
            "Precision:   0.927\n",
            "Recall:      0.932\n",
            "Specificity: 0.927\n"
          ]
        }
      ]
    },
    {
      "cell_type": "markdown",
      "source": [
        "## 768,1024,256,16,4"
      ],
      "metadata": {
        "id": "NNuOm-reJEVm"
      }
    },
    {
      "cell_type": "code",
      "source": [
        "from torch.nn.modules import linear\n",
        "from torch import nn\n",
        "from transformers import BertModel\n",
        "\n",
        "class BertClassifier(nn.Module):\n",
        "\n",
        "    def __init__(self, dropout=0.5):\n",
        "\n",
        "        super(BertClassifier, self).__init__()\n",
        "\n",
        "        self.bert = BertModel.from_pretrained('bert-base-cased')\n",
        "        self.dropout_1 = nn.Dropout(dropout)\n",
        "        self.linear_1 = nn.Linear(768,1024)\n",
        "        self.dropout_2 = nn.Dropout(dropout)\n",
        "        self.linear_2 = nn.Linear(1024, 256)\n",
        "        self.dropout_3 = nn.Dropout(dropout)\n",
        "        self.linear_3 = nn.Linear(256, 16)\n",
        "        self.dropout_4 = nn.Dropout(dropout)\n",
        "        self.linear_4= nn.Linear(16, 4)\n",
        "        self.dropout_5 = nn.Dropout(dropout)\n",
        "        self.linear_5= nn.Linear(4, 2)\n",
        "        self.relu = nn.ReLU()\n",
        "\n",
        "    def forward(self, input_id, mask):\n",
        "\n",
        "        _, pooled_output = self.bert(input_ids= input_id, attention_mask=mask,return_dict=False)\n",
        "        dropout_output = self.dropout_1(pooled_output)\n",
        "        linear_output_1 = self.linear_1(dropout_output)\n",
        "        dropout_output_1 = self.dropout_2(linear_output_1)\n",
        "        linear_output_2 = self.linear_2(dropout_output_1)\n",
        "        dropout_output_2 = self.dropout_3(linear_output_2)\n",
        "        linear_output_3 = self.linear_3(dropout_output_2)\n",
        "        dropout_output_3 = self.dropout_4(linear_output_3)\n",
        "        linear_output_4 = self.linear_4(dropout_output_3)\n",
        "        dropout_output_4 = self.dropout_5(linear_output_4)\n",
        "        linear_output_5 = self.linear_5(dropout_output_4)\n",
        "        final_layer = self.relu(linear_output_5)\n",
        "        return final_layer"
      ],
      "metadata": {
        "id": "1agV4-FAupXK"
      },
      "execution_count": null,
      "outputs": []
    },
    {
      "cell_type": "markdown",
      "source": [
        "### 1e-6"
      ],
      "metadata": {
        "id": "zSGHKPCIJZn7"
      }
    },
    {
      "cell_type": "code",
      "source": [
        "model = BertClassifier()\n",
        "LR = 1e-6\n",
        "optimizer = Adam(model.parameters(), lr= LR)\n",
        "checkpoint_path = '/content/drive/MyDrive/bert/checkpointsaccbonus2/check.pt'\n",
        "best_model = '/content/drive/MyDrive/bert/bestmodelaccbonus2/model.pt'"
      ],
      "metadata": {
        "colab": {
          "base_uri": "https://localhost:8080/"
        },
        "id": "is4hMADoxris",
        "outputId": "fc893a9e-144b-40c5-a94b-0b956a74f4b1"
      },
      "execution_count": null,
      "outputs": [
        {
          "output_type": "stream",
          "name": "stderr",
          "text": [
            "Some weights of the model checkpoint at bert-base-cased were not used when initializing BertModel: ['cls.predictions.transform.LayerNorm.bias', 'cls.predictions.transform.dense.bias', 'cls.seq_relationship.bias', 'cls.predictions.transform.LayerNorm.weight', 'cls.predictions.bias', 'cls.predictions.decoder.weight', 'cls.predictions.transform.dense.weight', 'cls.seq_relationship.weight']\n",
            "- This IS expected if you are initializing BertModel from the checkpoint of a model trained on another task or with another architecture (e.g. initializing a BertForSequenceClassification model from a BertForPreTraining model).\n",
            "- This IS NOT expected if you are initializing BertModel from the checkpoint of a model that you expect to be exactly identical (initializing a BertForSequenceClassification model from a BertForSequenceClassification model).\n"
          ]
        }
      ]
    },
    {
      "cell_type": "code",
      "source": [
        "train_accuracy(model, train_data, validation_data, LR, epochs,checkpoint_path, best_model, -np.inf)"
      ],
      "metadata": {
        "colab": {
          "base_uri": "https://localhost:8080/"
        },
        "id": "RFEnbk7WxyQu",
        "outputId": "d508f5af-c9cf-4182-cbe2-982144708921"
      },
      "execution_count": null,
      "outputs": [
        {
          "metadata": {
            "tags": null
          },
          "name": "stderr",
          "output_type": "stream",
          "text": [
            "100%|██████████| 8750/8750 [56:44<00:00,  2.57it/s]\n"
          ]
        },
        {
          "metadata": {
            "tags": null
          },
          "name": "stdout",
          "output_type": "stream",
          "text": [
            "Epochs: 1 | Train Loss:  0.148                 | Train Accuracy:  0.677                 | Val Loss:  0.116                 | Val Accuracy:  0.813\n",
            "Validation Accuracy increased (-inf --> 0.813200).  Saving model ...\n"
          ]
        },
        {
          "metadata": {
            "tags": null
          },
          "name": "stderr",
          "output_type": "stream",
          "text": [
            "100%|██████████| 8750/8750 [57:09<00:00,  2.55it/s]\n"
          ]
        },
        {
          "metadata": {
            "tags": null
          },
          "name": "stdout",
          "output_type": "stream",
          "text": [
            "Epochs: 2 | Train Loss:  0.105                 | Train Accuracy:  0.833                 | Val Loss:  0.102                 | Val Accuracy:  0.832\n",
            "Validation Accuracy increased (0.813200 --> 0.831600).  Saving model ...\n"
          ]
        },
        {
          "metadata": {
            "tags": null
          },
          "name": "stderr",
          "output_type": "stream",
          "text": [
            "100%|██████████| 8750/8750 [57:12<00:00,  2.55it/s]\n"
          ]
        },
        {
          "metadata": {
            "tags": null
          },
          "name": "stdout",
          "output_type": "stream",
          "text": [
            "Epochs: 3 | Train Loss:  0.091                 | Train Accuracy:  0.855                 | Val Loss:  0.098                 | Val Accuracy:  0.839\n",
            "Validation Accuracy increased (0.831600 --> 0.839000).  Saving model ...\n"
          ]
        },
        {
          "output_type": "stream",
          "name": "stderr",
          "text": [
            " 30%|██▉       | 2610/8750 [17:03<40:01,  2.56it/s]"
          ]
        }
      ]
    },
    {
      "cell_type": "code",
      "source": [
        "# reload ckp and start training from the last epoch\n",
        "model = BertClassifier()\n",
        "optimizer = Adam(model.parameters(), lr= LR)\n",
        "_,_, _, valid_accuracy_max,_ = load_model_accuracy(best_model, model, optimizer)\n",
        "model = BertClassifier()\n",
        "optimizer = Adam(model.parameters(), lr= LR)\n",
        "model, optimizer, start_epoch,_, LR = load_ckp_accuracy(checkpoint_path, model, optimizer)\n",
        "EPOCHS = range(start_epoch+1,11)\n",
        "print(EPOCHS)"
      ],
      "metadata": {
        "id": "642HhUv0x2V0",
        "colab": {
          "base_uri": "https://localhost:8080/"
        },
        "outputId": "827a0ee3-6abf-42db-d3b5-e940d2d717fc"
      },
      "execution_count": null,
      "outputs": [
        {
          "output_type": "stream",
          "name": "stderr",
          "text": [
            "Some weights of the model checkpoint at bert-base-cased were not used when initializing BertModel: ['cls.predictions.transform.dense.weight', 'cls.seq_relationship.bias', 'cls.predictions.transform.LayerNorm.bias', 'cls.predictions.bias', 'cls.predictions.transform.LayerNorm.weight', 'cls.predictions.transform.dense.bias', 'cls.predictions.decoder.weight', 'cls.seq_relationship.weight']\n",
            "- This IS expected if you are initializing BertModel from the checkpoint of a model trained on another task or with another architecture (e.g. initializing a BertForSequenceClassification model from a BertForPreTraining model).\n",
            "- This IS NOT expected if you are initializing BertModel from the checkpoint of a model that you expect to be exactly identical (initializing a BertForSequenceClassification model from a BertForSequenceClassification model).\n",
            "Some weights of the model checkpoint at bert-base-cased were not used when initializing BertModel: ['cls.predictions.transform.dense.weight', 'cls.seq_relationship.bias', 'cls.predictions.transform.LayerNorm.bias', 'cls.predictions.bias', 'cls.predictions.transform.LayerNorm.weight', 'cls.predictions.transform.dense.bias', 'cls.predictions.decoder.weight', 'cls.seq_relationship.weight']\n",
            "- This IS expected if you are initializing BertModel from the checkpoint of a model trained on another task or with another architecture (e.g. initializing a BertForSequenceClassification model from a BertForPreTraining model).\n",
            "- This IS NOT expected if you are initializing BertModel from the checkpoint of a model that you expect to be exactly identical (initializing a BertForSequenceClassification model from a BertForSequenceClassification model).\n"
          ]
        },
        {
          "output_type": "stream",
          "name": "stdout",
          "text": [
            "range(4, 11)\n"
          ]
        }
      ]
    },
    {
      "cell_type": "code",
      "source": [
        "train_accuracy(model, train_data, validation_data, LR, EPOCHS,checkpoint_path, best_model, valid_accuracy_max)"
      ],
      "metadata": {
        "id": "Vd8YWoWbx5w4",
        "colab": {
          "base_uri": "https://localhost:8080/"
        },
        "outputId": "78b4d9c5-553b-46ef-ce08-141becf26905"
      },
      "execution_count": null,
      "outputs": [
        {
          "metadata": {
            "tags": null
          },
          "name": "stderr",
          "output_type": "stream",
          "text": [
            "100%|██████████| 8750/8750 [56:08<00:00,  2.60it/s]\n"
          ]
        },
        {
          "metadata": {
            "tags": null
          },
          "name": "stdout",
          "output_type": "stream",
          "text": [
            "Epochs: 4 | Train Loss:  0.082                 | Train Accuracy:  0.869                 | Val Loss:  0.093                 | Val Accuracy:  0.843\n",
            "Validation Accuracy increased (0.839000 --> 0.843400).  Saving model ...\n"
          ]
        },
        {
          "metadata": {
            "tags": null
          },
          "name": "stderr",
          "output_type": "stream",
          "text": [
            "100%|██████████| 8750/8750 [56:10<00:00,  2.60it/s]\n"
          ]
        },
        {
          "metadata": {
            "tags": null
          },
          "name": "stdout",
          "output_type": "stream",
          "text": [
            "Epochs: 5 | Train Loss:  0.073                 | Train Accuracy:  0.884                 | Val Loss:  0.097                 | Val Accuracy:  0.846\n",
            "Validation Accuracy increased (0.843400 --> 0.846000).  Saving model ...\n"
          ]
        },
        {
          "metadata": {
            "tags": null
          },
          "name": "stderr",
          "output_type": "stream",
          "text": [
            "100%|██████████| 8750/8750 [56:07<00:00,  2.60it/s]\n"
          ]
        },
        {
          "metadata": {
            "tags": null
          },
          "name": "stdout",
          "output_type": "stream",
          "text": [
            "Epochs: 6 | Train Loss:  0.066                 | Train Accuracy:  0.891                 | Val Loss:  0.096                 | Val Accuracy:  0.851\n",
            "Validation Accuracy increased (0.846000 --> 0.850600).  Saving model ...\n"
          ]
        },
        {
          "output_type": "stream",
          "name": "stderr",
          "text": [
            " 74%|███████▎  | 6439/8750 [41:17<14:48,  2.60it/s]"
          ]
        }
      ]
    },
    {
      "cell_type": "code",
      "source": [
        "# reload ckp and start training from the last epoch\n",
        "model = BertClassifier()\n",
        "optimizer = Adam(model.parameters(), lr= LR)\n",
        "_,_, _, valid_accuracy_max,_ = load_model_accuracy(best_model, model, optimizer)\n",
        "model = BertClassifier()\n",
        "optimizer = Adam(model.parameters(), lr= LR)\n",
        "model, optimizer, start_epoch,_, LR = load_ckp_accuracy(checkpoint_path, model, optimizer)\n",
        "EPOCHS = range(start_epoch+1,11)\n",
        "print(EPOCHS)"
      ],
      "metadata": {
        "colab": {
          "base_uri": "https://localhost:8080/"
        },
        "id": "C84XzUl9WRtB",
        "outputId": "821fb5f9-6db7-4226-a06f-0fae3120f570"
      },
      "execution_count": null,
      "outputs": [
        {
          "output_type": "stream",
          "name": "stderr",
          "text": [
            "Some weights of the model checkpoint at bert-base-cased were not used when initializing BertModel: ['cls.predictions.bias', 'cls.seq_relationship.weight', 'cls.seq_relationship.bias', 'cls.predictions.decoder.weight', 'cls.predictions.transform.LayerNorm.bias', 'cls.predictions.transform.dense.weight', 'cls.predictions.transform.dense.bias', 'cls.predictions.transform.LayerNorm.weight']\n",
            "- This IS expected if you are initializing BertModel from the checkpoint of a model trained on another task or with another architecture (e.g. initializing a BertForSequenceClassification model from a BertForPreTraining model).\n",
            "- This IS NOT expected if you are initializing BertModel from the checkpoint of a model that you expect to be exactly identical (initializing a BertForSequenceClassification model from a BertForSequenceClassification model).\n",
            "Some weights of the model checkpoint at bert-base-cased were not used when initializing BertModel: ['cls.predictions.bias', 'cls.seq_relationship.weight', 'cls.seq_relationship.bias', 'cls.predictions.decoder.weight', 'cls.predictions.transform.LayerNorm.bias', 'cls.predictions.transform.dense.weight', 'cls.predictions.transform.dense.bias', 'cls.predictions.transform.LayerNorm.weight']\n",
            "- This IS expected if you are initializing BertModel from the checkpoint of a model trained on another task or with another architecture (e.g. initializing a BertForSequenceClassification model from a BertForPreTraining model).\n",
            "- This IS NOT expected if you are initializing BertModel from the checkpoint of a model that you expect to be exactly identical (initializing a BertForSequenceClassification model from a BertForSequenceClassification model).\n"
          ]
        },
        {
          "output_type": "stream",
          "name": "stdout",
          "text": [
            "range(7, 11)\n"
          ]
        }
      ]
    },
    {
      "cell_type": "code",
      "source": [
        "train_accuracy(model, train_data, validation_data, LR, EPOCHS,checkpoint_path, best_model, valid_accuracy_max)"
      ],
      "metadata": {
        "colab": {
          "base_uri": "https://localhost:8080/"
        },
        "id": "qX9i3g6cWVYj",
        "outputId": "f6e8ca60-bb7c-4d14-e4c7-acf16c5a3061"
      },
      "execution_count": null,
      "outputs": [
        {
          "metadata": {
            "tags": null
          },
          "name": "stderr",
          "output_type": "stream",
          "text": [
            "100%|██████████| 8750/8750 [56:19<00:00,  2.59it/s]\n"
          ]
        },
        {
          "metadata": {
            "tags": null
          },
          "name": "stdout",
          "output_type": "stream",
          "text": [
            "Epochs: 7 | Train Loss:  0.059                 | Train Accuracy:  0.899                 | Val Loss:  0.103                 | Val Accuracy:  0.850\n"
          ]
        },
        {
          "output_type": "stream",
          "name": "stderr",
          "text": [
            "100%|██████████| 8750/8750 [56:16<00:00,  2.59it/s]\n"
          ]
        },
        {
          "output_type": "stream",
          "name": "stdout",
          "text": [
            "Epochs: 8 | Train Loss:  0.055                 | Train Accuracy:  0.905                 | Val Loss:  0.118                 | Val Accuracy:  0.848\n"
          ]
        },
        {
          "output_type": "stream",
          "name": "stderr",
          "text": [
            " 56%|█████▋    | 4938/8750 [31:43<24:29,  2.59it/s]"
          ]
        }
      ]
    },
    {
      "cell_type": "code",
      "source": [
        "# reload ckp and start training from the last epoch\n",
        "model = BertClassifier()\n",
        "optimizer = Adam(model.parameters(), lr= LR)\n",
        "_,_, _, valid_accuracy_max,_ = load_model_accuracy(best_model, model, optimizer)\n",
        "model = BertClassifier()\n",
        "optimizer = Adam(model.parameters(), lr= LR)\n",
        "model, optimizer, start_epoch,_, LR = load_ckp_accuracy(checkpoint_path, model, optimizer)\n",
        "EPOCHS = range(start_epoch+1,11)\n",
        "print(EPOCHS)"
      ],
      "metadata": {
        "colab": {
          "base_uri": "https://localhost:8080/"
        },
        "id": "McYMb3HFMzWS",
        "outputId": "5b48d7db-3235-4844-f9db-c70ea807bea1"
      },
      "execution_count": null,
      "outputs": [
        {
          "output_type": "stream",
          "name": "stderr",
          "text": [
            "Some weights of the model checkpoint at bert-base-cased were not used when initializing BertModel: ['cls.predictions.transform.LayerNorm.bias', 'cls.predictions.transform.dense.bias', 'cls.seq_relationship.bias', 'cls.predictions.transform.LayerNorm.weight', 'cls.predictions.bias', 'cls.predictions.decoder.weight', 'cls.predictions.transform.dense.weight', 'cls.seq_relationship.weight']\n",
            "- This IS expected if you are initializing BertModel from the checkpoint of a model trained on another task or with another architecture (e.g. initializing a BertForSequenceClassification model from a BertForPreTraining model).\n",
            "- This IS NOT expected if you are initializing BertModel from the checkpoint of a model that you expect to be exactly identical (initializing a BertForSequenceClassification model from a BertForSequenceClassification model).\n",
            "Some weights of the model checkpoint at bert-base-cased were not used when initializing BertModel: ['cls.predictions.transform.LayerNorm.bias', 'cls.predictions.transform.dense.bias', 'cls.seq_relationship.bias', 'cls.predictions.transform.LayerNorm.weight', 'cls.predictions.bias', 'cls.predictions.decoder.weight', 'cls.predictions.transform.dense.weight', 'cls.seq_relationship.weight']\n",
            "- This IS expected if you are initializing BertModel from the checkpoint of a model trained on another task or with another architecture (e.g. initializing a BertForSequenceClassification model from a BertForPreTraining model).\n",
            "- This IS NOT expected if you are initializing BertModel from the checkpoint of a model that you expect to be exactly identical (initializing a BertForSequenceClassification model from a BertForSequenceClassification model).\n"
          ]
        },
        {
          "output_type": "stream",
          "name": "stdout",
          "text": [
            "range(9, 11)\n"
          ]
        }
      ]
    },
    {
      "cell_type": "code",
      "source": [
        "train_accuracy(model, train_data, validation_data, LR, EPOCHS,checkpoint_path, best_model, valid_accuracy_max)"
      ],
      "metadata": {
        "colab": {
          "base_uri": "https://localhost:8080/"
        },
        "id": "PA1KnH3JM0w0",
        "outputId": "813f9ddb-4a6f-4d88-c703-2247a730fca9"
      },
      "execution_count": null,
      "outputs": [
        {
          "output_type": "stream",
          "name": "stderr",
          "text": [
            "100%|██████████| 8750/8750 [57:55<00:00,  2.52it/s]\n"
          ]
        },
        {
          "output_type": "stream",
          "name": "stdout",
          "text": [
            "Epochs: 9 | Train Loss:  0.052                 | Train Accuracy:  0.910                 | Val Loss:  0.128                 | Val Accuracy:  0.856\n",
            "Validation Accuracy increased (0.850600 --> 0.856400).  Saving model ...\n"
          ]
        },
        {
          "output_type": "stream",
          "name": "stderr",
          "text": [
            "100%|██████████| 8750/8750 [57:59<00:00,  2.51it/s]\n"
          ]
        },
        {
          "output_type": "stream",
          "name": "stdout",
          "text": [
            "Epochs: 10 | Train Loss:  0.049                 | Train Accuracy:  0.910                 | Val Loss:  0.127                 | Val Accuracy:  0.852\n"
          ]
        }
      ]
    },
    {
      "cell_type": "code",
      "source": [
        "val_acc=[0.813,0.832,0.839,0.843,0.846,0.851,0.850,0.848,0.8564,0.8518]\n",
        "train_acc=[0.677,0.833,0.855,0.869,0.884,0.891,0.899,0.905,0.910,0.910]"
      ],
      "metadata": {
        "id": "rD6CCLTgqVR4"
      },
      "execution_count": null,
      "outputs": []
    },
    {
      "cell_type": "code",
      "source": [
        "plt.plot(range(1,11), val_acc, label='Validation Accuracy')\n",
        "plt.plot(range(1,11), train_acc, label='Training Accuracy')\n",
        "plt.legend()\n",
        "plt.xlabel('Epochs')\n",
        "plt.ylabel('Validation Accuracy and Training Accuracy')\n",
        "plt.title('Accuracy vs Epochs')\n",
        "plt.show()"
      ],
      "metadata": {
        "colab": {
          "base_uri": "https://localhost:8080/",
          "height": 295
        },
        "id": "sLOnMSDqrYHS",
        "outputId": "9d9ae316-b418-4f05-fd01-24e4e6f580e1"
      },
      "execution_count": null,
      "outputs": [
        {
          "output_type": "display_data",
          "data": {
            "text/plain": [
              "<Figure size 432x288 with 1 Axes>"
            ],
            "image/png": "[encoded data removed]"
          },
          "metadata": {
            "needs_background": "light"
          }
        }
      ]
    },
    {
      "cell_type": "markdown",
      "source": [
        "### 5e-6"
      ],
      "metadata": {
        "id": "8wdYAPk6JdZJ"
      }
    },
    {
      "cell_type": "code",
      "source": [
        "model = BertClassifier()\n",
        "LR = 5e-6\n",
        "optimizer = Adam(model.parameters(), lr= LR)\n",
        "checkpoint_path = '/content/drive/MyDrive/bert/checkpointsaccbonus2/check.pt'\n",
        "best_model = '/content/drive/MyDrive/bert/bestmodelaccbonus2/model.pt'"
      ],
      "metadata": {
        "id": "ulOBKLKcvz-W",
        "colab": {
          "base_uri": "https://localhost:8080/"
        },
        "outputId": "8522545d-c634-4106-fafb-ef6d9003dd9e"
      },
      "execution_count": null,
      "outputs": [
        {
          "output_type": "stream",
          "name": "stderr",
          "text": [
            "Some weights of the model checkpoint at bert-base-cased were not used when initializing BertModel: ['cls.predictions.transform.dense.weight', 'cls.seq_relationship.bias', 'cls.predictions.transform.LayerNorm.weight', 'cls.predictions.decoder.weight', 'cls.predictions.transform.LayerNorm.bias', 'cls.predictions.transform.dense.bias', 'cls.predictions.bias', 'cls.seq_relationship.weight']\n",
            "- This IS expected if you are initializing BertModel from the checkpoint of a model trained on another task or with another architecture (e.g. initializing a BertForSequenceClassification model from a BertForPreTraining model).\n",
            "- This IS NOT expected if you are initializing BertModel from the checkpoint of a model that you expect to be exactly identical (initializing a BertForSequenceClassification model from a BertForSequenceClassification model).\n"
          ]
        }
      ]
    },
    {
      "cell_type": "code",
      "source": [
        "train_accuracy(model, train_data, validation_data, LR, epochs,checkpoint_path, best_model, -np.inf)"
      ],
      "metadata": {
        "id": "iuZD2DsHv7sV",
        "colab": {
          "base_uri": "https://localhost:8080/"
        },
        "outputId": "ecdcba12-e790-4351-df0e-097707ad411a"
      },
      "execution_count": null,
      "outputs": [
        {
          "metadata": {
            "tags": null
          },
          "name": "stderr",
          "output_type": "stream",
          "text": [
            "100%|██████████| 8750/8750 [56:46<00:00,  2.57it/s]\n"
          ]
        },
        {
          "metadata": {
            "tags": null
          },
          "name": "stdout",
          "output_type": "stream",
          "text": [
            "Epochs: 1 | Train Loss:  0.108                 | Train Accuracy:  0.792                 | Val Loss:  0.089                 | Val Accuracy:  0.836\n",
            "Validation Accuracy increased (-inf --> 0.836000).  Saving model ...\n"
          ]
        },
        {
          "metadata": {
            "tags": null
          },
          "name": "stderr",
          "output_type": "stream",
          "text": [
            "100%|██████████| 8750/8750 [57:00<00:00,  2.56it/s]\n"
          ]
        },
        {
          "metadata": {
            "tags": null
          },
          "name": "stdout",
          "output_type": "stream",
          "text": [
            "Epochs: 2 | Train Loss:  0.077                 | Train Accuracy:  0.860                 | Val Loss:  0.085                 | Val Accuracy:  0.834\n"
          ]
        },
        {
          "metadata": {
            "tags": null
          },
          "name": "stderr",
          "output_type": "stream",
          "text": [
            "100%|██████████| 8750/8750 [56:55<00:00,  2.56it/s]\n"
          ]
        },
        {
          "metadata": {
            "tags": null
          },
          "name": "stdout",
          "output_type": "stream",
          "text": [
            "Epochs: 3 | Train Loss:  0.062                 | Train Accuracy:  0.889                 | Val Loss:  0.076                 | Val Accuracy:  0.865\n",
            "Validation Accuracy increased (0.836000 --> 0.864800).  Saving model ...\n"
          ]
        },
        {
          "output_type": "stream",
          "name": "stderr",
          "text": [
            " 74%|███████▍  | 6517/8750 [42:17<14:21,  2.59it/s]"
          ]
        }
      ]
    },
    {
      "cell_type": "code",
      "source": [
        "# reload ckp and start training from the last epoch\n",
        "model = BertClassifier()\n",
        "optimizer = Adam(model.parameters(), lr= LR)\n",
        "_,_, _, valid_accuracy_max,_ = load_model_accuracy(best_model, model, optimizer)\n",
        "model = BertClassifier()\n",
        "optimizer = Adam(model.parameters(), lr= LR)\n",
        "model, optimizer, start_epoch,_, LR = load_ckp_accuracy(checkpoint_path, model, optimizer)\n",
        "EPOCHS = range(start_epoch+1,11)\n",
        "print(EPOCHS)"
      ],
      "metadata": {
        "id": "cIo6hILowBEU",
        "colab": {
          "base_uri": "https://localhost:8080/"
        },
        "outputId": "abf6ac31-f347-4567-e860-b1368bb381ee"
      },
      "execution_count": null,
      "outputs": [
        {
          "output_type": "stream",
          "name": "stderr",
          "text": [
            "Some weights of the model checkpoint at bert-base-cased were not used when initializing BertModel: ['cls.predictions.transform.LayerNorm.weight', 'cls.predictions.bias', 'cls.seq_relationship.weight', 'cls.predictions.transform.dense.weight', 'cls.predictions.transform.LayerNorm.bias', 'cls.predictions.transform.dense.bias', 'cls.predictions.decoder.weight', 'cls.seq_relationship.bias']\n",
            "- This IS expected if you are initializing BertModel from the checkpoint of a model trained on another task or with another architecture (e.g. initializing a BertForSequenceClassification model from a BertForPreTraining model).\n",
            "- This IS NOT expected if you are initializing BertModel from the checkpoint of a model that you expect to be exactly identical (initializing a BertForSequenceClassification model from a BertForSequenceClassification model).\n",
            "Some weights of the model checkpoint at bert-base-cased were not used when initializing BertModel: ['cls.predictions.transform.LayerNorm.weight', 'cls.predictions.bias', 'cls.seq_relationship.weight', 'cls.predictions.transform.dense.weight', 'cls.predictions.transform.LayerNorm.bias', 'cls.predictions.transform.dense.bias', 'cls.predictions.decoder.weight', 'cls.seq_relationship.bias']\n",
            "- This IS expected if you are initializing BertModel from the checkpoint of a model trained on another task or with another architecture (e.g. initializing a BertForSequenceClassification model from a BertForPreTraining model).\n",
            "- This IS NOT expected if you are initializing BertModel from the checkpoint of a model that you expect to be exactly identical (initializing a BertForSequenceClassification model from a BertForSequenceClassification model).\n"
          ]
        },
        {
          "output_type": "stream",
          "name": "stdout",
          "text": [
            "range(4, 11)\n"
          ]
        }
      ]
    },
    {
      "cell_type": "code",
      "source": [
        "train_accuracy(model, train_data, validation_data, LR, EPOCHS,checkpoint_path, best_model, valid_accuracy_max)"
      ],
      "metadata": {
        "id": "1tLsbkQdwE9Y",
        "colab": {
          "base_uri": "https://localhost:8080/"
        },
        "outputId": "ff70a94c-6ed2-4357-a56a-10b9141b7b79"
      },
      "execution_count": null,
      "outputs": [
        {
          "output_type": "stream",
          "name": "stderr",
          "text": [
            "100%|██████████| 8750/8750 [55:57<00:00,  2.61it/s]\n"
          ]
        },
        {
          "output_type": "stream",
          "name": "stdout",
          "text": [
            "Epochs: 4 | Train Loss:  0.048                 | Train Accuracy:  0.907                 | Val Loss:  0.097                 | Val Accuracy:  0.869\n",
            "Validation Accuracy increased (0.864800 --> 0.868600).  Saving model ...\n"
          ]
        },
        {
          "output_type": "stream",
          "name": "stderr",
          "text": [
            "100%|██████████| 8750/8750 [55:47<00:00,  2.61it/s]\n"
          ]
        },
        {
          "output_type": "stream",
          "name": "stdout",
          "text": [
            "Epochs: 5 | Train Loss:  0.042                 | Train Accuracy:  0.917                 | Val Loss:  0.103                 | Val Accuracy:  0.871\n",
            "Validation Accuracy increased (0.868600 --> 0.871000).  Saving model ...\n"
          ]
        },
        {
          "output_type": "stream",
          "name": "stderr",
          "text": [
            " 71%|███████   | 6217/8750 [39:34<16:09,  2.61it/s]"
          ]
        }
      ]
    },
    {
      "cell_type": "code",
      "source": [
        "# reload ckp and start training from the last epoch\n",
        "model = BertClassifier()\n",
        "optimizer = Adam(model.parameters(), lr= LR)\n",
        "_,_, _, valid_accuracy_max,_ = load_model_accuracy(best_model, model, optimizer)\n",
        "model = BertClassifier()\n",
        "optimizer = Adam(model.parameters(), lr= LR)\n",
        "model, optimizer, start_epoch,_, LR = load_ckp_accuracy(checkpoint_path, model, optimizer)\n",
        "EPOCHS = range(start_epoch+1,11)\n",
        "print(EPOCHS)"
      ],
      "metadata": {
        "colab": {
          "base_uri": "https://localhost:8080/"
        },
        "id": "eOQ1RSnnvchj",
        "outputId": "b67930ef-4de3-4848-a803-e2f98edc1199"
      },
      "execution_count": null,
      "outputs": [
        {
          "output_type": "stream",
          "name": "stderr",
          "text": [
            "Some weights of the model checkpoint at bert-base-cased were not used when initializing BertModel: ['cls.predictions.transform.dense.weight', 'cls.seq_relationship.bias', 'cls.predictions.transform.LayerNorm.weight', 'cls.predictions.decoder.weight', 'cls.predictions.transform.LayerNorm.bias', 'cls.predictions.transform.dense.bias', 'cls.predictions.bias', 'cls.seq_relationship.weight']\n",
            "- This IS expected if you are initializing BertModel from the checkpoint of a model trained on another task or with another architecture (e.g. initializing a BertForSequenceClassification model from a BertForPreTraining model).\n",
            "- This IS NOT expected if you are initializing BertModel from the checkpoint of a model that you expect to be exactly identical (initializing a BertForSequenceClassification model from a BertForSequenceClassification model).\n",
            "Some weights of the model checkpoint at bert-base-cased were not used when initializing BertModel: ['cls.predictions.transform.dense.weight', 'cls.seq_relationship.bias', 'cls.predictions.transform.LayerNorm.weight', 'cls.predictions.decoder.weight', 'cls.predictions.transform.LayerNorm.bias', 'cls.predictions.transform.dense.bias', 'cls.predictions.bias', 'cls.seq_relationship.weight']\n",
            "- This IS expected if you are initializing BertModel from the checkpoint of a model trained on another task or with another architecture (e.g. initializing a BertForSequenceClassification model from a BertForPreTraining model).\n",
            "- This IS NOT expected if you are initializing BertModel from the checkpoint of a model that you expect to be exactly identical (initializing a BertForSequenceClassification model from a BertForSequenceClassification model).\n"
          ]
        },
        {
          "output_type": "stream",
          "name": "stdout",
          "text": [
            "range(6, 11)\n"
          ]
        }
      ]
    },
    {
      "cell_type": "code",
      "source": [
        "train_accuracy(model, train_data, validation_data, LR, EPOCHS,checkpoint_path, best_model, valid_accuracy_max)"
      ],
      "metadata": {
        "colab": {
          "base_uri": "https://localhost:8080/"
        },
        "id": "_ZuUfBmGvewm",
        "outputId": "a8aa8574-196f-4e52-c65f-990fbdb9a901"
      },
      "execution_count": null,
      "outputs": [
        {
          "metadata": {
            "tags": null
          },
          "name": "stderr",
          "output_type": "stream",
          "text": [
            "100%|██████████| 8750/8750 [56:26<00:00,  2.58it/s]\n"
          ]
        },
        {
          "metadata": {
            "tags": null
          },
          "name": "stdout",
          "output_type": "stream",
          "text": [
            "Epochs: 6 | Train Loss:  0.036                 | Train Accuracy:  0.923                 | Val Loss:  0.113                 | Val Accuracy:  0.873\n",
            "Validation Accuracy increased (0.871000 --> 0.873000).  Saving model ...\n"
          ]
        },
        {
          "metadata": {
            "tags": null
          },
          "name": "stderr",
          "output_type": "stream",
          "text": [
            "100%|██████████| 8750/8750 [56:10<00:00,  2.60it/s]\n"
          ]
        },
        {
          "metadata": {
            "tags": null
          },
          "name": "stdout",
          "output_type": "stream",
          "text": [
            "Epochs: 7 | Train Loss:  0.033                 | Train Accuracy:  0.927                 | Val Loss:  0.107                 | Val Accuracy:  0.879\n",
            "Validation Accuracy increased (0.873000 --> 0.878800).  Saving model ...\n"
          ]
        },
        {
          "metadata": {
            "tags": null
          },
          "name": "stderr",
          "output_type": "stream",
          "text": [
            "100%|██████████| 8750/8750 [56:02<00:00,  2.60it/s]\n"
          ]
        },
        {
          "metadata": {
            "tags": null
          },
          "name": "stdout",
          "output_type": "stream",
          "text": [
            "Epochs: 8 | Train Loss:  0.031                 | Train Accuracy:  0.930                 | Val Loss:  0.157                 | Val Accuracy:  0.876\n"
          ]
        },
        {
          "metadata": {
            "tags": null
          },
          "name": "stderr",
          "output_type": "stream",
          "text": [
            "100%|██████████| 8750/8750 [55:54<00:00,  2.61it/s]\n"
          ]
        },
        {
          "output_type": "stream",
          "name": "stdout",
          "text": [
            "Epochs: 9 | Train Loss:  0.029                 | Train Accuracy:  0.929                 | Val Loss:  0.137                 | Val Accuracy:  0.866\n"
          ]
        },
        {
          "output_type": "stream",
          "name": "stderr",
          "text": [
            "100%|██████████| 8750/8750 [55:51<00:00,  2.61it/s]\n"
          ]
        },
        {
          "output_type": "stream",
          "name": "stdout",
          "text": [
            "Epochs: 10 | Train Loss:  0.029                 | Train Accuracy:  0.931                 | Val Loss:  0.162                 | Val Accuracy:  0.881\n",
            "Validation Accuracy increased (0.878800 --> 0.880600).  Saving model ...\n"
          ]
        }
      ]
    },
    {
      "cell_type": "code",
      "source": [
        "val_acc=[0.836000,0.834,0.864800,0.868600,0.871000,0.873000,0.878800,0.876,0.866,0.880600]\n",
        "train_acc=[0.792,0.860,0.889,0.907,0.917,0.923,0.927,0.930,0.929,0.931]"
      ],
      "metadata": {
        "id": "L85IRVPB4tRY"
      },
      "execution_count": null,
      "outputs": []
    },
    {
      "cell_type": "code",
      "source": [
        "plt.plot(range(1,11), val_acc, label='Validation Accuracy')\n",
        "plt.plot(range(1,11), train_acc, label='Training Accuracy')\n",
        "plt.legend()\n",
        "plt.xlabel('Epochs')\n",
        "plt.ylabel('Validation Accuracy and Training Accuracy')\n",
        "plt.title('Accuracy vs Epochs')\n",
        "plt.show()"
      ],
      "metadata": {
        "colab": {
          "base_uri": "https://localhost:8080/",
          "height": 295
        },
        "id": "q3Zf0-dy6ezz",
        "outputId": "d0f1b01f-2401-49ea-b154-53eba590f12b"
      },
      "execution_count": null,
      "outputs": [
        {
          "output_type": "display_data",
          "data": {
            "text/plain": [
              "<Figure size 432x288 with 1 Axes>"
            ],
            "image/png": "[encoded data removed]"
          },
          "metadata": {
            "needs_background": "light"
          }
        }
      ]
    },
    {
      "cell_type": "markdown",
      "source": [
        "### 1e-5"
      ],
      "metadata": {
        "id": "J8uWY_k3JfmD"
      }
    },
    {
      "cell_type": "code",
      "source": [
        "model = BertClassifier()\n",
        "LR = 1e-5\n",
        "optimizer = Adam(model.parameters(), lr= LR)\n",
        "checkpoint_path = '/content/drive/MyDrive/bert/checkpointsaccbonus2/check.pt'\n",
        "best_model = '/content/drive/MyDrive/bert/bestmodelaccbonus2/model.pt'"
      ],
      "metadata": {
        "colab": {
          "base_uri": "https://localhost:8080/"
        },
        "id": "64uQU6wMvVvQ",
        "outputId": "dbe77308-5e57-40bd-a7e2-d61c635e0204"
      },
      "execution_count": null,
      "outputs": [
        {
          "output_type": "stream",
          "name": "stderr",
          "text": [
            "Some weights of the model checkpoint at bert-base-cased were not used when initializing BertModel: ['cls.predictions.transform.LayerNorm.bias', 'cls.seq_relationship.weight', 'cls.predictions.transform.dense.bias', 'cls.predictions.transform.LayerNorm.weight', 'cls.predictions.decoder.weight', 'cls.seq_relationship.bias', 'cls.predictions.bias', 'cls.predictions.transform.dense.weight']\n",
            "- This IS expected if you are initializing BertModel from the checkpoint of a model trained on another task or with another architecture (e.g. initializing a BertForSequenceClassification model from a BertForPreTraining model).\n",
            "- This IS NOT expected if you are initializing BertModel from the checkpoint of a model that you expect to be exactly identical (initializing a BertForSequenceClassification model from a BertForSequenceClassification model).\n"
          ]
        }
      ]
    },
    {
      "cell_type": "code",
      "source": [
        "train_accuracy(model, train_data, validation_data, LR, epochs,checkpoint_path, best_model, -np.inf)"
      ],
      "metadata": {
        "colab": {
          "base_uri": "https://localhost:8080/"
        },
        "id": "-NH6m0EpvdDK",
        "outputId": "1d3ac25d-9829-43c9-a173-c3be7d2ed528"
      },
      "execution_count": null,
      "outputs": [
        {
          "metadata": {
            "tags": null
          },
          "name": "stderr",
          "output_type": "stream",
          "text": [
            "100%|██████████| 8750/8750 [55:23<00:00,  2.63it/s]\n"
          ]
        },
        {
          "metadata": {
            "tags": null
          },
          "name": "stdout",
          "output_type": "stream",
          "text": [
            "Epochs: 1 | Train Loss:  0.114                 | Train Accuracy:  0.770                 | Val Loss:  0.090                 | Val Accuracy:  0.851\n",
            "Validation Accuracy increased (-inf --> 0.850800).  Saving model ...\n"
          ]
        },
        {
          "metadata": {
            "tags": null
          },
          "name": "stderr",
          "output_type": "stream",
          "text": [
            "100%|██████████| 8750/8750 [55:36<00:00,  2.62it/s]\n"
          ]
        },
        {
          "metadata": {
            "tags": null
          },
          "name": "stdout",
          "output_type": "stream",
          "text": [
            "Epochs: 2 | Train Loss:  0.079                 | Train Accuracy:  0.869                 | Val Loss:  0.081                 | Val Accuracy:  0.865\n",
            "Validation Accuracy increased (0.850800 --> 0.865200).  Saving model ...\n"
          ]
        },
        {
          "metadata": {
            "tags": null
          },
          "name": "stderr",
          "output_type": "stream",
          "text": [
            "100%|██████████| 8750/8750 [55:26<00:00,  2.63it/s]\n"
          ]
        },
        {
          "metadata": {
            "tags": null
          },
          "name": "stdout",
          "output_type": "stream",
          "text": [
            "Epochs: 3 | Train Loss:  0.058                 | Train Accuracy:  0.900                 | Val Loss:  0.080                 | Val Accuracy:  0.868\n",
            "Validation Accuracy increased (0.865200 --> 0.867800).  Saving model ...\n"
          ]
        },
        {
          "output_type": "stream",
          "name": "stderr",
          "text": [
            " 89%|████████▉ | 7784/8750 [49:14<06:03,  2.65it/s]"
          ]
        }
      ]
    },
    {
      "cell_type": "code",
      "source": [
        "# reload ckp and start training from the last epoch\n",
        "model = BertClassifier()\n",
        "optimizer = Adam(model.parameters(), lr= LR)\n",
        "_,_, _, valid_accuracy_max,_ = load_model_accuracy(best_model, model, optimizer)\n",
        "model = BertClassifier()\n",
        "optimizer = Adam(model.parameters(), lr= LR)\n",
        "model, optimizer, start_epoch,_, LR = load_ckp_accuracy(checkpoint_path, model, optimizer)\n",
        "EPOCHS = range(start_epoch+1,11)\n",
        "print(EPOCHS)"
      ],
      "metadata": {
        "colab": {
          "base_uri": "https://localhost:8080/"
        },
        "id": "QfUns37Pvg4e",
        "outputId": "0b3c53dc-46a9-43b6-9358-da8324095b19"
      },
      "execution_count": null,
      "outputs": [
        {
          "output_type": "stream",
          "name": "stderr",
          "text": [
            "Some weights of the model checkpoint at bert-base-cased were not used when initializing BertModel: ['cls.predictions.transform.dense.bias', 'cls.seq_relationship.bias', 'cls.predictions.transform.LayerNorm.bias', 'cls.predictions.bias', 'cls.seq_relationship.weight', 'cls.predictions.decoder.weight', 'cls.predictions.transform.LayerNorm.weight', 'cls.predictions.transform.dense.weight']\n",
            "- This IS expected if you are initializing BertModel from the checkpoint of a model trained on another task or with another architecture (e.g. initializing a BertForSequenceClassification model from a BertForPreTraining model).\n",
            "- This IS NOT expected if you are initializing BertModel from the checkpoint of a model that you expect to be exactly identical (initializing a BertForSequenceClassification model from a BertForSequenceClassification model).\n",
            "Some weights of the model checkpoint at bert-base-cased were not used when initializing BertModel: ['cls.predictions.transform.dense.bias', 'cls.seq_relationship.bias', 'cls.predictions.transform.LayerNorm.bias', 'cls.predictions.bias', 'cls.seq_relationship.weight', 'cls.predictions.decoder.weight', 'cls.predictions.transform.LayerNorm.weight', 'cls.predictions.transform.dense.weight']\n",
            "- This IS expected if you are initializing BertModel from the checkpoint of a model trained on another task or with another architecture (e.g. initializing a BertForSequenceClassification model from a BertForPreTraining model).\n",
            "- This IS NOT expected if you are initializing BertModel from the checkpoint of a model that you expect to be exactly identical (initializing a BertForSequenceClassification model from a BertForSequenceClassification model).\n"
          ]
        },
        {
          "output_type": "stream",
          "name": "stdout",
          "text": [
            "range(4, 11)\n"
          ]
        }
      ]
    },
    {
      "cell_type": "code",
      "source": [
        "train_accuracy(model, train_data, validation_data, LR, EPOCHS,checkpoint_path, best_model, valid_accuracy_max)"
      ],
      "metadata": {
        "colab": {
          "base_uri": "https://localhost:8080/"
        },
        "id": "rHjAwR0NvnWg",
        "outputId": "f2ac1984-b2c7-48c5-d384-e8d1e4802235"
      },
      "execution_count": null,
      "outputs": [
        {
          "metadata": {
            "tags": null
          },
          "name": "stderr",
          "output_type": "stream",
          "text": [
            "100%|██████████| 8750/8750 [54:40<00:00,  2.67it/s]\n"
          ]
        },
        {
          "metadata": {
            "tags": null
          },
          "name": "stdout",
          "output_type": "stream",
          "text": [
            "Epochs: 4 | Train Loss:  0.045                 | Train Accuracy:  0.931                 | Val Loss:  0.081                 | Val Accuracy:  0.876\n",
            "Validation Accuracy increased (0.867800 --> 0.876400).  Saving model ...\n"
          ]
        },
        {
          "metadata": {
            "tags": null
          },
          "name": "stderr",
          "output_type": "stream",
          "text": [
            "100%|██████████| 8750/8750 [54:22<00:00,  2.68it/s]\n"
          ]
        },
        {
          "metadata": {
            "tags": null
          },
          "name": "stdout",
          "output_type": "stream",
          "text": [
            "Epochs: 5 | Train Loss:  0.034                 | Train Accuracy:  0.951                 | Val Loss:  0.091                 | Val Accuracy:  0.900\n",
            "Validation Accuracy increased (0.876400 --> 0.899600).  Saving model ...\n"
          ]
        },
        {
          "output_type": "stream",
          "name": "stderr",
          "text": [
            " 65%|██████▍   | 5663/8750 [35:00<19:18,  2.66it/s]"
          ]
        }
      ]
    },
    {
      "cell_type": "code",
      "source": [
        "# reload ckp and start training from the last epoch\n",
        "model = BertClassifier()\n",
        "optimizer = Adam(model.parameters(), lr= LR)\n",
        "_,_, _, valid_accuracy_max,_ = load_model_accuracy(best_model, model, optimizer)\n",
        "model = BertClassifier()\n",
        "optimizer = Adam(model.parameters(), lr= LR)\n",
        "model, optimizer, start_epoch,_, LR = load_ckp_accuracy(checkpoint_path, model, optimizer)\n",
        "EPOCHS = range(start_epoch+1,11)\n",
        "print(EPOCHS)"
      ],
      "metadata": {
        "colab": {
          "base_uri": "https://localhost:8080/"
        },
        "id": "zmKQvhrjq9JO",
        "outputId": "5f5fce30-c70f-4dbd-e584-68f8761d2b25"
      },
      "execution_count": null,
      "outputs": [
        {
          "output_type": "stream",
          "name": "stderr",
          "text": [
            "Some weights of the model checkpoint at bert-base-cased were not used when initializing BertModel: ['cls.predictions.transform.dense.bias', 'cls.predictions.transform.LayerNorm.weight', 'cls.predictions.decoder.weight', 'cls.seq_relationship.bias', 'cls.predictions.transform.LayerNorm.bias', 'cls.predictions.transform.dense.weight', 'cls.predictions.bias', 'cls.seq_relationship.weight']\n",
            "- This IS expected if you are initializing BertModel from the checkpoint of a model trained on another task or with another architecture (e.g. initializing a BertForSequenceClassification model from a BertForPreTraining model).\n",
            "- This IS NOT expected if you are initializing BertModel from the checkpoint of a model that you expect to be exactly identical (initializing a BertForSequenceClassification model from a BertForSequenceClassification model).\n",
            "Some weights of the model checkpoint at bert-base-cased were not used when initializing BertModel: ['cls.predictions.transform.dense.bias', 'cls.predictions.transform.LayerNorm.weight', 'cls.predictions.decoder.weight', 'cls.seq_relationship.bias', 'cls.predictions.transform.LayerNorm.bias', 'cls.predictions.transform.dense.weight', 'cls.predictions.bias', 'cls.seq_relationship.weight']\n",
            "- This IS expected if you are initializing BertModel from the checkpoint of a model trained on another task or with another architecture (e.g. initializing a BertForSequenceClassification model from a BertForPreTraining model).\n",
            "- This IS NOT expected if you are initializing BertModel from the checkpoint of a model that you expect to be exactly identical (initializing a BertForSequenceClassification model from a BertForSequenceClassification model).\n"
          ]
        },
        {
          "output_type": "stream",
          "name": "stdout",
          "text": [
            "range(6, 11)\n"
          ]
        }
      ]
    },
    {
      "cell_type": "code",
      "source": [
        "train_accuracy(model, train_data, validation_data, LR, EPOCHS,checkpoint_path, best_model, valid_accuracy_max)"
      ],
      "metadata": {
        "colab": {
          "base_uri": "https://localhost:8080/"
        },
        "id": "fgm9FvVIrBcM",
        "outputId": "ba47c68c-2867-46af-cae0-efe4273af8cd"
      },
      "execution_count": null,
      "outputs": [
        {
          "output_type": "stream",
          "name": "stderr",
          "text": [
            "100%|██████████| 8750/8750 [58:08<00:00,  2.51it/s]\n"
          ]
        },
        {
          "output_type": "stream",
          "name": "stdout",
          "text": [
            "Epochs: 6 | Train Loss:  0.029                 | Train Accuracy:  0.953                 | Val Loss:  0.126                 | Val Accuracy:  0.898\n"
          ]
        },
        {
          "output_type": "stream",
          "name": "stderr",
          "text": [
            "100%|██████████| 8750/8750 [57:54<00:00,  2.52it/s]\n"
          ]
        },
        {
          "output_type": "stream",
          "name": "stdout",
          "text": [
            "Epochs: 7 | Train Loss:  0.023                 | Train Accuracy:  0.957                 | Val Loss:  0.175                 | Val Accuracy:  0.901\n",
            "Validation Accuracy increased (0.899600 --> 0.901200).  Saving model ...\n"
          ]
        },
        {
          "output_type": "stream",
          "name": "stderr",
          "text": [
            "100%|██████████| 8750/8750 [57:42<00:00,  2.53it/s]\n"
          ]
        },
        {
          "output_type": "stream",
          "name": "stdout",
          "text": [
            "Epochs: 8 | Train Loss:  0.019                 | Train Accuracy:  0.961                 | Val Loss:  0.310                 | Val Accuracy:  0.900\n"
          ]
        },
        {
          "output_type": "stream",
          "name": "stderr",
          "text": [
            " 44%|████▍     | 3853/8750 [25:27<32:23,  2.52it/s]"
          ]
        }
      ]
    },
    {
      "cell_type": "code",
      "source": [
        "# reload ckp and start training from the last epoch\n",
        "model = BertClassifier()\n",
        "optimizer = Adam(model.parameters(), lr= LR)\n",
        "_,_, _, valid_accuracy_max,_ = load_model_accuracy(best_model, model, optimizer)\n",
        "model = BertClassifier()\n",
        "optimizer = Adam(model.parameters(), lr= LR)\n",
        "model, optimizer, start_epoch,_, LR = load_ckp_accuracy(checkpoint_path, model, optimizer)\n",
        "EPOCHS = range(start_epoch+1,11)\n",
        "print(EPOCHS)"
      ],
      "metadata": {
        "colab": {
          "base_uri": "https://localhost:8080/"
        },
        "id": "JhyzpmiGjugx",
        "outputId": "0794572b-9316-4896-f5bf-cec9da8f1fd1"
      },
      "execution_count": null,
      "outputs": [
        {
          "output_type": "stream",
          "name": "stderr",
          "text": [
            "Some weights of the model checkpoint at bert-base-cased were not used when initializing BertModel: ['cls.predictions.transform.LayerNorm.bias', 'cls.seq_relationship.weight', 'cls.predictions.transform.dense.bias', 'cls.predictions.transform.LayerNorm.weight', 'cls.predictions.decoder.weight', 'cls.seq_relationship.bias', 'cls.predictions.bias', 'cls.predictions.transform.dense.weight']\n",
            "- This IS expected if you are initializing BertModel from the checkpoint of a model trained on another task or with another architecture (e.g. initializing a BertForSequenceClassification model from a BertForPreTraining model).\n",
            "- This IS NOT expected if you are initializing BertModel from the checkpoint of a model that you expect to be exactly identical (initializing a BertForSequenceClassification model from a BertForSequenceClassification model).\n",
            "Some weights of the model checkpoint at bert-base-cased were not used when initializing BertModel: ['cls.predictions.transform.LayerNorm.bias', 'cls.seq_relationship.weight', 'cls.predictions.transform.dense.bias', 'cls.predictions.transform.LayerNorm.weight', 'cls.predictions.decoder.weight', 'cls.seq_relationship.bias', 'cls.predictions.bias', 'cls.predictions.transform.dense.weight']\n",
            "- This IS expected if you are initializing BertModel from the checkpoint of a model trained on another task or with another architecture (e.g. initializing a BertForSequenceClassification model from a BertForPreTraining model).\n",
            "- This IS NOT expected if you are initializing BertModel from the checkpoint of a model that you expect to be exactly identical (initializing a BertForSequenceClassification model from a BertForSequenceClassification model).\n"
          ]
        },
        {
          "output_type": "stream",
          "name": "stdout",
          "text": [
            "range(9, 11)\n"
          ]
        }
      ]
    },
    {
      "cell_type": "code",
      "source": [
        "train_accuracy(model, train_data, validation_data, LR, EPOCHS,checkpoint_path, best_model, valid_accuracy_max)"
      ],
      "metadata": {
        "colab": {
          "base_uri": "https://localhost:8080/"
        },
        "id": "-oVXiT45jwyJ",
        "outputId": "49082e92-a29a-44b8-896f-9e99565323f5"
      },
      "execution_count": null,
      "outputs": [
        {
          "output_type": "stream",
          "name": "stderr",
          "text": [
            "100%|██████████| 8750/8750 [55:40<00:00,  2.62it/s]\n"
          ]
        },
        {
          "output_type": "stream",
          "name": "stdout",
          "text": [
            "Epochs: 9 | Train Loss:  0.019                 | Train Accuracy:  0.960                 | Val Loss:  0.175                 | Val Accuracy:  0.902\n",
            "Validation Accuracy increased (0.901200 --> 0.901600).  Saving model ...\n"
          ]
        },
        {
          "output_type": "stream",
          "name": "stderr",
          "text": [
            "100%|██████████| 8750/8750 [55:47<00:00,  2.61it/s]\n"
          ]
        },
        {
          "output_type": "stream",
          "name": "stdout",
          "text": [
            "Epochs: 10 | Train Loss:  0.022                 | Train Accuracy:  0.959                 | Val Loss:  0.141                 | Val Accuracy:  0.900\n"
          ]
        }
      ]
    },
    {
      "cell_type": "code",
      "source": [
        "val_acc=[0.850800,0.865200,0.867800,0.876400,0.899600,0.898,0.901200,0.900,0.9016, 0.9]\n",
        "train_acc=[0.770,0.869,0.900,0.931,0.951,0.953,0.957,0.961,0.960,0.959]"
      ],
      "metadata": {
        "id": "QBY05EY_ER0f"
      },
      "execution_count": null,
      "outputs": []
    },
    {
      "cell_type": "code",
      "source": [
        "plt.plot(range(1,11), val_acc, label='Validation Accuracy')\n",
        "plt.plot(range(1,11), train_acc, label='Training Accuracy')\n",
        "plt.legend()\n",
        "plt.xlabel('Epochs')\n",
        "plt.ylabel('Validation Accuracy and Training Accuracy')\n",
        "plt.title('Accuracy vs Epochs')\n",
        "plt.show()"
      ],
      "metadata": {
        "colab": {
          "base_uri": "https://localhost:8080/",
          "height": 295
        },
        "outputId": "4f58eb2b-e31a-478b-a068-4dd9c4821b37",
        "id": "vljR-EXYKAkS"
      },
      "execution_count": null,
      "outputs": [
        {
          "output_type": "display_data",
          "data": {
            "text/plain": [
              "<Figure size 432x288 with 1 Axes>"
            ],
            "image/png": "[encoded data removed]"
          },
          "metadata": {
            "needs_background": "light"
          }
        }
      ]
    },
    {
      "cell_type": "markdown",
      "source": [
        "### Best from all lr"
      ],
      "metadata": {
        "id": "77yyBqCZKsPB"
      }
    },
    {
      "cell_type": "code",
      "source": [
        "# for 5e-6\n",
        "val_acc_5e6=[0.836000,0.834,0.864800,0.868600,0.871000,0.873000,0.878800,0.876,0.866,0.880600]\n",
        "# for 1e-5\n",
        "val_acc_1e5=[0.850800,0.865200,0.867800,0.876400,0.899600,0.898,0.901200,0.900,0.9016, 0.9]\n",
        "# for 1e-6\n",
        "val_acc_1e6=[0.813,0.832,0.839,0.843,0.846,0.851,0.850,0.848,0.8564,0.8518]\n",
        "\n",
        "\n",
        "#get max validation accuracy for each learning rate\n",
        "max_val_acc=[max(val_acc_5e6),max(val_acc_1e5),max(val_acc_1e6)]"
      ],
      "metadata": {
        "id": "LIBkP0orKtxO"
      },
      "execution_count": null,
      "outputs": []
    },
    {
      "cell_type": "code",
      "source": [
        "# plot max validation accuracy for each learning rate\n",
        "lr=['5e-6','1e-5','1e-6']\n",
        "plt.plot(lr, max_val_acc, label='Validation Accuracy')\n",
        "plt.xlabel('Learning Rate')\n",
        "plt.ylabel('Validation Accuracy')\n",
        "plt.title('Validation Accuracy vs Learning Rate')\n",
        "plt.show()"
      ],
      "metadata": {
        "colab": {
          "base_uri": "https://localhost:8080/",
          "height": 295
        },
        "id": "l5ZvS2IALfju",
        "outputId": "06585e89-6b25-4127-aa11-0d9b800e6674"
      },
      "execution_count": null,
      "outputs": [
        {
          "output_type": "display_data",
          "data": {
            "text/plain": [
              "<Figure size 432x288 with 1 Axes>"
            ],
            "image/png": "[encoded data removed]"
          },
          "metadata": {
            "needs_background": "light"
          }
        }
      ]
    },
    {
      "cell_type": "markdown",
      "source": [
        "### Best Model"
      ],
      "metadata": {
        "id": "DS-LTll7MUvl"
      }
    },
    {
      "cell_type": "code",
      "source": [
        "# reload ckp and start training from the last epoch\n",
        "model = BertClassifier()\n",
        "LR = 1e-5\n",
        "optimizer = Adam(model.parameters(), lr= LR)\n",
        "best_model = '/content/drive/MyDrive/bert/bestmodelaccbonus2/model.pt'\n",
        "model, optimizer, best_epoch,valid_accuracy_max, LR= load_model_accuracy(best_model, model, optimizer)"
      ],
      "metadata": {
        "colab": {
          "base_uri": "https://localhost:8080/"
        },
        "outputId": "3628bea4-960f-4d20-9fb1-467a1d790f03",
        "id": "bP14gaKMXIp_"
      },
      "execution_count": null,
      "outputs": [
        {
          "output_type": "stream",
          "name": "stderr",
          "text": [
            "Some weights of the model checkpoint at bert-base-cased were not used when initializing BertModel: ['cls.predictions.transform.dense.bias', 'cls.seq_relationship.bias', 'cls.predictions.decoder.weight', 'cls.predictions.transform.LayerNorm.bias', 'cls.predictions.bias', 'cls.predictions.transform.LayerNorm.weight', 'cls.predictions.transform.dense.weight', 'cls.seq_relationship.weight']\n",
            "- This IS expected if you are initializing BertModel from the checkpoint of a model trained on another task or with another architecture (e.g. initializing a BertForSequenceClassification model from a BertForPreTraining model).\n",
            "- This IS NOT expected if you are initializing BertModel from the checkpoint of a model that you expect to be exactly identical (initializing a BertForSequenceClassification model from a BertForSequenceClassification model).\n"
          ]
        }
      ]
    },
    {
      "cell_type": "code",
      "source": [
        "LR"
      ],
      "metadata": {
        "colab": {
          "base_uri": "https://localhost:8080/"
        },
        "outputId": "c86fdc5c-a381-4a80-c607-f39956f22bbc",
        "id": "V0tXBeIk5H6m"
      },
      "execution_count": null,
      "outputs": [
        {
          "output_type": "execute_result",
          "data": {
            "text/plain": [
              "1e-05"
            ]
          },
          "metadata": {},
          "execution_count": 48
        }
      ]
    },
    {
      "cell_type": "code",
      "source": [
        "best_epoch"
      ],
      "metadata": {
        "colab": {
          "base_uri": "https://localhost:8080/"
        },
        "outputId": "5eb5a8b5-7aec-4423-f7a1-75bb62e2d8bf",
        "id": "iiCIA6Qo5H6z"
      },
      "execution_count": null,
      "outputs": [
        {
          "output_type": "execute_result",
          "data": {
            "text/plain": [
              "9"
            ]
          },
          "metadata": {},
          "execution_count": 49
        }
      ]
    },
    {
      "cell_type": "code",
      "source": [
        "valid_accuracy_max"
      ],
      "metadata": {
        "colab": {
          "base_uri": "https://localhost:8080/"
        },
        "outputId": "ecb2c674-d816-49d3-89e7-809aa2f87dd2",
        "id": "N-7BQLWl5H60"
      },
      "execution_count": null,
      "outputs": [
        {
          "output_type": "execute_result",
          "data": {
            "text/plain": [
              "0.9016"
            ]
          },
          "metadata": {},
          "execution_count": 50
        }
      ]
    },
    {
      "cell_type": "code",
      "source": [
        "evaluate(model, test_data)"
      ],
      "metadata": {
        "colab": {
          "base_uri": "https://localhost:8080/"
        },
        "outputId": "7cd77274-e73d-40cf-b8b1-6603b261b556",
        "id": "LrxHCKJp5H60"
      },
      "execution_count": null,
      "outputs": [
        {
          "output_type": "stream",
          "name": "stdout",
          "text": [
            "Test Accuracy:  0.895\n"
          ]
        }
      ]
    },
    {
      "cell_type": "code",
      "source": [
        "conf_mat(test_labels,pred_labels)"
      ],
      "metadata": {
        "colab": {
          "base_uri": "https://localhost:8080/",
          "height": 358
        },
        "outputId": "e8a24da3-e23c-454a-ace4-b2391d23d0b4",
        "id": "UzsaPkb95H61"
      },
      "execution_count": null,
      "outputs": [
        {
          "output_type": "display_data",
          "data": {
            "text/plain": [
              "<Figure size 360x360 with 1 Axes>"
            ],
            "image/png": "[encoded data removed]"
          },
          "metadata": {
            "needs_background": "light"
          }
        }
      ]
    },
    {
      "cell_type": "code",
      "source": [
        "from sklearn.metrics import multilabel_confusion_matrix as mcm ,  classification_report\n",
        "print(classification_report(test_labels, pred_labels))"
      ],
      "metadata": {
        "colab": {
          "base_uri": "https://localhost:8080/"
        },
        "id": "9G3XFuhM3eVE",
        "outputId": "a9f521b6-c306-45c4-d979-025c6afd9724"
      },
      "execution_count": null,
      "outputs": [
        {
          "output_type": "stream",
          "name": "stdout",
          "text": [
            "              precision    recall  f1-score   support\n",
            "\n",
            "           0       0.95      0.84      0.89      5000\n",
            "           1       0.85      0.95      0.90      5000\n",
            "\n",
            "    accuracy                           0.89     10000\n",
            "   macro avg       0.90      0.89      0.89     10000\n",
            "weighted avg       0.90      0.89      0.89     10000\n",
            "\n"
          ]
        }
      ]
    },
    {
      "cell_type": "code",
      "source": [
        "def evalscore(tp,tn,fp,fn):\n",
        "  precision=tp/(tp+fp)\n",
        "  recall=tp/(tp+fn)\n",
        "  specificity=tn/(tn+fp)\n",
        "  f1=(2*precision*recall)/(precision+recall)\n",
        "\n",
        "  print(f'F1-score:    {f1:.3f}')\n",
        "  print(f'Precision:   {precision:.3f}')\n",
        "  print(f'Recall:      {recall:.3f}')\n",
        "  print(f'Specificity: {specificity:.3f}')"
      ],
      "metadata": {
        "id": "EAjv_SCuw9wT"
      },
      "execution_count": null,
      "outputs": []
    },
    {
      "cell_type": "code",
      "source": [
        "tp=4188\n",
        "tn=4759\n",
        "fp=241\n",
        "fn=812\n",
        "\n",
        "evalscore(tp,tn,fp,fn)"
      ],
      "metadata": {
        "colab": {
          "base_uri": "https://localhost:8080/"
        },
        "outputId": "28593202-3b46-4f16-8412-b6156195362f",
        "id": "9Esvm4jGw9wT"
      },
      "execution_count": null,
      "outputs": [
        {
          "output_type": "stream",
          "name": "stdout",
          "text": [
            "F1-score:    0.888\n",
            "Precision:   0.946\n",
            "Recall:      0.838\n",
            "Specificity: 0.952\n"
          ]
        }
      ]
    },
    {
      "cell_type": "markdown",
      "source": [
        "# Testing Overall Best Model"
      ],
      "metadata": {
        "id": "NXLQzFufObP6"
      }
    },
    {
      "cell_type": "code",
      "source": [
        "checkpoint_path = '/content/drive/MyDrive/bert/checkpointsacc/check.pt'\n",
        "best_model = '/content/drive/MyDrive/bert/bestmodelacc/model.pt'"
      ],
      "metadata": {
        "id": "Mik7jV9ulSHu"
      },
      "execution_count": null,
      "outputs": []
    },
    {
      "cell_type": "code",
      "source": [
        "model = BertClassifier()\n",
        "optimizer = Adam(model.parameters(), lr= LR)\n",
        "model, optimizer,best_epoch,valid_accuracy_max, LR = load_model_accuracy(best_model, model, optimizer)"
      ],
      "metadata": {
        "id": "es3YVnZ9bsK4",
        "colab": {
          "base_uri": "https://localhost:8080/"
        },
        "outputId": "fd753fd8-6d19-4859-aa02-ca32ccd7c05b"
      },
      "execution_count": null,
      "outputs": [
        {
          "output_type": "stream",
          "name": "stderr",
          "text": [
            "Some weights of the model checkpoint at bert-base-cased were not used when initializing BertModel: ['cls.predictions.bias', 'cls.predictions.transform.LayerNorm.bias', 'cls.predictions.decoder.weight', 'cls.seq_relationship.bias', 'cls.predictions.transform.dense.bias', 'cls.seq_relationship.weight', 'cls.predictions.transform.LayerNorm.weight', 'cls.predictions.transform.dense.weight']\n",
            "- This IS expected if you are initializing BertModel from the checkpoint of a model trained on another task or with another architecture (e.g. initializing a BertForSequenceClassification model from a BertForPreTraining model).\n",
            "- This IS NOT expected if you are initializing BertModel from the checkpoint of a model that you expect to be exactly identical (initializing a BertForSequenceClassification model from a BertForSequenceClassification model).\n"
          ]
        }
      ]
    },
    {
      "cell_type": "code",
      "source": [
        "LR"
      ],
      "metadata": {
        "colab": {
          "base_uri": "https://localhost:8080/"
        },
        "id": "DJiKnWKilWNc",
        "outputId": "023c1a24-86a9-4255-8f8d-02f0522b6fc6"
      },
      "execution_count": null,
      "outputs": [
        {
          "output_type": "execute_result",
          "data": {
            "text/plain": [
              "5e-06"
            ]
          },
          "metadata": {},
          "execution_count": 28
        }
      ]
    },
    {
      "cell_type": "code",
      "source": [
        "best_epoch"
      ],
      "metadata": {
        "colab": {
          "base_uri": "https://localhost:8080/"
        },
        "id": "7Q3wSC-_lX0F",
        "outputId": "e8982665-bfdb-467d-9ec3-5918c768569e"
      },
      "execution_count": null,
      "outputs": [
        {
          "output_type": "execute_result",
          "data": {
            "text/plain": [
              "8"
            ]
          },
          "metadata": {},
          "execution_count": 29
        }
      ]
    },
    {
      "cell_type": "code",
      "source": [
        "valid_accuracy_max"
      ],
      "metadata": {
        "colab": {
          "base_uri": "https://localhost:8080/"
        },
        "id": "IKss49fSlTdW",
        "outputId": "af8c0b62-b459-4f81-d276-3ae304db10b5"
      },
      "execution_count": null,
      "outputs": [
        {
          "output_type": "execute_result",
          "data": {
            "text/plain": [
              "0.9366"
            ]
          },
          "metadata": {},
          "execution_count": 30
        }
      ]
    },
    {
      "cell_type": "code",
      "source": [
        "import sklearn.metrics as metrics\n",
        "from sklearn.metrics import multilabel_confusion_matrix as mcm ,  classification_report\n",
        "pred_labels =[]\n",
        "test_labels=[]\n",
        "def evaluate(model, test_data):\n",
        "\n",
        "    test = Dataset(test_data)\n",
        "    test_dataloader = torch.utils.data.DataLoader(test, batch_size=2)\n",
        "\n",
        "    use_cuda = torch.cuda.is_available()\n",
        "    device = torch.device(\"cuda\" if use_cuda else \"cpu\")\n",
        "\n",
        "    if use_cuda:\n",
        "\n",
        "        model = model.cuda()\n",
        "\n",
        "    total_acc_test = 0\n",
        "    with torch.no_grad():\n",
        "\n",
        "        for test_input, test_label in test_dataloader:\n",
        "              test_label = test_label.to(device)\n",
        "              \n",
        "              mask = test_input['attention_mask'].to(device)\n",
        "              input_id = test_input['input_ids'].squeeze(1).to(device)\n",
        "\n",
        "              output = model(input_id, mask)\n",
        "              acc = (output.argmax(dim=1) == test_label).sum().item()\n",
        "              total_acc_test += acc\n",
        "              test_labels.append(test_label.cpu().numpy()[0])\n",
        "              test_labels.append(test_label.cpu().numpy()[1])\n",
        "              pred_labels.append(output.argmax(dim=1).cpu().numpy()[0])\n",
        "              pred_labels.append(output.argmax(dim=1).cpu().numpy()[1])\n",
        "\n",
        "    print(f'Test Accuracy: {total_acc_test / len(test_data): .3f}')\n",
        "evaluate(model, test_data)"
      ],
      "metadata": {
        "id": "WUXd3AnEYOum",
        "colab": {
          "base_uri": "https://localhost:8080/"
        },
        "outputId": "962ec652-5e86-4c88-e642-33431b9cace7"
      },
      "execution_count": null,
      "outputs": [
        {
          "output_type": "stream",
          "name": "stdout",
          "text": [
            "Test Accuracy:  0.935\n"
          ]
        }
      ]
    },
    {
      "cell_type": "code",
      "source": [
        "# confusion matrix\n",
        "from sklearn.metrics import confusion_matrix\n",
        "conf_matrix = confusion_matrix(test_labels, pred_labels)\n",
        "fig, ax = plt.subplots(figsize=(5, 5))\n",
        "ax.matshow(conf_matrix, cmap=plt.cm.Blues, alpha=0.3)\n",
        "for i in range(conf_matrix.shape[0]):\n",
        "    for j in range(conf_matrix.shape[1]):\n",
        "        ax.text(x=j, y=i,s=conf_matrix[i, j], va='center', ha='center', size='xx-large')\n",
        " \n",
        "plt.xlabel('Predictions', fontsize=18)\n",
        "plt.ylabel('Actuals', fontsize=18)\n",
        "plt.title('Confusion Matrix', fontsize=18)\n",
        "plt.show()"
      ],
      "metadata": {
        "id": "-OTLQZ_7Y-PI",
        "colab": {
          "base_uri": "https://localhost:8080/",
          "height": 358
        },
        "outputId": "3721bef7-44f2-45ac-d3f2-73c54488549a"
      },
      "execution_count": null,
      "outputs": [
        {
          "output_type": "display_data",
          "data": {
            "text/plain": [
              "<Figure size 360x360 with 1 Axes>"
            ],
            "image/png": "[encoded data removed]"
          },
          "metadata": {
            "needs_background": "light"
          }
        }
      ]
    },
    {
      "cell_type": "code",
      "source": [
        "def evalscore(tp,tn,fp,fn):\n",
        "  precision=tp/(tp+fp)\n",
        "  recall=tp/(tp+fn)\n",
        "  specificity=tn/(tn+fp)\n",
        "  f1=(2*precision*recall)/(precision+recall)\n",
        "\n",
        "  print(f'F1-score:    {f1:.3f}')\n",
        "  print(f'Precision:   {precision:.3f}')\n",
        "  print(f'Recall:      {recall:.3f}')\n",
        "  print(f'Specificity: {specificity:.3f}')"
      ],
      "metadata": {
        "id": "PTjCI0-tv_60"
      },
      "execution_count": null,
      "outputs": []
    },
    {
      "cell_type": "code",
      "source": [
        "tp=4699\n",
        "tn=4648\n",
        "fp=352\n",
        "fn=301\n",
        "\n",
        "evalscore(tp,tn,fp,fn)"
      ],
      "metadata": {
        "colab": {
          "base_uri": "https://localhost:8080/"
        },
        "id": "VZ5-5U6mwBHV",
        "outputId": "036cb11f-dd57-4b67-b597-af123dc2509f"
      },
      "execution_count": null,
      "outputs": [
        {
          "output_type": "stream",
          "name": "stdout",
          "text": [
            "F1-score:    0.935\n",
            "Precision:   0.930\n",
            "Recall:      0.940\n",
            "Specificity: 0.930\n"
          ]
        }
      ]
    }
  ],
  "metadata": {
    "colab": {
      "provenance": [],
      "toc_visible": true
    },
    "gpuClass": "standard",
    "kernelspec": {
      "display_name": "Python 3",
      "name": "python3"
    },
    "language_info": {
      "name": "python"
    },
    "widgets": {
      "application/vnd.jupyter.widget-state+json": {
        "3c3adf97df7f4ed19703459acda6904d": {
          "model_module": "@jupyter-widgets/controls",
          "model_module_version": "1.5.0",
          "model_name": "FloatProgressModel",
          "state": {
            "_dom_classes": [],
            "_model_module": "@jupyter-widgets/controls",
            "_model_module_version": "1.5.0",
            "_model_name": "FloatProgressModel",
            "_view_count": null,
            "_view_module": "@jupyter-widgets/controls",
            "_view_module_version": "1.5.0",
            "_view_name": "ProgressView",
            "bar_style": "success",
            "description": "",
            "description_tooltip": null,
            "layout": "IPY_MODEL_dc2560911d4d485095be653aaa2f6c27",
            "max": 435779157,
            "min": 0,
            "orientation": "horizontal",
            "style": "IPY_MODEL_ef3c0266ab80476daba23e0f0889af36",
            "value": 435779157
          }
        },
        "5195f43b2e254005b77646fff2cec079": {
          "model_module": "@jupyter-widgets/controls",
          "model_module_version": "1.5.0",
          "model_name": "HTMLModel",
          "state": {
            "_dom_classes": [],
            "_model_module": "@jupyter-widgets/controls",
            "_model_module_version": "1.5.0",
            "_model_name": "HTMLModel",
            "_view_count": null,
            "_view_module": "@jupyter-widgets/controls",
            "_view_module_version": "1.5.0",
            "_view_name": "HTMLView",
            "description": "",
            "description_tooltip": null,
            "layout": "IPY_MODEL_b5f3edf70ab043e58acf9640922e9c46",
            "placeholder": "​",
            "style": "IPY_MODEL_de48fce25d5144f6843c753fc7746ab7",
            "value": "Downloading: 100%"
          }
        },
        "560724cc77924a04b62b63618a149155": {
          "model_module": "@jupyter-widgets/controls",
          "model_module_version": "1.5.0",
          "model_name": "HTMLModel",
          "state": {
            "_dom_classes": [],
            "_model_module": "@jupyter-widgets/controls",
            "_model_module_version": "1.5.0",
            "_model_name": "HTMLModel",
            "_view_count": null,
            "_view_module": "@jupyter-widgets/controls",
            "_view_module_version": "1.5.0",
            "_view_name": "HTMLView",
            "description": "",
            "description_tooltip": null,
            "layout": "IPY_MODEL_a35a5eb9316f4b0cb98d1e853b294094",
            "placeholder": "​",
            "style": "IPY_MODEL_5eaf63ecfdde466fa175b02b7dc55ccd",
            "value": " 436M/436M [00:06&lt;00:00, 74.0MB/s]"
          }
        },
        "5eaf63ecfdde466fa175b02b7dc55ccd": {
          "model_module": "@jupyter-widgets/controls",
          "model_module_version": "1.5.0",
          "model_name": "DescriptionStyleModel",
          "state": {
            "_model_module": "@jupyter-widgets/controls",
            "_model_module_version": "1.5.0",
            "_model_name": "DescriptionStyleModel",
            "_view_count": null,
            "_view_module": "@jupyter-widgets/base",
            "_view_module_version": "1.2.0",
            "_view_name": "StyleView",
            "description_width": ""
          }
        },
        "a35a5eb9316f4b0cb98d1e853b294094": {
          "model_module": "@jupyter-widgets/base",
          "model_module_version": "1.2.0",
          "model_name": "LayoutModel",
          "state": {
            "_model_module": "@jupyter-widgets/base",
            "_model_module_version": "1.2.0",
            "_model_name": "LayoutModel",
            "_view_count": null,
            "_view_module": "@jupyter-widgets/base",
            "_view_module_version": "1.2.0",
            "_view_name": "LayoutView",
            "align_content": null,
            "align_items": null,
            "align_self": null,
            "border": null,
            "bottom": null,
            "display": null,
            "flex": null,
            "flex_flow": null,
            "grid_area": null,
            "grid_auto_columns": null,
            "grid_auto_flow": null,
            "grid_auto_rows": null,
            "grid_column": null,
            "grid_gap": null,
            "grid_row": null,
            "grid_template_areas": null,
            "grid_template_columns": null,
            "grid_template_rows": null,
            "height": null,
            "justify_content": null,
            "justify_items": null,
            "left": null,
            "margin": null,
            "max_height": null,
            "max_width": null,
            "min_height": null,
            "min_width": null,
            "object_fit": null,
            "object_position": null,
            "order": null,
            "overflow": null,
            "overflow_x": null,
            "overflow_y": null,
            "padding": null,
            "right": null,
            "top": null,
            "visibility": null,
            "width": null
          }
        },
        "a837b22c50ed43358951c423c84a9044": {
          "model_module": "@jupyter-widgets/base",
          "model_module_version": "1.2.0",
          "model_name": "LayoutModel",
          "state": {
            "_model_module": "@jupyter-widgets/base",
            "_model_module_version": "1.2.0",
            "_model_name": "LayoutModel",
            "_view_count": null,
            "_view_module": "@jupyter-widgets/base",
            "_view_module_version": "1.2.0",
            "_view_name": "LayoutView",
            "align_content": null,
            "align_items": null,
            "align_self": null,
            "border": null,
            "bottom": null,
            "display": null,
            "flex": null,
            "flex_flow": null,
            "grid_area": null,
            "grid_auto_columns": null,
            "grid_auto_flow": null,
            "grid_auto_rows": null,
            "grid_column": null,
            "grid_gap": null,
            "grid_row": null,
            "grid_template_areas": null,
            "grid_template_columns": null,
            "grid_template_rows": null,
            "height": null,
            "justify_content": null,
            "justify_items": null,
            "left": null,
            "margin": null,
            "max_height": null,
            "max_width": null,
            "min_height": null,
            "min_width": null,
            "object_fit": null,
            "object_position": null,
            "order": null,
            "overflow": null,
            "overflow_x": null,
            "overflow_y": null,
            "padding": null,
            "right": null,
            "top": null,
            "visibility": null,
            "width": null
          }
        },
        "b5f3edf70ab043e58acf9640922e9c46": {
          "model_module": "@jupyter-widgets/base",
          "model_module_version": "1.2.0",
          "model_name": "LayoutModel",
          "state": {
            "_model_module": "@jupyter-widgets/base",
            "_model_module_version": "1.2.0",
            "_model_name": "LayoutModel",
            "_view_count": null,
            "_view_module": "@jupyter-widgets/base",
            "_view_module_version": "1.2.0",
            "_view_name": "LayoutView",
            "align_content": null,
            "align_items": null,
            "align_self": null,
            "border": null,
            "bottom": null,
            "display": null,
            "flex": null,
            "flex_flow": null,
            "grid_area": null,
            "grid_auto_columns": null,
            "grid_auto_flow": null,
            "grid_auto_rows": null,
            "grid_column": null,
            "grid_gap": null,
            "grid_row": null,
            "grid_template_areas": null,
            "grid_template_columns": null,
            "grid_template_rows": null,
            "height": null,
            "justify_content": null,
            "justify_items": null,
            "left": null,
            "margin": null,
            "max_height": null,
            "max_width": null,
            "min_height": null,
            "min_width": null,
            "object_fit": null,
            "object_position": null,
            "order": null,
            "overflow": null,
            "overflow_x": null,
            "overflow_y": null,
            "padding": null,
            "right": null,
            "top": null,
            "visibility": null,
            "width": null
          }
        },
        "dc2560911d4d485095be653aaa2f6c27": {
          "model_module": "@jupyter-widgets/base",
          "model_module_version": "1.2.0",
          "model_name": "LayoutModel",
          "state": {
            "_model_module": "@jupyter-widgets/base",
            "_model_module_version": "1.2.0",
            "_model_name": "LayoutModel",
            "_view_count": null,
            "_view_module": "@jupyter-widgets/base",
            "_view_module_version": "1.2.0",
            "_view_name": "LayoutView",
            "align_content": null,
            "align_items": null,
            "align_self": null,
            "border": null,
            "bottom": null,
            "display": null,
            "flex": null,
            "flex_flow": null,
            "grid_area": null,
            "grid_auto_columns": null,
            "grid_auto_flow": null,
            "grid_auto_rows": null,
            "grid_column": null,
            "grid_gap": null,
            "grid_row": null,
            "grid_template_areas": null,
            "grid_template_columns": null,
            "grid_template_rows": null,
            "height": null,
            "justify_content": null,
            "justify_items": null,
            "left": null,
            "margin": null,
            "max_height": null,
            "max_width": null,
            "min_height": null,
            "min_width": null,
            "object_fit": null,
            "object_position": null,
            "order": null,
            "overflow": null,
            "overflow_x": null,
            "overflow_y": null,
            "padding": null,
            "right": null,
            "top": null,
            "visibility": null,
            "width": null
          }
        },
        "de48fce25d5144f6843c753fc7746ab7": {
          "model_module": "@jupyter-widgets/controls",
          "model_module_version": "1.5.0",
          "model_name": "DescriptionStyleModel",
          "state": {
            "_model_module": "@jupyter-widgets/controls",
            "_model_module_version": "1.5.0",
            "_model_name": "DescriptionStyleModel",
            "_view_count": null,
            "_view_module": "@jupyter-widgets/base",
            "_view_module_version": "1.2.0",
            "_view_name": "StyleView",
            "description_width": ""
          }
        },
        "e3a8a6e0dac746bc91b036fc72217f67": {
          "model_module": "@jupyter-widgets/controls",
          "model_module_version": "1.5.0",
          "model_name": "HBoxModel",
          "state": {
            "_dom_classes": [],
            "_model_module": "@jupyter-widgets/controls",
            "_model_module_version": "1.5.0",
            "_model_name": "HBoxModel",
            "_view_count": null,
            "_view_module": "@jupyter-widgets/controls",
            "_view_module_version": "1.5.0",
            "_view_name": "HBoxView",
            "box_style": "",
            "children": [
              "IPY_MODEL_5195f43b2e254005b77646fff2cec079",
              "IPY_MODEL_3c3adf97df7f4ed19703459acda6904d",
              "IPY_MODEL_560724cc77924a04b62b63618a149155"
            ],
            "layout": "IPY_MODEL_a837b22c50ed43358951c423c84a9044"
          }
        },
        "ef3c0266ab80476daba23e0f0889af36": {
          "model_module": "@jupyter-widgets/controls",
          "model_module_version": "1.5.0",
          "model_name": "ProgressStyleModel",
          "state": {
            "_model_module": "@jupyter-widgets/controls",
            "_model_module_version": "1.5.0",
            "_model_name": "ProgressStyleModel",
            "_view_count": null,
            "_view_module": "@jupyter-widgets/base",
            "_view_module_version": "1.2.0",
            "_view_name": "StyleView",
            "bar_color": null,
            "description_width": ""
          }
        },
        "c5320650a23c4be4975ebb6594dd8806": {
          "model_module": "@jupyter-widgets/controls",
          "model_name": "HBoxModel",
          "model_module_version": "1.5.0",
          "state": {
            "_dom_classes": [],
            "_model_module": "@jupyter-widgets/controls",
            "_model_module_version": "1.5.0",
            "_model_name": "HBoxModel",
            "_view_count": null,
            "_view_module": "@jupyter-widgets/controls",
            "_view_module_version": "1.5.0",
            "_view_name": "HBoxView",
            "box_style": "",
            "children": [
              "IPY_MODEL_22e7ba5940f34c35a58560c621e47fc7",
              "IPY_MODEL_7edee086ea864aa1acc05021daf83d7b",
              "IPY_MODEL_1e05127860e54ddda333972e2259412b"
            ],
            "layout": "IPY_MODEL_74c3c4f258c54a7eb082d3bb98d05aaf"
          }
        },
        "22e7ba5940f34c35a58560c621e47fc7": {
          "model_module": "@jupyter-widgets/controls",
          "model_name": "HTMLModel",
          "model_module_version": "1.5.0",
          "state": {
            "_dom_classes": [],
            "_model_module": "@jupyter-widgets/controls",
            "_model_module_version": "1.5.0",
            "_model_name": "HTMLModel",
            "_view_count": null,
            "_view_module": "@jupyter-widgets/controls",
            "_view_module_version": "1.5.0",
            "_view_name": "HTMLView",
            "description": "",
            "description_tooltip": null,
            "layout": "IPY_MODEL_e25c0edc2eea4e3e8363dc9d10e4ce18",
            "placeholder": "​",
            "style": "IPY_MODEL_88c307e6f4fe402182f19eb52a60828b",
            "value": "Downloading: 100%"
          }
        },
        "7edee086ea864aa1acc05021daf83d7b": {
          "model_module": "@jupyter-widgets/controls",
          "model_name": "FloatProgressModel",
          "model_module_version": "1.5.0",
          "state": {
            "_dom_classes": [],
            "_model_module": "@jupyter-widgets/controls",
            "_model_module_version": "1.5.0",
            "_model_name": "FloatProgressModel",
            "_view_count": null,
            "_view_module": "@jupyter-widgets/controls",
            "_view_module_version": "1.5.0",
            "_view_name": "ProgressView",
            "bar_style": "success",
            "description": "",
            "description_tooltip": null,
            "layout": "IPY_MODEL_f441911bf9164ea99438fa142ddc53d3",
            "max": 435779157,
            "min": 0,
            "orientation": "horizontal",
            "style": "IPY_MODEL_9105facbe6804365985ce27e61042a60",
            "value": 435779157
          }
        },
        "1e05127860e54ddda333972e2259412b": {
          "model_module": "@jupyter-widgets/controls",
          "model_name": "HTMLModel",
          "model_module_version": "1.5.0",
          "state": {
            "_dom_classes": [],
            "_model_module": "@jupyter-widgets/controls",
            "_model_module_version": "1.5.0",
            "_model_name": "HTMLModel",
            "_view_count": null,
            "_view_module": "@jupyter-widgets/controls",
            "_view_module_version": "1.5.0",
            "_view_name": "HTMLView",
            "description": "",
            "description_tooltip": null,
            "layout": "IPY_MODEL_305a0aa9d27a41fe84de801cbe7ad763",
            "placeholder": "​",
            "style": "IPY_MODEL_b6217b66eedd4a3cac88eb9c911dcc6b",
            "value": " 436M/436M [00:10&lt;00:00, 29.2MB/s]"
          }
        },
        "74c3c4f258c54a7eb082d3bb98d05aaf": {
          "model_module": "@jupyter-widgets/base",
          "model_name": "LayoutModel",
          "model_module_version": "1.2.0",
          "state": {
            "_model_module": "@jupyter-widgets/base",
            "_model_module_version": "1.2.0",
            "_model_name": "LayoutModel",
            "_view_count": null,
            "_view_module": "@jupyter-widgets/base",
            "_view_module_version": "1.2.0",
            "_view_name": "LayoutView",
            "align_content": null,
            "align_items": null,
            "align_self": null,
            "border": null,
            "bottom": null,
            "display": null,
            "flex": null,
            "flex_flow": null,
            "grid_area": null,
            "grid_auto_columns": null,
            "grid_auto_flow": null,
            "grid_auto_rows": null,
            "grid_column": null,
            "grid_gap": null,
            "grid_row": null,
            "grid_template_areas": null,
            "grid_template_columns": null,
            "grid_template_rows": null,
            "height": null,
            "justify_content": null,
            "justify_items": null,
            "left": null,
            "margin": null,
            "max_height": null,
            "max_width": null,
            "min_height": null,
            "min_width": null,
            "object_fit": null,
            "object_position": null,
            "order": null,
            "overflow": null,
            "overflow_x": null,
            "overflow_y": null,
            "padding": null,
            "right": null,
            "top": null,
            "visibility": null,
            "width": null
          }
        },
        "e25c0edc2eea4e3e8363dc9d10e4ce18": {
          "model_module": "@jupyter-widgets/base",
          "model_name": "LayoutModel",
          "model_module_version": "1.2.0",
          "state": {
            "_model_module": "@jupyter-widgets/base",
            "_model_module_version": "1.2.0",
            "_model_name": "LayoutModel",
            "_view_count": null,
            "_view_module": "@jupyter-widgets/base",
            "_view_module_version": "1.2.0",
            "_view_name": "LayoutView",
            "align_content": null,
            "align_items": null,
            "align_self": null,
            "border": null,
            "bottom": null,
            "display": null,
            "flex": null,
            "flex_flow": null,
            "grid_area": null,
            "grid_auto_columns": null,
            "grid_auto_flow": null,
            "grid_auto_rows": null,
            "grid_column": null,
            "grid_gap": null,
            "grid_row": null,
            "grid_template_areas": null,
            "grid_template_columns": null,
            "grid_template_rows": null,
            "height": null,
            "justify_content": null,
            "justify_items": null,
            "left": null,
            "margin": null,
            "max_height": null,
            "max_width": null,
            "min_height": null,
            "min_width": null,
            "object_fit": null,
            "object_position": null,
            "order": null,
            "overflow": null,
            "overflow_x": null,
            "overflow_y": null,
            "padding": null,
            "right": null,
            "top": null,
            "visibility": null,
            "width": null
          }
        },
        "88c307e6f4fe402182f19eb52a60828b": {
          "model_module": "@jupyter-widgets/controls",
          "model_name": "DescriptionStyleModel",
          "model_module_version": "1.5.0",
          "state": {
            "_model_module": "@jupyter-widgets/controls",
            "_model_module_version": "1.5.0",
            "_model_name": "DescriptionStyleModel",
            "_view_count": null,
            "_view_module": "@jupyter-widgets/base",
            "_view_module_version": "1.2.0",
            "_view_name": "StyleView",
            "description_width": ""
          }
        },
        "f441911bf9164ea99438fa142ddc53d3": {
          "model_module": "@jupyter-widgets/base",
          "model_name": "LayoutModel",
          "model_module_version": "1.2.0",
          "state": {
            "_model_module": "@jupyter-widgets/base",
            "_model_module_version": "1.2.0",
            "_model_name": "LayoutModel",
            "_view_count": null,
            "_view_module": "@jupyter-widgets/base",
            "_view_module_version": "1.2.0",
            "_view_name": "LayoutView",
            "align_content": null,
            "align_items": null,
            "align_self": null,
            "border": null,
            "bottom": null,
            "display": null,
            "flex": null,
            "flex_flow": null,
            "grid_area": null,
            "grid_auto_columns": null,
            "grid_auto_flow": null,
            "grid_auto_rows": null,
            "grid_column": null,
            "grid_gap": null,
            "grid_row": null,
            "grid_template_areas": null,
            "grid_template_columns": null,
            "grid_template_rows": null,
            "height": null,
            "justify_content": null,
            "justify_items": null,
            "left": null,
            "margin": null,
            "max_height": null,
            "max_width": null,
            "min_height": null,
            "min_width": null,
            "object_fit": null,
            "object_position": null,
            "order": null,
            "overflow": null,
            "overflow_x": null,
            "overflow_y": null,
            "padding": null,
            "right": null,
            "top": null,
            "visibility": null,
            "width": null
          }
        },
        "9105facbe6804365985ce27e61042a60": {
          "model_module": "@jupyter-widgets/controls",
          "model_name": "ProgressStyleModel",
          "model_module_version": "1.5.0",
          "state": {
            "_model_module": "@jupyter-widgets/controls",
            "_model_module_version": "1.5.0",
            "_model_name": "ProgressStyleModel",
            "_view_count": null,
            "_view_module": "@jupyter-widgets/base",
            "_view_module_version": "1.2.0",
            "_view_name": "StyleView",
            "bar_color": null,
            "description_width": ""
          }
        },
        "305a0aa9d27a41fe84de801cbe7ad763": {
          "model_module": "@jupyter-widgets/base",
          "model_name": "LayoutModel",
          "model_module_version": "1.2.0",
          "state": {
            "_model_module": "@jupyter-widgets/base",
            "_model_module_version": "1.2.0",
            "_model_name": "LayoutModel",
            "_view_count": null,
            "_view_module": "@jupyter-widgets/base",
            "_view_module_version": "1.2.0",
            "_view_name": "LayoutView",
            "align_content": null,
            "align_items": null,
            "align_self": null,
            "border": null,
            "bottom": null,
            "display": null,
            "flex": null,
            "flex_flow": null,
            "grid_area": null,
            "grid_auto_columns": null,
            "grid_auto_flow": null,
            "grid_auto_rows": null,
            "grid_column": null,
            "grid_gap": null,
            "grid_row": null,
            "grid_template_areas": null,
            "grid_template_columns": null,
            "grid_template_rows": null,
            "height": null,
            "justify_content": null,
            "justify_items": null,
            "left": null,
            "margin": null,
            "max_height": null,
            "max_width": null,
            "min_height": null,
            "min_width": null,
            "object_fit": null,
            "object_position": null,
            "order": null,
            "overflow": null,
            "overflow_x": null,
            "overflow_y": null,
            "padding": null,
            "right": null,
            "top": null,
            "visibility": null,
            "width": null
          }
        },
        "b6217b66eedd4a3cac88eb9c911dcc6b": {
          "model_module": "@jupyter-widgets/controls",
          "model_name": "DescriptionStyleModel",
          "model_module_version": "1.5.0",
          "state": {
            "_model_module": "@jupyter-widgets/controls",
            "_model_module_version": "1.5.0",
            "_model_name": "DescriptionStyleModel",
            "_view_count": null,
            "_view_module": "@jupyter-widgets/base",
            "_view_module_version": "1.2.0",
            "_view_name": "StyleView",
            "description_width": ""
          }
        },
        "0f38ab4f52044f9986f2aac020187e96": {
          "model_module": "@jupyter-widgets/controls",
          "model_name": "HBoxModel",
          "model_module_version": "1.5.0",
          "state": {
            "_dom_classes": [],
            "_model_module": "@jupyter-widgets/controls",
            "_model_module_version": "1.5.0",
            "_model_name": "HBoxModel",
            "_view_count": null,
            "_view_module": "@jupyter-widgets/controls",
            "_view_module_version": "1.5.0",
            "_view_name": "HBoxView",
            "box_style": "",
            "children": [
              "IPY_MODEL_6ef5606f1b3347b9917fd906099bb46d",
              "IPY_MODEL_6f5055a8ee234ffba4b302a3e811c263",
              "IPY_MODEL_08ee47f5b8bf49a9a556aa308f6e889d"
            ],
            "layout": "IPY_MODEL_b477724318514c9bb35726e83da8c40e"
          }
        },
        "6ef5606f1b3347b9917fd906099bb46d": {
          "model_module": "@jupyter-widgets/controls",
          "model_name": "HTMLModel",
          "model_module_version": "1.5.0",
          "state": {
            "_dom_classes": [],
            "_model_module": "@jupyter-widgets/controls",
            "_model_module_version": "1.5.0",
            "_model_name": "HTMLModel",
            "_view_count": null,
            "_view_module": "@jupyter-widgets/controls",
            "_view_module_version": "1.5.0",
            "_view_name": "HTMLView",
            "description": "",
            "description_tooltip": null,
            "layout": "IPY_MODEL_90691e25813e4faaa31d5c358c7777de",
            "placeholder": "​",
            "style": "IPY_MODEL_decce320e6e04f92a92b87918b33634d",
            "value": "Downloading (…)solve/main/vocab.txt: 100%"
          }
        },
        "6f5055a8ee234ffba4b302a3e811c263": {
          "model_module": "@jupyter-widgets/controls",
          "model_name": "FloatProgressModel",
          "model_module_version": "1.5.0",
          "state": {
            "_dom_classes": [],
            "_model_module": "@jupyter-widgets/controls",
            "_model_module_version": "1.5.0",
            "_model_name": "FloatProgressModel",
            "_view_count": null,
            "_view_module": "@jupyter-widgets/controls",
            "_view_module_version": "1.5.0",
            "_view_name": "ProgressView",
            "bar_style": "success",
            "description": "",
            "description_tooltip": null,
            "layout": "IPY_MODEL_f16e8b87e6a24a0f84ad089a227951f4",
            "max": 213450,
            "min": 0,
            "orientation": "horizontal",
            "style": "IPY_MODEL_1b6899aa88eb4f1fad093892f907253e",
            "value": 213450
          }
        },
        "08ee47f5b8bf49a9a556aa308f6e889d": {
          "model_module": "@jupyter-widgets/controls",
          "model_name": "HTMLModel",
          "model_module_version": "1.5.0",
          "state": {
            "_dom_classes": [],
            "_model_module": "@jupyter-widgets/controls",
            "_model_module_version": "1.5.0",
            "_model_name": "HTMLModel",
            "_view_count": null,
            "_view_module": "@jupyter-widgets/controls",
            "_view_module_version": "1.5.0",
            "_view_name": "HTMLView",
            "description": "",
            "description_tooltip": null,
            "layout": "IPY_MODEL_160620393a5a4b86a3e55aa5403b0c64",
            "placeholder": "​",
            "style": "IPY_MODEL_c5a0227f18bc418cbc6a2deb99c053f9",
            "value": " 213k/213k [00:00&lt;00:00, 243kB/s]"
          }
        },
        "b477724318514c9bb35726e83da8c40e": {
          "model_module": "@jupyter-widgets/base",
          "model_name": "LayoutModel",
          "model_module_version": "1.2.0",
          "state": {
            "_model_module": "@jupyter-widgets/base",
            "_model_module_version": "1.2.0",
            "_model_name": "LayoutModel",
            "_view_count": null,
            "_view_module": "@jupyter-widgets/base",
            "_view_module_version": "1.2.0",
            "_view_name": "LayoutView",
            "align_content": null,
            "align_items": null,
            "align_self": null,
            "border": null,
            "bottom": null,
            "display": null,
            "flex": null,
            "flex_flow": null,
            "grid_area": null,
            "grid_auto_columns": null,
            "grid_auto_flow": null,
            "grid_auto_rows": null,
            "grid_column": null,
            "grid_gap": null,
            "grid_row": null,
            "grid_template_areas": null,
            "grid_template_columns": null,
            "grid_template_rows": null,
            "height": null,
            "justify_content": null,
            "justify_items": null,
            "left": null,
            "margin": null,
            "max_height": null,
            "max_width": null,
            "min_height": null,
            "min_width": null,
            "object_fit": null,
            "object_position": null,
            "order": null,
            "overflow": null,
            "overflow_x": null,
            "overflow_y": null,
            "padding": null,
            "right": null,
            "top": null,
            "visibility": null,
            "width": null
          }
        },
        "90691e25813e4faaa31d5c358c7777de": {
          "model_module": "@jupyter-widgets/base",
          "model_name": "LayoutModel",
          "model_module_version": "1.2.0",
          "state": {
            "_model_module": "@jupyter-widgets/base",
            "_model_module_version": "1.2.0",
            "_model_name": "LayoutModel",
            "_view_count": null,
            "_view_module": "@jupyter-widgets/base",
            "_view_module_version": "1.2.0",
            "_view_name": "LayoutView",
            "align_content": null,
            "align_items": null,
            "align_self": null,
            "border": null,
            "bottom": null,
            "display": null,
            "flex": null,
            "flex_flow": null,
            "grid_area": null,
            "grid_auto_columns": null,
            "grid_auto_flow": null,
            "grid_auto_rows": null,
            "grid_column": null,
            "grid_gap": null,
            "grid_row": null,
            "grid_template_areas": null,
            "grid_template_columns": null,
            "grid_template_rows": null,
            "height": null,
            "justify_content": null,
            "justify_items": null,
            "left": null,
            "margin": null,
            "max_height": null,
            "max_width": null,
            "min_height": null,
            "min_width": null,
            "object_fit": null,
            "object_position": null,
            "order": null,
            "overflow": null,
            "overflow_x": null,
            "overflow_y": null,
            "padding": null,
            "right": null,
            "top": null,
            "visibility": null,
            "width": null
          }
        },
        "decce320e6e04f92a92b87918b33634d": {
          "model_module": "@jupyter-widgets/controls",
          "model_name": "DescriptionStyleModel",
          "model_module_version": "1.5.0",
          "state": {
            "_model_module": "@jupyter-widgets/controls",
            "_model_module_version": "1.5.0",
            "_model_name": "DescriptionStyleModel",
            "_view_count": null,
            "_view_module": "@jupyter-widgets/base",
            "_view_module_version": "1.2.0",
            "_view_name": "StyleView",
            "description_width": ""
          }
        },
        "f16e8b87e6a24a0f84ad089a227951f4": {
          "model_module": "@jupyter-widgets/base",
          "model_name": "LayoutModel",
          "model_module_version": "1.2.0",
          "state": {
            "_model_module": "@jupyter-widgets/base",
            "_model_module_version": "1.2.0",
            "_model_name": "LayoutModel",
            "_view_count": null,
            "_view_module": "@jupyter-widgets/base",
            "_view_module_version": "1.2.0",
            "_view_name": "LayoutView",
            "align_content": null,
            "align_items": null,
            "align_self": null,
            "border": null,
            "bottom": null,
            "display": null,
            "flex": null,
            "flex_flow": null,
            "grid_area": null,
            "grid_auto_columns": null,
            "grid_auto_flow": null,
            "grid_auto_rows": null,
            "grid_column": null,
            "grid_gap": null,
            "grid_row": null,
            "grid_template_areas": null,
            "grid_template_columns": null,
            "grid_template_rows": null,
            "height": null,
            "justify_content": null,
            "justify_items": null,
            "left": null,
            "margin": null,
            "max_height": null,
            "max_width": null,
            "min_height": null,
            "min_width": null,
            "object_fit": null,
            "object_position": null,
            "order": null,
            "overflow": null,
            "overflow_x": null,
            "overflow_y": null,
            "padding": null,
            "right": null,
            "top": null,
            "visibility": null,
            "width": null
          }
        },
        "1b6899aa88eb4f1fad093892f907253e": {
          "model_module": "@jupyter-widgets/controls",
          "model_name": "ProgressStyleModel",
          "model_module_version": "1.5.0",
          "state": {
            "_model_module": "@jupyter-widgets/controls",
            "_model_module_version": "1.5.0",
            "_model_name": "ProgressStyleModel",
            "_view_count": null,
            "_view_module": "@jupyter-widgets/base",
            "_view_module_version": "1.2.0",
            "_view_name": "StyleView",
            "bar_color": null,
            "description_width": ""
          }
        },
        "160620393a5a4b86a3e55aa5403b0c64": {
          "model_module": "@jupyter-widgets/base",
          "model_name": "LayoutModel",
          "model_module_version": "1.2.0",
          "state": {
            "_model_module": "@jupyter-widgets/base",
            "_model_module_version": "1.2.0",
            "_model_name": "LayoutModel",
            "_view_count": null,
            "_view_module": "@jupyter-widgets/base",
            "_view_module_version": "1.2.0",
            "_view_name": "LayoutView",
            "align_content": null,
            "align_items": null,
            "align_self": null,
            "border": null,
            "bottom": null,
            "display": null,
            "flex": null,
            "flex_flow": null,
            "grid_area": null,
            "grid_auto_columns": null,
            "grid_auto_flow": null,
            "grid_auto_rows": null,
            "grid_column": null,
            "grid_gap": null,
            "grid_row": null,
            "grid_template_areas": null,
            "grid_template_columns": null,
            "grid_template_rows": null,
            "height": null,
            "justify_content": null,
            "justify_items": null,
            "left": null,
            "margin": null,
            "max_height": null,
            "max_width": null,
            "min_height": null,
            "min_width": null,
            "object_fit": null,
            "object_position": null,
            "order": null,
            "overflow": null,
            "overflow_x": null,
            "overflow_y": null,
            "padding": null,
            "right": null,
            "top": null,
            "visibility": null,
            "width": null
          }
        },
        "c5a0227f18bc418cbc6a2deb99c053f9": {
          "model_module": "@jupyter-widgets/controls",
          "model_name": "DescriptionStyleModel",
          "model_module_version": "1.5.0",
          "state": {
            "_model_module": "@jupyter-widgets/controls",
            "_model_module_version": "1.5.0",
            "_model_name": "DescriptionStyleModel",
            "_view_count": null,
            "_view_module": "@jupyter-widgets/base",
            "_view_module_version": "1.2.0",
            "_view_name": "StyleView",
            "description_width": ""
          }
        },
        "e2f5915581c14c0a95b056f4e22c6a69": {
          "model_module": "@jupyter-widgets/controls",
          "model_name": "HBoxModel",
          "model_module_version": "1.5.0",
          "state": {
            "_dom_classes": [],
            "_model_module": "@jupyter-widgets/controls",
            "_model_module_version": "1.5.0",
            "_model_name": "HBoxModel",
            "_view_count": null,
            "_view_module": "@jupyter-widgets/controls",
            "_view_module_version": "1.5.0",
            "_view_name": "HBoxView",
            "box_style": "",
            "children": [
              "IPY_MODEL_d5be573e21524cf9b4aa2bc1860aa941",
              "IPY_MODEL_4e906ac2789a46a2a93c986f63612d53",
              "IPY_MODEL_3643300b6bc344308ec54ed8c41467b1"
            ],
            "layout": "IPY_MODEL_ba406b8c07a0417fa406edd3f7e33bb9"
          }
        },
        "d5be573e21524cf9b4aa2bc1860aa941": {
          "model_module": "@jupyter-widgets/controls",
          "model_name": "HTMLModel",
          "model_module_version": "1.5.0",
          "state": {
            "_dom_classes": [],
            "_model_module": "@jupyter-widgets/controls",
            "_model_module_version": "1.5.0",
            "_model_name": "HTMLModel",
            "_view_count": null,
            "_view_module": "@jupyter-widgets/controls",
            "_view_module_version": "1.5.0",
            "_view_name": "HTMLView",
            "description": "",
            "description_tooltip": null,
            "layout": "IPY_MODEL_87cac146cfe649c59c9309681bdc133e",
            "placeholder": "​",
            "style": "IPY_MODEL_4b5be432207d4a748e98b0f2713f0781",
            "value": "Downloading (…)okenizer_config.json: 100%"
          }
        },
        "4e906ac2789a46a2a93c986f63612d53": {
          "model_module": "@jupyter-widgets/controls",
          "model_name": "FloatProgressModel",
          "model_module_version": "1.5.0",
          "state": {
            "_dom_classes": [],
            "_model_module": "@jupyter-widgets/controls",
            "_model_module_version": "1.5.0",
            "_model_name": "FloatProgressModel",
            "_view_count": null,
            "_view_module": "@jupyter-widgets/controls",
            "_view_module_version": "1.5.0",
            "_view_name": "ProgressView",
            "bar_style": "success",
            "description": "",
            "description_tooltip": null,
            "layout": "IPY_MODEL_590f3e6756894181b4e891d0ea02afa6",
            "max": 29,
            "min": 0,
            "orientation": "horizontal",
            "style": "IPY_MODEL_14628f82648f4c90b060a9752ed96033",
            "value": 29
          }
        },
        "3643300b6bc344308ec54ed8c41467b1": {
          "model_module": "@jupyter-widgets/controls",
          "model_name": "HTMLModel",
          "model_module_version": "1.5.0",
          "state": {
            "_dom_classes": [],
            "_model_module": "@jupyter-widgets/controls",
            "_model_module_version": "1.5.0",
            "_model_name": "HTMLModel",
            "_view_count": null,
            "_view_module": "@jupyter-widgets/controls",
            "_view_module_version": "1.5.0",
            "_view_name": "HTMLView",
            "description": "",
            "description_tooltip": null,
            "layout": "IPY_MODEL_c1e9519bf5b347dea091ff78d5a1424e",
            "placeholder": "​",
            "style": "IPY_MODEL_c62a22a0695c4d738d80143b1646452d",
            "value": " 29.0/29.0 [00:00&lt;00:00, 1.32kB/s]"
          }
        },
        "ba406b8c07a0417fa406edd3f7e33bb9": {
          "model_module": "@jupyter-widgets/base",
          "model_name": "LayoutModel",
          "model_module_version": "1.2.0",
          "state": {
            "_model_module": "@jupyter-widgets/base",
            "_model_module_version": "1.2.0",
            "_model_name": "LayoutModel",
            "_view_count": null,
            "_view_module": "@jupyter-widgets/base",
            "_view_module_version": "1.2.0",
            "_view_name": "LayoutView",
            "align_content": null,
            "align_items": null,
            "align_self": null,
            "border": null,
            "bottom": null,
            "display": null,
            "flex": null,
            "flex_flow": null,
            "grid_area": null,
            "grid_auto_columns": null,
            "grid_auto_flow": null,
            "grid_auto_rows": null,
            "grid_column": null,
            "grid_gap": null,
            "grid_row": null,
            "grid_template_areas": null,
            "grid_template_columns": null,
            "grid_template_rows": null,
            "height": null,
            "justify_content": null,
            "justify_items": null,
            "left": null,
            "margin": null,
            "max_height": null,
            "max_width": null,
            "min_height": null,
            "min_width": null,
            "object_fit": null,
            "object_position": null,
            "order": null,
            "overflow": null,
            "overflow_x": null,
            "overflow_y": null,
            "padding": null,
            "right": null,
            "top": null,
            "visibility": null,
            "width": null
          }
        },
        "87cac146cfe649c59c9309681bdc133e": {
          "model_module": "@jupyter-widgets/base",
          "model_name": "LayoutModel",
          "model_module_version": "1.2.0",
          "state": {
            "_model_module": "@jupyter-widgets/base",
            "_model_module_version": "1.2.0",
            "_model_name": "LayoutModel",
            "_view_count": null,
            "_view_module": "@jupyter-widgets/base",
            "_view_module_version": "1.2.0",
            "_view_name": "LayoutView",
            "align_content": null,
            "align_items": null,
            "align_self": null,
            "border": null,
            "bottom": null,
            "display": null,
            "flex": null,
            "flex_flow": null,
            "grid_area": null,
            "grid_auto_columns": null,
            "grid_auto_flow": null,
            "grid_auto_rows": null,
            "grid_column": null,
            "grid_gap": null,
            "grid_row": null,
            "grid_template_areas": null,
            "grid_template_columns": null,
            "grid_template_rows": null,
            "height": null,
            "justify_content": null,
            "justify_items": null,
            "left": null,
            "margin": null,
            "max_height": null,
            "max_width": null,
            "min_height": null,
            "min_width": null,
            "object_fit": null,
            "object_position": null,
            "order": null,
            "overflow": null,
            "overflow_x": null,
            "overflow_y": null,
            "padding": null,
            "right": null,
            "top": null,
            "visibility": null,
            "width": null
          }
        },
        "4b5be432207d4a748e98b0f2713f0781": {
          "model_module": "@jupyter-widgets/controls",
          "model_name": "DescriptionStyleModel",
          "model_module_version": "1.5.0",
          "state": {
            "_model_module": "@jupyter-widgets/controls",
            "_model_module_version": "1.5.0",
            "_model_name": "DescriptionStyleModel",
            "_view_count": null,
            "_view_module": "@jupyter-widgets/base",
            "_view_module_version": "1.2.0",
            "_view_name": "StyleView",
            "description_width": ""
          }
        },
        "590f3e6756894181b4e891d0ea02afa6": {
          "model_module": "@jupyter-widgets/base",
          "model_name": "LayoutModel",
          "model_module_version": "1.2.0",
          "state": {
            "_model_module": "@jupyter-widgets/base",
            "_model_module_version": "1.2.0",
            "_model_name": "LayoutModel",
            "_view_count": null,
            "_view_module": "@jupyter-widgets/base",
            "_view_module_version": "1.2.0",
            "_view_name": "LayoutView",
            "align_content": null,
            "align_items": null,
            "align_self": null,
            "border": null,
            "bottom": null,
            "display": null,
            "flex": null,
            "flex_flow": null,
            "grid_area": null,
            "grid_auto_columns": null,
            "grid_auto_flow": null,
            "grid_auto_rows": null,
            "grid_column": null,
            "grid_gap": null,
            "grid_row": null,
            "grid_template_areas": null,
            "grid_template_columns": null,
            "grid_template_rows": null,
            "height": null,
            "justify_content": null,
            "justify_items": null,
            "left": null,
            "margin": null,
            "max_height": null,
            "max_width": null,
            "min_height": null,
            "min_width": null,
            "object_fit": null,
            "object_position": null,
            "order": null,
            "overflow": null,
            "overflow_x": null,
            "overflow_y": null,
            "padding": null,
            "right": null,
            "top": null,
            "visibility": null,
            "width": null
          }
        },
        "14628f82648f4c90b060a9752ed96033": {
          "model_module": "@jupyter-widgets/controls",
          "model_name": "ProgressStyleModel",
          "model_module_version": "1.5.0",
          "state": {
            "_model_module": "@jupyter-widgets/controls",
            "_model_module_version": "1.5.0",
            "_model_name": "ProgressStyleModel",
            "_view_count": null,
            "_view_module": "@jupyter-widgets/base",
            "_view_module_version": "1.2.0",
            "_view_name": "StyleView",
            "bar_color": null,
            "description_width": ""
          }
        },
        "c1e9519bf5b347dea091ff78d5a1424e": {
          "model_module": "@jupyter-widgets/base",
          "model_name": "LayoutModel",
          "model_module_version": "1.2.0",
          "state": {
            "_model_module": "@jupyter-widgets/base",
            "_model_module_version": "1.2.0",
            "_model_name": "LayoutModel",
            "_view_count": null,
            "_view_module": "@jupyter-widgets/base",
            "_view_module_version": "1.2.0",
            "_view_name": "LayoutView",
            "align_content": null,
            "align_items": null,
            "align_self": null,
            "border": null,
            "bottom": null,
            "display": null,
            "flex": null,
            "flex_flow": null,
            "grid_area": null,
            "grid_auto_columns": null,
            "grid_auto_flow": null,
            "grid_auto_rows": null,
            "grid_column": null,
            "grid_gap": null,
            "grid_row": null,
            "grid_template_areas": null,
            "grid_template_columns": null,
            "grid_template_rows": null,
            "height": null,
            "justify_content": null,
            "justify_items": null,
            "left": null,
            "margin": null,
            "max_height": null,
            "max_width": null,
            "min_height": null,
            "min_width": null,
            "object_fit": null,
            "object_position": null,
            "order": null,
            "overflow": null,
            "overflow_x": null,
            "overflow_y": null,
            "padding": null,
            "right": null,
            "top": null,
            "visibility": null,
            "width": null
          }
        },
        "c62a22a0695c4d738d80143b1646452d": {
          "model_module": "@jupyter-widgets/controls",
          "model_name": "DescriptionStyleModel",
          "model_module_version": "1.5.0",
          "state": {
            "_model_module": "@jupyter-widgets/controls",
            "_model_module_version": "1.5.0",
            "_model_name": "DescriptionStyleModel",
            "_view_count": null,
            "_view_module": "@jupyter-widgets/base",
            "_view_module_version": "1.2.0",
            "_view_name": "StyleView",
            "description_width": ""
          }
        },
        "996680f7f1aa46adbe66f603650b2848": {
          "model_module": "@jupyter-widgets/controls",
          "model_name": "HBoxModel",
          "model_module_version": "1.5.0",
          "state": {
            "_dom_classes": [],
            "_model_module": "@jupyter-widgets/controls",
            "_model_module_version": "1.5.0",
            "_model_name": "HBoxModel",
            "_view_count": null,
            "_view_module": "@jupyter-widgets/controls",
            "_view_module_version": "1.5.0",
            "_view_name": "HBoxView",
            "box_style": "",
            "children": [
              "IPY_MODEL_01e9e0953ec34840846039746a7a1297",
              "IPY_MODEL_684461cbf4994e16b28cfb5c43bac395",
              "IPY_MODEL_26eac3618e774a87828f15d041c1d5b5"
            ],
            "layout": "IPY_MODEL_a1a623ad23d44fa68fc8fb23fe5ca141"
          }
        },
        "01e9e0953ec34840846039746a7a1297": {
          "model_module": "@jupyter-widgets/controls",
          "model_name": "HTMLModel",
          "model_module_version": "1.5.0",
          "state": {
            "_dom_classes": [],
            "_model_module": "@jupyter-widgets/controls",
            "_model_module_version": "1.5.0",
            "_model_name": "HTMLModel",
            "_view_count": null,
            "_view_module": "@jupyter-widgets/controls",
            "_view_module_version": "1.5.0",
            "_view_name": "HTMLView",
            "description": "",
            "description_tooltip": null,
            "layout": "IPY_MODEL_4f2c8373f2544cc28128f6ef06c1406b",
            "placeholder": "​",
            "style": "IPY_MODEL_8efd52b09fce48678c9069b6b4c6bf79",
            "value": "Downloading (…)lve/main/config.json: 100%"
          }
        },
        "684461cbf4994e16b28cfb5c43bac395": {
          "model_module": "@jupyter-widgets/controls",
          "model_name": "FloatProgressModel",
          "model_module_version": "1.5.0",
          "state": {
            "_dom_classes": [],
            "_model_module": "@jupyter-widgets/controls",
            "_model_module_version": "1.5.0",
            "_model_name": "FloatProgressModel",
            "_view_count": null,
            "_view_module": "@jupyter-widgets/controls",
            "_view_module_version": "1.5.0",
            "_view_name": "ProgressView",
            "bar_style": "success",
            "description": "",
            "description_tooltip": null,
            "layout": "IPY_MODEL_1a90ed658a024c42bb0c4f95db562c7f",
            "max": 570,
            "min": 0,
            "orientation": "horizontal",
            "style": "IPY_MODEL_6bb10e340e9b44a3a42768c9dcee8621",
            "value": 570
          }
        },
        "26eac3618e774a87828f15d041c1d5b5": {
          "model_module": "@jupyter-widgets/controls",
          "model_name": "HTMLModel",
          "model_module_version": "1.5.0",
          "state": {
            "_dom_classes": [],
            "_model_module": "@jupyter-widgets/controls",
            "_model_module_version": "1.5.0",
            "_model_name": "HTMLModel",
            "_view_count": null,
            "_view_module": "@jupyter-widgets/controls",
            "_view_module_version": "1.5.0",
            "_view_name": "HTMLView",
            "description": "",
            "description_tooltip": null,
            "layout": "IPY_MODEL_9a820d0d67bc4f089292e23f45550ce7",
            "placeholder": "​",
            "style": "IPY_MODEL_9f2903ddebc942c2b8b6b643112306dc",
            "value": " 570/570 [00:00&lt;00:00, 25.3kB/s]"
          }
        },
        "a1a623ad23d44fa68fc8fb23fe5ca141": {
          "model_module": "@jupyter-widgets/base",
          "model_name": "LayoutModel",
          "model_module_version": "1.2.0",
          "state": {
            "_model_module": "@jupyter-widgets/base",
            "_model_module_version": "1.2.0",
            "_model_name": "LayoutModel",
            "_view_count": null,
            "_view_module": "@jupyter-widgets/base",
            "_view_module_version": "1.2.0",
            "_view_name": "LayoutView",
            "align_content": null,
            "align_items": null,
            "align_self": null,
            "border": null,
            "bottom": null,
            "display": null,
            "flex": null,
            "flex_flow": null,
            "grid_area": null,
            "grid_auto_columns": null,
            "grid_auto_flow": null,
            "grid_auto_rows": null,
            "grid_column": null,
            "grid_gap": null,
            "grid_row": null,
            "grid_template_areas": null,
            "grid_template_columns": null,
            "grid_template_rows": null,
            "height": null,
            "justify_content": null,
            "justify_items": null,
            "left": null,
            "margin": null,
            "max_height": null,
            "max_width": null,
            "min_height": null,
            "min_width": null,
            "object_fit": null,
            "object_position": null,
            "order": null,
            "overflow": null,
            "overflow_x": null,
            "overflow_y": null,
            "padding": null,
            "right": null,
            "top": null,
            "visibility": null,
            "width": null
          }
        },
        "4f2c8373f2544cc28128f6ef06c1406b": {
          "model_module": "@jupyter-widgets/base",
          "model_name": "LayoutModel",
          "model_module_version": "1.2.0",
          "state": {
            "_model_module": "@jupyter-widgets/base",
            "_model_module_version": "1.2.0",
            "_model_name": "LayoutModel",
            "_view_count": null,
            "_view_module": "@jupyter-widgets/base",
            "_view_module_version": "1.2.0",
            "_view_name": "LayoutView",
            "align_content": null,
            "align_items": null,
            "align_self": null,
            "border": null,
            "bottom": null,
            "display": null,
            "flex": null,
            "flex_flow": null,
            "grid_area": null,
            "grid_auto_columns": null,
            "grid_auto_flow": null,
            "grid_auto_rows": null,
            "grid_column": null,
            "grid_gap": null,
            "grid_row": null,
            "grid_template_areas": null,
            "grid_template_columns": null,
            "grid_template_rows": null,
            "height": null,
            "justify_content": null,
            "justify_items": null,
            "left": null,
            "margin": null,
            "max_height": null,
            "max_width": null,
            "min_height": null,
            "min_width": null,
            "object_fit": null,
            "object_position": null,
            "order": null,
            "overflow": null,
            "overflow_x": null,
            "overflow_y": null,
            "padding": null,
            "right": null,
            "top": null,
            "visibility": null,
            "width": null
          }
        },
        "8efd52b09fce48678c9069b6b4c6bf79": {
          "model_module": "@jupyter-widgets/controls",
          "model_name": "DescriptionStyleModel",
          "model_module_version": "1.5.0",
          "state": {
            "_model_module": "@jupyter-widgets/controls",
            "_model_module_version": "1.5.0",
            "_model_name": "DescriptionStyleModel",
            "_view_count": null,
            "_view_module": "@jupyter-widgets/base",
            "_view_module_version": "1.2.0",
            "_view_name": "StyleView",
            "description_width": ""
          }
        },
        "1a90ed658a024c42bb0c4f95db562c7f": {
          "model_module": "@jupyter-widgets/base",
          "model_name": "LayoutModel",
          "model_module_version": "1.2.0",
          "state": {
            "_model_module": "@jupyter-widgets/base",
            "_model_module_version": "1.2.0",
            "_model_name": "LayoutModel",
            "_view_count": null,
            "_view_module": "@jupyter-widgets/base",
            "_view_module_version": "1.2.0",
            "_view_name": "LayoutView",
            "align_content": null,
            "align_items": null,
            "align_self": null,
            "border": null,
            "bottom": null,
            "display": null,
            "flex": null,
            "flex_flow": null,
            "grid_area": null,
            "grid_auto_columns": null,
            "grid_auto_flow": null,
            "grid_auto_rows": null,
            "grid_column": null,
            "grid_gap": null,
            "grid_row": null,
            "grid_template_areas": null,
            "grid_template_columns": null,
            "grid_template_rows": null,
            "height": null,
            "justify_content": null,
            "justify_items": null,
            "left": null,
            "margin": null,
            "max_height": null,
            "max_width": null,
            "min_height": null,
            "min_width": null,
            "object_fit": null,
            "object_position": null,
            "order": null,
            "overflow": null,
            "overflow_x": null,
            "overflow_y": null,
            "padding": null,
            "right": null,
            "top": null,
            "visibility": null,
            "width": null
          }
        },
        "6bb10e340e9b44a3a42768c9dcee8621": {
          "model_module": "@jupyter-widgets/controls",
          "model_name": "ProgressStyleModel",
          "model_module_version": "1.5.0",
          "state": {
            "_model_module": "@jupyter-widgets/controls",
            "_model_module_version": "1.5.0",
            "_model_name": "ProgressStyleModel",
            "_view_count": null,
            "_view_module": "@jupyter-widgets/base",
            "_view_module_version": "1.2.0",
            "_view_name": "StyleView",
            "bar_color": null,
            "description_width": ""
          }
        },
        "9a820d0d67bc4f089292e23f45550ce7": {
          "model_module": "@jupyter-widgets/base",
          "model_name": "LayoutModel",
          "model_module_version": "1.2.0",
          "state": {
            "_model_module": "@jupyter-widgets/base",
            "_model_module_version": "1.2.0",
            "_model_name": "LayoutModel",
            "_view_count": null,
            "_view_module": "@jupyter-widgets/base",
            "_view_module_version": "1.2.0",
            "_view_name": "LayoutView",
            "align_content": null,
            "align_items": null,
            "align_self": null,
            "border": null,
            "bottom": null,
            "display": null,
            "flex": null,
            "flex_flow": null,
            "grid_area": null,
            "grid_auto_columns": null,
            "grid_auto_flow": null,
            "grid_auto_rows": null,
            "grid_column": null,
            "grid_gap": null,
            "grid_row": null,
            "grid_template_areas": null,
            "grid_template_columns": null,
            "grid_template_rows": null,
            "height": null,
            "justify_content": null,
            "justify_items": null,
            "left": null,
            "margin": null,
            "max_height": null,
            "max_width": null,
            "min_height": null,
            "min_width": null,
            "object_fit": null,
            "object_position": null,
            "order": null,
            "overflow": null,
            "overflow_x": null,
            "overflow_y": null,
            "padding": null,
            "right": null,
            "top": null,
            "visibility": null,
            "width": null
          }
        },
        "9f2903ddebc942c2b8b6b643112306dc": {
          "model_module": "@jupyter-widgets/controls",
          "model_name": "DescriptionStyleModel",
          "model_module_version": "1.5.0",
          "state": {
            "_model_module": "@jupyter-widgets/controls",
            "_model_module_version": "1.5.0",
            "_model_name": "DescriptionStyleModel",
            "_view_count": null,
            "_view_module": "@jupyter-widgets/base",
            "_view_module_version": "1.2.0",
            "_view_name": "StyleView",
            "description_width": ""
          }
        }
      }
    }
  },
  "nbformat": 4,
  "nbformat_minor": 0
}