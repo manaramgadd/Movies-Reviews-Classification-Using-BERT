{
  "cells": [
    {
      "cell_type": "markdown",
      "metadata": {
        "id": "-PlG9tCIodFd"
      },
      "source": [
        "#Imports"
      ]
    },
    {
      "cell_type": "code",
      "execution_count": null,
      "metadata": {
        "colab": {
          "base_uri": "https://localhost:8080/"
        },
        "id": "FXDBVHUzWA7Y",
        "outputId": "f7e18e77-f1a5-4ddb-c341-af59f8efc9af"
      },
      "outputs": [
        {
          "output_type": "stream",
          "name": "stderr",
          "text": [
            "[nltk_data] Downloading package punkt to /root/nltk_data...\n",
            "[nltk_data]   Unzipping tokenizers/punkt.zip.\n",
            "[nltk_data] Downloading package wordnet to /root/nltk_data...\n",
            "[nltk_data] Downloading package omw-1.4 to /root/nltk_data...\n",
            "[nltk_data] Downloading package stopwords to /root/nltk_data...\n",
            "[nltk_data]   Unzipping corpora/stopwords.zip.\n"
          ]
        },
        {
          "output_type": "stream",
          "name": "stdout",
          "text": [
            "Looking in indexes: https://pypi.org/simple, https://us-python.pkg.dev/colab-wheels/public/simple/\n",
            "Collecting transformers\n",
            "  Downloading transformers-4.26.0-py3-none-any.whl (6.3 MB)\n",
            "\u001b[2K     \u001b[90m━━━━━━━━━━━━━━━━━━━━━━━━━━━━━━━━━━━━━━━━\u001b[0m \u001b[32m6.3/6.3 MB\u001b[0m \u001b[31m11.5 MB/s\u001b[0m eta \u001b[36m0:00:00\u001b[0m\n",
            "\u001b[?25hCollecting huggingface-hub<1.0,>=0.11.0\n",
            "  Downloading huggingface_hub-0.12.0-py3-none-any.whl (190 kB)\n",
            "\u001b[2K     \u001b[90m━━━━━━━━━━━━━━━━━━━━━━━━━━━━━━━━━━━━━━\u001b[0m \u001b[32m190.3/190.3 KB\u001b[0m \u001b[31m13.6 MB/s\u001b[0m eta \u001b[36m0:00:00\u001b[0m\n",
            "\u001b[?25hCollecting tokenizers!=0.11.3,<0.14,>=0.11.1\n",
            "  Downloading tokenizers-0.13.2-cp38-cp38-manylinux_2_17_x86_64.manylinux2014_x86_64.whl (7.6 MB)\n",
            "\u001b[2K     \u001b[90m━━━━━━━━━━━━━━━━━━━━━━━━━━━━━━━━━━━━━━━━\u001b[0m \u001b[32m7.6/7.6 MB\u001b[0m \u001b[31m46.8 MB/s\u001b[0m eta \u001b[36m0:00:00\u001b[0m\n",
            "\u001b[?25hRequirement already satisfied: requests in /usr/local/lib/python3.8/dist-packages (from transformers) (2.25.1)\n",
            "Requirement already satisfied: tqdm>=4.27 in /usr/local/lib/python3.8/dist-packages (from transformers) (4.64.1)\n",
            "Requirement already satisfied: pyyaml>=5.1 in /usr/local/lib/python3.8/dist-packages (from transformers) (6.0)\n",
            "Requirement already satisfied: filelock in /usr/local/lib/python3.8/dist-packages (from transformers) (3.9.0)\n",
            "Requirement already satisfied: regex!=2019.12.17 in /usr/local/lib/python3.8/dist-packages (from transformers) (2022.6.2)\n",
            "Requirement already satisfied: packaging>=20.0 in /usr/local/lib/python3.8/dist-packages (from transformers) (21.3)\n",
            "Requirement already satisfied: numpy>=1.17 in /usr/local/lib/python3.8/dist-packages (from transformers) (1.21.6)\n",
            "Requirement already satisfied: typing-extensions>=3.7.4.3 in /usr/local/lib/python3.8/dist-packages (from huggingface-hub<1.0,>=0.11.0->transformers) (4.4.0)\n",
            "Requirement already satisfied: pyparsing!=3.0.5,>=2.0.2 in /usr/local/lib/python3.8/dist-packages (from packaging>=20.0->transformers) (3.0.9)\n",
            "Requirement already satisfied: idna<3,>=2.5 in /usr/local/lib/python3.8/dist-packages (from requests->transformers) (2.10)\n",
            "Requirement already satisfied: urllib3<1.27,>=1.21.1 in /usr/local/lib/python3.8/dist-packages (from requests->transformers) (1.24.3)\n",
            "Requirement already satisfied: certifi>=2017.4.17 in /usr/local/lib/python3.8/dist-packages (from requests->transformers) (2022.12.7)\n",
            "Requirement already satisfied: chardet<5,>=3.0.2 in /usr/local/lib/python3.8/dist-packages (from requests->transformers) (4.0.0)\n",
            "Installing collected packages: tokenizers, huggingface-hub, transformers\n",
            "Successfully installed huggingface-hub-0.12.0 tokenizers-0.13.2 transformers-4.26.0\n"
          ]
        }
      ],
      "source": [
        "import torch\n",
        "import torch.nn as nn\n",
        "# plot the accuracy heatmap\n",
        "import seaborn as sns\n",
        "import matplotlib.pyplot as plt\n",
        "import torch.nn.functional as F\n",
        "# add pd to the path\n",
        "import sys\n",
        "# import pandas\n",
        "import pandas as pd\n",
        "import numpy as np\n",
        "from sklearn.preprocessing import StandardScaler\n",
        "from sklearn.model_selection import train_test_split\n",
        "import pandas as pd\n",
        "import numpy as np\n",
        "from sklearn.model_selection import StratifiedKFold\n",
        "from sklearn.model_selection import GridSearchCV\n",
        "from sklearn.model_selection import train_test_split\n",
        "from sklearn.model_selection import cross_val_score\n",
        "from sklearn.metrics import  ConfusionMatrixDisplay,confusion_matrix\n",
        "import sklearn.metrics as metrics\n",
        "\n",
        "import matplotlib.pyplot as plt\n",
        "from google.colab import files\n",
        "import io\n",
        "import nltk\n",
        "nltk.download('punkt')\n",
        "nltk.download('wordnet')\n",
        "nltk.download('omw-1.4')\n",
        "nltk.download('stopwords')\n",
        "from nltk.tokenize import word_tokenize\n",
        "from nltk.tokenize import wordpunct_tokenize\n",
        "import re\n",
        "from pandas import Series,DataFrame\n",
        "from nltk.stem import WordNetLemmatizer\n",
        "from nltk.corpus import stopwords\n",
        "!pip install transformers\n",
        "from transformers import BertTokenizer\n",
        "from transformers import BertModel\n",
        "from torch.optim import Adam\n",
        "from tqdm import tqdm\n"
      ]
    },
    {
      "cell_type": "markdown",
      "metadata": {
        "id": "HTVnwGMwojT0"
      },
      "source": [
        "#Data Loading"
      ]
    },
    {
      "cell_type": "code",
      "execution_count": null,
      "metadata": {
        "colab": {
          "base_uri": "https://localhost:8080/"
        },
        "id": "Le7VOzPLSM8Q",
        "outputId": "390c135b-b525-479e-d1f3-7d6d46a1e09d"
      },
      "outputs": [
        {
          "output_type": "stream",
          "name": "stdout",
          "text": [
            "Mounted at /content/drive\n"
          ]
        }
      ],
      "source": [
        "# mount drive from google drive to colab using https://drive.google.com/file/d/1zbCL7aktBqAgndgkvinI27XntHxfoGHn/view?usp=share_link\n",
        "from google.colab import drive\n",
        "drive.mount('/content/drive')\n",
        "# read data from google drive\n",
        "import pandas as pd\n",
        "read_data = pd.read_csv('/content/drive/My Drive/IMDB Dataset.csv')\n"
      ]
    },
    {
      "cell_type": "code",
      "execution_count": null,
      "metadata": {
        "colab": {
          "base_uri": "https://localhost:8080/",
          "height": 227
        },
        "id": "rj4rhkszTfPg",
        "outputId": "07912b4a-61a2-4a2c-fe0d-ea49407452dc"
      },
      "outputs": [
        {
          "output_type": "stream",
          "name": "stdout",
          "text": [
            "positive    25000\n",
            "negative    25000\n",
            "Name: sentiment, dtype: int64\n"
          ]
        },
        {
          "output_type": "execute_result",
          "data": {
            "text/plain": [
              "                                                   review sentiment\n",
              "count                                               50000     50000\n",
              "unique                                              49582         2\n",
              "top     Loved today's show!!! It was a variety and not...  positive\n",
              "freq                                                    5     25000"
            ],
            "text/html": [
              "\n",
              "  <div id=\"df-6a71cc61-0837-4885-9c3a-70e4396495c6\">\n",
              "    <div class=\"colab-df-container\">\n",
              "      <div>\n",
              "<style scoped>\n",
              "    .dataframe tbody tr th:only-of-type {\n",
              "        vertical-align: middle;\n",
              "    }\n",
              "\n",
              "    .dataframe tbody tr th {\n",
              "        vertical-align: top;\n",
              "    }\n",
              "\n",
              "    .dataframe thead th {\n",
              "        text-align: right;\n",
              "    }\n",
              "</style>\n",
              "<table border=\"1\" class=\"dataframe\">\n",
              "  <thead>\n",
              "    <tr style=\"text-align: right;\">\n",
              "      <th></th>\n",
              "      <th>review</th>\n",
              "      <th>sentiment</th>\n",
              "    </tr>\n",
              "  </thead>\n",
              "  <tbody>\n",
              "    <tr>\n",
              "      <th>count</th>\n",
              "      <td>50000</td>\n",
              "      <td>50000</td>\n",
              "    </tr>\n",
              "    <tr>\n",
              "      <th>unique</th>\n",
              "      <td>49582</td>\n",
              "      <td>2</td>\n",
              "    </tr>\n",
              "    <tr>\n",
              "      <th>top</th>\n",
              "      <td>Loved today's show!!! It was a variety and not...</td>\n",
              "      <td>positive</td>\n",
              "    </tr>\n",
              "    <tr>\n",
              "      <th>freq</th>\n",
              "      <td>5</td>\n",
              "      <td>25000</td>\n",
              "    </tr>\n",
              "  </tbody>\n",
              "</table>\n",
              "</div>\n",
              "      <button class=\"colab-df-convert\" onclick=\"convertToInteractive('df-6a71cc61-0837-4885-9c3a-70e4396495c6')\"\n",
              "              title=\"Convert this dataframe to an interactive table.\"\n",
              "              style=\"display:none;\">\n",
              "        \n",
              "  <svg xmlns=\"http://www.w3.org/2000/svg\" height=\"24px\"viewBox=\"0 0 24 24\"\n",
              "       width=\"24px\">\n",
              "    <path d=\"M0 0h24v24H0V0z\" fill=\"none\"/>\n",
              "    <path d=\"M18.56 5.44l.94 2.06.94-2.06 2.06-.94-2.06-.94-.94-2.06-.94 2.06-2.06.94zm-11 1L8.5 8.5l.94-2.06 2.06-.94-2.06-.94L8.5 2.5l-.94 2.06-2.06.94zm10 10l.94 2.06.94-2.06 2.06-.94-2.06-.94-.94-2.06-.94 2.06-2.06.94z\"/><path d=\"M17.41 7.96l-1.37-1.37c-.4-.4-.92-.59-1.43-.59-.52 0-1.04.2-1.43.59L10.3 9.45l-7.72 7.72c-.78.78-.78 2.05 0 2.83L4 21.41c.39.39.9.59 1.41.59.51 0 1.02-.2 1.41-.59l7.78-7.78 2.81-2.81c.8-.78.8-2.07 0-2.86zM5.41 20L4 18.59l7.72-7.72 1.47 1.35L5.41 20z\"/>\n",
              "  </svg>\n",
              "      </button>\n",
              "      \n",
              "  <style>\n",
              "    .colab-df-container {\n",
              "      display:flex;\n",
              "      flex-wrap:wrap;\n",
              "      gap: 12px;\n",
              "    }\n",
              "\n",
              "    .colab-df-convert {\n",
              "      background-color: #E8F0FE;\n",
              "      border: none;\n",
              "      border-radius: 50%;\n",
              "      cursor: pointer;\n",
              "      display: none;\n",
              "      fill: #1967D2;\n",
              "      height: 32px;\n",
              "      padding: 0 0 0 0;\n",
              "      width: 32px;\n",
              "    }\n",
              "\n",
              "    .colab-df-convert:hover {\n",
              "      background-color: #E2EBFA;\n",
              "      box-shadow: 0px 1px 2px rgba(60, 64, 67, 0.3), 0px 1px 3px 1px rgba(60, 64, 67, 0.15);\n",
              "      fill: #174EA6;\n",
              "    }\n",
              "\n",
              "    [theme=dark] .colab-df-convert {\n",
              "      background-color: #3B4455;\n",
              "      fill: #D2E3FC;\n",
              "    }\n",
              "\n",
              "    [theme=dark] .colab-df-convert:hover {\n",
              "      background-color: #434B5C;\n",
              "      box-shadow: 0px 1px 3px 1px rgba(0, 0, 0, 0.15);\n",
              "      filter: drop-shadow(0px 1px 2px rgba(0, 0, 0, 0.3));\n",
              "      fill: #FFFFFF;\n",
              "    }\n",
              "  </style>\n",
              "\n",
              "      <script>\n",
              "        const buttonEl =\n",
              "          document.querySelector('#df-6a71cc61-0837-4885-9c3a-70e4396495c6 button.colab-df-convert');\n",
              "        buttonEl.style.display =\n",
              "          google.colab.kernel.accessAllowed ? 'block' : 'none';\n",
              "\n",
              "        async function convertToInteractive(key) {\n",
              "          const element = document.querySelector('#df-6a71cc61-0837-4885-9c3a-70e4396495c6');\n",
              "          const dataTable =\n",
              "            await google.colab.kernel.invokeFunction('convertToInteractive',\n",
              "                                                     [key], {});\n",
              "          if (!dataTable) return;\n",
              "\n",
              "          const docLinkHtml = 'Like what you see? Visit the ' +\n",
              "            '<a target=\"_blank\" href=https://colab.research.google.com/notebooks/data_table.ipynb>data table notebook</a>'\n",
              "            + ' to learn more about interactive tables.';\n",
              "          element.innerHTML = '';\n",
              "          dataTable['output_type'] = 'display_data';\n",
              "          await google.colab.output.renderOutput(dataTable, element);\n",
              "          const docLink = document.createElement('div');\n",
              "          docLink.innerHTML = docLinkHtml;\n",
              "          element.appendChild(docLink);\n",
              "        }\n",
              "      </script>\n",
              "    </div>\n",
              "  </div>\n",
              "  "
            ]
          },
          "metadata": {},
          "execution_count": 8
        }
      ],
      "source": [
        "read_data['sentiment'].value_counts()\n",
        "# print the number of instances of each class\n",
        "print(read_data['sentiment'].value_counts())\n",
        "read_data.describe()"
      ]
    },
    {
      "cell_type": "code",
      "execution_count": null,
      "metadata": {
        "id": "y1mf1NhCiXzK"
      },
      "outputs": [],
      "source": [
        "read_data.dropna(axis = 0, how = 'any', inplace = True)\n",
        "read_data.to_csv('IMDB Dataset_parsed.csv', index = False)"
      ]
    },
    {
      "cell_type": "code",
      "execution_count": null,
      "metadata": {
        "colab": {
          "base_uri": "https://localhost:8080/",
          "height": 330
        },
        "id": "mCFOLIAPtEpq",
        "outputId": "ef0ad4dd-fc50-4cd8-fd4f-c7498088d598"
      },
      "outputs": [
        {
          "output_type": "execute_result",
          "data": {
            "text/plain": [
              "<matplotlib.axes._subplots.AxesSubplot at 0x7f6f73a040a0>"
            ]
          },
          "metadata": {},
          "execution_count": 10
        },
        {
          "output_type": "display_data",
          "data": {
            "text/plain": [
              "<Figure size 432x288 with 1 Axes>"
            ],
            "image/png": "[encoded data removed]"
          },
          "metadata": {
            "needs_background": "light"
          }
        }
      ],
      "source": [
        "read_data.groupby(['sentiment']).size().plot.bar()"
      ]
    },
    {
      "cell_type": "markdown",
      "metadata": {
        "id": "j8Yc8jTDopwF"
      },
      "source": [
        "#Balancing dataset"
      ]
    },
    {
      "cell_type": "code",
      "execution_count": null,
      "metadata": {
        "colab": {
          "base_uri": "https://localhost:8080/",
          "height": 227
        },
        "id": "8zXZPUuGTsq1",
        "outputId": "30fdfab9-f369-41c3-92b3-5becbeb2fdca"
      },
      "outputs": [
        {
          "output_type": "stream",
          "name": "stdout",
          "text": [
            "positive    25000\n",
            "negative    25000\n",
            "Name: sentiment, dtype: int64\n"
          ]
        },
        {
          "output_type": "execute_result",
          "data": {
            "text/plain": [
              "                                                   review sentiment\n",
              "count                                               50000     50000\n",
              "unique                                              49582         2\n",
              "top     Loved today's show!!! It was a variety and not...  positive\n",
              "freq                                                    5     25000"
            ],
            "text/html": [
              "\n",
              "  <div id=\"df-0b2b6b68-d78a-4b90-8a3d-1a125f1c27a1\">\n",
              "    <div class=\"colab-df-container\">\n",
              "      <div>\n",
              "<style scoped>\n",
              "    .dataframe tbody tr th:only-of-type {\n",
              "        vertical-align: middle;\n",
              "    }\n",
              "\n",
              "    .dataframe tbody tr th {\n",
              "        vertical-align: top;\n",
              "    }\n",
              "\n",
              "    .dataframe thead th {\n",
              "        text-align: right;\n",
              "    }\n",
              "</style>\n",
              "<table border=\"1\" class=\"dataframe\">\n",
              "  <thead>\n",
              "    <tr style=\"text-align: right;\">\n",
              "      <th></th>\n",
              "      <th>review</th>\n",
              "      <th>sentiment</th>\n",
              "    </tr>\n",
              "  </thead>\n",
              "  <tbody>\n",
              "    <tr>\n",
              "      <th>count</th>\n",
              "      <td>50000</td>\n",
              "      <td>50000</td>\n",
              "    </tr>\n",
              "    <tr>\n",
              "      <th>unique</th>\n",
              "      <td>49582</td>\n",
              "      <td>2</td>\n",
              "    </tr>\n",
              "    <tr>\n",
              "      <th>top</th>\n",
              "      <td>Loved today's show!!! It was a variety and not...</td>\n",
              "      <td>positive</td>\n",
              "    </tr>\n",
              "    <tr>\n",
              "      <th>freq</th>\n",
              "      <td>5</td>\n",
              "      <td>25000</td>\n",
              "    </tr>\n",
              "  </tbody>\n",
              "</table>\n",
              "</div>\n",
              "      <button class=\"colab-df-convert\" onclick=\"convertToInteractive('df-0b2b6b68-d78a-4b90-8a3d-1a125f1c27a1')\"\n",
              "              title=\"Convert this dataframe to an interactive table.\"\n",
              "              style=\"display:none;\">\n",
              "        \n",
              "  <svg xmlns=\"http://www.w3.org/2000/svg\" height=\"24px\"viewBox=\"0 0 24 24\"\n",
              "       width=\"24px\">\n",
              "    <path d=\"M0 0h24v24H0V0z\" fill=\"none\"/>\n",
              "    <path d=\"M18.56 5.44l.94 2.06.94-2.06 2.06-.94-2.06-.94-.94-2.06-.94 2.06-2.06.94zm-11 1L8.5 8.5l.94-2.06 2.06-.94-2.06-.94L8.5 2.5l-.94 2.06-2.06.94zm10 10l.94 2.06.94-2.06 2.06-.94-2.06-.94-.94-2.06-.94 2.06-2.06.94z\"/><path d=\"M17.41 7.96l-1.37-1.37c-.4-.4-.92-.59-1.43-.59-.52 0-1.04.2-1.43.59L10.3 9.45l-7.72 7.72c-.78.78-.78 2.05 0 2.83L4 21.41c.39.39.9.59 1.41.59.51 0 1.02-.2 1.41-.59l7.78-7.78 2.81-2.81c.8-.78.8-2.07 0-2.86zM5.41 20L4 18.59l7.72-7.72 1.47 1.35L5.41 20z\"/>\n",
              "  </svg>\n",
              "      </button>\n",
              "      \n",
              "  <style>\n",
              "    .colab-df-container {\n",
              "      display:flex;\n",
              "      flex-wrap:wrap;\n",
              "      gap: 12px;\n",
              "    }\n",
              "\n",
              "    .colab-df-convert {\n",
              "      background-color: #E8F0FE;\n",
              "      border: none;\n",
              "      border-radius: 50%;\n",
              "      cursor: pointer;\n",
              "      display: none;\n",
              "      fill: #1967D2;\n",
              "      height: 32px;\n",
              "      padding: 0 0 0 0;\n",
              "      width: 32px;\n",
              "    }\n",
              "\n",
              "    .colab-df-convert:hover {\n",
              "      background-color: #E2EBFA;\n",
              "      box-shadow: 0px 1px 2px rgba(60, 64, 67, 0.3), 0px 1px 3px 1px rgba(60, 64, 67, 0.15);\n",
              "      fill: #174EA6;\n",
              "    }\n",
              "\n",
              "    [theme=dark] .colab-df-convert {\n",
              "      background-color: #3B4455;\n",
              "      fill: #D2E3FC;\n",
              "    }\n",
              "\n",
              "    [theme=dark] .colab-df-convert:hover {\n",
              "      background-color: #434B5C;\n",
              "      box-shadow: 0px 1px 3px 1px rgba(0, 0, 0, 0.15);\n",
              "      filter: drop-shadow(0px 1px 2px rgba(0, 0, 0, 0.3));\n",
              "      fill: #FFFFFF;\n",
              "    }\n",
              "  </style>\n",
              "\n",
              "      <script>\n",
              "        const buttonEl =\n",
              "          document.querySelector('#df-0b2b6b68-d78a-4b90-8a3d-1a125f1c27a1 button.colab-df-convert');\n",
              "        buttonEl.style.display =\n",
              "          google.colab.kernel.accessAllowed ? 'block' : 'none';\n",
              "\n",
              "        async function convertToInteractive(key) {\n",
              "          const element = document.querySelector('#df-0b2b6b68-d78a-4b90-8a3d-1a125f1c27a1');\n",
              "          const dataTable =\n",
              "            await google.colab.kernel.invokeFunction('convertToInteractive',\n",
              "                                                     [key], {});\n",
              "          if (!dataTable) return;\n",
              "\n",
              "          const docLinkHtml = 'Like what you see? Visit the ' +\n",
              "            '<a target=\"_blank\" href=https://colab.research.google.com/notebooks/data_table.ipynb>data table notebook</a>'\n",
              "            + ' to learn more about interactive tables.';\n",
              "          element.innerHTML = '';\n",
              "          dataTable['output_type'] = 'display_data';\n",
              "          await google.colab.output.renderOutput(dataTable, element);\n",
              "          const docLink = document.createElement('div');\n",
              "          docLink.innerHTML = docLinkHtml;\n",
              "          element.appendChild(docLink);\n",
              "        }\n",
              "      </script>\n",
              "    </div>\n",
              "  </div>\n",
              "  "
            ]
          },
          "metadata": {},
          "execution_count": 11
        }
      ],
      "source": [
        "# get the indices of the majority class positive\n",
        "indices = read_data[read_data['sentiment'] == 'positive'].index\n",
        "\n",
        "# get the size of the minority class negative\n",
        "sizen = len(read_data[read_data['sentiment'] == 'negative'])\n",
        "sizep = len(read_data[read_data['sentiment'] == 'positive'])\n",
        "\n",
        "# randomly sample the indices of the majority class positive\n",
        "indices = np.random.choice(indices, sizen-sizep, replace=False)\n",
        "\n",
        "# delete from the majority class g\n",
        "read_data = read_data.drop(indices)\n",
        "print(read_data['sentiment'].value_counts())\n",
        "read_data.describe()"
      ]
    },
    {
      "cell_type": "markdown",
      "metadata": {
        "id": "6MAobYzMovFN"
      },
      "source": [
        "#Splitting the data"
      ]
    },
    {
      "cell_type": "code",
      "execution_count": null,
      "metadata": {
        "colab": {
          "base_uri": "https://localhost:8080/"
        },
        "id": "euin-zJPUT2l",
        "outputId": "29c3ba41-e9a5-44aa-9141-90c01e27dc33"
      },
      "outputs": [
        {
          "output_type": "execute_result",
          "data": {
            "text/plain": [
              "positive    17500\n",
              "negative    17500\n",
              "Name: sentiment, dtype: int64"
            ]
          },
          "metadata": {},
          "execution_count": 12
        }
      ],
      "source": [
        "# split into features and labels\n",
        "features = read_data.drop(columns='sentiment')\n",
        "labels = read_data['sentiment']\n",
        "# split into training and test sets\n",
        "X_train, X_t, y_train, y_t = train_test_split(features, labels, test_size=0.3, random_state=0, stratify=labels,shuffle=True)\n",
        "# print the number of instances of each class in the training set\n",
        "\n",
        "# print the number of instances of each class in the test set\n",
        "y_train.value_counts()\n",
        "# print(labels_test['class'].value_counts())\n",
        "#labels_train.describe()"
      ]
    },
    {
      "cell_type": "code",
      "execution_count": null,
      "metadata": {
        "colab": {
          "base_uri": "https://localhost:8080/"
        },
        "id": "9D6Wn3oSU0BR",
        "outputId": "b85af246-f990-4ef7-c0b5-dd87e258f80f"
      },
      "outputs": [
        {
          "output_type": "stream",
          "name": "stdout",
          "text": [
            "negative    5000\n",
            "positive    5000\n",
            "Name: sentiment, dtype: int64\n",
            "positive    2500\n",
            "negative    2500\n",
            "Name: sentiment, dtype: int64\n"
          ]
        }
      ],
      "source": [
        "X_validate, X_test, y_validate, y_test = train_test_split(X_t,y_t, test_size=2/3, random_state=0, stratify=y_t,shuffle=True)\n",
        "print(y_test.value_counts())\n",
        "print(y_validate.value_counts())"
      ]
    },
    {
      "cell_type": "code",
      "execution_count": null,
      "metadata": {
        "id": "36MPNloUAdo6"
      },
      "outputs": [],
      "source": [
        "train_list = [] \n",
        "test_list = []\n",
        "val_list = []\n",
        "grouped_df = read_data.groupby('sentiment')\n",
        "\n",
        "# ITERATE THROUGH EACH SUBSET DF\n",
        "for i, g in grouped_df:\n",
        "    # STRATIFY THE g (CLASS) DATA FRAME\n",
        "    train, test, val = np.split(g, [int(.7 * len(g)), int(.9 * len(g))])\n",
        "\n",
        "    train_list.append(train); test_list.append(test); val_list.append(val)\n",
        "\n",
        "train_data = pd.concat(train_list)\n",
        "test_data = pd.concat(test_list)\n",
        "validation_data = pd.concat(val_list)"
      ]
    },
    {
      "cell_type": "code",
      "execution_count": null,
      "metadata": {
        "id": "k1bV0wvj4npi"
      },
      "outputs": [],
      "source": [
        "# np.random.seed(112)\n",
        "# train_data, test_data, validation_data = np.split(read_data.sample(frac=1, random_state=42), \n",
        "#                                      [int(.7*len(read_data)), int(.9*len(read_data))])\n",
        "\n",
        "# print(len(train_data),len(validation_data), len(test_data))"
      ]
    },
    {
      "cell_type": "code",
      "execution_count": null,
      "metadata": {
        "colab": {
          "base_uri": "https://localhost:8080/"
        },
        "id": "Z7Cl2Fj0-pUX",
        "outputId": "1d9357c1-ea86-41f7-e6dc-75c667d982dd"
      },
      "outputs": [
        {
          "output_type": "stream",
          "name": "stdout",
          "text": [
            "negative    17500\n",
            "positive    17500\n",
            "Name: sentiment, dtype: int64\n"
          ]
        }
      ],
      "source": [
        "print(train_data['sentiment'].value_counts())\n"
      ]
    },
    {
      "cell_type": "code",
      "execution_count": null,
      "metadata": {
        "colab": {
          "base_uri": "https://localhost:8080/"
        },
        "id": "dDrHliBz-xNe",
        "outputId": "2fed072e-8ac9-4a8d-b690-c695f914f595"
      },
      "outputs": [
        {
          "output_type": "stream",
          "name": "stdout",
          "text": [
            "negative    5000\n",
            "positive    5000\n",
            "Name: sentiment, dtype: int64\n"
          ]
        }
      ],
      "source": [
        "print(test_data['sentiment'].value_counts())\n"
      ]
    },
    {
      "cell_type": "code",
      "execution_count": null,
      "metadata": {
        "colab": {
          "base_uri": "https://localhost:8080/"
        },
        "id": "gruwLEPS-5u-",
        "outputId": "08eb2e5a-0687-427b-cb8a-03305cdc3c67"
      },
      "outputs": [
        {
          "output_type": "stream",
          "name": "stdout",
          "text": [
            "negative    2500\n",
            "positive    2500\n",
            "Name: sentiment, dtype: int64\n"
          ]
        }
      ],
      "source": [
        "print(validation_data['sentiment'].value_counts())\n"
      ]
    },
    {
      "cell_type": "markdown",
      "metadata": {
        "id": "X9Hj7e7Eo4uU"
      },
      "source": [
        "#Text Pre-processing"
      ]
    },
    {
      "cell_type": "code",
      "execution_count": null,
      "metadata": {
        "id": "cR7S9O84sf2-"
      },
      "outputs": [],
      "source": [
        "def remove_html_tags(data):\n",
        "    \"\"\"Remove html tags from a string\"\"\"\n",
        "    for w in data:\n",
        "      clean = re.compile('<.*?>')\n",
        "    return re.sub(clean, '', data)"
      ]
    },
    {
      "cell_type": "code",
      "execution_count": null,
      "metadata": {
        "colab": {
          "base_uri": "https://localhost:8080/",
          "height": 206
        },
        "id": "S3zX86uKsgyx",
        "outputId": "fa61eb6d-5904-4589-c787-f32833917af0"
      },
      "outputs": [
        {
          "output_type": "execute_result",
          "data": {
            "text/plain": [
              "                                                  review\n",
              "24048  ThirstI found that this film was beautifully c...\n",
              "3055   Trio's vignettes were insightful and quite enj...\n",
              "1381   How viewers react to this new \"adaption\" of Sh...\n",
              "40039  This must rank as one of Cinema's greatest deb...\n",
              "5457   A quick paced and entertaining noir set in Vie..."
            ],
            "text/html": [
              "\n",
              "  <div id=\"df-98fda365-dd23-46cd-bd89-dd7fe5a3be74\">\n",
              "    <div class=\"colab-df-container\">\n",
              "      <div>\n",
              "<style scoped>\n",
              "    .dataframe tbody tr th:only-of-type {\n",
              "        vertical-align: middle;\n",
              "    }\n",
              "\n",
              "    .dataframe tbody tr th {\n",
              "        vertical-align: top;\n",
              "    }\n",
              "\n",
              "    .dataframe thead th {\n",
              "        text-align: right;\n",
              "    }\n",
              "</style>\n",
              "<table border=\"1\" class=\"dataframe\">\n",
              "  <thead>\n",
              "    <tr style=\"text-align: right;\">\n",
              "      <th></th>\n",
              "      <th>review</th>\n",
              "    </tr>\n",
              "  </thead>\n",
              "  <tbody>\n",
              "    <tr>\n",
              "      <th>24048</th>\n",
              "      <td>ThirstI found that this film was beautifully c...</td>\n",
              "    </tr>\n",
              "    <tr>\n",
              "      <th>3055</th>\n",
              "      <td>Trio's vignettes were insightful and quite enj...</td>\n",
              "    </tr>\n",
              "    <tr>\n",
              "      <th>1381</th>\n",
              "      <td>How viewers react to this new \"adaption\" of Sh...</td>\n",
              "    </tr>\n",
              "    <tr>\n",
              "      <th>40039</th>\n",
              "      <td>This must rank as one of Cinema's greatest deb...</td>\n",
              "    </tr>\n",
              "    <tr>\n",
              "      <th>5457</th>\n",
              "      <td>A quick paced and entertaining noir set in Vie...</td>\n",
              "    </tr>\n",
              "  </tbody>\n",
              "</table>\n",
              "</div>\n",
              "      <button class=\"colab-df-convert\" onclick=\"convertToInteractive('df-98fda365-dd23-46cd-bd89-dd7fe5a3be74')\"\n",
              "              title=\"Convert this dataframe to an interactive table.\"\n",
              "              style=\"display:none;\">\n",
              "        \n",
              "  <svg xmlns=\"http://www.w3.org/2000/svg\" height=\"24px\"viewBox=\"0 0 24 24\"\n",
              "       width=\"24px\">\n",
              "    <path d=\"M0 0h24v24H0V0z\" fill=\"none\"/>\n",
              "    <path d=\"M18.56 5.44l.94 2.06.94-2.06 2.06-.94-2.06-.94-.94-2.06-.94 2.06-2.06.94zm-11 1L8.5 8.5l.94-2.06 2.06-.94-2.06-.94L8.5 2.5l-.94 2.06-2.06.94zm10 10l.94 2.06.94-2.06 2.06-.94-2.06-.94-.94-2.06-.94 2.06-2.06.94z\"/><path d=\"M17.41 7.96l-1.37-1.37c-.4-.4-.92-.59-1.43-.59-.52 0-1.04.2-1.43.59L10.3 9.45l-7.72 7.72c-.78.78-.78 2.05 0 2.83L4 21.41c.39.39.9.59 1.41.59.51 0 1.02-.2 1.41-.59l7.78-7.78 2.81-2.81c.8-.78.8-2.07 0-2.86zM5.41 20L4 18.59l7.72-7.72 1.47 1.35L5.41 20z\"/>\n",
              "  </svg>\n",
              "      </button>\n",
              "      \n",
              "  <style>\n",
              "    .colab-df-container {\n",
              "      display:flex;\n",
              "      flex-wrap:wrap;\n",
              "      gap: 12px;\n",
              "    }\n",
              "\n",
              "    .colab-df-convert {\n",
              "      background-color: #E8F0FE;\n",
              "      border: none;\n",
              "      border-radius: 50%;\n",
              "      cursor: pointer;\n",
              "      display: none;\n",
              "      fill: #1967D2;\n",
              "      height: 32px;\n",
              "      padding: 0 0 0 0;\n",
              "      width: 32px;\n",
              "    }\n",
              "\n",
              "    .colab-df-convert:hover {\n",
              "      background-color: #E2EBFA;\n",
              "      box-shadow: 0px 1px 2px rgba(60, 64, 67, 0.3), 0px 1px 3px 1px rgba(60, 64, 67, 0.15);\n",
              "      fill: #174EA6;\n",
              "    }\n",
              "\n",
              "    [theme=dark] .colab-df-convert {\n",
              "      background-color: #3B4455;\n",
              "      fill: #D2E3FC;\n",
              "    }\n",
              "\n",
              "    [theme=dark] .colab-df-convert:hover {\n",
              "      background-color: #434B5C;\n",
              "      box-shadow: 0px 1px 3px 1px rgba(0, 0, 0, 0.15);\n",
              "      filter: drop-shadow(0px 1px 2px rgba(0, 0, 0, 0.3));\n",
              "      fill: #FFFFFF;\n",
              "    }\n",
              "  </style>\n",
              "\n",
              "      <script>\n",
              "        const buttonEl =\n",
              "          document.querySelector('#df-98fda365-dd23-46cd-bd89-dd7fe5a3be74 button.colab-df-convert');\n",
              "        buttonEl.style.display =\n",
              "          google.colab.kernel.accessAllowed ? 'block' : 'none';\n",
              "\n",
              "        async function convertToInteractive(key) {\n",
              "          const element = document.querySelector('#df-98fda365-dd23-46cd-bd89-dd7fe5a3be74');\n",
              "          const dataTable =\n",
              "            await google.colab.kernel.invokeFunction('convertToInteractive',\n",
              "                                                     [key], {});\n",
              "          if (!dataTable) return;\n",
              "\n",
              "          const docLinkHtml = 'Like what you see? Visit the ' +\n",
              "            '<a target=\"_blank\" href=https://colab.research.google.com/notebooks/data_table.ipynb>data table notebook</a>'\n",
              "            + ' to learn more about interactive tables.';\n",
              "          element.innerHTML = '';\n",
              "          dataTable['output_type'] = 'display_data';\n",
              "          await google.colab.output.renderOutput(dataTable, element);\n",
              "          const docLink = document.createElement('div');\n",
              "          docLink.innerHTML = docLinkHtml;\n",
              "          element.appendChild(docLink);\n",
              "        }\n",
              "      </script>\n",
              "    </div>\n",
              "  </div>\n",
              "  "
            ]
          },
          "metadata": {},
          "execution_count": 20
        }
      ],
      "source": [
        "X_train['review'] = X_train['review'].apply(remove_html_tags)\n",
        "X_train.head()"
      ]
    },
    {
      "cell_type": "markdown",
      "metadata": {
        "id": "PcmvhMxQo0GJ"
      },
      "source": [
        "##Lower characters"
      ]
    },
    {
      "cell_type": "code",
      "execution_count": null,
      "metadata": {
        "colab": {
          "base_uri": "https://localhost:8080/",
          "height": 206
        },
        "id": "MFvPH_6PkV6l",
        "outputId": "0a966dda-df06-4ca5-db2c-9972ff41d391"
      },
      "outputs": [
        {
          "output_type": "execute_result",
          "data": {
            "text/plain": [
              "                                                  review\n",
              "24048  thirsti found that this film was beautifully c...\n",
              "3055   trio's vignettes were insightful and quite enj...\n",
              "1381   how viewers react to this new \"adaption\" of sh...\n",
              "40039  this must rank as one of cinema's greatest deb...\n",
              "5457   a quick paced and entertaining noir set in vie..."
            ],
            "text/html": [
              "\n",
              "  <div id=\"df-b4ece541-0f4a-4747-a4c4-0aa31233a3f4\">\n",
              "    <div class=\"colab-df-container\">\n",
              "      <div>\n",
              "<style scoped>\n",
              "    .dataframe tbody tr th:only-of-type {\n",
              "        vertical-align: middle;\n",
              "    }\n",
              "\n",
              "    .dataframe tbody tr th {\n",
              "        vertical-align: top;\n",
              "    }\n",
              "\n",
              "    .dataframe thead th {\n",
              "        text-align: right;\n",
              "    }\n",
              "</style>\n",
              "<table border=\"1\" class=\"dataframe\">\n",
              "  <thead>\n",
              "    <tr style=\"text-align: right;\">\n",
              "      <th></th>\n",
              "      <th>review</th>\n",
              "    </tr>\n",
              "  </thead>\n",
              "  <tbody>\n",
              "    <tr>\n",
              "      <th>24048</th>\n",
              "      <td>thirsti found that this film was beautifully c...</td>\n",
              "    </tr>\n",
              "    <tr>\n",
              "      <th>3055</th>\n",
              "      <td>trio's vignettes were insightful and quite enj...</td>\n",
              "    </tr>\n",
              "    <tr>\n",
              "      <th>1381</th>\n",
              "      <td>how viewers react to this new \"adaption\" of sh...</td>\n",
              "    </tr>\n",
              "    <tr>\n",
              "      <th>40039</th>\n",
              "      <td>this must rank as one of cinema's greatest deb...</td>\n",
              "    </tr>\n",
              "    <tr>\n",
              "      <th>5457</th>\n",
              "      <td>a quick paced and entertaining noir set in vie...</td>\n",
              "    </tr>\n",
              "  </tbody>\n",
              "</table>\n",
              "</div>\n",
              "      <button class=\"colab-df-convert\" onclick=\"convertToInteractive('df-b4ece541-0f4a-4747-a4c4-0aa31233a3f4')\"\n",
              "              title=\"Convert this dataframe to an interactive table.\"\n",
              "              style=\"display:none;\">\n",
              "        \n",
              "  <svg xmlns=\"http://www.w3.org/2000/svg\" height=\"24px\"viewBox=\"0 0 24 24\"\n",
              "       width=\"24px\">\n",
              "    <path d=\"M0 0h24v24H0V0z\" fill=\"none\"/>\n",
              "    <path d=\"M18.56 5.44l.94 2.06.94-2.06 2.06-.94-2.06-.94-.94-2.06-.94 2.06-2.06.94zm-11 1L8.5 8.5l.94-2.06 2.06-.94-2.06-.94L8.5 2.5l-.94 2.06-2.06.94zm10 10l.94 2.06.94-2.06 2.06-.94-2.06-.94-.94-2.06-.94 2.06-2.06.94z\"/><path d=\"M17.41 7.96l-1.37-1.37c-.4-.4-.92-.59-1.43-.59-.52 0-1.04.2-1.43.59L10.3 9.45l-7.72 7.72c-.78.78-.78 2.05 0 2.83L4 21.41c.39.39.9.59 1.41.59.51 0 1.02-.2 1.41-.59l7.78-7.78 2.81-2.81c.8-.78.8-2.07 0-2.86zM5.41 20L4 18.59l7.72-7.72 1.47 1.35L5.41 20z\"/>\n",
              "  </svg>\n",
              "      </button>\n",
              "      \n",
              "  <style>\n",
              "    .colab-df-container {\n",
              "      display:flex;\n",
              "      flex-wrap:wrap;\n",
              "      gap: 12px;\n",
              "    }\n",
              "\n",
              "    .colab-df-convert {\n",
              "      background-color: #E8F0FE;\n",
              "      border: none;\n",
              "      border-radius: 50%;\n",
              "      cursor: pointer;\n",
              "      display: none;\n",
              "      fill: #1967D2;\n",
              "      height: 32px;\n",
              "      padding: 0 0 0 0;\n",
              "      width: 32px;\n",
              "    }\n",
              "\n",
              "    .colab-df-convert:hover {\n",
              "      background-color: #E2EBFA;\n",
              "      box-shadow: 0px 1px 2px rgba(60, 64, 67, 0.3), 0px 1px 3px 1px rgba(60, 64, 67, 0.15);\n",
              "      fill: #174EA6;\n",
              "    }\n",
              "\n",
              "    [theme=dark] .colab-df-convert {\n",
              "      background-color: #3B4455;\n",
              "      fill: #D2E3FC;\n",
              "    }\n",
              "\n",
              "    [theme=dark] .colab-df-convert:hover {\n",
              "      background-color: #434B5C;\n",
              "      box-shadow: 0px 1px 3px 1px rgba(0, 0, 0, 0.15);\n",
              "      filter: drop-shadow(0px 1px 2px rgba(0, 0, 0, 0.3));\n",
              "      fill: #FFFFFF;\n",
              "    }\n",
              "  </style>\n",
              "\n",
              "      <script>\n",
              "        const buttonEl =\n",
              "          document.querySelector('#df-b4ece541-0f4a-4747-a4c4-0aa31233a3f4 button.colab-df-convert');\n",
              "        buttonEl.style.display =\n",
              "          google.colab.kernel.accessAllowed ? 'block' : 'none';\n",
              "\n",
              "        async function convertToInteractive(key) {\n",
              "          const element = document.querySelector('#df-b4ece541-0f4a-4747-a4c4-0aa31233a3f4');\n",
              "          const dataTable =\n",
              "            await google.colab.kernel.invokeFunction('convertToInteractive',\n",
              "                                                     [key], {});\n",
              "          if (!dataTable) return;\n",
              "\n",
              "          const docLinkHtml = 'Like what you see? Visit the ' +\n",
              "            '<a target=\"_blank\" href=https://colab.research.google.com/notebooks/data_table.ipynb>data table notebook</a>'\n",
              "            + ' to learn more about interactive tables.';\n",
              "          element.innerHTML = '';\n",
              "          dataTable['output_type'] = 'display_data';\n",
              "          await google.colab.output.renderOutput(dataTable, element);\n",
              "          const docLink = document.createElement('div');\n",
              "          docLink.innerHTML = docLinkHtml;\n",
              "          element.appendChild(docLink);\n",
              "        }\n",
              "      </script>\n",
              "    </div>\n",
              "  </div>\n",
              "  "
            ]
          },
          "metadata": {},
          "execution_count": 21
        }
      ],
      "source": [
        "#lowercase characters \n",
        "X_train['review']=X_train['review'].str.lower()\n",
        "X_train.head()"
      ]
    },
    {
      "cell_type": "markdown",
      "metadata": {
        "id": "C66UEpwpo3fa"
      },
      "source": []
    },
    {
      "cell_type": "markdown",
      "metadata": {
        "id": "_PE3YrnIpAI_"
      },
      "source": [
        "##Remove punctuations"
      ]
    },
    {
      "cell_type": "code",
      "execution_count": null,
      "metadata": {
        "id": "iA1FqAOSknJ1"
      },
      "outputs": [],
      "source": [
        "#function to remove punctuation\n",
        "import string\n",
        "def remove_punc(data):\n",
        "  trans = str.maketrans(\"'\",\" \",'!\"#$%&()*+,-./:;<=>?@[\\]^_`{|}~' )\n",
        "  return data.translate(trans)"
      ]
    },
    {
      "cell_type": "code",
      "execution_count": null,
      "metadata": {
        "colab": {
          "base_uri": "https://localhost:8080/",
          "height": 206
        },
        "id": "kPNYV_pfkqGW",
        "outputId": "728c6ea8-c6d8-4998-cca4-e516417db178"
      },
      "outputs": [
        {
          "output_type": "execute_result",
          "data": {
            "text/plain": [
              "                                                  review\n",
              "24048  [thirsti, found, that, this, film, was, beauti...\n",
              "3055   [trio, s, vignettes, were, insightful, and, qu...\n",
              "1381   [how, viewers, react, to, this, new, adaption,...\n",
              "40039  [this, must, rank, as, one, of, cinema, s, gre...\n",
              "5457   [a, quick, paced, and, entertaining, noir, set..."
            ],
            "text/html": [
              "\n",
              "  <div id=\"df-57671ce0-9909-4235-8cd9-1ecf3bd56e7f\">\n",
              "    <div class=\"colab-df-container\">\n",
              "      <div>\n",
              "<style scoped>\n",
              "    .dataframe tbody tr th:only-of-type {\n",
              "        vertical-align: middle;\n",
              "    }\n",
              "\n",
              "    .dataframe tbody tr th {\n",
              "        vertical-align: top;\n",
              "    }\n",
              "\n",
              "    .dataframe thead th {\n",
              "        text-align: right;\n",
              "    }\n",
              "</style>\n",
              "<table border=\"1\" class=\"dataframe\">\n",
              "  <thead>\n",
              "    <tr style=\"text-align: right;\">\n",
              "      <th></th>\n",
              "      <th>review</th>\n",
              "    </tr>\n",
              "  </thead>\n",
              "  <tbody>\n",
              "    <tr>\n",
              "      <th>24048</th>\n",
              "      <td>[thirsti, found, that, this, film, was, beauti...</td>\n",
              "    </tr>\n",
              "    <tr>\n",
              "      <th>3055</th>\n",
              "      <td>[trio, s, vignettes, were, insightful, and, qu...</td>\n",
              "    </tr>\n",
              "    <tr>\n",
              "      <th>1381</th>\n",
              "      <td>[how, viewers, react, to, this, new, adaption,...</td>\n",
              "    </tr>\n",
              "    <tr>\n",
              "      <th>40039</th>\n",
              "      <td>[this, must, rank, as, one, of, cinema, s, gre...</td>\n",
              "    </tr>\n",
              "    <tr>\n",
              "      <th>5457</th>\n",
              "      <td>[a, quick, paced, and, entertaining, noir, set...</td>\n",
              "    </tr>\n",
              "  </tbody>\n",
              "</table>\n",
              "</div>\n",
              "      <button class=\"colab-df-convert\" onclick=\"convertToInteractive('df-57671ce0-9909-4235-8cd9-1ecf3bd56e7f')\"\n",
              "              title=\"Convert this dataframe to an interactive table.\"\n",
              "              style=\"display:none;\">\n",
              "        \n",
              "  <svg xmlns=\"http://www.w3.org/2000/svg\" height=\"24px\"viewBox=\"0 0 24 24\"\n",
              "       width=\"24px\">\n",
              "    <path d=\"M0 0h24v24H0V0z\" fill=\"none\"/>\n",
              "    <path d=\"M18.56 5.44l.94 2.06.94-2.06 2.06-.94-2.06-.94-.94-2.06-.94 2.06-2.06.94zm-11 1L8.5 8.5l.94-2.06 2.06-.94-2.06-.94L8.5 2.5l-.94 2.06-2.06.94zm10 10l.94 2.06.94-2.06 2.06-.94-2.06-.94-.94-2.06-.94 2.06-2.06.94z\"/><path d=\"M17.41 7.96l-1.37-1.37c-.4-.4-.92-.59-1.43-.59-.52 0-1.04.2-1.43.59L10.3 9.45l-7.72 7.72c-.78.78-.78 2.05 0 2.83L4 21.41c.39.39.9.59 1.41.59.51 0 1.02-.2 1.41-.59l7.78-7.78 2.81-2.81c.8-.78.8-2.07 0-2.86zM5.41 20L4 18.59l7.72-7.72 1.47 1.35L5.41 20z\"/>\n",
              "  </svg>\n",
              "      </button>\n",
              "      \n",
              "  <style>\n",
              "    .colab-df-container {\n",
              "      display:flex;\n",
              "      flex-wrap:wrap;\n",
              "      gap: 12px;\n",
              "    }\n",
              "\n",
              "    .colab-df-convert {\n",
              "      background-color: #E8F0FE;\n",
              "      border: none;\n",
              "      border-radius: 50%;\n",
              "      cursor: pointer;\n",
              "      display: none;\n",
              "      fill: #1967D2;\n",
              "      height: 32px;\n",
              "      padding: 0 0 0 0;\n",
              "      width: 32px;\n",
              "    }\n",
              "\n",
              "    .colab-df-convert:hover {\n",
              "      background-color: #E2EBFA;\n",
              "      box-shadow: 0px 1px 2px rgba(60, 64, 67, 0.3), 0px 1px 3px 1px rgba(60, 64, 67, 0.15);\n",
              "      fill: #174EA6;\n",
              "    }\n",
              "\n",
              "    [theme=dark] .colab-df-convert {\n",
              "      background-color: #3B4455;\n",
              "      fill: #D2E3FC;\n",
              "    }\n",
              "\n",
              "    [theme=dark] .colab-df-convert:hover {\n",
              "      background-color: #434B5C;\n",
              "      box-shadow: 0px 1px 3px 1px rgba(0, 0, 0, 0.15);\n",
              "      filter: drop-shadow(0px 1px 2px rgba(0, 0, 0, 0.3));\n",
              "      fill: #FFFFFF;\n",
              "    }\n",
              "  </style>\n",
              "\n",
              "      <script>\n",
              "        const buttonEl =\n",
              "          document.querySelector('#df-57671ce0-9909-4235-8cd9-1ecf3bd56e7f button.colab-df-convert');\n",
              "        buttonEl.style.display =\n",
              "          google.colab.kernel.accessAllowed ? 'block' : 'none';\n",
              "\n",
              "        async function convertToInteractive(key) {\n",
              "          const element = document.querySelector('#df-57671ce0-9909-4235-8cd9-1ecf3bd56e7f');\n",
              "          const dataTable =\n",
              "            await google.colab.kernel.invokeFunction('convertToInteractive',\n",
              "                                                     [key], {});\n",
              "          if (!dataTable) return;\n",
              "\n",
              "          const docLinkHtml = 'Like what you see? Visit the ' +\n",
              "            '<a target=\"_blank\" href=https://colab.research.google.com/notebooks/data_table.ipynb>data table notebook</a>'\n",
              "            + ' to learn more about interactive tables.';\n",
              "          element.innerHTML = '';\n",
              "          dataTable['output_type'] = 'display_data';\n",
              "          await google.colab.output.renderOutput(dataTable, element);\n",
              "          const docLink = document.createElement('div');\n",
              "          docLink.innerHTML = docLinkHtml;\n",
              "          element.appendChild(docLink);\n",
              "        }\n",
              "      </script>\n",
              "    </div>\n",
              "  </div>\n",
              "  "
            ]
          },
          "metadata": {},
          "execution_count": 23
        }
      ],
      "source": [
        "#applying function on the dataset\n",
        "X_train['review'] = X_train['review'].apply(remove_punc)\n",
        "X_train['review']=X_train['review'].apply(lambda X: word_tokenize(X))\n",
        "X_train.head()"
      ]
    },
    {
      "cell_type": "markdown",
      "metadata": {
        "id": "RBB-pqurpF2e"
      },
      "source": [
        "##Lemmatization"
      ]
    },
    {
      "cell_type": "code",
      "execution_count": null,
      "metadata": {
        "id": "t0QENPa3l28C"
      },
      "outputs": [],
      "source": [
        "#Lemmatization function\n",
        "def lemmatize(text):\n",
        "    lemmatizer = WordNetLemmatizer()\n",
        "    text = [lemmatizer.lemmatize(w) for w in text]\n",
        "    return text"
      ]
    },
    {
      "cell_type": "code",
      "execution_count": null,
      "metadata": {
        "id": "1bs5I3dKu9VJ"
      },
      "outputs": [],
      "source": [
        "# note we should use lemmatized_output = ' '.join(lemmatizer.lemmatize(w) for w in \\  \n",
        "#                                    w_tokenizer.tokenize((text)) if len(w) >4 ) \n",
        "# because it removed the s in was"
      ]
    },
    {
      "cell_type": "code",
      "execution_count": null,
      "metadata": {
        "colab": {
          "base_uri": "https://localhost:8080/",
          "height": 206
        },
        "id": "auGXgy5jmqty",
        "outputId": "1665b3a1-6546-43da-ae81-ec48a7564dea"
      },
      "outputs": [
        {
          "output_type": "execute_result",
          "data": {
            "text/plain": [
              "                                                  review\n",
              "24048  [thirsti, found, that, this, film, wa, beautif...\n",
              "3055   [trio, s, vignette, were, insightful, and, qui...\n",
              "1381   [how, viewer, react, to, this, new, adaption, ...\n",
              "40039  [this, must, rank, a, one, of, cinema, s, grea...\n",
              "5457   [a, quick, paced, and, entertaining, noir, set..."
            ],
            "text/html": [
              "\n",
              "  <div id=\"df-cfe0ed59-8632-4b3f-8174-167627f14284\">\n",
              "    <div class=\"colab-df-container\">\n",
              "      <div>\n",
              "<style scoped>\n",
              "    .dataframe tbody tr th:only-of-type {\n",
              "        vertical-align: middle;\n",
              "    }\n",
              "\n",
              "    .dataframe tbody tr th {\n",
              "        vertical-align: top;\n",
              "    }\n",
              "\n",
              "    .dataframe thead th {\n",
              "        text-align: right;\n",
              "    }\n",
              "</style>\n",
              "<table border=\"1\" class=\"dataframe\">\n",
              "  <thead>\n",
              "    <tr style=\"text-align: right;\">\n",
              "      <th></th>\n",
              "      <th>review</th>\n",
              "    </tr>\n",
              "  </thead>\n",
              "  <tbody>\n",
              "    <tr>\n",
              "      <th>24048</th>\n",
              "      <td>[thirsti, found, that, this, film, wa, beautif...</td>\n",
              "    </tr>\n",
              "    <tr>\n",
              "      <th>3055</th>\n",
              "      <td>[trio, s, vignette, were, insightful, and, qui...</td>\n",
              "    </tr>\n",
              "    <tr>\n",
              "      <th>1381</th>\n",
              "      <td>[how, viewer, react, to, this, new, adaption, ...</td>\n",
              "    </tr>\n",
              "    <tr>\n",
              "      <th>40039</th>\n",
              "      <td>[this, must, rank, a, one, of, cinema, s, grea...</td>\n",
              "    </tr>\n",
              "    <tr>\n",
              "      <th>5457</th>\n",
              "      <td>[a, quick, paced, and, entertaining, noir, set...</td>\n",
              "    </tr>\n",
              "  </tbody>\n",
              "</table>\n",
              "</div>\n",
              "      <button class=\"colab-df-convert\" onclick=\"convertToInteractive('df-cfe0ed59-8632-4b3f-8174-167627f14284')\"\n",
              "              title=\"Convert this dataframe to an interactive table.\"\n",
              "              style=\"display:none;\">\n",
              "        \n",
              "  <svg xmlns=\"http://www.w3.org/2000/svg\" height=\"24px\"viewBox=\"0 0 24 24\"\n",
              "       width=\"24px\">\n",
              "    <path d=\"M0 0h24v24H0V0z\" fill=\"none\"/>\n",
              "    <path d=\"M18.56 5.44l.94 2.06.94-2.06 2.06-.94-2.06-.94-.94-2.06-.94 2.06-2.06.94zm-11 1L8.5 8.5l.94-2.06 2.06-.94-2.06-.94L8.5 2.5l-.94 2.06-2.06.94zm10 10l.94 2.06.94-2.06 2.06-.94-2.06-.94-.94-2.06-.94 2.06-2.06.94z\"/><path d=\"M17.41 7.96l-1.37-1.37c-.4-.4-.92-.59-1.43-.59-.52 0-1.04.2-1.43.59L10.3 9.45l-7.72 7.72c-.78.78-.78 2.05 0 2.83L4 21.41c.39.39.9.59 1.41.59.51 0 1.02-.2 1.41-.59l7.78-7.78 2.81-2.81c.8-.78.8-2.07 0-2.86zM5.41 20L4 18.59l7.72-7.72 1.47 1.35L5.41 20z\"/>\n",
              "  </svg>\n",
              "      </button>\n",
              "      \n",
              "  <style>\n",
              "    .colab-df-container {\n",
              "      display:flex;\n",
              "      flex-wrap:wrap;\n",
              "      gap: 12px;\n",
              "    }\n",
              "\n",
              "    .colab-df-convert {\n",
              "      background-color: #E8F0FE;\n",
              "      border: none;\n",
              "      border-radius: 50%;\n",
              "      cursor: pointer;\n",
              "      display: none;\n",
              "      fill: #1967D2;\n",
              "      height: 32px;\n",
              "      padding: 0 0 0 0;\n",
              "      width: 32px;\n",
              "    }\n",
              "\n",
              "    .colab-df-convert:hover {\n",
              "      background-color: #E2EBFA;\n",
              "      box-shadow: 0px 1px 2px rgba(60, 64, 67, 0.3), 0px 1px 3px 1px rgba(60, 64, 67, 0.15);\n",
              "      fill: #174EA6;\n",
              "    }\n",
              "\n",
              "    [theme=dark] .colab-df-convert {\n",
              "      background-color: #3B4455;\n",
              "      fill: #D2E3FC;\n",
              "    }\n",
              "\n",
              "    [theme=dark] .colab-df-convert:hover {\n",
              "      background-color: #434B5C;\n",
              "      box-shadow: 0px 1px 3px 1px rgba(0, 0, 0, 0.15);\n",
              "      filter: drop-shadow(0px 1px 2px rgba(0, 0, 0, 0.3));\n",
              "      fill: #FFFFFF;\n",
              "    }\n",
              "  </style>\n",
              "\n",
              "      <script>\n",
              "        const buttonEl =\n",
              "          document.querySelector('#df-cfe0ed59-8632-4b3f-8174-167627f14284 button.colab-df-convert');\n",
              "        buttonEl.style.display =\n",
              "          google.colab.kernel.accessAllowed ? 'block' : 'none';\n",
              "\n",
              "        async function convertToInteractive(key) {\n",
              "          const element = document.querySelector('#df-cfe0ed59-8632-4b3f-8174-167627f14284');\n",
              "          const dataTable =\n",
              "            await google.colab.kernel.invokeFunction('convertToInteractive',\n",
              "                                                     [key], {});\n",
              "          if (!dataTable) return;\n",
              "\n",
              "          const docLinkHtml = 'Like what you see? Visit the ' +\n",
              "            '<a target=\"_blank\" href=https://colab.research.google.com/notebooks/data_table.ipynb>data table notebook</a>'\n",
              "            + ' to learn more about interactive tables.';\n",
              "          element.innerHTML = '';\n",
              "          dataTable['output_type'] = 'display_data';\n",
              "          await google.colab.output.renderOutput(dataTable, element);\n",
              "          const docLink = document.createElement('div');\n",
              "          docLink.innerHTML = docLinkHtml;\n",
              "          element.appendChild(docLink);\n",
              "        }\n",
              "      </script>\n",
              "    </div>\n",
              "  </div>\n",
              "  "
            ]
          },
          "metadata": {},
          "execution_count": 26
        }
      ],
      "source": [
        "#Lemmatization of words\n",
        "X_train['review'] = X_train['review'].apply(lemmatize)\n",
        "X_train.head()"
      ]
    },
    {
      "cell_type": "markdown",
      "metadata": {
        "id": "MZOzeq63pJur"
      },
      "source": [
        "##Remove stop words"
      ]
    },
    {
      "cell_type": "code",
      "execution_count": null,
      "metadata": {
        "id": "a2KemaX_nbNg"
      },
      "outputs": [],
      "source": [
        "#Remove stopwords function\n",
        "def remove_stopWords(data):\n",
        "  stop_words = set(stopwords.words('english'))\n",
        "  #with no lower case conversion\n",
        "  filtered_sentence = []\n",
        "  for w in data:\n",
        "      if w not in stop_words:\n",
        "          filtered_sentence.append(w)\n",
        "  return filtered_sentence"
      ]
    },
    {
      "cell_type": "code",
      "execution_count": null,
      "metadata": {
        "colab": {
          "base_uri": "https://localhost:8080/",
          "height": 206
        },
        "id": "D-LLR-oJpuSC",
        "outputId": "a6dad591-0c3f-4fc6-bb0c-55a4210bcdc8"
      },
      "outputs": [
        {
          "output_type": "execute_result",
          "data": {
            "text/plain": [
              "                                                  review\n",
              "24048  [thirsti, found, film, wa, beautifully, crafte...\n",
              "3055   [trio, vignette, insightful, quite, enjoyable,...\n",
              "1381   [viewer, react, new, adaption, shirley, jackso...\n",
              "40039  [must, rank, one, cinema, greatest, debacle, w...\n",
              "5457   [quick, paced, entertaining, noir, set, vienna..."
            ],
            "text/html": [
              "\n",
              "  <div id=\"df-56b8439e-7dde-4d00-8ad4-e0133d1d270c\">\n",
              "    <div class=\"colab-df-container\">\n",
              "      <div>\n",
              "<style scoped>\n",
              "    .dataframe tbody tr th:only-of-type {\n",
              "        vertical-align: middle;\n",
              "    }\n",
              "\n",
              "    .dataframe tbody tr th {\n",
              "        vertical-align: top;\n",
              "    }\n",
              "\n",
              "    .dataframe thead th {\n",
              "        text-align: right;\n",
              "    }\n",
              "</style>\n",
              "<table border=\"1\" class=\"dataframe\">\n",
              "  <thead>\n",
              "    <tr style=\"text-align: right;\">\n",
              "      <th></th>\n",
              "      <th>review</th>\n",
              "    </tr>\n",
              "  </thead>\n",
              "  <tbody>\n",
              "    <tr>\n",
              "      <th>24048</th>\n",
              "      <td>[thirsti, found, film, wa, beautifully, crafte...</td>\n",
              "    </tr>\n",
              "    <tr>\n",
              "      <th>3055</th>\n",
              "      <td>[trio, vignette, insightful, quite, enjoyable,...</td>\n",
              "    </tr>\n",
              "    <tr>\n",
              "      <th>1381</th>\n",
              "      <td>[viewer, react, new, adaption, shirley, jackso...</td>\n",
              "    </tr>\n",
              "    <tr>\n",
              "      <th>40039</th>\n",
              "      <td>[must, rank, one, cinema, greatest, debacle, w...</td>\n",
              "    </tr>\n",
              "    <tr>\n",
              "      <th>5457</th>\n",
              "      <td>[quick, paced, entertaining, noir, set, vienna...</td>\n",
              "    </tr>\n",
              "  </tbody>\n",
              "</table>\n",
              "</div>\n",
              "      <button class=\"colab-df-convert\" onclick=\"convertToInteractive('df-56b8439e-7dde-4d00-8ad4-e0133d1d270c')\"\n",
              "              title=\"Convert this dataframe to an interactive table.\"\n",
              "              style=\"display:none;\">\n",
              "        \n",
              "  <svg xmlns=\"http://www.w3.org/2000/svg\" height=\"24px\"viewBox=\"0 0 24 24\"\n",
              "       width=\"24px\">\n",
              "    <path d=\"M0 0h24v24H0V0z\" fill=\"none\"/>\n",
              "    <path d=\"M18.56 5.44l.94 2.06.94-2.06 2.06-.94-2.06-.94-.94-2.06-.94 2.06-2.06.94zm-11 1L8.5 8.5l.94-2.06 2.06-.94-2.06-.94L8.5 2.5l-.94 2.06-2.06.94zm10 10l.94 2.06.94-2.06 2.06-.94-2.06-.94-.94-2.06-.94 2.06-2.06.94z\"/><path d=\"M17.41 7.96l-1.37-1.37c-.4-.4-.92-.59-1.43-.59-.52 0-1.04.2-1.43.59L10.3 9.45l-7.72 7.72c-.78.78-.78 2.05 0 2.83L4 21.41c.39.39.9.59 1.41.59.51 0 1.02-.2 1.41-.59l7.78-7.78 2.81-2.81c.8-.78.8-2.07 0-2.86zM5.41 20L4 18.59l7.72-7.72 1.47 1.35L5.41 20z\"/>\n",
              "  </svg>\n",
              "      </button>\n",
              "      \n",
              "  <style>\n",
              "    .colab-df-container {\n",
              "      display:flex;\n",
              "      flex-wrap:wrap;\n",
              "      gap: 12px;\n",
              "    }\n",
              "\n",
              "    .colab-df-convert {\n",
              "      background-color: #E8F0FE;\n",
              "      border: none;\n",
              "      border-radius: 50%;\n",
              "      cursor: pointer;\n",
              "      display: none;\n",
              "      fill: #1967D2;\n",
              "      height: 32px;\n",
              "      padding: 0 0 0 0;\n",
              "      width: 32px;\n",
              "    }\n",
              "\n",
              "    .colab-df-convert:hover {\n",
              "      background-color: #E2EBFA;\n",
              "      box-shadow: 0px 1px 2px rgba(60, 64, 67, 0.3), 0px 1px 3px 1px rgba(60, 64, 67, 0.15);\n",
              "      fill: #174EA6;\n",
              "    }\n",
              "\n",
              "    [theme=dark] .colab-df-convert {\n",
              "      background-color: #3B4455;\n",
              "      fill: #D2E3FC;\n",
              "    }\n",
              "\n",
              "    [theme=dark] .colab-df-convert:hover {\n",
              "      background-color: #434B5C;\n",
              "      box-shadow: 0px 1px 3px 1px rgba(0, 0, 0, 0.15);\n",
              "      filter: drop-shadow(0px 1px 2px rgba(0, 0, 0, 0.3));\n",
              "      fill: #FFFFFF;\n",
              "    }\n",
              "  </style>\n",
              "\n",
              "      <script>\n",
              "        const buttonEl =\n",
              "          document.querySelector('#df-56b8439e-7dde-4d00-8ad4-e0133d1d270c button.colab-df-convert');\n",
              "        buttonEl.style.display =\n",
              "          google.colab.kernel.accessAllowed ? 'block' : 'none';\n",
              "\n",
              "        async function convertToInteractive(key) {\n",
              "          const element = document.querySelector('#df-56b8439e-7dde-4d00-8ad4-e0133d1d270c');\n",
              "          const dataTable =\n",
              "            await google.colab.kernel.invokeFunction('convertToInteractive',\n",
              "                                                     [key], {});\n",
              "          if (!dataTable) return;\n",
              "\n",
              "          const docLinkHtml = 'Like what you see? Visit the ' +\n",
              "            '<a target=\"_blank\" href=https://colab.research.google.com/notebooks/data_table.ipynb>data table notebook</a>'\n",
              "            + ' to learn more about interactive tables.';\n",
              "          element.innerHTML = '';\n",
              "          dataTable['output_type'] = 'display_data';\n",
              "          await google.colab.output.renderOutput(dataTable, element);\n",
              "          const docLink = document.createElement('div');\n",
              "          docLink.innerHTML = docLinkHtml;\n",
              "          element.appendChild(docLink);\n",
              "        }\n",
              "      </script>\n",
              "    </div>\n",
              "  </div>\n",
              "  "
            ]
          },
          "metadata": {},
          "execution_count": 28
        }
      ],
      "source": [
        "X_train['review'] = X_train['review'].apply(remove_stopWords)\n",
        "X_train.head()"
      ]
    },
    {
      "cell_type": "code",
      "source": [
        "def preprocess(data):\n",
        "    data = data.apply(remove_html_tags)\n",
        "    data = data.str.lower()\n",
        "    data = data.apply(remove_punc)\n",
        "    data = data.apply(lambda X: word_tokenize(X))\n",
        "\n",
        "    data= data.apply(lemmatize)\n",
        "    data= data.apply(remove_stopWords)"
      ],
      "metadata": {
        "id": "bw7GnZUgaa6l"
      },
      "execution_count": null,
      "outputs": []
    },
    {
      "cell_type": "markdown",
      "metadata": {
        "id": "uiSU-AciwHSc"
      },
      "source": [
        "#BERT\n"
      ]
    },
    {
      "cell_type": "markdown",
      "source": [
        "## Dataset"
      ],
      "metadata": {
        "id": "sVmVEphQzkD1"
      }
    },
    {
      "cell_type": "code",
      "execution_count": null,
      "metadata": {
        "id": "8BdW69SCsuzv",
        "colab": {
          "base_uri": "https://localhost:8080/",
          "referenced_widgets": [
            "40028f2a0ca34970b48f795f6a7f055f",
            "0ddd19f002f44636ae8abb9c031fd54f",
            "6b3e77204dff4872bd0472eb6d09fd12",
            "f88a66cb3a9746cbb1a46bc46c326a50",
            "ec1f2201ff554307a982ca18951be3fd",
            "2652f74ed99a4c67b89288e7cbb0cb4f",
            "da0b31bcddcd4f42b91b8cf6a527309f",
            "09e460c7759042ce83c6bacb247be4b3",
            "ed198f00d6f74824bd3eee9498e04e8f",
            "b2e80e4f20854254a5398453e718c129",
            "31d3321d8bd2456f8b3fa36886099dad",
            "fb34e8813c094a368cdd932e76aa6dde",
            "a6df43e2e22b4a82a3eb96f15f515d43",
            "771a0ce92f034970942b37c1a5a00415",
            "51cfb00cae594c8eb7b89bfc1fae8be3",
            "a80585c3b5904ccaa8402a18cd3860e5",
            "18e2b65ccf94492280af8cc0e163852c",
            "34bb15751e0d40368564ff0ef407a49b",
            "371bf40a88824b64aff3c907399d077e",
            "324f6f74b851415c842e87d9ad4c8586",
            "b9f5726670754a5cb5b46196f1d29bb9",
            "498adfff17e14fd7996409cba761f64d",
            "878df704618f4ce185bd3759cbe1602d",
            "63b0e1becf18481fa663bc44175f5e58",
            "38d6cbb0b4864816be0ea189c2fbc879",
            "f2e854e45bcb40ef87bc81f4fdeabd75",
            "405dfb0f382c45e8839d4a3246039908",
            "2a91bb9476f54ea18fe7d8fb658432ad",
            "1864e09329dd4015bce3dc0cda402a5e",
            "76026d6930e546a5b9aa2dc8f6e259c1",
            "7f2dbed8fe2c45fdb805d1a0f2b88c9a",
            "91ba452c05cd40ec8d95cb767ac64e7f",
            "00eab49398ab435a865109a53afe0d91"
          ],
          "height": 113
        },
        "outputId": "7449c37f-7eca-4055-8f2e-c09f56b746b2"
      },
      "outputs": [
        {
          "output_type": "display_data",
          "data": {
            "text/plain": [
              "Downloading (…)solve/main/vocab.txt:   0%|          | 0.00/213k [00:00<?, ?B/s]"
            ],
            "application/vnd.jupyter.widget-view+json": {
              "version_major": 2,
              "version_minor": 0,
              "model_id": "40028f2a0ca34970b48f795f6a7f055f"
            }
          },
          "metadata": {}
        },
        {
          "output_type": "display_data",
          "data": {
            "text/plain": [
              "Downloading (…)okenizer_config.json:   0%|          | 0.00/29.0 [00:00<?, ?B/s]"
            ],
            "application/vnd.jupyter.widget-view+json": {
              "version_major": 2,
              "version_minor": 0,
              "model_id": "fb34e8813c094a368cdd932e76aa6dde"
            }
          },
          "metadata": {}
        },
        {
          "output_type": "display_data",
          "data": {
            "text/plain": [
              "Downloading (…)lve/main/config.json:   0%|          | 0.00/570 [00:00<?, ?B/s]"
            ],
            "application/vnd.jupyter.widget-view+json": {
              "version_major": 2,
              "version_minor": 0,
              "model_id": "878df704618f4ce185bd3759cbe1602d"
            }
          },
          "metadata": {}
        }
      ],
      "source": [
        "tokenizer = BertTokenizer.from_pretrained('bert-base-cased')\n",
        "labels = {'positive':0,\n",
        "          'negative':1,\n",
        "          }\n",
        "\n",
        "class Dataset(torch.utils.data.Dataset):\n",
        "\n",
        "    def __init__(self, df):\n",
        "\n",
        "        self.labels = [labels[label] for label in df['sentiment']]\n",
        "        df['review']=df['review'].apply(remove_html_tags)\n",
        "        df['review']=df['review'].str.lower()\n",
        "        df['review'] = df['review'].apply(remove_punc)\n",
        "        df['review'] = df['review'].apply(lambda X: word_tokenize(X))\n",
        "        df['review'] = df['review'].apply(lemmatize)\n",
        "        df['review'] = df['review'].apply(remove_stopWords)\n",
        "        # untokenize the text\n",
        "        df['review'] = df['review'].apply(lambda x: ' '.join(x))\n",
        "        self.texts = [tokenizer(text, \n",
        "                               padding='max_length', max_length = 512, truncation=True,\n",
        "                                return_tensors=\"pt\") for text in df['review']]\n",
        "        # text preprocessing\n",
        "        \n",
        "\n",
        "    def classes(self):\n",
        "        return self.labels\n",
        "\n",
        "    def __len__(self):\n",
        "        return len(self.labels)\n",
        "\n",
        "    def get_batch_labels(self, idx):\n",
        "        # Fetch a batch of labels\n",
        "        return np.array(self.labels[idx])\n",
        "\n",
        "    def get_batch_texts(self, idx):\n",
        "        # Fetch a batch of inputs\n",
        "        return self.texts[idx]\n",
        "\n",
        "    def __getitem__(self, idx):\n",
        "\n",
        "        batch_texts = self.get_batch_texts(idx)\n",
        "        batch_y = self.get_batch_labels(idx)\n",
        "\n",
        "        return batch_texts, batch_y\n",
        "    # def remove_html_tags(self):\n",
        "    #     \"\"\"Remove html tags from a string\"\"\"\n",
        "    #     for w in self.texts:\n",
        "    #       clean = re.compile('<.*?>')\n",
        "    #     return re.sub(clean, '', self.texts)\n",
        "    \n",
        "    # def remove_punctuation(self):\n",
        "    #     \"\"\"Remove punctuation from a string\"\"\"\n",
        "    #     return self.texts.translate(str.maketrans('', '', string.punctuation))\n",
        "    \n",
        "    # def lowercase(self):\n",
        "    #     \"\"\"Lowercase a string\"\"\"\n",
        "    #     return self.texts.lower()\n",
        "    \n",
        "    # def remove_stopwords(self):\n",
        "    #     \"\"\"Remove stopwords from a string\"\"\"\n",
        "    #     return ' '.join([word for word in self.texts.split() if word not in (stopwords.words('english'))])\n",
        "\n",
        "    # def lemmatize(self):\n",
        "    #     \"\"\"Lemmatize a string\"\"\"\n",
        "    #     return ' '.join([WordNetLemmatizer().lemmatize(word) for word in self.texts.split()])\n"
      ]
    },
    {
      "cell_type": "markdown",
      "source": [
        "## Model"
      ],
      "metadata": {
        "id": "EOWKI8G4zoIK"
      }
    },
    {
      "cell_type": "code",
      "execution_count": null,
      "metadata": {
        "id": "d82EnUWUvonW"
      },
      "outputs": [],
      "source": [
        "from torch.nn.modules import linear\n",
        "from torch import nn\n",
        "from transformers import BertModel\n",
        "\n",
        "class BertClassifier(nn.Module):\n",
        "\n",
        "    def __init__(self, dropout=0.5):\n",
        "\n",
        "        super(BertClassifier, self).__init__()\n",
        "\n",
        "        self.bert = BertModel.from_pretrained('bert-base-cased')\n",
        "        self.dropout_1 = nn.Dropout(dropout)\n",
        "        self.linear_1 = nn.Linear(768,512)\n",
        "        self.dropout_2 = nn.Dropout(dropout)\n",
        "        self.linear_2 = nn.Linear(512, 256)\n",
        "        self.dropout_3 = nn.Dropout(dropout)\n",
        "        self.linear_3 = nn.Linear(256, 128)\n",
        "        self.dropout_4 = nn.Dropout(dropout)\n",
        "        self.linear_4= nn.Linear(128, 64)\n",
        "        self.dropout_5 = nn.Dropout(dropout)\n",
        "        self.linear_5= nn.Linear(64, 2)\n",
        "        self.relu = nn.ReLU()\n",
        "\n",
        "    def forward(self, input_id, mask):\n",
        "\n",
        "        _, pooled_output = self.bert(input_ids= input_id, attention_mask=mask,return_dict=False)\n",
        "        dropout_output = self.dropout_1(pooled_output)\n",
        "        linear_output_1 = self.linear_1(dropout_output)\n",
        "        dropout_output_1 = self.dropout_2(linear_output_1)\n",
        "        linear_output_2 = self.linear_2(dropout_output_1)\n",
        "        dropout_output_2 = self.dropout_3(linear_output_2)\n",
        "        linear_output_3 = self.linear_3(dropout_output_2)\n",
        "        dropout_output_3 = self.dropout_4(linear_output_3)\n",
        "        linear_output_4 = self.linear_4(dropout_output_3)\n",
        "        dropout_output_4 = self.dropout_5(linear_output_4)\n",
        "        linear_output_5 = self.linear_5(dropout_output_4)\n",
        "        final_layer = self.relu(linear_output_5)\n",
        "\n",
        "        return final_layer"
      ]
    },
    {
      "cell_type": "code",
      "execution_count": null,
      "metadata": {
        "id": "Yqj97bRhBGju"
      },
      "outputs": [],
      "source": [
        "import shutil, sys   \n",
        "def save_ckp(state, is_best, checkpoint_path, best_model_path):\n",
        "    \"\"\"\n",
        "    state: checkpoint we want to save\n",
        "    is_best: is this the best checkpoint; min validation loss\n",
        "    checkpoint_path: path to save checkpoint\n",
        "    best_model_path: path to save best model\n",
        "    \"\"\"\n",
        "    f_path = checkpoint_path\n",
        "    # save checkpoint data to the path given, checkpoint_path\n",
        "    torch.save(state, f_path)\n",
        "    # if it is a best model, min validation loss\n",
        "    if is_best:\n",
        "        best_fpath = best_model_path\n",
        "        # copy that checkpoint file to best path given, best_model_path\n",
        "        shutil.copyfile(f_path, best_fpath)"
      ]
    },
    {
      "cell_type": "markdown",
      "source": [
        "# Loss as a metric"
      ],
      "metadata": {
        "id": "vnpip5jlTztg"
      }
    },
    {
      "cell_type": "code",
      "execution_count": null,
      "metadata": {
        "colab": {
          "base_uri": "https://localhost:8080/",
          "height": 121,
          "referenced_widgets": [
            "a671669a029e47348342cc64a3cd2143",
            "c80e6befbed340289fd1e1ee4e62862f",
            "c457aaab6fcc459bbf95ed3432b444a9",
            "36f600592d644fb883473c9420173f83",
            "070ea5eb1cda4fb8a08fc5fccec34057",
            "421e11a405194ab8a066f1b6b9d5242a",
            "626430ebab2d4b34a2709e6118101ca8",
            "9aa85d6300ca4e2fa4d4e5c12e3ee8be",
            "d81383a05485480886ec7265dcc0443e",
            "a4c2c75c48e148658b6921c37ab2d0be",
            "b7bcd61b10b948469f55a57f888bbc7b"
          ]
        },
        "id": "Ra6R6Erm0qP2",
        "outputId": "961a50dd-9a7c-4da0-ad22-177425d221f7"
      },
      "outputs": [
        {
          "output_type": "display_data",
          "data": {
            "text/plain": [
              "Downloading:   0%|          | 0.00/436M [00:00<?, ?B/s]"
            ],
            "application/vnd.jupyter.widget-view+json": {
              "version_major": 2,
              "version_minor": 0,
              "model_id": "a671669a029e47348342cc64a3cd2143"
            }
          },
          "metadata": {}
        },
        {
          "output_type": "stream",
          "name": "stderr",
          "text": [
            "Some weights of the model checkpoint at bert-base-cased were not used when initializing BertModel: ['cls.predictions.decoder.weight', 'cls.predictions.transform.LayerNorm.weight', 'cls.seq_relationship.bias', 'cls.predictions.transform.dense.weight', 'cls.predictions.bias', 'cls.seq_relationship.weight', 'cls.predictions.transform.LayerNorm.bias', 'cls.predictions.transform.dense.bias']\n",
            "- This IS expected if you are initializing BertModel from the checkpoint of a model trained on another task or with another architecture (e.g. initializing a BertForSequenceClassification model from a BertForPreTraining model).\n",
            "- This IS NOT expected if you are initializing BertModel from the checkpoint of a model that you expect to be exactly identical (initializing a BertForSequenceClassification model from a BertForSequenceClassification model).\n"
          ]
        }
      ],
      "source": [
        "epochs = [1,2,3,4,5]\n",
        "test_acc =[]\n",
        "val_acc=[]\n",
        "\n",
        "from torch.optim import Adam\n",
        "from tqdm import tqdm\n",
        "\n",
        "def train(model, train_data, val_data, learning_rate, epochs,checkpoint_path , best_model_path , valid_loss_min_input):\n",
        "    test_acc.clear()\n",
        "    val_acc.clear()\n",
        "    valid_loss_min = valid_loss_min_input \n",
        "    train, val = Dataset(train_data), Dataset(val_data)\n",
        "    # preprocess the data\n",
        "    # train.preprocess()\n",
        "    # val.preprocess()\n",
        "    \n",
        "\n",
        "    train_dataloader = torch.utils.data.DataLoader(train, batch_size=4, shuffle=True)\n",
        "    val_dataloader = torch.utils.data.DataLoader(val, batch_size=4)\n",
        "\n",
        "    use_cuda = torch.cuda.is_available()\n",
        "    device = torch.device(\"cuda\" if use_cuda else \"cpu\")\n",
        "\n",
        "    criterion = nn.CrossEntropyLoss()\n",
        "    optimizer = Adam(model.parameters(), lr= learning_rate)\n",
        "\n",
        "    if use_cuda:\n",
        "\n",
        "            model = model.cuda()\n",
        "            criterion = criterion.cuda()\n",
        "\n",
        "    for epoch_num in epochs:\n",
        "            total_acc_train = 0\n",
        "            total_loss_train = 0\n",
        "\n",
        "            for train_input, train_label in tqdm(train_dataloader):\n",
        "\n",
        "                train_label = train_label.to(device)\n",
        "                mask = train_input['attention_mask'].to(device)\n",
        "                input_id = train_input['input_ids'].squeeze(1).to(device)\n",
        "\n",
        "                output = model(input_id, mask)\n",
        "                # train_label_squeeze = train_label\n",
        "                # train_label = train_label.unsqueeze(1)\n",
        "                # train_label = train_label.float()\n",
        "                batch_loss = criterion(output, train_label)\n",
        "                total_loss_train += batch_loss.item()\n",
        "                \n",
        "                acc = (output.argmax(dim=1) == train_label).sum().item()\n",
        "                total_acc_train += acc\n",
        "                model.zero_grad()\n",
        "                batch_loss.backward()\n",
        "                optimizer.step()\n",
        "            \n",
        "            total_acc_val = 0\n",
        "            total_loss_val = 0\n",
        "\n",
        "            with torch.no_grad():\n",
        "\n",
        "                for val_input, val_label in val_dataloader:\n",
        "\n",
        "                    val_label = val_label.to(device)\n",
        "                    mask = val_input['attention_mask'].to(device)\n",
        "                    input_id = val_input['input_ids'].squeeze(1).to(device)\n",
        "\n",
        "                    output = model(input_id, mask)\n",
        "                    batch_loss = criterion(output, val_label)\n",
        "                    total_loss_val += batch_loss.item()\n",
        "                    \n",
        "                    acc = (output.argmax(dim=1) == val_label).sum().item()\n",
        "                    total_acc_val += acc\n",
        "            \n",
        "            print(\n",
        "                f'Epochs: {epoch_num } | Train Loss: {total_loss_train / len(train_data): .3f} \\\n",
        "                | Train Accuracy: {total_acc_train / len(train_data): .3f} \\\n",
        "                | Val Loss: {total_loss_val / len(val_data): .3f} \\\n",
        "                | Val Accuracy: {total_acc_val / len(val_data): .3f}')\n",
        "            test_acc.append(total_acc_train / len(train_data))\n",
        "            val_acc.append(total_acc_val / len(val_data))\n",
        "          \n",
        "            valid_loss = total_loss_val/len(val_data)\n",
        "            checkpoint = {\n",
        "                'epoch': epoch_num ,\n",
        "                'valid_loss_min': valid_loss,\n",
        "                'state_dict': model.state_dict(),\n",
        "                'optimizer': optimizer.state_dict(),\n",
        "                'learning_rate': learning_rate\n",
        "                }\n",
        "            save_ckp(checkpoint, False, checkpoint_path, best_model_path)\n",
        "\n",
        "            if valid_loss <= valid_loss_min:\n",
        "              print('Validation loss decreased ({:.6f} --> {:.6f}).  Saving model ...'.format(valid_loss_min,valid_loss))\n",
        "              # save checkpoint as best model\n",
        "              save_ckp(checkpoint, True, checkpoint_path, best_model_path)\n",
        "              valid_loss_min = valid_loss\n",
        "                  \n",
        "# EPOCHS = 5\n",
        "model = BertClassifier()\n",
        "LR = 1e-6\n",
        "checkpoint_path = '/content/drive/MyDrive/bert/checkpoints/check.pt'\n",
        "best_model = '/content/drive/MyDrive/bert/bestmodel/model.pt'"
      ]
    },
    {
      "cell_type": "code",
      "execution_count": null,
      "metadata": {
        "colab": {
          "base_uri": "https://localhost:8080/"
        },
        "id": "Q-azte2GBoE9",
        "outputId": "6c2a351a-6282-4d84-cd5f-87e972baa33a"
      },
      "outputs": [
        {
          "output_type": "stream",
          "name": "stderr",
          "text": [
            "100%|██████████| 8750/8750 [58:13<00:00,  2.50it/s]\n"
          ]
        },
        {
          "output_type": "stream",
          "name": "stdout",
          "text": [
            "Epochs: 1 | Train Loss:  0.145                 | Train Accuracy:  0.693                 | Val Loss:  0.099                 | Val Accuracy:  0.863\n",
            "Validation loss decreased (inf --> 0.098877).  Saving model ...\n"
          ]
        },
        {
          "output_type": "stream",
          "name": "stderr",
          "text": [
            "100%|██████████| 8750/8750 [58:21<00:00,  2.50it/s]\n"
          ]
        },
        {
          "output_type": "stream",
          "name": "stdout",
          "text": [
            "Epochs: 2 | Train Loss:  0.081                 | Train Accuracy:  0.889                 | Val Loss:  0.075                 | Val Accuracy:  0.889\n",
            "Validation loss decreased (0.098877 --> 0.075061).  Saving model ...\n"
          ]
        },
        {
          "output_type": "stream",
          "name": "stderr",
          "text": [
            "100%|██████████| 8750/8750 [58:21<00:00,  2.50it/s]\n"
          ]
        },
        {
          "output_type": "stream",
          "name": "stdout",
          "text": [
            "Epochs: 3 | Train Loss:  0.059                 | Train Accuracy:  0.921                 | Val Loss:  0.073                 | Val Accuracy:  0.886\n",
            "Validation loss decreased (0.075061 --> 0.073194).  Saving model ...\n"
          ]
        },
        {
          "output_type": "stream",
          "name": "stderr",
          "text": [
            "100%|██████████| 8750/8750 [58:25<00:00,  2.50it/s]\n"
          ]
        },
        {
          "output_type": "stream",
          "name": "stdout",
          "text": [
            "Epochs: 4 | Train Loss:  0.043                 | Train Accuracy:  0.950                 | Val Loss:  0.076                 | Val Accuracy:  0.894\n"
          ]
        },
        {
          "output_type": "stream",
          "name": "stderr",
          "text": [
            "100%|██████████| 8750/8750 [58:24<00:00,  2.50it/s]\n"
          ]
        },
        {
          "output_type": "stream",
          "name": "stdout",
          "text": [
            "Epochs: 5 | Train Loss:  0.028                 | Train Accuracy:  0.972                 | Val Loss:  0.089                 | Val Accuracy:  0.891\n"
          ]
        }
      ],
      "source": [
        "EPOCHS =[1,2,3,4,5]\n",
        "train(model, train_data, validation_data, LR, EPOCHS,checkpoint_path, best_model,np.Inf)"
      ]
    },
    {
      "cell_type": "code",
      "source": [],
      "metadata": {
        "id": "JTDzcUKH3q6H"
      },
      "execution_count": null,
      "outputs": []
    },
    {
      "cell_type": "code",
      "source": [
        "\n",
        "def load_ckp(checkpoint_fpath, model, optimizer):\n",
        "    \"\"\"\n",
        "    checkpoint_path: path to save checkpoint\n",
        "    model: model that we want to load checkpoint parameters into       \n",
        "    optimizer: optimizer we defined in previous training\n",
        "    \"\"\"\n",
        "    # load check point\n",
        "    checkpoint = torch.load(checkpoint_fpath)\n",
        "    # initialize state_dict from checkpoint to model\n",
        "    model.load_state_dict(checkpoint['state_dict'])\n",
        "    # initialize optimizer from checkpoint to optimizer\n",
        "    optimizer.load_state_dict(checkpoint['optimizer'])\n",
        "    # initialize valid_loss_min from checkpoint to valid_loss_min\n",
        "    valid_loss_min = checkpoint['valid_loss_min']\n",
        "    lr =  checkpoint['learning_rate']\n",
        "    # return model, optimizer, epoch value, min validation loss , lr\n",
        "    return model, optimizer, checkpoint['epoch'], valid_loss_min , lr"
      ],
      "metadata": {
        "id": "-rLdJDps9T13"
      },
      "execution_count": null,
      "outputs": []
    },
    {
      "cell_type": "code",
      "source": [
        "model_lr5 = BertClassifier()\n",
        "LR_lr5 = 1e-5\n",
        "checkpoint_path_lr5 = '/content/drive/MyDrive/bert/checkpoints_lr1.e5/check.pt'\n",
        "best_model_lr5 = '/content/drive/MyDrive/bert/bestmodel_lr1.e5/model.pt'"
      ],
      "metadata": {
        "colab": {
          "base_uri": "https://localhost:8080/"
        },
        "id": "74QoiksPC4g7",
        "outputId": "ddde2e93-0cff-4f78-8eb1-2c2b495efe29"
      },
      "execution_count": null,
      "outputs": [
        {
          "output_type": "stream",
          "name": "stderr",
          "text": [
            "Some weights of the model checkpoint at bert-base-cased were not used when initializing BertModel: ['cls.predictions.decoder.weight', 'cls.predictions.transform.LayerNorm.weight', 'cls.seq_relationship.bias', 'cls.predictions.transform.dense.weight', 'cls.predictions.bias', 'cls.seq_relationship.weight', 'cls.predictions.transform.LayerNorm.bias', 'cls.predictions.transform.dense.bias']\n",
            "- This IS expected if you are initializing BertModel from the checkpoint of a model trained on another task or with another architecture (e.g. initializing a BertForSequenceClassification model from a BertForPreTraining model).\n",
            "- This IS NOT expected if you are initializing BertModel from the checkpoint of a model that you expect to be exactly identical (initializing a BertForSequenceClassification model from a BertForSequenceClassification model).\n"
          ]
        }
      ]
    },
    {
      "cell_type": "code",
      "source": [
        "EPOCHS_lr5 =[1,2,3,4,5]\n",
        "train(model_lr5, train_data, validation_data, LR_lr5, EPOCHS_lr5,checkpoint_path_lr5, best_model_lr5,np.Inf)"
      ],
      "metadata": {
        "colab": {
          "base_uri": "https://localhost:8080/"
        },
        "id": "a_fs5HPbDmRp",
        "outputId": "9fc00c6c-c9c8-440c-9443-8af3d2136202"
      },
      "execution_count": null,
      "outputs": [
        {
          "metadata": {
            "tags": null
          },
          "name": "stderr",
          "output_type": "stream",
          "text": [
            "100%|██████████| 8750/8750 [53:46<00:00,  2.71it/s]\n"
          ]
        },
        {
          "metadata": {
            "tags": null
          },
          "name": "stdout",
          "output_type": "stream",
          "text": [
            "Epochs: 1 | Train Loss:  0.105                 | Train Accuracy:  0.790                 | Val Loss:  0.068                 | Val Accuracy:  0.894\n",
            "Validation loss decreased (inf --> 0.067615).  Saving model ...\n"
          ]
        },
        {
          "metadata": {
            "tags": null
          },
          "name": "stderr",
          "output_type": "stream",
          "text": [
            "100%|██████████| 8750/8750 [53:57<00:00,  2.70it/s]\n"
          ]
        },
        {
          "metadata": {
            "tags": null
          },
          "name": "stdout",
          "output_type": "stream",
          "text": [
            "Epochs: 2 | Train Loss:  0.050                 | Train Accuracy:  0.927                 | Val Loss:  0.072                 | Val Accuracy:  0.897\n"
          ]
        },
        {
          "metadata": {
            "tags": null
          },
          "name": "stderr",
          "output_type": "stream",
          "text": [
            "100%|██████████| 8750/8750 [53:58<00:00,  2.70it/s]\n"
          ]
        },
        {
          "metadata": {
            "tags": null
          },
          "name": "stdout",
          "output_type": "stream",
          "text": [
            "Epochs: 3 | Train Loss:  0.023                 | Train Accuracy:  0.972                 | Val Loss:  0.077                 | Val Accuracy:  0.912\n"
          ]
        },
        {
          "metadata": {
            "tags": null
          },
          "name": "stderr",
          "output_type": "stream",
          "text": [
            "100%|██████████| 8750/8750 [53:55<00:00,  2.70it/s]\n"
          ]
        },
        {
          "metadata": {
            "tags": null
          },
          "name": "stdout",
          "output_type": "stream",
          "text": [
            "Epochs: 4 | Train Loss:  0.011                 | Train Accuracy:  0.989                 | Val Loss:  0.113                 | Val Accuracy:  0.910\n"
          ]
        },
        {
          "output_type": "stream",
          "name": "stderr",
          "text": [
            "100%|██████████| 8750/8750 [53:53<00:00,  2.71it/s]\n"
          ]
        },
        {
          "output_type": "stream",
          "name": "stdout",
          "text": [
            "Epochs: 5 | Train Loss:  0.008                 | Train Accuracy:  0.992                 | Val Loss:  0.111                 | Val Accuracy:  0.903\n"
          ]
        }
      ]
    },
    {
      "cell_type": "code",
      "source": [],
      "metadata": {
        "id": "OAlte7VP3NrC"
      },
      "execution_count": null,
      "outputs": []
    },
    {
      "cell_type": "code",
      "source": [],
      "metadata": {
        "id": "TQMn_Ry43cQq"
      },
      "execution_count": null,
      "outputs": []
    },
    {
      "cell_type": "code",
      "source": [
        "# reload ckp and start training from the last epoch\n",
        "model_lr5 = BertClassifier()\n",
        "optimizer_lr5 = Adam(model.parameters(), lr= LR_lr5)\n",
        "model_lr5, optimizer_lr5, start_epoch, valid_loss_min_lr5, LR_lr5 = load_ckp(checkpoint_path_lr5, model_lr5, optimizer_lr5)\n",
        "EPOCHS_lr5 = range(start_epoch+1,8)\n",
        "print(EPOCHS_lr5)"
      ],
      "metadata": {
        "colab": {
          "base_uri": "https://localhost:8080/"
        },
        "id": "Or_RHab_RN-M",
        "outputId": "80c9e694-1702-45d0-ac41-e1e1a5dcae17"
      },
      "execution_count": null,
      "outputs": [
        {
          "output_type": "stream",
          "name": "stderr",
          "text": [
            "Some weights of the model checkpoint at bert-base-cased were not used when initializing BertModel: ['cls.predictions.decoder.weight', 'cls.predictions.transform.LayerNorm.weight', 'cls.seq_relationship.bias', 'cls.predictions.transform.dense.weight', 'cls.predictions.bias', 'cls.seq_relationship.weight', 'cls.predictions.transform.LayerNorm.bias', 'cls.predictions.transform.dense.bias']\n",
            "- This IS expected if you are initializing BertModel from the checkpoint of a model trained on another task or with another architecture (e.g. initializing a BertForSequenceClassification model from a BertForPreTraining model).\n",
            "- This IS NOT expected if you are initializing BertModel from the checkpoint of a model that you expect to be exactly identical (initializing a BertForSequenceClassification model from a BertForSequenceClassification model).\n"
          ]
        },
        {
          "output_type": "stream",
          "name": "stdout",
          "text": [
            "range(6, 8)\n"
          ]
        }
      ]
    },
    {
      "cell_type": "code",
      "source": [
        "train(model_lr5, train_data, validation_data, LR_lr5, EPOCHS_lr5,checkpoint_path_lr5, best_model_lr5, valid_loss_min_lr5)"
      ],
      "metadata": {
        "colab": {
          "base_uri": "https://localhost:8080/"
        },
        "id": "Fpki3SXhRcns",
        "outputId": "54b0f1b8-21ce-4998-c90a-4d9abd447003"
      },
      "execution_count": null,
      "outputs": [
        {
          "output_type": "stream",
          "name": "stderr",
          "text": [
            " 23%|██▎       | 1975/8750 [12:05<41:49,  2.70it/s]"
          ]
        }
      ]
    },
    {
      "cell_type": "code",
      "source": [],
      "metadata": {
        "id": "F8PijOT6zUlh"
      },
      "execution_count": null,
      "outputs": []
    },
    {
      "cell_type": "markdown",
      "source": [
        "# Accuracy as a metric"
      ],
      "metadata": {
        "id": "mltdFYxFTr4M"
      }
    },
    {
      "cell_type": "code",
      "source": [
        "# accuracy\n",
        "def load_ckp_accuracy(checkpoint_fpath, model, optimizer):\n",
        "    \"\"\"\n",
        "    checkpoint_path: path to save checkpoint\n",
        "    model: model that we want to load checkpoint parameters into       \n",
        "    optimizer: optimizer we defined in previous training\n",
        "    \"\"\"\n",
        "    # load check point\n",
        "    checkpoint = torch.load(checkpoint_fpath)\n",
        "    # initialize state_dict from checkpoint to model\n",
        "    model.load_state_dict(checkpoint['state_dict'])\n",
        "    # initialize optimizer from checkpoint to optimizer\n",
        "    optimizer.load_state_dict(checkpoint['optimizer'])\n",
        "    # initialize valid_loss_min from checkpoint to valid_loss_min\n",
        "    valid_loss_min = checkpoint['valid_loss_min']\n",
        "    valid_accuracy_max=checkpoint['valid_accuracy_max']\n",
        "    lr =  checkpoint['learning_rate']\n",
        "    # return model, optimizer, epoch value, min validation loss , lr\n",
        "    return model, optimizer, checkpoint['epoch'], valid_accuracy_max , lr"
      ],
      "metadata": {
        "id": "qeh2us4RVEry"
      },
      "execution_count": null,
      "outputs": []
    },
    {
      "cell_type": "code",
      "source": [
        "def load_model_accuracy(bestmodel_fpath, model, optimizer):\n",
        "    \"\"\"\n",
        "    bestmodel_fpath: path to save best model\n",
        "    model: model that we want to load best model parameters into\n",
        "    optimizer: optimizer we defined in previous training\n",
        "    \"\"\"\n",
        "    # load best model\n",
        "    best_model = torch.load(bestmodel_fpath)\n",
        "    # initialize state_dict from best model to model\n",
        "    model.load_state_dict(best_model['state_dict'])\n",
        "    # initialize optimizer from best model to optimizer\n",
        "    optimizer.load_state_dict(best_model['optimizer'])\n",
        "    # initialize valid_loss_min from best model to valid_loss_min\n",
        "    valid_loss_min = best_model['valid_loss_min']\n",
        "    valid_accuracy_max=best_model['valid_accuracy_max']\n",
        "    lr =  best_model['learning_rate']\n",
        "    # return model, optimizer, epoch value, min validation loss , lr\n",
        "    return model, optimizer, best_model['epoch'], valid_accuracy_max , lr"
      ],
      "metadata": {
        "id": "CyV9U-mHVsE4"
      },
      "execution_count": null,
      "outputs": []
    },
    {
      "cell_type": "code",
      "source": [
        "epochs = [1,2,3,4,5,6,7,8,9,10]\n",
        "test_acc =[]\n",
        "val_acc=[]\n",
        "\n",
        "from torch.optim import Adam\n",
        "from tqdm import tqdm\n",
        "\n",
        "def train_accuracy(model, train_data, val_data, learning_rate, epochs,checkpoint_path , best_model_path , valid_accuracy_max_input):\n",
        "    test_acc.clear()\n",
        "    val_acc.clear()\n",
        "    valid_accuracy_max=valid_accuracy_max_input\n",
        "    # valid_loss_min = valid_loss_min_input \n",
        "    train, val = Dataset(train_data), Dataset(val_data)\n",
        "\n",
        "    train_dataloader = torch.utils.data.DataLoader(train, batch_size=4, shuffle=True)\n",
        "    val_dataloader = torch.utils.data.DataLoader(val, batch_size=4)\n",
        "\n",
        "    use_cuda = torch.cuda.is_available()\n",
        "    device = torch.device(\"cuda\" if use_cuda else \"cpu\")\n",
        "\n",
        "    criterion = nn.CrossEntropyLoss()\n",
        "    optimizer = Adam(model.parameters(), lr= learning_rate)\n",
        "\n",
        "    if use_cuda:\n",
        "\n",
        "            model = model.cuda()\n",
        "            criterion = criterion.cuda()\n",
        "\n",
        "    for epoch_num in epochs:\n",
        "            total_acc_train = 0\n",
        "            total_loss_train = 0\n",
        "\n",
        "            for train_input, train_label in tqdm(train_dataloader):\n",
        "\n",
        "                train_label = train_label.to(device)\n",
        "                mask = train_input['attention_mask'].to(device)\n",
        "                input_id = train_input['input_ids'].squeeze(1).to(device)\n",
        "\n",
        "                output = model(input_id, mask)\n",
        "                # train_label_squeeze = train_label\n",
        "                # train_label = train_label.unsqueeze(1)\n",
        "                # train_label = train_label.float()\n",
        "                batch_loss = criterion(output, train_label)\n",
        "                total_loss_train += batch_loss.item()\n",
        "                \n",
        "                acc = (output.argmax(dim=1) == train_label).sum().item()\n",
        "                total_acc_train += acc\n",
        "                model.zero_grad()\n",
        "                batch_loss.backward()\n",
        "                optimizer.step()\n",
        "            \n",
        "            total_acc_val = 0\n",
        "            total_loss_val = 0\n",
        "\n",
        "            with torch.no_grad():\n",
        "\n",
        "                for val_input, val_label in val_dataloader:\n",
        "\n",
        "                    val_label = val_label.to(device)\n",
        "                    mask = val_input['attention_mask'].to(device)\n",
        "                    input_id = val_input['input_ids'].squeeze(1).to(device)\n",
        "\n",
        "                    output = model(input_id, mask)\n",
        "                    batch_loss = criterion(output, val_label)\n",
        "                    total_loss_val += batch_loss.item()\n",
        "                    \n",
        "                    acc = (output.argmax(dim=1) == val_label).sum().item()\n",
        "                    total_acc_val += acc\n",
        "            \n",
        "            print(\n",
        "                f'Epochs: {epoch_num } | Train Loss: {total_loss_train / len(train_data): .3f} \\\n",
        "                | Train Accuracy: {total_acc_train / len(train_data): .3f} \\\n",
        "                | Val Loss: {total_loss_val / len(val_data): .3f} \\\n",
        "                | Val Accuracy: {total_acc_val / len(val_data): .3f}')\n",
        "            test_acc.append(total_acc_train / len(train_data))\n",
        "            val_acc.append(total_acc_val / len(val_data))\n",
        "          \n",
        "            valid_loss = total_loss_val/len(val_data)\n",
        "            valid_accuracy=total_acc_val / len(val_data)\n",
        "            checkpoint = {\n",
        "                'epoch': epoch_num ,\n",
        "                'valid_loss_min': valid_loss,\n",
        "                'valid_accuracy_max':total_acc_val / len(val_data),\n",
        "                'state_dict': model.state_dict(),\n",
        "                'optimizer': optimizer.state_dict(),\n",
        "                'learning_rate': learning_rate\n",
        "                }\n",
        "            save_ckp(checkpoint, False, checkpoint_path, best_model_path)\n",
        "\n",
        "            if valid_accuracy >= valid_accuracy_max:\n",
        "              print('Validation Accuracy increased ({:.6f} --> {:.6f}).  Saving model ...'.format(valid_accuracy_max,valid_accuracy))\n",
        "              # save checkpoint as best model\n",
        "              save_ckp(checkpoint, True, checkpoint_path, best_model_path)\n",
        "              # valid_loss_min = valid_loss\n",
        "              valid_accuracy_max=valid_accuracy\n",
        "                  \n",
        "# EPOCHS = 5\n",
        "model = BertClassifier()\n",
        "LR = 1e-5\n",
        "checkpoint_path = '/content/drive/MyDrive/bert/checkpointsacc/check.pt'\n",
        "best_model = '/content/drive/MyDrive/bert/bestmodelacc/model.pt'"
      ],
      "metadata": {
        "id": "Zb8MmZ8rVWYC",
        "colab": {
          "base_uri": "https://localhost:8080/",
          "height": 121,
          "referenced_widgets": [
            "3cf6ee0c6d0348d5813f451215e2fbdb",
            "0bb7b2e603124052975584f6c46030f4",
            "0f4b1ce471464a4f86879b2c38e8ee44",
            "b2d79907e6ea48d8ac2f5c2e5924464e",
            "802bdfddefe241cda89ed8722d16ed9b",
            "9f54b9f1051347bb9589d85da99f8df5",
            "cebf03779226454fba16fb6a9da166da",
            "4c4a50a426f547c984b50902af9157f3",
            "b644df5a38ad44a6b5c51d2d31faee7b",
            "dc7586caa8a24a80861b1877c947f6f4",
            "09d2641103a641d7a2e08504dd4d447c"
          ]
        },
        "outputId": "6224fcc5-253f-4b6f-d26b-36e0148054d1"
      },
      "execution_count": null,
      "outputs": [
        {
          "output_type": "display_data",
          "data": {
            "text/plain": [
              "Downloading (…)\"pytorch_model.bin\";:   0%|          | 0.00/436M [00:00<?, ?B/s]"
            ],
            "application/vnd.jupyter.widget-view+json": {
              "version_major": 2,
              "version_minor": 0,
              "model_id": "3cf6ee0c6d0348d5813f451215e2fbdb"
            }
          },
          "metadata": {}
        },
        {
          "output_type": "stream",
          "name": "stderr",
          "text": [
            "Some weights of the model checkpoint at bert-base-cased were not used when initializing BertModel: ['cls.seq_relationship.bias', 'cls.predictions.transform.LayerNorm.bias', 'cls.predictions.transform.dense.weight', 'cls.predictions.transform.LayerNorm.weight', 'cls.predictions.transform.dense.bias', 'cls.predictions.decoder.weight', 'cls.predictions.bias', 'cls.seq_relationship.weight']\n",
            "- This IS expected if you are initializing BertModel from the checkpoint of a model trained on another task or with another architecture (e.g. initializing a BertForSequenceClassification model from a BertForPreTraining model).\n",
            "- This IS NOT expected if you are initializing BertModel from the checkpoint of a model that you expect to be exactly identical (initializing a BertForSequenceClassification model from a BertForSequenceClassification model).\n"
          ]
        }
      ]
    },
    {
      "cell_type": "markdown",
      "source": [
        "# Training"
      ],
      "metadata": {
        "id": "MxtSCOCtzrxE"
      }
    },
    {
      "cell_type": "markdown",
      "source": [
        "##1e-3\n"
      ],
      "metadata": {
        "id": "l1HLI-QddJKW"
      }
    },
    {
      "cell_type": "code",
      "source": [
        "LR = 1e-5\n",
        "epochs = [1,2,3,4,5,6,7,8,9,10]\n",
        "test_acc =[]\n",
        "val_acc=[]\n",
        "checkpoint_path = '/content/drive/MyDrive/bert/checkpoints/check.pt'\n",
        "best_model = '/content/drive/MyDrive/bert/bestmodel/model.pt'"
      ],
      "metadata": {
        "id": "4i0s8b2MdO5P"
      },
      "execution_count": null,
      "outputs": []
    },
    {
      "cell_type": "code",
      "source": [
        "model = BertClassifier()\n",
        "optimizer = Adam(model.parameters(), lr= LR)\n",
        "train_accuracy(model, train_data, validation_data, LR, epochs,checkpoint_path, best_model, -np.inf)"
      ],
      "metadata": {
        "colab": {
          "base_uri": "https://localhost:8080/"
        },
        "outputId": "6d0056fd-518d-4b4f-ae11-9f2fdfd4923b",
        "id": "b6EVElOYdgpU"
      },
      "execution_count": null,
      "outputs": [
        {
          "output_type": "stream",
          "name": "stderr",
          "text": [
            "Some weights of the model checkpoint at bert-base-cased were not used when initializing BertModel: ['cls.predictions.transform.LayerNorm.bias', 'cls.predictions.decoder.weight', 'cls.seq_relationship.bias', 'cls.predictions.transform.dense.weight', 'cls.seq_relationship.weight', 'cls.predictions.bias', 'cls.predictions.transform.dense.bias', 'cls.predictions.transform.LayerNorm.weight']\n",
            "- This IS expected if you are initializing BertModel from the checkpoint of a model trained on another task or with another architecture (e.g. initializing a BertForSequenceClassification model from a BertForPreTraining model).\n",
            "- This IS NOT expected if you are initializing BertModel from the checkpoint of a model that you expect to be exactly identical (initializing a BertForSequenceClassification model from a BertForSequenceClassification model).\n",
            "100%|██████████| 8750/8750 [52:18<00:00,  2.79it/s]\n"
          ]
        },
        {
          "output_type": "stream",
          "name": "stdout",
          "text": [
            "Epochs: 1 | Train Loss:  0.174                 | Train Accuracy:  0.500                 | Val Loss:  0.175                 | Val Accuracy:  0.500\n",
            "Validation Accuracy increased (-inf --> 0.500000).  Saving model ...\n"
          ]
        },
        {
          "output_type": "stream",
          "name": "stderr",
          "text": [
            "100%|██████████| 8750/8750 [52:02<00:00,  2.80it/s]\n"
          ]
        },
        {
          "output_type": "stream",
          "name": "stdout",
          "text": [
            "Epochs: 2 | Train Loss:  0.181                 | Train Accuracy:  0.500                 | Val Loss:  0.173                 | Val Accuracy:  0.500\n",
            "Validation Accuracy increased (0.500000 --> 0.500000).  Saving model ...\n"
          ]
        },
        {
          "output_type": "stream",
          "name": "stderr",
          "text": [
            " 27%|██▋       | 2399/8750 [14:11<37:36,  2.81it/s]"
          ]
        }
      ]
    },
    {
      "cell_type": "code",
      "source": [
        "# reload ckp and start training from the last epoch\n",
        "model = BertClassifier()\n",
        "optimizer = Adam(model.parameters(), lr= LR)\n",
        "_,_, epochbest, valid_accuracy_max,_ = load_model_accuracy(best_model, model, optimizer)\n",
        "model = BertClassifier()\n",
        "optimizer = Adam(model.parameters(), lr= LR)\n",
        "model, optimizer, start_epoch,_, LR = load_ckp_accuracy(checkpoint_path, model, optimizer)\n",
        "EPOCHS = range(start_epoch+1,11)\n",
        "print(EPOCHS)"
      ],
      "metadata": {
        "colab": {
          "base_uri": "https://localhost:8080/"
        },
        "outputId": "8a8c6baf-d792-43c4-a98b-5339ccf491fa",
        "id": "V8fSsMHhdld_"
      },
      "execution_count": null,
      "outputs": [
        {
          "output_type": "stream",
          "name": "stderr",
          "text": [
            "Some weights of the model checkpoint at bert-base-cased were not used when initializing BertModel: ['cls.seq_relationship.bias', 'cls.predictions.decoder.weight', 'cls.predictions.transform.dense.bias', 'cls.predictions.transform.LayerNorm.bias', 'cls.predictions.bias', 'cls.predictions.transform.LayerNorm.weight', 'cls.seq_relationship.weight', 'cls.predictions.transform.dense.weight']\n",
            "- This IS expected if you are initializing BertModel from the checkpoint of a model trained on another task or with another architecture (e.g. initializing a BertForSequenceClassification model from a BertForPreTraining model).\n",
            "- This IS NOT expected if you are initializing BertModel from the checkpoint of a model that you expect to be exactly identical (initializing a BertForSequenceClassification model from a BertForSequenceClassification model).\n",
            "Some weights of the model checkpoint at bert-base-cased were not used when initializing BertModel: ['cls.seq_relationship.bias', 'cls.predictions.decoder.weight', 'cls.predictions.transform.dense.bias', 'cls.predictions.transform.LayerNorm.bias', 'cls.predictions.bias', 'cls.predictions.transform.LayerNorm.weight', 'cls.seq_relationship.weight', 'cls.predictions.transform.dense.weight']\n",
            "- This IS expected if you are initializing BertModel from the checkpoint of a model trained on another task or with another architecture (e.g. initializing a BertForSequenceClassification model from a BertForPreTraining model).\n",
            "- This IS NOT expected if you are initializing BertModel from the checkpoint of a model that you expect to be exactly identical (initializing a BertForSequenceClassification model from a BertForSequenceClassification model).\n"
          ]
        },
        {
          "output_type": "stream",
          "name": "stdout",
          "text": [
            "range(3, 11)\n"
          ]
        }
      ]
    },
    {
      "cell_type": "code",
      "source": [
        "train_accuracy(model, train_data, validation_data, LR, EPOCHS,checkpoint_path, best_model, valid_accuracy_max)"
      ],
      "metadata": {
        "id": "wcM9MxzpdphF"
      },
      "execution_count": null,
      "outputs": []
    },
    {
      "cell_type": "code",
      "source": [
        "# reload ckp and start training from the last epoch\n",
        "model = BertClassifier()\n",
        "optimizer = Adam(model.parameters(), lr= LR)\n",
        "model, optimizer, start_epoch, valid_accuracy_max, LR = load_ckp_accuracy(checkpoint_path, model, optimizer)\n",
        "EPOCHS = range(start_epoch+1,10)\n",
        "print(EPOCHS)"
      ],
      "metadata": {
        "colab": {
          "base_uri": "https://localhost:8080/"
        },
        "outputId": "6efdbbb5-ee0a-4c74-ba9e-3ac6e7d492f4",
        "id": "xW6EzzGjdtJr"
      },
      "execution_count": null,
      "outputs": [
        {
          "output_type": "stream",
          "name": "stderr",
          "text": [
            "Some weights of the model checkpoint at bert-base-cased were not used when initializing BertModel: ['cls.seq_relationship.bias', 'cls.predictions.decoder.weight', 'cls.predictions.transform.dense.bias', 'cls.predictions.transform.LayerNorm.bias', 'cls.predictions.bias', 'cls.predictions.transform.LayerNorm.weight', 'cls.seq_relationship.weight', 'cls.predictions.transform.dense.weight']\n",
            "- This IS expected if you are initializing BertModel from the checkpoint of a model trained on another task or with another architecture (e.g. initializing a BertForSequenceClassification model from a BertForPreTraining model).\n",
            "- This IS NOT expected if you are initializing BertModel from the checkpoint of a model that you expect to be exactly identical (initializing a BertForSequenceClassification model from a BertForSequenceClassification model).\n"
          ]
        },
        {
          "output_type": "stream",
          "name": "stdout",
          "text": [
            "range(3, 10)\n"
          ]
        }
      ]
    },
    {
      "cell_type": "code",
      "source": [
        "train_accuracy(model, train_data, validation_data, LR, EPOCHS,checkpoint_path, best_model, valid_accuracy_max)"
      ],
      "metadata": {
        "id": "nei6knji6eqw",
        "colab": {
          "base_uri": "https://localhost:8080/"
        },
        "outputId": "8df7ddbf-3614-49af-d666-a254bb367b28"
      },
      "execution_count": null,
      "outputs": [
        {
          "output_type": "stream",
          "name": "stderr",
          "text": [
            "100%|██████████| 8750/8750 [51:56<00:00,  2.81it/s]\n"
          ]
        },
        {
          "output_type": "stream",
          "name": "stdout",
          "text": [
            "Epochs: 3 | Train Loss:  0.173                 | Train Accuracy:  0.500                 | Val Loss:  0.173                 | Val Accuracy:  0.500\n",
            "Validation Accuracy increased (0.500000 --> 0.500000).  Saving model ...\n"
          ]
        },
        {
          "output_type": "stream",
          "name": "stderr",
          "text": [
            "100%|██████████| 8750/8750 [51:54<00:00,  2.81it/s]\n"
          ]
        },
        {
          "output_type": "stream",
          "name": "stdout",
          "text": [
            "Epochs: 4 | Train Loss:  0.173                 | Train Accuracy:  0.500                 | Val Loss:  0.173                 | Val Accuracy:  0.500\n",
            "Validation Accuracy increased (0.500000 --> 0.500000).  Saving model ...\n"
          ]
        },
        {
          "output_type": "stream",
          "name": "stderr",
          "text": [
            "100%|██████████| 8750/8750 [51:54<00:00,  2.81it/s]\n"
          ]
        },
        {
          "output_type": "stream",
          "name": "stdout",
          "text": [
            "Epochs: 5 | Train Loss:  0.173                 | Train Accuracy:  0.500                 | Val Loss:  0.173                 | Val Accuracy:  0.500\n",
            "Validation Accuracy increased (0.500000 --> 0.500000).  Saving model ...\n"
          ]
        },
        {
          "output_type": "stream",
          "name": "stderr",
          "text": [
            " 42%|████▏     | 3708/8750 [21:58<29:49,  2.82it/s]"
          ]
        }
      ]
    },
    {
      "cell_type": "code",
      "source": [
        "# reload ckp and start training from the last epoch\n",
        "model = BertClassifier()\n",
        "optimizer = Adam(model.parameters(), lr= LR)\n",
        "model, optimizer, start_epoch, valid_accuracy_max, LR = load_ckp_accuracy(checkpoint_path, model, optimizer)\n",
        "EPOCHS = range(start_epoch+1,10)\n",
        "print(EPOCHS)"
      ],
      "metadata": {
        "colab": {
          "base_uri": "https://localhost:8080/"
        },
        "outputId": "28158182-8bcb-417e-f8c6-33030e329e44",
        "id": "uqE2Yz0ld-93"
      },
      "execution_count": null,
      "outputs": [
        {
          "output_type": "stream",
          "name": "stderr",
          "text": [
            "Some weights of the model checkpoint at bert-base-cased were not used when initializing BertModel: ['cls.predictions.transform.dense.bias', 'cls.predictions.decoder.weight', 'cls.predictions.bias', 'cls.predictions.transform.dense.weight', 'cls.seq_relationship.bias', 'cls.seq_relationship.weight', 'cls.predictions.transform.LayerNorm.bias', 'cls.predictions.transform.LayerNorm.weight']\n",
            "- This IS expected if you are initializing BertModel from the checkpoint of a model trained on another task or with another architecture (e.g. initializing a BertForSequenceClassification model from a BertForPreTraining model).\n",
            "- This IS NOT expected if you are initializing BertModel from the checkpoint of a model that you expect to be exactly identical (initializing a BertForSequenceClassification model from a BertForSequenceClassification model).\n"
          ]
        },
        {
          "output_type": "stream",
          "name": "stdout",
          "text": [
            "range(6, 10)\n"
          ]
        }
      ]
    },
    {
      "cell_type": "code",
      "source": [
        "train_accuracy(model, train_data, validation_data, LR, EPOCHS,checkpoint_path, best_model, valid_accuracy_max)"
      ],
      "metadata": {
        "colab": {
          "base_uri": "https://localhost:8080/"
        },
        "id": "ITl4SoR6FTdF",
        "outputId": "1d7a30b5-18f8-4d82-80d9-6a377c617854"
      },
      "execution_count": null,
      "outputs": [
        {
          "metadata": {
            "tags": null
          },
          "name": "stderr",
          "output_type": "stream",
          "text": [
            "100%|██████████| 8750/8750 [51:04<00:00,  2.86it/s]\n"
          ]
        },
        {
          "metadata": {
            "tags": null
          },
          "name": "stdout",
          "output_type": "stream",
          "text": [
            "Epochs: 6 | Train Loss:  0.173                 | Train Accuracy:  0.500                 | Val Loss:  0.173                 | Val Accuracy:  0.500\n",
            "Validation Accuracy increased (0.500000 --> 0.500000).  Saving model ...\n"
          ]
        },
        {
          "metadata": {
            "tags": null
          },
          "name": "stderr",
          "output_type": "stream",
          "text": [
            "100%|██████████| 8750/8750 [51:02<00:00,  2.86it/s]\n"
          ]
        },
        {
          "metadata": {
            "tags": null
          },
          "name": "stdout",
          "output_type": "stream",
          "text": [
            "Epochs: 7 | Train Loss:  0.173                 | Train Accuracy:  0.500                 | Val Loss:  0.173                 | Val Accuracy:  0.500\n",
            "Validation Accuracy increased (0.500000 --> 0.500000).  Saving model ...\n"
          ]
        },
        {
          "metadata": {
            "tags": null
          },
          "name": "stderr",
          "output_type": "stream",
          "text": [
            "100%|██████████| 8750/8750 [50:58<00:00,  2.86it/s]\n"
          ]
        },
        {
          "metadata": {
            "tags": null
          },
          "name": "stdout",
          "output_type": "stream",
          "text": [
            "Epochs: 8 | Train Loss:  0.173                 | Train Accuracy:  0.500                 | Val Loss:  0.173                 | Val Accuracy:  0.500\n",
            "Validation Accuracy increased (0.500000 --> 0.500000).  Saving model ...\n"
          ]
        },
        {
          "metadata": {
            "tags": null
          },
          "name": "stderr",
          "output_type": "stream",
          "text": [
            "100%|██████████| 8750/8750 [51:02<00:00,  2.86it/s]\n"
          ]
        },
        {
          "output_type": "stream",
          "name": "stdout",
          "text": [
            "Epochs: 9 | Train Loss:  0.173                 | Train Accuracy:  0.500                 | Val Loss:  0.173                 | Val Accuracy:  0.500\n",
            "Validation Accuracy increased (0.500000 --> 0.500000).  Saving model ...\n"
          ]
        }
      ]
    },
    {
      "cell_type": "code",
      "source": [
        "# reload ckp and start training from the last epoch\n",
        "model = BertClassifier()\n",
        "optimizer = Adam(model.parameters(), lr= LR)\n",
        "model, optimizer, start_epoch, valid_accuracy_max, LR = load_ckp_accuracy(checkpoint_path, model, optimizer)\n",
        "valid_accuracy_max=0.899\n",
        "EPOCHS = range(start_epoch+1,10)\n",
        "print(EPOCHS)"
      ],
      "metadata": {
        "colab": {
          "base_uri": "https://localhost:8080/"
        },
        "outputId": "7091c155-3c45-46d8-f3a6-2bae6b81d690",
        "id": "rL6eAExNeGEB"
      },
      "execution_count": null,
      "outputs": [
        {
          "output_type": "stream",
          "name": "stderr",
          "text": [
            "Some weights of the model checkpoint at bert-base-cased were not used when initializing BertModel: ['cls.predictions.transform.dense.bias', 'cls.predictions.decoder.weight', 'cls.predictions.bias', 'cls.predictions.transform.dense.weight', 'cls.seq_relationship.bias', 'cls.seq_relationship.weight', 'cls.predictions.transform.LayerNorm.bias', 'cls.predictions.transform.LayerNorm.weight']\n",
            "- This IS expected if you are initializing BertModel from the checkpoint of a model trained on another task or with another architecture (e.g. initializing a BertForSequenceClassification model from a BertForPreTraining model).\n",
            "- This IS NOT expected if you are initializing BertModel from the checkpoint of a model that you expect to be exactly identical (initializing a BertForSequenceClassification model from a BertForSequenceClassification model).\n"
          ]
        },
        {
          "output_type": "stream",
          "name": "stdout",
          "text": [
            "range(10, 10)\n"
          ]
        }
      ]
    },
    {
      "cell_type": "code",
      "source": [
        "train_accuracy(model, train_data, validation_data, LR, EPOCHS,checkpoint_path, best_model, valid_accuracy_max)"
      ],
      "metadata": {
        "id": "YkpboP7Glb6v"
      },
      "execution_count": null,
      "outputs": []
    },
    {
      "cell_type": "code",
      "source": [
        "# reload ckp and start training from the last epoch\n",
        "model = BertClassifier()\n",
        "optimizer = Adam(model.parameters(), lr= LR)\n",
        "_,_, epochbest, valid_accuracy_max,_ = load_model_accuracy(best_model, model, optimizer)\n",
        "model = BertClassifier()\n",
        "optimizer = Adam(model.parameters(), lr= LR)\n",
        "model, optimizer, start_epoch,_, LR = load_ckp_accuracy(checkpoint_path, model, optimizer)\n",
        "EPOCHS = range(start_epoch+1,11)\n",
        "print(EPOCHS)"
      ],
      "metadata": {
        "colab": {
          "base_uri": "https://localhost:8080/"
        },
        "outputId": "6e85c2ee-435b-4352-98bf-057c07a94f85",
        "id": "J58HQh4IeNoT"
      },
      "execution_count": null,
      "outputs": [
        {
          "output_type": "stream",
          "name": "stderr",
          "text": [
            "Some weights of the model checkpoint at bert-base-cased were not used when initializing BertModel: ['cls.predictions.transform.dense.bias', 'cls.predictions.decoder.weight', 'cls.predictions.bias', 'cls.predictions.transform.dense.weight', 'cls.seq_relationship.bias', 'cls.seq_relationship.weight', 'cls.predictions.transform.LayerNorm.bias', 'cls.predictions.transform.LayerNorm.weight']\n",
            "- This IS expected if you are initializing BertModel from the checkpoint of a model trained on another task or with another architecture (e.g. initializing a BertForSequenceClassification model from a BertForPreTraining model).\n",
            "- This IS NOT expected if you are initializing BertModel from the checkpoint of a model that you expect to be exactly identical (initializing a BertForSequenceClassification model from a BertForSequenceClassification model).\n",
            "Some weights of the model checkpoint at bert-base-cased were not used when initializing BertModel: ['cls.predictions.transform.dense.bias', 'cls.predictions.decoder.weight', 'cls.predictions.bias', 'cls.predictions.transform.dense.weight', 'cls.seq_relationship.bias', 'cls.seq_relationship.weight', 'cls.predictions.transform.LayerNorm.bias', 'cls.predictions.transform.LayerNorm.weight']\n",
            "- This IS expected if you are initializing BertModel from the checkpoint of a model trained on another task or with another architecture (e.g. initializing a BertForSequenceClassification model from a BertForPreTraining model).\n",
            "- This IS NOT expected if you are initializing BertModel from the checkpoint of a model that you expect to be exactly identical (initializing a BertForSequenceClassification model from a BertForSequenceClassification model).\n"
          ]
        },
        {
          "output_type": "stream",
          "name": "stdout",
          "text": [
            "range(10, 11)\n"
          ]
        }
      ]
    },
    {
      "cell_type": "code",
      "source": [
        "train_accuracy(model, train_data, validation_data, LR, EPOCHS,checkpoint_path, best_model, valid_accuracy_max)"
      ],
      "metadata": {
        "colab": {
          "base_uri": "https://localhost:8080/"
        },
        "outputId": "23fe5f8b-8572-4f73-e970-7702d053c999",
        "id": "ZP7MDd_4eRng"
      },
      "execution_count": null,
      "outputs": [
        {
          "output_type": "stream",
          "name": "stderr",
          "text": [
            "100%|██████████| 8750/8750 [50:59<00:00,  2.86it/s]\n"
          ]
        },
        {
          "output_type": "stream",
          "name": "stdout",
          "text": [
            "Epochs: 10 | Train Loss:  0.173                 | Train Accuracy:  0.500                 | Val Loss:  0.173                 | Val Accuracy:  0.500\n",
            "Validation Accuracy increased (0.500000 --> 0.500000).  Saving model ...\n"
          ]
        }
      ]
    },
    {
      "cell_type": "code",
      "source": [
        "train_acc=[0.500,0.500,0.500,0.500,0.500,0.500,0.500,0.500,0.500,0.500]\n",
        "val_acc=[0.500,0.500,0.50,0.500,0.500,0.500,0.500,0.500,0.500,0.500]"
      ],
      "metadata": {
        "id": "6wfryAIzen45"
      },
      "execution_count": null,
      "outputs": []
    },
    {
      "cell_type": "code",
      "source": [
        "plt.plot(range(1,11), val_acc, label='Validation Accuracy')\n",
        "plt.plot(range(1,11), train_acc, label='Training Accuracy')\n",
        "plt.legend()\n",
        "plt.xlabel('Epochs')\n",
        "plt.ylabel('Validation Accuracy and Training Accuracy')\n",
        "plt.title('Accuracy vs Epochs')\n",
        "plt.show()"
      ],
      "metadata": {
        "colab": {
          "base_uri": "https://localhost:8080/",
          "height": 295
        },
        "id": "zn-Hr_OAeprb",
        "outputId": "0bc7c20d-9f72-40f0-ce50-e313190da80c"
      },
      "execution_count": null,
      "outputs": [
        {
          "output_type": "display_data",
          "data": {
            "text/plain": [
              "<Figure size 432x288 with 1 Axes>"
            ],
            "image/png": "[encoded data removed]"
          },
          "metadata": {
            "needs_background": "light"
          }
        }
      ]
    },
    {
      "cell_type": "markdown",
      "source": [
        "## 1e-5"
      ],
      "metadata": {
        "id": "YnXdWoCNzv7E"
      }
    },
    {
      "cell_type": "code",
      "source": [
        "# EPOCHS = 5\n",
        "model = BertClassifier()\n",
        "LR = 1e-5\n",
        "optimizer = Adam(model.parameters(), lr= LR)\n",
        "checkpoint_path = '/content/drive/MyDrive/bert/checkpointsaccredo/check.pt'\n",
        "best_model = '/content/drive/MyDrive/bert/bestmodelaccredo/model.pt'"
      ],
      "metadata": {
        "colab": {
          "base_uri": "https://localhost:8080/"
        },
        "id": "S4WzBfq4rWV_",
        "outputId": "5f5afa0d-ce88-4d65-c71c-939051ae1531"
      },
      "execution_count": null,
      "outputs": [
        {
          "output_type": "stream",
          "name": "stderr",
          "text": [
            "Some weights of the model checkpoint at bert-base-cased were not used when initializing BertModel: ['cls.predictions.transform.dense.bias', 'cls.predictions.transform.dense.weight', 'cls.seq_relationship.bias', 'cls.predictions.transform.LayerNorm.weight', 'cls.predictions.decoder.weight', 'cls.predictions.bias', 'cls.seq_relationship.weight', 'cls.predictions.transform.LayerNorm.bias']\n",
            "- This IS expected if you are initializing BertModel from the checkpoint of a model trained on another task or with another architecture (e.g. initializing a BertForSequenceClassification model from a BertForPreTraining model).\n",
            "- This IS NOT expected if you are initializing BertModel from the checkpoint of a model that you expect to be exactly identical (initializing a BertForSequenceClassification model from a BertForSequenceClassification model).\n"
          ]
        }
      ]
    },
    {
      "cell_type": "code",
      "source": [
        "train_accuracy(model, train_data, validation_data, LR, epochs,checkpoint_path, best_model, -np.inf)"
      ],
      "metadata": {
        "colab": {
          "base_uri": "https://localhost:8080/"
        },
        "id": "DVOqKpxirhym",
        "outputId": "78e9463d-5c76-473d-8aaa-8daf7f58a346"
      },
      "execution_count": null,
      "outputs": [
        {
          "metadata": {
            "tags": null
          },
          "name": "stderr",
          "output_type": "stream",
          "text": [
            "100%|██████████| 8750/8750 [56:21<00:00,  2.59it/s]\n"
          ]
        },
        {
          "metadata": {
            "tags": null
          },
          "name": "stdout",
          "output_type": "stream",
          "text": [
            "Epochs: 1 | Train Loss:  0.102                 | Train Accuracy:  0.795                 | Val Loss:  0.067                 | Val Accuracy:  0.890\n",
            "Validation Accuracy increased (-inf --> 0.889800).  Saving model ...\n"
          ]
        },
        {
          "output_type": "stream",
          "name": "stderr",
          "text": [
            "100%|██████████| 8750/8750 [56:25<00:00,  2.58it/s]\n"
          ]
        },
        {
          "output_type": "stream",
          "name": "stdout",
          "text": [
            "Epochs: 2 | Train Loss:  0.049                 | Train Accuracy:  0.930                 | Val Loss:  0.065                 | Val Accuracy:  0.908\n",
            "Validation Accuracy increased (0.889800 --> 0.908000).  Saving model ...\n"
          ]
        },
        {
          "output_type": "stream",
          "name": "stderr",
          "text": [
            " 37%|███▋      | 3212/8750 [20:43<35:42,  2.58it/s]"
          ]
        }
      ]
    },
    {
      "cell_type": "code",
      "source": [
        "# reload ckp and start training from the last epoch\n",
        "model = BertClassifier()\n",
        "optimizer = Adam(model.parameters(), lr= LR)\n",
        "_,_, epochbest, valid_accuracy_max,_ = load_model_accuracy(best_model, model, optimizer)\n",
        "model = BertClassifier()\n",
        "optimizer = Adam(model.parameters(), lr= LR)\n",
        "model, optimizer, start_epoch,_, LR = load_ckp_accuracy(checkpoint_path, model, optimizer)\n",
        "EPOCHS = range(start_epoch+1,11)\n",
        "print(EPOCHS)"
      ],
      "metadata": {
        "id": "o39r8l0ZriLt",
        "colab": {
          "base_uri": "https://localhost:8080/"
        },
        "outputId": "f71f3d2a-14c9-4f5c-d779-71d5544e5e6e"
      },
      "execution_count": null,
      "outputs": [
        {
          "output_type": "stream",
          "name": "stderr",
          "text": [
            "Some weights of the model checkpoint at bert-base-cased were not used when initializing BertModel: ['cls.predictions.transform.LayerNorm.bias', 'cls.seq_relationship.weight', 'cls.predictions.transform.dense.bias', 'cls.predictions.transform.dense.weight', 'cls.predictions.decoder.weight', 'cls.predictions.transform.LayerNorm.weight', 'cls.seq_relationship.bias', 'cls.predictions.bias']\n",
            "- This IS expected if you are initializing BertModel from the checkpoint of a model trained on another task or with another architecture (e.g. initializing a BertForSequenceClassification model from a BertForPreTraining model).\n",
            "- This IS NOT expected if you are initializing BertModel from the checkpoint of a model that you expect to be exactly identical (initializing a BertForSequenceClassification model from a BertForSequenceClassification model).\n",
            "Some weights of the model checkpoint at bert-base-cased were not used when initializing BertModel: ['cls.predictions.transform.LayerNorm.bias', 'cls.seq_relationship.weight', 'cls.predictions.transform.dense.bias', 'cls.predictions.transform.dense.weight', 'cls.predictions.decoder.weight', 'cls.predictions.transform.LayerNorm.weight', 'cls.seq_relationship.bias', 'cls.predictions.bias']\n",
            "- This IS expected if you are initializing BertModel from the checkpoint of a model trained on another task or with another architecture (e.g. initializing a BertForSequenceClassification model from a BertForPreTraining model).\n",
            "- This IS NOT expected if you are initializing BertModel from the checkpoint of a model that you expect to be exactly identical (initializing a BertForSequenceClassification model from a BertForSequenceClassification model).\n"
          ]
        },
        {
          "output_type": "stream",
          "name": "stdout",
          "text": [
            "range(3, 11)\n"
          ]
        }
      ]
    },
    {
      "cell_type": "code",
      "source": [
        "train_accuracy(model, train_data, validation_data, LR, EPOCHS,checkpoint_path, best_model, valid_accuracy_max)"
      ],
      "metadata": {
        "id": "hCDI-ym2rr8p",
        "colab": {
          "base_uri": "https://localhost:8080/"
        },
        "outputId": "b5a8921b-bb23-4be8-e5a7-8c74b1982b85"
      },
      "execution_count": null,
      "outputs": [
        {
          "metadata": {
            "tags": null
          },
          "name": "stderr",
          "output_type": "stream",
          "text": [
            "100%|██████████| 8750/8750 [56:23<00:00,  2.59it/s]\n"
          ]
        },
        {
          "metadata": {
            "tags": null
          },
          "name": "stdout",
          "output_type": "stream",
          "text": [
            "Epochs: 3 | Train Loss:  0.020                 | Train Accuracy:  0.976                 | Val Loss:  0.094                 | Val Accuracy:  0.903\n"
          ]
        },
        {
          "metadata": {
            "tags": null
          },
          "name": "stderr",
          "output_type": "stream",
          "text": [
            "100%|██████████| 8750/8750 [56:32<00:00,  2.58it/s]\n"
          ]
        },
        {
          "metadata": {
            "tags": null
          },
          "name": "stdout",
          "output_type": "stream",
          "text": [
            "Epochs: 4 | Train Loss:  0.009                 | Train Accuracy:  0.990                 | Val Loss:  0.098                 | Val Accuracy:  0.908\n",
            "Validation Accuracy increased (0.908000 --> 0.908000).  Saving model ...\n"
          ]
        },
        {
          "metadata": {
            "tags": null
          },
          "name": "stderr",
          "output_type": "stream",
          "text": [
            "100%|██████████| 8750/8750 [56:25<00:00,  2.58it/s]\n"
          ]
        },
        {
          "metadata": {
            "tags": null
          },
          "name": "stdout",
          "output_type": "stream",
          "text": [
            "Epochs: 5 | Train Loss:  0.007                 | Train Accuracy:  0.992                 | Val Loss:  0.121                 | Val Accuracy:  0.902\n"
          ]
        },
        {
          "output_type": "stream",
          "name": "stderr",
          "text": [
            " 67%|██████▋   | 5836/8750 [37:37<18:39,  2.60it/s]"
          ]
        }
      ]
    },
    {
      "cell_type": "code",
      "source": [
        "# reload ckp and start training from the last epoch\n",
        "model = BertClassifier()\n",
        "optimizer = Adam(model.parameters(), lr= LR)\n",
        "_,_, epochbest, valid_accuracy_max,_ = load_model_accuracy(best_model, model, optimizer)\n",
        "model = BertClassifier()\n",
        "optimizer = Adam(model.parameters(), lr= LR)\n",
        "model, optimizer, start_epoch,_, LR = load_ckp_accuracy(checkpoint_path, model, optimizer)\n",
        "EPOCHS = range(start_epoch+1,11)\n",
        "print(EPOCHS)"
      ],
      "metadata": {
        "colab": {
          "base_uri": "https://localhost:8080/"
        },
        "id": "fS8lf1tQQvcm",
        "outputId": "81fbdb2f-cbb5-4f4a-901e-c39ab4e9bbb7"
      },
      "execution_count": null,
      "outputs": [
        {
          "output_type": "stream",
          "name": "stderr",
          "text": [
            "Some weights of the model checkpoint at bert-base-cased were not used when initializing BertModel: ['cls.predictions.decoder.weight', 'cls.predictions.transform.LayerNorm.bias', 'cls.predictions.transform.LayerNorm.weight', 'cls.predictions.transform.dense.bias', 'cls.predictions.transform.dense.weight', 'cls.predictions.bias', 'cls.seq_relationship.bias', 'cls.seq_relationship.weight']\n",
            "- This IS expected if you are initializing BertModel from the checkpoint of a model trained on another task or with another architecture (e.g. initializing a BertForSequenceClassification model from a BertForPreTraining model).\n",
            "- This IS NOT expected if you are initializing BertModel from the checkpoint of a model that you expect to be exactly identical (initializing a BertForSequenceClassification model from a BertForSequenceClassification model).\n",
            "Some weights of the model checkpoint at bert-base-cased were not used when initializing BertModel: ['cls.predictions.decoder.weight', 'cls.predictions.transform.LayerNorm.bias', 'cls.predictions.transform.LayerNorm.weight', 'cls.predictions.transform.dense.bias', 'cls.predictions.transform.dense.weight', 'cls.predictions.bias', 'cls.seq_relationship.bias', 'cls.seq_relationship.weight']\n",
            "- This IS expected if you are initializing BertModel from the checkpoint of a model trained on another task or with another architecture (e.g. initializing a BertForSequenceClassification model from a BertForPreTraining model).\n",
            "- This IS NOT expected if you are initializing BertModel from the checkpoint of a model that you expect to be exactly identical (initializing a BertForSequenceClassification model from a BertForSequenceClassification model).\n"
          ]
        },
        {
          "output_type": "stream",
          "name": "stdout",
          "text": [
            "range(6, 11)\n"
          ]
        }
      ]
    },
    {
      "cell_type": "code",
      "source": [
        "train_accuracy(model, train_data, validation_data, LR, EPOCHS,checkpoint_path, best_model, valid_accuracy_max)"
      ],
      "metadata": {
        "colab": {
          "base_uri": "https://localhost:8080/"
        },
        "id": "_HX0EaQvQyVH",
        "outputId": "8901f32d-587f-4a59-ad93-38cbb82b0a8f"
      },
      "execution_count": null,
      "outputs": [
        {
          "metadata": {
            "tags": null
          },
          "name": "stderr",
          "output_type": "stream",
          "text": [
            "100%|██████████| 8750/8750 [55:14<00:00,  2.64it/s]\n"
          ]
        },
        {
          "metadata": {
            "tags": null
          },
          "name": "stdout",
          "output_type": "stream",
          "text": [
            "Epochs: 6 | Train Loss:  0.005                 | Train Accuracy:  0.994                 | Val Loss:  0.106                 | Val Accuracy:  0.906\n"
          ]
        },
        {
          "output_type": "stream",
          "name": "stderr",
          "text": [
            "100%|██████████| 8750/8750 [55:14<00:00,  2.64it/s]\n"
          ]
        },
        {
          "output_type": "stream",
          "name": "stdout",
          "text": [
            "Epochs: 7 | Train Loss:  0.004                 | Train Accuracy:  0.995                 | Val Loss:  0.188                 | Val Accuracy:  0.888\n"
          ]
        },
        {
          "output_type": "stream",
          "name": "stderr",
          "text": [
            " 62%|██████▏   | 5444/8750 [34:20<20:52,  2.64it/s]"
          ]
        }
      ]
    },
    {
      "cell_type": "code",
      "source": [
        "# reload ckp and start training from the last epoch\n",
        "model = BertClassifier()\n",
        "optimizer = Adam(model.parameters(), lr= LR)\n",
        "_,_, epochbest, valid_accuracy_max,_ = load_model_accuracy(best_model, model, optimizer)\n",
        "model = BertClassifier()\n",
        "optimizer = Adam(model.parameters(), lr= LR)\n",
        "model, optimizer, start_epoch,_, LR = load_ckp_accuracy(checkpoint_path, model, optimizer)\n",
        "EPOCHS = range(start_epoch+1,11)\n",
        "print(EPOCHS)"
      ],
      "metadata": {
        "colab": {
          "base_uri": "https://localhost:8080/"
        },
        "id": "kIyMr4E2JTb1",
        "outputId": "6291d89b-0e65-4814-e9f6-9b7afe06a3d5"
      },
      "execution_count": null,
      "outputs": [
        {
          "output_type": "stream",
          "name": "stderr",
          "text": [
            "Some weights of the model checkpoint at bert-base-cased were not used when initializing BertModel: ['cls.predictions.transform.dense.bias', 'cls.predictions.transform.dense.weight', 'cls.seq_relationship.bias', 'cls.predictions.transform.LayerNorm.weight', 'cls.predictions.decoder.weight', 'cls.predictions.bias', 'cls.seq_relationship.weight', 'cls.predictions.transform.LayerNorm.bias']\n",
            "- This IS expected if you are initializing BertModel from the checkpoint of a model trained on another task or with another architecture (e.g. initializing a BertForSequenceClassification model from a BertForPreTraining model).\n",
            "- This IS NOT expected if you are initializing BertModel from the checkpoint of a model that you expect to be exactly identical (initializing a BertForSequenceClassification model from a BertForSequenceClassification model).\n",
            "Some weights of the model checkpoint at bert-base-cased were not used when initializing BertModel: ['cls.predictions.transform.dense.bias', 'cls.predictions.transform.dense.weight', 'cls.seq_relationship.bias', 'cls.predictions.transform.LayerNorm.weight', 'cls.predictions.decoder.weight', 'cls.predictions.bias', 'cls.seq_relationship.weight', 'cls.predictions.transform.LayerNorm.bias']\n",
            "- This IS expected if you are initializing BertModel from the checkpoint of a model trained on another task or with another architecture (e.g. initializing a BertForSequenceClassification model from a BertForPreTraining model).\n",
            "- This IS NOT expected if you are initializing BertModel from the checkpoint of a model that you expect to be exactly identical (initializing a BertForSequenceClassification model from a BertForSequenceClassification model).\n"
          ]
        },
        {
          "output_type": "stream",
          "name": "stdout",
          "text": [
            "range(8, 11)\n"
          ]
        }
      ]
    },
    {
      "cell_type": "code",
      "source": [
        "train_accuracy(model, train_data, validation_data, LR, EPOCHS,checkpoint_path, best_model, valid_accuracy_max)"
      ],
      "metadata": {
        "colab": {
          "base_uri": "https://localhost:8080/"
        },
        "id": "S2yviDXbJVQC",
        "outputId": "6980dfa9-142e-4ca1-c8df-09b8738f52d5"
      },
      "execution_count": null,
      "outputs": [
        {
          "output_type": "stream",
          "name": "stderr",
          "text": [
            "100%|██████████| 8750/8750 [54:02<00:00,  2.70it/s]\n"
          ]
        },
        {
          "output_type": "stream",
          "name": "stdout",
          "text": [
            "Epochs: 8 | Train Loss:  0.004                 | Train Accuracy:  0.995                 | Val Loss:  0.098                 | Val Accuracy:  0.898\n"
          ]
        },
        {
          "output_type": "stream",
          "name": "stderr",
          "text": [
            "100%|██████████| 8750/8750 [53:57<00:00,  2.70it/s]\n"
          ]
        },
        {
          "output_type": "stream",
          "name": "stdout",
          "text": [
            "Epochs: 9 | Train Loss:  0.003                 | Train Accuracy:  0.996                 | Val Loss:  0.168                 | Val Accuracy:  0.906\n"
          ]
        },
        {
          "output_type": "stream",
          "name": "stderr",
          "text": [
            "100%|██████████| 8750/8750 [54:01<00:00,  2.70it/s]\n"
          ]
        },
        {
          "output_type": "stream",
          "name": "stdout",
          "text": [
            "Epochs: 10 | Train Loss:  0.004                 | Train Accuracy:  0.996                 | Val Loss:  0.135                 | Val Accuracy:  0.904\n"
          ]
        }
      ]
    },
    {
      "cell_type": "code",
      "source": [
        "val_acc=[0.889800,0.908000,0.903,0.908000,0.902,0.906,0.888,0.898,0.906,0.904]\n",
        "train_acc=[0.795,0.930,0.976,0.990,0.992,0.994,0.995,0.995,0.996,0.996]"
      ],
      "metadata": {
        "id": "3H3C65D568K9"
      },
      "execution_count": null,
      "outputs": []
    },
    {
      "cell_type": "code",
      "source": [
        "plt.plot(range(1,11), val_acc, label='Validation Accuracy')\n",
        "plt.plot(range(1,11), train_acc, label='Training Accuracy')\n",
        "plt.legend()\n",
        "plt.xlabel('Epochs')\n",
        "plt.ylabel('Validation Accuracy and Training Accuracy')\n",
        "plt.title('Accuracy vs Epochs')\n",
        "plt.show()"
      ],
      "metadata": {
        "colab": {
          "base_uri": "https://localhost:8080/",
          "height": 295
        },
        "id": "QijMHoqr758p",
        "outputId": "8a285c4f-1e2d-448b-d59a-75cd7fd0aa4d"
      },
      "execution_count": null,
      "outputs": [
        {
          "output_type": "display_data",
          "data": {
            "text/plain": [
              "<Figure size 432x288 with 1 Axes>"
            ],
            "image/png": "[encoded data removed]"
          },
          "metadata": {
            "needs_background": "light"
          }
        }
      ]
    },
    {
      "cell_type": "markdown",
      "source": [
        "## 5e-5"
      ],
      "metadata": {
        "id": "ez0AVqM58bTH"
      }
    },
    {
      "cell_type": "code",
      "source": [
        "LR = 5e-5\n",
        "epochs = [1,2,3,4,5,6,7,8,9,10]\n",
        "test_acc =[]\n",
        "val_acc=[]\n",
        "\n",
        "checkpoint_path = '/content/drive/MyDrive/bert/checkpointsacclr5e-5/check.pt'\n",
        "best_model = '/content/drive/MyDrive/bert/bestmodelacclr5e-5/model.pt'"
      ],
      "metadata": {
        "id": "df01CvGz8c2F"
      },
      "execution_count": null,
      "outputs": []
    },
    {
      "cell_type": "code",
      "source": [
        "model = BertClassifier()\n",
        "optimizer = Adam(model.parameters(), lr= LR)\n",
        "train_accuracy(model, train_data, validation_data, LR, epochs,checkpoint_path, best_model, -np.inf)"
      ],
      "metadata": {
        "colab": {
          "base_uri": "https://localhost:8080/"
        },
        "id": "ZjXOakx91qbw",
        "outputId": "a04606ef-9496-4d74-8f7d-e18dbff1f39a"
      },
      "execution_count": null,
      "outputs": [
        {
          "metadata": {
            "tags": null
          },
          "name": "stderr",
          "output_type": "stream",
          "text": [
            "Some weights of the model checkpoint at bert-base-cased were not used when initializing BertModel: ['cls.predictions.transform.LayerNorm.weight', 'cls.predictions.decoder.weight', 'cls.predictions.transform.dense.weight', 'cls.predictions.transform.LayerNorm.bias', 'cls.predictions.bias', 'cls.predictions.transform.dense.bias', 'cls.seq_relationship.bias', 'cls.seq_relationship.weight']\n",
            "- This IS expected if you are initializing BertModel from the checkpoint of a model trained on another task or with another architecture (e.g. initializing a BertForSequenceClassification model from a BertForPreTraining model).\n",
            "- This IS NOT expected if you are initializing BertModel from the checkpoint of a model that you expect to be exactly identical (initializing a BertForSequenceClassification model from a BertForSequenceClassification model).\n",
            "100%|██████████| 8750/8750 [53:33<00:00,  2.72it/s]\n"
          ]
        },
        {
          "metadata": {
            "tags": null
          },
          "name": "stdout",
          "output_type": "stream",
          "text": [
            "Epochs: 1 | Train Loss:  0.173                 | Train Accuracy:  0.499                 | Val Loss:  0.173                 | Val Accuracy:  0.501\n",
            "Validation Accuracy increased (-inf --> 0.501400).  Saving model ...\n"
          ]
        },
        {
          "metadata": {
            "tags": null
          },
          "name": "stderr",
          "output_type": "stream",
          "text": [
            "100%|██████████| 8750/8750 [52:44<00:00,  2.77it/s]\n"
          ]
        },
        {
          "metadata": {
            "tags": null
          },
          "name": "stdout",
          "output_type": "stream",
          "text": [
            "Epochs: 2 | Train Loss:  0.173                 | Train Accuracy:  0.500                 | Val Loss:  0.173                 | Val Accuracy:  0.500\n"
          ]
        },
        {
          "output_type": "stream",
          "name": "stderr",
          "text": [
            "100%|██████████| 8750/8750 [52:40<00:00,  2.77it/s]\n"
          ]
        },
        {
          "output_type": "stream",
          "name": "stdout",
          "text": [
            "Epochs: 3 | Train Loss:  0.173                 | Train Accuracy:  0.500                 | Val Loss:  0.173                 | Val Accuracy:  0.500\n"
          ]
        },
        {
          "output_type": "stream",
          "name": "stderr",
          "text": [
            " 99%|█████████▉| 8705/8750 [52:22<00:16,  2.77it/s]"
          ]
        }
      ]
    },
    {
      "cell_type": "code",
      "source": [
        "# reload ckp and start training from the last epoch\n",
        "model = BertClassifier()\n",
        "optimizer = Adam(model.parameters(), lr= LR)\n",
        "_,_, _, valid_accuracy_max,_ = load_model_accuracy(best_model, model, optimizer)\n",
        "model = BertClassifier()\n",
        "optimizer = Adam(model.parameters(), lr= LR)\n",
        "model, optimizer, start_epoch,_, LR = load_ckp_accuracy(checkpoint_path, model, optimizer)\n",
        "EPOCHS = range(start_epoch+1,11)\n",
        "print(EPOCHS)"
      ],
      "metadata": {
        "colab": {
          "base_uri": "https://localhost:8080/"
        },
        "outputId": "85c8c5f3-9bfc-4ba6-927f-154a2412e224",
        "id": "avcfYMOM8wUt"
      },
      "execution_count": null,
      "outputs": [
        {
          "output_type": "stream",
          "name": "stderr",
          "text": [
            "Some weights of the model checkpoint at bert-base-cased were not used when initializing BertModel: ['cls.predictions.transform.dense.bias', 'cls.predictions.transform.dense.weight', 'cls.seq_relationship.weight', 'cls.predictions.transform.LayerNorm.bias', 'cls.predictions.transform.LayerNorm.weight', 'cls.seq_relationship.bias', 'cls.predictions.bias', 'cls.predictions.decoder.weight']\n",
            "- This IS expected if you are initializing BertModel from the checkpoint of a model trained on another task or with another architecture (e.g. initializing a BertForSequenceClassification model from a BertForPreTraining model).\n",
            "- This IS NOT expected if you are initializing BertModel from the checkpoint of a model that you expect to be exactly identical (initializing a BertForSequenceClassification model from a BertForSequenceClassification model).\n",
            "Some weights of the model checkpoint at bert-base-cased were not used when initializing BertModel: ['cls.predictions.transform.dense.bias', 'cls.predictions.transform.dense.weight', 'cls.seq_relationship.weight', 'cls.predictions.transform.LayerNorm.bias', 'cls.predictions.transform.LayerNorm.weight', 'cls.seq_relationship.bias', 'cls.predictions.bias', 'cls.predictions.decoder.weight']\n",
            "- This IS expected if you are initializing BertModel from the checkpoint of a model trained on another task or with another architecture (e.g. initializing a BertForSequenceClassification model from a BertForPreTraining model).\n",
            "- This IS NOT expected if you are initializing BertModel from the checkpoint of a model that you expect to be exactly identical (initializing a BertForSequenceClassification model from a BertForSequenceClassification model).\n"
          ]
        },
        {
          "output_type": "stream",
          "name": "stdout",
          "text": [
            "range(4, 11)\n"
          ]
        }
      ]
    },
    {
      "cell_type": "code",
      "source": [
        "train_accuracy(model, train_data, validation_data, LR, EPOCHS,checkpoint_path, best_model, valid_accuracy_max)"
      ],
      "metadata": {
        "colab": {
          "base_uri": "https://localhost:8080/"
        },
        "outputId": "6e6e27bf-0db4-4215-ea0b-1a75f4a47c8f",
        "id": "6pZw6p_K8yeA"
      },
      "execution_count": null,
      "outputs": [
        {
          "output_type": "stream",
          "name": "stderr",
          "text": [
            "100%|██████████| 8750/8750 [53:03<00:00,  2.75it/s]\n"
          ]
        },
        {
          "output_type": "stream",
          "name": "stdout",
          "text": [
            "Epochs: 4 | Train Loss:  0.173                 | Train Accuracy:  0.500                 | Val Loss:  0.173                 | Val Accuracy:  0.500\n"
          ]
        },
        {
          "output_type": "stream",
          "name": "stderr",
          "text": [
            " 17%|█▋        | 1447/8750 [08:46<44:12,  2.75it/s]"
          ]
        }
      ]
    },
    {
      "cell_type": "code",
      "source": [
        "# reload ckp and start training from the last epoch\n",
        "model = BertClassifier()\n",
        "optimizer = Adam(model.parameters(), lr= LR)\n",
        "_,_, _, valid_accuracy_max,_ = load_model_accuracy(best_model, model, optimizer)\n",
        "model = BertClassifier()\n",
        "optimizer = Adam(model.parameters(), lr= LR)\n",
        "model, optimizer, start_epoch,_, LR = load_ckp_accuracy(checkpoint_path, model, optimizer)\n",
        "EPOCHS = range(start_epoch+1,11)\n",
        "print(EPOCHS)"
      ],
      "metadata": {
        "colab": {
          "base_uri": "https://localhost:8080/"
        },
        "id": "bV0vR3IHPt9M",
        "outputId": "5907e019-93e7-4a1c-f024-823b69a35049"
      },
      "execution_count": null,
      "outputs": [
        {
          "output_type": "stream",
          "name": "stderr",
          "text": [
            "Some weights of the model checkpoint at bert-base-cased were not used when initializing BertModel: ['cls.predictions.bias', 'cls.predictions.transform.LayerNorm.bias', 'cls.predictions.transform.dense.weight', 'cls.predictions.decoder.weight', 'cls.predictions.transform.LayerNorm.weight', 'cls.predictions.transform.dense.bias', 'cls.seq_relationship.bias', 'cls.seq_relationship.weight']\n",
            "- This IS expected if you are initializing BertModel from the checkpoint of a model trained on another task or with another architecture (e.g. initializing a BertForSequenceClassification model from a BertForPreTraining model).\n",
            "- This IS NOT expected if you are initializing BertModel from the checkpoint of a model that you expect to be exactly identical (initializing a BertForSequenceClassification model from a BertForSequenceClassification model).\n",
            "Some weights of the model checkpoint at bert-base-cased were not used when initializing BertModel: ['cls.predictions.bias', 'cls.predictions.transform.LayerNorm.bias', 'cls.predictions.transform.dense.weight', 'cls.predictions.decoder.weight', 'cls.predictions.transform.LayerNorm.weight', 'cls.predictions.transform.dense.bias', 'cls.seq_relationship.bias', 'cls.seq_relationship.weight']\n",
            "- This IS expected if you are initializing BertModel from the checkpoint of a model trained on another task or with another architecture (e.g. initializing a BertForSequenceClassification model from a BertForPreTraining model).\n",
            "- This IS NOT expected if you are initializing BertModel from the checkpoint of a model that you expect to be exactly identical (initializing a BertForSequenceClassification model from a BertForSequenceClassification model).\n"
          ]
        },
        {
          "output_type": "stream",
          "name": "stdout",
          "text": [
            "range(5, 11)\n"
          ]
        }
      ]
    },
    {
      "cell_type": "code",
      "source": [
        "train_accuracy(model, train_data, validation_data, LR, EPOCHS,checkpoint_path, best_model, valid_accuracy_max)"
      ],
      "metadata": {
        "colab": {
          "base_uri": "https://localhost:8080/"
        },
        "id": "fuvhpj_vPvsw",
        "outputId": "a095c018-3e15-4aad-bebf-e75fe6f56dca"
      },
      "execution_count": null,
      "outputs": [
        {
          "output_type": "stream",
          "name": "stderr",
          "text": [
            "100%|██████████| 8750/8750 [51:31<00:00,  2.83it/s]\n"
          ]
        },
        {
          "output_type": "stream",
          "name": "stdout",
          "text": [
            "Epochs: 5 | Train Loss:  0.173                 | Train Accuracy:  0.500                 | Val Loss:  0.173                 | Val Accuracy:  0.500\n"
          ]
        },
        {
          "output_type": "stream",
          "name": "stderr",
          "text": [
            "100%|██████████| 8750/8750 [51:31<00:00,  2.83it/s]\n"
          ]
        },
        {
          "output_type": "stream",
          "name": "stdout",
          "text": [
            "Epochs: 6 | Train Loss:  0.173                 | Train Accuracy:  0.500                 | Val Loss:  0.173                 | Val Accuracy:  0.500\n"
          ]
        },
        {
          "output_type": "stream",
          "name": "stderr",
          "text": [
            "100%|██████████| 8750/8750 [51:35<00:00,  2.83it/s]\n"
          ]
        },
        {
          "output_type": "stream",
          "name": "stdout",
          "text": [
            "Epochs: 7 | Train Loss:  0.173                 | Train Accuracy:  0.500                 | Val Loss:  0.173                 | Val Accuracy:  0.500\n"
          ]
        },
        {
          "output_type": "stream",
          "name": "stderr",
          "text": [
            "100%|██████████| 8750/8750 [51:32<00:00,  2.83it/s]\n"
          ]
        },
        {
          "output_type": "stream",
          "name": "stdout",
          "text": [
            "Epochs: 8 | Train Loss:  0.173                 | Train Accuracy:  0.500                 | Val Loss:  0.173                 | Val Accuracy:  0.500\n"
          ]
        },
        {
          "output_type": "stream",
          "name": "stderr",
          "text": [
            " 76%|███████▋  | 6683/8750 [39:18<12:10,  2.83it/s]"
          ]
        }
      ]
    },
    {
      "cell_type": "code",
      "source": [
        "# reload ckp and start training from the last epoch\n",
        "model = BertClassifier()\n",
        "optimizer = Adam(model.parameters(), lr= LR)\n",
        "_,_, _, valid_accuracy_max,_ = load_model_accuracy(best_model, model, optimizer)\n",
        "model = BertClassifier()\n",
        "optimizer = Adam(model.parameters(), lr= LR)\n",
        "model, optimizer, start_epoch,_, LR = load_ckp_accuracy(checkpoint_path, model, optimizer)\n",
        "EPOCHS = range(start_epoch+1,11)\n",
        "print(EPOCHS)"
      ],
      "metadata": {
        "id": "i7Vbrxjt4WYp",
        "colab": {
          "base_uri": "https://localhost:8080/"
        },
        "outputId": "b6d9cde4-d3ce-40c7-9ab6-fe8b4ed7e445"
      },
      "execution_count": null,
      "outputs": [
        {
          "output_type": "stream",
          "name": "stderr",
          "text": [
            "Some weights of the model checkpoint at bert-base-cased were not used when initializing BertModel: ['cls.predictions.transform.dense.bias', 'cls.predictions.transform.LayerNorm.weight', 'cls.predictions.decoder.weight', 'cls.predictions.bias', 'cls.predictions.transform.LayerNorm.bias', 'cls.predictions.transform.dense.weight', 'cls.seq_relationship.weight', 'cls.seq_relationship.bias']\n",
            "- This IS expected if you are initializing BertModel from the checkpoint of a model trained on another task or with another architecture (e.g. initializing a BertForSequenceClassification model from a BertForPreTraining model).\n",
            "- This IS NOT expected if you are initializing BertModel from the checkpoint of a model that you expect to be exactly identical (initializing a BertForSequenceClassification model from a BertForSequenceClassification model).\n",
            "Some weights of the model checkpoint at bert-base-cased were not used when initializing BertModel: ['cls.predictions.transform.dense.bias', 'cls.predictions.transform.LayerNorm.weight', 'cls.predictions.decoder.weight', 'cls.predictions.bias', 'cls.predictions.transform.LayerNorm.bias', 'cls.predictions.transform.dense.weight', 'cls.seq_relationship.weight', 'cls.seq_relationship.bias']\n",
            "- This IS expected if you are initializing BertModel from the checkpoint of a model trained on another task or with another architecture (e.g. initializing a BertForSequenceClassification model from a BertForPreTraining model).\n",
            "- This IS NOT expected if you are initializing BertModel from the checkpoint of a model that you expect to be exactly identical (initializing a BertForSequenceClassification model from a BertForSequenceClassification model).\n"
          ]
        },
        {
          "output_type": "stream",
          "name": "stdout",
          "text": [
            "range(9, 11)\n"
          ]
        }
      ]
    },
    {
      "cell_type": "code",
      "source": [
        "train_accuracy(model, train_data, validation_data, LR, EPOCHS,checkpoint_path, best_model, valid_accuracy_max)"
      ],
      "metadata": {
        "id": "anA3iSDI49eL",
        "colab": {
          "base_uri": "https://localhost:8080/"
        },
        "outputId": "2517362a-3a11-463e-cbd4-80fb7067f899"
      },
      "execution_count": null,
      "outputs": [
        {
          "output_type": "stream",
          "name": "stderr",
          "text": [
            "100%|██████████| 8750/8750 [52:09<00:00,  2.80it/s]\n"
          ]
        },
        {
          "output_type": "stream",
          "name": "stdout",
          "text": [
            "Epochs: 9 | Train Loss:  0.173                 | Train Accuracy:  0.500                 | Val Loss:  0.173                 | Val Accuracy:  0.500\n"
          ]
        },
        {
          "output_type": "stream",
          "name": "stderr",
          "text": [
            "100%|██████████| 8750/8750 [52:07<00:00,  2.80it/s]\n"
          ]
        },
        {
          "output_type": "stream",
          "name": "stdout",
          "text": [
            "Epochs: 10 | Train Loss:  0.173                 | Train Accuracy:  0.500                 | Val Loss:  0.173                 | Val Accuracy:  0.500\n"
          ]
        }
      ]
    },
    {
      "cell_type": "code",
      "source": [
        "val_acc=[0.501400,0.500,0.500,0.500,0.500,0.500,0.500,0.500,0.500,0.500]\n",
        "train_acc=[0.499,0.500,0.500,0.500,0.500,0.500,0.500,0.500,0.500,0.500]"
      ],
      "metadata": {
        "id": "3IyTgjVgScaN"
      },
      "execution_count": null,
      "outputs": []
    },
    {
      "cell_type": "code",
      "source": [
        "plt.plot(range(1,11), val_acc, label='Validation Accuracy')\n",
        "plt.plot(range(1,11), train_acc, label='Training Accuracy')\n",
        "plt.legend()\n",
        "plt.xlabel('Epochs')\n",
        "plt.ylabel('Validation Accuracy and Training Accuracy')\n",
        "plt.title('Accuracy vs Epochs')\n",
        "plt.show()"
      ],
      "metadata": {
        "colab": {
          "base_uri": "https://localhost:8080/",
          "height": 295
        },
        "id": "nd4Va0tX9d3e",
        "outputId": "c2aa72e3-7d06-49a3-de4e-b7a7ecba9348"
      },
      "execution_count": null,
      "outputs": [
        {
          "output_type": "display_data",
          "data": {
            "text/plain": [
              "<Figure size 432x288 with 1 Axes>"
            ],
            "image/png": "[encoded data removed]"
          },
          "metadata": {
            "needs_background": "light"
          }
        }
      ]
    },
    {
      "cell_type": "markdown",
      "source": [
        "## 5e-6"
      ],
      "metadata": {
        "id": "WgfZMkeNi_ON"
      }
    },
    {
      "cell_type": "code",
      "source": [
        "LR = 5e-6\n",
        "epochs = [1,2,3,4,5,6,7,8,9,10]\n",
        "test_acc =[]\n",
        "val_acc=[]\n",
        "\n",
        "checkpoint_path = '/content/drive/MyDrive/bert/checkpointsacclr5e-6/check.pt'\n",
        "best_model = '/content/drive/MyDrive/bert/bestmodelacclr5e-6/model.pt'"
      ],
      "metadata": {
        "id": "VMhsRupi7IHc"
      },
      "execution_count": null,
      "outputs": []
    },
    {
      "cell_type": "code",
      "source": [
        "model = BertClassifier()\n",
        "optimizer = Adam(model.parameters(), lr= LR)\n",
        "train_accuracy(model, train_data, validation_data, LR, epochs,checkpoint_path, best_model, -np.inf)"
      ],
      "metadata": {
        "colab": {
          "base_uri": "https://localhost:8080/"
        },
        "id": "uD4us9IvjaYc",
        "outputId": "92a94e64-cac7-4cbe-f0bf-107dc9868f30"
      },
      "execution_count": null,
      "outputs": [
        {
          "output_type": "stream",
          "name": "stderr",
          "text": [
            "Some weights of the model checkpoint at bert-base-cased were not used when initializing BertModel: ['cls.predictions.transform.dense.weight', 'cls.seq_relationship.bias', 'cls.seq_relationship.weight', 'cls.predictions.transform.LayerNorm.bias', 'cls.predictions.transform.dense.bias', 'cls.predictions.bias', 'cls.predictions.decoder.weight', 'cls.predictions.transform.LayerNorm.weight']\n",
            "- This IS expected if you are initializing BertModel from the checkpoint of a model trained on another task or with another architecture (e.g. initializing a BertForSequenceClassification model from a BertForPreTraining model).\n",
            "- This IS NOT expected if you are initializing BertModel from the checkpoint of a model that you expect to be exactly identical (initializing a BertForSequenceClassification model from a BertForSequenceClassification model).\n",
            "100%|██████████| 8750/8750 [53:36<00:00,  2.72it/s]\n"
          ]
        },
        {
          "output_type": "stream",
          "name": "stdout",
          "text": [
            "Epochs: 1 | Train Loss:  0.150                 | Train Accuracy:  0.627                 | Val Loss:  0.085                 | Val Accuracy:  0.868\n",
            "Validation Accuracy increased (-inf --> 0.867800).  Saving model ...\n"
          ]
        },
        {
          "output_type": "stream",
          "name": "stderr",
          "text": [
            "100%|██████████| 8750/8750 [54:05<00:00,  2.70it/s]\n"
          ]
        },
        {
          "output_type": "stream",
          "name": "stdout",
          "text": [
            "Epochs: 2 | Train Loss:  0.067                 | Train Accuracy:  0.901                 | Val Loss:  0.061                 | Val Accuracy:  0.907\n",
            "Validation Accuracy increased (0.867800 --> 0.907200).  Saving model ...\n"
          ]
        },
        {
          "output_type": "stream",
          "name": "stderr",
          "text": [
            " 53%|█████▎    | 4650/8750 [28:44<25:18,  2.70it/s]"
          ]
        }
      ]
    },
    {
      "cell_type": "code",
      "source": [
        "# reload ckp and start training from the last epoch\n",
        "model = BertClassifier()\n",
        "optimizer = Adam(model.parameters(), lr= LR)\n",
        "_,_, epochbest, valid_accuracy_max,_ = load_model_accuracy(best_model, model, optimizer)\n",
        "model = BertClassifier()\n",
        "optimizer = Adam(model.parameters(), lr= LR)\n",
        "model, optimizer, start_epoch,_, LR = load_ckp_accuracy(checkpoint_path, model, optimizer)\n",
        "EPOCHS = range(start_epoch+1,11)\n",
        "print(EPOCHS)"
      ],
      "metadata": {
        "colab": {
          "base_uri": "https://localhost:8080/"
        },
        "id": "ybG5uUu6jFvU",
        "outputId": "842b9159-0841-41e2-d537-f56510685c9c"
      },
      "execution_count": null,
      "outputs": [
        {
          "output_type": "stream",
          "name": "stderr",
          "text": [
            "Some weights of the model checkpoint at bert-base-cased were not used when initializing BertModel: ['cls.predictions.transform.dense.weight', 'cls.predictions.transform.LayerNorm.bias', 'cls.seq_relationship.bias', 'cls.seq_relationship.weight', 'cls.predictions.transform.dense.bias', 'cls.predictions.transform.LayerNorm.weight', 'cls.predictions.bias', 'cls.predictions.decoder.weight']\n",
            "- This IS expected if you are initializing BertModel from the checkpoint of a model trained on another task or with another architecture (e.g. initializing a BertForSequenceClassification model from a BertForPreTraining model).\n",
            "- This IS NOT expected if you are initializing BertModel from the checkpoint of a model that you expect to be exactly identical (initializing a BertForSequenceClassification model from a BertForSequenceClassification model).\n",
            "Some weights of the model checkpoint at bert-base-cased were not used when initializing BertModel: ['cls.predictions.transform.dense.weight', 'cls.predictions.transform.LayerNorm.bias', 'cls.seq_relationship.bias', 'cls.seq_relationship.weight', 'cls.predictions.transform.dense.bias', 'cls.predictions.transform.LayerNorm.weight', 'cls.predictions.bias', 'cls.predictions.decoder.weight']\n",
            "- This IS expected if you are initializing BertModel from the checkpoint of a model trained on another task or with another architecture (e.g. initializing a BertForSequenceClassification model from a BertForPreTraining model).\n",
            "- This IS NOT expected if you are initializing BertModel from the checkpoint of a model that you expect to be exactly identical (initializing a BertForSequenceClassification model from a BertForSequenceClassification model).\n"
          ]
        },
        {
          "output_type": "stream",
          "name": "stdout",
          "text": [
            "range(3, 11)\n"
          ]
        }
      ]
    },
    {
      "cell_type": "code",
      "source": [
        "train_accuracy(model, train_data, validation_data, LR, EPOCHS,checkpoint_path, best_model, valid_accuracy_max)"
      ],
      "metadata": {
        "colab": {
          "base_uri": "https://localhost:8080/"
        },
        "id": "Z5leancAjM2D",
        "outputId": "09479ea4-f429-4ae8-f081-dade32c92161"
      },
      "execution_count": null,
      "outputs": [
        {
          "output_type": "stream",
          "name": "stderr",
          "text": [
            "100%|██████████| 8750/8750 [55:44<00:00,  2.62it/s]\n"
          ]
        },
        {
          "output_type": "stream",
          "name": "stdout",
          "text": [
            "Epochs: 3 | Train Loss:  0.033                 | Train Accuracy:  0.957                 | Val Loss:  0.092                 | Val Accuracy:  0.893\n"
          ]
        },
        {
          "output_type": "stream",
          "name": "stderr",
          "text": [
            " 87%|████████▋ | 7607/8750 [48:27<07:22,  2.58it/s]"
          ]
        }
      ]
    },
    {
      "cell_type": "code",
      "source": [
        "# reload ckp and start training from the last epoch\n",
        "model = BertClassifier()\n",
        "optimizer = Adam(model.parameters(), lr= LR)\n",
        "_,_, epochbest, valid_accuracy_max,_ = load_model_accuracy(best_model, model, optimizer)\n",
        "model = BertClassifier()\n",
        "optimizer = Adam(model.parameters(), lr= LR)\n",
        "model, optimizer, start_epoch,_, LR = load_ckp_accuracy(checkpoint_path, model, optimizer)\n",
        "EPOCHS = range(start_epoch+1,11)\n",
        "print(EPOCHS)"
      ],
      "metadata": {
        "id": "xRTri0Ex-gWq",
        "colab": {
          "base_uri": "https://localhost:8080/"
        },
        "outputId": "f79eed91-9cbb-42db-eefa-387d8e6cdb21"
      },
      "execution_count": null,
      "outputs": [
        {
          "output_type": "stream",
          "name": "stderr",
          "text": [
            "Some weights of the model checkpoint at bert-base-cased were not used when initializing BertModel: ['cls.predictions.decoder.weight', 'cls.predictions.transform.dense.bias', 'cls.seq_relationship.weight', 'cls.predictions.transform.LayerNorm.bias', 'cls.predictions.bias', 'cls.predictions.transform.LayerNorm.weight', 'cls.seq_relationship.bias', 'cls.predictions.transform.dense.weight']\n",
            "- This IS expected if you are initializing BertModel from the checkpoint of a model trained on another task or with another architecture (e.g. initializing a BertForSequenceClassification model from a BertForPreTraining model).\n",
            "- This IS NOT expected if you are initializing BertModel from the checkpoint of a model that you expect to be exactly identical (initializing a BertForSequenceClassification model from a BertForSequenceClassification model).\n",
            "Some weights of the model checkpoint at bert-base-cased were not used when initializing BertModel: ['cls.predictions.decoder.weight', 'cls.predictions.transform.dense.bias', 'cls.seq_relationship.weight', 'cls.predictions.transform.LayerNorm.bias', 'cls.predictions.bias', 'cls.predictions.transform.LayerNorm.weight', 'cls.seq_relationship.bias', 'cls.predictions.transform.dense.weight']\n",
            "- This IS expected if you are initializing BertModel from the checkpoint of a model trained on another task or with another architecture (e.g. initializing a BertForSequenceClassification model from a BertForPreTraining model).\n",
            "- This IS NOT expected if you are initializing BertModel from the checkpoint of a model that you expect to be exactly identical (initializing a BertForSequenceClassification model from a BertForSequenceClassification model).\n"
          ]
        },
        {
          "output_type": "stream",
          "name": "stdout",
          "text": [
            "range(4, 11)\n"
          ]
        }
      ]
    },
    {
      "cell_type": "code",
      "source": [
        "train_accuracy(model, train_data, validation_data, LR, EPOCHS,checkpoint_path, best_model, valid_accuracy_max)"
      ],
      "metadata": {
        "id": "P-cpytN_-mQy",
        "colab": {
          "base_uri": "https://localhost:8080/"
        },
        "outputId": "b5711327-0f62-4a64-c0a3-c949d03b654c"
      },
      "execution_count": null,
      "outputs": [
        {
          "output_type": "stream",
          "name": "stderr",
          "text": [
            "100%|██████████| 8750/8750 [56:56<00:00,  2.56it/s]\n"
          ]
        },
        {
          "output_type": "stream",
          "name": "stdout",
          "text": [
            "Epochs: 4 | Train Loss:  0.013                 | Train Accuracy:  0.987                 | Val Loss:  0.089                 | Val Accuracy:  0.904\n"
          ]
        },
        {
          "output_type": "stream",
          "name": "stderr",
          "text": [
            "100%|██████████| 8750/8750 [57:02<00:00,  2.56it/s]\n"
          ]
        },
        {
          "output_type": "stream",
          "name": "stdout",
          "text": [
            "Epochs: 5 | Train Loss:  0.008                 | Train Accuracy:  0.993                 | Val Loss:  0.117                 | Val Accuracy:  0.898\n"
          ]
        },
        {
          "output_type": "stream",
          "name": "stderr",
          "text": [
            "100%|██████████| 8750/8750 [57:00<00:00,  2.56it/s]\n"
          ]
        },
        {
          "output_type": "stream",
          "name": "stdout",
          "text": [
            "Epochs: 6 | Train Loss:  0.006                 | Train Accuracy:  0.994                 | Val Loss:  0.101                 | Val Accuracy:  0.908\n",
            "Validation Accuracy increased (0.907200 --> 0.908200).  Saving model ...\n"
          ]
        },
        {
          "output_type": "stream",
          "name": "stderr",
          "text": [
            "100%|██████████| 8750/8750 [56:59<00:00,  2.56it/s]\n"
          ]
        },
        {
          "output_type": "stream",
          "name": "stdout",
          "text": [
            "Epochs: 7 | Train Loss:  0.004                 | Train Accuracy:  0.996                 | Val Loss:  0.135                 | Val Accuracy:  0.907\n"
          ]
        },
        {
          "output_type": "stream",
          "name": "stderr",
          "text": [
            " 26%|██▌       | 2289/8750 [14:54<42:13,  2.55it/s]"
          ]
        }
      ]
    },
    {
      "cell_type": "code",
      "source": [
        "# reload ckp and start training from the last epoch\n",
        "model = BertClassifier()\n",
        "optimizer = Adam(model.parameters(), lr= LR)\n",
        "_,_, epochbest, valid_accuracy_max,_ = load_model_accuracy(best_model, model, optimizer)\n",
        "model = BertClassifier()\n",
        "optimizer = Adam(model.parameters(), lr= LR)\n",
        "model, optimizer, start_epoch,_, LR = load_ckp_accuracy(checkpoint_path, model, optimizer)\n",
        "EPOCHS = range(start_epoch+1,11)\n",
        "print(EPOCHS)"
      ],
      "metadata": {
        "id": "BEuVadeBPdd9",
        "colab": {
          "base_uri": "https://localhost:8080/"
        },
        "outputId": "17eb79a6-5676-4d72-f340-a549cdee669b"
      },
      "execution_count": null,
      "outputs": [
        {
          "output_type": "stream",
          "name": "stderr",
          "text": [
            "Some weights of the model checkpoint at bert-base-cased were not used when initializing BertModel: ['cls.predictions.transform.LayerNorm.weight', 'cls.predictions.bias', 'cls.predictions.decoder.weight', 'cls.predictions.transform.dense.bias', 'cls.predictions.transform.dense.weight', 'cls.seq_relationship.bias', 'cls.seq_relationship.weight', 'cls.predictions.transform.LayerNorm.bias']\n",
            "- This IS expected if you are initializing BertModel from the checkpoint of a model trained on another task or with another architecture (e.g. initializing a BertForSequenceClassification model from a BertForPreTraining model).\n",
            "- This IS NOT expected if you are initializing BertModel from the checkpoint of a model that you expect to be exactly identical (initializing a BertForSequenceClassification model from a BertForSequenceClassification model).\n",
            "Some weights of the model checkpoint at bert-base-cased were not used when initializing BertModel: ['cls.predictions.transform.LayerNorm.weight', 'cls.predictions.bias', 'cls.predictions.decoder.weight', 'cls.predictions.transform.dense.bias', 'cls.predictions.transform.dense.weight', 'cls.seq_relationship.bias', 'cls.seq_relationship.weight', 'cls.predictions.transform.LayerNorm.bias']\n",
            "- This IS expected if you are initializing BertModel from the checkpoint of a model trained on another task or with another architecture (e.g. initializing a BertForSequenceClassification model from a BertForPreTraining model).\n",
            "- This IS NOT expected if you are initializing BertModel from the checkpoint of a model that you expect to be exactly identical (initializing a BertForSequenceClassification model from a BertForSequenceClassification model).\n"
          ]
        },
        {
          "output_type": "stream",
          "name": "stdout",
          "text": [
            "range(8, 11)\n"
          ]
        }
      ]
    },
    {
      "cell_type": "code",
      "source": [
        "train_accuracy(model, train_data, validation_data, LR, EPOCHS,checkpoint_path, best_model, valid_accuracy_max)"
      ],
      "metadata": {
        "id": "v5LK1QszPfFX",
        "colab": {
          "base_uri": "https://localhost:8080/"
        },
        "outputId": "fa059ad2-fa4e-4dd7-9c4c-859ea11faf60"
      },
      "execution_count": null,
      "outputs": [
        {
          "output_type": "stream",
          "name": "stderr",
          "text": [
            "100%|██████████| 8750/8750 [53:39<00:00,  2.72it/s]\n"
          ]
        },
        {
          "output_type": "stream",
          "name": "stdout",
          "text": [
            "Epochs: 8 | Train Loss:  0.004                 | Train Accuracy:  0.996                 | Val Loss:  0.137                 | Val Accuracy:  0.901\n"
          ]
        },
        {
          "output_type": "stream",
          "name": "stderr",
          "text": [
            "100%|██████████| 8750/8750 [53:36<00:00,  2.72it/s]\n"
          ]
        },
        {
          "output_type": "stream",
          "name": "stdout",
          "text": [
            "Epochs: 9 | Train Loss:  0.003                 | Train Accuracy:  0.997                 | Val Loss:  0.155                 | Val Accuracy:  0.904\n"
          ]
        },
        {
          "output_type": "stream",
          "name": "stderr",
          "text": [
            "100%|██████████| 8750/8750 [53:29<00:00,  2.73it/s]\n"
          ]
        },
        {
          "output_type": "stream",
          "name": "stdout",
          "text": [
            "Epochs: 10 | Train Loss:  0.002                 | Train Accuracy:  0.997                 | Val Loss:  0.196                 | Val Accuracy:  0.904\n"
          ]
        }
      ]
    },
    {
      "cell_type": "code",
      "source": [
        "val_acc=[0.868,0.907,0.893,0.904,0.898,0.908,0.907,0.901,0.904,0.904]\n",
        "train_acc=[0.627,0.901,0.957,0.987,0.993,0.994,0.996,0.996,0.997,0.997]"
      ],
      "metadata": {
        "id": "erUrpEgPTynL"
      },
      "execution_count": null,
      "outputs": []
    },
    {
      "cell_type": "code",
      "source": [
        "plt.plot(range(1,11), val_acc, label='Validation Accuracy')\n",
        "plt.plot(range(1,11), train_acc, label='Training Accuracy')\n",
        "plt.legend()\n",
        "plt.xlabel('Epochs')\n",
        "plt.ylabel('Validation Accuracy and Training Accuracy')\n",
        "plt.title('Accuracy vs Epochs')\n",
        "plt.show()"
      ],
      "metadata": {
        "colab": {
          "base_uri": "https://localhost:8080/",
          "height": 295
        },
        "id": "33_uVAIx8BCf",
        "outputId": "b3c6495b-37a1-43e8-aacd-a5a830265a39"
      },
      "execution_count": null,
      "outputs": [
        {
          "output_type": "display_data",
          "data": {
            "text/plain": [
              "<Figure size 432x288 with 1 Axes>"
            ],
            "image/png": "[encoded data removed]"
          },
          "metadata": {
            "needs_background": "light"
          }
        }
      ]
    },
    {
      "cell_type": "markdown",
      "source": [
        "##1e-6"
      ],
      "metadata": {
        "id": "Aty11k-n94nV"
      }
    },
    {
      "cell_type": "code",
      "source": [
        "LR = 1e-6\n",
        "EPOCHS = [1,2,3,4,5,6,7,8,9,10]\n",
        "test_acc =[]\n",
        "val_acc=[]\n",
        "\n",
        "checkpoint_path = '/content/drive/MyDrive/bert/checkpointsacclr1e-6/check.pt'\n",
        "best_model = '/content/drive/MyDrive/bert/bestmodelacclr1e-6/model.pt'"
      ],
      "metadata": {
        "id": "UZg6-4wp96PR"
      },
      "execution_count": null,
      "outputs": []
    },
    {
      "cell_type": "code",
      "source": [
        "train_accuracy(model, train_data, validation_data, LR, epochs,checkpoint_path, best_model,-np.inf)"
      ],
      "metadata": {
        "colab": {
          "base_uri": "https://localhost:8080/"
        },
        "id": "gyyzAuZz99Zj",
        "outputId": "e812b052-8560-4aea-9b2a-de7084b0859e"
      },
      "execution_count": null,
      "outputs": [
        {
          "output_type": "stream",
          "name": "stdout",
          "text": [
            "100%|██████████| 8750/8750 [56:49<00:00,  2.57it/s]\n",
            "Epochs: 1 | Train Loss:  0.106                 | Train Accuracy:  0.787                 | Val Loss:  0.197                 | Val Accuracy:  0.909\n",
            "Validation Accuracy increased (-inf --> 0.908800).  Saving model ...\n",
            "100%|██████████| 8750/8750 [58:23<00:00,  2.50it/s]\n",
            "Epochs: 2 | Train Loss:  0.052                 | Train Accuracy:  0.925                 | Val Loss:  0.254                 | Val Accuracy:  0.909\n",
            "Validation Accuracy increased (0.908800 --> 0.909400).  Saving model ...\n",
            "100%|██████████| 8750/8750 [58:05<00:00,  2.51it/s]\n",
            "Epochs: 3 | Train Loss:  0.022                 | Train Accuracy:  0.972                 | Val Loss:  0.282                 | Val Accuracy:  0.910\n",
            "Validation Accuracy increased (0.909400 --> 0.909600).  Saving model ...\n",
            "100%|██████████| 8750/8750 [57:41<00:00,  2.53it/s]\n",
            "Epochs: 4 | Train Loss:  0.007                 | Train Accuracy:  0.993                 | Val Loss:  0.331                 | Val Accuracy:  0.908\n",
            "100%|██████████| 8750/8750 [57:21<00:00,  2.54it/s]\n",
            "Epochs: 5 | Train Loss:  0.005                 | Train Accuracy:  0.994                 | Val Loss:  0.409                 | Val Accuracy:  0.909\n",
            " 17%|█▋        | 1448/8750 [09:28<47:44,  2.55it/s]\n"
          ]
        }
      ]
    },
    {
      "cell_type": "code",
      "source": [
        "# reload ckp and start training from the last epoch\n",
        "model = BertClassifier()\n",
        "optimizer = Adam(model.parameters(), lr= LR)\n",
        "_,_, epochbest, valid_accuracy_max,_ = load_model_accuracy(best_model, model, optimizer)\n",
        "model = BertClassifier()\n",
        "optimizer = Adam(model.parameters(), lr= LR)\n",
        "model, optimizer, start_epoch,_, LR = load_ckp_accuracy(checkpoint_path, model, optimizer)\n",
        "EPOCHS = range(start_epoch+1,11)\n",
        "print(EPOCHS)"
      ],
      "metadata": {
        "colab": {
          "base_uri": "https://localhost:8080/"
        },
        "id": "zzv5O8nNyMwW",
        "outputId": "827a1d82-1f04-474f-d1b3-ff4b6df3daab"
      },
      "execution_count": null,
      "outputs": [
        {
          "output_type": "stream",
          "name": "stderr",
          "text": [
            "Some weights of the model checkpoint at bert-base-cased were not used when initializing BertModel: ['cls.predictions.bias', 'cls.seq_relationship.bias', 'cls.seq_relationship.weight', 'cls.predictions.transform.LayerNorm.bias', 'cls.predictions.transform.dense.weight', 'cls.predictions.decoder.weight', 'cls.predictions.transform.dense.bias', 'cls.predictions.transform.LayerNorm.weight']\n",
            "- This IS expected if you are initializing BertModel from the checkpoint of a model trained on another task or with another architecture (e.g. initializing a BertForSequenceClassification model from a BertForPreTraining model).\n",
            "- This IS NOT expected if you are initializing BertModel from the checkpoint of a model that you expect to be exactly identical (initializing a BertForSequenceClassification model from a BertForSequenceClassification model).\n",
            "Some weights of the model checkpoint at bert-base-cased were not used when initializing BertModel: ['cls.predictions.bias', 'cls.seq_relationship.bias', 'cls.seq_relationship.weight', 'cls.predictions.transform.LayerNorm.bias', 'cls.predictions.transform.dense.weight', 'cls.predictions.decoder.weight', 'cls.predictions.transform.dense.bias', 'cls.predictions.transform.LayerNorm.weight']\n",
            "- This IS expected if you are initializing BertModel from the checkpoint of a model trained on another task or with another architecture (e.g. initializing a BertForSequenceClassification model from a BertForPreTraining model).\n",
            "- This IS NOT expected if you are initializing BertModel from the checkpoint of a model that you expect to be exactly identical (initializing a BertForSequenceClassification model from a BertForSequenceClassification model).\n"
          ]
        },
        {
          "output_type": "stream",
          "name": "stdout",
          "text": [
            "range(6, 10)\n"
          ]
        }
      ]
    },
    {
      "cell_type": "code",
      "source": [
        "train_accuracy(model, train_data, validation_data, LR, EPOCHS,checkpoint_path, best_model, valid_accuracy_max)"
      ],
      "metadata": {
        "colab": {
          "base_uri": "https://localhost:8080/"
        },
        "id": "gioagx0v_vHk",
        "outputId": "ba85be3c-86d9-4083-becf-7a24cb62cf52"
      },
      "execution_count": null,
      "outputs": [
        {
          "output_type": "stream",
          "name": "stdout",
          "text": [
            "100%|██████████| 8750/8750 [54:03<00:00,  2.70it/s]\n",
            "Epochs: 6 | Train Loss:  0.005                 | Train Accuracy:  0.994                 | Val Loss:  0.559                 | Val Accuracy:  0.911\n",
            "Validation Accuracy increased (0.909600 --> 0.911400).  Saving model ...\n",
            "100%|██████████| 8750/8750 [54:11<00:00,  2.69it/s]\n",
            "Epochs: 7 | Train Loss:  0.004                 | Train Accuracy:  0.995                 | Val Loss:  0.578                 | Val Accuracy:  0.911\n",
            "100%|██████████| 8750/8750 [54:12<00:00,  2.69it/s]\n",
            "Epochs: 8 | Train Loss:  0.004                 | Train Accuracy:  0.995                 | Val Loss:  0.604                 | Val Accuracy:  0.911\n",
            " 19%|█▉        | 1678/8750 [10:24<43:45,  2.69it/s]\n"
          ]
        }
      ]
    },
    {
      "cell_type": "code",
      "source": [
        "# reload ckp and start training from the last epoch\n",
        "model = BertClassifier()\n",
        "optimizer = Adam(model.parameters(), lr= LR)\n",
        "_,_, epochbest, valid_accuracy_max,_ = load_model_accuracy(best_model, model, optimizer)\n",
        "model = BertClassifier()\n",
        "optimizer = Adam(model.parameters(), lr= LR)\n",
        "model, optimizer, start_epoch,_, LR = load_ckp_accuracy(checkpoint_path, model, optimizer)\n",
        "EPOCHS = range(start_epoch+1,11)\n",
        "print(EPOCHS)"
      ],
      "metadata": {
        "colab": {
          "base_uri": "https://localhost:8080/"
        },
        "id": "AcxONfzL6Aqk",
        "outputId": "b805b41f-4eb9-4983-8d35-762ee5abe0b3"
      },
      "execution_count": null,
      "outputs": [
        {
          "output_type": "stream",
          "name": "stderr",
          "text": [
            "Some weights of the model checkpoint at bert-base-cased were not used when initializing BertModel: ['cls.predictions.decoder.weight', 'cls.predictions.transform.dense.bias', 'cls.predictions.bias', 'cls.seq_relationship.weight', 'cls.predictions.transform.LayerNorm.bias', 'cls.predictions.transform.dense.weight', 'cls.seq_relationship.bias', 'cls.predictions.transform.LayerNorm.weight']\n",
            "- This IS expected if you are initializing BertModel from the checkpoint of a model trained on another task or with another architecture (e.g. initializing a BertForSequenceClassification model from a BertForPreTraining model).\n",
            "- This IS NOT expected if you are initializing BertModel from the checkpoint of a model that you expect to be exactly identical (initializing a BertForSequenceClassification model from a BertForSequenceClassification model).\n",
            "Some weights of the model checkpoint at bert-base-cased were not used when initializing BertModel: ['cls.predictions.decoder.weight', 'cls.predictions.transform.dense.bias', 'cls.predictions.bias', 'cls.seq_relationship.weight', 'cls.predictions.transform.LayerNorm.bias', 'cls.predictions.transform.dense.weight', 'cls.seq_relationship.bias', 'cls.predictions.transform.LayerNorm.weight']\n",
            "- This IS expected if you are initializing BertModel from the checkpoint of a model trained on another task or with another architecture (e.g. initializing a BertForSequenceClassification model from a BertForPreTraining model).\n",
            "- This IS NOT expected if you are initializing BertModel from the checkpoint of a model that you expect to be exactly identical (initializing a BertForSequenceClassification model from a BertForSequenceClassification model).\n"
          ]
        },
        {
          "output_type": "stream",
          "name": "stdout",
          "text": [
            "range(9, 11)\n"
          ]
        }
      ]
    },
    {
      "cell_type": "code",
      "source": [
        "train_accuracy(model, train_data, validation_data, LR, epochs,checkpoint_path, best_model,valid_accuracy_max)"
      ],
      "metadata": {
        "colab": {
          "base_uri": "https://localhost:8080/"
        },
        "id": "6f2IlnrY6EYn",
        "outputId": "a76847fd-50d8-486a-de4e-dc3cc0da3f35"
      },
      "execution_count": null,
      "outputs": [
        {
          "output_type": "stream",
          "name": "stderr",
          "text": [
            "100%|██████████| 8750/8750 [53:22<00:00,  2.73it/s]\n"
          ]
        },
        {
          "output_type": "stream",
          "name": "stdout",
          "text": [
            "Epochs: 9 | Train Loss:  0.000                 | Train Accuracy:  1.000                 | Val Loss:  0.620                 | Val Accuracy:  0.911\n"
          ]
        },
        {
          "output_type": "stream",
          "name": "stderr",
          "text": [
            "100%|██████████| 8750/8750 [53:29<00:00,  2.73it/s]\n"
          ]
        },
        {
          "output_type": "stream",
          "name": "stdout",
          "text": [
            "Epochs: 10 | Train Loss:  0.000                 | Train Accuracy:  1.000                 | Val Loss:  0.642                 | Val Accuracy:  0.908\n"
          ]
        }
      ]
    },
    {
      "cell_type": "code",
      "source": [
        "model = BertClassifier()\n",
        "optimizer = Adam(model.parameters(), lr= LR)\n",
        "_,_, epochbest, valid_accuracy_max,_ = load_model_accuracy(best_model, model, optimizer)\n",
        "model = BertClassifier()\n",
        "optimizer = Adam(model.parameters(), lr= LR)\n",
        "model, optimizer, start_epoch,_, LR = load_ckp_accuracy(checkpoint_path, model, optimizer)\n",
        "EPOCHS = range(start_epoch+1,17)\n",
        "print(EPOCHS)"
      ],
      "metadata": {
        "colab": {
          "base_uri": "https://localhost:8080/"
        },
        "id": "soUCapf1elOf",
        "outputId": "23cdfab4-6426-4a26-ed70-464cedd6312e"
      },
      "execution_count": null,
      "outputs": [
        {
          "output_type": "stream",
          "name": "stdout",
          "text": [
            "Some weights of the model checkpoint at bert-base-cased were not used when initializing BertModel: ['cls.predictions.decoder.weight', 'cls.predictions.transform.dense.bias', 'cls.predictions.bias', 'cls.seq_relationship.weight', 'cls.predictions.transform.LayerNorm.bias', 'cls.predictions.transform.dense.weight', 'cls.seq_relationship.bias', 'cls.predictions.transform.LayerNorm.weight']\n",
            "- This IS expected if you are initializing BertModel from the checkpoint of a model trained on another task or with another architecture (e.g. initializing a BertForSequenceClassification model from a BertForPreTraining model).\n",
            "- This IS NOT expected if you are initializing BertModel from the checkpoint of a model that you expect to be exactly identical (initializing a BertForSequenceClassification model from a BertForSequenceClassification model).\n",
            "Some weights of the model checkpoint at bert-base-cased were not used when initializing BertModel: ['cls.predictions.decoder.weight', 'cls.predictions.transform.dense.bias', 'cls.predictions.bias', 'cls.seq_relationship.weight', 'cls.predictions.transform.LayerNorm.bias', 'cls.predictions.transform.dense.weight', 'cls.seq_relationship.bias', 'cls.predictions.transform.LayerNorm.weight']\n",
            "- This IS expected if you are initializing BertModel from the checkpoint of a model trained on another task or with another architecture (e.g. initializing a BertForSequenceClassification model from a BertForPreTraining model).\n",
            "- This IS NOT expected if you are initializing BertModel from the checkpoint of a model that you expect to be exactly identical (initializing a BertForSequenceClassification model from a BertForSequenceClassification model).\n",
            "range(11, 17)\n"
          ]
        }
      ]
    },
    {
      "cell_type": "code",
      "source": [
        "train_accuracy(model, train_data, validation_data, LR, epochs,checkpoint_path, best_model,valid_accuracy_max)"
      ],
      "metadata": {
        "colab": {
          "base_uri": "https://localhost:8080/"
        },
        "id": "rUappzc4eP7y",
        "outputId": "61934665-1981-4b35-e810-577d07e5f666"
      },
      "execution_count": null,
      "outputs": [
        {
          "output_type": "stream",
          "name": "stdout",
          "text": [
            "100%|██████████| 8750/8750 [56:49<00:00,  2.57it/s]\n",
            "Epochs: 11 | Train Loss:  0.000                 | Train Accuracy:  1.000                 | Val Loss:  0.197                 | Val Accuracy:  0.909\n",
            "100%|██████████| 8750/8750 [58:23<00:00,  2.50it/s]\n",
            "Epochs: 12 | Train Loss:  0.000                 | Train Accuracy:  1.000                 | Val Loss:  0.254                 | Val Accuracy:  0.909\n",
            "100%|██████████| 8750/8750 [58:05<00:00,  2.51it/s]\n",
            "Epochs: 13 | Train Loss:  0.000                 | Train Accuracy:  1.000                 | Val Loss:  0.282                 | Val Accuracy:  0.910\n",
            "100%|██████████| 8750/8750 [57:41<00:00,  2.53it/s]\n",
            "Epochs: 14 | Train Loss:  0.000                 | Train Accuracy:  1.000                 | Val Loss:  0.331                 | Val Accuracy:  0.908\n",
            "100%|██████████| 8750/8750 [57:21<00:00,  2.54it/s]\n",
            "Epochs: 15 | Train Loss:  0.000                 | Train Accuracy:  1.000                 | Val Loss:  0.409                 | Val Accuracy:  0.909\n",
            " 17%|█▋        | 1448/8750 [09:28<47:44,  2.55it/s]\n"
          ]
        }
      ]
    },
    {
      "cell_type": "code",
      "source": [
        "val_acc=[0.909,0.909,0.910,0.908,0.909,0.911,0.911,0.911,0.911,0.908,0.909,0.909,0.910,0.908,0.909]\n",
        "train_acc=[0.787,0.925,0.972,0.993,0.994,0.994,0.995,0.995,1,1,1,1,1,1,1]"
      ],
      "metadata": {
        "id": "P4BLf7TBUqM2"
      },
      "execution_count": null,
      "outputs": []
    },
    {
      "cell_type": "code",
      "source": [
        "plt.plot(range(1,16), val_acc, label='Validation Accuracy')\n",
        "plt.plot(range(1,16), train_acc, label='Training Accuracy')\n",
        "plt.legend()\n",
        "plt.xlabel('Epochs')\n",
        "plt.ylabel('Validation Accuracy and Training Accuracy')\n",
        "plt.title('Accuracy vs Epochs')\n",
        "plt.show()"
      ],
      "metadata": {
        "colab": {
          "base_uri": "https://localhost:8080/",
          "height": 295
        },
        "id": "dAe8MCA8CAAQ",
        "outputId": "5d8442d2-0551-4e25-b3fa-1f4bd9b6e8f0"
      },
      "execution_count": null,
      "outputs": [
        {
          "output_type": "display_data",
          "data": {
            "text/plain": [
              "<Figure size 432x288 with 1 Axes>"
            ],
            "image/png": "[encoded data removed]"
          },
          "metadata": {
            "needs_background": "light"
          }
        }
      ]
    },
    {
      "cell_type": "markdown",
      "source": [
        "##5e-4"
      ],
      "metadata": {
        "id": "o9if_cM0Fanz"
      }
    },
    {
      "cell_type": "code",
      "source": [
        "LR = 5e-4\n",
        "epochs = [1,2,3,4,5,6,7,8,9,10]\n",
        "test_acc =[]\n",
        "val_acc=[]\n",
        "\n",
        "checkpoint_path = '/content/drive/MyDrive/bert/checkpointsacclr5e-4/check.pt'\n",
        "best_model = '/content/drive/MyDrive/bert/bestmodelacclr5e-4/model.pt'"
      ],
      "metadata": {
        "id": "fCqS94i9Ffkm"
      },
      "execution_count": null,
      "outputs": []
    },
    {
      "cell_type": "code",
      "source": [
        "train_accuracy(model, train_data, validation_data, LR, EPOCHS,checkpoint_path, best_model,-np.inf)"
      ],
      "metadata": {
        "colab": {
          "base_uri": "https://localhost:8080/"
        },
        "id": "BuelCbyyGEci",
        "outputId": "e3e61696-0d8c-4d8f-943a-1422f120840c"
      },
      "execution_count": null,
      "outputs": [
        {
          "output_type": "stream",
          "name": "stdout",
          "text": [
            "100%|██████████| 8750/8750 [51:38<00:00,  2.82it/s]\n",
            "Epochs: 1 | Train Loss:  0.174                 | Train Accuracy:  0.500                 | Val Loss:  0.173                 | Val Accuracy:  0.500\n",
            "Validation Accuracy increased (-inf --> 0.500000).  Saving model ...\n",
            "100%|██████████| 8750/8750 [54:21<00:00,  2.68it/s]\n",
            "Epochs: 2 | Train Loss:  0.173                 | Train Accuracy:  0.500                 | Val Loss:  0.173                 | Val Accuracy:  0.500\n",
            "Validation Accuracy increased (0.500000 --> 0.500000).  Saving model ...\n",
            "100%|██████████| 8750/8750 [54:17<00:00,  2.69it/s]\n",
            "Epochs: 3 | Train Loss:  0.173                 | Train Accuracy:  0.500                 | Val Loss:  0.173                 | Val Accuracy:  0.500\n",
            "Validation Accuracy increased (0.500000 --> 0.500000).  Saving model ...\n",
            "40%|███▉      | 3482/8750 [20:31<30:59,  2.83it/s]\n"
          ]
        }
      ]
    },
    {
      "cell_type": "code",
      "source": [
        "model = BertClassifier()\n",
        "optimizer = Adam(model.parameters(), lr= LR)\n",
        "_,_, epochbest, valid_accuracy_max,_ = load_model_accuracy(best_model, model, optimizer)\n",
        "model = BertClassifier()\n",
        "optimizer = Adam(model.parameters(), lr= LR)\n",
        "model, optimizer, start_epoch,_, LR = load_ckp_accuracy(checkpoint_path, model, optimizer)\n",
        "EPOCHS = range(start_epoch+1,10)\n",
        "print(EPOCHS)"
      ],
      "metadata": {
        "colab": {
          "base_uri": "https://localhost:8080/"
        },
        "id": "1D9p60XWcIJU",
        "outputId": "89fc4810-375e-4632-fdc4-b3bb513e8938"
      },
      "execution_count": null,
      "outputs": [
        {
          "output_type": "stream",
          "name": "stderr",
          "text": [
            "Some weights of the model checkpoint at bert-base-cased were not used when initializing BertModel: ['cls.predictions.transform.dense.bias', 'cls.seq_relationship.weight', 'cls.predictions.bias', 'cls.predictions.transform.LayerNorm.bias', 'cls.seq_relationship.bias', 'cls.predictions.decoder.weight', 'cls.predictions.transform.LayerNorm.weight', 'cls.predictions.transform.dense.weight']\n",
            "- This IS expected if you are initializing BertModel from the checkpoint of a model trained on another task or with another architecture (e.g. initializing a BertForSequenceClassification model from a BertForPreTraining model).\n",
            "- This IS NOT expected if you are initializing BertModel from the checkpoint of a model that you expect to be exactly identical (initializing a BertForSequenceClassification model from a BertForSequenceClassification model).\n",
            "Some weights of the model checkpoint at bert-base-cased were not used when initializing BertModel: ['cls.predictions.transform.dense.bias', 'cls.seq_relationship.weight', 'cls.predictions.bias', 'cls.predictions.transform.LayerNorm.bias', 'cls.seq_relationship.bias', 'cls.predictions.decoder.weight', 'cls.predictions.transform.LayerNorm.weight', 'cls.predictions.transform.dense.weight']\n",
            "- This IS expected if you are initializing BertModel from the checkpoint of a model trained on another task or with another architecture (e.g. initializing a BertForSequenceClassification model from a BertForPreTraining model).\n",
            "- This IS NOT expected if you are initializing BertModel from the checkpoint of a model that you expect to be exactly identical (initializing a BertForSequenceClassification model from a BertForSequenceClassification model).\n"
          ]
        },
        {
          "output_type": "stream",
          "name": "stdout",
          "text": [
            "range(4, 10)\n"
          ]
        }
      ]
    },
    {
      "cell_type": "code",
      "source": [
        "train_accuracy(model, train_data, validation_data, LR, EPOCHS,checkpoint_path, best_model,valid_accuracy_max)"
      ],
      "metadata": {
        "colab": {
          "base_uri": "https://localhost:8080/"
        },
        "id": "2cTb8DAHc2MV",
        "outputId": "4fd30df6-81f4-4150-c53c-a95db9b5ea38"
      },
      "execution_count": null,
      "outputs": [
        {
          "metadata": {
            "tags": null
          },
          "name": "stderr",
          "output_type": "stream",
          "text": [
            "100%|██████████| 8750/8750 [53:27<00:00,  2.73it/s]\n"
          ]
        },
        {
          "metadata": {
            "tags": null
          },
          "name": "stdout",
          "output_type": "stream",
          "text": [
            "Epochs: 4 | Train Loss:  0.173                 | Train Accuracy:  0.500                 | Val Loss:  0.173                 | Val Accuracy:  0.500\n"
          ]
        },
        {
          "metadata": {
            "tags": null
          },
          "name": "stderr",
          "output_type": "stream",
          "text": [
            "100%|██████████| 8750/8750 [53:35<00:00,  2.72it/s]\n"
          ]
        },
        {
          "metadata": {
            "tags": null
          },
          "name": "stdout",
          "output_type": "stream",
          "text": [
            "Epochs: 5 | Train Loss:  0.173                 | Train Accuracy:  0.500                 | Val Loss:  0.173                 | Val Accuracy:  0.500\n"
          ]
        },
        {
          "metadata": {
            "tags": null
          },
          "name": "stderr",
          "output_type": "stream",
          "text": [
            "100%|██████████| 8750/8750 [53:31<00:00,  2.72it/s]\n"
          ]
        },
        {
          "metadata": {
            "tags": null
          },
          "name": "stdout",
          "output_type": "stream",
          "text": [
            "Epochs: 6 | Train Loss:  0.173                 | Train Accuracy:  0.500                 | Val Loss:  0.173                 | Val Accuracy:  0.500\n"
          ]
        },
        {
          "metadata": {
            "tags": null
          },
          "name": "stderr",
          "output_type": "stream",
          "text": [
            "100%|██████████| 8750/8750 [53:31<00:00,  2.72it/s]\n"
          ]
        },
        {
          "metadata": {
            "tags": null
          },
          "name": "stdout",
          "output_type": "stream",
          "text": [
            "Epochs: 7 | Train Loss:  0.173                 | Train Accuracy:  0.500                 | Val Loss:  0.173                 | Val Accuracy:  0.500\n"
          ]
        },
        {
          "output_type": "stream",
          "name": "stderr",
          "text": [
            " 34%|███▍      | 2989/8750 [18:12<35:11,  2.73it/s]"
          ]
        }
      ]
    },
    {
      "cell_type": "code",
      "source": [
        "model = BertClassifier()\n",
        "optimizer = Adam(model.parameters(), lr= LR)\n",
        "_,_, epochbest, valid_accuracy_max,_ = load_model_accuracy(best_model, model, optimizer)\n",
        "model = BertClassifier()\n",
        "optimizer = Adam(model.parameters(), lr= LR)\n",
        "model, optimizer, start_epoch,_, LR = load_ckp_accuracy(checkpoint_path, model, optimizer)\n",
        "EPOCHS = range(start_epoch+1,11)\n",
        "print(EPOCHS)"
      ],
      "metadata": {
        "colab": {
          "base_uri": "https://localhost:8080/"
        },
        "outputId": "17eb79a6-5676-4d72-f340-a549cdee669b",
        "id": "0O-Y3j31HXcB"
      },
      "execution_count": null,
      "outputs": [
        {
          "output_type": "stream",
          "name": "stderr",
          "text": [
            "Some weights of the model checkpoint at bert-base-cased were not used when initializing BertModel: ['cls.predictions.transform.LayerNorm.weight', 'cls.predictions.bias', 'cls.predictions.decoder.weight', 'cls.predictions.transform.dense.bias', 'cls.predictions.transform.dense.weight', 'cls.seq_relationship.bias', 'cls.seq_relationship.weight', 'cls.predictions.transform.LayerNorm.bias']\n",
            "- This IS expected if you are initializing BertModel from the checkpoint of a model trained on another task or with another architecture (e.g. initializing a BertForSequenceClassification model from a BertForPreTraining model).\n",
            "- This IS NOT expected if you are initializing BertModel from the checkpoint of a model that you expect to be exactly identical (initializing a BertForSequenceClassification model from a BertForSequenceClassification model).\n",
            "Some weights of the model checkpoint at bert-base-cased were not used when initializing BertModel: ['cls.predictions.transform.LayerNorm.weight', 'cls.predictions.bias', 'cls.predictions.decoder.weight', 'cls.predictions.transform.dense.bias', 'cls.predictions.transform.dense.weight', 'cls.seq_relationship.bias', 'cls.seq_relationship.weight', 'cls.predictions.transform.LayerNorm.bias']\n",
            "- This IS expected if you are initializing BertModel from the checkpoint of a model trained on another task or with another architecture (e.g. initializing a BertForSequenceClassification model from a BertForPreTraining model).\n",
            "- This IS NOT expected if you are initializing BertModel from the checkpoint of a model that you expect to be exactly identical (initializing a BertForSequenceClassification model from a BertForSequenceClassification model).\n"
          ]
        },
        {
          "output_type": "stream",
          "name": "stdout",
          "text": [
            "range(8, 11)\n"
          ]
        }
      ]
    },
    {
      "cell_type": "code",
      "source": [
        "train_accuracy(model, train_data, validation_data, LR, EPOCHS,checkpoint_path, best_model,valid_accuracy_max)"
      ],
      "metadata": {
        "colab": {
          "base_uri": "https://localhost:8080/"
        },
        "id": "i0R64RvGHaNK",
        "outputId": "14401bdf-17de-406a-b104-33ed8977a6de"
      },
      "execution_count": null,
      "outputs": [
        {
          "output_type": "stream",
          "name": "stdout",
          "text": [
            "100%|██████████| 8750/8750 [53:27<00:00,  2.73it/s]\n",
            "Epochs: 8 | Train Loss:  0.173                 | Train Accuracy:  0.500                 | Val Loss:  0.173                 | Val Accuracy:  0.500\n",
            "100%|██████████| 8750/8750 [53:35<00:00,  2.72it/s]\n",
            "Epochs: 9 | Train Loss:  0.173                 | Train Accuracy:  0.500                 | Val Loss:  0.173                 | Val Accuracy:  0.500\n",
            "100%|██████████| 8750/8750 [53:31<00:00,  2.72it/s]\n",
            "Epochs: 10 | Train Loss:  0.173                 | Train Accuracy:  0.500                 | Val Loss:  0.173                 | Val Accuracy:  0.500\n"
          ]
        }
      ]
    },
    {
      "cell_type": "code",
      "source": [
        "val_acc=[0.500,0.500,0.500,0.500,0.500,0.500,0.500,0.500,0.500,0.500]\n",
        "train_acc=[0.500,0.500,0.500,0.500,0.500,0.500,0.500,0.500,0.500,0.500]"
      ],
      "metadata": {
        "id": "ty9KCiBYV2c0"
      },
      "execution_count": null,
      "outputs": []
    },
    {
      "cell_type": "code",
      "source": [
        "plt.plot(range(1,11), val_acc, label='Validation Accuracy')\n",
        "plt.plot(range(1,11), train_acc, label='Training Accuracy')\n",
        "plt.legend()\n",
        "plt.xlabel('Epochs')\n",
        "plt.ylabel('Validation Accuracy and Training Accuracy')\n",
        "plt.title('Accuracy vs Epochs')\n",
        "plt.show()"
      ],
      "metadata": {
        "colab": {
          "base_uri": "https://localhost:8080/",
          "height": 295
        },
        "id": "m1AJIvGeH42N",
        "outputId": "e12552c6-0f32-4e81-fc3a-27b8c1f401d6"
      },
      "execution_count": null,
      "outputs": [
        {
          "output_type": "display_data",
          "data": {
            "text/plain": [
              "<Figure size 432x288 with 1 Axes>"
            ],
            "image/png": "[encoded data removed]"
          },
          "metadata": {
            "needs_background": "light"
          }
        }
      ]
    },
    {
      "cell_type": "markdown",
      "source": [
        "##1e-4\n"
      ],
      "metadata": {
        "id": "b_GVcCnrtPSY"
      }
    },
    {
      "cell_type": "code",
      "source": [
        "LR = 1e-4\n",
        "epochs = [1,2,3,4,5,6,7,8,9,10]\n",
        "test_acc =[]\n",
        "val_acc=[]\n",
        "\n",
        "checkpoint_path = '/content/drive/MyDrive/bert/checkpointsacc1e-4/check.pt'\n",
        "best_model = '/content/drive/MyDrive/bert/bestmodelacc1e-4/model.pt'"
      ],
      "metadata": {
        "id": "Aga-gMtItkxB"
      },
      "execution_count": null,
      "outputs": []
    },
    {
      "cell_type": "code",
      "source": [
        "model = BertClassifier()\n",
        "optimizer = Adam(model.parameters(), lr= LR)\n",
        "train_accuracy(model, train_data, validation_data, LR, epochs,checkpoint_path, best_model, -np.inf)"
      ],
      "metadata": {
        "colab": {
          "base_uri": "https://localhost:8080/"
        },
        "outputId": "1e3b633f-279e-4225-ead2-1b6749769435",
        "id": "2ATbs1aEt33J"
      },
      "execution_count": null,
      "outputs": [
        {
          "metadata": {
            "tags": null
          },
          "name": "stderr",
          "output_type": "stream",
          "text": [
            "Some weights of the model checkpoint at bert-base-cased were not used when initializing BertModel: ['cls.predictions.transform.dense.bias', 'cls.seq_relationship.bias', 'cls.predictions.transform.dense.weight', 'cls.predictions.transform.LayerNorm.weight', 'cls.seq_relationship.weight', 'cls.predictions.decoder.weight', 'cls.predictions.bias', 'cls.predictions.transform.LayerNorm.bias']\n",
            "- This IS expected if you are initializing BertModel from the checkpoint of a model trained on another task or with another architecture (e.g. initializing a BertForSequenceClassification model from a BertForPreTraining model).\n",
            "- This IS NOT expected if you are initializing BertModel from the checkpoint of a model that you expect to be exactly identical (initializing a BertForSequenceClassification model from a BertForSequenceClassification model).\n",
            "100%|██████████| 8750/8750 [53:32<00:00,  2.72it/s]\n"
          ]
        },
        {
          "metadata": {
            "tags": null
          },
          "name": "stdout",
          "output_type": "stream",
          "text": [
            "Epochs: 1 | Train Loss:  0.174                 | Train Accuracy:  0.501                 | Val Loss:  0.173                 | Val Accuracy:  0.500\n",
            "Validation Accuracy increased (-inf --> 0.499800).  Saving model ...\n"
          ]
        },
        {
          "metadata": {
            "tags": null
          },
          "name": "stderr",
          "output_type": "stream",
          "text": [
            "100%|██████████| 8750/8750 [53:23<00:00,  2.73it/s]\n"
          ]
        },
        {
          "metadata": {
            "tags": null
          },
          "name": "stdout",
          "output_type": "stream",
          "text": [
            "Epochs: 2 | Train Loss:  0.173                 | Train Accuracy:  0.500                 | Val Loss:  0.173                 | Val Accuracy:  0.500\n",
            "Validation Accuracy increased (0.499800 --> 0.500200).  Saving model ...\n"
          ]
        },
        {
          "metadata": {
            "tags": null
          },
          "name": "stderr",
          "output_type": "stream",
          "text": [
            "100%|██████████| 8750/8750 [53:21<00:00,  2.73it/s]\n"
          ]
        },
        {
          "metadata": {
            "tags": null
          },
          "name": "stdout",
          "output_type": "stream",
          "text": [
            "Epochs: 3 | Train Loss:  0.173                 | Train Accuracy:  0.500                 | Val Loss:  0.173                 | Val Accuracy:  0.500\n"
          ]
        },
        {
          "metadata": {
            "tags": null
          },
          "name": "stderr",
          "output_type": "stream",
          "text": [
            "100%|██████████| 8750/8750 [53:22<00:00,  2.73it/s]\n"
          ]
        },
        {
          "metadata": {
            "tags": null
          },
          "name": "stdout",
          "output_type": "stream",
          "text": [
            "Epochs: 4 | Train Loss:  0.173                 | Train Accuracy:  0.500                 | Val Loss:  0.173                 | Val Accuracy:  0.500\n"
          ]
        },
        {
          "output_type": "stream",
          "name": "stderr",
          "text": [
            " 28%|██▊       | 2444/8750 [14:54<38:27,  2.73it/s]"
          ]
        }
      ]
    },
    {
      "cell_type": "code",
      "source": [
        "# reload ckp and start training from the last epoch\n",
        "model = BertClassifier()\n",
        "optimizer = Adam(model.parameters(), lr= LR)\n",
        "_,_, epochbest, valid_accuracy_max,_ = load_model_accuracy(best_model, model, optimizer)\n",
        "model = BertClassifier()\n",
        "optimizer = Adam(model.parameters(), lr= LR)\n",
        "model, optimizer, start_epoch,_, LR = load_ckp_accuracy(checkpoint_path, model, optimizer)\n",
        "EPOCHS = range(start_epoch+1,11)\n",
        "print(EPOCHS)"
      ],
      "metadata": {
        "colab": {
          "base_uri": "https://localhost:8080/"
        },
        "outputId": "db50e5da-74bd-42e0-f5f8-37cb7c2c0b47",
        "id": "CBzQBAuTuDKO"
      },
      "execution_count": null,
      "outputs": [
        {
          "output_type": "stream",
          "name": "stderr",
          "text": [
            "Some weights of the model checkpoint at bert-base-cased were not used when initializing BertModel: ['cls.seq_relationship.bias', 'cls.predictions.transform.dense.bias', 'cls.predictions.bias', 'cls.predictions.transform.dense.weight', 'cls.seq_relationship.weight', 'cls.predictions.transform.LayerNorm.weight', 'cls.predictions.decoder.weight', 'cls.predictions.transform.LayerNorm.bias']\n",
            "- This IS expected if you are initializing BertModel from the checkpoint of a model trained on another task or with another architecture (e.g. initializing a BertForSequenceClassification model from a BertForPreTraining model).\n",
            "- This IS NOT expected if you are initializing BertModel from the checkpoint of a model that you expect to be exactly identical (initializing a BertForSequenceClassification model from a BertForSequenceClassification model).\n",
            "Some weights of the model checkpoint at bert-base-cased were not used when initializing BertModel: ['cls.seq_relationship.bias', 'cls.predictions.transform.dense.bias', 'cls.predictions.bias', 'cls.predictions.transform.dense.weight', 'cls.seq_relationship.weight', 'cls.predictions.transform.LayerNorm.weight', 'cls.predictions.decoder.weight', 'cls.predictions.transform.LayerNorm.bias']\n",
            "- This IS expected if you are initializing BertModel from the checkpoint of a model trained on another task or with another architecture (e.g. initializing a BertForSequenceClassification model from a BertForPreTraining model).\n",
            "- This IS NOT expected if you are initializing BertModel from the checkpoint of a model that you expect to be exactly identical (initializing a BertForSequenceClassification model from a BertForSequenceClassification model).\n"
          ]
        },
        {
          "output_type": "stream",
          "name": "stdout",
          "text": [
            "range(5, 11)\n"
          ]
        }
      ]
    },
    {
      "cell_type": "code",
      "source": [
        "train_accuracy(model, train_data, validation_data, LR, EPOCHS,checkpoint_path, best_model, valid_accuracy_max)"
      ],
      "metadata": {
        "colab": {
          "base_uri": "https://localhost:8080/"
        },
        "outputId": "e424d48d-01dd-4671-f296-532eee7554fc",
        "id": "n7zsKVsaubEs"
      },
      "execution_count": null,
      "outputs": [
        {
          "metadata": {
            "tags": null
          },
          "name": "stderr",
          "output_type": "stream",
          "text": [
            "100%|██████████| 8750/8750 [55:57<00:00,  2.61it/s]\n"
          ]
        },
        {
          "metadata": {
            "tags": null
          },
          "name": "stdout",
          "output_type": "stream",
          "text": [
            "Epochs: 5 | Train Loss:  0.173                 | Train Accuracy:  0.500                 | Val Loss:  0.173                 | Val Accuracy:  0.500\n"
          ]
        },
        {
          "metadata": {
            "tags": null
          },
          "name": "stderr",
          "output_type": "stream",
          "text": [
            "100%|██████████| 8750/8750 [56:07<00:00,  2.60it/s]\n"
          ]
        },
        {
          "metadata": {
            "tags": null
          },
          "name": "stdout",
          "output_type": "stream",
          "text": [
            "Epochs: 6 | Train Loss:  0.173                 | Train Accuracy:  0.500                 | Val Loss:  0.173                 | Val Accuracy:  0.500\n"
          ]
        },
        {
          "metadata": {
            "tags": null
          },
          "name": "stderr",
          "output_type": "stream",
          "text": [
            "100%|██████████| 8750/8750 [56:04<00:00,  2.60it/s]\n"
          ]
        },
        {
          "metadata": {
            "tags": null
          },
          "name": "stdout",
          "output_type": "stream",
          "text": [
            "Epochs: 7 | Train Loss:  0.173                 | Train Accuracy:  0.500                 | Val Loss:  0.173                 | Val Accuracy:  0.500\n"
          ]
        },
        {
          "output_type": "stream",
          "name": "stderr",
          "text": [
            " 79%|███████▉  | 6937/8750 [44:26<11:35,  2.61it/s]"
          ]
        }
      ]
    },
    {
      "cell_type": "code",
      "source": [
        "# reload ckp and start training from the last epoch\n",
        "model = BertClassifier()\n",
        "optimizer = Adam(model.parameters(), lr= LR)\n",
        "_,_, epochbest, valid_accuracy_max,_ = load_model_accuracy(best_model, model, optimizer)\n",
        "model = BertClassifier()\n",
        "optimizer = Adam(model.parameters(), lr= LR)\n",
        "model, optimizer, start_epoch,_, LR = load_ckp_accuracy(checkpoint_path, model, optimizer)\n",
        "EPOCHS = range(start_epoch+1,11)\n",
        "print(EPOCHS)"
      ],
      "metadata": {
        "colab": {
          "base_uri": "https://localhost:8080/"
        },
        "outputId": "9d2a0744-f3f8-4788-ecc7-f7dc15e5a197",
        "id": "0AeO-0xnuiyi"
      },
      "execution_count": null,
      "outputs": [
        {
          "output_type": "stream",
          "name": "stderr",
          "text": [
            "Some weights of the model checkpoint at bert-base-cased were not used when initializing BertModel: ['cls.predictions.transform.LayerNorm.bias', 'cls.predictions.decoder.weight', 'cls.predictions.bias', 'cls.predictions.transform.dense.bias', 'cls.seq_relationship.bias', 'cls.predictions.transform.LayerNorm.weight', 'cls.predictions.transform.dense.weight', 'cls.seq_relationship.weight']\n",
            "- This IS expected if you are initializing BertModel from the checkpoint of a model trained on another task or with another architecture (e.g. initializing a BertForSequenceClassification model from a BertForPreTraining model).\n",
            "- This IS NOT expected if you are initializing BertModel from the checkpoint of a model that you expect to be exactly identical (initializing a BertForSequenceClassification model from a BertForSequenceClassification model).\n",
            "Some weights of the model checkpoint at bert-base-cased were not used when initializing BertModel: ['cls.predictions.transform.LayerNorm.bias', 'cls.predictions.decoder.weight', 'cls.predictions.bias', 'cls.predictions.transform.dense.bias', 'cls.seq_relationship.bias', 'cls.predictions.transform.LayerNorm.weight', 'cls.predictions.transform.dense.weight', 'cls.seq_relationship.weight']\n",
            "- This IS expected if you are initializing BertModel from the checkpoint of a model trained on another task or with another architecture (e.g. initializing a BertForSequenceClassification model from a BertForPreTraining model).\n",
            "- This IS NOT expected if you are initializing BertModel from the checkpoint of a model that you expect to be exactly identical (initializing a BertForSequenceClassification model from a BertForSequenceClassification model).\n"
          ]
        },
        {
          "output_type": "stream",
          "name": "stdout",
          "text": [
            "range(8, 11)\n"
          ]
        }
      ]
    },
    {
      "cell_type": "code",
      "source": [
        "train_accuracy(model, train_data, validation_data, LR, EPOCHS,checkpoint_path, best_model, valid_accuracy_max)"
      ],
      "metadata": {
        "colab": {
          "base_uri": "https://localhost:8080/"
        },
        "outputId": "6f4fb19e-b24f-446b-ce62-1c628b938864",
        "id": "TS6JqCGTupT8"
      },
      "execution_count": null,
      "outputs": [
        {
          "metadata": {
            "tags": null
          },
          "name": "stderr",
          "output_type": "stream",
          "text": [
            "100%|██████████| 8750/8750 [54:24<00:00,  2.68it/s]\n"
          ]
        },
        {
          "metadata": {
            "tags": null
          },
          "name": "stdout",
          "output_type": "stream",
          "text": [
            "Epochs: 8 | Train Loss:  0.173                 | Train Accuracy:  0.500                 | Val Loss:  0.173                 | Val Accuracy:  0.500\n"
          ]
        },
        {
          "metadata": {
            "tags": null
          },
          "name": "stderr",
          "output_type": "stream",
          "text": [
            "100%|██████████| 8750/8750 [54:23<00:00,  2.68it/s]\n"
          ]
        },
        {
          "metadata": {
            "tags": null
          },
          "name": "stdout",
          "output_type": "stream",
          "text": [
            "Epochs: 9 | Train Loss:  0.173                 | Train Accuracy:  0.500                 | Val Loss:  0.173                 | Val Accuracy:  0.500\n"
          ]
        },
        {
          "output_type": "stream",
          "name": "stderr",
          "text": [
            "100%|██████████| 8750/8750 [54:24<00:00,  2.68it/s]\n"
          ]
        },
        {
          "output_type": "stream",
          "name": "stdout",
          "text": [
            "Epochs: 10 | Train Loss:  0.173                 | Train Accuracy:  0.500                 | Val Loss:  0.173                 | Val Accuracy:  0.500\n"
          ]
        }
      ]
    },
    {
      "cell_type": "code",
      "source": [
        "train_acc=[0.500,0.500,0.500,0.500,0.500,0.500,0.500,0.500,0.500,0.500]\n",
        "val_acc=[0.500,0.500,0.50,0.500,0.500,0.500,0.500,0.500,0.500,0.500]"
      ],
      "metadata": {
        "id": "prm4GH6yvELI"
      },
      "execution_count": null,
      "outputs": []
    },
    {
      "cell_type": "code",
      "source": [
        "plt.plot(range(1,11), val_acc, label='Validation Accuracy')\n",
        "plt.plot(range(1,11), train_acc, label='Training Accuracy')\n",
        "plt.legend()\n",
        "plt.xlabel('Epochs')\n",
        "plt.ylabel('Validation Accuracy and Training Accuracy')\n",
        "plt.title('Accuracy vs Epochs')\n",
        "plt.show()"
      ],
      "metadata": {
        "colab": {
          "base_uri": "https://localhost:8080/",
          "height": 295
        },
        "outputId": "0bc7c20d-9f72-40f0-ce50-e313190da80c",
        "id": "J_2qw3tDvXeF"
      },
      "execution_count": null,
      "outputs": [
        {
          "output_type": "display_data",
          "data": {
            "text/plain": [
              "<Figure size 432x288 with 1 Axes>"
            ],
            "image/png": "[encoded data removed]"
          },
          "metadata": {
            "needs_background": "light"
          }
        }
      ]
    },
    {
      "cell_type": "markdown",
      "source": [
        "# Best from all lr"
      ],
      "metadata": {
        "id": "rZXakJ6jVEo9"
      }
    },
    {
      "cell_type": "code",
      "source": [
        "# for 5e-6\n",
        "val_acc_5e6=[0.868,0.907,0.893,0.904,0.898,0.908,0.907,0.901,0.904,0.904]\n",
        "# for 1e-5\n",
        "val_acc_1e5=[0.889800,0.908000,0.903,0.908000,0.902,0.906,0.888,0.898,0.906,0.904]\n",
        "# for 5e-5\n",
        "val_acc_5e5=[0.501400,0.500,0.500,0.500,0.500,0.500,0.500,0.500,0.500,0.500]\n",
        "# for 1e-6\n",
        "val_acc_1e6=[0.909,0.909,0.910,0.908,0.909,0.911,0.911,0.911,0.911,0.908,0.909,0.909,0.910,0.908]\n",
        "# for 5e-4\n",
        "val_acc_5e4=[0.500,0.500,0.500,0.500,0.500,0.500,0.500,0.500,0.500,0.500]\n",
        "# for 1e-4\n",
        "val_acc_1e4=[0.500,0.500,0.500,0.500,0.500,0.500,0.500,0.500,0.500,0.500]\n",
        "\n",
        "#get max validation accuracy for each learning rate\n",
        "max_val_acc=[max(val_acc_5e6),max(val_acc_1e5),max(val_acc_5e5),max(val_acc_1e6),max(val_acc_5e4),max(val_acc_1e4)]"
      ],
      "metadata": {
        "id": "de7yUPBuRMDj"
      },
      "execution_count": null,
      "outputs": []
    },
    {
      "cell_type": "code",
      "source": [
        "# plot max validation accuracy for each learning rate\n",
        "lr=['5e-6','1e-5','5e-5','1e-6','5e-4','1e-4']\n",
        "plt.plot(lr, max_val_acc, label='Validation Accuracy')\n",
        "plt.xlabel('Learning Rate')\n",
        "plt.ylabel('Validation Accuracy')\n",
        "plt.title('Validation Accuracy vs Learning Rate')\n",
        "plt.show()"
      ],
      "metadata": {
        "colab": {
          "base_uri": "https://localhost:8080/",
          "height": 295
        },
        "id": "S4M9mrPlRVAN",
        "outputId": "08614cb9-1c18-4214-d108-ccfc326ed458"
      },
      "execution_count": null,
      "outputs": [
        {
          "output_type": "display_data",
          "data": {
            "text/plain": [
              "<Figure size 432x288 with 1 Axes>"
            ],
            "image/png": "[encoded data removed]"
          },
          "metadata": {
            "needs_background": "light"
          }
        }
      ]
    },
    {
      "cell_type": "markdown",
      "source": [
        "# Bonus"
      ],
      "metadata": {
        "id": "JhsKvJV_iCyM"
      }
    },
    {
      "cell_type": "markdown",
      "source": [
        "## 768,64,128,256,128,64,2"
      ],
      "metadata": {
        "id": "Lr4DsJ3riE4B"
      }
    },
    {
      "cell_type": "code",
      "execution_count": null,
      "metadata": {
        "id": "dNigJziytTVa"
      },
      "outputs": [],
      "source": [
        "from torch.nn.modules import linear\n",
        "from torch import nn\n",
        "from transformers import BertModel\n",
        "\n",
        "class BertClassifier(nn.Module):\n",
        "\n",
        "    def __init__(self, dropout=0.5):\n",
        "\n",
        "        super(BertClassifier, self).__init__()\n",
        "\n",
        "        self.bert = BertModel.from_pretrained('bert-base-cased')\n",
        "        self.dropout_1 = nn.Dropout(dropout)\n",
        "        self.linear_1 = nn.Linear(768,64)\n",
        "        self.dropout_2 = nn.Dropout(dropout)\n",
        "        self.linear_2 = nn.Linear(64, 128)\n",
        "        self.dropout_3 = nn.Dropout(dropout)\n",
        "        self.linear_3 = nn.Linear(128, 256)\n",
        "        self.dropout_4 = nn.Dropout(dropout)\n",
        "        self.linear_4= nn.Linear(256, 128)\n",
        "        self.dropout_5 = nn.Dropout(dropout)\n",
        "        self.linear_5= nn.Linear(128, 64)\n",
        "        self.dropout_6 = nn.Dropout(dropout)\n",
        "        self.linear_6= nn.Linear(64, 2)\n",
        "        self.relu = nn.ReLU()\n",
        "\n",
        "    def forward(self, input_id, mask):\n",
        "\n",
        "        _, pooled_output = self.bert(input_ids= input_id, attention_mask=mask,return_dict=False)\n",
        "        dropout_output = self.dropout_1(pooled_output)\n",
        "        linear_output_1 = self.linear_1(dropout_output)\n",
        "        dropout_output_1 = self.dropout_2(linear_output_1)\n",
        "        linear_output_2 = self.linear_2(dropout_output_1)\n",
        "        dropout_output_2 = self.dropout_3(linear_output_2)\n",
        "        linear_output_3 = self.linear_3(dropout_output_2)\n",
        "        dropout_output_3 = self.dropout_4(linear_output_3)\n",
        "        linear_output_4 = self.linear_4(dropout_output_3)\n",
        "        dropout_output_4 = self.dropout_5(linear_output_4)\n",
        "        linear_output_5 = self.linear_5(dropout_output_4)\n",
        "        dropout_output_5 = self.dropout_6(linear_output_5)\n",
        "        linear_output_6 = self.linear_6(dropout_output_5)\n",
        "        final_layer = self.relu(linear_output_6)\n",
        "        return final_layer"
      ]
    },
    {
      "cell_type": "markdown",
      "source": [
        "### 1e-6"
      ],
      "metadata": {
        "id": "_n1lWtOYi6wa"
      }
    },
    {
      "cell_type": "code",
      "source": [
        "model = BertClassifier()\n",
        "LR = 1e-6\n",
        "optimizer = Adam(model.parameters(), lr= LR)\n",
        "checkpoint_path = '/content/drive/MyDrive/bert/checkpointsaccbonus/check.pt'\n",
        "best_model = '/content/drive/MyDrive/bert/bestmodelaccbonus/model.pt'"
      ],
      "metadata": {
        "colab": {
          "base_uri": "https://localhost:8080/"
        },
        "outputId": "9ca2d48f-9c57-4b37-d82c-9e6fb263500b",
        "id": "H6svByoFjVkH"
      },
      "execution_count": null,
      "outputs": [
        {
          "output_type": "stream",
          "name": "stderr",
          "text": [
            "Some weights of the model checkpoint at bert-base-cased were not used when initializing BertModel: ['cls.predictions.transform.dense.weight', 'cls.predictions.bias', 'cls.predictions.transform.dense.bias', 'cls.predictions.transform.LayerNorm.weight', 'cls.seq_relationship.weight', 'cls.predictions.decoder.weight', 'cls.predictions.transform.LayerNorm.bias', 'cls.seq_relationship.bias']\n",
            "- This IS expected if you are initializing BertModel from the checkpoint of a model trained on another task or with another architecture (e.g. initializing a BertForSequenceClassification model from a BertForPreTraining model).\n",
            "- This IS NOT expected if you are initializing BertModel from the checkpoint of a model that you expect to be exactly identical (initializing a BertForSequenceClassification model from a BertForSequenceClassification model).\n"
          ]
        }
      ]
    },
    {
      "cell_type": "code",
      "source": [
        "train_accuracy(model, train_data, validation_data, LR, epochs,checkpoint_path, best_model, -np.inf)"
      ],
      "metadata": {
        "colab": {
          "base_uri": "https://localhost:8080/"
        },
        "outputId": "e4bc859c-3b32-457a-fed9-d6e2e5104cae",
        "id": "kdaDJ9twjXMP"
      },
      "execution_count": null,
      "outputs": [
        {
          "metadata": {
            "tags": null
          },
          "name": "stderr",
          "output_type": "stream",
          "text": [
            "100%|██████████| 8750/8750 [53:58<00:00,  2.70it/s]\n"
          ]
        },
        {
          "metadata": {
            "tags": null
          },
          "name": "stdout",
          "output_type": "stream",
          "text": [
            "Epochs: 1 | Train Loss:  0.121                 | Train Accuracy:  0.832                 | Val Loss:  0.093                 | Val Accuracy:  0.867\n",
            "Validation Accuracy increased (-inf --> 0.867000).  Saving model ...\n"
          ]
        },
        {
          "output_type": "stream",
          "name": "stderr",
          "text": [
            "100%|██████████| 8750/8750 [54:03<00:00,  2.70it/s]\n"
          ]
        },
        {
          "output_type": "stream",
          "name": "stdout",
          "text": [
            "Epochs: 2 | Train Loss:  0.077                 | Train Accuracy:  0.895                 | Val Loss:  0.078                 | Val Accuracy:  0.881\n",
            "Validation Accuracy increased (0.867000 --> 0.880800).  Saving model ...\n"
          ]
        },
        {
          "output_type": "stream",
          "name": "stderr",
          "text": [
            " 61%|██████    | 5339/8750 [32:59<21:10,  2.69it/s]"
          ]
        }
      ]
    },
    {
      "cell_type": "code",
      "source": [
        "# reload ckp and start training from the last epoch\n",
        "model = BertClassifier()\n",
        "optimizer = Adam(model.parameters(), lr= LR)\n",
        "_,_, _, valid_accuracy_max,_ = load_model_accuracy(best_model, model, optimizer)\n",
        "model = BertClassifier()\n",
        "optimizer = Adam(model.parameters(), lr= LR)\n",
        "model, optimizer, start_epoch,_, LR = load_ckp_accuracy(checkpoint_path, model, optimizer)\n",
        "EPOCHS = range(start_epoch+1,11)\n",
        "print(EPOCHS)"
      ],
      "metadata": {
        "colab": {
          "base_uri": "https://localhost:8080/"
        },
        "id": "kNg4vwMnmTlx",
        "outputId": "9025fc74-bd5c-41be-9d02-71ff52031ac8"
      },
      "execution_count": null,
      "outputs": [
        {
          "output_type": "stream",
          "name": "stderr",
          "text": [
            "Some weights of the model checkpoint at bert-base-cased were not used when initializing BertModel: ['cls.seq_relationship.bias', 'cls.predictions.decoder.weight', 'cls.predictions.transform.dense.weight', 'cls.predictions.transform.LayerNorm.weight', 'cls.predictions.transform.dense.bias', 'cls.predictions.transform.LayerNorm.bias', 'cls.seq_relationship.weight', 'cls.predictions.bias']\n",
            "- This IS expected if you are initializing BertModel from the checkpoint of a model trained on another task or with another architecture (e.g. initializing a BertForSequenceClassification model from a BertForPreTraining model).\n",
            "- This IS NOT expected if you are initializing BertModel from the checkpoint of a model that you expect to be exactly identical (initializing a BertForSequenceClassification model from a BertForSequenceClassification model).\n",
            "Some weights of the model checkpoint at bert-base-cased were not used when initializing BertModel: ['cls.seq_relationship.bias', 'cls.predictions.decoder.weight', 'cls.predictions.transform.dense.weight', 'cls.predictions.transform.LayerNorm.weight', 'cls.predictions.transform.dense.bias', 'cls.predictions.transform.LayerNorm.bias', 'cls.seq_relationship.weight', 'cls.predictions.bias']\n",
            "- This IS expected if you are initializing BertModel from the checkpoint of a model trained on another task or with another architecture (e.g. initializing a BertForSequenceClassification model from a BertForPreTraining model).\n",
            "- This IS NOT expected if you are initializing BertModel from the checkpoint of a model that you expect to be exactly identical (initializing a BertForSequenceClassification model from a BertForSequenceClassification model).\n"
          ]
        },
        {
          "output_type": "stream",
          "name": "stdout",
          "text": [
            "range(3, 11)\n"
          ]
        }
      ]
    },
    {
      "cell_type": "code",
      "source": [
        "train_accuracy(model, train_data, validation_data, LR, EPOCHS,checkpoint_path, best_model, valid_accuracy_max)"
      ],
      "metadata": {
        "colab": {
          "base_uri": "https://localhost:8080/"
        },
        "id": "-4KRsEpNmVYI",
        "outputId": "4b5d4fc0-eeba-4938-e1ca-d27508fed80f"
      },
      "execution_count": null,
      "outputs": [
        {
          "output_type": "stream",
          "name": "stderr",
          "text": [
            "100%|██████████| 8750/8750 [56:57<00:00,  2.56it/s]\n"
          ]
        },
        {
          "output_type": "stream",
          "name": "stdout",
          "text": [
            "Epochs: 3 | Train Loss:  0.060                 | Train Accuracy:  0.922                 | Val Loss:  0.075                 | Val Accuracy:  0.880\n"
          ]
        },
        {
          "output_type": "stream",
          "name": "stderr",
          "text": [
            "  6%|▋         | 557/8750 [03:37<52:59,  2.58it/s]"
          ]
        }
      ]
    },
    {
      "cell_type": "code",
      "source": [
        "# reload ckp and start training from the last epoch\n",
        "model = BertClassifier()\n",
        "optimizer = Adam(model.parameters(), lr= LR)\n",
        "_,_, _, valid_accuracy_max,_ = load_model_accuracy(best_model, model, optimizer)\n",
        "model = BertClassifier()\n",
        "optimizer = Adam(model.parameters(), lr= LR)\n",
        "model, optimizer, start_epoch,_, LR = load_ckp_accuracy(checkpoint_path, model, optimizer)\n",
        "EPOCHS = range(start_epoch+1,11)\n",
        "print(EPOCHS)"
      ],
      "metadata": {
        "id": "IfQd6_lnvijF",
        "colab": {
          "base_uri": "https://localhost:8080/"
        },
        "outputId": "2f76bc2c-4b5b-4396-b263-45b852952309"
      },
      "execution_count": null,
      "outputs": [
        {
          "output_type": "stream",
          "name": "stderr",
          "text": [
            "Some weights of the model checkpoint at bert-base-cased were not used when initializing BertModel: ['cls.predictions.transform.LayerNorm.weight', 'cls.predictions.decoder.weight', 'cls.predictions.transform.LayerNorm.bias', 'cls.seq_relationship.bias', 'cls.predictions.transform.dense.weight', 'cls.seq_relationship.weight', 'cls.predictions.transform.dense.bias', 'cls.predictions.bias']\n",
            "- This IS expected if you are initializing BertModel from the checkpoint of a model trained on another task or with another architecture (e.g. initializing a BertForSequenceClassification model from a BertForPreTraining model).\n",
            "- This IS NOT expected if you are initializing BertModel from the checkpoint of a model that you expect to be exactly identical (initializing a BertForSequenceClassification model from a BertForSequenceClassification model).\n",
            "Some weights of the model checkpoint at bert-base-cased were not used when initializing BertModel: ['cls.predictions.transform.LayerNorm.weight', 'cls.predictions.decoder.weight', 'cls.predictions.transform.LayerNorm.bias', 'cls.seq_relationship.bias', 'cls.predictions.transform.dense.weight', 'cls.seq_relationship.weight', 'cls.predictions.transform.dense.bias', 'cls.predictions.bias']\n",
            "- This IS expected if you are initializing BertModel from the checkpoint of a model trained on another task or with another architecture (e.g. initializing a BertForSequenceClassification model from a BertForPreTraining model).\n",
            "- This IS NOT expected if you are initializing BertModel from the checkpoint of a model that you expect to be exactly identical (initializing a BertForSequenceClassification model from a BertForSequenceClassification model).\n"
          ]
        },
        {
          "output_type": "stream",
          "name": "stdout",
          "text": [
            "range(4, 11)\n"
          ]
        }
      ]
    },
    {
      "cell_type": "code",
      "source": [
        "train_accuracy(model, train_data, validation_data, LR, EPOCHS,checkpoint_path, best_model, valid_accuracy_max)"
      ],
      "metadata": {
        "id": "4JgoufJGvkmL",
        "colab": {
          "base_uri": "https://localhost:8080/"
        },
        "outputId": "83a54368-e74e-42c4-cb2e-05b2b85a3ba4"
      },
      "execution_count": null,
      "outputs": [
        {
          "metadata": {
            "tags": null
          },
          "name": "stderr",
          "output_type": "stream",
          "text": [
            "100%|██████████| 8750/8750 [57:49<00:00,  2.52it/s]\n"
          ]
        },
        {
          "metadata": {
            "tags": null
          },
          "name": "stdout",
          "output_type": "stream",
          "text": [
            "Epochs: 4 | Train Loss:  0.045                 | Train Accuracy:  0.946                 | Val Loss:  0.076                 | Val Accuracy:  0.893\n",
            "Validation Accuracy increased (0.880800 --> 0.893200).  Saving model ...\n"
          ]
        },
        {
          "output_type": "stream",
          "name": "stderr",
          "text": [
            "100%|██████████| 8750/8750 [57:42<00:00,  2.53it/s]\n"
          ]
        },
        {
          "output_type": "stream",
          "name": "stdout",
          "text": [
            "Epochs: 5 | Train Loss:  0.032                 | Train Accuracy:  0.968                 | Val Loss:  0.083                 | Val Accuracy:  0.893\n"
          ]
        },
        {
          "output_type": "stream",
          "name": "stderr",
          "text": [
            "100%|██████████| 8750/8750 [57:43<00:00,  2.53it/s]\n"
          ]
        },
        {
          "output_type": "stream",
          "name": "stdout",
          "text": [
            "Epochs: 6 | Train Loss:  0.022                 | Train Accuracy:  0.981                 | Val Loss:  0.104                 | Val Accuracy:  0.896\n",
            "Validation Accuracy increased (0.893200 --> 0.896000).  Saving model ...\n"
          ]
        },
        {
          "output_type": "stream",
          "name": "stderr",
          "text": [
            " 68%|██████▊   | 5926/8750 [39:06<18:34,  2.53it/s]"
          ]
        }
      ]
    },
    {
      "cell_type": "code",
      "source": [
        "# reload ckp and start training from the last epoch\n",
        "model = BertClassifier()\n",
        "optimizer = Adam(model.parameters(), lr= LR)\n",
        "_,_, _, valid_accuracy_max,_ = load_model_accuracy(best_model, model, optimizer)\n",
        "model = BertClassifier()\n",
        "optimizer = Adam(model.parameters(), lr= LR)\n",
        "model, optimizer, start_epoch,_, LR = load_ckp_accuracy(checkpoint_path, model, optimizer)\n",
        "EPOCHS = range(start_epoch+1,11)\n",
        "print(EPOCHS)"
      ],
      "metadata": {
        "colab": {
          "base_uri": "https://localhost:8080/"
        },
        "id": "h8onj1eHSt7q",
        "outputId": "450b8750-d9ca-498b-d022-4ab2573923e2"
      },
      "execution_count": null,
      "outputs": [
        {
          "output_type": "stream",
          "name": "stderr",
          "text": [
            "Some weights of the model checkpoint at bert-base-cased were not used when initializing BertModel: ['cls.seq_relationship.bias', 'cls.seq_relationship.weight', 'cls.predictions.decoder.weight', 'cls.predictions.transform.LayerNorm.bias', 'cls.predictions.bias', 'cls.predictions.transform.dense.weight', 'cls.predictions.transform.LayerNorm.weight', 'cls.predictions.transform.dense.bias']\n",
            "- This IS expected if you are initializing BertModel from the checkpoint of a model trained on another task or with another architecture (e.g. initializing a BertForSequenceClassification model from a BertForPreTraining model).\n",
            "- This IS NOT expected if you are initializing BertModel from the checkpoint of a model that you expect to be exactly identical (initializing a BertForSequenceClassification model from a BertForSequenceClassification model).\n",
            "Some weights of the model checkpoint at bert-base-cased were not used when initializing BertModel: ['cls.seq_relationship.bias', 'cls.seq_relationship.weight', 'cls.predictions.decoder.weight', 'cls.predictions.transform.LayerNorm.bias', 'cls.predictions.bias', 'cls.predictions.transform.dense.weight', 'cls.predictions.transform.LayerNorm.weight', 'cls.predictions.transform.dense.bias']\n",
            "- This IS expected if you are initializing BertModel from the checkpoint of a model trained on another task or with another architecture (e.g. initializing a BertForSequenceClassification model from a BertForPreTraining model).\n",
            "- This IS NOT expected if you are initializing BertModel from the checkpoint of a model that you expect to be exactly identical (initializing a BertForSequenceClassification model from a BertForSequenceClassification model).\n"
          ]
        },
        {
          "output_type": "stream",
          "name": "stdout",
          "text": [
            "range(7, 11)\n"
          ]
        }
      ]
    },
    {
      "cell_type": "code",
      "source": [
        "train_accuracy(model, train_data, validation_data, LR, EPOCHS,checkpoint_path, best_model, valid_accuracy_max)"
      ],
      "metadata": {
        "colab": {
          "base_uri": "https://localhost:8080/"
        },
        "id": "GSczye3QSv8W",
        "outputId": "2d31f5b9-65d5-46c9-84b9-3a8cf17db7d6"
      },
      "execution_count": null,
      "outputs": [
        {
          "output_type": "stream",
          "name": "stderr",
          "text": [
            "100%|██████████| 8750/8750 [54:31<00:00,  2.67it/s]\n"
          ]
        },
        {
          "output_type": "stream",
          "name": "stdout",
          "text": [
            "Epochs: 7 | Train Loss:  0.015                 | Train Accuracy:  0.989                 | Val Loss:  0.119                 | Val Accuracy:  0.895\n"
          ]
        },
        {
          "output_type": "stream",
          "name": "stderr",
          "text": [
            "100%|██████████| 8750/8750 [54:31<00:00,  2.67it/s]\n"
          ]
        },
        {
          "output_type": "stream",
          "name": "stdout",
          "text": [
            "Epochs: 8 | Train Loss:  0.011                 | Train Accuracy:  0.993                 | Val Loss:  0.140                 | Val Accuracy:  0.894\n"
          ]
        },
        {
          "output_type": "stream",
          "name": "stderr",
          "text": [
            " 45%|████▍     | 3919/8750 [24:23<30:05,  2.68it/s]"
          ]
        }
      ]
    },
    {
      "cell_type": "code",
      "source": [
        "# reload ckp and start training from the last epoch\n",
        "model = BertClassifier()\n",
        "optimizer = Adam(model.parameters(), lr= LR)\n",
        "_,_, _, valid_accuracy_max,_ = load_model_accuracy(best_model, model, optimizer)\n",
        "model = BertClassifier()\n",
        "optimizer = Adam(model.parameters(), lr= LR)\n",
        "model, optimizer, start_epoch,_, LR = load_ckp_accuracy(checkpoint_path, model, optimizer)\n",
        "EPOCHS = range(start_epoch+1,11)\n",
        "print(EPOCHS)"
      ],
      "metadata": {
        "colab": {
          "base_uri": "https://localhost:8080/"
        },
        "id": "pOpQpuWbC0in",
        "outputId": "979aa525-426f-485a-c024-69b7ff38dfde"
      },
      "execution_count": null,
      "outputs": [
        {
          "output_type": "stream",
          "name": "stderr",
          "text": [
            "Some weights of the model checkpoint at bert-base-cased were not used when initializing BertModel: ['cls.predictions.transform.dense.weight', 'cls.predictions.bias', 'cls.predictions.transform.dense.bias', 'cls.predictions.transform.LayerNorm.weight', 'cls.seq_relationship.weight', 'cls.predictions.decoder.weight', 'cls.predictions.transform.LayerNorm.bias', 'cls.seq_relationship.bias']\n",
            "- This IS expected if you are initializing BertModel from the checkpoint of a model trained on another task or with another architecture (e.g. initializing a BertForSequenceClassification model from a BertForPreTraining model).\n",
            "- This IS NOT expected if you are initializing BertModel from the checkpoint of a model that you expect to be exactly identical (initializing a BertForSequenceClassification model from a BertForSequenceClassification model).\n",
            "Some weights of the model checkpoint at bert-base-cased were not used when initializing BertModel: ['cls.predictions.transform.dense.weight', 'cls.predictions.bias', 'cls.predictions.transform.dense.bias', 'cls.predictions.transform.LayerNorm.weight', 'cls.seq_relationship.weight', 'cls.predictions.decoder.weight', 'cls.predictions.transform.LayerNorm.bias', 'cls.seq_relationship.bias']\n",
            "- This IS expected if you are initializing BertModel from the checkpoint of a model trained on another task or with another architecture (e.g. initializing a BertForSequenceClassification model from a BertForPreTraining model).\n",
            "- This IS NOT expected if you are initializing BertModel from the checkpoint of a model that you expect to be exactly identical (initializing a BertForSequenceClassification model from a BertForSequenceClassification model).\n"
          ]
        },
        {
          "output_type": "stream",
          "name": "stdout",
          "text": [
            "range(9, 11)\n"
          ]
        }
      ]
    },
    {
      "cell_type": "code",
      "source": [
        "train_accuracy(model, train_data, validation_data, LR, EPOCHS,checkpoint_path, best_model, valid_accuracy_max)"
      ],
      "metadata": {
        "colab": {
          "base_uri": "https://localhost:8080/"
        },
        "id": "naToIyUJC2Nk",
        "outputId": "aad9dc90-03fc-4558-e083-8294aa74d457"
      },
      "execution_count": null,
      "outputs": [
        {
          "output_type": "stream",
          "name": "stderr",
          "text": [
            "100%|██████████| 8750/8750 [56:10<00:00,  2.60it/s]\n"
          ]
        },
        {
          "output_type": "stream",
          "name": "stdout",
          "text": [
            "Epochs: 9 | Train Loss:  0.008                 | Train Accuracy:  0.994                 | Val Loss:  0.156                 | Val Accuracy:  0.894\n"
          ]
        },
        {
          "output_type": "stream",
          "name": "stderr",
          "text": [
            "100%|██████████| 8750/8750 [56:06<00:00,  2.60it/s]\n"
          ]
        },
        {
          "output_type": "stream",
          "name": "stdout",
          "text": [
            "Epochs: 10 | Train Loss:  0.006                 | Train Accuracy:  0.996                 | Val Loss:  0.185                 | Val Accuracy:  0.895\n"
          ]
        }
      ]
    },
    {
      "cell_type": "code",
      "source": [
        "val_acc=[0.867000,0.880800,0.880,0.893200,0.893,0.896000,0.895,0.894,0.894, 0.8946] \n",
        "train_acc=[0.832, 0.895,0.922,0.946, 0.968,0.981,0.989,0.993,0.944,0.996]"
      ],
      "metadata": {
        "id": "AskTVnKJZbVC"
      },
      "execution_count": null,
      "outputs": []
    },
    {
      "cell_type": "code",
      "source": [
        "plt.plot(range(1,11), val_acc, label='Validation Accuracy')\n",
        "plt.plot(range(1,11), train_acc, label='Training Accuracy')\n",
        "plt.legend()\n",
        "plt.xlabel('Epochs')\n",
        "plt.ylabel('Validation Accuracy and Training Accuracy')\n",
        "plt.title('Accuracy vs Epochs')\n",
        "plt.show()"
      ],
      "metadata": {
        "colab": {
          "base_uri": "https://localhost:8080/",
          "height": 295
        },
        "id": "A7uhif_RZb1C",
        "outputId": "fdf509ad-b35b-4af5-c6b6-d9afafed0fcc"
      },
      "execution_count": null,
      "outputs": [
        {
          "output_type": "display_data",
          "data": {
            "text/plain": [
              "<Figure size 432x288 with 1 Axes>"
            ],
            "image/png": "[encoded data removed]"
          },
          "metadata": {
            "needs_background": "light"
          }
        }
      ]
    },
    {
      "cell_type": "markdown",
      "source": [
        "### 5e-6"
      ],
      "metadata": {
        "id": "x9PfV5KBitEC"
      }
    },
    {
      "cell_type": "code",
      "source": [
        "model = BertClassifier()\n",
        "LR = 5e-6\n",
        "optimizer = Adam(model.parameters(), lr= LR)\n",
        "checkpoint_path = '/content/drive/MyDrive/bert/checkpointsaccbonus/check.pt'\n",
        "best_model = '/content/drive/MyDrive/bert/bestmodelaccbonus/model.pt'"
      ],
      "metadata": {
        "colab": {
          "base_uri": "https://localhost:8080/"
        },
        "id": "MlTm_rC3tssE",
        "outputId": "fef0cfed-fe11-4046-aaf9-cbad7198cff9"
      },
      "execution_count": null,
      "outputs": [
        {
          "output_type": "stream",
          "name": "stderr",
          "text": [
            "Some weights of the model checkpoint at bert-base-cased were not used when initializing BertModel: ['cls.seq_relationship.weight', 'cls.predictions.transform.LayerNorm.weight', 'cls.predictions.transform.dense.weight', 'cls.predictions.transform.LayerNorm.bias', 'cls.predictions.decoder.weight', 'cls.seq_relationship.bias', 'cls.predictions.bias', 'cls.predictions.transform.dense.bias']\n",
            "- This IS expected if you are initializing BertModel from the checkpoint of a model trained on another task or with another architecture (e.g. initializing a BertForSequenceClassification model from a BertForPreTraining model).\n",
            "- This IS NOT expected if you are initializing BertModel from the checkpoint of a model that you expect to be exactly identical (initializing a BertForSequenceClassification model from a BertForSequenceClassification model).\n"
          ]
        }
      ]
    },
    {
      "cell_type": "code",
      "source": [
        "train_accuracy(model, train_data, validation_data, LR, epochs,checkpoint_path, best_model, -np.inf)"
      ],
      "metadata": {
        "colab": {
          "base_uri": "https://localhost:8080/"
        },
        "id": "BHgHqexovHiy",
        "outputId": "d1a2edb0-c031-416a-8397-e862725a3d84"
      },
      "execution_count": null,
      "outputs": [
        {
          "output_type": "stream",
          "name": "stderr",
          "text": [
            "100%|██████████| 8750/8750 [53:23<00:00,  2.73it/s]\n"
          ]
        },
        {
          "output_type": "stream",
          "name": "stdout",
          "text": [
            "Epochs: 1 | Train Loss:  0.065                 | Train Accuracy:  0.907                 | Val Loss:  0.065                 | Val Accuracy:  0.901\n",
            "Validation Accuracy increased (-inf --> 0.901200).  Saving model ...\n"
          ]
        },
        {
          "output_type": "stream",
          "name": "stderr",
          "text": [
            "100%|██████████| 8750/8750 [53:23<00:00,  2.73it/s]\n"
          ]
        },
        {
          "output_type": "stream",
          "name": "stdout",
          "text": [
            "Epochs: 2 | Train Loss:  0.035                 | Train Accuracy:  0.958                 | Val Loss:  0.078                 | Val Accuracy:  0.901\n",
            "Validation Accuracy increased (0.901200 --> 0.901200).  Saving model ...\n"
          ]
        },
        {
          "output_type": "stream",
          "name": "stderr",
          "text": [
            "100%|██████████| 8750/8750 [53:22<00:00,  2.73it/s]\n"
          ]
        },
        {
          "output_type": "stream",
          "name": "stdout",
          "text": [
            "Epochs: 3 | Train Loss:  0.014                 | Train Accuracy:  0.985                 | Val Loss:  0.104                 | Val Accuracy:  0.889\n"
          ]
        },
        {
          "output_type": "stream",
          "name": "stderr",
          "text": [
            " 38%|███▊      | 3306/8750 [20:08<33:09,  2.74it/s]"
          ]
        }
      ]
    },
    {
      "cell_type": "code",
      "source": [
        "# reload ckp and start training from the last epoch\n",
        "model = BertClassifier()\n",
        "optimizer = Adam(model.parameters(), lr= LR)\n",
        "_,_, _, valid_accuracy_max,_ = load_model_accuracy(best_model, model, optimizer)\n",
        "model = BertClassifier()\n",
        "optimizer = Adam(model.parameters(), lr= LR)\n",
        "model, optimizer, start_epoch,_, LR = load_ckp_accuracy(checkpoint_path, model, optimizer)\n",
        "EPOCHS = range(start_epoch+1,11)\n",
        "print(EPOCHS)"
      ],
      "metadata": {
        "id": "nK4_rz6IvVxn",
        "colab": {
          "base_uri": "https://localhost:8080/"
        },
        "outputId": "f417cb46-6498-49c2-cb85-1695d2435ee5"
      },
      "execution_count": null,
      "outputs": [
        {
          "output_type": "stream",
          "name": "stderr",
          "text": [
            "Some weights of the model checkpoint at bert-base-cased were not used when initializing BertModel: ['cls.seq_relationship.weight', 'cls.predictions.transform.dense.weight', 'cls.predictions.decoder.weight', 'cls.seq_relationship.bias', 'cls.predictions.transform.LayerNorm.bias', 'cls.predictions.transform.LayerNorm.weight', 'cls.predictions.bias', 'cls.predictions.transform.dense.bias']\n",
            "- This IS expected if you are initializing BertModel from the checkpoint of a model trained on another task or with another architecture (e.g. initializing a BertForSequenceClassification model from a BertForPreTraining model).\n",
            "- This IS NOT expected if you are initializing BertModel from the checkpoint of a model that you expect to be exactly identical (initializing a BertForSequenceClassification model from a BertForSequenceClassification model).\n",
            "Some weights of the model checkpoint at bert-base-cased were not used when initializing BertModel: ['cls.seq_relationship.weight', 'cls.predictions.transform.dense.weight', 'cls.predictions.decoder.weight', 'cls.seq_relationship.bias', 'cls.predictions.transform.LayerNorm.bias', 'cls.predictions.transform.LayerNorm.weight', 'cls.predictions.bias', 'cls.predictions.transform.dense.bias']\n",
            "- This IS expected if you are initializing BertModel from the checkpoint of a model trained on another task or with another architecture (e.g. initializing a BertForSequenceClassification model from a BertForPreTraining model).\n",
            "- This IS NOT expected if you are initializing BertModel from the checkpoint of a model that you expect to be exactly identical (initializing a BertForSequenceClassification model from a BertForSequenceClassification model).\n"
          ]
        },
        {
          "output_type": "stream",
          "name": "stdout",
          "text": [
            "range(4, 11)\n"
          ]
        }
      ]
    },
    {
      "cell_type": "code",
      "source": [
        "train_accuracy(model, train_data, validation_data, LR, EPOCHS,checkpoint_path, best_model, valid_accuracy_max)"
      ],
      "metadata": {
        "id": "H0et7mnzvXq4",
        "colab": {
          "base_uri": "https://localhost:8080/"
        },
        "outputId": "e77b0df5-3405-4ac1-f1f8-4eb1d9f3638a"
      },
      "execution_count": null,
      "outputs": [
        {
          "metadata": {
            "tags": null
          },
          "name": "stderr",
          "output_type": "stream",
          "text": [
            "100%|██████████| 8750/8750 [57:39<00:00,  2.53it/s]\n"
          ]
        },
        {
          "metadata": {
            "tags": null
          },
          "name": "stdout",
          "output_type": "stream",
          "text": [
            "Epochs: 4 | Train Loss:  0.008                 | Train Accuracy:  0.992                 | Val Loss:  0.172                 | Val Accuracy:  0.873\n"
          ]
        },
        {
          "metadata": {
            "tags": null
          },
          "name": "stderr",
          "output_type": "stream",
          "text": [
            "100%|██████████| 8750/8750 [57:35<00:00,  2.53it/s]\n"
          ]
        },
        {
          "metadata": {
            "tags": null
          },
          "name": "stdout",
          "output_type": "stream",
          "text": [
            "Epochs: 5 | Train Loss:  0.006                 | Train Accuracy:  0.995                 | Val Loss:  0.148                 | Val Accuracy:  0.904\n",
            "Validation Accuracy increased (0.901200 --> 0.903600).  Saving model ...\n"
          ]
        },
        {
          "output_type": "stream",
          "name": "stderr",
          "text": [
            "100%|██████████| 8750/8750 [57:31<00:00,  2.54it/s]\n"
          ]
        },
        {
          "output_type": "stream",
          "name": "stdout",
          "text": [
            "Epochs: 6 | Train Loss:  0.005                 | Train Accuracy:  0.995                 | Val Loss:  0.139                 | Val Accuracy:  0.906\n",
            "Validation Accuracy increased (0.903600 --> 0.905600).  Saving model ...\n"
          ]
        },
        {
          "output_type": "stream",
          "name": "stderr",
          "text": [
            " 72%|███████▏  | 6285/8750 [41:13<16:14,  2.53it/s]"
          ]
        }
      ]
    },
    {
      "cell_type": "code",
      "source": [
        "# reload ckp and start training from the last epoch\n",
        "model = BertClassifier()\n",
        "optimizer = Adam(model.parameters(), lr= LR)\n",
        "_,_, _, valid_accuracy_max,_ = load_model_accuracy(best_model, model, optimizer)\n",
        "model = BertClassifier()\n",
        "optimizer = Adam(model.parameters(), lr= LR)\n",
        "model, optimizer, start_epoch,_, LR = load_ckp_accuracy(checkpoint_path, model, optimizer)\n",
        "EPOCHS = range(start_epoch+1,11)\n",
        "print(EPOCHS)"
      ],
      "metadata": {
        "colab": {
          "base_uri": "https://localhost:8080/"
        },
        "id": "e3lf49_gFEJD",
        "outputId": "c4a1cd35-53c3-47f0-8fd0-ee9d543d0d11"
      },
      "execution_count": null,
      "outputs": [
        {
          "output_type": "stream",
          "name": "stderr",
          "text": [
            "Some weights of the model checkpoint at bert-base-cased were not used when initializing BertModel: ['cls.predictions.bias', 'cls.seq_relationship.bias', 'cls.predictions.transform.LayerNorm.weight', 'cls.seq_relationship.weight', 'cls.predictions.decoder.weight', 'cls.predictions.transform.dense.weight', 'cls.predictions.transform.LayerNorm.bias', 'cls.predictions.transform.dense.bias']\n",
            "- This IS expected if you are initializing BertModel from the checkpoint of a model trained on another task or with another architecture (e.g. initializing a BertForSequenceClassification model from a BertForPreTraining model).\n",
            "- This IS NOT expected if you are initializing BertModel from the checkpoint of a model that you expect to be exactly identical (initializing a BertForSequenceClassification model from a BertForSequenceClassification model).\n",
            "Some weights of the model checkpoint at bert-base-cased were not used when initializing BertModel: ['cls.predictions.bias', 'cls.seq_relationship.bias', 'cls.predictions.transform.LayerNorm.weight', 'cls.seq_relationship.weight', 'cls.predictions.decoder.weight', 'cls.predictions.transform.dense.weight', 'cls.predictions.transform.LayerNorm.bias', 'cls.predictions.transform.dense.bias']\n",
            "- This IS expected if you are initializing BertModel from the checkpoint of a model trained on another task or with another architecture (e.g. initializing a BertForSequenceClassification model from a BertForPreTraining model).\n",
            "- This IS NOT expected if you are initializing BertModel from the checkpoint of a model that you expect to be exactly identical (initializing a BertForSequenceClassification model from a BertForSequenceClassification model).\n"
          ]
        },
        {
          "output_type": "stream",
          "name": "stdout",
          "text": [
            "range(7, 11)\n"
          ]
        }
      ]
    },
    {
      "cell_type": "code",
      "source": [
        "train_accuracy(model, train_data, validation_data, LR, EPOCHS,checkpoint_path, best_model, valid_accuracy_max)"
      ],
      "metadata": {
        "colab": {
          "base_uri": "https://localhost:8080/"
        },
        "id": "2zeqpah8FG5L",
        "outputId": "23df2ff0-0031-4f58-c623-d40f3842d8fa"
      },
      "execution_count": null,
      "outputs": [
        {
          "output_type": "stream",
          "name": "stderr",
          "text": [
            "100%|██████████| 8750/8750 [58:09<00:00,  2.51it/s]\n"
          ]
        },
        {
          "output_type": "stream",
          "name": "stdout",
          "text": [
            "Epochs: 7 | Train Loss:  0.004                 | Train Accuracy:  0.995                 | Val Loss:  0.178                 | Val Accuracy:  0.905\n"
          ]
        },
        {
          "output_type": "stream",
          "name": "stderr",
          "text": [
            "100%|██████████| 8750/8750 [57:58<00:00,  2.52it/s]\n"
          ]
        },
        {
          "output_type": "stream",
          "name": "stdout",
          "text": [
            "Epochs: 8 | Train Loss:  0.003                 | Train Accuracy:  0.997                 | Val Loss:  0.190                 | Val Accuracy:  0.906\n",
            "Validation Accuracy increased (0.905600 --> 0.906400).  Saving model ...\n"
          ]
        },
        {
          "output_type": "stream",
          "name": "stderr",
          "text": [
            " 36%|███▌      | 3159/8750 [20:54<37:07,  2.51it/s]"
          ]
        }
      ]
    },
    {
      "cell_type": "code",
      "source": [
        "# reload ckp and start training from the last epoch\n",
        "model = BertClassifier()\n",
        "optimizer = Adam(model.parameters(), lr= LR)\n",
        "_,_, _, valid_accuracy_max,_ = load_model_accuracy(best_model, model, optimizer)\n",
        "model = BertClassifier()\n",
        "optimizer = Adam(model.parameters(), lr= LR)\n",
        "model, optimizer, start_epoch,_, LR = load_ckp_accuracy(checkpoint_path, model, optimizer)\n",
        "EPOCHS = range(start_epoch+1,11)\n",
        "print(EPOCHS)"
      ],
      "metadata": {
        "colab": {
          "base_uri": "https://localhost:8080/"
        },
        "id": "Hkzg1m77EFiS",
        "outputId": "a34691fd-08fe-46f7-befa-a577237f1be6"
      },
      "execution_count": null,
      "outputs": [
        {
          "output_type": "stream",
          "name": "stderr",
          "text": [
            "Some weights of the model checkpoint at bert-base-cased were not used when initializing BertModel: ['cls.seq_relationship.weight', 'cls.predictions.transform.LayerNorm.weight', 'cls.predictions.transform.dense.weight', 'cls.predictions.transform.LayerNorm.bias', 'cls.predictions.decoder.weight', 'cls.seq_relationship.bias', 'cls.predictions.bias', 'cls.predictions.transform.dense.bias']\n",
            "- This IS expected if you are initializing BertModel from the checkpoint of a model trained on another task or with another architecture (e.g. initializing a BertForSequenceClassification model from a BertForPreTraining model).\n",
            "- This IS NOT expected if you are initializing BertModel from the checkpoint of a model that you expect to be exactly identical (initializing a BertForSequenceClassification model from a BertForSequenceClassification model).\n",
            "Some weights of the model checkpoint at bert-base-cased were not used when initializing BertModel: ['cls.seq_relationship.weight', 'cls.predictions.transform.LayerNorm.weight', 'cls.predictions.transform.dense.weight', 'cls.predictions.transform.LayerNorm.bias', 'cls.predictions.decoder.weight', 'cls.seq_relationship.bias', 'cls.predictions.bias', 'cls.predictions.transform.dense.bias']\n",
            "- This IS expected if you are initializing BertModel from the checkpoint of a model trained on another task or with another architecture (e.g. initializing a BertForSequenceClassification model from a BertForPreTraining model).\n",
            "- This IS NOT expected if you are initializing BertModel from the checkpoint of a model that you expect to be exactly identical (initializing a BertForSequenceClassification model from a BertForSequenceClassification model).\n"
          ]
        },
        {
          "output_type": "stream",
          "name": "stdout",
          "text": [
            "range(9, 11)\n"
          ]
        }
      ]
    },
    {
      "cell_type": "code",
      "source": [
        "train_accuracy(model, train_data, validation_data, LR, EPOCHS,checkpoint_path, best_model, valid_accuracy_max)"
      ],
      "metadata": {
        "colab": {
          "base_uri": "https://localhost:8080/"
        },
        "id": "5VJih2LxEHJ-",
        "outputId": "1952101a-f608-4bfe-d74f-175b2a2f014f"
      },
      "execution_count": null,
      "outputs": [
        {
          "output_type": "stream",
          "name": "stderr",
          "text": [
            "100%|██████████| 8750/8750 [55:42<00:00,  2.62it/s]\n"
          ]
        },
        {
          "output_type": "stream",
          "name": "stdout",
          "text": [
            "Epochs: 9 | Train Loss:  0.003                 | Train Accuracy:  0.997                 | Val Loss:  0.195                 | Val Accuracy:  0.899\n"
          ]
        },
        {
          "output_type": "stream",
          "name": "stderr",
          "text": [
            "100%|██████████| 8750/8750 [55:36<00:00,  2.62it/s]\n"
          ]
        },
        {
          "output_type": "stream",
          "name": "stdout",
          "text": [
            "Epochs: 10 | Train Loss:  0.003                 | Train Accuracy:  0.997                 | Val Loss:  0.187                 | Val Accuracy:  0.904\n"
          ]
        }
      ]
    },
    {
      "cell_type": "code",
      "source": [
        "val_acc=[0.901200,0.901200,0.889,0.873,0.903600,0.905600,0.905,0.906400,0.899, 0.9044] \n",
        "train_acc=[0.907,0.958,0.985,0.992,0.995,0.995,0.995,0.997,0.997,0.997]"
      ],
      "metadata": {
        "id": "CbN0SUVYZVs0"
      },
      "execution_count": null,
      "outputs": []
    },
    {
      "cell_type": "code",
      "source": [
        "plt.plot(range(1,11), val_acc, label='Validation Accuracy')\n",
        "plt.plot(range(1,11), train_acc, label='Training Accuracy')\n",
        "plt.legend()\n",
        "plt.xlabel('Epochs')\n",
        "plt.ylabel('Validation Accuracy and Training Accuracy')\n",
        "plt.title('Accuracy vs Epochs')\n",
        "plt.show()"
      ],
      "metadata": {
        "colab": {
          "base_uri": "https://localhost:8080/",
          "height": 295
        },
        "id": "ijEYkNjmZVlc",
        "outputId": "95d33a0f-91ef-42b7-86da-84a53210cb02"
      },
      "execution_count": null,
      "outputs": [
        {
          "output_type": "display_data",
          "data": {
            "text/plain": [
              "<Figure size 432x288 with 1 Axes>"
            ],
            "image/png": "[encoded data removed]"
          },
          "metadata": {
            "needs_background": "light"
          }
        }
      ]
    },
    {
      "cell_type": "markdown",
      "source": [
        "### 1e-5"
      ],
      "metadata": {
        "id": "U4ba9RJFiwbh"
      }
    },
    {
      "cell_type": "code",
      "source": [
        "model = BertClassifier()\n",
        "LR = 1e-5\n",
        "optimizer = Adam(model.parameters(), lr= LR)\n",
        "checkpoint_path = '/content/drive/MyDrive/bert/checkpointsaccbonus/check.pt'\n",
        "best_model = '/content/drive/MyDrive/bert/bestmodelaccbonus/model.pt'"
      ],
      "metadata": {
        "colab": {
          "base_uri": "https://localhost:8080/"
        },
        "outputId": "9f0cc3e5-0c92-450f-e0d3-f05fdee319cd",
        "id": "wbu1NEoYk6Vr"
      },
      "execution_count": null,
      "outputs": [
        {
          "output_type": "stream",
          "name": "stderr",
          "text": [
            "Some weights of the model checkpoint at bert-base-cased were not used when initializing BertModel: ['cls.predictions.bias', 'cls.seq_relationship.bias', 'cls.predictions.transform.LayerNorm.bias', 'cls.predictions.decoder.weight', 'cls.seq_relationship.weight', 'cls.predictions.transform.dense.weight', 'cls.predictions.transform.dense.bias', 'cls.predictions.transform.LayerNorm.weight']\n",
            "- This IS expected if you are initializing BertModel from the checkpoint of a model trained on another task or with another architecture (e.g. initializing a BertForSequenceClassification model from a BertForPreTraining model).\n",
            "- This IS NOT expected if you are initializing BertModel from the checkpoint of a model that you expect to be exactly identical (initializing a BertForSequenceClassification model from a BertForSequenceClassification model).\n"
          ]
        }
      ]
    },
    {
      "cell_type": "code",
      "source": [
        "train_accuracy(model, train_data, validation_data, LR, epochs,checkpoint_path, best_model, -np.inf)"
      ],
      "metadata": {
        "colab": {
          "base_uri": "https://localhost:8080/"
        },
        "outputId": "26e31996-c814-4920-be0b-088dee4f7482",
        "id": "cEMpUN9nk-g2"
      },
      "execution_count": null,
      "outputs": [
        {
          "metadata": {
            "tags": null
          },
          "name": "stderr",
          "output_type": "stream",
          "text": [
            "100%|██████████| 8750/8750 [56:12<00:00,  2.59it/s]\n"
          ]
        },
        {
          "metadata": {
            "tags": null
          },
          "name": "stdout",
          "output_type": "stream",
          "text": [
            "Epochs: 1 | Train Loss:  0.174                 | Train Accuracy:  0.502                 | Val Loss:  0.174                 | Val Accuracy:  0.498\n",
            "Validation Accuracy increased (-inf --> 0.498400).  Saving model ...\n"
          ]
        },
        {
          "metadata": {
            "tags": null
          },
          "name": "stderr",
          "output_type": "stream",
          "text": [
            "100%|██████████| 8750/8750 [55:13<00:00,  2.64it/s]\n"
          ]
        },
        {
          "metadata": {
            "tags": null
          },
          "name": "stdout",
          "output_type": "stream",
          "text": [
            "Epochs: 2 | Train Loss:  0.174                 | Train Accuracy:  0.498                 | Val Loss:  0.173                 | Val Accuracy:  0.503\n",
            "Validation Accuracy increased (0.498400 --> 0.502600).  Saving model ...\n"
          ]
        },
        {
          "metadata": {
            "tags": null
          },
          "name": "stderr",
          "output_type": "stream",
          "text": [
            "100%|██████████| 8750/8750 [55:09<00:00,  2.64it/s]\n"
          ]
        },
        {
          "metadata": {
            "tags": null
          },
          "name": "stdout",
          "output_type": "stream",
          "text": [
            "Epochs: 3 | Train Loss:  0.174                 | Train Accuracy:  0.501                 | Val Loss:  0.173                 | Val Accuracy:  0.499\n"
          ]
        },
        {
          "metadata": {
            "tags": null
          },
          "name": "stderr",
          "output_type": "stream",
          "text": [
            "100%|██████████| 8750/8750 [56:18<00:00,  2.59it/s]\n"
          ]
        },
        {
          "metadata": {
            "tags": null
          },
          "name": "stdout",
          "output_type": "stream",
          "text": [
            "Epochs: 4 | Train Loss:  0.134                 | Train Accuracy:  0.699                 | Val Loss:  0.082                 | Val Accuracy:  0.868\n",
            "Validation Accuracy increased (0.502600 --> 0.868200).  Saving model ...\n"
          ]
        },
        {
          "metadata": {
            "tags": null
          },
          "name": "stderr",
          "output_type": "stream",
          "text": [
            "100%|██████████| 8750/8750 [56:46<00:00,  2.57it/s]\n"
          ]
        },
        {
          "output_type": "stream",
          "name": "stdout",
          "text": [
            "Epochs: 5 | Train Loss:  0.071                 | Train Accuracy:  0.892                 | Val Loss:  0.066                 | Val Accuracy:  0.899\n",
            "Validation Accuracy increased (0.868200 --> 0.898600).  Saving model ...\n"
          ]
        },
        {
          "output_type": "stream",
          "name": "stderr",
          "text": [
            "100%|██████████| 8750/8750 [56:47<00:00,  2.57it/s]\n"
          ]
        },
        {
          "output_type": "stream",
          "name": "stdout",
          "text": [
            "Epochs: 6 | Train Loss:  0.046                 | Train Accuracy:  0.938                 | Val Loss:  0.068                 | Val Accuracy:  0.904\n",
            "Validation Accuracy increased (0.898600 --> 0.903600).  Saving model ...\n"
          ]
        },
        {
          "output_type": "stream",
          "name": "stderr",
          "text": [
            " 23%|██▎       | 1979/8750 [12:51<43:40,  2.58it/s]"
          ]
        }
      ]
    },
    {
      "cell_type": "code",
      "source": [
        "# reload ckp and start training from the last epoch\n",
        "model = BertClassifier()\n",
        "optimizer = Adam(model.parameters(), lr= LR)\n",
        "_,_, _, valid_accuracy_max,_ = load_model_accuracy(best_model, model, optimizer)\n",
        "model = BertClassifier()\n",
        "optimizer = Adam(model.parameters(), lr= LR)\n",
        "model, optimizer, start_epoch,_, LR = load_ckp_accuracy(checkpoint_path, model, optimizer)\n",
        "EPOCHS = range(start_epoch+1,11)\n",
        "print(EPOCHS)"
      ],
      "metadata": {
        "colab": {
          "base_uri": "https://localhost:8080/"
        },
        "outputId": "a10402f3-3cee-42fc-d6c3-fa3024a63fb0",
        "id": "-p2FxUNQlAH1"
      },
      "execution_count": null,
      "outputs": [
        {
          "output_type": "stream",
          "name": "stderr",
          "text": [
            "Some weights of the model checkpoint at bert-base-cased were not used when initializing BertModel: ['cls.predictions.bias', 'cls.predictions.transform.dense.bias', 'cls.predictions.decoder.weight', 'cls.predictions.transform.dense.weight', 'cls.predictions.transform.LayerNorm.bias', 'cls.seq_relationship.weight', 'cls.seq_relationship.bias', 'cls.predictions.transform.LayerNorm.weight']\n",
            "- This IS expected if you are initializing BertModel from the checkpoint of a model trained on another task or with another architecture (e.g. initializing a BertForSequenceClassification model from a BertForPreTraining model).\n",
            "- This IS NOT expected if you are initializing BertModel from the checkpoint of a model that you expect to be exactly identical (initializing a BertForSequenceClassification model from a BertForSequenceClassification model).\n",
            "Some weights of the model checkpoint at bert-base-cased were not used when initializing BertModel: ['cls.predictions.bias', 'cls.predictions.transform.dense.bias', 'cls.predictions.decoder.weight', 'cls.predictions.transform.dense.weight', 'cls.predictions.transform.LayerNorm.bias', 'cls.seq_relationship.weight', 'cls.seq_relationship.bias', 'cls.predictions.transform.LayerNorm.weight']\n",
            "- This IS expected if you are initializing BertModel from the checkpoint of a model trained on another task or with another architecture (e.g. initializing a BertForSequenceClassification model from a BertForPreTraining model).\n",
            "- This IS NOT expected if you are initializing BertModel from the checkpoint of a model that you expect to be exactly identical (initializing a BertForSequenceClassification model from a BertForSequenceClassification model).\n"
          ]
        },
        {
          "output_type": "stream",
          "name": "stdout",
          "text": [
            "range(7, 11)\n"
          ]
        }
      ]
    },
    {
      "cell_type": "code",
      "source": [
        "train_accuracy(model, train_data, validation_data, LR, EPOCHS,checkpoint_path, best_model, valid_accuracy_max)"
      ],
      "metadata": {
        "colab": {
          "base_uri": "https://localhost:8080/"
        },
        "outputId": "b75fc69a-88b7-4494-deb8-129ae6e041f3",
        "id": "nYcU_FnGlB1N"
      },
      "execution_count": null,
      "outputs": [
        {
          "output_type": "stream",
          "name": "stderr",
          "text": [
            "100%|██████████| 8750/8750 [54:56<00:00,  2.65it/s]\n"
          ]
        },
        {
          "output_type": "stream",
          "name": "stdout",
          "text": [
            "Epochs: 7 | Train Loss:  0.025                 | Train Accuracy:  0.970                 | Val Loss:  0.087                 | Val Accuracy:  0.903\n"
          ]
        },
        {
          "output_type": "stream",
          "name": "stderr",
          "text": [
            "100%|██████████| 8750/8750 [54:52<00:00,  2.66it/s]\n"
          ]
        },
        {
          "output_type": "stream",
          "name": "stdout",
          "text": [
            "Epochs: 8 | Train Loss:  0.015                 | Train Accuracy:  0.985                 | Val Loss:  0.105                 | Val Accuracy:  0.906\n",
            "Validation Accuracy increased (0.903600 --> 0.905800).  Saving model ...\n"
          ]
        },
        {
          "output_type": "stream",
          "name": "stderr",
          "text": [
            "100%|██████████| 8750/8750 [54:48<00:00,  2.66it/s]\n"
          ]
        },
        {
          "output_type": "stream",
          "name": "stdout",
          "text": [
            "Epochs: 9 | Train Loss:  0.010                 | Train Accuracy:  0.991                 | Val Loss:  0.129                 | Val Accuracy:  0.905\n"
          ]
        },
        {
          "output_type": "stream",
          "name": "stderr",
          "text": [
            " 67%|██████▋   | 5906/8750 [36:57<17:47,  2.66it/s]"
          ]
        }
      ]
    },
    {
      "cell_type": "code",
      "source": [
        "# reload ckp and start training from the last epoch\n",
        "model = BertClassifier()\n",
        "optimizer = Adam(model.parameters(), lr= LR)\n",
        "_,_, _, valid_accuracy_max,_ = load_model_accuracy(best_model, model, optimizer)\n",
        "model = BertClassifier()\n",
        "optimizer = Adam(model.parameters(), lr= LR)\n",
        "model, optimizer, start_epoch,_, LR = load_ckp_accuracy(checkpoint_path, model, optimizer)\n",
        "EPOCHS = range(start_epoch+1,11)\n",
        "print(EPOCHS)"
      ],
      "metadata": {
        "colab": {
          "base_uri": "https://localhost:8080/"
        },
        "id": "A0DBVzm_QDr8",
        "outputId": "bc1cc961-39fc-477a-97e3-d03094f85b85"
      },
      "execution_count": null,
      "outputs": [
        {
          "output_type": "stream",
          "name": "stderr",
          "text": [
            "Some weights of the model checkpoint at bert-base-cased were not used when initializing BertModel: ['cls.predictions.bias', 'cls.seq_relationship.bias', 'cls.predictions.transform.LayerNorm.bias', 'cls.predictions.decoder.weight', 'cls.seq_relationship.weight', 'cls.predictions.transform.dense.weight', 'cls.predictions.transform.dense.bias', 'cls.predictions.transform.LayerNorm.weight']\n",
            "- This IS expected if you are initializing BertModel from the checkpoint of a model trained on another task or with another architecture (e.g. initializing a BertForSequenceClassification model from a BertForPreTraining model).\n",
            "- This IS NOT expected if you are initializing BertModel from the checkpoint of a model that you expect to be exactly identical (initializing a BertForSequenceClassification model from a BertForSequenceClassification model).\n",
            "Some weights of the model checkpoint at bert-base-cased were not used when initializing BertModel: ['cls.predictions.bias', 'cls.seq_relationship.bias', 'cls.predictions.transform.LayerNorm.bias', 'cls.predictions.decoder.weight', 'cls.seq_relationship.weight', 'cls.predictions.transform.dense.weight', 'cls.predictions.transform.dense.bias', 'cls.predictions.transform.LayerNorm.weight']\n",
            "- This IS expected if you are initializing BertModel from the checkpoint of a model trained on another task or with another architecture (e.g. initializing a BertForSequenceClassification model from a BertForPreTraining model).\n",
            "- This IS NOT expected if you are initializing BertModel from the checkpoint of a model that you expect to be exactly identical (initializing a BertForSequenceClassification model from a BertForSequenceClassification model).\n"
          ]
        },
        {
          "output_type": "stream",
          "name": "stdout",
          "text": [
            "range(10, 11)\n"
          ]
        }
      ]
    },
    {
      "cell_type": "code",
      "source": [
        "train_accuracy(model, train_data, validation_data, LR, EPOCHS,checkpoint_path, best_model, valid_accuracy_max)"
      ],
      "metadata": {
        "colab": {
          "base_uri": "https://localhost:8080/"
        },
        "id": "_IhGFDEfQGFy",
        "outputId": "05fa785d-af39-4b46-9fdc-9eb7d6acd368"
      },
      "execution_count": null,
      "outputs": [
        {
          "output_type": "stream",
          "name": "stderr",
          "text": [
            "100%|██████████| 8750/8750 [53:50<00:00,  2.71it/s]\n"
          ]
        },
        {
          "output_type": "stream",
          "name": "stdout",
          "text": [
            "Epochs: 10 | Train Loss:  0.009                 | Train Accuracy:  0.992                 | Val Loss:  0.122                 | Val Accuracy:  0.900\n"
          ]
        }
      ]
    },
    {
      "cell_type": "code",
      "source": [
        "val_acc=[0.498,0.502600 ,0.499,0.868200,0.898600,0.903600,0.903,0.905800,0.905,0.900]\n",
        "train_acc=[0.502,0.498,0.501,0.699,0.892,0.938,0.970,0.985,0.991,0.992]"
      ],
      "metadata": {
        "id": "CZ9uHZAJhhzR"
      },
      "execution_count": null,
      "outputs": []
    },
    {
      "cell_type": "code",
      "source": [
        "plt.plot(range(1,11), val_acc, label='Validation Accuracy')\n",
        "plt.plot(range(1,11), train_acc, label='Training Accuracy')\n",
        "plt.legend()\n",
        "plt.xlabel('Epochs')\n",
        "plt.ylabel('Validation Accuracy and Training Accuracy')\n",
        "plt.title('Accuracy vs Epochs')\n",
        "plt.show()"
      ],
      "metadata": {
        "colab": {
          "base_uri": "https://localhost:8080/",
          "height": 295
        },
        "id": "T2UBL46KifTO",
        "outputId": "02388242-9726-4690-c69b-9073c096ea8e"
      },
      "execution_count": null,
      "outputs": [
        {
          "output_type": "display_data",
          "data": {
            "text/plain": [
              "<Figure size 432x288 with 1 Axes>"
            ],
            "image/png": "[encoded data removed]"
          },
          "metadata": {
            "needs_background": "light"
          }
        }
      ]
    },
    {
      "cell_type": "markdown",
      "source": [
        "### Best from all lr"
      ],
      "metadata": {
        "id": "y82ujCUYlceY"
      }
    },
    {
      "cell_type": "code",
      "source": [
        "# for 5e-6\n",
        "val_acc_5e6=[0.901200,0.901200,0.889,0.873,0.903600,0.905600,0.905,0.906400,0.899, 0.9044] \n",
        "# for 1e-5\n",
        "val_acc_1e5=[0.498,0.502600 ,0.499,0.868200,0.898600,0.903600,0.903,0.905800,0.905,0.900]\n",
        "# for 1e-6\n",
        "val_acc_1e6=[0.867000,0.880800,0.880,0.893200,0.893,0.896000,0.895,0.894,0.894, 0.8946] \n",
        "\n",
        "\n",
        "#get max validation accuracy for each learning rate\n",
        "max_val_acc=[max(val_acc_5e6),max(val_acc_1e5),max(val_acc_1e6)]"
      ],
      "metadata": {
        "id": "A-lcioOplf1B"
      },
      "execution_count": null,
      "outputs": []
    },
    {
      "cell_type": "code",
      "source": [
        "# plot max validation accuracy for each learning rate\n",
        "lr=['5e-6','1e-5','1e-6']\n",
        "plt.plot(lr, max_val_acc, label='Validation Accuracy')\n",
        "plt.xlabel('Learning Rate')\n",
        "plt.ylabel('Validation Accuracy')\n",
        "plt.title('Validation Accuracy vs Learning Rate')\n",
        "plt.show()"
      ],
      "metadata": {
        "colab": {
          "base_uri": "https://localhost:8080/",
          "height": 295
        },
        "id": "-Q5mvJXKlfGE",
        "outputId": "d5006d13-47b4-42e7-c664-3ca8b4a7d475"
      },
      "execution_count": null,
      "outputs": [
        {
          "output_type": "display_data",
          "data": {
            "text/plain": [
              "<Figure size 432x288 with 1 Axes>"
            ],
            "image/png": "[encoded data removed]"
          },
          "metadata": {
            "needs_background": "light"
          }
        }
      ]
    },
    {
      "cell_type": "markdown",
      "source": [
        "### Best Model"
      ],
      "metadata": {
        "id": "Id9FKKsk1DNL"
      }
    },
    {
      "cell_type": "code",
      "source": [
        "def conf_mat(test_labels,pred_labels):\n",
        "      conf_matrix = confusion_matrix(test_labels, pred_labels)\n",
        "      fig, ax = plt.subplots(figsize=(5, 5))\n",
        "      ax.matshow(conf_matrix, cmap=plt.cm.Blues, alpha=0.3)\n",
        "      for i in range(conf_matrix.shape[0]):\n",
        "          for j in range(conf_matrix.shape[1]):\n",
        "              ax.text(x=j, y=i,s=conf_matrix[i, j], va='center', ha='center', size='xx-large')\n",
        "\n",
        "      plt.xlabel('Predictions', fontsize=18)\n",
        "      plt.ylabel('Actuals', fontsize=18)\n",
        "      plt.title('Confusion Matrix', fontsize=18)\n",
        "      plt.show()"
      ],
      "metadata": {
        "id": "zsvgUEgLkBwz"
      },
      "execution_count": null,
      "outputs": []
    },
    {
      "cell_type": "code",
      "source": [
        "test_labels=[]\n",
        "pred_labels=[]\n",
        "\n",
        "def evaluate(model, test_data):\n",
        "\n",
        "    test = Dataset(test_data)\n",
        "\n",
        "    test_dataloader = torch.utils.data.DataLoader(test, batch_size=2)\n",
        "\n",
        "    use_cuda = torch.cuda.is_available()\n",
        "    device = torch.device(\"cuda\" if use_cuda else \"cpu\")\n",
        "\n",
        "    if use_cuda:\n",
        "\n",
        "        model = model.cuda()\n",
        "\n",
        "    total_acc_test = 0\n",
        "    with torch.no_grad():\n",
        "\n",
        "        for test_input, test_label in test_dataloader:\n",
        "\n",
        "              test_label = test_label.to(device)\n",
        "              mask = test_input['attention_mask'].to(device)\n",
        "              input_id = test_input['input_ids'].squeeze(1).to(device)\n",
        "\n",
        "              output = model(input_id, mask)\n",
        "\n",
        "              acc = (output.argmax(dim=1) == test_label).sum().item()\n",
        "              total_acc_test += acc\n",
        "\n",
        "              test_labels.append(test_label.cpu().numpy()[0])\n",
        "              test_labels.append(test_label.cpu().numpy()[1])\n",
        "              pred_labels.append(output.argmax(dim=1).cpu().numpy()[0])\n",
        "              pred_labels.append(output.argmax(dim=1).cpu().numpy()[1])\n"
      ],
      "metadata": {
        "id": "v5L-1_d7kJ62"
      },
      "execution_count": null,
      "outputs": []
    },
    {
      "cell_type": "code",
      "source": [
        "# reload ckp and start training from the last epoch\n",
        "model = BertClassifier()\n",
        "best_epoch=0\n",
        "valid_accuracy_max=0\n",
        "LR = 5e-6\n",
        "optimizer = Adam(model.parameters(), lr= LR)\n",
        "best_model = '/content/drive/MyDrive/bert/bestmodelaccbonus/model.pt'\n",
        "model, optimizer, best_epoch,valid_accuracy_max, LR= load_model_accuracy(best_model, model, optimizer)"
      ],
      "metadata": {
        "id": "NnvoVqBUjmQA",
        "colab": {
          "base_uri": "https://localhost:8080/"
        },
        "outputId": "14e267b4-52ac-400c-d59a-3cc074b35e5f"
      },
      "execution_count": null,
      "outputs": [
        {
          "output_type": "stream",
          "name": "stderr",
          "text": [
            "Some weights of the model checkpoint at bert-base-cased were not used when initializing BertModel: ['cls.predictions.transform.dense.bias', 'cls.predictions.transform.dense.weight', 'cls.seq_relationship.bias', 'cls.predictions.transform.LayerNorm.weight', 'cls.predictions.decoder.weight', 'cls.predictions.bias', 'cls.seq_relationship.weight', 'cls.predictions.transform.LayerNorm.bias']\n",
            "- This IS expected if you are initializing BertModel from the checkpoint of a model trained on another task or with another architecture (e.g. initializing a BertForSequenceClassification model from a BertForPreTraining model).\n",
            "- This IS NOT expected if you are initializing BertModel from the checkpoint of a model that you expect to be exactly identical (initializing a BertForSequenceClassification model from a BertForSequenceClassification model).\n"
          ]
        }
      ]
    },
    {
      "cell_type": "code",
      "source": [
        "LR"
      ],
      "metadata": {
        "id": "UDMbp8BKjsZS",
        "colab": {
          "base_uri": "https://localhost:8080/"
        },
        "outputId": "89e01642-ea57-4e14-ce45-7be3b92692a0"
      },
      "execution_count": null,
      "outputs": [
        {
          "output_type": "execute_result",
          "data": {
            "text/plain": [
              "5e-06"
            ]
          },
          "metadata": {},
          "execution_count": 45
        }
      ]
    },
    {
      "cell_type": "code",
      "source": [
        "best_epoch"
      ],
      "metadata": {
        "id": "xYHzDMmojuFt",
        "colab": {
          "base_uri": "https://localhost:8080/"
        },
        "outputId": "e92a14d0-8b76-483c-84df-00f5aad2a2a1"
      },
      "execution_count": null,
      "outputs": [
        {
          "output_type": "execute_result",
          "data": {
            "text/plain": [
              "8"
            ]
          },
          "metadata": {},
          "execution_count": 46
        }
      ]
    },
    {
      "cell_type": "code",
      "source": [
        "valid_accuracy_max"
      ],
      "metadata": {
        "id": "XFvAEK6Kjyy_",
        "colab": {
          "base_uri": "https://localhost:8080/"
        },
        "outputId": "b7c19fb8-166d-4dfa-d560-a485a586ad37"
      },
      "execution_count": null,
      "outputs": [
        {
          "output_type": "execute_result",
          "data": {
            "text/plain": [
              "0.9064"
            ]
          },
          "metadata": {},
          "execution_count": 47
        }
      ]
    },
    {
      "cell_type": "code",
      "source": [
        "evaluate(model, test_data)"
      ],
      "metadata": {
        "id": "ySj3orHKkU-y",
        "colab": {
          "base_uri": "https://localhost:8080/"
        },
        "outputId": "886a7400-6315-4286-d889-50bd9a340f59"
      },
      "execution_count": null,
      "outputs": [
        {
          "output_type": "stream",
          "name": "stdout",
          "text": [
            "Test Accuracy:  0.901\n"
          ]
        }
      ]
    },
    {
      "cell_type": "code",
      "source": [
        "conf_mat(test_labels,pred_labels)"
      ],
      "metadata": {
        "id": "73eUeGn6kRfF",
        "colab": {
          "base_uri": "https://localhost:8080/",
          "height": 358
        },
        "outputId": "088f0f25-ac9e-49e1-86a8-4b6faa5b6c39"
      },
      "execution_count": null,
      "outputs": [
        {
          "output_type": "display_data",
          "data": {
            "text/plain": [
              "<Figure size 360x360 with 1 Axes>"
            ],
            "image/png": "[encoded data removed]"
          },
          "metadata": {
            "needs_background": "light"
          }
        }
      ]
    },
    {
      "cell_type": "code",
      "source": [
        "def evalscore(tp,tn,fp,fn):\n",
        "  precision=tp/(tp+fp)\n",
        "  recall=tp/(tp+fn)\n",
        "  specificity=tn/(tn+fp)\n",
        "  f1=(2*precision*recall)/(precision+recall)\n",
        "\n",
        "  print(f'F1-score:    {f1:.3f}')\n",
        "  print(f'Precision:   {precision:.3f}')\n",
        "  print(f'Recall:      {recall:.3f}')\n",
        "  print(f'Specificity: {specificity:.3f}')"
      ],
      "metadata": {
        "id": "xmmbpBetvgoU"
      },
      "execution_count": null,
      "outputs": []
    },
    {
      "cell_type": "code",
      "source": [
        "tp=4434\n",
        "tn=4578\n",
        "fp=422\n",
        "fn=566\n",
        "\n",
        "evalscore(tp,tn,fp,fn)"
      ],
      "metadata": {
        "colab": {
          "base_uri": "https://localhost:8080/"
        },
        "id": "_l8i2Wdnvhuq",
        "outputId": "9826a93b-f347-4e8e-fe38-c98ef8ec5a02"
      },
      "execution_count": null,
      "outputs": [
        {
          "output_type": "stream",
          "name": "stdout",
          "text": [
            "F1-score:    0.900\n",
            "Precision:   0.913\n",
            "Recall:      0.887\n",
            "Specificity: 0.916\n"
          ]
        }
      ]
    },
    {
      "cell_type": "markdown",
      "source": [
        "## 768,1024,256,16,4,2"
      ],
      "metadata": {
        "id": "buJ8eq-i-0XN"
      }
    },
    {
      "cell_type": "code",
      "source": [
        "from torch.nn.modules import linear\n",
        "from torch import nn\n",
        "from transformers import BertModel\n",
        "\n",
        "class BertClassifier(nn.Module):\n",
        "\n",
        "    def __init__(self, dropout=0.5):\n",
        "\n",
        "        super(BertClassifier, self).__init__()\n",
        "\n",
        "        self.bert = BertModel.from_pretrained('bert-base-cased')\n",
        "        self.dropout_1 = nn.Dropout(dropout)\n",
        "        self.linear_1 = nn.Linear(768,1024)\n",
        "        self.dropout_2 = nn.Dropout(dropout)\n",
        "        self.linear_2 = nn.Linear(1024, 256)\n",
        "        self.dropout_3 = nn.Dropout(dropout)\n",
        "        self.linear_3 = nn.Linear(256, 16)\n",
        "        self.dropout_4 = nn.Dropout(dropout)\n",
        "        self.linear_4= nn.Linear(16, 4)\n",
        "        self.dropout_5 = nn.Dropout(dropout)\n",
        "        self.linear_5= nn.Linear(4, 2)\n",
        "        self.relu = nn.ReLU()\n",
        "\n",
        "    def forward(self, input_id, mask):\n",
        "\n",
        "        _, pooled_output = self.bert(input_ids= input_id, attention_mask=mask,return_dict=False)\n",
        "        dropout_output = self.dropout_1(pooled_output)\n",
        "        linear_output_1 = self.linear_1(dropout_output)\n",
        "        dropout_output_1 = self.dropout_2(linear_output_1)\n",
        "        linear_output_2 = self.linear_2(dropout_output_1)\n",
        "        dropout_output_2 = self.dropout_3(linear_output_2)\n",
        "        linear_output_3 = self.linear_3(dropout_output_2)\n",
        "        dropout_output_3 = self.dropout_4(linear_output_3)\n",
        "        linear_output_4 = self.linear_4(dropout_output_3)\n",
        "        dropout_output_4 = self.dropout_5(linear_output_4)\n",
        "        linear_output_5 = self.linear_5(dropout_output_4)\n",
        "        final_layer = self.relu(linear_output_5)\n",
        "        return final_layer"
      ],
      "metadata": {
        "id": "1agV4-FAupXK"
      },
      "execution_count": null,
      "outputs": []
    },
    {
      "cell_type": "markdown",
      "source": [
        "### 1e-6"
      ],
      "metadata": {
        "id": "nL3RTusg-9u7"
      }
    },
    {
      "cell_type": "code",
      "source": [
        "model = BertClassifier()\n",
        "LR = 1e-6\n",
        "optimizer = Adam(model.parameters(), lr= LR)\n",
        "checkpoint_path = '/content/drive/MyDrive/bert/checkpointsaccbonus2/check.pt'\n",
        "best_model = '/content/drive/MyDrive/bert/bestmodelaccbonus2/model.pt'"
      ],
      "metadata": {
        "colab": {
          "base_uri": "https://localhost:8080/"
        },
        "id": "8LOO4KXCyvFm",
        "outputId": "0ed38596-9404-403a-dfa9-7a5fd79adf15"
      },
      "execution_count": null,
      "outputs": [
        {
          "output_type": "stream",
          "name": "stderr",
          "text": [
            "Some weights of the model checkpoint at bert-base-cased were not used when initializing BertModel: ['cls.predictions.transform.LayerNorm.weight', 'cls.predictions.transform.dense.bias', 'cls.predictions.transform.LayerNorm.bias', 'cls.predictions.decoder.weight', 'cls.seq_relationship.weight', 'cls.seq_relationship.bias', 'cls.predictions.transform.dense.weight', 'cls.predictions.bias']\n",
            "- This IS expected if you are initializing BertModel from the checkpoint of a model trained on another task or with another architecture (e.g. initializing a BertForSequenceClassification model from a BertForPreTraining model).\n",
            "- This IS NOT expected if you are initializing BertModel from the checkpoint of a model that you expect to be exactly identical (initializing a BertForSequenceClassification model from a BertForSequenceClassification model).\n"
          ]
        }
      ]
    },
    {
      "cell_type": "code",
      "source": [
        "train_accuracy(model, train_data, validation_data, LR, epochs,checkpoint_path, best_model, -np.inf)"
      ],
      "metadata": {
        "colab": {
          "base_uri": "https://localhost:8080/"
        },
        "id": "xm_hKAlly0FD",
        "outputId": "968c41de-a33b-49a3-8fa4-1b92345d4304"
      },
      "execution_count": null,
      "outputs": [
        {
          "metadata": {
            "tags": null
          },
          "name": "stderr",
          "output_type": "stream",
          "text": [
            "100%|██████████| 8750/8750 [54:13<00:00,  2.69it/s]\n"
          ]
        },
        {
          "metadata": {
            "tags": null
          },
          "name": "stdout",
          "output_type": "stream",
          "text": [
            "Epochs: 1 | Train Loss:  0.158                 | Train Accuracy:  0.504                 | Val Loss:  0.141                 | Val Accuracy:  0.522\n",
            "Validation Accuracy increased (-inf --> 0.522400).  Saving model ...\n"
          ]
        },
        {
          "metadata": {
            "tags": null
          },
          "name": "stderr",
          "output_type": "stream",
          "text": [
            "100%|██████████| 8750/8750 [54:17<00:00,  2.69it/s]\n"
          ]
        },
        {
          "metadata": {
            "tags": null
          },
          "name": "stdout",
          "output_type": "stream",
          "text": [
            "Epochs: 2 | Train Loss:  0.134                 | Train Accuracy:  0.584                 | Val Loss:  0.125                 | Val Accuracy:  0.648\n",
            "Validation Accuracy increased (0.522400 --> 0.648200).  Saving model ...\n"
          ]
        },
        {
          "output_type": "stream",
          "name": "stderr",
          "text": [
            " 25%|██▌       | 2201/8750 [13:43<40:49,  2.67it/s]"
          ]
        }
      ]
    },
    {
      "cell_type": "code",
      "source": [
        "# reload ckp and start training from the last epoch\n",
        "model = BertClassifier()\n",
        "optimizer = Adam(model.parameters(), lr= LR)\n",
        "_,_, _, valid_accuracy_max,_ = load_model_accuracy(best_model, model, optimizer)\n",
        "model = BertClassifier()\n",
        "optimizer = Adam(model.parameters(), lr= LR)\n",
        "model, optimizer, start_epoch,_, LR = load_ckp_accuracy(checkpoint_path, model, optimizer)\n",
        "EPOCHS = range(start_epoch+1,11)\n",
        "print(EPOCHS)"
      ],
      "metadata": {
        "id": "idz77pVIy4W-",
        "colab": {
          "base_uri": "https://localhost:8080/"
        },
        "outputId": "bb14612a-a7ed-43e6-8416-476b370a4ab7"
      },
      "execution_count": null,
      "outputs": [
        {
          "output_type": "stream",
          "name": "stderr",
          "text": [
            "Some weights of the model checkpoint at bert-base-cased were not used when initializing BertModel: ['cls.predictions.transform.dense.bias', 'cls.seq_relationship.bias', 'cls.predictions.transform.LayerNorm.bias', 'cls.predictions.decoder.weight', 'cls.predictions.bias', 'cls.predictions.transform.dense.weight', 'cls.seq_relationship.weight', 'cls.predictions.transform.LayerNorm.weight']\n",
            "- This IS expected if you are initializing BertModel from the checkpoint of a model trained on another task or with another architecture (e.g. initializing a BertForSequenceClassification model from a BertForPreTraining model).\n",
            "- This IS NOT expected if you are initializing BertModel from the checkpoint of a model that you expect to be exactly identical (initializing a BertForSequenceClassification model from a BertForSequenceClassification model).\n",
            "Some weights of the model checkpoint at bert-base-cased were not used when initializing BertModel: ['cls.predictions.transform.dense.bias', 'cls.seq_relationship.bias', 'cls.predictions.transform.LayerNorm.bias', 'cls.predictions.decoder.weight', 'cls.predictions.bias', 'cls.predictions.transform.dense.weight', 'cls.seq_relationship.weight', 'cls.predictions.transform.LayerNorm.weight']\n",
            "- This IS expected if you are initializing BertModel from the checkpoint of a model trained on another task or with another architecture (e.g. initializing a BertForSequenceClassification model from a BertForPreTraining model).\n",
            "- This IS NOT expected if you are initializing BertModel from the checkpoint of a model that you expect to be exactly identical (initializing a BertForSequenceClassification model from a BertForSequenceClassification model).\n"
          ]
        },
        {
          "output_type": "stream",
          "name": "stdout",
          "text": [
            "range(3, 11)\n"
          ]
        }
      ]
    },
    {
      "cell_type": "code",
      "source": [
        "train_accuracy(model, train_data, validation_data, LR, EPOCHS,checkpoint_path, best_model, valid_accuracy_max)"
      ],
      "metadata": {
        "id": "9rIizyVpy7sl",
        "colab": {
          "base_uri": "https://localhost:8080/"
        },
        "outputId": "6bca3d82-b4b9-4804-ccbf-84db05779185"
      },
      "execution_count": null,
      "outputs": [
        {
          "metadata": {
            "tags": null
          },
          "name": "stderr",
          "output_type": "stream",
          "text": [
            "100%|██████████| 8750/8750 [56:19<00:00,  2.59it/s]\n"
          ]
        },
        {
          "metadata": {
            "tags": null
          },
          "name": "stdout",
          "output_type": "stream",
          "text": [
            "Epochs: 3 | Train Loss:  0.120                 | Train Accuracy:  0.665                 | Val Loss:  0.119                 | Val Accuracy:  0.671\n",
            "Validation Accuracy increased (0.648200 --> 0.671400).  Saving model ...\n"
          ]
        },
        {
          "metadata": {
            "tags": null
          },
          "name": "stderr",
          "output_type": "stream",
          "text": [
            "100%|██████████| 8750/8750 [56:21<00:00,  2.59it/s]\n"
          ]
        },
        {
          "metadata": {
            "tags": null
          },
          "name": "stdout",
          "output_type": "stream",
          "text": [
            "Epochs: 4 | Train Loss:  0.109                 | Train Accuracy:  0.700                 | Val Loss:  0.117                 | Val Accuracy:  0.683\n",
            "Validation Accuracy increased (0.671400 --> 0.682800).  Saving model ...\n"
          ]
        },
        {
          "metadata": {
            "tags": null
          },
          "name": "stderr",
          "output_type": "stream",
          "text": [
            "100%|██████████| 8750/8750 [56:21<00:00,  2.59it/s]\n"
          ]
        },
        {
          "metadata": {
            "tags": null
          },
          "name": "stdout",
          "output_type": "stream",
          "text": [
            "Epochs: 5 | Train Loss:  0.102                 | Train Accuracy:  0.720                 | Val Loss:  0.114                 | Val Accuracy:  0.704\n",
            "Validation Accuracy increased (0.682800 --> 0.704400).  Saving model ...\n"
          ]
        },
        {
          "output_type": "stream",
          "name": "stderr",
          "text": [
            " 70%|███████   | 6136/8750 [39:32<16:46,  2.60it/s]"
          ]
        }
      ]
    },
    {
      "cell_type": "code",
      "source": [
        "# reload ckp and start training from the last epoch\n",
        "model = BertClassifier()\n",
        "optimizer = Adam(model.parameters(), lr= LR)\n",
        "_,_, _, valid_accuracy_max,_ = load_model_accuracy(best_model, model, optimizer)\n",
        "model = BertClassifier()\n",
        "optimizer = Adam(model.parameters(), lr= LR)\n",
        "model, optimizer, start_epoch,_, LR = load_ckp_accuracy(checkpoint_path, model, optimizer)\n",
        "EPOCHS = range(start_epoch+1,11)\n",
        "print(EPOCHS)"
      ],
      "metadata": {
        "colab": {
          "base_uri": "https://localhost:8080/"
        },
        "id": "L6oAa8U8pgjy",
        "outputId": "1c8c86e7-aa05-461d-c5a1-5e928a93f64d"
      },
      "execution_count": null,
      "outputs": [
        {
          "output_type": "stream",
          "name": "stderr",
          "text": [
            "Some weights of the model checkpoint at bert-base-cased were not used when initializing BertModel: ['cls.predictions.transform.dense.weight', 'cls.seq_relationship.weight', 'cls.predictions.bias', 'cls.predictions.transform.dense.bias', 'cls.predictions.transform.LayerNorm.bias', 'cls.seq_relationship.bias', 'cls.predictions.decoder.weight', 'cls.predictions.transform.LayerNorm.weight']\n",
            "- This IS expected if you are initializing BertModel from the checkpoint of a model trained on another task or with another architecture (e.g. initializing a BertForSequenceClassification model from a BertForPreTraining model).\n",
            "- This IS NOT expected if you are initializing BertModel from the checkpoint of a model that you expect to be exactly identical (initializing a BertForSequenceClassification model from a BertForSequenceClassification model).\n",
            "Some weights of the model checkpoint at bert-base-cased were not used when initializing BertModel: ['cls.predictions.transform.dense.weight', 'cls.seq_relationship.weight', 'cls.predictions.bias', 'cls.predictions.transform.dense.bias', 'cls.predictions.transform.LayerNorm.bias', 'cls.seq_relationship.bias', 'cls.predictions.decoder.weight', 'cls.predictions.transform.LayerNorm.weight']\n",
            "- This IS expected if you are initializing BertModel from the checkpoint of a model trained on another task or with another architecture (e.g. initializing a BertForSequenceClassification model from a BertForPreTraining model).\n",
            "- This IS NOT expected if you are initializing BertModel from the checkpoint of a model that you expect to be exactly identical (initializing a BertForSequenceClassification model from a BertForSequenceClassification model).\n"
          ]
        },
        {
          "output_type": "stream",
          "name": "stdout",
          "text": [
            "range(6, 11)\n"
          ]
        }
      ]
    },
    {
      "cell_type": "code",
      "source": [
        "train_accuracy(model, train_data, validation_data, LR, EPOCHS,checkpoint_path, best_model, valid_accuracy_max)"
      ],
      "metadata": {
        "colab": {
          "base_uri": "https://localhost:8080/"
        },
        "id": "ugROcfw-piG0",
        "outputId": "7e7514d1-fdce-4576-e7ef-10504c6d2294"
      },
      "execution_count": null,
      "outputs": [
        {
          "metadata": {
            "tags": null
          },
          "name": "stderr",
          "output_type": "stream",
          "text": [
            "100%|██████████| 8750/8750 [56:22<00:00,  2.59it/s]\n"
          ]
        },
        {
          "metadata": {
            "tags": null
          },
          "name": "stdout",
          "output_type": "stream",
          "text": [
            "Epochs: 6 | Train Loss:  0.095                 | Train Accuracy:  0.744                 | Val Loss:  0.114                 | Val Accuracy:  0.725\n",
            "Validation Accuracy increased (0.704400 --> 0.725400).  Saving model ...\n"
          ]
        },
        {
          "metadata": {
            "tags": null
          },
          "name": "stderr",
          "output_type": "stream",
          "text": [
            "100%|██████████| 8750/8750 [56:20<00:00,  2.59it/s]\n"
          ]
        },
        {
          "output_type": "stream",
          "name": "stdout",
          "text": [
            "Epochs: 7 | Train Loss:  0.086                 | Train Accuracy:  0.784                 | Val Loss:  0.127                 | Val Accuracy:  0.744\n",
            "Validation Accuracy increased (0.725400 --> 0.744200).  Saving model ...\n"
          ]
        },
        {
          "output_type": "stream",
          "name": "stderr",
          "text": [
            " 47%|████▋     | 4144/8750 [26:42<29:53,  2.57it/s]"
          ]
        }
      ]
    },
    {
      "cell_type": "code",
      "source": [
        "# reload ckp and start training from the last epoch\n",
        "model = BertClassifier()\n",
        "optimizer = Adam(model.parameters(), lr= LR)\n",
        "_,_, _, valid_accuracy_max,_ = load_model_accuracy(best_model, model, optimizer)\n",
        "model = BertClassifier()\n",
        "optimizer = Adam(model.parameters(), lr= LR)\n",
        "model, optimizer, start_epoch,_, LR = load_ckp_accuracy(checkpoint_path, model, optimizer)\n",
        "EPOCHS = range(start_epoch+1,11)\n",
        "print(EPOCHS)"
      ],
      "metadata": {
        "id": "Lvr0qsrTkeJW",
        "colab": {
          "base_uri": "https://localhost:8080/"
        },
        "outputId": "c2eeb5fe-6f8b-446a-9ba8-50ed95ebffb2"
      },
      "execution_count": null,
      "outputs": [
        {
          "output_type": "stream",
          "name": "stderr",
          "text": [
            "Some weights of the model checkpoint at bert-base-cased were not used when initializing BertModel: ['cls.predictions.transform.LayerNorm.weight', 'cls.predictions.transform.dense.bias', 'cls.predictions.transform.LayerNorm.bias', 'cls.predictions.decoder.weight', 'cls.seq_relationship.weight', 'cls.seq_relationship.bias', 'cls.predictions.transform.dense.weight', 'cls.predictions.bias']\n",
            "- This IS expected if you are initializing BertModel from the checkpoint of a model trained on another task or with another architecture (e.g. initializing a BertForSequenceClassification model from a BertForPreTraining model).\n",
            "- This IS NOT expected if you are initializing BertModel from the checkpoint of a model that you expect to be exactly identical (initializing a BertForSequenceClassification model from a BertForSequenceClassification model).\n",
            "Some weights of the model checkpoint at bert-base-cased were not used when initializing BertModel: ['cls.predictions.transform.LayerNorm.weight', 'cls.predictions.transform.dense.bias', 'cls.predictions.transform.LayerNorm.bias', 'cls.predictions.decoder.weight', 'cls.seq_relationship.weight', 'cls.seq_relationship.bias', 'cls.predictions.transform.dense.weight', 'cls.predictions.bias']\n",
            "- This IS expected if you are initializing BertModel from the checkpoint of a model trained on another task or with another architecture (e.g. initializing a BertForSequenceClassification model from a BertForPreTraining model).\n",
            "- This IS NOT expected if you are initializing BertModel from the checkpoint of a model that you expect to be exactly identical (initializing a BertForSequenceClassification model from a BertForSequenceClassification model).\n"
          ]
        },
        {
          "output_type": "stream",
          "name": "stdout",
          "text": [
            "range(8, 11)\n"
          ]
        }
      ]
    },
    {
      "cell_type": "code",
      "source": [
        "train_accuracy(model, train_data, validation_data, LR, EPOCHS,checkpoint_path, best_model, valid_accuracy_max)"
      ],
      "metadata": {
        "id": "cK0YhRPtkfup",
        "colab": {
          "base_uri": "https://localhost:8080/"
        },
        "outputId": "8f38d2db-eb66-4209-cce5-19337e90dad5"
      },
      "execution_count": null,
      "outputs": [
        {
          "metadata": {
            "tags": null
          },
          "name": "stderr",
          "output_type": "stream",
          "text": [
            "100%|██████████| 8750/8750 [57:11<00:00,  2.55it/s]\n"
          ]
        },
        {
          "metadata": {
            "tags": null
          },
          "name": "stdout",
          "output_type": "stream",
          "text": [
            "Epochs: 8 | Train Loss:  0.081                 | Train Accuracy:  0.806                 | Val Loss:  0.117                 | Val Accuracy:  0.764\n",
            "Validation Accuracy increased (0.744200 --> 0.764000).  Saving model ...\n"
          ]
        },
        {
          "metadata": {
            "tags": null
          },
          "name": "stderr",
          "output_type": "stream",
          "text": [
            "100%|██████████| 8750/8750 [57:09<00:00,  2.55it/s]\n"
          ]
        },
        {
          "metadata": {
            "tags": null
          },
          "name": "stdout",
          "output_type": "stream",
          "text": [
            "Epochs: 9 | Train Loss:  0.073                 | Train Accuracy:  0.827                 | Val Loss:  0.127                 | Val Accuracy:  0.758\n"
          ]
        },
        {
          "metadata": {
            "tags": null
          },
          "name": "stderr",
          "output_type": "stream",
          "text": [
            "100%|██████████| 8750/8750 [57:11<00:00,  2.55it/s]\n"
          ]
        },
        {
          "output_type": "stream",
          "name": "stdout",
          "text": [
            "Epochs: 10 | Train Loss:  0.070                 | Train Accuracy:  0.834                 | Val Loss:  0.136                 | Val Accuracy:  0.769\n",
            "Validation Accuracy increased (0.764000 --> 0.769000).  Saving model ...\n"
          ]
        }
      ]
    },
    {
      "cell_type": "code",
      "source": [
        "val_acc=[0.522400,0.648200,0.671400,0.682800,0.704400,0.725400,0.744200,0.764000,0.758,0.769000]\n",
        "train_acc=[0.504,0.584,0.665,0.700,0.720,0.744,0.784,0.806,0.827,0.834]"
      ],
      "metadata": {
        "id": "-4kviOZu8ERd"
      },
      "execution_count": null,
      "outputs": []
    },
    {
      "cell_type": "code",
      "source": [
        "plt.plot(range(1,11), val_acc, label='Validation Accuracy')\n",
        "plt.plot(range(1,11), train_acc, label='Training Accuracy')\n",
        "plt.legend()\n",
        "plt.xlabel('Epochs')\n",
        "plt.ylabel('Validation Accuracy and Training Accuracy')\n",
        "plt.title('Accuracy vs Epochs')\n",
        "plt.show()"
      ],
      "metadata": {
        "colab": {
          "base_uri": "https://localhost:8080/",
          "height": 295
        },
        "id": "oaeAsh9v8HSE",
        "outputId": "08ce0448-eacf-41c9-9c24-8151ad0c1106"
      },
      "execution_count": null,
      "outputs": [
        {
          "output_type": "display_data",
          "data": {
            "text/plain": [
              "<Figure size 432x288 with 1 Axes>"
            ],
            "image/png": "[encoded data removed]"
          },
          "metadata": {
            "needs_background": "light"
          }
        }
      ]
    },
    {
      "cell_type": "markdown",
      "source": [
        "### 5e-6"
      ],
      "metadata": {
        "id": "zw9_O--ANQqB"
      }
    },
    {
      "cell_type": "code",
      "source": [
        "model = BertClassifier()\n",
        "LR = 5e-6\n",
        "optimizer = Adam(model.parameters(), lr= LR)\n",
        "checkpoint_path = '/content/drive/MyDrive/bonusnadasedition/checkpoints/check.pt'\n",
        "best_model = '/content/drive/MyDrive/bonusnadasedition/bestmodel/model.pt'"
      ],
      "metadata": {
        "id": "0JXrAeAd2Uhr",
        "colab": {
          "base_uri": "https://localhost:8080/"
        },
        "outputId": "2f861a08-7d4b-4ec4-fdc9-3f18f102bf5c"
      },
      "execution_count": null,
      "outputs": [
        {
          "output_type": "stream",
          "name": "stderr",
          "text": [
            "Some weights of the model checkpoint at bert-base-cased were not used when initializing BertModel: ['cls.predictions.bias', 'cls.predictions.transform.dense.bias', 'cls.predictions.transform.dense.weight', 'cls.predictions.decoder.weight', 'cls.seq_relationship.weight', 'cls.predictions.transform.LayerNorm.weight', 'cls.predictions.transform.LayerNorm.bias', 'cls.seq_relationship.bias']\n",
            "- This IS expected if you are initializing BertModel from the checkpoint of a model trained on another task or with another architecture (e.g. initializing a BertForSequenceClassification model from a BertForPreTraining model).\n",
            "- This IS NOT expected if you are initializing BertModel from the checkpoint of a model that you expect to be exactly identical (initializing a BertForSequenceClassification model from a BertForSequenceClassification model).\n"
          ]
        }
      ]
    },
    {
      "cell_type": "code",
      "source": [
        "train_accuracy(model, train_data, validation_data, LR, epochs,checkpoint_path, best_model, -np.inf)"
      ],
      "metadata": {
        "id": "y4PsM4UV2dru",
        "colab": {
          "base_uri": "https://localhost:8080/"
        },
        "outputId": "018d0e74-9671-44ed-fd3d-0312921f1cf4"
      },
      "execution_count": null,
      "outputs": [
        {
          "output_type": "stream",
          "name": "stderr",
          "text": [
            "100%|██████████| 8750/8750 [53:07<00:00,  2.75it/s]\n"
          ]
        },
        {
          "output_type": "stream",
          "name": "stdout",
          "text": [
            "Epochs: 1 | Train Loss:  0.158                 | Train Accuracy:  0.594                 | Val Loss:  0.127                 | Val Accuracy:  0.743\n",
            "Validation Accuracy increased (-inf --> 0.742600).  Saving model ...\n"
          ]
        },
        {
          "output_type": "stream",
          "name": "stderr",
          "text": [
            "100%|██████████| 8750/8750 [53:40<00:00,  2.72it/s]\n"
          ]
        },
        {
          "output_type": "stream",
          "name": "stdout",
          "text": [
            "Epochs: 2 | Train Loss:  0.119                 | Train Accuracy:  0.771                 | Val Loss:  0.112                 | Val Accuracy:  0.799\n",
            "Validation Accuracy increased (0.742600 --> 0.798800).  Saving model ...\n"
          ]
        },
        {
          "output_type": "stream",
          "name": "stderr",
          "text": [
            "100%|██████████| 8750/8750 [53:44<00:00,  2.71it/s]\n"
          ]
        },
        {
          "output_type": "stream",
          "name": "stdout",
          "text": [
            "Epochs: 3 | Train Loss:  0.104                 | Train Accuracy:  0.809                 | Val Loss:  0.108                 | Val Accuracy:  0.802\n",
            "Validation Accuracy increased (0.798800 --> 0.801800).  Saving model ...\n"
          ]
        },
        {
          "output_type": "stream",
          "name": "stderr",
          "text": [
            "100%|██████████| 8750/8750 [53:44<00:00,  2.71it/s]\n"
          ]
        },
        {
          "output_type": "stream",
          "name": "stdout",
          "text": [
            "Epochs: 4 | Train Loss:  0.091                 | Train Accuracy:  0.838                 | Val Loss:  0.106                 | Val Accuracy:  0.820\n",
            "Validation Accuracy increased (0.801800 --> 0.820400).  Saving model ...\n"
          ]
        },
        {
          "output_type": "stream",
          "name": "stderr",
          "text": [
            " 86%|████████▋ | 7553/8750 [46:21<07:18,  2.73it/s]"
          ]
        }
      ]
    },
    {
      "cell_type": "code",
      "source": [
        "# reload ckp and start training from the last epoch\n",
        "model = BertClassifier()\n",
        "optimizer = Adam(model.parameters(), lr= LR)\n",
        "_,_, epochbest, valid_accuracy_max,_ = load_model_accuracy(best_model, model, optimizer)\n",
        "model = BertClassifier()\n",
        "optimizer = Adam(model.parameters(), lr= LR)\n",
        "model, optimizer, start_epoch,_, LR = load_ckp_accuracy(checkpoint_path, model, optimizer)\n",
        "EPOCHS = range(start_epoch+1,11)\n",
        "print(EPOCHS)"
      ],
      "metadata": {
        "id": "zYbqaaEG2jGA",
        "colab": {
          "base_uri": "https://localhost:8080/"
        },
        "outputId": "204e2214-bbf7-43ba-c313-e2d34a3f9335"
      },
      "execution_count": null,
      "outputs": [
        {
          "output_type": "stream",
          "name": "stderr",
          "text": [
            "Some weights of the model checkpoint at bert-base-cased were not used when initializing BertModel: ['cls.predictions.bias', 'cls.predictions.transform.dense.bias', 'cls.predictions.transform.dense.weight', 'cls.predictions.decoder.weight', 'cls.seq_relationship.weight', 'cls.predictions.transform.LayerNorm.weight', 'cls.predictions.transform.LayerNorm.bias', 'cls.seq_relationship.bias']\n",
            "- This IS expected if you are initializing BertModel from the checkpoint of a model trained on another task or with another architecture (e.g. initializing a BertForSequenceClassification model from a BertForPreTraining model).\n",
            "- This IS NOT expected if you are initializing BertModel from the checkpoint of a model that you expect to be exactly identical (initializing a BertForSequenceClassification model from a BertForSequenceClassification model).\n",
            "Some weights of the model checkpoint at bert-base-cased were not used when initializing BertModel: ['cls.predictions.bias', 'cls.predictions.transform.dense.bias', 'cls.predictions.transform.dense.weight', 'cls.predictions.decoder.weight', 'cls.seq_relationship.weight', 'cls.predictions.transform.LayerNorm.weight', 'cls.predictions.transform.LayerNorm.bias', 'cls.seq_relationship.bias']\n",
            "- This IS expected if you are initializing BertModel from the checkpoint of a model trained on another task or with another architecture (e.g. initializing a BertForSequenceClassification model from a BertForPreTraining model).\n",
            "- This IS NOT expected if you are initializing BertModel from the checkpoint of a model that you expect to be exactly identical (initializing a BertForSequenceClassification model from a BertForSequenceClassification model).\n"
          ]
        },
        {
          "output_type": "stream",
          "name": "stdout",
          "text": [
            "range(6, 11)\n"
          ]
        }
      ]
    },
    {
      "cell_type": "code",
      "source": [
        "train_accuracy(model, train_data, validation_data, LR, EPOCHS,checkpoint_path, best_model, valid_accuracy_max)"
      ],
      "metadata": {
        "id": "Lmg7mjPf2kCG",
        "colab": {
          "base_uri": "https://localhost:8080/"
        },
        "outputId": "29bce53c-cc55-4d38-e300-5269a6f117b9"
      },
      "execution_count": null,
      "outputs": [
        {
          "output_type": "stream",
          "name": "stderr",
          "text": [
            "100%|██████████| 8750/8750 [58:21<00:00,  2.50it/s]\n"
          ]
        },
        {
          "output_type": "stream",
          "name": "stdout",
          "text": [
            "Epochs: 6 | Train Loss:  0.069                 | Train Accuracy:  0.878                 | Val Loss:  0.111                 | Val Accuracy:  0.833\n",
            "Validation Accuracy increased (0.830000 --> 0.833200).  Saving model ...\n"
          ]
        },
        {
          "output_type": "stream",
          "name": "stderr",
          "text": [
            "100%|██████████| 8750/8750 [58:28<00:00,  2.49it/s]\n"
          ]
        },
        {
          "output_type": "stream",
          "name": "stdout",
          "text": [
            "Epochs: 7 | Train Loss:  0.062                 | Train Accuracy:  0.893                 | Val Loss:  0.113                 | Val Accuracy:  0.840\n",
            "Validation Accuracy increased (0.833200 --> 0.839800).  Saving model ...\n"
          ]
        },
        {
          "output_type": "stream",
          "name": "stderr",
          "text": [
            "100%|██████████| 8750/8750 [58:21<00:00,  2.50it/s]\n"
          ]
        },
        {
          "output_type": "stream",
          "name": "stdout",
          "text": [
            "Epochs: 8 | Train Loss:  0.055                 | Train Accuracy:  0.906                 | Val Loss:  0.128                 | Val Accuracy:  0.840\n"
          ]
        },
        {
          "output_type": "stream",
          "name": "stderr",
          "text": [
            "100%|██████████| 8750/8750 [58:15<00:00,  2.50it/s]\n"
          ]
        },
        {
          "output_type": "stream",
          "name": "stdout",
          "text": [
            "Epochs: 9 | Train Loss:  0.051                 | Train Accuracy:  0.913                 | Val Loss:  0.161                 | Val Accuracy:  0.839\n"
          ]
        },
        {
          "output_type": "stream",
          "name": "stderr",
          "text": [
            "100%|██████████| 8750/8750 [58:11<00:00,  2.51it/s]\n"
          ]
        },
        {
          "output_type": "stream",
          "name": "stdout",
          "text": [
            "Epochs: 10 | Train Loss:  0.048                 | Train Accuracy:  0.915                 | Val Loss:  0.161                 | Val Accuracy:  0.840\n",
            "Validation Accuracy increased (0.839800 --> 0.840000).  Saving model ...\n"
          ]
        }
      ]
    },
    {
      "cell_type": "code",
      "source": [
        "val_acc=[0.742600,0.798800,0.801800,0.820400,0.83,0.833200,0.839800,0.8396,0.839,0.840]\n",
        "train_acc=[0.594,0.771,0.809,0.838,0.870,0.878,0.893,0.906,0.913,0.915]"
      ],
      "metadata": {
        "id": "OlWm6UX9SKua"
      },
      "execution_count": null,
      "outputs": []
    },
    {
      "cell_type": "code",
      "source": [
        "plt.plot(range(1,11), val_acc, label='Validation Accuracy')\n",
        "plt.plot(range(1,11), train_acc, label='Training Accuracy')\n",
        "plt.legend()\n",
        "plt.xlabel('Epochs')\n",
        "plt.ylabel('Validation Accuracy and Training Accuracy')\n",
        "plt.title('Accuracy vs Epochs')\n",
        "plt.show()"
      ],
      "metadata": {
        "id": "TTwsVOCqUEjC",
        "outputId": "6be66ebc-e610-46d1-dcbf-4ec9577ff1a9",
        "colab": {
          "base_uri": "https://localhost:8080/",
          "height": 295
        }
      },
      "execution_count": null,
      "outputs": [
        {
          "output_type": "display_data",
          "data": {
            "text/plain": [
              "<Figure size 432x288 with 1 Axes>"
            ],
            "image/png": "[encoded data removed]"
          },
          "metadata": {
            "needs_background": "light"
          }
        }
      ]
    },
    {
      "cell_type": "markdown",
      "source": [
        "### 1e-5"
      ],
      "metadata": {
        "id": "66p8H6Zt_OP0"
      }
    },
    {
      "cell_type": "code",
      "source": [
        "model = BertClassifier()\n",
        "LR = 1e-5\n",
        "optimizer = Adam(model.parameters(), lr= LR)\n",
        "checkpoint_path = '/content/drive/MyDrive/bert/checkpointsaccbonus2/check.pt'\n",
        "best_model = '/content/drive/MyDrive/bert/bestmodelaccbonus2/model.pt'"
      ],
      "metadata": {
        "id": "J9z3XwX4w_5g",
        "colab": {
          "base_uri": "https://localhost:8080/"
        },
        "outputId": "b2732fb7-5022-48a9-a742-576dbe7eacc0"
      },
      "execution_count": null,
      "outputs": [
        {
          "output_type": "stream",
          "name": "stderr",
          "text": [
            "Some weights of the model checkpoint at bert-base-cased were not used when initializing BertModel: ['cls.predictions.decoder.weight', 'cls.seq_relationship.bias', 'cls.predictions.transform.LayerNorm.bias', 'cls.seq_relationship.weight', 'cls.predictions.bias', 'cls.predictions.transform.LayerNorm.weight', 'cls.predictions.transform.dense.weight', 'cls.predictions.transform.dense.bias']\n",
            "- This IS expected if you are initializing BertModel from the checkpoint of a model trained on another task or with another architecture (e.g. initializing a BertForSequenceClassification model from a BertForPreTraining model).\n",
            "- This IS NOT expected if you are initializing BertModel from the checkpoint of a model that you expect to be exactly identical (initializing a BertForSequenceClassification model from a BertForSequenceClassification model).\n"
          ]
        }
      ]
    },
    {
      "cell_type": "code",
      "source": [
        "train_accuracy(model, train_data, validation_data, LR, epochs,checkpoint_path, best_model, -np.inf)"
      ],
      "metadata": {
        "id": "UNG_Ru_qxO-8",
        "colab": {
          "base_uri": "https://localhost:8080/"
        },
        "outputId": "4641b213-b37e-4e96-b0b5-32ba699c1d45"
      },
      "execution_count": null,
      "outputs": [
        {
          "metadata": {
            "tags": null
          },
          "name": "stderr",
          "output_type": "stream",
          "text": [
            "100%|██████████| 8750/8750 [54:55<00:00,  2.66it/s]\n"
          ]
        },
        {
          "metadata": {
            "tags": null
          },
          "name": "stdout",
          "output_type": "stream",
          "text": [
            "Epochs: 1 | Train Loss:  0.173                 | Train Accuracy:  0.500                 | Val Loss:  0.173                 | Val Accuracy:  0.500\n",
            "Validation Accuracy increased (-inf --> 0.500000).  Saving model ...\n"
          ]
        },
        {
          "metadata": {
            "tags": null
          },
          "name": "stderr",
          "output_type": "stream",
          "text": [
            "100%|██████████| 8750/8750 [54:36<00:00,  2.67it/s]\n"
          ]
        },
        {
          "metadata": {
            "tags": null
          },
          "name": "stdout",
          "output_type": "stream",
          "text": [
            "Epochs: 2 | Train Loss:  0.173                 | Train Accuracy:  0.500                 | Val Loss:  0.174                 | Val Accuracy:  0.499\n"
          ]
        },
        {
          "metadata": {
            "tags": null
          },
          "name": "stderr",
          "output_type": "stream",
          "text": [
            "100%|██████████| 8750/8750 [54:32<00:00,  2.67it/s]\n"
          ]
        },
        {
          "metadata": {
            "tags": null
          },
          "name": "stdout",
          "output_type": "stream",
          "text": [
            "Epochs: 3 | Train Loss:  0.173                 | Train Accuracy:  0.499                 | Val Loss:  0.173                 | Val Accuracy:  0.501\n",
            "Validation Accuracy increased (0.500000 --> 0.501000).  Saving model ...\n"
          ]
        },
        {
          "output_type": "stream",
          "name": "stderr",
          "text": [
            " 95%|█████████▍| 8288/8750 [51:38<02:52,  2.68it/s]"
          ]
        }
      ]
    },
    {
      "cell_type": "code",
      "source": [
        "# reload ckp and start training from the last epoch\n",
        "model = BertClassifier()\n",
        "optimizer = Adam(model.parameters(), lr= LR)\n",
        "_,_, _, valid_accuracy_max,_ = load_model_accuracy(best_model, model, optimizer)\n",
        "model = BertClassifier()\n",
        "optimizer = Adam(model.parameters(), lr= LR)\n",
        "model, optimizer, start_epoch,_, LR = load_ckp_accuracy(checkpoint_path, model, optimizer)\n",
        "EPOCHS = range(start_epoch+1,11)\n",
        "print(EPOCHS)"
      ],
      "metadata": {
        "id": "41WrcJtAxTAB",
        "colab": {
          "base_uri": "https://localhost:8080/"
        },
        "outputId": "9eaf3b7a-e0cf-46d4-b6dc-9486750d4e66"
      },
      "execution_count": null,
      "outputs": [
        {
          "output_type": "stream",
          "name": "stderr",
          "text": [
            "Some weights of the model checkpoint at bert-base-cased were not used when initializing BertModel: ['cls.predictions.bias', 'cls.predictions.transform.LayerNorm.weight', 'cls.seq_relationship.weight', 'cls.seq_relationship.bias', 'cls.predictions.transform.dense.weight', 'cls.predictions.decoder.weight', 'cls.predictions.transform.LayerNorm.bias', 'cls.predictions.transform.dense.bias']\n",
            "- This IS expected if you are initializing BertModel from the checkpoint of a model trained on another task or with another architecture (e.g. initializing a BertForSequenceClassification model from a BertForPreTraining model).\n",
            "- This IS NOT expected if you are initializing BertModel from the checkpoint of a model that you expect to be exactly identical (initializing a BertForSequenceClassification model from a BertForSequenceClassification model).\n",
            "Some weights of the model checkpoint at bert-base-cased were not used when initializing BertModel: ['cls.predictions.bias', 'cls.predictions.transform.LayerNorm.weight', 'cls.seq_relationship.weight', 'cls.seq_relationship.bias', 'cls.predictions.transform.dense.weight', 'cls.predictions.decoder.weight', 'cls.predictions.transform.LayerNorm.bias', 'cls.predictions.transform.dense.bias']\n",
            "- This IS expected if you are initializing BertModel from the checkpoint of a model trained on another task or with another architecture (e.g. initializing a BertForSequenceClassification model from a BertForPreTraining model).\n",
            "- This IS NOT expected if you are initializing BertModel from the checkpoint of a model that you expect to be exactly identical (initializing a BertForSequenceClassification model from a BertForSequenceClassification model).\n"
          ]
        },
        {
          "output_type": "stream",
          "name": "stdout",
          "text": [
            "range(4, 11)\n"
          ]
        }
      ]
    },
    {
      "cell_type": "code",
      "source": [
        "train_accuracy(model, train_data, validation_data, LR, EPOCHS,checkpoint_path, best_model, valid_accuracy_max)"
      ],
      "metadata": {
        "id": "02SvOs8IxXaj",
        "colab": {
          "base_uri": "https://localhost:8080/"
        },
        "outputId": "7f9ca409-06fe-45ac-d17d-1587830e5ba2"
      },
      "execution_count": null,
      "outputs": [
        {
          "metadata": {
            "tags": null
          },
          "name": "stderr",
          "output_type": "stream",
          "text": [
            "100%|██████████| 8750/8750 [53:52<00:00,  2.71it/s]\n"
          ]
        },
        {
          "metadata": {
            "tags": null
          },
          "name": "stdout",
          "output_type": "stream",
          "text": [
            "Epochs: 4 | Train Loss:  0.173                 | Train Accuracy:  0.500                 | Val Loss:  0.173                 | Val Accuracy:  0.501\n",
            "Validation Accuracy increased (0.501000 --> 0.501200).  Saving model ...\n"
          ]
        },
        {
          "metadata": {
            "tags": null
          },
          "name": "stderr",
          "output_type": "stream",
          "text": [
            "100%|██████████| 8750/8750 [53:45<00:00,  2.71it/s]\n"
          ]
        },
        {
          "metadata": {
            "tags": null
          },
          "name": "stdout",
          "output_type": "stream",
          "text": [
            "Epochs: 5 | Train Loss:  0.173                 | Train Accuracy:  0.500                 | Val Loss:  0.173                 | Val Accuracy:  0.501\n"
          ]
        },
        {
          "output_type": "stream",
          "name": "stderr",
          "text": [
            " 58%|█████▊    | 5106/8750 [31:22<22:24,  2.71it/s]"
          ]
        }
      ]
    },
    {
      "cell_type": "code",
      "source": [
        "# reload ckp and start training from the last epoch\n",
        "model = BertClassifier()\n",
        "optimizer = Adam(model.parameters(), lr= LR)\n",
        "_,_, _, valid_accuracy_max,_ = load_model_accuracy(best_model, model, optimizer)\n",
        "model = BertClassifier()\n",
        "optimizer = Adam(model.parameters(), lr= LR)\n",
        "model, optimizer, start_epoch,_, LR = load_ckp_accuracy(checkpoint_path, model, optimizer)\n",
        "EPOCHS = range(start_epoch+1,11)\n",
        "print(EPOCHS)"
      ],
      "metadata": {
        "colab": {
          "base_uri": "https://localhost:8080/"
        },
        "id": "7sq6LyeloemG",
        "outputId": "c766ba1f-725c-4049-c9d6-17b0a3ac0a1f"
      },
      "execution_count": null,
      "outputs": [
        {
          "output_type": "stream",
          "name": "stderr",
          "text": [
            "Some weights of the model checkpoint at bert-base-cased were not used when initializing BertModel: ['cls.predictions.transform.dense.weight', 'cls.seq_relationship.weight', 'cls.predictions.transform.LayerNorm.bias', 'cls.predictions.bias', 'cls.seq_relationship.bias', 'cls.predictions.transform.dense.bias', 'cls.predictions.transform.LayerNorm.weight', 'cls.predictions.decoder.weight']\n",
            "- This IS expected if you are initializing BertModel from the checkpoint of a model trained on another task or with another architecture (e.g. initializing a BertForSequenceClassification model from a BertForPreTraining model).\n",
            "- This IS NOT expected if you are initializing BertModel from the checkpoint of a model that you expect to be exactly identical (initializing a BertForSequenceClassification model from a BertForSequenceClassification model).\n",
            "Some weights of the model checkpoint at bert-base-cased were not used when initializing BertModel: ['cls.predictions.transform.dense.weight', 'cls.seq_relationship.weight', 'cls.predictions.transform.LayerNorm.bias', 'cls.predictions.bias', 'cls.seq_relationship.bias', 'cls.predictions.transform.dense.bias', 'cls.predictions.transform.LayerNorm.weight', 'cls.predictions.decoder.weight']\n",
            "- This IS expected if you are initializing BertModel from the checkpoint of a model trained on another task or with another architecture (e.g. initializing a BertForSequenceClassification model from a BertForPreTraining model).\n",
            "- This IS NOT expected if you are initializing BertModel from the checkpoint of a model that you expect to be exactly identical (initializing a BertForSequenceClassification model from a BertForSequenceClassification model).\n"
          ]
        },
        {
          "output_type": "stream",
          "name": "stdout",
          "text": [
            "range(6, 11)\n"
          ]
        }
      ]
    },
    {
      "cell_type": "code",
      "source": [
        "train_accuracy(model, train_data, validation_data, LR, EPOCHS,checkpoint_path, best_model, valid_accuracy_max)"
      ],
      "metadata": {
        "colab": {
          "base_uri": "https://localhost:8080/"
        },
        "id": "mSZ2QHvYohA8",
        "outputId": "a42841ce-7190-4a90-e541-3456b41c7568"
      },
      "execution_count": null,
      "outputs": [
        {
          "output_type": "stream",
          "name": "stderr",
          "text": [
            "100%|██████████| 8750/8750 [54:41<00:00,  2.67it/s]\n"
          ]
        },
        {
          "output_type": "stream",
          "name": "stdout",
          "text": [
            "Epochs: 6 | Train Loss:  0.173                 | Train Accuracy:  0.500                 | Val Loss:  0.173                 | Val Accuracy:  0.500\n"
          ]
        },
        {
          "output_type": "stream",
          "name": "stderr",
          "text": [
            "100%|██████████| 8750/8750 [54:38<00:00,  2.67it/s]\n"
          ]
        },
        {
          "output_type": "stream",
          "name": "stdout",
          "text": [
            "Epochs: 7 | Train Loss:  0.173                 | Train Accuracy:  0.500                 | Val Loss:  0.173                 | Val Accuracy:  0.500\n"
          ]
        },
        {
          "output_type": "stream",
          "name": "stderr",
          "text": [
            "100%|██████████| 8750/8750 [54:38<00:00,  2.67it/s]\n"
          ]
        },
        {
          "output_type": "stream",
          "name": "stdout",
          "text": [
            "Epochs: 8 | Train Loss:  0.173                 | Train Accuracy:  0.499                 | Val Loss:  0.173                 | Val Accuracy:  0.500\n"
          ]
        },
        {
          "output_type": "stream",
          "name": "stderr",
          "text": [
            " 82%|████████▏ | 7187/8750 [44:52<09:44,  2.67it/s]"
          ]
        }
      ]
    },
    {
      "cell_type": "code",
      "source": [
        "# reload ckp and start training from the last epoch\n",
        "model = BertClassifier()\n",
        "optimizer = Adam(model.parameters(), lr= LR)\n",
        "_,_, _, valid_accuracy_max,_ = load_model_accuracy(best_model, model, optimizer)\n",
        "model = BertClassifier()\n",
        "optimizer = Adam(model.parameters(), lr= LR)\n",
        "model, optimizer, start_epoch,_, LR = load_ckp_accuracy(checkpoint_path, model, optimizer)\n",
        "EPOCHS = range(start_epoch+1,11)\n",
        "print(EPOCHS)"
      ],
      "metadata": {
        "colab": {
          "base_uri": "https://localhost:8080/"
        },
        "id": "iU_is1B6j22R",
        "outputId": "84a007fd-5031-40e7-cd7f-b52f05b9fe93"
      },
      "execution_count": null,
      "outputs": [
        {
          "output_type": "stream",
          "name": "stderr",
          "text": [
            "Some weights of the model checkpoint at bert-base-cased were not used when initializing BertModel: ['cls.predictions.decoder.weight', 'cls.seq_relationship.bias', 'cls.predictions.transform.LayerNorm.bias', 'cls.seq_relationship.weight', 'cls.predictions.bias', 'cls.predictions.transform.LayerNorm.weight', 'cls.predictions.transform.dense.weight', 'cls.predictions.transform.dense.bias']\n",
            "- This IS expected if you are initializing BertModel from the checkpoint of a model trained on another task or with another architecture (e.g. initializing a BertForSequenceClassification model from a BertForPreTraining model).\n",
            "- This IS NOT expected if you are initializing BertModel from the checkpoint of a model that you expect to be exactly identical (initializing a BertForSequenceClassification model from a BertForSequenceClassification model).\n",
            "Some weights of the model checkpoint at bert-base-cased were not used when initializing BertModel: ['cls.predictions.decoder.weight', 'cls.seq_relationship.bias', 'cls.predictions.transform.LayerNorm.bias', 'cls.seq_relationship.weight', 'cls.predictions.bias', 'cls.predictions.transform.LayerNorm.weight', 'cls.predictions.transform.dense.weight', 'cls.predictions.transform.dense.bias']\n",
            "- This IS expected if you are initializing BertModel from the checkpoint of a model trained on another task or with another architecture (e.g. initializing a BertForSequenceClassification model from a BertForPreTraining model).\n",
            "- This IS NOT expected if you are initializing BertModel from the checkpoint of a model that you expect to be exactly identical (initializing a BertForSequenceClassification model from a BertForSequenceClassification model).\n"
          ]
        },
        {
          "output_type": "stream",
          "name": "stdout",
          "text": [
            "range(9, 11)\n"
          ]
        }
      ]
    },
    {
      "cell_type": "code",
      "source": [
        "train_accuracy(model, train_data, validation_data, LR, EPOCHS,checkpoint_path, best_model, valid_accuracy_max)"
      ],
      "metadata": {
        "colab": {
          "base_uri": "https://localhost:8080/"
        },
        "id": "0w_P0GIPj4rY",
        "outputId": "2ba1a78c-e19d-470b-d54e-f913e8b2410d"
      },
      "execution_count": null,
      "outputs": [
        {
          "output_type": "stream",
          "name": "stderr",
          "text": [
            "100%|██████████| 8750/8750 [56:06<00:00,  2.60it/s]\n"
          ]
        },
        {
          "output_type": "stream",
          "name": "stdout",
          "text": [
            "Epochs: 9 | Train Loss:  0.173                 | Train Accuracy:  0.500                 | Val Loss:  0.174                 | Val Accuracy:  0.498\n"
          ]
        },
        {
          "output_type": "stream",
          "name": "stderr",
          "text": [
            "100%|██████████| 8750/8750 [56:01<00:00,  2.60it/s]\n"
          ]
        },
        {
          "output_type": "stream",
          "name": "stdout",
          "text": [
            "Epochs: 10 | Train Loss:  0.173                 | Train Accuracy:  0.499                 | Val Loss:  0.173                 | Val Accuracy:  0.499\n"
          ]
        }
      ]
    },
    {
      "cell_type": "code",
      "source": [
        "val_acc=[0.500,0.499,0.501,0.501,0.501,0.500,0.500,0.500,0.4982, 0.499]\n",
        "train_acc=[ 0.500, 0.500,0.499, 0.500, 0.500, 0.500, 0.500,0.499, 0.500,0.499]\n"
      ],
      "metadata": {
        "id": "xzCpCRNhDx2-"
      },
      "execution_count": null,
      "outputs": []
    },
    {
      "cell_type": "code",
      "source": [
        "plt.plot(range(1,11), val_acc, label='Validation Accuracy')\n",
        "plt.plot(range(1,11), train_acc, label='Training Accuracy')\n",
        "plt.legend()\n",
        "plt.xlabel('Epochs')\n",
        "plt.ylabel('Validation Accuracy and Training Accuracy')\n",
        "plt.title('Accuracy vs Epochs')\n",
        "plt.show()"
      ],
      "metadata": {
        "colab": {
          "base_uri": "https://localhost:8080/",
          "height": 295
        },
        "id": "_cbLX-Z_EmFi",
        "outputId": "9909d175-8056-4d88-a863-dfb261c9ac6b"
      },
      "execution_count": null,
      "outputs": [
        {
          "output_type": "display_data",
          "data": {
            "text/plain": [
              "<Figure size 432x288 with 1 Axes>"
            ],
            "image/png": "[encoded data removed]"
          },
          "metadata": {
            "needs_background": "light"
          }
        }
      ]
    },
    {
      "cell_type": "markdown",
      "source": [
        "### Best from all lr"
      ],
      "metadata": {
        "id": "JB-O0wNlMhAA"
      }
    },
    {
      "cell_type": "code",
      "source": [
        "# for 5e-6 to be added by mariem\n",
        "val_acc_5e6=[0.742600,0.798800,0.801800,0.820400,0.83,0.833200,0.839800,0.8396,0.839,0.840] \n",
        "# for 1e-5\n",
        "val_acc_1e5=[0.500,0.499,0.501,0.501,0.501,0.500,0.500,0.500,0.4982, 0.499]\n",
        "# for 1e-6\n",
        "val_acc_1e6=[0.522400,0.648200,0.671400,0.682800,0.704400,0.725400,0.744200,0.764000,0.758,0.769000] \n",
        "\n",
        "\n",
        "#get max validation accuracy for each learning rate\n",
        "# max_val_acc=[max(val_acc_1e5),max(val_acc_1e6)]\n",
        "max_val_acc=[max(val_acc_5e6),max(val_acc_1e5),max(val_acc_1e6)]"
      ],
      "metadata": {
        "id": "QDt68QpkMi5q"
      },
      "execution_count": null,
      "outputs": []
    },
    {
      "cell_type": "code",
      "source": [
        "# plot max validation accuracy for each learning rate\n",
        "lr=['5e-6','1e-5','1e-6']\n",
        "# lr=['1e-5','1e-6']\n",
        "plt.plot(lr, max_val_acc, label='Validation Accuracy')\n",
        "plt.xlabel('Learning Rate')\n",
        "plt.ylabel('Validation Accuracy')\n",
        "plt.title('Validation Accuracy vs Learning Rate')\n",
        "plt.show()"
      ],
      "metadata": {
        "colab": {
          "base_uri": "https://localhost:8080/",
          "height": 295
        },
        "id": "Bi8yayRcM_zx",
        "outputId": "33b9ad8b-fc8a-4ebe-9ecd-06d8ffad80c3"
      },
      "execution_count": null,
      "outputs": [
        {
          "output_type": "display_data",
          "data": {
            "text/plain": [
              "<Figure size 432x288 with 1 Axes>"
            ],
            "image/png": "[encoded data removed]"
          },
          "metadata": {
            "needs_background": "light"
          }
        }
      ]
    },
    {
      "cell_type": "markdown",
      "source": [
        "### Best Model"
      ],
      "metadata": {
        "id": "1c4Xv-wcNa-F"
      }
    },
    {
      "cell_type": "code",
      "source": [
        "# reload ckp and start training from the last epoch\n",
        "model = BertClassifier()\n",
        "LR = 5e-6\n",
        "optimizer = Adam(model.parameters(), lr= LR)\n",
        "best_model = '/content/drive/MyDrive/bonusnadasedition/bestmodelacc/model.pt'\n",
        "model, optimizer, best_epoch,valid_accuracy_max, LR= load_model_accuracy(best_model, model, optimizer)"
      ],
      "metadata": {
        "colab": {
          "base_uri": "https://localhost:8080/"
        },
        "outputId": "244aa430-1903-4265-ca68-07c89348d5e3",
        "id": "ck8BskCmPzGi"
      },
      "execution_count": null,
      "outputs": [
        {
          "output_type": "stream",
          "name": "stderr",
          "text": [
            "Some weights of the model checkpoint at bert-base-cased were not used when initializing BertModel: ['cls.predictions.transform.dense.weight', 'cls.predictions.transform.LayerNorm.bias', 'cls.predictions.bias', 'cls.seq_relationship.bias', 'cls.predictions.transform.LayerNorm.weight', 'cls.seq_relationship.weight', 'cls.predictions.transform.dense.bias', 'cls.predictions.decoder.weight']\n",
            "- This IS expected if you are initializing BertModel from the checkpoint of a model trained on another task or with another architecture (e.g. initializing a BertForSequenceClassification model from a BertForPreTraining model).\n",
            "- This IS NOT expected if you are initializing BertModel from the checkpoint of a model that you expect to be exactly identical (initializing a BertForSequenceClassification model from a BertForSequenceClassification model).\n"
          ]
        }
      ]
    },
    {
      "cell_type": "code",
      "source": [
        "LR"
      ],
      "metadata": {
        "colab": {
          "base_uri": "https://localhost:8080/"
        },
        "outputId": "df09cb0e-af37-43e4-b20f-fb1ac1df2559",
        "id": "LiXXnBkRPzGj"
      },
      "execution_count": null,
      "outputs": [
        {
          "output_type": "execute_result",
          "data": {
            "text/plain": [
              "5e-06"
            ]
          },
          "metadata": {},
          "execution_count": 41
        }
      ]
    },
    {
      "cell_type": "code",
      "source": [
        "best_epoch"
      ],
      "metadata": {
        "colab": {
          "base_uri": "https://localhost:8080/"
        },
        "outputId": "a03813d4-4032-4c90-b0d0-f7f6912c44ad",
        "id": "dng-q3nBPzGj"
      },
      "execution_count": null,
      "outputs": [
        {
          "output_type": "execute_result",
          "data": {
            "text/plain": [
              "10"
            ]
          },
          "metadata": {},
          "execution_count": 42
        }
      ]
    },
    {
      "cell_type": "code",
      "source": [
        "valid_accuracy_max"
      ],
      "metadata": {
        "colab": {
          "base_uri": "https://localhost:8080/"
        },
        "outputId": "4c0f9f18-c2d9-46bf-e233-c011613f89be",
        "id": "wGzF4r7KPzGk"
      },
      "execution_count": null,
      "outputs": [
        {
          "output_type": "execute_result",
          "data": {
            "text/plain": [
              "0.84"
            ]
          },
          "metadata": {},
          "execution_count": 43
        }
      ]
    },
    {
      "cell_type": "code",
      "source": [
        "evaluate(model, test_data)"
      ],
      "metadata": {
        "colab": {
          "base_uri": "https://localhost:8080/"
        },
        "id": "ZMxqoEETPzGl",
        "outputId": "a3188086-b13b-4b41-de72-bf60058b23f7"
      },
      "execution_count": null,
      "outputs": [
        {
          "output_type": "stream",
          "name": "stdout",
          "text": [
            "Test Accuracy:  0.840\n"
          ]
        }
      ]
    },
    {
      "cell_type": "code",
      "source": [
        "conf_mat(test_labels,pred_labels)"
      ],
      "metadata": {
        "colab": {
          "base_uri": "https://localhost:8080/",
          "height": 358
        },
        "id": "nQz4qq6DPzGl",
        "outputId": "4ec8b46e-5c0b-4d15-aaec-275fa7b1c377"
      },
      "execution_count": null,
      "outputs": [
        {
          "output_type": "display_data",
          "data": {
            "text/plain": [
              "<Figure size 360x360 with 1 Axes>"
            ],
            "image/png": "[encoded data removed]"
          },
          "metadata": {
            "needs_background": "light"
          }
        }
      ]
    },
    {
      "cell_type": "code",
      "source": [
        "def evalscore(tp,tn,fp,fn):\n",
        "  precision=tp/(tp+fp)\n",
        "  recall=tp/(tp+fn)\n",
        "  specificity=tn/(tn+fp)\n",
        "  f1=(2*precision*recall)/(precision+recall)\n",
        "\n",
        "  print(f'F1-score:    {f1:.3f}')\n",
        "  print(f'Precision:   {precision:.3f}')\n",
        "  print(f'Recall:      {recall:.3f}')\n",
        "  print(f'Specificity: {specificity:.3f}')"
      ],
      "metadata": {
        "id": "6q4Ir-cgvLGg"
      },
      "execution_count": null,
      "outputs": []
    },
    {
      "cell_type": "code",
      "source": [
        "tp=4884\n",
        "tn=7535\n",
        "fp=2465\n",
        "fn=504\n",
        "\n",
        "evalscore(tp,tn,fp,fn)"
      ],
      "metadata": {
        "colab": {
          "base_uri": "https://localhost:8080/"
        },
        "id": "hFXSwIhwvMNT",
        "outputId": "801a39d1-533d-4280-f8c4-d1339d486f55"
      },
      "execution_count": null,
      "outputs": [
        {
          "output_type": "stream",
          "name": "stdout",
          "text": [
            "F1-score:    0.767\n",
            "Precision:   0.665\n",
            "Recall:      0.906\n",
            "Specificity: 0.753\n"
          ]
        }
      ]
    },
    {
      "cell_type": "markdown",
      "source": [
        "##768,32,128,512,128,32,2"
      ],
      "metadata": {
        "id": "lv-XMwZlct0a"
      }
    },
    {
      "cell_type": "code",
      "execution_count": null,
      "metadata": {
        "id": "NR5cxsP9jgE7"
      },
      "outputs": [],
      "source": [
        "from torch.nn.modules import linear\n",
        "from torch import nn\n",
        "from transformers import BertModel\n",
        "\n",
        "class BertClassifier(nn.Module):\n",
        "\n",
        "    def __init__(self, dropout=0.5):\n",
        "\n",
        "        super(BertClassifier, self).__init__()\n",
        "\n",
        "        self.bert = BertModel.from_pretrained('bert-base-cased')\n",
        "        self.dropout_1 = nn.Dropout(dropout)\n",
        "        self.linear_1 = nn.Linear(768,32)\n",
        "        self.dropout_2 = nn.Dropout(dropout)\n",
        "        self.linear_2 = nn.Linear(32, 128)\n",
        "        self.dropout_3 = nn.Dropout(dropout)\n",
        "        self.linear_3 = nn.Linear(128, 512)\n",
        "        self.dropout_4 = nn.Dropout(dropout)\n",
        "        self.linear_4= nn.Linear(512, 128)\n",
        "        self.dropout_5 = nn.Dropout(dropout)\n",
        "        self.linear_5= nn.Linear(128, 32)\n",
        "        self.dropout_6 = nn.Dropout(dropout)\n",
        "        self.linear_6= nn.Linear(32, 2)\n",
        "        self.relu = nn.ReLU()\n",
        "\n",
        "    def forward(self, input_id, mask):\n",
        "\n",
        "        _, pooled_output = self.bert(input_ids= input_id, attention_mask=mask,return_dict=False)\n",
        "        dropout_output = self.dropout_1(pooled_output)\n",
        "        linear_output_1 = self.linear_1(dropout_output)\n",
        "        dropout_output_1 = self.dropout_2(linear_output_1)\n",
        "        linear_output_2 = self.linear_2(dropout_output_1)\n",
        "        dropout_output_2 = self.dropout_3(linear_output_2)\n",
        "        linear_output_3 = self.linear_3(dropout_output_2)\n",
        "        dropout_output_3 = self.dropout_4(linear_output_3)\n",
        "        linear_output_4 = self.linear_4(dropout_output_3)\n",
        "        dropout_output_4 = self.dropout_5(linear_output_4)\n",
        "        linear_output_5 = self.linear_5(dropout_output_4)\n",
        "        dropout_output_5 = self.dropout_6(linear_output_5)\n",
        "        linear_output_6 = self.linear_6(dropout_output_5)\n",
        "        final_layer = self.relu(linear_output_6)\n",
        "\n",
        "        return final_layer"
      ]
    },
    {
      "cell_type": "markdown",
      "source": [
        "###1e-5"
      ],
      "metadata": {
        "id": "fLl8tCNVdEAV"
      }
    },
    {
      "cell_type": "code",
      "source": [
        "train_accuracy(model, train_data, validation_data, LR, epochs,checkpoint_path, best_model,-np.Inf)"
      ],
      "metadata": {
        "colab": {
          "base_uri": "https://localhost:8080/"
        },
        "outputId": "29e4c4c9-0900-4953-a94b-d953c11f9166",
        "id": "Mqev2cYukBpU"
      },
      "execution_count": null,
      "outputs": [
        {
          "metadata": {
            "tags": null
          },
          "name": "stderr",
          "output_type": "stream",
          "text": [
            "100%|██████████| 8750/8750 [54:48<00:00,  2.66it/s]\n"
          ]
        },
        {
          "metadata": {
            "tags": null
          },
          "name": "stdout",
          "output_type": "stream",
          "text": [
            "Epochs: 1 | Train Loss:  0.174                 | Train Accuracy:  0.499                 | Val Loss:  0.173                 | Val Accuracy:  0.499\n",
            "Validation Accuracy increased (-inf --> 0.498600).  Saving model ...\n"
          ]
        },
        {
          "metadata": {
            "tags": null
          },
          "name": "stderr",
          "output_type": "stream",
          "text": [
            "100%|██████████| 8750/8750 [54:05<00:00,  2.70it/s]\n"
          ]
        },
        {
          "metadata": {
            "tags": null
          },
          "name": "stdout",
          "output_type": "stream",
          "text": [
            "Epochs: 2 | Train Loss:  0.173                 | Train Accuracy:  0.500                 | Val Loss:  0.173                 | Val Accuracy:  0.499\n",
            "Validation Accuracy increased (0.498600 --> 0.498600).  Saving model ...\n"
          ]
        },
        {
          "metadata": {
            "tags": null
          },
          "name": "stderr",
          "output_type": "stream",
          "text": [
            "100%|██████████| 8750/8750 [53:52<00:00,  2.71it/s]\n"
          ]
        },
        {
          "metadata": {
            "tags": null
          },
          "name": "stdout",
          "output_type": "stream",
          "text": [
            "Epochs: 3 | Train Loss:  0.173                 | Train Accuracy:  0.502                 | Val Loss:  0.173                 | Val Accuracy:  0.502\n",
            "Validation Accuracy increased (0.498600 --> 0.501800).  Saving model ...\n"
          ]
        },
        {
          "metadata": {
            "tags": null
          },
          "name": "stderr",
          "output_type": "stream",
          "text": [
            "100%|██████████| 8750/8750 [53:40<00:00,  2.72it/s]\n"
          ]
        },
        {
          "metadata": {
            "tags": null
          },
          "name": "stdout",
          "output_type": "stream",
          "text": [
            "Epochs: 4 | Train Loss:  0.173                 | Train Accuracy:  0.500                 | Val Loss:  0.174                 | Val Accuracy:  0.499\n"
          ]
        },
        {
          "output_type": "stream",
          "name": "stderr",
          "text": [
            " 57%|█████▋    | 5014/8750 [30:42<22:56,  2.71it/s]"
          ]
        }
      ]
    },
    {
      "cell_type": "code",
      "source": [
        "model = BertClassifier()\n",
        "optimizer = Adam(model.parameters(), lr= LR)\n",
        "_ ,_ , _ , valid_accuracy_max, _ = load_model_accuracy(best_model, model, optimizer)\n",
        "model = BertClassifier()\n",
        "optimizer = Adam(model.parameters(), lr= LR)\n",
        "model, optimizer, start_epoch, _ , LR = load_ckp_accuracy(checkpoint_path, model, optimizer)\n",
        "epochs = range(start_epoch+1, 11)\n",
        "print(epochs)"
      ],
      "metadata": {
        "id": "A2EHGO5mI9xK",
        "colab": {
          "base_uri": "https://localhost:8080/"
        },
        "outputId": "91e26a25-1b77-41c8-ca6c-734ac8dfe62e"
      },
      "execution_count": null,
      "outputs": [
        {
          "output_type": "stream",
          "name": "stderr",
          "text": [
            "Some weights of the model checkpoint at bert-base-cased were not used when initializing BertModel: ['cls.seq_relationship.bias', 'cls.predictions.transform.LayerNorm.bias', 'cls.predictions.bias', 'cls.predictions.transform.dense.bias', 'cls.predictions.transform.LayerNorm.weight', 'cls.seq_relationship.weight', 'cls.predictions.decoder.weight', 'cls.predictions.transform.dense.weight']\n",
            "- This IS expected if you are initializing BertModel from the checkpoint of a model trained on another task or with another architecture (e.g. initializing a BertForSequenceClassification model from a BertForPreTraining model).\n",
            "- This IS NOT expected if you are initializing BertModel from the checkpoint of a model that you expect to be exactly identical (initializing a BertForSequenceClassification model from a BertForSequenceClassification model).\n",
            "Some weights of the model checkpoint at bert-base-cased were not used when initializing BertModel: ['cls.seq_relationship.bias', 'cls.predictions.transform.LayerNorm.bias', 'cls.predictions.bias', 'cls.predictions.transform.dense.bias', 'cls.predictions.transform.LayerNorm.weight', 'cls.seq_relationship.weight', 'cls.predictions.decoder.weight', 'cls.predictions.transform.dense.weight']\n",
            "- This IS expected if you are initializing BertModel from the checkpoint of a model trained on another task or with another architecture (e.g. initializing a BertForSequenceClassification model from a BertForPreTraining model).\n",
            "- This IS NOT expected if you are initializing BertModel from the checkpoint of a model that you expect to be exactly identical (initializing a BertForSequenceClassification model from a BertForSequenceClassification model).\n"
          ]
        },
        {
          "output_type": "stream",
          "name": "stdout",
          "text": [
            "range(5, 11)\n"
          ]
        }
      ]
    },
    {
      "cell_type": "code",
      "source": [
        "train_accuracy(model, train_data, validation_data, LR, epochs,checkpoint_path, best_model,valid_accuracy_max)"
      ],
      "metadata": {
        "id": "CIylRc6qI-XQ",
        "colab": {
          "base_uri": "https://localhost:8080/"
        },
        "outputId": "1a1c3140-bc5c-49a2-f7c4-612bad599f4a"
      },
      "execution_count": null,
      "outputs": [
        {
          "metadata": {
            "tags": null
          },
          "name": "stderr",
          "output_type": "stream",
          "text": [
            "100%|██████████| 8750/8750 [54:19<00:00,  2.68it/s]\n"
          ]
        },
        {
          "metadata": {
            "tags": null
          },
          "name": "stdout",
          "output_type": "stream",
          "text": [
            "Epochs: 5 | Train Loss:  0.173                 | Train Accuracy:  0.500                 | Val Loss:  0.173                 | Val Accuracy:  0.498\n"
          ]
        },
        {
          "metadata": {
            "tags": null
          },
          "name": "stderr",
          "output_type": "stream",
          "text": [
            "100%|██████████| 8750/8750 [54:25<00:00,  2.68it/s]\n"
          ]
        },
        {
          "metadata": {
            "tags": null
          },
          "name": "stdout",
          "output_type": "stream",
          "text": [
            "Epochs: 6 | Train Loss:  0.173                 | Train Accuracy:  0.500                 | Val Loss:  0.173                 | Val Accuracy:  0.504\n",
            "Validation Accuracy increased (0.501800 --> 0.504200).  Saving model ...\n"
          ]
        },
        {
          "metadata": {
            "tags": null
          },
          "name": "stderr",
          "output_type": "stream",
          "text": [
            "100%|██████████| 8750/8750 [54:24<00:00,  2.68it/s]\n"
          ]
        },
        {
          "metadata": {
            "tags": null
          },
          "name": "stdout",
          "output_type": "stream",
          "text": [
            "Epochs: 7 | Train Loss:  0.173                 | Train Accuracy:  0.500                 | Val Loss:  0.173                 | Val Accuracy:  0.500\n"
          ]
        },
        {
          "metadata": {
            "tags": null
          },
          "name": "stderr",
          "output_type": "stream",
          "text": [
            "100%|██████████| 8750/8750 [54:20<00:00,  2.68it/s]\n"
          ]
        },
        {
          "metadata": {
            "tags": null
          },
          "name": "stdout",
          "output_type": "stream",
          "text": [
            "Epochs: 8 | Train Loss:  0.173                 | Train Accuracy:  0.500                 | Val Loss:  0.173                 | Val Accuracy:  0.501\n"
          ]
        },
        {
          "metadata": {
            "tags": null
          },
          "name": "stderr",
          "output_type": "stream",
          "text": [
            "100%|██████████| 8750/8750 [54:19<00:00,  2.68it/s]\n"
          ]
        },
        {
          "metadata": {
            "tags": null
          },
          "name": "stdout",
          "output_type": "stream",
          "text": [
            "Epochs: 9 | Train Loss:  0.173                 | Train Accuracy:  0.500                 | Val Loss:  0.173                 | Val Accuracy:  0.499\n"
          ]
        },
        {
          "output_type": "stream",
          "name": "stderr",
          "text": [
            " 98%|█████████▊| 8563/8750 [53:09<01:09,  2.68it/s]"
          ]
        }
      ]
    },
    {
      "cell_type": "code",
      "source": [
        "model = BertClassifier()\n",
        "optimizer = Adam(model.parameters(), lr= LR)\n",
        "_ ,_ , _ , valid_accuracy_max, _ = load_model_accuracy(best_model, model, optimizer)\n",
        "model = BertClassifier()\n",
        "optimizer = Adam(model.parameters(), lr= LR)\n",
        "model, optimizer, start_epoch, _ , LR = load_ckp_accuracy(checkpoint_path, model, optimizer)\n",
        "epochs = range(start_epoch+1, 11)\n",
        "print(epochs)"
      ],
      "metadata": {
        "colab": {
          "base_uri": "https://localhost:8080/"
        },
        "id": "dkp9hQfxVpKo",
        "outputId": "17a715b3-8d0c-4f02-d2d4-d7e4c08fda38"
      },
      "execution_count": null,
      "outputs": [
        {
          "output_type": "stream",
          "name": "stdout",
          "text": [
            "Some weights of the model checkpoint at bert-base-cased were not used when initializing BertModel: ['cls.seq_relationship.bias', 'cls.predictions.transform.LayerNorm.bias', 'cls.predictions.bias', 'cls.predictions.transform.dense.bias', 'cls.predictions.transform.LayerNorm.weight', 'cls.seq_relationship.weight', 'cls.predictions.decoder.weight', 'cls.predictions.transform.dense.weight']\n",
            "- This IS expected if you are initializing BertModel from the checkpoint of a model trained on another task or with another architecture (e.g. initializing a BertForSequenceClassification model from a BertForPreTraining model).\n",
            "- This IS NOT expected if you are initializing BertModel from the checkpoint of a model that you expect to be exactly identical (initializing a BertForSequenceClassification model from a BertForSequenceClassification model).\n",
            "Some weights of the model checkpoint at bert-base-cased were not used when initializing BertModel: ['cls.seq_relationship.bias', 'cls.predictions.transform.LayerNorm.bias', 'cls.predictions.bias', 'cls.predictions.transform.dense.bias', 'cls.predictions.transform.LayerNorm.weight', 'cls.seq_relationship.weight', 'cls.predictions.decoder.weight', 'cls.predictions.transform.dense.weight']\n",
            "- This IS expected if you are initializing BertModel from the checkpoint of a model trained on another task or with another architecture (e.g. initializing a BertForSequenceClassification model from a BertForPreTraining model).\n",
            "- This IS NOT expected if you are initializing BertModel from the checkpoint of a model that you expect to be exactly identical (initializing a BertForSequenceClassification model from a BertForSequenceClassification model).\n",
            "range(10, 11)\n"
          ]
        }
      ]
    },
    {
      "cell_type": "code",
      "source": [
        "train_accuracy(model, train_data, validation_data, LR, epochs,checkpoint_path, best_model,valid_accuracy_max)"
      ],
      "metadata": {
        "colab": {
          "base_uri": "https://localhost:8080/"
        },
        "id": "1sexviI_VzEG",
        "outputId": "95a57625-5d90-4855-ce0c-dc245e14fc62"
      },
      "execution_count": null,
      "outputs": [
        {
          "output_type": "stream",
          "name": "stdout",
          "text": [
            "100%|██████████| 8750/8750 [54:24<00:00,  2.68it/s]\n",
            "Epochs: 10 | Train Loss:  0.173                 | Train Accuracy:  0.500                 | Val Loss:  0.173                 | Val Accuracy:  0.500\n"
          ]
        }
      ]
    },
    {
      "cell_type": "code",
      "source": [
        "val_acc=[0.499,0.499,0.502,0.499,0.498,0.504,0.500,0.501,0.499,0.500]\n",
        "train_acc=[0.500,0.500,0.500,0.500,0.500,0.500,0.500,0.500,0.500,0.500]"
      ],
      "metadata": {
        "id": "KYhBIz2mWYmo"
      },
      "execution_count": null,
      "outputs": []
    },
    {
      "cell_type": "code",
      "source": [
        "plt.plot(range(1,11), val_acc, label='Validation Accuracy')\n",
        "plt.plot(range(1,11), train_acc, label='Training Accuracy')\n",
        "plt.legend()\n",
        "plt.xlabel('Epochs')\n",
        "plt.ylabel('Validation Accuracy and Training Accuracy')\n",
        "plt.title('Accuracy vs Epochs')\n",
        "plt.show()"
      ],
      "metadata": {
        "colab": {
          "base_uri": "https://localhost:8080/",
          "height": 295
        },
        "id": "4Tpcvt2lW-g3",
        "outputId": "0c855003-b5e9-4100-b486-0380495d23e5"
      },
      "execution_count": null,
      "outputs": [
        {
          "output_type": "display_data",
          "data": {
            "text/plain": [
              "<Figure size 432x288 with 1 Axes>"
            ],
            "image/png": "[encoded data removed]"
          },
          "metadata": {
            "needs_background": "light"
          }
        }
      ]
    },
    {
      "cell_type": "markdown",
      "source": [],
      "metadata": {
        "id": "ca8Gj9TidAnj"
      }
    },
    {
      "cell_type": "markdown",
      "source": [
        "###1e-6"
      ],
      "metadata": {
        "id": "8Z8G-y7zc6wO"
      }
    },
    {
      "cell_type": "code",
      "source": [
        "train_accuracy(model, train_data, validation_data, LR, epochs,checkpoint_path, best_model,-np.Inf)"
      ],
      "metadata": {
        "colab": {
          "base_uri": "https://localhost:8080/"
        },
        "id": "mzcKalH_hs8X",
        "outputId": "39604496-ce55-429b-809f-3694a934e6cb"
      },
      "execution_count": null,
      "outputs": [
        {
          "metadata": {
            "tags": null
          },
          "name": "stderr",
          "output_type": "stream",
          "text": [
            "100%|██████████| 8750/8750 [56:38<00:00,  2.57it/s]\n"
          ]
        },
        {
          "metadata": {
            "tags": null
          },
          "name": "stdout",
          "output_type": "stream",
          "text": [
            "Epochs: 1 | Train Loss:  0.173                 | Train Accuracy:  0.526                 | Val Loss:  0.164                 | Val Accuracy:  0.661\n",
            "Validation Accuracy increased (-inf --> 0.660800).  Saving model ...\n"
          ]
        },
        {
          "metadata": {
            "tags": null
          },
          "name": "stderr",
          "output_type": "stream",
          "text": [
            "100%|██████████| 8750/8750 [56:45<00:00,  2.57it/s]\n"
          ]
        },
        {
          "metadata": {
            "tags": null
          },
          "name": "stdout",
          "output_type": "stream",
          "text": [
            "Epochs: 2 | Train Loss:  0.124                 | Train Accuracy:  0.820                 | Val Loss:  0.094                 | Val Accuracy:  0.876\n",
            "Validation Accuracy increased (0.660800 --> 0.875800).  Saving model ...\n"
          ]
        },
        {
          "metadata": {
            "tags": null
          },
          "name": "stderr",
          "output_type": "stream",
          "text": [
            "100%|██████████| 8750/8750 [56:48<00:00,  2.57it/s]\n"
          ]
        },
        {
          "output_type": "stream",
          "name": "stdout",
          "text": [
            "Epochs: 3 | Train Loss:  0.081                 | Train Accuracy:  0.895                 | Val Loss:  0.078                 | Val Accuracy:  0.890\n",
            "Validation Accuracy increased (0.875800 --> 0.889600).  Saving model ...\n"
          ]
        },
        {
          "output_type": "stream",
          "name": "stderr",
          "text": [
            " 67%|██████▋   | 5863/8750 [38:02<18:38,  2.58it/s]"
          ]
        }
      ]
    },
    {
      "cell_type": "code",
      "source": [
        "model = BertClassifier()\n",
        "optimizer = Adam(model.parameters(), lr= LR)\n",
        "_ ,_ , _ , valid_accuracy_max, _ = load_model_accuracy(best_model, model, optimizer)\n",
        "model = BertClassifier()\n",
        "optimizer = Adam(model.parameters(), lr= LR)\n",
        "model, optimizer, start_epoch, _ , LR = load_ckp_accuracy(checkpoint_path, model, optimizer)\n",
        "epochs = range(start_epoch+1, 11)\n",
        "print(epochs)"
      ],
      "metadata": {
        "colab": {
          "base_uri": "https://localhost:8080/"
        },
        "id": "Mp2vvZF_I2MD",
        "outputId": "7fcfa7b4-6e4d-4847-af64-1d78849190b0"
      },
      "execution_count": null,
      "outputs": [
        {
          "output_type": "stream",
          "name": "stderr",
          "text": [
            "Some weights of the model checkpoint at bert-base-cased were not used when initializing BertModel: ['cls.predictions.transform.dense.weight', 'cls.seq_relationship.bias', 'cls.seq_relationship.weight', 'cls.predictions.transform.LayerNorm.weight', 'cls.predictions.decoder.weight', 'cls.predictions.bias', 'cls.predictions.transform.dense.bias', 'cls.predictions.transform.LayerNorm.bias']\n",
            "- This IS expected if you are initializing BertModel from the checkpoint of a model trained on another task or with another architecture (e.g. initializing a BertForSequenceClassification model from a BertForPreTraining model).\n",
            "- This IS NOT expected if you are initializing BertModel from the checkpoint of a model that you expect to be exactly identical (initializing a BertForSequenceClassification model from a BertForSequenceClassification model).\n",
            "Some weights of the model checkpoint at bert-base-cased were not used when initializing BertModel: ['cls.predictions.transform.dense.weight', 'cls.seq_relationship.bias', 'cls.seq_relationship.weight', 'cls.predictions.transform.LayerNorm.weight', 'cls.predictions.decoder.weight', 'cls.predictions.bias', 'cls.predictions.transform.dense.bias', 'cls.predictions.transform.LayerNorm.bias']\n",
            "- This IS expected if you are initializing BertModel from the checkpoint of a model trained on another task or with another architecture (e.g. initializing a BertForSequenceClassification model from a BertForPreTraining model).\n",
            "- This IS NOT expected if you are initializing BertModel from the checkpoint of a model that you expect to be exactly identical (initializing a BertForSequenceClassification model from a BertForSequenceClassification model).\n"
          ]
        },
        {
          "output_type": "stream",
          "name": "stdout",
          "text": [
            "range(4, 11)\n"
          ]
        }
      ]
    },
    {
      "cell_type": "code",
      "source": [
        "train_accuracy(model, train_data, validation_data, LR, epochs,checkpoint_path, best_model,valid_accuracy_max)"
      ],
      "metadata": {
        "colab": {
          "base_uri": "https://localhost:8080/"
        },
        "id": "oDPTrrfaI3RX",
        "outputId": "94e5ed0e-0923-43e6-d850-10e2f882cb9c"
      },
      "execution_count": null,
      "outputs": [
        {
          "output_type": "stream",
          "name": "stderr",
          "text": [
            "100%|██████████| 8750/8750 [55:46<00:00,  2.61it/s]\n"
          ]
        },
        {
          "output_type": "stream",
          "name": "stdout",
          "text": [
            "Epochs: 4 | Train Loss:  0.062                 | Train Accuracy:  0.925                 | Val Loss:  0.075                 | Val Accuracy:  0.891\n",
            "Validation Accuracy increased (0.889600 --> 0.890600).  Saving model ...\n"
          ]
        },
        {
          "output_type": "stream",
          "name": "stderr",
          "text": [
            "100%|██████████| 8750/8750 [55:47<00:00,  2.61it/s]\n"
          ]
        },
        {
          "output_type": "stream",
          "name": "stdout",
          "text": [
            "Epochs: 5 | Train Loss:  0.047                 | Train Accuracy:  0.949                 | Val Loss:  0.078                 | Val Accuracy:  0.895\n",
            "Validation Accuracy increased (0.890600 --> 0.895400).  Saving model ...\n"
          ]
        },
        {
          "output_type": "stream",
          "name": "stderr",
          "text": [
            " 38%|███▊      | 3289/8750 [20:58<34:57,  2.60it/s]"
          ]
        }
      ]
    },
    {
      "cell_type": "code",
      "source": [
        "model = BertClassifier()\n",
        "optimizer = Adam(model.parameters(), lr= LR)\n",
        "_ ,_ , _ , valid_accuracy_max, _ = load_model_accuracy(best_model, model, optimizer)\n",
        "model = BertClassifier()\n",
        "optimizer = Adam(model.parameters(), lr= LR)\n",
        "model, optimizer, start_epoch, _ , LR = load_ckp_accuracy(checkpoint_path, model, optimizer)\n",
        "epochs = range(start_epoch+1, 11)\n",
        "print(epochs)"
      ],
      "metadata": {
        "colab": {
          "base_uri": "https://localhost:8080/"
        },
        "outputId": "8b56ea45-70d2-4669-a964-0a375a5bce51",
        "id": "ZoKLl2N_UUpe"
      },
      "execution_count": null,
      "outputs": [
        {
          "output_type": "stream",
          "name": "stderr",
          "text": [
            "Some weights of the model checkpoint at bert-base-cased were not used when initializing BertModel: ['cls.predictions.transform.dense.weight', 'cls.predictions.bias', 'cls.seq_relationship.bias', 'cls.predictions.transform.dense.bias', 'cls.predictions.decoder.weight', 'cls.predictions.transform.LayerNorm.bias', 'cls.seq_relationship.weight', 'cls.predictions.transform.LayerNorm.weight']\n",
            "- This IS expected if you are initializing BertModel from the checkpoint of a model trained on another task or with another architecture (e.g. initializing a BertForSequenceClassification model from a BertForPreTraining model).\n",
            "- This IS NOT expected if you are initializing BertModel from the checkpoint of a model that you expect to be exactly identical (initializing a BertForSequenceClassification model from a BertForSequenceClassification model).\n",
            "Some weights of the model checkpoint at bert-base-cased were not used when initializing BertModel: ['cls.predictions.transform.dense.weight', 'cls.predictions.bias', 'cls.seq_relationship.bias', 'cls.predictions.transform.dense.bias', 'cls.predictions.decoder.weight', 'cls.predictions.transform.LayerNorm.bias', 'cls.seq_relationship.weight', 'cls.predictions.transform.LayerNorm.weight']\n",
            "- This IS expected if you are initializing BertModel from the checkpoint of a model trained on another task or with another architecture (e.g. initializing a BertForSequenceClassification model from a BertForPreTraining model).\n",
            "- This IS NOT expected if you are initializing BertModel from the checkpoint of a model that you expect to be exactly identical (initializing a BertForSequenceClassification model from a BertForSequenceClassification model).\n"
          ]
        },
        {
          "output_type": "stream",
          "name": "stdout",
          "text": [
            "range(6, 11)\n"
          ]
        }
      ]
    },
    {
      "cell_type": "code",
      "source": [
        "train_accuracy(model, train_data, validation_data, LR, epochs,checkpoint_path, best_model,valid_accuracy_max)"
      ],
      "metadata": {
        "colab": {
          "base_uri": "https://localhost:8080/"
        },
        "id": "mhotRZFEM9we",
        "outputId": "30d809cc-ca28-4e03-dbaf-d28f0cbbc975"
      },
      "execution_count": null,
      "outputs": [
        {
          "metadata": {
            "tags": null
          },
          "name": "stderr",
          "output_type": "stream",
          "text": [
            "100%|██████████| 8750/8750 [57:47<00:00,  2.52it/s]\n"
          ]
        },
        {
          "metadata": {
            "tags": null
          },
          "name": "stdout",
          "output_type": "stream",
          "text": [
            "Epochs: 6 | Train Loss:  0.034                 | Train Accuracy:  0.968                 | Val Loss:  0.083                 | Val Accuracy:  0.895\n"
          ]
        },
        {
          "metadata": {
            "tags": null
          },
          "name": "stderr",
          "output_type": "stream",
          "text": [
            "100%|██████████| 8750/8750 [57:48<00:00,  2.52it/s]\n"
          ]
        },
        {
          "metadata": {
            "tags": null
          },
          "name": "stdout",
          "output_type": "stream",
          "text": [
            "Epochs: 7 | Train Loss:  0.024                 | Train Accuracy:  0.981                 | Val Loss:  0.107                 | Val Accuracy:  0.897\n",
            "Validation Accuracy increased (0.895400 --> 0.896600).  Saving model ...\n"
          ]
        },
        {
          "metadata": {
            "tags": null
          },
          "name": "stderr",
          "output_type": "stream",
          "text": [
            "100%|██████████| 8750/8750 [57:48<00:00,  2.52it/s]\n"
          ]
        },
        {
          "metadata": {
            "tags": null
          },
          "name": "stdout",
          "output_type": "stream",
          "text": [
            "Epochs: 8 | Train Loss:  0.017                 | Train Accuracy:  0.988                 | Val Loss:  0.127                 | Val Accuracy:  0.894\n"
          ]
        },
        {
          "output_type": "stream",
          "name": "stderr",
          "text": [
            "100%|██████████| 8750/8750 [57:46<00:00,  2.52it/s]\n"
          ]
        },
        {
          "output_type": "stream",
          "name": "stdout",
          "text": [
            "Epochs: 9 | Train Loss:  0.013                 | Train Accuracy:  0.992                 | Val Loss:  0.135                 | Val Accuracy:  0.891\n"
          ]
        },
        {
          "output_type": "stream",
          "name": "stderr",
          "text": [
            "100%|██████████| 8750/8750 [57:45<00:00,  2.52it/s]\n"
          ]
        },
        {
          "output_type": "stream",
          "name": "stdout",
          "text": [
            "Epochs: 10 | Train Loss:  0.010                 | Train Accuracy:  0.994                 | Val Loss:  0.136                 | Val Accuracy:  0.898\n",
            "Validation Accuracy increased (0.896600 --> 0.897800).  Saving model ...\n"
          ]
        }
      ]
    },
    {
      "cell_type": "code",
      "source": [
        "val_acc=[0.661,0.876,0.890,0.891,0.895,0.895,0.897,0.894,0.891,0.898]\n",
        "train_acc=[0.562,0.820,0.895,0.925,0.949,0.968,0.981,0.988,0.922,0.994]"
      ],
      "metadata": {
        "id": "SbQcLZmQXWJc"
      },
      "execution_count": null,
      "outputs": []
    },
    {
      "cell_type": "code",
      "source": [
        "plt.plot(range(1,11), val_acc, label='Validation Accuracy')\n",
        "plt.plot(range(1,11), train_acc, label='Training Accuracy')\n",
        "plt.legend()\n",
        "plt.xlabel('Epochs')\n",
        "plt.ylabel('Validation Accuracy and Training Accuracy')\n",
        "plt.title('Accuracy vs Epochs')\n",
        "plt.show()"
      ],
      "metadata": {
        "colab": {
          "base_uri": "https://localhost:8080/",
          "height": 295
        },
        "id": "GCEuFcU-XZrF",
        "outputId": "97f6e763-a640-413f-e923-6d60f482ec4e"
      },
      "execution_count": null,
      "outputs": [
        {
          "output_type": "display_data",
          "data": {
            "text/plain": [
              "<Figure size 432x288 with 1 Axes>"
            ],
            "image/png": "[encoded data removed]"
          },
          "metadata": {
            "needs_background": "light"
          }
        }
      ]
    },
    {
      "cell_type": "markdown",
      "source": [
        "###5e-6"
      ],
      "metadata": {
        "id": "sP_YzDixc9ac"
      }
    },
    {
      "cell_type": "code",
      "source": [],
      "metadata": {
        "id": "x0smuZ4BdAL7"
      },
      "execution_count": null,
      "outputs": []
    },
    {
      "cell_type": "code",
      "source": [
        "\n",
        "                  \n",
        "# EPOCHS = 5\n",
        "model = BertClassifier()\n",
        "LR = 5e-6\n",
        "checkpoint_path = '/content/drive/MyDrive/bert/checkpoints/check.pt'\n",
        "best_model = '/content/drive/MyDrive/bert/bestmodel/model.pt'"
      ],
      "metadata": {
        "colab": {
          "base_uri": "https://localhost:8080/"
        },
        "outputId": "4b496e6e-a9c3-4efa-937a-90015329287f",
        "id": "xIFri2rybA2n"
      },
      "execution_count": null,
      "outputs": [
        {
          "output_type": "stream",
          "name": "stderr",
          "text": [
            "Some weights of the model checkpoint at bert-base-cased were not used when initializing BertModel: ['cls.predictions.transform.dense.bias', 'cls.predictions.bias', 'cls.seq_relationship.weight', 'cls.predictions.decoder.weight', 'cls.seq_relationship.bias', 'cls.predictions.transform.LayerNorm.bias', 'cls.predictions.transform.dense.weight', 'cls.predictions.transform.LayerNorm.weight']\n",
            "- This IS expected if you are initializing BertModel from the checkpoint of a model trained on another task or with another architecture (e.g. initializing a BertForSequenceClassification model from a BertForPreTraining model).\n",
            "- This IS NOT expected if you are initializing BertModel from the checkpoint of a model that you expect to be exactly identical (initializing a BertForSequenceClassification model from a BertForSequenceClassification model).\n"
          ]
        }
      ]
    },
    {
      "cell_type": "code",
      "source": [
        "model = BertClassifier()\n",
        "optimizer = Adam(model.parameters(), lr= LR)\n",
        "train_accuracy(model, train_data, validation_data, LR, epochs,checkpoint_path, best_model, -np.inf)"
      ],
      "metadata": {
        "colab": {
          "base_uri": "https://localhost:8080/"
        },
        "outputId": "2e4f157d-145d-452c-9277-5cdc87edfde7",
        "id": "9i-guVf-bM8M"
      },
      "execution_count": null,
      "outputs": [
        {
          "metadata": {
            "tags": null
          },
          "name": "stderr",
          "output_type": "stream",
          "text": [
            "Some weights of the model checkpoint at bert-base-cased were not used when initializing BertModel: ['cls.predictions.transform.LayerNorm.weight', 'cls.seq_relationship.weight', 'cls.predictions.transform.dense.bias', 'cls.predictions.decoder.weight', 'cls.predictions.transform.dense.weight', 'cls.seq_relationship.bias', 'cls.predictions.transform.LayerNorm.bias', 'cls.predictions.bias']\n",
            "- This IS expected if you are initializing BertModel from the checkpoint of a model trained on another task or with another architecture (e.g. initializing a BertForSequenceClassification model from a BertForPreTraining model).\n",
            "- This IS NOT expected if you are initializing BertModel from the checkpoint of a model that you expect to be exactly identical (initializing a BertForSequenceClassification model from a BertForSequenceClassification model).\n",
            "100%|██████████| 8750/8750 [55:34<00:00,  2.62it/s]\n"
          ]
        },
        {
          "metadata": {
            "tags": null
          },
          "name": "stdout",
          "output_type": "stream",
          "text": [
            "Epochs: 1 | Train Loss:  0.144                 | Train Accuracy:  0.662                 | Val Loss:  0.101                 | Val Accuracy:  0.845\n",
            "Validation Accuracy increased (-inf --> 0.845200).  Saving model ...\n"
          ]
        },
        {
          "output_type": "stream",
          "name": "stderr",
          "text": [
            "100%|██████████| 8750/8750 [56:09<00:00,  2.60it/s]\n"
          ]
        },
        {
          "output_type": "stream",
          "name": "stdout",
          "text": [
            "Epochs: 2 | Train Loss:  0.070                 | Train Accuracy:  0.900                 | Val Loss:  0.067                 | Val Accuracy:  0.898\n",
            "Validation Accuracy increased (0.845200 --> 0.898200).  Saving model ...\n"
          ]
        },
        {
          "output_type": "stream",
          "name": "stderr",
          "text": [
            "100%|██████████| 8750/8750 [56:07<00:00,  2.60it/s]\n"
          ]
        },
        {
          "output_type": "stream",
          "name": "stdout",
          "text": [
            "Epochs: 3 | Train Loss:  0.038                 | Train Accuracy:  0.953                 | Val Loss:  0.076                 | Val Accuracy:  0.905\n",
            "Validation Accuracy increased (0.898200 --> 0.905000).  Saving model ...\n"
          ]
        },
        {
          "output_type": "stream",
          "name": "stderr",
          "text": [
            "100%|██████████| 8750/8750 [56:06<00:00,  2.60it/s]\n"
          ]
        },
        {
          "output_type": "stream",
          "name": "stdout",
          "text": [
            "Epochs: 4 | Train Loss:  0.016                 | Train Accuracy:  0.985                 | Val Loss:  0.111                 | Val Accuracy:  0.901\n"
          ]
        },
        {
          "output_type": "stream",
          "name": "stderr",
          "text": [
            " 72%|███████▏  | 6330/8750 [40:32<15:31,  2.60it/s]"
          ]
        }
      ]
    },
    {
      "cell_type": "code",
      "source": [
        "# reload ckp and start training from the last epoch\n",
        "model = BertClassifier()\n",
        "optimizer = Adam(model.parameters(), lr= LR)\n",
        "_,_, epochbest, valid_accuracy_max,_ = load_model_accuracy(best_model, model, optimizer)\n",
        "model = BertClassifier()\n",
        "optimizer = Adam(model.parameters(), lr= LR)\n",
        "model, optimizer, start_epoch,_, LR = load_ckp_accuracy(checkpoint_path, model, optimizer)\n",
        "EPOCHS = range(start_epoch+1,11)\n",
        "print(EPOCHS)"
      ],
      "metadata": {
        "colab": {
          "base_uri": "https://localhost:8080/"
        },
        "outputId": "e82df24f-5957-431e-d656-0de5bc654269",
        "id": "hxVTz4xaTgAE"
      },
      "execution_count": null,
      "outputs": [
        {
          "output_type": "stream",
          "name": "stderr",
          "text": [
            "Some weights of the model checkpoint at bert-base-cased were not used when initializing BertModel: ['cls.seq_relationship.bias', 'cls.predictions.transform.LayerNorm.weight', 'cls.predictions.bias', 'cls.seq_relationship.weight', 'cls.predictions.decoder.weight', 'cls.predictions.transform.dense.weight', 'cls.predictions.transform.dense.bias', 'cls.predictions.transform.LayerNorm.bias']\n",
            "- This IS expected if you are initializing BertModel from the checkpoint of a model trained on another task or with another architecture (e.g. initializing a BertForSequenceClassification model from a BertForPreTraining model).\n",
            "- This IS NOT expected if you are initializing BertModel from the checkpoint of a model that you expect to be exactly identical (initializing a BertForSequenceClassification model from a BertForSequenceClassification model).\n",
            "Some weights of the model checkpoint at bert-base-cased were not used when initializing BertModel: ['cls.seq_relationship.bias', 'cls.predictions.transform.LayerNorm.weight', 'cls.predictions.bias', 'cls.seq_relationship.weight', 'cls.predictions.decoder.weight', 'cls.predictions.transform.dense.weight', 'cls.predictions.transform.dense.bias', 'cls.predictions.transform.LayerNorm.bias']\n",
            "- This IS expected if you are initializing BertModel from the checkpoint of a model trained on another task or with another architecture (e.g. initializing a BertForSequenceClassification model from a BertForPreTraining model).\n",
            "- This IS NOT expected if you are initializing BertModel from the checkpoint of a model that you expect to be exactly identical (initializing a BertForSequenceClassification model from a BertForSequenceClassification model).\n"
          ]
        },
        {
          "output_type": "stream",
          "name": "stdout",
          "text": [
            "range(5, 11)\n"
          ]
        }
      ]
    },
    {
      "cell_type": "code",
      "source": [
        "train_accuracy(model, train_data, validation_data, LR, EPOCHS,checkpoint_path, best_model, valid_accuracy_max)"
      ],
      "metadata": {
        "colab": {
          "base_uri": "https://localhost:8080/"
        },
        "id": "kvK6fm9F2Bkz",
        "outputId": "3addf21a-ca06-455a-fe2e-215124abc574"
      },
      "execution_count": null,
      "outputs": [
        {
          "metadata": {
            "tags": null
          },
          "name": "stderr",
          "output_type": "stream",
          "text": [
            "100%|██████████| 8750/8750 [56:26<00:00,  2.58it/s]\n"
          ]
        },
        {
          "metadata": {
            "tags": null
          },
          "name": "stdout",
          "output_type": "stream",
          "text": [
            "Epochs: 5 | Train Loss:  0.009                 | Train Accuracy:  0.992                 | Val Loss:  0.141                 | Val Accuracy:  0.899\n"
          ]
        },
        {
          "metadata": {
            "tags": null
          },
          "name": "stderr",
          "output_type": "stream",
          "text": [
            "100%|██████████| 8750/8750 [56:24<00:00,  2.58it/s]\n"
          ]
        },
        {
          "metadata": {
            "tags": null
          },
          "name": "stdout",
          "output_type": "stream",
          "text": [
            "Epochs: 6 | Train Loss:  0.007                 | Train Accuracy:  0.994                 | Val Loss:  0.167                 | Val Accuracy:  0.903\n"
          ]
        },
        {
          "metadata": {
            "tags": null
          },
          "name": "stderr",
          "output_type": "stream",
          "text": [
            "100%|██████████| 8750/8750 [56:14<00:00,  2.59it/s]\n"
          ]
        },
        {
          "metadata": {
            "tags": null
          },
          "name": "stdout",
          "output_type": "stream",
          "text": [
            "Epochs: 7 | Train Loss:  0.005                 | Train Accuracy:  0.995                 | Val Loss:  0.179                 | Val Accuracy:  0.904\n"
          ]
        },
        {
          "metadata": {
            "tags": null
          },
          "name": "stderr",
          "output_type": "stream",
          "text": [
            "100%|██████████| 8750/8750 [56:12<00:00,  2.59it/s]\n"
          ]
        },
        {
          "metadata": {
            "tags": null
          },
          "name": "stdout",
          "output_type": "stream",
          "text": [
            "Epochs: 8 | Train Loss:  0.005                 | Train Accuracy:  0.996                 | Val Loss:  0.167                 | Val Accuracy:  0.900\n"
          ]
        },
        {
          "metadata": {
            "tags": null
          },
          "name": "stderr",
          "output_type": "stream",
          "text": [
            "100%|██████████| 8750/8750 [56:08<00:00,  2.60it/s]\n"
          ]
        },
        {
          "metadata": {
            "tags": null
          },
          "name": "stdout",
          "output_type": "stream",
          "text": [
            "Epochs: 9 | Train Loss:  0.005                 | Train Accuracy:  0.996                 | Val Loss:  0.194                 | Val Accuracy:  0.900\n"
          ]
        },
        {
          "output_type": "stream",
          "name": "stderr",
          "text": [
            "100%|██████████| 8750/8750 [56:02<00:00,  2.60it/s]\n"
          ]
        },
        {
          "output_type": "stream",
          "name": "stdout",
          "text": [
            "Epochs: 10 | Train Loss:  0.004                 | Train Accuracy:  0.996                 | Val Loss:  0.194                 | Val Accuracy:  0.901\n"
          ]
        }
      ]
    },
    {
      "cell_type": "code",
      "source": [
        "train_acc=[0.662,0.900,0.953,0.985,0.992,0.994,0.995,0.996,0.996,0.996]\n",
        "val_acc=[0.845,0.898,0.905,0.901,0.899,0.903,0.904,0.900,0.900,0.901]\n"
      ],
      "metadata": {
        "id": "cbPO2yT6beRg"
      },
      "execution_count": null,
      "outputs": []
    },
    {
      "cell_type": "code",
      "source": [
        "plt.plot(range(1,11), val_acc, label='Validation Accuracy')\n",
        "plt.plot(range(1,11), train_acc, label='Training Accuracy')\n",
        "plt.legend()\n",
        "plt.xlabel('Epochs')\n",
        "plt.ylabel('Validation Accuracy and Training Accuracy')\n",
        "plt.title('Accuracy vs Epochs')\n",
        "plt.show()"
      ],
      "metadata": {
        "colab": {
          "base_uri": "https://localhost:8080/",
          "height": 295
        },
        "id": "-oz7nJMwcenY",
        "outputId": "65086862-ffe3-430b-d610-b95d807a0d70"
      },
      "execution_count": null,
      "outputs": [
        {
          "output_type": "display_data",
          "data": {
            "text/plain": [
              "<Figure size 432x288 with 1 Axes>"
            ],
            "image/png": "[encoded data removed]"
          },
          "metadata": {
            "needs_background": "light"
          }
        }
      ]
    },
    {
      "cell_type": "markdown",
      "source": [
        "###Best from all lr"
      ],
      "metadata": {
        "id": "CFlIDxuvllY2"
      }
    },
    {
      "cell_type": "code",
      "source": [
        "# 1e-5\n",
        "val_acc_1e5=[0.499,0.499,0.502,0.499,0.498,0.504,0.500,0.501,0.499,0.500]\n",
        "# 1e-6\n",
        "val_acc_1e6=[0.661,0.876,0.890,0.891,0.895,0.895,0.897,0.894,0.891,0.898]\n",
        "# 5e-6\n",
        "val_acc_5e6=[0.845,0.898,0.905,0.901,0.899,0.903,0.904,0.900,0.900,0.901]\n",
        "\n",
        "#get max validation accuracy for each learning rate\n",
        "# max_val_acc=[max(val_acc_1e5),max(val_acc_1e6)]\n",
        "max_val_acc=[max(val_acc_5e6),max(val_acc_1e5),max(val_acc_1e6)]"
      ],
      "metadata": {
        "id": "32sJIgZtYHKU"
      },
      "execution_count": null,
      "outputs": []
    },
    {
      "cell_type": "code",
      "source": [
        "# plot max validation accuracy for each learning rate\n",
        "lr=['5e-6','1e-5','1e-6']\n",
        "# lr=['1e-5','1e-6']\n",
        "plt.plot(lr, max_val_acc, label='Validation Accuracy')\n",
        "plt.xlabel('Learning Rate')\n",
        "plt.ylabel('Validation Accuracy')\n",
        "plt.title('Validation Accuracy vs Learning Rate')\n",
        "plt.show()"
      ],
      "metadata": {
        "colab": {
          "base_uri": "https://localhost:8080/",
          "height": 295
        },
        "id": "_0N00gb3jl_f",
        "outputId": "18a57a26-9a19-440d-f511-3fca9c2c4fbc"
      },
      "execution_count": null,
      "outputs": [
        {
          "output_type": "display_data",
          "data": {
            "text/plain": [
              "<Figure size 432x288 with 1 Axes>"
            ],
            "image/png": "[encoded data removed]"
          },
          "metadata": {
            "needs_background": "light"
          }
        }
      ]
    },
    {
      "cell_type": "markdown",
      "source": [
        "###Best Model"
      ],
      "metadata": {
        "id": "GlvZhX-alprI"
      }
    },
    {
      "cell_type": "code",
      "source": [
        "test_labels=[]\n",
        "pred_labels=[]\n",
        "\n",
        "def evaluate(model, test_data):\n",
        "\n",
        "    test = Dataset(test_data)\n",
        "\n",
        "    test_dataloader = torch.utils.data.DataLoader(test, batch_size=2)\n",
        "\n",
        "    use_cuda = torch.cuda.is_available()\n",
        "    device = torch.device(\"cuda\" if use_cuda else \"cpu\")\n",
        "\n",
        "    if use_cuda:\n",
        "\n",
        "        model = model.cuda()\n",
        "\n",
        "    total_acc_test = 0\n",
        "    with torch.no_grad():\n",
        "\n",
        "        for test_input, test_label in test_dataloader:\n",
        "\n",
        "              test_label = test_label.to(device)\n",
        "              mask = test_input['attention_mask'].to(device)\n",
        "              input_id = test_input['input_ids'].squeeze(1).to(device)\n",
        "\n",
        "              output = model(input_id, mask)\n",
        "\n",
        "              acc = (output.argmax(dim=1) == test_label).sum().item()\n",
        "              total_acc_test += acc\n",
        "\n",
        "              test_labels.append(test_label.cpu().numpy()[0])\n",
        "              test_labels.append(test_label.cpu().numpy()[1])\n",
        "              pred_labels.append(output.argmax(dim=1).cpu().numpy()[0])\n",
        "              pred_labels.append(output.argmax(dim=1).cpu().numpy()[1])\n",
        "\n",
        "    print(f'Test Accuracy: {total_acc_test / len(test_data): .3f}')"
      ],
      "metadata": {
        "id": "H2N-iqQd98wi"
      },
      "execution_count": null,
      "outputs": []
    },
    {
      "cell_type": "code",
      "source": [
        "def conf_mat(test_labels,pred_labels):\n",
        "      conf_matrix = confusion_matrix(test_labels, pred_labels)\n",
        "      fig, ax = plt.subplots(figsize=(5, 5))\n",
        "      ax.matshow(conf_matrix, cmap=plt.cm.Blues, alpha=0.3)\n",
        "      for i in range(conf_matrix.shape[0]):\n",
        "          for j in range(conf_matrix.shape[1]):\n",
        "              ax.text(x=j, y=i,s=conf_matrix[i, j], va='center', ha='center', size='xx-large')\n",
        "\n",
        "      plt.xlabel('Predictions', fontsize=18)\n",
        "      plt.ylabel('Actuals', fontsize=18)\n",
        "      plt.title('Confusion Matrix', fontsize=18)\n",
        "      plt.show()"
      ],
      "metadata": {
        "id": "-JrZ9g8w-H5W"
      },
      "execution_count": null,
      "outputs": []
    },
    {
      "cell_type": "code",
      "source": [
        "LR"
      ],
      "metadata": {
        "id": "07rtQV1L5Zz5",
        "colab": {
          "base_uri": "https://localhost:8080/"
        },
        "outputId": "cc1a4261-1324-4ef8-c6a7-5d3538bb51f6"
      },
      "execution_count": null,
      "outputs": [
        {
          "output_type": "execute_result",
          "data": {
            "text/plain": [
              "5e-06"
            ]
          },
          "metadata": {},
          "execution_count": 34
        }
      ]
    },
    {
      "cell_type": "code",
      "source": [
        "best_epoch"
      ],
      "metadata": {
        "id": "7PyRP9f75b5R",
        "colab": {
          "base_uri": "https://localhost:8080/"
        },
        "outputId": "76434736-6b61-4c45-d000-cb96d39d8192"
      },
      "execution_count": null,
      "outputs": [
        {
          "output_type": "execute_result",
          "data": {
            "text/plain": [
              "3"
            ]
          },
          "metadata": {},
          "execution_count": 35
        }
      ]
    },
    {
      "cell_type": "code",
      "source": [
        "valid_accuracy_max"
      ],
      "metadata": {
        "colab": {
          "base_uri": "https://localhost:8080/"
        },
        "id": "CWeEPXAE83LE",
        "outputId": "463d019b-4606-43a2-f825-e7ce2feaea6d"
      },
      "execution_count": null,
      "outputs": [
        {
          "output_type": "execute_result",
          "data": {
            "text/plain": [
              "0.905"
            ]
          },
          "metadata": {},
          "execution_count": 38
        }
      ]
    },
    {
      "cell_type": "code",
      "source": [
        "evaluate(model, test_data)"
      ],
      "metadata": {
        "colab": {
          "base_uri": "https://localhost:8080/"
        },
        "id": "uWSb1MXY-mP1",
        "outputId": "8bc1979a-1320-42e3-b84d-3dedae4ba458"
      },
      "execution_count": null,
      "outputs": [
        {
          "output_type": "stream",
          "name": "stdout",
          "text": [
            "Test Accuracy:  0.909\n"
          ]
        }
      ]
    },
    {
      "cell_type": "code",
      "source": [
        "conf_mat(test_labels,pred_labels)"
      ],
      "metadata": {
        "colab": {
          "base_uri": "https://localhost:8080/",
          "height": 358
        },
        "id": "GHSCKned-nvg",
        "outputId": "10a7c4c8-9bfa-4082-ca96-7f3ba9b082f4"
      },
      "execution_count": null,
      "outputs": [
        {
          "output_type": "display_data",
          "data": {
            "text/plain": [
              "<Figure size 360x360 with 1 Axes>"
            ],
            "image/png": "[encoded data removed]"
          },
          "metadata": {
            "needs_background": "light"
          }
        }
      ]
    },
    {
      "cell_type": "code",
      "source": [
        "def evalscore(tp,tn,fp,fn):\n",
        "  precision=tp/(tp+fp)\n",
        "  recall=tp/(tp+fn)\n",
        "  specificity=tn/(tn+fp)\n",
        "  f1=(2*precision*recall)/(precision+recall)\n",
        "\n",
        "  print(f'F1-score:    {f1:.3f}')\n",
        "  print(f'Precision:   {precision:.3f}')\n",
        "  print(f'Recall:      {recall:.3f}')\n",
        "  print(f'Specificity: {specificity:.3f}')"
      ],
      "metadata": {
        "id": "dW1aq17mA1fN"
      },
      "execution_count": null,
      "outputs": []
    },
    {
      "cell_type": "code",
      "source": [
        "tp=4509\n",
        "tn=4577\n",
        "fp=423\n",
        "fn=491\n",
        "\n",
        "evalscore(tp,tn,fp,fn)"
      ],
      "metadata": {
        "colab": {
          "base_uri": "https://localhost:8080/"
        },
        "id": "IdPl69FvA6hH",
        "outputId": "bea1fe54-1001-4281-a7f6-2679f51e85f8"
      },
      "execution_count": null,
      "outputs": [
        {
          "output_type": "stream",
          "name": "stdout",
          "text": [
            "F1-score:    0.908\n",
            "Precision:   0.914\n",
            "Recall:      0.902\n",
            "Specificity: 0.915\n"
          ]
        }
      ]
    },
    {
      "cell_type": "markdown",
      "source": [
        "# Testing Overall Best Model"
      ],
      "metadata": {
        "id": "lc-3Aif_Dkyu"
      }
    },
    {
      "cell_type": "code",
      "source": [
        "checkpoint_path = '/content/drive/MyDrive/bert1e6/checkpointsacc/check.pt'\n",
        "best_model = '/content/drive/MyDrive/bert1e6/bestmodelacc/model.pt'\n",
        "model = BertClassifier()\n",
        "optimizer = Adam(model.parameters(), lr= LR)\n",
        "model, optimizer, best_epoch,valid_accuracy_max, LR = load_model_accuracy(best_model, model, optimizer)"
      ],
      "metadata": {
        "colab": {
          "base_uri": "https://localhost:8080/"
        },
        "id": "UkmQJp7OZN5F",
        "outputId": "d879497d-7d00-4896-a0af-af0dcf31041d"
      },
      "execution_count": null,
      "outputs": [
        {
          "output_type": "stream",
          "name": "stderr",
          "text": [
            "Some weights of the model checkpoint at bert-base-cased were not used when initializing BertModel: ['cls.seq_relationship.weight', 'cls.predictions.decoder.weight', 'cls.seq_relationship.bias', 'cls.predictions.transform.dense.bias', 'cls.predictions.transform.dense.weight', 'cls.predictions.transform.LayerNorm.weight', 'cls.predictions.bias', 'cls.predictions.transform.LayerNorm.bias']\n",
            "- This IS expected if you are initializing BertModel from the checkpoint of a model trained on another task or with another architecture (e.g. initializing a BertForSequenceClassification model from a BertForPreTraining model).\n",
            "- This IS NOT expected if you are initializing BertModel from the checkpoint of a model that you expect to be exactly identical (initializing a BertForSequenceClassification model from a BertForSequenceClassification model).\n"
          ]
        }
      ]
    },
    {
      "cell_type": "code",
      "source": [
        "LR"
      ],
      "metadata": {
        "colab": {
          "base_uri": "https://localhost:8080/"
        },
        "outputId": "2aa92ff8-de62-48fe-cc4d-8d5333c6cdeb",
        "id": "hvBVlI_wnKOm"
      },
      "execution_count": null,
      "outputs": [
        {
          "output_type": "execute_result",
          "data": {
            "text/plain": [
              "1e-06"
            ]
          },
          "metadata": {},
          "execution_count": 35
        }
      ]
    },
    {
      "cell_type": "code",
      "source": [
        "valid_accuracy_max"
      ],
      "metadata": {
        "colab": {
          "base_uri": "https://localhost:8080/"
        },
        "id": "DqWphO76Zl2h",
        "outputId": "4ec30bbd-4ffe-4be8-a828-9d761e46e31c"
      },
      "execution_count": null,
      "outputs": [
        {
          "output_type": "execute_result",
          "data": {
            "text/plain": [
              "0.9114"
            ]
          },
          "metadata": {},
          "execution_count": 36
        }
      ]
    },
    {
      "cell_type": "code",
      "source": [
        "best_epoch"
      ],
      "metadata": {
        "colab": {
          "base_uri": "https://localhost:8080/"
        },
        "id": "sC9m_o4_mHY9",
        "outputId": "3cb4a82a-5705-4f38-f7e6-fcdd9e9c42b8"
      },
      "execution_count": null,
      "outputs": [
        {
          "output_type": "execute_result",
          "data": {
            "text/plain": [
              "6"
            ]
          },
          "metadata": {},
          "execution_count": 37
        }
      ]
    },
    {
      "cell_type": "code",
      "source": [
        "def conf_mat(test_labels,pred_labels):\n",
        "      conf_matrix = confusion_matrix(test_labels, pred_labels)\n",
        "      fig, ax = plt.subplots(figsize=(5, 5))\n",
        "      ax.matshow(conf_matrix, cmap=plt.cm.Blues, alpha=0.3)\n",
        "      for i in range(conf_matrix.shape[0]):\n",
        "          for j in range(conf_matrix.shape[1]):\n",
        "              ax.text(x=j, y=i,s=conf_matrix[i, j], va='center', ha='center', size='xx-large')\n",
        "\n",
        "      plt.xlabel('Predictions', fontsize=18)\n",
        "      plt.ylabel('Actuals', fontsize=18)\n",
        "      plt.title('Confusion Matrix', fontsize=18)\n",
        "      plt.show()"
      ],
      "metadata": {
        "id": "cXHMo2E4aOeY"
      },
      "execution_count": null,
      "outputs": []
    },
    {
      "cell_type": "code",
      "source": [
        "test_labels=[]\n",
        "pred_labels=[]\n",
        "\n",
        "def evaluate(model, test_data):\n",
        "\n",
        "    test = Dataset(test_data)\n",
        "\n",
        "    test_dataloader = torch.utils.data.DataLoader(test, batch_size=2)\n",
        "\n",
        "    use_cuda = torch.cuda.is_available()\n",
        "    device = torch.device(\"cuda\" if use_cuda else \"cpu\")\n",
        "\n",
        "    if use_cuda:\n",
        "\n",
        "        model = model.cuda()\n",
        "\n",
        "    total_acc_test = 0\n",
        "    with torch.no_grad():\n",
        "\n",
        "        for test_input, test_label in test_dataloader:\n",
        "\n",
        "              test_label = test_label.to(device)\n",
        "              mask = test_input['attention_mask'].to(device)\n",
        "              input_id = test_input['input_ids'].squeeze(1).to(device)\n",
        "\n",
        "              output = model(input_id, mask)\n",
        "\n",
        "              acc = (output.argmax(dim=1) == test_label).sum().item()\n",
        "              total_acc_test += acc\n",
        "\n",
        "              test_labels.append(test_label.cpu().numpy()[0])\n",
        "              test_labels.append(test_label.cpu().numpy()[1])\n",
        "              pred_labels.append(output.argmax(dim=1).cpu().numpy()[0])\n",
        "              pred_labels.append(output.argmax(dim=1).cpu().numpy()[1])\n",
        "\n",
        "\n",
        "                # print(f'Test Accuracy: {total_acc_test / len(test_data): .3f}')\n",
        "evaluate(model, test_data)"
      ],
      "metadata": {
        "id": "XeeIQKPSaTJK"
      },
      "execution_count": null,
      "outputs": []
    },
    {
      "cell_type": "code",
      "source": [
        "conf_mat(test_labels,pred_labels)"
      ],
      "metadata": {
        "colab": {
          "base_uri": "https://localhost:8080/",
          "height": 358
        },
        "id": "fMiaBC1yaUcU",
        "outputId": "72159dc1-df0b-47d9-d59c-c55caa4afbfd"
      },
      "execution_count": null,
      "outputs": [
        {
          "output_type": "display_data",
          "data": {
            "text/plain": [
              "<Figure size 360x360 with 1 Axes>"
            ],
            "image/png": "[encoded data removed]"
          },
          "metadata": {
            "needs_background": "light"
          }
        }
      ]
    },
    {
      "cell_type": "code",
      "source": [
        "def evalscore(tp,tn,fp,fn):\n",
        "  precision=tp/(tp+fp)\n",
        "  recall=tp/(tp+fn)\n",
        "  specificity=tn/(tn+fp)\n",
        "  f1=(2*precision*recall)/(precision+recall)\n",
        "\n",
        "  print(f'F1-score:    {f1:.3f}')\n",
        "  print(f'Precision:   {precision:.3f}')\n",
        "  print(f'Recall:      {recall:.3f}')\n",
        "  print(f'Specificity: {specificity:.3f}')"
      ],
      "metadata": {
        "id": "J34xtAEyuqLM"
      },
      "execution_count": 2,
      "outputs": []
    },
    {
      "cell_type": "code",
      "source": [
        "tp=4582\n",
        "tn=4528\n",
        "fp=472\n",
        "fn=418\n",
        "\n",
        "evalscore(tp,tn,fp,fn)\n",
        "accuracy=(tp+tn)/(tp+tn+fp+fn)\n",
        "print(f'Accuracy:    {accuracy:.3f}')"
      ],
      "metadata": {
        "colab": {
          "base_uri": "https://localhost:8080/"
        },
        "id": "mQJ-V2i0s4Sl",
        "outputId": "c6aa0e50-5bd0-492c-d717-45ccf1ba925d"
      },
      "execution_count": 9,
      "outputs": [
        {
          "output_type": "stream",
          "name": "stdout",
          "text": [
            "F1-score:    0.911\n",
            "Precision:   0.907\n",
            "Recall:      0.916\n",
            "Specificity: 0.906\n",
            "Accuracy:    0.911\n"
          ]
        }
      ]
    }
  ],
  "metadata": {
    "accelerator": "GPU",
    "colab": {
      "provenance": [],
      "toc_visible": true
    },
    "gpuClass": "standard",
    "kernelspec": {
      "display_name": "Python 3",
      "name": "python3"
    },
    "language_info": {
      "name": "python"
    },
    "widgets": {
      "application/vnd.jupyter.widget-state+json": {
        "a671669a029e47348342cc64a3cd2143": {
          "model_module": "@jupyter-widgets/controls",
          "model_name": "HBoxModel",
          "model_module_version": "1.5.0",
          "state": {
            "_dom_classes": [],
            "_model_module": "@jupyter-widgets/controls",
            "_model_module_version": "1.5.0",
            "_model_name": "HBoxModel",
            "_view_count": null,
            "_view_module": "@jupyter-widgets/controls",
            "_view_module_version": "1.5.0",
            "_view_name": "HBoxView",
            "box_style": "",
            "children": [
              "IPY_MODEL_c80e6befbed340289fd1e1ee4e62862f",
              "IPY_MODEL_c457aaab6fcc459bbf95ed3432b444a9",
              "IPY_MODEL_36f600592d644fb883473c9420173f83"
            ],
            "layout": "IPY_MODEL_070ea5eb1cda4fb8a08fc5fccec34057"
          }
        },
        "c80e6befbed340289fd1e1ee4e62862f": {
          "model_module": "@jupyter-widgets/controls",
          "model_name": "HTMLModel",
          "model_module_version": "1.5.0",
          "state": {
            "_dom_classes": [],
            "_model_module": "@jupyter-widgets/controls",
            "_model_module_version": "1.5.0",
            "_model_name": "HTMLModel",
            "_view_count": null,
            "_view_module": "@jupyter-widgets/controls",
            "_view_module_version": "1.5.0",
            "_view_name": "HTMLView",
            "description": "",
            "description_tooltip": null,
            "layout": "IPY_MODEL_421e11a405194ab8a066f1b6b9d5242a",
            "placeholder": "​",
            "style": "IPY_MODEL_626430ebab2d4b34a2709e6118101ca8",
            "value": "Downloading: 100%"
          }
        },
        "c457aaab6fcc459bbf95ed3432b444a9": {
          "model_module": "@jupyter-widgets/controls",
          "model_name": "FloatProgressModel",
          "model_module_version": "1.5.0",
          "state": {
            "_dom_classes": [],
            "_model_module": "@jupyter-widgets/controls",
            "_model_module_version": "1.5.0",
            "_model_name": "FloatProgressModel",
            "_view_count": null,
            "_view_module": "@jupyter-widgets/controls",
            "_view_module_version": "1.5.0",
            "_view_name": "ProgressView",
            "bar_style": "success",
            "description": "",
            "description_tooltip": null,
            "layout": "IPY_MODEL_9aa85d6300ca4e2fa4d4e5c12e3ee8be",
            "max": 435779157,
            "min": 0,
            "orientation": "horizontal",
            "style": "IPY_MODEL_d81383a05485480886ec7265dcc0443e",
            "value": 435779157
          }
        },
        "36f600592d644fb883473c9420173f83": {
          "model_module": "@jupyter-widgets/controls",
          "model_name": "HTMLModel",
          "model_module_version": "1.5.0",
          "state": {
            "_dom_classes": [],
            "_model_module": "@jupyter-widgets/controls",
            "_model_module_version": "1.5.0",
            "_model_name": "HTMLModel",
            "_view_count": null,
            "_view_module": "@jupyter-widgets/controls",
            "_view_module_version": "1.5.0",
            "_view_name": "HTMLView",
            "description": "",
            "description_tooltip": null,
            "layout": "IPY_MODEL_a4c2c75c48e148658b6921c37ab2d0be",
            "placeholder": "​",
            "style": "IPY_MODEL_b7bcd61b10b948469f55a57f888bbc7b",
            "value": " 436M/436M [00:06&lt;00:00, 50.7MB/s]"
          }
        },
        "070ea5eb1cda4fb8a08fc5fccec34057": {
          "model_module": "@jupyter-widgets/base",
          "model_name": "LayoutModel",
          "model_module_version": "1.2.0",
          "state": {
            "_model_module": "@jupyter-widgets/base",
            "_model_module_version": "1.2.0",
            "_model_name": "LayoutModel",
            "_view_count": null,
            "_view_module": "@jupyter-widgets/base",
            "_view_module_version": "1.2.0",
            "_view_name": "LayoutView",
            "align_content": null,
            "align_items": null,
            "align_self": null,
            "border": null,
            "bottom": null,
            "display": null,
            "flex": null,
            "flex_flow": null,
            "grid_area": null,
            "grid_auto_columns": null,
            "grid_auto_flow": null,
            "grid_auto_rows": null,
            "grid_column": null,
            "grid_gap": null,
            "grid_row": null,
            "grid_template_areas": null,
            "grid_template_columns": null,
            "grid_template_rows": null,
            "height": null,
            "justify_content": null,
            "justify_items": null,
            "left": null,
            "margin": null,
            "max_height": null,
            "max_width": null,
            "min_height": null,
            "min_width": null,
            "object_fit": null,
            "object_position": null,
            "order": null,
            "overflow": null,
            "overflow_x": null,
            "overflow_y": null,
            "padding": null,
            "right": null,
            "top": null,
            "visibility": null,
            "width": null
          }
        },
        "421e11a405194ab8a066f1b6b9d5242a": {
          "model_module": "@jupyter-widgets/base",
          "model_name": "LayoutModel",
          "model_module_version": "1.2.0",
          "state": {
            "_model_module": "@jupyter-widgets/base",
            "_model_module_version": "1.2.0",
            "_model_name": "LayoutModel",
            "_view_count": null,
            "_view_module": "@jupyter-widgets/base",
            "_view_module_version": "1.2.0",
            "_view_name": "LayoutView",
            "align_content": null,
            "align_items": null,
            "align_self": null,
            "border": null,
            "bottom": null,
            "display": null,
            "flex": null,
            "flex_flow": null,
            "grid_area": null,
            "grid_auto_columns": null,
            "grid_auto_flow": null,
            "grid_auto_rows": null,
            "grid_column": null,
            "grid_gap": null,
            "grid_row": null,
            "grid_template_areas": null,
            "grid_template_columns": null,
            "grid_template_rows": null,
            "height": null,
            "justify_content": null,
            "justify_items": null,
            "left": null,
            "margin": null,
            "max_height": null,
            "max_width": null,
            "min_height": null,
            "min_width": null,
            "object_fit": null,
            "object_position": null,
            "order": null,
            "overflow": null,
            "overflow_x": null,
            "overflow_y": null,
            "padding": null,
            "right": null,
            "top": null,
            "visibility": null,
            "width": null
          }
        },
        "626430ebab2d4b34a2709e6118101ca8": {
          "model_module": "@jupyter-widgets/controls",
          "model_name": "DescriptionStyleModel",
          "model_module_version": "1.5.0",
          "state": {
            "_model_module": "@jupyter-widgets/controls",
            "_model_module_version": "1.5.0",
            "_model_name": "DescriptionStyleModel",
            "_view_count": null,
            "_view_module": "@jupyter-widgets/base",
            "_view_module_version": "1.2.0",
            "_view_name": "StyleView",
            "description_width": ""
          }
        },
        "9aa85d6300ca4e2fa4d4e5c12e3ee8be": {
          "model_module": "@jupyter-widgets/base",
          "model_name": "LayoutModel",
          "model_module_version": "1.2.0",
          "state": {
            "_model_module": "@jupyter-widgets/base",
            "_model_module_version": "1.2.0",
            "_model_name": "LayoutModel",
            "_view_count": null,
            "_view_module": "@jupyter-widgets/base",
            "_view_module_version": "1.2.0",
            "_view_name": "LayoutView",
            "align_content": null,
            "align_items": null,
            "align_self": null,
            "border": null,
            "bottom": null,
            "display": null,
            "flex": null,
            "flex_flow": null,
            "grid_area": null,
            "grid_auto_columns": null,
            "grid_auto_flow": null,
            "grid_auto_rows": null,
            "grid_column": null,
            "grid_gap": null,
            "grid_row": null,
            "grid_template_areas": null,
            "grid_template_columns": null,
            "grid_template_rows": null,
            "height": null,
            "justify_content": null,
            "justify_items": null,
            "left": null,
            "margin": null,
            "max_height": null,
            "max_width": null,
            "min_height": null,
            "min_width": null,
            "object_fit": null,
            "object_position": null,
            "order": null,
            "overflow": null,
            "overflow_x": null,
            "overflow_y": null,
            "padding": null,
            "right": null,
            "top": null,
            "visibility": null,
            "width": null
          }
        },
        "d81383a05485480886ec7265dcc0443e": {
          "model_module": "@jupyter-widgets/controls",
          "model_name": "ProgressStyleModel",
          "model_module_version": "1.5.0",
          "state": {
            "_model_module": "@jupyter-widgets/controls",
            "_model_module_version": "1.5.0",
            "_model_name": "ProgressStyleModel",
            "_view_count": null,
            "_view_module": "@jupyter-widgets/base",
            "_view_module_version": "1.2.0",
            "_view_name": "StyleView",
            "bar_color": null,
            "description_width": ""
          }
        },
        "a4c2c75c48e148658b6921c37ab2d0be": {
          "model_module": "@jupyter-widgets/base",
          "model_name": "LayoutModel",
          "model_module_version": "1.2.0",
          "state": {
            "_model_module": "@jupyter-widgets/base",
            "_model_module_version": "1.2.0",
            "_model_name": "LayoutModel",
            "_view_count": null,
            "_view_module": "@jupyter-widgets/base",
            "_view_module_version": "1.2.0",
            "_view_name": "LayoutView",
            "align_content": null,
            "align_items": null,
            "align_self": null,
            "border": null,
            "bottom": null,
            "display": null,
            "flex": null,
            "flex_flow": null,
            "grid_area": null,
            "grid_auto_columns": null,
            "grid_auto_flow": null,
            "grid_auto_rows": null,
            "grid_column": null,
            "grid_gap": null,
            "grid_row": null,
            "grid_template_areas": null,
            "grid_template_columns": null,
            "grid_template_rows": null,
            "height": null,
            "justify_content": null,
            "justify_items": null,
            "left": null,
            "margin": null,
            "max_height": null,
            "max_width": null,
            "min_height": null,
            "min_width": null,
            "object_fit": null,
            "object_position": null,
            "order": null,
            "overflow": null,
            "overflow_x": null,
            "overflow_y": null,
            "padding": null,
            "right": null,
            "top": null,
            "visibility": null,
            "width": null
          }
        },
        "b7bcd61b10b948469f55a57f888bbc7b": {
          "model_module": "@jupyter-widgets/controls",
          "model_name": "DescriptionStyleModel",
          "model_module_version": "1.5.0",
          "state": {
            "_model_module": "@jupyter-widgets/controls",
            "_model_module_version": "1.5.0",
            "_model_name": "DescriptionStyleModel",
            "_view_count": null,
            "_view_module": "@jupyter-widgets/base",
            "_view_module_version": "1.2.0",
            "_view_name": "StyleView",
            "description_width": ""
          }
        },
        "40028f2a0ca34970b48f795f6a7f055f": {
          "model_module": "@jupyter-widgets/controls",
          "model_name": "HBoxModel",
          "model_module_version": "1.5.0",
          "state": {
            "_dom_classes": [],
            "_model_module": "@jupyter-widgets/controls",
            "_model_module_version": "1.5.0",
            "_model_name": "HBoxModel",
            "_view_count": null,
            "_view_module": "@jupyter-widgets/controls",
            "_view_module_version": "1.5.0",
            "_view_name": "HBoxView",
            "box_style": "",
            "children": [
              "IPY_MODEL_0ddd19f002f44636ae8abb9c031fd54f",
              "IPY_MODEL_6b3e77204dff4872bd0472eb6d09fd12",
              "IPY_MODEL_f88a66cb3a9746cbb1a46bc46c326a50"
            ],
            "layout": "IPY_MODEL_ec1f2201ff554307a982ca18951be3fd"
          }
        },
        "0ddd19f002f44636ae8abb9c031fd54f": {
          "model_module": "@jupyter-widgets/controls",
          "model_name": "HTMLModel",
          "model_module_version": "1.5.0",
          "state": {
            "_dom_classes": [],
            "_model_module": "@jupyter-widgets/controls",
            "_model_module_version": "1.5.0",
            "_model_name": "HTMLModel",
            "_view_count": null,
            "_view_module": "@jupyter-widgets/controls",
            "_view_module_version": "1.5.0",
            "_view_name": "HTMLView",
            "description": "",
            "description_tooltip": null,
            "layout": "IPY_MODEL_2652f74ed99a4c67b89288e7cbb0cb4f",
            "placeholder": "​",
            "style": "IPY_MODEL_da0b31bcddcd4f42b91b8cf6a527309f",
            "value": "Downloading (…)solve/main/vocab.txt: 100%"
          }
        },
        "6b3e77204dff4872bd0472eb6d09fd12": {
          "model_module": "@jupyter-widgets/controls",
          "model_name": "FloatProgressModel",
          "model_module_version": "1.5.0",
          "state": {
            "_dom_classes": [],
            "_model_module": "@jupyter-widgets/controls",
            "_model_module_version": "1.5.0",
            "_model_name": "FloatProgressModel",
            "_view_count": null,
            "_view_module": "@jupyter-widgets/controls",
            "_view_module_version": "1.5.0",
            "_view_name": "ProgressView",
            "bar_style": "success",
            "description": "",
            "description_tooltip": null,
            "layout": "IPY_MODEL_09e460c7759042ce83c6bacb247be4b3",
            "max": 213450,
            "min": 0,
            "orientation": "horizontal",
            "style": "IPY_MODEL_ed198f00d6f74824bd3eee9498e04e8f",
            "value": 213450
          }
        },
        "f88a66cb3a9746cbb1a46bc46c326a50": {
          "model_module": "@jupyter-widgets/controls",
          "model_name": "HTMLModel",
          "model_module_version": "1.5.0",
          "state": {
            "_dom_classes": [],
            "_model_module": "@jupyter-widgets/controls",
            "_model_module_version": "1.5.0",
            "_model_name": "HTMLModel",
            "_view_count": null,
            "_view_module": "@jupyter-widgets/controls",
            "_view_module_version": "1.5.0",
            "_view_name": "HTMLView",
            "description": "",
            "description_tooltip": null,
            "layout": "IPY_MODEL_b2e80e4f20854254a5398453e718c129",
            "placeholder": "​",
            "style": "IPY_MODEL_31d3321d8bd2456f8b3fa36886099dad",
            "value": " 213k/213k [00:00&lt;00:00, 242kB/s]"
          }
        },
        "ec1f2201ff554307a982ca18951be3fd": {
          "model_module": "@jupyter-widgets/base",
          "model_name": "LayoutModel",
          "model_module_version": "1.2.0",
          "state": {
            "_model_module": "@jupyter-widgets/base",
            "_model_module_version": "1.2.0",
            "_model_name": "LayoutModel",
            "_view_count": null,
            "_view_module": "@jupyter-widgets/base",
            "_view_module_version": "1.2.0",
            "_view_name": "LayoutView",
            "align_content": null,
            "align_items": null,
            "align_self": null,
            "border": null,
            "bottom": null,
            "display": null,
            "flex": null,
            "flex_flow": null,
            "grid_area": null,
            "grid_auto_columns": null,
            "grid_auto_flow": null,
            "grid_auto_rows": null,
            "grid_column": null,
            "grid_gap": null,
            "grid_row": null,
            "grid_template_areas": null,
            "grid_template_columns": null,
            "grid_template_rows": null,
            "height": null,
            "justify_content": null,
            "justify_items": null,
            "left": null,
            "margin": null,
            "max_height": null,
            "max_width": null,
            "min_height": null,
            "min_width": null,
            "object_fit": null,
            "object_position": null,
            "order": null,
            "overflow": null,
            "overflow_x": null,
            "overflow_y": null,
            "padding": null,
            "right": null,
            "top": null,
            "visibility": null,
            "width": null
          }
        },
        "2652f74ed99a4c67b89288e7cbb0cb4f": {
          "model_module": "@jupyter-widgets/base",
          "model_name": "LayoutModel",
          "model_module_version": "1.2.0",
          "state": {
            "_model_module": "@jupyter-widgets/base",
            "_model_module_version": "1.2.0",
            "_model_name": "LayoutModel",
            "_view_count": null,
            "_view_module": "@jupyter-widgets/base",
            "_view_module_version": "1.2.0",
            "_view_name": "LayoutView",
            "align_content": null,
            "align_items": null,
            "align_self": null,
            "border": null,
            "bottom": null,
            "display": null,
            "flex": null,
            "flex_flow": null,
            "grid_area": null,
            "grid_auto_columns": null,
            "grid_auto_flow": null,
            "grid_auto_rows": null,
            "grid_column": null,
            "grid_gap": null,
            "grid_row": null,
            "grid_template_areas": null,
            "grid_template_columns": null,
            "grid_template_rows": null,
            "height": null,
            "justify_content": null,
            "justify_items": null,
            "left": null,
            "margin": null,
            "max_height": null,
            "max_width": null,
            "min_height": null,
            "min_width": null,
            "object_fit": null,
            "object_position": null,
            "order": null,
            "overflow": null,
            "overflow_x": null,
            "overflow_y": null,
            "padding": null,
            "right": null,
            "top": null,
            "visibility": null,
            "width": null
          }
        },
        "da0b31bcddcd4f42b91b8cf6a527309f": {
          "model_module": "@jupyter-widgets/controls",
          "model_name": "DescriptionStyleModel",
          "model_module_version": "1.5.0",
          "state": {
            "_model_module": "@jupyter-widgets/controls",
            "_model_module_version": "1.5.0",
            "_model_name": "DescriptionStyleModel",
            "_view_count": null,
            "_view_module": "@jupyter-widgets/base",
            "_view_module_version": "1.2.0",
            "_view_name": "StyleView",
            "description_width": ""
          }
        },
        "09e460c7759042ce83c6bacb247be4b3": {
          "model_module": "@jupyter-widgets/base",
          "model_name": "LayoutModel",
          "model_module_version": "1.2.0",
          "state": {
            "_model_module": "@jupyter-widgets/base",
            "_model_module_version": "1.2.0",
            "_model_name": "LayoutModel",
            "_view_count": null,
            "_view_module": "@jupyter-widgets/base",
            "_view_module_version": "1.2.0",
            "_view_name": "LayoutView",
            "align_content": null,
            "align_items": null,
            "align_self": null,
            "border": null,
            "bottom": null,
            "display": null,
            "flex": null,
            "flex_flow": null,
            "grid_area": null,
            "grid_auto_columns": null,
            "grid_auto_flow": null,
            "grid_auto_rows": null,
            "grid_column": null,
            "grid_gap": null,
            "grid_row": null,
            "grid_template_areas": null,
            "grid_template_columns": null,
            "grid_template_rows": null,
            "height": null,
            "justify_content": null,
            "justify_items": null,
            "left": null,
            "margin": null,
            "max_height": null,
            "max_width": null,
            "min_height": null,
            "min_width": null,
            "object_fit": null,
            "object_position": null,
            "order": null,
            "overflow": null,
            "overflow_x": null,
            "overflow_y": null,
            "padding": null,
            "right": null,
            "top": null,
            "visibility": null,
            "width": null
          }
        },
        "ed198f00d6f74824bd3eee9498e04e8f": {
          "model_module": "@jupyter-widgets/controls",
          "model_name": "ProgressStyleModel",
          "model_module_version": "1.5.0",
          "state": {
            "_model_module": "@jupyter-widgets/controls",
            "_model_module_version": "1.5.0",
            "_model_name": "ProgressStyleModel",
            "_view_count": null,
            "_view_module": "@jupyter-widgets/base",
            "_view_module_version": "1.2.0",
            "_view_name": "StyleView",
            "bar_color": null,
            "description_width": ""
          }
        },
        "b2e80e4f20854254a5398453e718c129": {
          "model_module": "@jupyter-widgets/base",
          "model_name": "LayoutModel",
          "model_module_version": "1.2.0",
          "state": {
            "_model_module": "@jupyter-widgets/base",
            "_model_module_version": "1.2.0",
            "_model_name": "LayoutModel",
            "_view_count": null,
            "_view_module": "@jupyter-widgets/base",
            "_view_module_version": "1.2.0",
            "_view_name": "LayoutView",
            "align_content": null,
            "align_items": null,
            "align_self": null,
            "border": null,
            "bottom": null,
            "display": null,
            "flex": null,
            "flex_flow": null,
            "grid_area": null,
            "grid_auto_columns": null,
            "grid_auto_flow": null,
            "grid_auto_rows": null,
            "grid_column": null,
            "grid_gap": null,
            "grid_row": null,
            "grid_template_areas": null,
            "grid_template_columns": null,
            "grid_template_rows": null,
            "height": null,
            "justify_content": null,
            "justify_items": null,
            "left": null,
            "margin": null,
            "max_height": null,
            "max_width": null,
            "min_height": null,
            "min_width": null,
            "object_fit": null,
            "object_position": null,
            "order": null,
            "overflow": null,
            "overflow_x": null,
            "overflow_y": null,
            "padding": null,
            "right": null,
            "top": null,
            "visibility": null,
            "width": null
          }
        },
        "31d3321d8bd2456f8b3fa36886099dad": {
          "model_module": "@jupyter-widgets/controls",
          "model_name": "DescriptionStyleModel",
          "model_module_version": "1.5.0",
          "state": {
            "_model_module": "@jupyter-widgets/controls",
            "_model_module_version": "1.5.0",
            "_model_name": "DescriptionStyleModel",
            "_view_count": null,
            "_view_module": "@jupyter-widgets/base",
            "_view_module_version": "1.2.0",
            "_view_name": "StyleView",
            "description_width": ""
          }
        },
        "fb34e8813c094a368cdd932e76aa6dde": {
          "model_module": "@jupyter-widgets/controls",
          "model_name": "HBoxModel",
          "model_module_version": "1.5.0",
          "state": {
            "_dom_classes": [],
            "_model_module": "@jupyter-widgets/controls",
            "_model_module_version": "1.5.0",
            "_model_name": "HBoxModel",
            "_view_count": null,
            "_view_module": "@jupyter-widgets/controls",
            "_view_module_version": "1.5.0",
            "_view_name": "HBoxView",
            "box_style": "",
            "children": [
              "IPY_MODEL_a6df43e2e22b4a82a3eb96f15f515d43",
              "IPY_MODEL_771a0ce92f034970942b37c1a5a00415",
              "IPY_MODEL_51cfb00cae594c8eb7b89bfc1fae8be3"
            ],
            "layout": "IPY_MODEL_a80585c3b5904ccaa8402a18cd3860e5"
          }
        },
        "a6df43e2e22b4a82a3eb96f15f515d43": {
          "model_module": "@jupyter-widgets/controls",
          "model_name": "HTMLModel",
          "model_module_version": "1.5.0",
          "state": {
            "_dom_classes": [],
            "_model_module": "@jupyter-widgets/controls",
            "_model_module_version": "1.5.0",
            "_model_name": "HTMLModel",
            "_view_count": null,
            "_view_module": "@jupyter-widgets/controls",
            "_view_module_version": "1.5.0",
            "_view_name": "HTMLView",
            "description": "",
            "description_tooltip": null,
            "layout": "IPY_MODEL_18e2b65ccf94492280af8cc0e163852c",
            "placeholder": "​",
            "style": "IPY_MODEL_34bb15751e0d40368564ff0ef407a49b",
            "value": "Downloading (…)okenizer_config.json: 100%"
          }
        },
        "771a0ce92f034970942b37c1a5a00415": {
          "model_module": "@jupyter-widgets/controls",
          "model_name": "FloatProgressModel",
          "model_module_version": "1.5.0",
          "state": {
            "_dom_classes": [],
            "_model_module": "@jupyter-widgets/controls",
            "_model_module_version": "1.5.0",
            "_model_name": "FloatProgressModel",
            "_view_count": null,
            "_view_module": "@jupyter-widgets/controls",
            "_view_module_version": "1.5.0",
            "_view_name": "ProgressView",
            "bar_style": "success",
            "description": "",
            "description_tooltip": null,
            "layout": "IPY_MODEL_371bf40a88824b64aff3c907399d077e",
            "max": 29,
            "min": 0,
            "orientation": "horizontal",
            "style": "IPY_MODEL_324f6f74b851415c842e87d9ad4c8586",
            "value": 29
          }
        },
        "51cfb00cae594c8eb7b89bfc1fae8be3": {
          "model_module": "@jupyter-widgets/controls",
          "model_name": "HTMLModel",
          "model_module_version": "1.5.0",
          "state": {
            "_dom_classes": [],
            "_model_module": "@jupyter-widgets/controls",
            "_model_module_version": "1.5.0",
            "_model_name": "HTMLModel",
            "_view_count": null,
            "_view_module": "@jupyter-widgets/controls",
            "_view_module_version": "1.5.0",
            "_view_name": "HTMLView",
            "description": "",
            "description_tooltip": null,
            "layout": "IPY_MODEL_b9f5726670754a5cb5b46196f1d29bb9",
            "placeholder": "​",
            "style": "IPY_MODEL_498adfff17e14fd7996409cba761f64d",
            "value": " 29.0/29.0 [00:00&lt;00:00, 1.15kB/s]"
          }
        },
        "a80585c3b5904ccaa8402a18cd3860e5": {
          "model_module": "@jupyter-widgets/base",
          "model_name": "LayoutModel",
          "model_module_version": "1.2.0",
          "state": {
            "_model_module": "@jupyter-widgets/base",
            "_model_module_version": "1.2.0",
            "_model_name": "LayoutModel",
            "_view_count": null,
            "_view_module": "@jupyter-widgets/base",
            "_view_module_version": "1.2.0",
            "_view_name": "LayoutView",
            "align_content": null,
            "align_items": null,
            "align_self": null,
            "border": null,
            "bottom": null,
            "display": null,
            "flex": null,
            "flex_flow": null,
            "grid_area": null,
            "grid_auto_columns": null,
            "grid_auto_flow": null,
            "grid_auto_rows": null,
            "grid_column": null,
            "grid_gap": null,
            "grid_row": null,
            "grid_template_areas": null,
            "grid_template_columns": null,
            "grid_template_rows": null,
            "height": null,
            "justify_content": null,
            "justify_items": null,
            "left": null,
            "margin": null,
            "max_height": null,
            "max_width": null,
            "min_height": null,
            "min_width": null,
            "object_fit": null,
            "object_position": null,
            "order": null,
            "overflow": null,
            "overflow_x": null,
            "overflow_y": null,
            "padding": null,
            "right": null,
            "top": null,
            "visibility": null,
            "width": null
          }
        },
        "18e2b65ccf94492280af8cc0e163852c": {
          "model_module": "@jupyter-widgets/base",
          "model_name": "LayoutModel",
          "model_module_version": "1.2.0",
          "state": {
            "_model_module": "@jupyter-widgets/base",
            "_model_module_version": "1.2.0",
            "_model_name": "LayoutModel",
            "_view_count": null,
            "_view_module": "@jupyter-widgets/base",
            "_view_module_version": "1.2.0",
            "_view_name": "LayoutView",
            "align_content": null,
            "align_items": null,
            "align_self": null,
            "border": null,
            "bottom": null,
            "display": null,
            "flex": null,
            "flex_flow": null,
            "grid_area": null,
            "grid_auto_columns": null,
            "grid_auto_flow": null,
            "grid_auto_rows": null,
            "grid_column": null,
            "grid_gap": null,
            "grid_row": null,
            "grid_template_areas": null,
            "grid_template_columns": null,
            "grid_template_rows": null,
            "height": null,
            "justify_content": null,
            "justify_items": null,
            "left": null,
            "margin": null,
            "max_height": null,
            "max_width": null,
            "min_height": null,
            "min_width": null,
            "object_fit": null,
            "object_position": null,
            "order": null,
            "overflow": null,
            "overflow_x": null,
            "overflow_y": null,
            "padding": null,
            "right": null,
            "top": null,
            "visibility": null,
            "width": null
          }
        },
        "34bb15751e0d40368564ff0ef407a49b": {
          "model_module": "@jupyter-widgets/controls",
          "model_name": "DescriptionStyleModel",
          "model_module_version": "1.5.0",
          "state": {
            "_model_module": "@jupyter-widgets/controls",
            "_model_module_version": "1.5.0",
            "_model_name": "DescriptionStyleModel",
            "_view_count": null,
            "_view_module": "@jupyter-widgets/base",
            "_view_module_version": "1.2.0",
            "_view_name": "StyleView",
            "description_width": ""
          }
        },
        "371bf40a88824b64aff3c907399d077e": {
          "model_module": "@jupyter-widgets/base",
          "model_name": "LayoutModel",
          "model_module_version": "1.2.0",
          "state": {
            "_model_module": "@jupyter-widgets/base",
            "_model_module_version": "1.2.0",
            "_model_name": "LayoutModel",
            "_view_count": null,
            "_view_module": "@jupyter-widgets/base",
            "_view_module_version": "1.2.0",
            "_view_name": "LayoutView",
            "align_content": null,
            "align_items": null,
            "align_self": null,
            "border": null,
            "bottom": null,
            "display": null,
            "flex": null,
            "flex_flow": null,
            "grid_area": null,
            "grid_auto_columns": null,
            "grid_auto_flow": null,
            "grid_auto_rows": null,
            "grid_column": null,
            "grid_gap": null,
            "grid_row": null,
            "grid_template_areas": null,
            "grid_template_columns": null,
            "grid_template_rows": null,
            "height": null,
            "justify_content": null,
            "justify_items": null,
            "left": null,
            "margin": null,
            "max_height": null,
            "max_width": null,
            "min_height": null,
            "min_width": null,
            "object_fit": null,
            "object_position": null,
            "order": null,
            "overflow": null,
            "overflow_x": null,
            "overflow_y": null,
            "padding": null,
            "right": null,
            "top": null,
            "visibility": null,
            "width": null
          }
        },
        "324f6f74b851415c842e87d9ad4c8586": {
          "model_module": "@jupyter-widgets/controls",
          "model_name": "ProgressStyleModel",
          "model_module_version": "1.5.0",
          "state": {
            "_model_module": "@jupyter-widgets/controls",
            "_model_module_version": "1.5.0",
            "_model_name": "ProgressStyleModel",
            "_view_count": null,
            "_view_module": "@jupyter-widgets/base",
            "_view_module_version": "1.2.0",
            "_view_name": "StyleView",
            "bar_color": null,
            "description_width": ""
          }
        },
        "b9f5726670754a5cb5b46196f1d29bb9": {
          "model_module": "@jupyter-widgets/base",
          "model_name": "LayoutModel",
          "model_module_version": "1.2.0",
          "state": {
            "_model_module": "@jupyter-widgets/base",
            "_model_module_version": "1.2.0",
            "_model_name": "LayoutModel",
            "_view_count": null,
            "_view_module": "@jupyter-widgets/base",
            "_view_module_version": "1.2.0",
            "_view_name": "LayoutView",
            "align_content": null,
            "align_items": null,
            "align_self": null,
            "border": null,
            "bottom": null,
            "display": null,
            "flex": null,
            "flex_flow": null,
            "grid_area": null,
            "grid_auto_columns": null,
            "grid_auto_flow": null,
            "grid_auto_rows": null,
            "grid_column": null,
            "grid_gap": null,
            "grid_row": null,
            "grid_template_areas": null,
            "grid_template_columns": null,
            "grid_template_rows": null,
            "height": null,
            "justify_content": null,
            "justify_items": null,
            "left": null,
            "margin": null,
            "max_height": null,
            "max_width": null,
            "min_height": null,
            "min_width": null,
            "object_fit": null,
            "object_position": null,
            "order": null,
            "overflow": null,
            "overflow_x": null,
            "overflow_y": null,
            "padding": null,
            "right": null,
            "top": null,
            "visibility": null,
            "width": null
          }
        },
        "498adfff17e14fd7996409cba761f64d": {
          "model_module": "@jupyter-widgets/controls",
          "model_name": "DescriptionStyleModel",
          "model_module_version": "1.5.0",
          "state": {
            "_model_module": "@jupyter-widgets/controls",
            "_model_module_version": "1.5.0",
            "_model_name": "DescriptionStyleModel",
            "_view_count": null,
            "_view_module": "@jupyter-widgets/base",
            "_view_module_version": "1.2.0",
            "_view_name": "StyleView",
            "description_width": ""
          }
        },
        "878df704618f4ce185bd3759cbe1602d": {
          "model_module": "@jupyter-widgets/controls",
          "model_name": "HBoxModel",
          "model_module_version": "1.5.0",
          "state": {
            "_dom_classes": [],
            "_model_module": "@jupyter-widgets/controls",
            "_model_module_version": "1.5.0",
            "_model_name": "HBoxModel",
            "_view_count": null,
            "_view_module": "@jupyter-widgets/controls",
            "_view_module_version": "1.5.0",
            "_view_name": "HBoxView",
            "box_style": "",
            "children": [
              "IPY_MODEL_63b0e1becf18481fa663bc44175f5e58",
              "IPY_MODEL_38d6cbb0b4864816be0ea189c2fbc879",
              "IPY_MODEL_f2e854e45bcb40ef87bc81f4fdeabd75"
            ],
            "layout": "IPY_MODEL_405dfb0f382c45e8839d4a3246039908"
          }
        },
        "63b0e1becf18481fa663bc44175f5e58": {
          "model_module": "@jupyter-widgets/controls",
          "model_name": "HTMLModel",
          "model_module_version": "1.5.0",
          "state": {
            "_dom_classes": [],
            "_model_module": "@jupyter-widgets/controls",
            "_model_module_version": "1.5.0",
            "_model_name": "HTMLModel",
            "_view_count": null,
            "_view_module": "@jupyter-widgets/controls",
            "_view_module_version": "1.5.0",
            "_view_name": "HTMLView",
            "description": "",
            "description_tooltip": null,
            "layout": "IPY_MODEL_2a91bb9476f54ea18fe7d8fb658432ad",
            "placeholder": "​",
            "style": "IPY_MODEL_1864e09329dd4015bce3dc0cda402a5e",
            "value": "Downloading (…)lve/main/config.json: 100%"
          }
        },
        "38d6cbb0b4864816be0ea189c2fbc879": {
          "model_module": "@jupyter-widgets/controls",
          "model_name": "FloatProgressModel",
          "model_module_version": "1.5.0",
          "state": {
            "_dom_classes": [],
            "_model_module": "@jupyter-widgets/controls",
            "_model_module_version": "1.5.0",
            "_model_name": "FloatProgressModel",
            "_view_count": null,
            "_view_module": "@jupyter-widgets/controls",
            "_view_module_version": "1.5.0",
            "_view_name": "ProgressView",
            "bar_style": "success",
            "description": "",
            "description_tooltip": null,
            "layout": "IPY_MODEL_76026d6930e546a5b9aa2dc8f6e259c1",
            "max": 570,
            "min": 0,
            "orientation": "horizontal",
            "style": "IPY_MODEL_7f2dbed8fe2c45fdb805d1a0f2b88c9a",
            "value": 570
          }
        },
        "f2e854e45bcb40ef87bc81f4fdeabd75": {
          "model_module": "@jupyter-widgets/controls",
          "model_name": "HTMLModel",
          "model_module_version": "1.5.0",
          "state": {
            "_dom_classes": [],
            "_model_module": "@jupyter-widgets/controls",
            "_model_module_version": "1.5.0",
            "_model_name": "HTMLModel",
            "_view_count": null,
            "_view_module": "@jupyter-widgets/controls",
            "_view_module_version": "1.5.0",
            "_view_name": "HTMLView",
            "description": "",
            "description_tooltip": null,
            "layout": "IPY_MODEL_91ba452c05cd40ec8d95cb767ac64e7f",
            "placeholder": "​",
            "style": "IPY_MODEL_00eab49398ab435a865109a53afe0d91",
            "value": " 570/570 [00:00&lt;00:00, 22.4kB/s]"
          }
        },
        "405dfb0f382c45e8839d4a3246039908": {
          "model_module": "@jupyter-widgets/base",
          "model_name": "LayoutModel",
          "model_module_version": "1.2.0",
          "state": {
            "_model_module": "@jupyter-widgets/base",
            "_model_module_version": "1.2.0",
            "_model_name": "LayoutModel",
            "_view_count": null,
            "_view_module": "@jupyter-widgets/base",
            "_view_module_version": "1.2.0",
            "_view_name": "LayoutView",
            "align_content": null,
            "align_items": null,
            "align_self": null,
            "border": null,
            "bottom": null,
            "display": null,
            "flex": null,
            "flex_flow": null,
            "grid_area": null,
            "grid_auto_columns": null,
            "grid_auto_flow": null,
            "grid_auto_rows": null,
            "grid_column": null,
            "grid_gap": null,
            "grid_row": null,
            "grid_template_areas": null,
            "grid_template_columns": null,
            "grid_template_rows": null,
            "height": null,
            "justify_content": null,
            "justify_items": null,
            "left": null,
            "margin": null,
            "max_height": null,
            "max_width": null,
            "min_height": null,
            "min_width": null,
            "object_fit": null,
            "object_position": null,
            "order": null,
            "overflow": null,
            "overflow_x": null,
            "overflow_y": null,
            "padding": null,
            "right": null,
            "top": null,
            "visibility": null,
            "width": null
          }
        },
        "2a91bb9476f54ea18fe7d8fb658432ad": {
          "model_module": "@jupyter-widgets/base",
          "model_name": "LayoutModel",
          "model_module_version": "1.2.0",
          "state": {
            "_model_module": "@jupyter-widgets/base",
            "_model_module_version": "1.2.0",
            "_model_name": "LayoutModel",
            "_view_count": null,
            "_view_module": "@jupyter-widgets/base",
            "_view_module_version": "1.2.0",
            "_view_name": "LayoutView",
            "align_content": null,
            "align_items": null,
            "align_self": null,
            "border": null,
            "bottom": null,
            "display": null,
            "flex": null,
            "flex_flow": null,
            "grid_area": null,
            "grid_auto_columns": null,
            "grid_auto_flow": null,
            "grid_auto_rows": null,
            "grid_column": null,
            "grid_gap": null,
            "grid_row": null,
            "grid_template_areas": null,
            "grid_template_columns": null,
            "grid_template_rows": null,
            "height": null,
            "justify_content": null,
            "justify_items": null,
            "left": null,
            "margin": null,
            "max_height": null,
            "max_width": null,
            "min_height": null,
            "min_width": null,
            "object_fit": null,
            "object_position": null,
            "order": null,
            "overflow": null,
            "overflow_x": null,
            "overflow_y": null,
            "padding": null,
            "right": null,
            "top": null,
            "visibility": null,
            "width": null
          }
        },
        "1864e09329dd4015bce3dc0cda402a5e": {
          "model_module": "@jupyter-widgets/controls",
          "model_name": "DescriptionStyleModel",
          "model_module_version": "1.5.0",
          "state": {
            "_model_module": "@jupyter-widgets/controls",
            "_model_module_version": "1.5.0",
            "_model_name": "DescriptionStyleModel",
            "_view_count": null,
            "_view_module": "@jupyter-widgets/base",
            "_view_module_version": "1.2.0",
            "_view_name": "StyleView",
            "description_width": ""
          }
        },
        "76026d6930e546a5b9aa2dc8f6e259c1": {
          "model_module": "@jupyter-widgets/base",
          "model_name": "LayoutModel",
          "model_module_version": "1.2.0",
          "state": {
            "_model_module": "@jupyter-widgets/base",
            "_model_module_version": "1.2.0",
            "_model_name": "LayoutModel",
            "_view_count": null,
            "_view_module": "@jupyter-widgets/base",
            "_view_module_version": "1.2.0",
            "_view_name": "LayoutView",
            "align_content": null,
            "align_items": null,
            "align_self": null,
            "border": null,
            "bottom": null,
            "display": null,
            "flex": null,
            "flex_flow": null,
            "grid_area": null,
            "grid_auto_columns": null,
            "grid_auto_flow": null,
            "grid_auto_rows": null,
            "grid_column": null,
            "grid_gap": null,
            "grid_row": null,
            "grid_template_areas": null,
            "grid_template_columns": null,
            "grid_template_rows": null,
            "height": null,
            "justify_content": null,
            "justify_items": null,
            "left": null,
            "margin": null,
            "max_height": null,
            "max_width": null,
            "min_height": null,
            "min_width": null,
            "object_fit": null,
            "object_position": null,
            "order": null,
            "overflow": null,
            "overflow_x": null,
            "overflow_y": null,
            "padding": null,
            "right": null,
            "top": null,
            "visibility": null,
            "width": null
          }
        },
        "7f2dbed8fe2c45fdb805d1a0f2b88c9a": {
          "model_module": "@jupyter-widgets/controls",
          "model_name": "ProgressStyleModel",
          "model_module_version": "1.5.0",
          "state": {
            "_model_module": "@jupyter-widgets/controls",
            "_model_module_version": "1.5.0",
            "_model_name": "ProgressStyleModel",
            "_view_count": null,
            "_view_module": "@jupyter-widgets/base",
            "_view_module_version": "1.2.0",
            "_view_name": "StyleView",
            "bar_color": null,
            "description_width": ""
          }
        },
        "91ba452c05cd40ec8d95cb767ac64e7f": {
          "model_module": "@jupyter-widgets/base",
          "model_name": "LayoutModel",
          "model_module_version": "1.2.0",
          "state": {
            "_model_module": "@jupyter-widgets/base",
            "_model_module_version": "1.2.0",
            "_model_name": "LayoutModel",
            "_view_count": null,
            "_view_module": "@jupyter-widgets/base",
            "_view_module_version": "1.2.0",
            "_view_name": "LayoutView",
            "align_content": null,
            "align_items": null,
            "align_self": null,
            "border": null,
            "bottom": null,
            "display": null,
            "flex": null,
            "flex_flow": null,
            "grid_area": null,
            "grid_auto_columns": null,
            "grid_auto_flow": null,
            "grid_auto_rows": null,
            "grid_column": null,
            "grid_gap": null,
            "grid_row": null,
            "grid_template_areas": null,
            "grid_template_columns": null,
            "grid_template_rows": null,
            "height": null,
            "justify_content": null,
            "justify_items": null,
            "left": null,
            "margin": null,
            "max_height": null,
            "max_width": null,
            "min_height": null,
            "min_width": null,
            "object_fit": null,
            "object_position": null,
            "order": null,
            "overflow": null,
            "overflow_x": null,
            "overflow_y": null,
            "padding": null,
            "right": null,
            "top": null,
            "visibility": null,
            "width": null
          }
        },
        "00eab49398ab435a865109a53afe0d91": {
          "model_module": "@jupyter-widgets/controls",
          "model_name": "DescriptionStyleModel",
          "model_module_version": "1.5.0",
          "state": {
            "_model_module": "@jupyter-widgets/controls",
            "_model_module_version": "1.5.0",
            "_model_name": "DescriptionStyleModel",
            "_view_count": null,
            "_view_module": "@jupyter-widgets/base",
            "_view_module_version": "1.2.0",
            "_view_name": "StyleView",
            "description_width": ""
          }
        },
        "3cf6ee0c6d0348d5813f451215e2fbdb": {
          "model_module": "@jupyter-widgets/controls",
          "model_name": "HBoxModel",
          "model_module_version": "1.5.0",
          "state": {
            "_dom_classes": [],
            "_model_module": "@jupyter-widgets/controls",
            "_model_module_version": "1.5.0",
            "_model_name": "HBoxModel",
            "_view_count": null,
            "_view_module": "@jupyter-widgets/controls",
            "_view_module_version": "1.5.0",
            "_view_name": "HBoxView",
            "box_style": "",
            "children": [
              "IPY_MODEL_0bb7b2e603124052975584f6c46030f4",
              "IPY_MODEL_0f4b1ce471464a4f86879b2c38e8ee44",
              "IPY_MODEL_b2d79907e6ea48d8ac2f5c2e5924464e"
            ],
            "layout": "IPY_MODEL_802bdfddefe241cda89ed8722d16ed9b"
          }
        },
        "0bb7b2e603124052975584f6c46030f4": {
          "model_module": "@jupyter-widgets/controls",
          "model_name": "HTMLModel",
          "model_module_version": "1.5.0",
          "state": {
            "_dom_classes": [],
            "_model_module": "@jupyter-widgets/controls",
            "_model_module_version": "1.5.0",
            "_model_name": "HTMLModel",
            "_view_count": null,
            "_view_module": "@jupyter-widgets/controls",
            "_view_module_version": "1.5.0",
            "_view_name": "HTMLView",
            "description": "",
            "description_tooltip": null,
            "layout": "IPY_MODEL_9f54b9f1051347bb9589d85da99f8df5",
            "placeholder": "​",
            "style": "IPY_MODEL_cebf03779226454fba16fb6a9da166da",
            "value": "Downloading (…)&quot;pytorch_model.bin&quot;;: 100%"
          }
        },
        "0f4b1ce471464a4f86879b2c38e8ee44": {
          "model_module": "@jupyter-widgets/controls",
          "model_name": "FloatProgressModel",
          "model_module_version": "1.5.0",
          "state": {
            "_dom_classes": [],
            "_model_module": "@jupyter-widgets/controls",
            "_model_module_version": "1.5.0",
            "_model_name": "FloatProgressModel",
            "_view_count": null,
            "_view_module": "@jupyter-widgets/controls",
            "_view_module_version": "1.5.0",
            "_view_name": "ProgressView",
            "bar_style": "success",
            "description": "",
            "description_tooltip": null,
            "layout": "IPY_MODEL_4c4a50a426f547c984b50902af9157f3",
            "max": 435779157,
            "min": 0,
            "orientation": "horizontal",
            "style": "IPY_MODEL_b644df5a38ad44a6b5c51d2d31faee7b",
            "value": 435779157
          }
        },
        "b2d79907e6ea48d8ac2f5c2e5924464e": {
          "model_module": "@jupyter-widgets/controls",
          "model_name": "HTMLModel",
          "model_module_version": "1.5.0",
          "state": {
            "_dom_classes": [],
            "_model_module": "@jupyter-widgets/controls",
            "_model_module_version": "1.5.0",
            "_model_name": "HTMLModel",
            "_view_count": null,
            "_view_module": "@jupyter-widgets/controls",
            "_view_module_version": "1.5.0",
            "_view_name": "HTMLView",
            "description": "",
            "description_tooltip": null,
            "layout": "IPY_MODEL_dc7586caa8a24a80861b1877c947f6f4",
            "placeholder": "​",
            "style": "IPY_MODEL_09d2641103a641d7a2e08504dd4d447c",
            "value": " 436M/436M [00:01&lt;00:00, 278MB/s]"
          }
        },
        "802bdfddefe241cda89ed8722d16ed9b": {
          "model_module": "@jupyter-widgets/base",
          "model_name": "LayoutModel",
          "model_module_version": "1.2.0",
          "state": {
            "_model_module": "@jupyter-widgets/base",
            "_model_module_version": "1.2.0",
            "_model_name": "LayoutModel",
            "_view_count": null,
            "_view_module": "@jupyter-widgets/base",
            "_view_module_version": "1.2.0",
            "_view_name": "LayoutView",
            "align_content": null,
            "align_items": null,
            "align_self": null,
            "border": null,
            "bottom": null,
            "display": null,
            "flex": null,
            "flex_flow": null,
            "grid_area": null,
            "grid_auto_columns": null,
            "grid_auto_flow": null,
            "grid_auto_rows": null,
            "grid_column": null,
            "grid_gap": null,
            "grid_row": null,
            "grid_template_areas": null,
            "grid_template_columns": null,
            "grid_template_rows": null,
            "height": null,
            "justify_content": null,
            "justify_items": null,
            "left": null,
            "margin": null,
            "max_height": null,
            "max_width": null,
            "min_height": null,
            "min_width": null,
            "object_fit": null,
            "object_position": null,
            "order": null,
            "overflow": null,
            "overflow_x": null,
            "overflow_y": null,
            "padding": null,
            "right": null,
            "top": null,
            "visibility": null,
            "width": null
          }
        },
        "9f54b9f1051347bb9589d85da99f8df5": {
          "model_module": "@jupyter-widgets/base",
          "model_name": "LayoutModel",
          "model_module_version": "1.2.0",
          "state": {
            "_model_module": "@jupyter-widgets/base",
            "_model_module_version": "1.2.0",
            "_model_name": "LayoutModel",
            "_view_count": null,
            "_view_module": "@jupyter-widgets/base",
            "_view_module_version": "1.2.0",
            "_view_name": "LayoutView",
            "align_content": null,
            "align_items": null,
            "align_self": null,
            "border": null,
            "bottom": null,
            "display": null,
            "flex": null,
            "flex_flow": null,
            "grid_area": null,
            "grid_auto_columns": null,
            "grid_auto_flow": null,
            "grid_auto_rows": null,
            "grid_column": null,
            "grid_gap": null,
            "grid_row": null,
            "grid_template_areas": null,
            "grid_template_columns": null,
            "grid_template_rows": null,
            "height": null,
            "justify_content": null,
            "justify_items": null,
            "left": null,
            "margin": null,
            "max_height": null,
            "max_width": null,
            "min_height": null,
            "min_width": null,
            "object_fit": null,
            "object_position": null,
            "order": null,
            "overflow": null,
            "overflow_x": null,
            "overflow_y": null,
            "padding": null,
            "right": null,
            "top": null,
            "visibility": null,
            "width": null
          }
        },
        "cebf03779226454fba16fb6a9da166da": {
          "model_module": "@jupyter-widgets/controls",
          "model_name": "DescriptionStyleModel",
          "model_module_version": "1.5.0",
          "state": {
            "_model_module": "@jupyter-widgets/controls",
            "_model_module_version": "1.5.0",
            "_model_name": "DescriptionStyleModel",
            "_view_count": null,
            "_view_module": "@jupyter-widgets/base",
            "_view_module_version": "1.2.0",
            "_view_name": "StyleView",
            "description_width": ""
          }
        },
        "4c4a50a426f547c984b50902af9157f3": {
          "model_module": "@jupyter-widgets/base",
          "model_name": "LayoutModel",
          "model_module_version": "1.2.0",
          "state": {
            "_model_module": "@jupyter-widgets/base",
            "_model_module_version": "1.2.0",
            "_model_name": "LayoutModel",
            "_view_count": null,
            "_view_module": "@jupyter-widgets/base",
            "_view_module_version": "1.2.0",
            "_view_name": "LayoutView",
            "align_content": null,
            "align_items": null,
            "align_self": null,
            "border": null,
            "bottom": null,
            "display": null,
            "flex": null,
            "flex_flow": null,
            "grid_area": null,
            "grid_auto_columns": null,
            "grid_auto_flow": null,
            "grid_auto_rows": null,
            "grid_column": null,
            "grid_gap": null,
            "grid_row": null,
            "grid_template_areas": null,
            "grid_template_columns": null,
            "grid_template_rows": null,
            "height": null,
            "justify_content": null,
            "justify_items": null,
            "left": null,
            "margin": null,
            "max_height": null,
            "max_width": null,
            "min_height": null,
            "min_width": null,
            "object_fit": null,
            "object_position": null,
            "order": null,
            "overflow": null,
            "overflow_x": null,
            "overflow_y": null,
            "padding": null,
            "right": null,
            "top": null,
            "visibility": null,
            "width": null
          }
        },
        "b644df5a38ad44a6b5c51d2d31faee7b": {
          "model_module": "@jupyter-widgets/controls",
          "model_name": "ProgressStyleModel",
          "model_module_version": "1.5.0",
          "state": {
            "_model_module": "@jupyter-widgets/controls",
            "_model_module_version": "1.5.0",
            "_model_name": "ProgressStyleModel",
            "_view_count": null,
            "_view_module": "@jupyter-widgets/base",
            "_view_module_version": "1.2.0",
            "_view_name": "StyleView",
            "bar_color": null,
            "description_width": ""
          }
        },
        "dc7586caa8a24a80861b1877c947f6f4": {
          "model_module": "@jupyter-widgets/base",
          "model_name": "LayoutModel",
          "model_module_version": "1.2.0",
          "state": {
            "_model_module": "@jupyter-widgets/base",
            "_model_module_version": "1.2.0",
            "_model_name": "LayoutModel",
            "_view_count": null,
            "_view_module": "@jupyter-widgets/base",
            "_view_module_version": "1.2.0",
            "_view_name": "LayoutView",
            "align_content": null,
            "align_items": null,
            "align_self": null,
            "border": null,
            "bottom": null,
            "display": null,
            "flex": null,
            "flex_flow": null,
            "grid_area": null,
            "grid_auto_columns": null,
            "grid_auto_flow": null,
            "grid_auto_rows": null,
            "grid_column": null,
            "grid_gap": null,
            "grid_row": null,
            "grid_template_areas": null,
            "grid_template_columns": null,
            "grid_template_rows": null,
            "height": null,
            "justify_content": null,
            "justify_items": null,
            "left": null,
            "margin": null,
            "max_height": null,
            "max_width": null,
            "min_height": null,
            "min_width": null,
            "object_fit": null,
            "object_position": null,
            "order": null,
            "overflow": null,
            "overflow_x": null,
            "overflow_y": null,
            "padding": null,
            "right": null,
            "top": null,
            "visibility": null,
            "width": null
          }
        },
        "09d2641103a641d7a2e08504dd4d447c": {
          "model_module": "@jupyter-widgets/controls",
          "model_name": "DescriptionStyleModel",
          "model_module_version": "1.5.0",
          "state": {
            "_model_module": "@jupyter-widgets/controls",
            "_model_module_version": "1.5.0",
            "_model_name": "DescriptionStyleModel",
            "_view_count": null,
            "_view_module": "@jupyter-widgets/base",
            "_view_module_version": "1.2.0",
            "_view_name": "StyleView",
            "description_width": ""
          }
        }
      }
    }
  },
  "nbformat": 4,
  "nbformat_minor": 0
}